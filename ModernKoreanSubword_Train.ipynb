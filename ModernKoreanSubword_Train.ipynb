{
 "cells": [
  {
   "cell_type": "markdown",
   "metadata": {
    "colab_type": "text",
    "id": "view-in-github"
   },
   "source": [
    "<a href=\"https://colab.research.google.com/github/ByungjunKim/ModernKoreanSubword/blob/main/ModernKoreanSubword_Train.ipynb\" target=\"_parent\"><img src=\"https://colab.research.google.com/assets/colab-badge.svg\" alt=\"Open In Colab\"/></a>"
   ]
  },
  {
   "cell_type": "markdown",
   "metadata": {
    "id": "J0SDHrHgdyTN"
   },
   "source": [
    "# 근대 한국어 서브워드 형태소 분석기 학습"
   ]
  },
  {
   "cell_type": "markdown",
   "metadata": {
    "id": "2e7SnyYRinXo"
   },
   "source": [
    "### 서브워드 학습 준비"
   ]
  },
  {
   "cell_type": "code",
   "execution_count": 52,
   "metadata": {
    "id": "JXLd3XvGhn0H"
   },
   "outputs": [],
   "source": [
    "import pandas as pd\n",
    "\n",
    "# kiwi 로드\n",
    "from kiwipiepy import Kiwi\n",
    "kiwi = Kiwi()\n",
    "from kiwipiepy.sw_tokenizer import SwTokenizer\n",
    "from kiwipiepy.sw_tokenizer import SwTokenizerConfig\n",
    "import gc\n",
    "import hanja\n",
    "import pickle"
   ]
  },
  {
   "cell_type": "code",
   "execution_count": 2,
   "metadata": {},
   "outputs": [
    {
     "data": {
      "text/html": [
       "<div>\n",
       "<style scoped>\n",
       "    .dataframe tbody tr th:only-of-type {\n",
       "        vertical-align: middle;\n",
       "    }\n",
       "\n",
       "    .dataframe tbody tr th {\n",
       "        vertical-align: top;\n",
       "    }\n",
       "\n",
       "    .dataframe thead th {\n",
       "        text-align: right;\n",
       "    }\n",
       "</style>\n",
       "<table border=\"1\" class=\"dataframe\">\n",
       "  <thead>\n",
       "    <tr style=\"text-align: right;\">\n",
       "      <th></th>\n",
       "      <th>level3id</th>\n",
       "      <th>mainTitle_x</th>\n",
       "      <th>subjectClass</th>\n",
       "      <th>pTitle</th>\n",
       "      <th>paragraph</th>\n",
       "      <th>level2id</th>\n",
       "      <th>level1id</th>\n",
       "      <th>mainTitle_y</th>\n",
       "      <th>publisher_x</th>\n",
       "      <th>dateIssued_x</th>\n",
       "      <th>mainTitle</th>\n",
       "      <th>publisher_y</th>\n",
       "      <th>dateIssued_y</th>\n",
       "    </tr>\n",
       "  </thead>\n",
       "  <tbody>\n",
       "    <tr>\n",
       "      <th>0</th>\n",
       "      <td>ma_061_0010_0010</td>\n",
       "      <td>卷頭一聲</td>\n",
       "      <td></td>\n",
       "      <td>卷頭一聲</td>\n",
       "      <td>\\n卷頭一聲\\n又影生\\n</td>\n",
       "      <td>ma_061_0010</td>\n",
       "      <td>ma_061</td>\n",
       "      <td>공제 제1호</td>\n",
       "      <td></td>\n",
       "      <td>1920-09-10</td>\n",
       "      <td>공제</td>\n",
       "      <td></td>\n",
       "      <td>1920-09-10</td>\n",
       "    </tr>\n",
       "    <tr>\n",
       "      <th>1</th>\n",
       "      <td>ma_061_0010_0020</td>\n",
       "      <td>創刊辭</td>\n",
       "      <td></td>\n",
       "      <td>創刊辭</td>\n",
       "      <td>\\n創刊辭\\n</td>\n",
       "      <td>ma_061_0010</td>\n",
       "      <td>ma_061</td>\n",
       "      <td>공제 제1호</td>\n",
       "      <td></td>\n",
       "      <td>1920-09-10</td>\n",
       "      <td>공제</td>\n",
       "      <td></td>\n",
       "      <td>1920-09-10</td>\n",
       "    </tr>\n",
       "    <tr>\n",
       "      <th>2</th>\n",
       "      <td>ma_061_0010_0030</td>\n",
       "      <td>勞働萬能論</td>\n",
       "      <td></td>\n",
       "      <td>勞働萬能論</td>\n",
       "      <td>\\n勞働萬能論\\n趙誠惇\\n</td>\n",
       "      <td>ma_061_0010</td>\n",
       "      <td>ma_061</td>\n",
       "      <td>공제 제1호</td>\n",
       "      <td></td>\n",
       "      <td>1920-09-10</td>\n",
       "      <td>공제</td>\n",
       "      <td></td>\n",
       "      <td>1920-09-10</td>\n",
       "    </tr>\n",
       "    <tr>\n",
       "      <th>3</th>\n",
       "      <td>ma_061_0010_0040</td>\n",
       "      <td>勞働化하라</td>\n",
       "      <td></td>\n",
       "      <td>勞働化하라</td>\n",
       "      <td>\\n勞働化하라\\n南相協\\n</td>\n",
       "      <td>ma_061_0010</td>\n",
       "      <td>ma_061</td>\n",
       "      <td>공제 제1호</td>\n",
       "      <td></td>\n",
       "      <td>1920-09-10</td>\n",
       "      <td>공제</td>\n",
       "      <td></td>\n",
       "      <td>1920-09-10</td>\n",
       "    </tr>\n",
       "    <tr>\n",
       "      <th>4</th>\n",
       "      <td>ma_061_0010_0050</td>\n",
       "      <td>勞働問題는 社會의 根本問題이라</td>\n",
       "      <td></td>\n",
       "      <td>勞働問題는 社會의 根本問題이라</td>\n",
       "      <td>\\n勞働問題는 社會의 根本問題이라\\n金明植\\n</td>\n",
       "      <td>ma_061_0010</td>\n",
       "      <td>ma_061</td>\n",
       "      <td>공제 제1호</td>\n",
       "      <td></td>\n",
       "      <td>1920-09-10</td>\n",
       "      <td>공제</td>\n",
       "      <td></td>\n",
       "      <td>1920-09-10</td>\n",
       "    </tr>\n",
       "    <tr>\n",
       "      <th>...</th>\n",
       "      <td>...</td>\n",
       "      <td>...</td>\n",
       "      <td>...</td>\n",
       "      <td>...</td>\n",
       "      <td>...</td>\n",
       "      <td>...</td>\n",
       "      <td>...</td>\n",
       "      <td>...</td>\n",
       "      <td>...</td>\n",
       "      <td>...</td>\n",
       "      <td>...</td>\n",
       "      <td>...</td>\n",
       "      <td>...</td>\n",
       "    </tr>\n",
       "    <tr>\n",
       "      <th>588569</th>\n",
       "      <td>ma_089_0040_0110</td>\n",
       "      <td>쏘위엣트 露西亞의 붉은 新聞</td>\n",
       "      <td></td>\n",
       "      <td>쏘위엣트 露西亞의 붉은 新聞</td>\n",
       "      <td>\\n쏘위엣트 露西亞의 붉은 新聞\\n金世鎔\\n</td>\n",
       "      <td>ma_089_0040</td>\n",
       "      <td>ma_089</td>\n",
       "      <td>철필 제2권 제1호</td>\n",
       "      <td></td>\n",
       "      <td>1931-01-11</td>\n",
       "      <td>철필</td>\n",
       "      <td></td>\n",
       "      <td>1930-07-09</td>\n",
       "    </tr>\n",
       "    <tr>\n",
       "      <th>588570</th>\n",
       "      <td>ma_089_0040_0120</td>\n",
       "      <td>獨逸及英國 新聞界 巡訪印象</td>\n",
       "      <td></td>\n",
       "      <td>獨逸及英國 新聞界 巡訪印象</td>\n",
       "      <td>\\n獨逸及英國 新聞界 巡訪印象\\n金賢準\\n</td>\n",
       "      <td>ma_089_0040</td>\n",
       "      <td>ma_089</td>\n",
       "      <td>철필 제2권 제1호</td>\n",
       "      <td></td>\n",
       "      <td>1931-01-11</td>\n",
       "      <td>철필</td>\n",
       "      <td></td>\n",
       "      <td>1930-07-09</td>\n",
       "    </tr>\n",
       "    <tr>\n",
       "      <th>588571</th>\n",
       "      <td>ma_089_0040_0130</td>\n",
       "      <td>三大新聞社 人材巡禮</td>\n",
       "      <td></td>\n",
       "      <td>三大新聞社 人材巡禮</td>\n",
       "      <td>\\n三大新聞社 人材巡禮\\n覆面記者\\n</td>\n",
       "      <td>ma_089_0040</td>\n",
       "      <td>ma_089</td>\n",
       "      <td>철필 제2권 제1호</td>\n",
       "      <td></td>\n",
       "      <td>1931-01-11</td>\n",
       "      <td>철필</td>\n",
       "      <td></td>\n",
       "      <td>1930-07-09</td>\n",
       "    </tr>\n",
       "    <tr>\n",
       "      <th>588572</th>\n",
       "      <td>ma_089_0040_0140</td>\n",
       "      <td>新聞語辭典</td>\n",
       "      <td></td>\n",
       "      <td>新聞語辭典</td>\n",
       "      <td>\\n新聞語辭典\\n編輯部\\n</td>\n",
       "      <td>ma_089_0040</td>\n",
       "      <td>ma_089</td>\n",
       "      <td>철필 제2권 제1호</td>\n",
       "      <td></td>\n",
       "      <td>1931-01-11</td>\n",
       "      <td>철필</td>\n",
       "      <td></td>\n",
       "      <td>1930-07-09</td>\n",
       "    </tr>\n",
       "    <tr>\n",
       "      <th>588573</th>\n",
       "      <td>ma_089_0040_0150</td>\n",
       "      <td>新聞講座</td>\n",
       "      <td></td>\n",
       "      <td>新聞講座</td>\n",
       "      <td>\\n新聞講座\\n編輯部\\n</td>\n",
       "      <td>ma_089_0040</td>\n",
       "      <td>ma_089</td>\n",
       "      <td>철필 제2권 제1호</td>\n",
       "      <td></td>\n",
       "      <td>1931-01-11</td>\n",
       "      <td>철필</td>\n",
       "      <td></td>\n",
       "      <td>1930-07-09</td>\n",
       "    </tr>\n",
       "  </tbody>\n",
       "</table>\n",
       "<p>588574 rows × 13 columns</p>\n",
       "</div>"
      ],
      "text/plain": [
       "                level3id       mainTitle_x subjectClass            pTitle  \\\n",
       "0       ma_061_0010_0010              卷頭一聲                           卷頭一聲   \n",
       "1       ma_061_0010_0020               創刊辭                            創刊辭   \n",
       "2       ma_061_0010_0030             勞働萬能論                          勞働萬能論   \n",
       "3       ma_061_0010_0040             勞働化하라                          勞働化하라   \n",
       "4       ma_061_0010_0050  勞働問題는 社會의 根本問題이라               勞働問題는 社會의 根本問題이라   \n",
       "...                  ...               ...          ...               ...   \n",
       "588569  ma_089_0040_0110   쏘위엣트 露西亞의 붉은 新聞                쏘위엣트 露西亞의 붉은 新聞   \n",
       "588570  ma_089_0040_0120    獨逸及英國 新聞界 巡訪印象                 獨逸及英國 新聞界 巡訪印象   \n",
       "588571  ma_089_0040_0130        三大新聞社 人材巡禮                     三大新聞社 人材巡禮   \n",
       "588572  ma_089_0040_0140             新聞語辭典                          新聞語辭典   \n",
       "588573  ma_089_0040_0150              新聞講座                           新聞講座   \n",
       "\n",
       "                        paragraph     level2id level1id mainTitle_y  \\\n",
       "0                   \\n卷頭一聲\\n又影生\\n  ma_061_0010   ma_061      공제 제1호   \n",
       "1                         \\n創刊辭\\n  ma_061_0010   ma_061      공제 제1호   \n",
       "2                  \\n勞働萬能論\\n趙誠惇\\n  ma_061_0010   ma_061      공제 제1호   \n",
       "3                  \\n勞働化하라\\n南相協\\n  ma_061_0010   ma_061      공제 제1호   \n",
       "4       \\n勞働問題는 社會의 根本問題이라\\n金明植\\n  ma_061_0010   ma_061      공제 제1호   \n",
       "...                           ...          ...      ...         ...   \n",
       "588569   \\n쏘위엣트 露西亞의 붉은 新聞\\n金世鎔\\n  ma_089_0040   ma_089  철필 제2권 제1호   \n",
       "588570    \\n獨逸及英國 新聞界 巡訪印象\\n金賢準\\n  ma_089_0040   ma_089  철필 제2권 제1호   \n",
       "588571       \\n三大新聞社 人材巡禮\\n覆面記者\\n  ma_089_0040   ma_089  철필 제2권 제1호   \n",
       "588572             \\n新聞語辭典\\n編輯部\\n  ma_089_0040   ma_089  철필 제2권 제1호   \n",
       "588573              \\n新聞講座\\n編輯部\\n  ma_089_0040   ma_089  철필 제2권 제1호   \n",
       "\n",
       "       publisher_x dateIssued_x mainTitle publisher_y dateIssued_y  \n",
       "0                    1920-09-10        공제               1920-09-10  \n",
       "1                    1920-09-10        공제               1920-09-10  \n",
       "2                    1920-09-10        공제               1920-09-10  \n",
       "3                    1920-09-10        공제               1920-09-10  \n",
       "4                    1920-09-10        공제               1920-09-10  \n",
       "...            ...          ...       ...         ...          ...  \n",
       "588569               1931-01-11        철필               1930-07-09  \n",
       "588570               1931-01-11        철필               1930-07-09  \n",
       "588571               1931-01-11        철필               1930-07-09  \n",
       "588572               1931-01-11        철필               1930-07-09  \n",
       "588573               1931-01-11        철필               1930-07-09  \n",
       "\n",
       "[588574 rows x 13 columns]"
      ]
     },
     "execution_count": 2,
     "metadata": {},
     "output_type": "execute_result"
    }
   ],
   "source": [
    "# 근대 잡지\n",
    "mag = pd.read_pickle('./한국근현대잡지자료.pickle')\n",
    "mag"
   ]
  },
  {
   "cell_type": "code",
   "execution_count": 3,
   "metadata": {},
   "outputs": [],
   "source": [
    "mag_paragraph = mag['paragraph'].tolist()"
   ]
  },
  {
   "cell_type": "code",
   "execution_count": 4,
   "metadata": {},
   "outputs": [],
   "source": [
    "del mag"
   ]
  },
  {
   "cell_type": "code",
   "execution_count": 5,
   "metadata": {},
   "outputs": [],
   "source": [
    "chosun = pd.read_parquet('/mnt/hdd/bjkim/ModernConcept/chosun_preprocessed.parquet',columns=['year','type','body_archaic'])"
   ]
  },
  {
   "cell_type": "code",
   "execution_count": 8,
   "metadata": {},
   "outputs": [
    {
     "data": {
      "text/html": [
       "<div>\n",
       "<style scoped>\n",
       "    .dataframe tbody tr th:only-of-type {\n",
       "        vertical-align: middle;\n",
       "    }\n",
       "\n",
       "    .dataframe tbody tr th {\n",
       "        vertical-align: top;\n",
       "    }\n",
       "\n",
       "    .dataframe thead th {\n",
       "        text-align: right;\n",
       "    }\n",
       "</style>\n",
       "<table border=\"1\" class=\"dataframe\">\n",
       "  <thead>\n",
       "    <tr style=\"text-align: right;\">\n",
       "      <th></th>\n",
       "      <th>year</th>\n",
       "      <th>type</th>\n",
       "      <th>body_archaic</th>\n",
       "    </tr>\n",
       "  </thead>\n",
       "  <tbody>\n",
       "    <tr>\n",
       "      <th>0</th>\n",
       "      <td>1920</td>\n",
       "      <td>smallad</td>\n",
       "      <td>祝 …朝；蘚 n 報創 刊\\n趙… . … . 命· 九\\n</td>\n",
       "    </tr>\n",
       "    <tr>\n",
       "      <th>4</th>\n",
       "      <td>1920</td>\n",
       "      <td>article</td>\n",
       "      <td>朝鮮日報\\n創刊을祝함\\n候爵 大隈重信\\n朝鮮合邦以來歲를閱한지玆에十年이되鮮人의自營하난...</td>\n",
       "    </tr>\n",
       "    <tr>\n",
       "      <th>5</th>\n",
       "      <td>1920</td>\n",
       "      <td>article</td>\n",
       "      <td>朝鮮現下의\\n工業狀態\\n를鑑하야振興策\\n을一二를言함\\n朝鮮의工業으로言하면從來此를賤視...</td>\n",
       "    </tr>\n",
       "    <tr>\n",
       "      <th>6</th>\n",
       "      <td>1920</td>\n",
       "      <td>etc</td>\n",
       "      <td>祝詞와祝電\\n</td>\n",
       "    </tr>\n",
       "    <tr>\n",
       "      <th>7</th>\n",
       "      <td>1920</td>\n",
       "      <td>article</td>\n",
       "      <td>大正八年朝鮮貿易槪况(一)\\n(朝鮮總督府財務局調査)\\n一,總况\\n大正八年朝鮮貿易額은輸...</td>\n",
       "    </tr>\n",
       "    <tr>\n",
       "      <th>...</th>\n",
       "      <td>...</td>\n",
       "      <td>...</td>\n",
       "      <td>...</td>\n",
       "    </tr>\n",
       "    <tr>\n",
       "      <th>4679014</th>\n",
       "      <td>1999</td>\n",
       "      <td>article</td>\n",
       "      <td>폐품 할머니\\n40년간 고물 수집\\n외대 1억 기증후 타계\\n 지난 7월 장경자(張...</td>\n",
       "    </tr>\n",
       "    <tr>\n",
       "      <th>4679015</th>\n",
       "      <td>1999</td>\n",
       "      <td>article</td>\n",
       "      <td>고시준비생 장학금\\n외대에 3억원 전달\\n商街주인 할머니\\n 지난 14일힐튼호텔 컨...</td>\n",
       "    </tr>\n",
       "    <tr>\n",
       "      <th>4679016</th>\n",
       "      <td>1999</td>\n",
       "      <td>article</td>\n",
       "      <td>“1900년에 출두하시오”\\n수원지법 컴퓨터‘Y2K’\\n피고인에 엉뚱한 소환장\\n ...</td>\n",
       "    </tr>\n",
       "    <tr>\n",
       "      <th>4679017</th>\n",
       "      <td>1999</td>\n",
       "      <td>photo</td>\n",
       "      <td>◇故장경자씨\\n</td>\n",
       "    </tr>\n",
       "    <tr>\n",
       "      <th>4679018</th>\n",
       "      <td>1999</td>\n",
       "      <td>article</td>\n",
       "      <td>콩나물 장사 30여년\\n충북대 12억건물 기증\\n콩나물 할머니\\n “모든 걸주고 나...</td>\n",
       "    </tr>\n",
       "  </tbody>\n",
       "</table>\n",
       "<p>3419546 rows × 3 columns</p>\n",
       "</div>"
      ],
      "text/plain": [
       "         year     type                                       body_archaic\n",
       "0        1920  smallad                     祝 …朝；蘚 n 報創 刊\\n趙… . … . 命· 九\\n\n",
       "4        1920  article  朝鮮日報\\n創刊을祝함\\n候爵 大隈重信\\n朝鮮合邦以來歲를閱한지玆에十年이되鮮人의自營하난...\n",
       "5        1920  article  朝鮮現下의\\n工業狀態\\n를鑑하야振興策\\n을一二를言함\\n朝鮮의工業으로言하면從來此를賤視...\n",
       "6        1920      etc                                            祝詞와祝電\\n\n",
       "7        1920  article  大正八年朝鮮貿易槪况(一)\\n(朝鮮總督府財務局調査)\\n一,總况\\n大正八年朝鮮貿易額은輸...\n",
       "...       ...      ...                                                ...\n",
       "4679014  1999  article  폐품 할머니\\n40년간 고물 수집\\n외대 1억 기증후 타계\\n 지난 7월 장경자(張...\n",
       "4679015  1999  article  고시준비생 장학금\\n외대에 3억원 전달\\n商街주인 할머니\\n 지난 14일힐튼호텔 컨...\n",
       "4679016  1999  article  “1900년에 출두하시오”\\n수원지법 컴퓨터‘Y2K’\\n피고인에 엉뚱한 소환장\\n ...\n",
       "4679017  1999    photo                                           ◇故장경자씨\\n\n",
       "4679018  1999  article  콩나물 장사 30여년\\n충북대 12억건물 기증\\n콩나물 할머니\\n “모든 걸주고 나...\n",
       "\n",
       "[3419546 rows x 3 columns]"
      ]
     },
     "execution_count": 8,
     "metadata": {},
     "output_type": "execute_result"
    }
   ],
   "source": [
    "chosun = chosun.dropna()\n",
    "chosun"
   ]
  },
  {
   "cell_type": "code",
   "execution_count": 9,
   "metadata": {},
   "outputs": [
    {
     "data": {
      "text/html": [
       "<div>\n",
       "<style scoped>\n",
       "    .dataframe tbody tr th:only-of-type {\n",
       "        vertical-align: middle;\n",
       "    }\n",
       "\n",
       "    .dataframe tbody tr th {\n",
       "        vertical-align: top;\n",
       "    }\n",
       "\n",
       "    .dataframe thead th {\n",
       "        text-align: right;\n",
       "    }\n",
       "</style>\n",
       "<table border=\"1\" class=\"dataframe\">\n",
       "  <thead>\n",
       "    <tr style=\"text-align: right;\">\n",
       "      <th></th>\n",
       "      <th>year</th>\n",
       "      <th>type</th>\n",
       "      <th>body_archaic</th>\n",
       "    </tr>\n",
       "  </thead>\n",
       "  <tbody>\n",
       "    <tr>\n",
       "      <th>0</th>\n",
       "      <td>1920</td>\n",
       "      <td>smallad</td>\n",
       "      <td>祝 …朝；蘚 n 報創 刊\\n趙… . … . 命· 九\\n</td>\n",
       "    </tr>\n",
       "    <tr>\n",
       "      <th>1</th>\n",
       "      <td>1920</td>\n",
       "      <td>article</td>\n",
       "      <td>朝鮮日報\\n創刊을祝함\\n候爵 大隈重信\\n朝鮮合邦以來歲를閱한지玆에十年이되鮮人의自營하난...</td>\n",
       "    </tr>\n",
       "    <tr>\n",
       "      <th>2</th>\n",
       "      <td>1920</td>\n",
       "      <td>article</td>\n",
       "      <td>朝鮮現下의\\n工業狀態\\n를鑑하야振興策\\n을一二를言함\\n朝鮮의工業으로言하면從來此를賤視...</td>\n",
       "    </tr>\n",
       "    <tr>\n",
       "      <th>3</th>\n",
       "      <td>1920</td>\n",
       "      <td>etc</td>\n",
       "      <td>祝詞와祝電\\n</td>\n",
       "    </tr>\n",
       "    <tr>\n",
       "      <th>4</th>\n",
       "      <td>1920</td>\n",
       "      <td>article</td>\n",
       "      <td>大正八年朝鮮貿易槪况(一)\\n(朝鮮總督府財務局調査)\\n一,總况\\n大正八年朝鮮貿易額은輸...</td>\n",
       "    </tr>\n",
       "    <tr>\n",
       "      <th>...</th>\n",
       "      <td>...</td>\n",
       "      <td>...</td>\n",
       "      <td>...</td>\n",
       "    </tr>\n",
       "    <tr>\n",
       "      <th>930051</th>\n",
       "      <td>1940</td>\n",
       "      <td>article</td>\n",
       "      <td>各界人物招致\\n首相,意見交換豫定\\n【東京電話同盟】新體制確立에關하여 그根本原理組織方法...</td>\n",
       "    </tr>\n",
       "    <tr>\n",
       "      <th>930052</th>\n",
       "      <td>1940</td>\n",
       "      <td>article</td>\n",
       "      <td>臨時家族手當\\n十月부터實施决定\\n【東京電話同盟】政府는 九日閣議에서 下級官吏에 臨時家...</td>\n",
       "    </tr>\n",
       "    <tr>\n",
       "      <th>930053</th>\n",
       "      <td>1940</td>\n",
       "      <td>article</td>\n",
       "      <td>外相,首相과會談\\n【東京電話同盟】松岡外相은 九日定例閣議散會後 首相官邸에남어 近衞首相...</td>\n",
       "    </tr>\n",
       "    <tr>\n",
       "      <th>930054</th>\n",
       "      <td>1940</td>\n",
       "      <td>article</td>\n",
       "      <td>人事·集會\\n▲朱□宜氏(前普成中學校長)退任人事次十日來社\\n▲鈴木文次郞氏(全朝鮮洋服商...</td>\n",
       "    </tr>\n",
       "    <tr>\n",
       "      <th>930055</th>\n",
       "      <td>1940</td>\n",
       "      <td>article</td>\n",
       "      <td>洞庭湖銃砲擊\\n【漢口九日發同盟】中支艦隊報道部 八月九日午後四時發表=\\n一,江上艦隊一部...</td>\n",
       "    </tr>\n",
       "  </tbody>\n",
       "</table>\n",
       "<p>930056 rows × 3 columns</p>\n",
       "</div>"
      ],
      "text/plain": [
       "        year     type                                       body_archaic\n",
       "0       1920  smallad                     祝 …朝；蘚 n 報創 刊\\n趙… . … . 命· 九\\n\n",
       "1       1920  article  朝鮮日報\\n創刊을祝함\\n候爵 大隈重信\\n朝鮮合邦以來歲를閱한지玆에十年이되鮮人의自營하난...\n",
       "2       1920  article  朝鮮現下의\\n工業狀態\\n를鑑하야振興策\\n을一二를言함\\n朝鮮의工業으로言하면從來此를賤視...\n",
       "3       1920      etc                                            祝詞와祝電\\n\n",
       "4       1920  article  大正八年朝鮮貿易槪况(一)\\n(朝鮮總督府財務局調査)\\n一,總况\\n大正八年朝鮮貿易額은輸...\n",
       "...      ...      ...                                                ...\n",
       "930051  1940  article  各界人物招致\\n首相,意見交換豫定\\n【東京電話同盟】新體制確立에關하여 그根本原理組織方法...\n",
       "930052  1940  article  臨時家族手當\\n十月부터實施决定\\n【東京電話同盟】政府는 九日閣議에서 下級官吏에 臨時家...\n",
       "930053  1940  article  外相,首相과會談\\n【東京電話同盟】松岡外相은 九日定例閣議散會後 首相官邸에남어 近衞首相...\n",
       "930054  1940  article  人事·集會\\n▲朱□宜氏(前普成中學校長)退任人事次十日來社\\n▲鈴木文次郞氏(全朝鮮洋服商...\n",
       "930055  1940  article  洞庭湖銃砲擊\\n【漢口九日發同盟】中支艦隊報道部 八月九日午後四時發表=\\n一,江上艦隊一部...\n",
       "\n",
       "[930056 rows x 3 columns]"
      ]
     },
     "execution_count": 9,
     "metadata": {},
     "output_type": "execute_result"
    }
   ],
   "source": [
    "chosun = chosun[chosun['year']<=1940].reset_index(drop=True)\n",
    "chosun"
   ]
  },
  {
   "cell_type": "code",
   "execution_count": 10,
   "metadata": {},
   "outputs": [],
   "source": [
    "# br 태그 삭제\n",
    "chosun['body_archaic'] = chosun['body_archaic'].str.replace('</br>','')"
   ]
  },
  {
   "cell_type": "code",
   "execution_count": 11,
   "metadata": {},
   "outputs": [],
   "source": [
    "# 【三十日東京特電】 처럼 특파원 삭제\n",
    "chosun['body_archaic'] = chosun['body_archaic'].str.replace('\\【.+\\】','',regex=True)"
   ]
  },
  {
   "cell_type": "code",
   "execution_count": 12,
   "metadata": {},
   "outputs": [],
   "source": [
    "chosun = chosun.dropna(subset=['body_archaic']).reset_index(drop=True)"
   ]
  },
  {
   "cell_type": "code",
   "execution_count": 14,
   "metadata": {},
   "outputs": [],
   "source": [
    "chosun_paragraph = chosun['body_archaic'].tolist()"
   ]
  },
  {
   "cell_type": "code",
   "execution_count": 15,
   "metadata": {},
   "outputs": [],
   "source": [
    "del chosun"
   ]
  },
  {
   "cell_type": "code",
   "execution_count": 18,
   "metadata": {},
   "outputs": [
    {
     "data": {
      "text/html": [
       "<div>\n",
       "<style scoped>\n",
       "    .dataframe tbody tr th:only-of-type {\n",
       "        vertical-align: middle;\n",
       "    }\n",
       "\n",
       "    .dataframe tbody tr th {\n",
       "        vertical-align: top;\n",
       "    }\n",
       "\n",
       "    .dataframe thead th {\n",
       "        text-align: right;\n",
       "    }\n",
       "</style>\n",
       "<table border=\"1\" class=\"dataframe\">\n",
       "  <thead>\n",
       "    <tr style=\"text-align: right;\">\n",
       "      <th></th>\n",
       "      <th>year</th>\n",
       "      <th>body_ori</th>\n",
       "    </tr>\n",
       "  </thead>\n",
       "  <tbody>\n",
       "    <tr>\n",
       "      <th>0</th>\n",
       "      <td>1920</td>\n",
       "      <td>主旨를宣明하노라\\n蒼天에太陽이빗나고大地에淸風이불도다山靜水流하며草木昌茂하며百花爛發하며...</td>\n",
       "    </tr>\n",
       "    <tr>\n",
       "      <th>1</th>\n",
       "      <td>1920</td>\n",
       "      <td>九十度난太甚\\n혹독한형벌인우에\\n따리는데도불공도\\n스코필트씨밀\\n관텽에서 허가하는 ...</td>\n",
       "    </tr>\n",
       "    <tr>\n",
       "      <th>2</th>\n",
       "      <td>1920</td>\n",
       "      <td>肉體보다도精神\\n몸을앗김보다\\n명예를위하라\\n방하춍독무의원장의말사월초하ㄹ날로무터 태...</td>\n",
       "    </tr>\n",
       "    <tr>\n",
       "      <th>3</th>\n",
       "      <td>1920</td>\n",
       "      <td>四十七人의公判\\n셰길이넘는긔록을조사하기에\\n판검사아홉명이매여달녀잇다\\n느저도금년안에...</td>\n",
       "    </tr>\n",
       "    <tr>\n",
       "      <th>4</th>\n",
       "      <td>1920</td>\n",
       "      <td>姜宇奎公判은\\n금월오일개정\\n남대문역두에서 재등춍독에게폭탄을던지여 한세상을 떠들니든...</td>\n",
       "    </tr>\n",
       "    <tr>\n",
       "      <th>...</th>\n",
       "      <td>...</td>\n",
       "      <td>...</td>\n",
       "    </tr>\n",
       "    <tr>\n",
       "      <th>3125897</th>\n",
       "      <td>1999</td>\n",
       "      <td>키노코너\\n독립영화협의회가 주최하는 제26회 독립영화 워크숍이 2000년 1월3일부...</td>\n",
       "    </tr>\n",
       "    <tr>\n",
       "      <th>3125898</th>\n",
       "      <td>1999</td>\n",
       "      <td>한국영화 대약진“올해만 같아라”\\n점유율 40% 육박…작품성은 미흡\\n외화 상대적 ...</td>\n",
       "    </tr>\n",
       "    <tr>\n",
       "      <th>3125899</th>\n",
       "      <td>1999</td>\n",
       "      <td>1999년 영화계 결산\\n99 한국영화 흥행 베스트10\\n99 외국영화 흥행 베스트10</td>\n",
       "    </tr>\n",
       "    <tr>\n",
       "      <th>3125900</th>\n",
       "      <td>1999</td>\n",
       "      <td>Y2K D-1\\n업무 본격시작 1월3,4일 더 위험\\n‘Y2K D—1’\\n컴퓨터의 ...</td>\n",
       "    </tr>\n",
       "    <tr>\n",
       "      <th>3125901</th>\n",
       "      <td>1999</td>\n",
       "      <td>만화속의 요리</td>\n",
       "    </tr>\n",
       "  </tbody>\n",
       "</table>\n",
       "<p>3125902 rows × 2 columns</p>\n",
       "</div>"
      ],
      "text/plain": [
       "         year                                           body_ori\n",
       "0        1920  主旨를宣明하노라\\n蒼天에太陽이빗나고大地에淸風이불도다山靜水流하며草木昌茂하며百花爛發하며...\n",
       "1        1920  九十度난太甚\\n혹독한형벌인우에\\n따리는데도불공도\\n스코필트씨밀\\n관텽에서 허가하는 ...\n",
       "2        1920  肉體보다도精神\\n몸을앗김보다\\n명예를위하라\\n방하춍독무의원장의말사월초하ㄹ날로무터 태...\n",
       "3        1920  四十七人의公判\\n셰길이넘는긔록을조사하기에\\n판검사아홉명이매여달녀잇다\\n느저도금년안에...\n",
       "4        1920  姜宇奎公判은\\n금월오일개정\\n남대문역두에서 재등춍독에게폭탄을던지여 한세상을 떠들니든...\n",
       "...       ...                                                ...\n",
       "3125897  1999  키노코너\\n독립영화협의회가 주최하는 제26회 독립영화 워크숍이 2000년 1월3일부...\n",
       "3125898  1999  한국영화 대약진“올해만 같아라”\\n점유율 40% 육박…작품성은 미흡\\n외화 상대적 ...\n",
       "3125899  1999   1999년 영화계 결산\\n99 한국영화 흥행 베스트10\\n99 외국영화 흥행 베스트10\n",
       "3125900  1999  Y2K D-1\\n업무 본격시작 1월3,4일 더 위험\\n‘Y2K D—1’\\n컴퓨터의 ...\n",
       "3125901  1999                                            만화속의 요리\n",
       "\n",
       "[3125902 rows x 2 columns]"
      ]
     },
     "execution_count": 18,
     "metadata": {},
     "output_type": "execute_result"
    }
   ],
   "source": [
    "donga = pd.read_parquet('/mnt/hdd/bjkim/ModernConcept/donga_preprocessed.parquet',columns=['year','body_ori'])\n",
    "donga"
   ]
  },
  {
   "cell_type": "code",
   "execution_count": 19,
   "metadata": {},
   "outputs": [
    {
     "data": {
      "text/html": [
       "<div>\n",
       "<style scoped>\n",
       "    .dataframe tbody tr th:only-of-type {\n",
       "        vertical-align: middle;\n",
       "    }\n",
       "\n",
       "    .dataframe tbody tr th {\n",
       "        vertical-align: top;\n",
       "    }\n",
       "\n",
       "    .dataframe thead th {\n",
       "        text-align: right;\n",
       "    }\n",
       "</style>\n",
       "<table border=\"1\" class=\"dataframe\">\n",
       "  <thead>\n",
       "    <tr style=\"text-align: right;\">\n",
       "      <th></th>\n",
       "      <th>year</th>\n",
       "      <th>body_ori</th>\n",
       "    </tr>\n",
       "  </thead>\n",
       "  <tbody>\n",
       "    <tr>\n",
       "      <th>0</th>\n",
       "      <td>1920</td>\n",
       "      <td>主旨를宣明하노라\\n蒼天에太陽이빗나고大地에淸風이불도다山靜水流하며草木昌茂하며百花爛發하며...</td>\n",
       "    </tr>\n",
       "    <tr>\n",
       "      <th>1</th>\n",
       "      <td>1920</td>\n",
       "      <td>九十度난太甚\\n혹독한형벌인우에\\n따리는데도불공도\\n스코필트씨밀\\n관텽에서 허가하는 ...</td>\n",
       "    </tr>\n",
       "    <tr>\n",
       "      <th>2</th>\n",
       "      <td>1920</td>\n",
       "      <td>肉體보다도精神\\n몸을앗김보다\\n명예를위하라\\n방하춍독무의원장의말사월초하ㄹ날로무터 태...</td>\n",
       "    </tr>\n",
       "    <tr>\n",
       "      <th>3</th>\n",
       "      <td>1920</td>\n",
       "      <td>四十七人의公判\\n셰길이넘는긔록을조사하기에\\n판검사아홉명이매여달녀잇다\\n느저도금년안에...</td>\n",
       "    </tr>\n",
       "    <tr>\n",
       "      <th>4</th>\n",
       "      <td>1920</td>\n",
       "      <td>姜宇奎公判은\\n금월오일개정\\n남대문역두에서 재등춍독에게폭탄을던지여 한세상을 떠들니든...</td>\n",
       "    </tr>\n",
       "    <tr>\n",
       "      <th>...</th>\n",
       "      <td>...</td>\n",
       "      <td>...</td>\n",
       "    </tr>\n",
       "    <tr>\n",
       "      <th>1001312</th>\n",
       "      <td>1940</td>\n",
       "      <td>手術界의驚異\\n醫學朝鮮에凱旋歌\\n없는男子生殖 를붙이기에 드디어成功\\n世專李鶴松博士의...</td>\n",
       "    </tr>\n",
       "    <tr>\n",
       "      <th>1001313</th>\n",
       "      <td>1940</td>\n",
       "      <td>三年後에오는大京城\\n二百萬人口를收容\\n十八年度 지七個地區에新市街地를形成\\n京城府에서...</td>\n",
       "    </tr>\n",
       "    <tr>\n",
       "      <th>1001314</th>\n",
       "      <td>1940</td>\n",
       "      <td>張皷峯事件二 年記念\\n今日、嚴肅히擧行\\n正午를期해一齊默禱\\n황군전사(皇軍戰史)에 최...</td>\n",
       "    </tr>\n",
       "    <tr>\n",
       "      <th>1001315</th>\n",
       "      <td>1940</td>\n",
       "      <td>辯護士試驗延長\\n受驗生代表들이再次當局에陳情\\n누보한바와같이 조선에잇어서의 변호사시험...</td>\n",
       "    </tr>\n",
       "    <tr>\n",
       "      <th>1001316</th>\n",
       "      <td>1940</td>\n",
       "      <td>第二次中等敎育擴充計劃\\n十八年度부터七個年間\\n志願의三分一을收容\\n中等校、實業校를半半...</td>\n",
       "    </tr>\n",
       "  </tbody>\n",
       "</table>\n",
       "<p>1001317 rows × 2 columns</p>\n",
       "</div>"
      ],
      "text/plain": [
       "         year                                           body_ori\n",
       "0        1920  主旨를宣明하노라\\n蒼天에太陽이빗나고大地에淸風이불도다山靜水流하며草木昌茂하며百花爛發하며...\n",
       "1        1920  九十度난太甚\\n혹독한형벌인우에\\n따리는데도불공도\\n스코필트씨밀\\n관텽에서 허가하는 ...\n",
       "2        1920  肉體보다도精神\\n몸을앗김보다\\n명예를위하라\\n방하춍독무의원장의말사월초하ㄹ날로무터 태...\n",
       "3        1920  四十七人의公判\\n셰길이넘는긔록을조사하기에\\n판검사아홉명이매여달녀잇다\\n느저도금년안에...\n",
       "4        1920  姜宇奎公判은\\n금월오일개정\\n남대문역두에서 재등춍독에게폭탄을던지여 한세상을 떠들니든...\n",
       "...       ...                                                ...\n",
       "1001312  1940  手術界의驚異\\n醫學朝鮮에凱旋歌\\n없는男子生殖 를붙이기에 드디어成功\\n世專李鶴松博士의...\n",
       "1001313  1940  三年後에오는大京城\\n二百萬人口를收容\\n十八年度 지七個地區에新市街地를形成\\n京城府에서...\n",
       "1001314  1940  張皷峯事件二 年記念\\n今日、嚴肅히擧行\\n正午를期해一齊默禱\\n황군전사(皇軍戰史)에 최...\n",
       "1001315  1940  辯護士試驗延長\\n受驗生代表들이再次當局에陳情\\n누보한바와같이 조선에잇어서의 변호사시험...\n",
       "1001316  1940  第二次中等敎育擴充計劃\\n十八年度부터七個年間\\n志願의三分一을收容\\n中等校、實業校를半半...\n",
       "\n",
       "[1001317 rows x 2 columns]"
      ]
     },
     "execution_count": 19,
     "metadata": {},
     "output_type": "execute_result"
    }
   ],
   "source": [
    "donga = donga[donga['year']<=1940].dropna().reset_index(drop=True)\n",
    "donga"
   ]
  },
  {
   "cell_type": "code",
   "execution_count": 20,
   "metadata": {},
   "outputs": [],
   "source": [
    "donga_paragraph = donga['body_ori'].tolist()"
   ]
  },
  {
   "cell_type": "code",
   "execution_count": 21,
   "metadata": {},
   "outputs": [],
   "source": [
    "del donga"
   ]
  },
  {
   "cell_type": "code",
   "execution_count": 22,
   "metadata": {},
   "outputs": [
    {
     "data": {
      "text/plain": [
       "2519947"
      ]
     },
     "execution_count": 22,
     "metadata": {},
     "output_type": "execute_result"
    }
   ],
   "source": [
    "paragraph_list = mag_paragraph + chosun_paragraph + donga_paragraph\n",
    "len(paragraph_list)"
   ]
  },
  {
   "cell_type": "code",
   "execution_count": 23,
   "metadata": {},
   "outputs": [],
   "source": [
    "del mag_paragraph, chosun_paragraph, donga_paragraph"
   ]
  },
  {
   "cell_type": "code",
   "execution_count": 27,
   "metadata": {},
   "outputs": [
    {
     "data": {
      "text/plain": [
       "764"
      ]
     },
     "execution_count": 27,
     "metadata": {},
     "output_type": "execute_result"
    }
   ],
   "source": [
    "gc.collect()"
   ]
  },
  {
   "cell_type": "code",
   "execution_count": 50,
   "metadata": {},
   "outputs": [
    {
     "data": {
      "text/plain": [
       "2519947"
      ]
     },
     "execution_count": 50,
     "metadata": {},
     "output_type": "execute_result"
    }
   ],
   "source": [
    "len(paragraph_list)"
   ]
  },
  {
   "cell_type": "code",
   "execution_count": 49,
   "metadata": {},
   "outputs": [
    {
     "data": {
      "text/plain": [
       "2313177"
      ]
     },
     "execution_count": 49,
     "metadata": {},
     "output_type": "execute_result"
    }
   ],
   "source": [
    "len(list(dict.fromkeys(paragraph_list)))"
   ]
  },
  {
   "cell_type": "code",
   "execution_count": 51,
   "metadata": {},
   "outputs": [],
   "source": [
    "paragraph_list = list(dict.fromkeys(paragraph_list))"
   ]
  },
  {
   "cell_type": "code",
   "execution_count": 53,
   "metadata": {},
   "outputs": [],
   "source": [
    "# save\n",
    "with open('paragraph_list.pickle', 'wb') as f:\n",
    "    pickle.dump(paragraph_list, f, pickle.HIGHEST_PROTOCOL)"
   ]
  },
  {
   "cell_type": "markdown",
   "metadata": {
    "id": "n3MamwhJilVM"
   },
   "source": [
    "### 서브워드 학습"
   ]
  },
  {
   "cell_type": "code",
   "execution_count": 54,
   "metadata": {
    "id": "cKEWkhlRif06"
   },
   "outputs": [],
   "source": [
    "# https://bab2min.github.io/kiwipiepy/v0.15.2/kr/sw_tokenizer.html#kiwipiepy.sw_tokenizer.SwTokenizerConfig\n",
    "config = SwTokenizerConfig(split_chinese=False) # split_chinese 제외하고 모두 기본 옵션 사용"
   ]
  },
  {
   "cell_type": "code",
   "execution_count": 56,
   "metadata": {
    "colab": {
     "base_uri": "https://localhost:8080/"
    },
    "id": "kRKKDEvhiy61",
    "outputId": "b073aa0c-2ea7-4165-fc10-0647c7300e39"
   },
   "outputs": [
    {
     "name": "stderr",
     "output_type": "stream",
     "text": [
      "Tokenizing: 100%|██████████| 2313177/2313177 [16:16<00:00, 2368.50it/s] \n",
      "Reducing #1:   0%|          | 0/1000 [00:00<?, ?it/s, vocab_size=8564346, loss=8.72]"
     ]
    },
    {
     "name": "stdout",
     "output_type": "stream",
     "text": [
      "Iteration: 0 VocabSize: 8564346 Loss: 8.7218\n"
     ]
    },
    {
     "name": "stderr",
     "output_type": "stream",
     "text": [
      "Reducing #1:   0%|          | 1/1000 [00:32<8:53:59, 32.07s/it, vocab_size=6160404, loss=8.58]"
     ]
    },
    {
     "name": "stdout",
     "output_type": "stream",
     "text": [
      "Iteration: 1 VocabSize: 6160404 Loss: 8.5842\n"
     ]
    },
    {
     "name": "stderr",
     "output_type": "stream",
     "text": [
      "Reducing #1:   0%|          | 2/1000 [01:02<8:34:42, 30.94s/it, vocab_size=5.5e+6, loss=8.58] "
     ]
    },
    {
     "name": "stdout",
     "output_type": "stream",
     "text": [
      "Iteration: 2 VocabSize: 5495489 Loss: 8.5757\n"
     ]
    },
    {
     "name": "stderr",
     "output_type": "stream",
     "text": [
      "Reducing #1:   0%|          | 3/1000 [01:34<8:43:05, 31.48s/it, vocab_size=4941010, loss=8.57]"
     ]
    },
    {
     "name": "stdout",
     "output_type": "stream",
     "text": [
      "Iteration: 3 VocabSize: 4941010 Loss: 8.5661\n"
     ]
    },
    {
     "name": "stderr",
     "output_type": "stream",
     "text": [
      "Reducing #1:   0%|          | 4/1000 [02:04<8:35:04, 31.03s/it, vocab_size=4446419, loss=8.56]"
     ]
    },
    {
     "name": "stdout",
     "output_type": "stream",
     "text": [
      "Iteration: 4 VocabSize: 4446419 Loss: 8.5571\n"
     ]
    },
    {
     "name": "stderr",
     "output_type": "stream",
     "text": [
      "Reducing #1:   0%|          | 5/1000 [02:35<8:31:20, 30.84s/it, vocab_size=4e+6, loss=8.55]   "
     ]
    },
    {
     "name": "stdout",
     "output_type": "stream",
     "text": [
      "Iteration: 5 VocabSize: 4002499 Loss: 8.5463\n"
     ]
    },
    {
     "name": "stderr",
     "output_type": "stream",
     "text": [
      "Reducing #1:   1%|          | 6/1000 [03:05<8:30:43, 30.83s/it, vocab_size=3.6e+6, loss=8.54]"
     ]
    },
    {
     "name": "stdout",
     "output_type": "stream",
     "text": [
      "Iteration: 6 VocabSize: 3604087 Loss: 8.5371\n"
     ]
    },
    {
     "name": "stderr",
     "output_type": "stream",
     "text": [
      "Reducing #1:   1%|          | 7/1000 [03:37<8:35:09, 31.13s/it, vocab_size=3245569, loss=8.53]"
     ]
    },
    {
     "name": "stdout",
     "output_type": "stream",
     "text": [
      "Iteration: 7 VocabSize: 3245569 Loss: 8.5265\n"
     ]
    },
    {
     "name": "stderr",
     "output_type": "stream",
     "text": [
      "Reducing #1:   1%|          | 8/1000 [04:08<8:31:50, 30.96s/it, vocab_size=2923354, loss=8.52]"
     ]
    },
    {
     "name": "stdout",
     "output_type": "stream",
     "text": [
      "Iteration: 8 VocabSize: 2923354 Loss: 8.5175\n"
     ]
    },
    {
     "name": "stderr",
     "output_type": "stream",
     "text": [
      "Reducing #1:   1%|          | 9/1000 [04:38<8:25:36, 30.61s/it, vocab_size=2633870, loss=8.51]"
     ]
    },
    {
     "name": "stdout",
     "output_type": "stream",
     "text": [
      "Iteration: 9 VocabSize: 2633870 Loss: 8.5090\n"
     ]
    },
    {
     "name": "stderr",
     "output_type": "stream",
     "text": [
      "Reducing #1:   1%|          | 10/1000 [05:07<8:18:30, 30.21s/it, vocab_size=2373416, loss=8.5] "
     ]
    },
    {
     "name": "stdout",
     "output_type": "stream",
     "text": [
      "Iteration: 10 VocabSize: 2373416 Loss: 8.5011\n"
     ]
    },
    {
     "name": "stderr",
     "output_type": "stream",
     "text": [
      "Reducing #1:   1%|          | 11/1000 [05:37<8:18:41, 30.25s/it, vocab_size=2139032, loss=8.49]"
     ]
    },
    {
     "name": "stdout",
     "output_type": "stream",
     "text": [
      "Iteration: 11 VocabSize: 2139032 Loss: 8.4926\n"
     ]
    },
    {
     "name": "stderr",
     "output_type": "stream",
     "text": [
      "Reducing #1:   1%|          | 12/1000 [06:07<8:14:28, 30.03s/it, vocab_size=1927660, loss=8.48]"
     ]
    },
    {
     "name": "stdout",
     "output_type": "stream",
     "text": [
      "Iteration: 12 VocabSize: 1927660 Loss: 8.4835\n"
     ]
    },
    {
     "name": "stderr",
     "output_type": "stream",
     "text": [
      "Reducing #1:   1%|▏         | 13/1000 [06:40<8:29:28, 30.97s/it, vocab_size=1737352, loss=8.47]"
     ]
    },
    {
     "name": "stdout",
     "output_type": "stream",
     "text": [
      "Iteration: 13 VocabSize: 1737352 Loss: 8.4741\n"
     ]
    },
    {
     "name": "stderr",
     "output_type": "stream",
     "text": [
      "Reducing #1:   1%|▏         | 14/1000 [07:10<8:22:10, 30.56s/it, vocab_size=1566347, loss=8.46]"
     ]
    },
    {
     "name": "stdout",
     "output_type": "stream",
     "text": [
      "Iteration: 14 VocabSize: 1566347 Loss: 8.4647\n"
     ]
    },
    {
     "name": "stderr",
     "output_type": "stream",
     "text": [
      "Reducing #1:   2%|▏         | 15/1000 [07:43<8:34:49, 31.36s/it, vocab_size=1412677, loss=8.46]"
     ]
    },
    {
     "name": "stdout",
     "output_type": "stream",
     "text": [
      "Iteration: 15 VocabSize: 1412677 Loss: 8.4551\n"
     ]
    },
    {
     "name": "stderr",
     "output_type": "stream",
     "text": [
      "Reducing #1:   2%|▏         | 16/1000 [08:12<8:24:08, 30.74s/it, vocab_size=1274559, loss=8.45]"
     ]
    },
    {
     "name": "stdout",
     "output_type": "stream",
     "text": [
      "Iteration: 16 VocabSize: 1274559 Loss: 8.4451\n"
     ]
    },
    {
     "name": "stderr",
     "output_type": "stream",
     "text": [
      "Reducing #1:   2%|▏         | 17/1000 [08:41<8:16:11, 30.29s/it, vocab_size=1150766, loss=8.43]"
     ]
    },
    {
     "name": "stdout",
     "output_type": "stream",
     "text": [
      "Iteration: 17 VocabSize: 1150766 Loss: 8.4349\n"
     ]
    },
    {
     "name": "stderr",
     "output_type": "stream",
     "text": [
      "Reducing #1:   2%|▏         | 18/1000 [09:11<8:10:23, 29.96s/it, vocab_size=1039260, loss=8.42]"
     ]
    },
    {
     "name": "stdout",
     "output_type": "stream",
     "text": [
      "Iteration: 18 VocabSize: 1039260 Loss: 8.4244\n"
     ]
    },
    {
     "name": "stderr",
     "output_type": "stream",
     "text": [
      "Reducing #1:   2%|▏         | 19/1000 [09:40<8:05:39, 29.70s/it, vocab_size=939447, loss=8.41] "
     ]
    },
    {
     "name": "stdout",
     "output_type": "stream",
     "text": [
      "Iteration: 19 VocabSize: 939447 Loss: 8.4139\n"
     ]
    },
    {
     "name": "stderr",
     "output_type": "stream",
     "text": [
      "Reducing #1:   2%|▏         | 20/1000 [10:12<8:17:31, 30.46s/it, vocab_size=850026, loss=8.4] "
     ]
    },
    {
     "name": "stdout",
     "output_type": "stream",
     "text": [
      "Iteration: 20 VocabSize: 850026 Loss: 8.4033\n"
     ]
    },
    {
     "name": "stderr",
     "output_type": "stream",
     "text": [
      "Reducing #1:   2%|▏         | 21/1000 [10:41<8:08:43, 29.95s/it, vocab_size=769710, loss=8.39]"
     ]
    },
    {
     "name": "stdout",
     "output_type": "stream",
     "text": [
      "Iteration: 21 VocabSize: 769710 Loss: 8.3925\n"
     ]
    },
    {
     "name": "stderr",
     "output_type": "stream",
     "text": [
      "Reducing #1:   2%|▏         | 22/1000 [11:09<8:01:52, 29.56s/it, vocab_size=697757, loss=8.38]"
     ]
    },
    {
     "name": "stdout",
     "output_type": "stream",
     "text": [
      "Iteration: 22 VocabSize: 697757 Loss: 8.3816\n"
     ]
    },
    {
     "name": "stderr",
     "output_type": "stream",
     "text": [
      "Reducing #1:   2%|▏         | 23/1000 [11:38<7:56:33, 29.27s/it, vocab_size=633015, loss=8.37]"
     ]
    },
    {
     "name": "stdout",
     "output_type": "stream",
     "text": [
      "Iteration: 23 VocabSize: 633015 Loss: 8.3706\n"
     ]
    },
    {
     "name": "stderr",
     "output_type": "stream",
     "text": [
      "Reducing #1:   2%|▏         | 24/1000 [12:07<7:54:15, 29.16s/it, vocab_size=575650, loss=8.36]"
     ]
    },
    {
     "name": "stdout",
     "output_type": "stream",
     "text": [
      "Iteration: 24 VocabSize: 575650 Loss: 8.3595\n"
     ]
    },
    {
     "name": "stderr",
     "output_type": "stream",
     "text": [
      "Reducing #1:   2%|▎         | 25/1000 [12:37<8:01:15, 29.62s/it, vocab_size=524068, loss=8.35]"
     ]
    },
    {
     "name": "stdout",
     "output_type": "stream",
     "text": [
      "Iteration: 25 VocabSize: 524068 Loss: 8.3483\n"
     ]
    },
    {
     "name": "stderr",
     "output_type": "stream",
     "text": [
      "Reducing #1:   3%|▎         | 26/1000 [13:09<8:10:00, 30.18s/it, vocab_size=477982, loss=8.34]"
     ]
    },
    {
     "name": "stdout",
     "output_type": "stream",
     "text": [
      "Iteration: 26 VocabSize: 477982 Loss: 8.3371\n"
     ]
    },
    {
     "name": "stderr",
     "output_type": "stream",
     "text": [
      "Reducing #1:   3%|▎         | 27/1000 [13:41<8:19:06, 30.78s/it, vocab_size=437175, loss=8.33]"
     ]
    },
    {
     "name": "stdout",
     "output_type": "stream",
     "text": [
      "Iteration: 27 VocabSize: 437175 Loss: 8.3258\n"
     ]
    },
    {
     "name": "stderr",
     "output_type": "stream",
     "text": [
      "Reducing #1:   3%|▎         | 28/1000 [14:13<8:22:33, 31.02s/it, vocab_size=400881, loss=8.31]"
     ]
    },
    {
     "name": "stdout",
     "output_type": "stream",
     "text": [
      "Iteration: 28 VocabSize: 400881 Loss: 8.3147\n"
     ]
    },
    {
     "name": "stderr",
     "output_type": "stream",
     "text": [
      "Reducing #1:   3%|▎         | 29/1000 [14:44<8:23:09, 31.09s/it, vocab_size=368296, loss=8.3] "
     ]
    },
    {
     "name": "stdout",
     "output_type": "stream",
     "text": [
      "Iteration: 29 VocabSize: 368296 Loss: 8.3035\n"
     ]
    },
    {
     "name": "stderr",
     "output_type": "stream",
     "text": [
      "Reducing #1:   3%|▎         | 30/1000 [15:16<8:28:21, 31.44s/it, vocab_size=339415, loss=8.29]"
     ]
    },
    {
     "name": "stdout",
     "output_type": "stream",
     "text": [
      "Iteration: 30 VocabSize: 339415 Loss: 8.2924\n"
     ]
    },
    {
     "name": "stderr",
     "output_type": "stream",
     "text": [
      "Reducing #1:   3%|▎         | 31/1000 [15:50<8:38:19, 32.09s/it, vocab_size=313657, loss=8.28]"
     ]
    },
    {
     "name": "stdout",
     "output_type": "stream",
     "text": [
      "Iteration: 31 VocabSize: 313657 Loss: 8.2812\n"
     ]
    },
    {
     "name": "stderr",
     "output_type": "stream",
     "text": [
      "Reducing #1:   3%|▎         | 32/1000 [16:21<8:35:10, 31.93s/it, vocab_size=290717, loss=8.27]"
     ]
    },
    {
     "name": "stdout",
     "output_type": "stream",
     "text": [
      "Iteration: 32 VocabSize: 290717 Loss: 8.2702\n"
     ]
    },
    {
     "name": "stderr",
     "output_type": "stream",
     "text": [
      "Reducing #1:   3%|▎         | 33/1000 [16:52<8:29:10, 31.59s/it, vocab_size=270648, loss=8.26]"
     ]
    },
    {
     "name": "stdout",
     "output_type": "stream",
     "text": [
      "Iteration: 33 VocabSize: 270648 Loss: 8.2594\n"
     ]
    },
    {
     "name": "stderr",
     "output_type": "stream",
     "text": [
      "Reducing #1:   3%|▎         | 34/1000 [17:23<8:25:42, 31.41s/it, vocab_size=252483, loss=8.25]"
     ]
    },
    {
     "name": "stdout",
     "output_type": "stream",
     "text": [
      "Iteration: 34 VocabSize: 252483 Loss: 8.2490\n"
     ]
    },
    {
     "name": "stderr",
     "output_type": "stream",
     "text": [
      "Reducing #1:   4%|▎         | 35/1000 [17:54<8:23:01, 31.28s/it, vocab_size=236283, loss=8.24]"
     ]
    },
    {
     "name": "stdout",
     "output_type": "stream",
     "text": [
      "Iteration: 35 VocabSize: 236283 Loss: 8.2384\n"
     ]
    },
    {
     "name": "stderr",
     "output_type": "stream",
     "text": [
      "Reducing #1:   4%|▎         | 36/1000 [18:25<8:20:53, 31.18s/it, vocab_size=221900, loss=8.23]"
     ]
    },
    {
     "name": "stdout",
     "output_type": "stream",
     "text": [
      "Iteration: 36 VocabSize: 221900 Loss: 8.2283\n"
     ]
    },
    {
     "name": "stderr",
     "output_type": "stream",
     "text": [
      "Reducing #1:   4%|▎         | 37/1000 [18:58<8:29:45, 31.76s/it, vocab_size=209039, loss=8.22]"
     ]
    },
    {
     "name": "stdout",
     "output_type": "stream",
     "text": [
      "Iteration: 37 VocabSize: 209039 Loss: 8.2185\n"
     ]
    },
    {
     "name": "stderr",
     "output_type": "stream",
     "text": [
      "Reducing #1:   4%|▍         | 38/1000 [19:31<8:35:49, 32.17s/it, vocab_size=197718, loss=8.21]"
     ]
    },
    {
     "name": "stdout",
     "output_type": "stream",
     "text": [
      "Iteration: 38 VocabSize: 197718 Loss: 8.2089\n"
     ]
    },
    {
     "name": "stderr",
     "output_type": "stream",
     "text": [
      "Reducing #1:   4%|▍         | 39/1000 [20:04<8:35:40, 32.20s/it, vocab_size=187109, loss=8.2] "
     ]
    },
    {
     "name": "stdout",
     "output_type": "stream",
     "text": [
      "Iteration: 39 VocabSize: 187109 Loss: 8.1997\n"
     ]
    },
    {
     "name": "stderr",
     "output_type": "stream",
     "text": [
      "Reducing #1:   4%|▍         | 40/1000 [20:35<8:31:37, 31.98s/it, vocab_size=178027, loss=8.19]"
     ]
    },
    {
     "name": "stdout",
     "output_type": "stream",
     "text": [
      "Iteration: 40 VocabSize: 178027 Loss: 8.1904\n"
     ]
    },
    {
     "name": "stderr",
     "output_type": "stream",
     "text": [
      "Reducing #1:   4%|▍         | 41/1000 [21:07<8:28:51, 31.84s/it, vocab_size=169445, loss=8.18]"
     ]
    },
    {
     "name": "stdout",
     "output_type": "stream",
     "text": [
      "Iteration: 41 VocabSize: 169445 Loss: 8.1818\n"
     ]
    },
    {
     "name": "stderr",
     "output_type": "stream",
     "text": [
      "Reducing #1:   4%|▍         | 42/1000 [21:35<8:12:46, 30.86s/it, vocab_size=161758, loss=8.17]"
     ]
    },
    {
     "name": "stdout",
     "output_type": "stream",
     "text": [
      "Iteration: 42 VocabSize: 161758 Loss: 8.1732\n"
     ]
    },
    {
     "name": "stderr",
     "output_type": "stream",
     "text": [
      "Reducing #1:   4%|▍         | 43/1000 [22:04<8:02:09, 30.23s/it, vocab_size=154895, loss=8.16]"
     ]
    },
    {
     "name": "stdout",
     "output_type": "stream",
     "text": [
      "Iteration: 43 VocabSize: 154895 Loss: 8.1648\n"
     ]
    },
    {
     "name": "stderr",
     "output_type": "stream",
     "text": [
      "Reducing #1:   4%|▍         | 44/1000 [22:33<7:55:28, 29.84s/it, vocab_size=148065, loss=8.16]"
     ]
    },
    {
     "name": "stdout",
     "output_type": "stream",
     "text": [
      "Iteration: 44 VocabSize: 148065 Loss: 8.1569\n"
     ]
    },
    {
     "name": "stderr",
     "output_type": "stream",
     "text": [
      "Reducing #1:   4%|▍         | 45/1000 [23:01<7:47:31, 29.37s/it, vocab_size=142337, loss=8.15]"
     ]
    },
    {
     "name": "stdout",
     "output_type": "stream",
     "text": [
      "Iteration: 45 VocabSize: 142337 Loss: 8.1487\n"
     ]
    },
    {
     "name": "stderr",
     "output_type": "stream",
     "text": [
      "Reducing #1:   5%|▍         | 46/1000 [23:30<7:43:19, 29.14s/it, vocab_size=136579, loss=8.14]"
     ]
    },
    {
     "name": "stdout",
     "output_type": "stream",
     "text": [
      "Iteration: 46 VocabSize: 136579 Loss: 8.1412\n"
     ]
    },
    {
     "name": "stderr",
     "output_type": "stream",
     "text": [
      "Reducing #1:   5%|▍         | 47/1000 [23:59<7:42:18, 29.11s/it, vocab_size=132249, loss=8.13]"
     ]
    },
    {
     "name": "stdout",
     "output_type": "stream",
     "text": [
      "Iteration: 47 VocabSize: 132249 Loss: 8.1331\n"
     ]
    },
    {
     "name": "stderr",
     "output_type": "stream",
     "text": [
      "Reducing #1:   5%|▍         | 48/1000 [24:29<7:44:45, 29.29s/it, vocab_size=126418, loss=8.13]"
     ]
    },
    {
     "name": "stdout",
     "output_type": "stream",
     "text": [
      "Iteration: 48 VocabSize: 126418 Loss: 8.1267\n"
     ]
    },
    {
     "name": "stderr",
     "output_type": "stream",
     "text": [
      "Reducing #1:   5%|▍         | 49/1000 [25:00<7:52:28, 29.81s/it, vocab_size=124089, loss=8.12]"
     ]
    },
    {
     "name": "stdout",
     "output_type": "stream",
     "text": [
      "Iteration: 49 VocabSize: 124089 Loss: 8.1176\n"
     ]
    },
    {
     "name": "stderr",
     "output_type": "stream",
     "text": [
      "Reducing #1:   5%|▌         | 50/1000 [25:28<7:47:26, 29.52s/it, vocab_size=116625, loss=8.11]"
     ]
    },
    {
     "name": "stdout",
     "output_type": "stream",
     "text": [
      "Iteration: 50 VocabSize: 116625 Loss: 8.1138\n"
     ]
    },
    {
     "name": "stderr",
     "output_type": "stream",
     "text": [
      "Reducing #1:   5%|▌         | 51/1000 [25:57<7:43:50, 29.33s/it, vocab_size=118566, loss=8.1] "
     ]
    },
    {
     "name": "stdout",
     "output_type": "stream",
     "text": [
      "Iteration: 51 VocabSize: 118566 Loss: 8.1007\n"
     ]
    },
    {
     "name": "stderr",
     "output_type": "stream",
     "text": [
      "Reducing #1:   5%|▌         | 52/1000 [26:26<7:40:39, 29.16s/it, vocab_size=107597, loss=8.1]"
     ]
    },
    {
     "name": "stdout",
     "output_type": "stream",
     "text": [
      "Iteration: 52 VocabSize: 107597 Loss: 8.1005\n"
     ]
    },
    {
     "name": "stderr",
     "output_type": "stream",
     "text": [
      "Reducing #1:   5%|▌         | 53/1000 [26:55<7:40:40, 29.19s/it, vocab_size=116133, loss=8.08]"
     ]
    },
    {
     "name": "stdout",
     "output_type": "stream",
     "text": [
      "Iteration: 53 VocabSize: 116133 Loss: 8.0832\n"
     ]
    },
    {
     "name": "stderr",
     "output_type": "stream",
     "text": [
      "Reducing #1:   5%|▌         | 54/1000 [27:25<7:40:51, 29.23s/it, vocab_size=105396, loss=8.08]"
     ]
    },
    {
     "name": "stdout",
     "output_type": "stream",
     "text": [
      "Iteration: 54 VocabSize: 105396 Loss: 8.0832\n"
     ]
    },
    {
     "name": "stderr",
     "output_type": "stream",
     "text": [
      "Reducing #1:   6%|▌         | 55/1000 [27:53<7:38:22, 29.10s/it, vocab_size=101202, loss=8.08]"
     ]
    },
    {
     "name": "stdout",
     "output_type": "stream",
     "text": [
      "Iteration: 55 VocabSize: 101202 Loss: 8.0784\n"
     ]
    },
    {
     "name": "stderr",
     "output_type": "stream",
     "text": [
      "Reducing #1:   6%|▌         | 56/1000 [28:23<7:39:00, 29.17s/it, vocab_size=100614, loss=8.07]"
     ]
    },
    {
     "name": "stdout",
     "output_type": "stream",
     "text": [
      "Iteration: 56 VocabSize: 100614 Loss: 8.0692\n"
     ]
    },
    {
     "name": "stderr",
     "output_type": "stream",
     "text": [
      "Reducing #1:   6%|▌         | 57/1000 [28:52<7:39:00, 29.20s/it, vocab_size=93148, loss=8.07] "
     ]
    },
    {
     "name": "stdout",
     "output_type": "stream",
     "text": [
      "Iteration: 57 VocabSize: 93148 Loss: 8.0679\n"
     ]
    },
    {
     "name": "stderr",
     "output_type": "stream",
     "text": [
      "Reducing #1:   6%|▌         | 58/1000 [29:20<7:34:16, 28.93s/it, vocab_size=103455, loss=8.05]"
     ]
    },
    {
     "name": "stdout",
     "output_type": "stream",
     "text": [
      "Iteration: 58 VocabSize: 103455 Loss: 8.0495\n"
     ]
    },
    {
     "name": "stderr",
     "output_type": "stream",
     "text": [
      "Reducing #1:   6%|▌         | 59/1000 [29:49<7:34:05, 28.95s/it, vocab_size=93901, loss=8.05] "
     ]
    },
    {
     "name": "stdout",
     "output_type": "stream",
     "text": [
      "Iteration: 59 VocabSize: 93901 Loss: 8.0496\n"
     ]
    },
    {
     "name": "stderr",
     "output_type": "stream",
     "text": [
      "Reducing #1:   6%|▌         | 60/1000 [30:18<7:31:29, 28.82s/it, vocab_size=85301, loss=8.05]"
     ]
    },
    {
     "name": "stdout",
     "output_type": "stream",
     "text": [
      "Iteration: 60 VocabSize: 85301 Loss: 8.0491\n"
     ]
    },
    {
     "name": "stderr",
     "output_type": "stream",
     "text": [
      "Reducing #1:   6%|▌         | 61/1000 [30:47<7:31:06, 28.82s/it, vocab_size=100974, loss=8.03]"
     ]
    },
    {
     "name": "stdout",
     "output_type": "stream",
     "text": [
      "Iteration: 61 VocabSize: 100974 Loss: 8.0276\n"
     ]
    },
    {
     "name": "stderr",
     "output_type": "stream",
     "text": [
      "Reducing #1:   6%|▌         | 62/1000 [31:15<7:29:20, 28.74s/it, vocab_size=91678, loss=8.03] "
     ]
    },
    {
     "name": "stdout",
     "output_type": "stream",
     "text": [
      "Iteration: 62 VocabSize: 91678 Loss: 8.0279\n"
     ]
    },
    {
     "name": "stderr",
     "output_type": "stream",
     "text": [
      "Reducing #1:   6%|▋         | 63/1000 [31:44<7:27:21, 28.65s/it, vocab_size=83135, loss=8.03]"
     ]
    },
    {
     "name": "stdout",
     "output_type": "stream",
     "text": [
      "Iteration: 63 VocabSize: 83135 Loss: 8.0275\n"
     ]
    },
    {
     "name": "stderr",
     "output_type": "stream",
     "text": [
      "Reducing #1:   6%|▋         | 64/1000 [32:11<7:23:03, 28.40s/it, vocab_size=84172, loss=8.02]"
     ]
    },
    {
     "name": "stdout",
     "output_type": "stream",
     "text": [
      "Iteration: 64 VocabSize: 84172 Loss: 8.0209\n"
     ]
    },
    {
     "name": "stderr",
     "output_type": "stream",
     "text": [
      "Reducing #1:   6%|▋         | 65/1000 [32:40<7:20:54, 28.29s/it, vocab_size=76413, loss=8.02]"
     ]
    },
    {
     "name": "stdout",
     "output_type": "stream",
     "text": [
      "Iteration: 65 VocabSize: 76413 Loss: 8.0208\n"
     ]
    },
    {
     "name": "stderr",
     "output_type": "stream",
     "text": [
      "Reducing #1:   7%|▋         | 66/1000 [33:08<7:22:06, 28.40s/it, vocab_size=93380, loss=8]   "
     ]
    },
    {
     "name": "stdout",
     "output_type": "stream",
     "text": [
      "Iteration: 66 VocabSize: 93380 Loss: 7.9987\n"
     ]
    },
    {
     "name": "stderr",
     "output_type": "stream",
     "text": [
      "Reducing #1:   7%|▋         | 67/1000 [33:36<7:20:59, 28.36s/it, vocab_size=84791, loss=8]"
     ]
    },
    {
     "name": "stdout",
     "output_type": "stream",
     "text": [
      "Iteration: 67 VocabSize: 84791 Loss: 7.9990\n"
     ]
    },
    {
     "name": "stderr",
     "output_type": "stream",
     "text": [
      "Reducing #1:   7%|▋         | 68/1000 [34:04<7:17:38, 28.17s/it, vocab_size=76811, loss=8]"
     ]
    },
    {
     "name": "stdout",
     "output_type": "stream",
     "text": [
      "Iteration: 68 VocabSize: 76811 Loss: 7.9987\n"
     ]
    },
    {
     "name": "stderr",
     "output_type": "stream",
     "text": [
      "Reducing #1:   7%|▋         | 69/1000 [34:33<7:18:47, 28.28s/it, vocab_size=7e+4, loss=8] "
     ]
    },
    {
     "name": "stdout",
     "output_type": "stream",
     "text": [
      "Iteration: 69 VocabSize: 69955 Loss: 7.9981\n"
     ]
    },
    {
     "name": "stderr",
     "output_type": "stream",
     "text": [
      "Reducing #1:   7%|▋         | 70/1000 [35:00<7:14:59, 28.06s/it, vocab_size=85803, loss=7.98]"
     ]
    },
    {
     "name": "stdout",
     "output_type": "stream",
     "text": [
      "Iteration: 70 VocabSize: 85803 Loss: 7.9787\n"
     ]
    },
    {
     "name": "stderr",
     "output_type": "stream",
     "text": [
      "Reducing #1:   7%|▋         | 71/1000 [35:28<7:13:29, 28.00s/it, vocab_size=77877, loss=7.98]"
     ]
    },
    {
     "name": "stdout",
     "output_type": "stream",
     "text": [
      "Iteration: 71 VocabSize: 77877 Loss: 7.9790\n"
     ]
    },
    {
     "name": "stderr",
     "output_type": "stream",
     "text": [
      "Reducing #1:   7%|▋         | 72/1000 [35:56<7:12:38, 27.97s/it, vocab_size=70499, loss=7.98]"
     ]
    },
    {
     "name": "stdout",
     "output_type": "stream",
     "text": [
      "Iteration: 72 VocabSize: 70499 Loss: 7.9787\n"
     ]
    },
    {
     "name": "stderr",
     "output_type": "stream",
     "text": [
      "Reducing #1:   7%|▋         | 73/1000 [36:24<7:13:04, 28.03s/it, vocab_size=64708, loss=7.98]"
     ]
    },
    {
     "name": "stdout",
     "output_type": "stream",
     "text": [
      "Iteration: 73 VocabSize: 64708 Loss: 7.9781\n"
     ]
    },
    {
     "name": "stderr",
     "output_type": "stream",
     "text": [
      "Reducing #1:   7%|▋         | 74/1000 [36:52<7:11:51, 27.98s/it, vocab_size=64038, loss=7.98]"
     ]
    },
    {
     "name": "stdout",
     "output_type": "stream",
     "text": [
      "Iteration: 74 VocabSize: 64038 Loss: 7.9781\n"
     ]
    },
    {
     "name": "stderr",
     "output_type": "stream",
     "text": [
      "Reducing #1:   8%|▊         | 75/1000 [37:20<7:11:17, 27.98s/it, vocab_size=64002, loss=7.98]"
     ]
    },
    {
     "name": "stdout",
     "output_type": "stream",
     "text": [
      "Iteration: 75 VocabSize: 64002 Loss: 7.9781\n"
     ]
    },
    {
     "name": "stderr",
     "output_type": "stream",
     "text": [
      "Reducing #1:   8%|▊         | 76/1000 [37:48<7:39:38, 29.85s/it, vocab_size=64000, loss=7.98]\n"
     ]
    },
    {
     "name": "stdout",
     "output_type": "stream",
     "text": [
      "Iteration: 76 VocabSize: 64000 Loss: 7.9781\n",
      "Finished. Iteration: 76 VocabSize: 64000 Loss: 7.9781\n"
     ]
    }
   ],
   "source": [
    "# 학습\n",
    "# save_path = 토크나이저.json 파일 저장 위치\n",
    "# texts = 학습할 데이터(리스트)\n",
    "# vocab_size = 단어수\n",
    "# config = 학습 옵션\n",
    "tokenizer = SwTokenizer.train(save_path='./2410131_vo64000_tokenizer.json', texts=paragraph_list, vocab_size=64000, config=config)"
   ]
  },
  {
   "cell_type": "code",
   "execution_count": 57,
   "metadata": {},
   "outputs": [
    {
     "data": {
      "text/plain": [
       "' 2. 耕地面積   全地面積의 百分之15%'"
      ]
     },
     "execution_count": 57,
     "metadata": {},
     "output_type": "execute_result"
    }
   ],
   "source": [
    "paragraph_list[20000]"
   ]
  },
  {
   "cell_type": "code",
   "execution_count": 58,
   "metadata": {},
   "outputs": [
    {
     "data": {
      "text/plain": [
       "' 2. 경지면적   전지면적의 백분지15%'"
      ]
     },
     "execution_count": 58,
     "metadata": {},
     "output_type": "execute_result"
    }
   ],
   "source": [
    "hanja.translate(paragraph_list[20000], 'substitution')"
   ]
  },
  {
   "cell_type": "code",
   "execution_count": 59,
   "metadata": {
    "colab": {
     "base_uri": "https://localhost:8080/"
    },
    "id": "lPIdlYbZkA6i",
    "outputId": "3daf0e4d-807e-4640-f8bf-de5ad9a50cad"
   },
   "outputs": [
    {
     "name": "stdout",
     "output_type": "stream",
     "text": [
      "['2./S', '##耕地面積', '全', '##地', '##面積', '의/J', '百分之', '##15', '%']\n"
     ]
    }
   ],
   "source": [
    "# 서브워드 토크나이저 성능 확인\n",
    "print([tokenizer.id2vocab[i] for i in tokenizer.encode(paragraph_list[20000])])"
   ]
  },
  {
   "cell_type": "code",
   "execution_count": 60,
   "metadata": {},
   "outputs": [
    {
     "data": {
      "text/plain": [
       "['新郞될 사람 「그러타면 그 寫眞을 좀 보여 주세요.」',\n",
       " '新郞 될 사람 「아니 아니 그것보다도 그 아버지가 經營한다는 會社 寫眞말이얘요.」',\n",
       " '\\n新郞新婦의 新婚共同日記\\n',\n",
       " '1931年 1月 1日 快晴(記者註=氏는 新進小說家로서 최근 結婚한 新郞되시는 분이다.)',\n",
       " ' 新郞 「우리 둘이 이제는 결혼햇스니 어듸 당신 흉점을 몃가지 말해볼가요.」',\n",
       " '조선에서 가장 존경을 밧는 분도 春園이요, 가장 미움을 밧는 이도 春園이다. 그가 新郞이 된다면 祝辭드릴 사람도 數萬일 것이요. 그 結婚式에 돌 던질 이도 數萬일 것이며, 또 그가 不幸히 저 세상에 간다 하면 그 葬式에 吊花를 보내며 눈물 뿌릴 사람도 數萬일 것이요. 잘 죽엇다고 욕할 사람도 수만이리라.',\n",
       " '\\n落馬한 新郞\\n',\n",
       " '安氏가 大邱서 靑年團 首領級으로 梧桐옷을 입을 때 黃氏 亦同根異枝인 婦人團事件으로 梧桐衣人이 되엇다. 이제 往事는 割愛하고, 米州로부터 도라온 女史는 老靑春에 新郞을 맛어 人生의 잔채床에 마조 안즌 뒤 다시 事業人으로서 女子基督靑年會를 만들어 가지고 包야 將이야 하고 楚漢을 다트고 잇더니 最近에는 朴熙道氏 失脚以后 中央保育學校의 經營을 마터 지금은 동교 교장으로 幼稚園 할머니(保姆가 아히들 어머니요 그 保姆를 낫는 어머니는 할머니일 밧게)노릇하기에 朝夕 눈코 못뜬다.',\n",
       " ' 예루살넴의 多角形 穹窿寺院을 背景하고 新婦 마리아와 新郞 요셉이 對面해서 잇고 그 가온대 大僧이 서서 두 사람의 손을 쥐게하며 요셉이 妻女에 손에 반지를 끼우랴고 하고 잇다. 마리아를 擁護해잇는 여러 妻女들은 美望의 表情이 充滿하고 요셉편에 잇는 拒絶을 當한 求婚靑年들은 絶望의 苦痛에 못견대서 막대기를 꺽는 者 참아 볼 수 업서 고개를 도리키는 者가 잇다. 여러 가지(枝)는 부즈러지고 한가지만 요셉으로 인하야 꼿이 피엿다. 이와 갓치 요셉과 마리아는 公衆에 압헤서 法律上 正式 結婚式을 擧行하는 것이다.',\n",
       " ' 10分! 20分-. 깃븜과 행복이 춤출 新房이 답답함과 염려스러움에 잠기엇다. 까닭몰를 안타가움에 서린 新婦의 視線은 新郞의 얼굴위를 자조자조 오락가락하게 되엇다.',\n",
       " ' 『그럴 리가 업서... 암만해도 그럴 리가 업서. 고놈들이 거짓말이지. 에잇 고약망칙한 놈들! 메다부치어 죽여도 시원치 안흔 놈들!... (꿈꾸는 듯이 눈을 머언하게 뜨며) 그때는 조키도 조핫다. 깃브게도 깃벗다. 媒婆의 그말을 들을 때에 과연 한울에 오르는 듯 하얏다. 땅 밋흐로 빠지는 듯 하얏다-. 인물도 조흘시고 거래도 조흘시고, 먼리보니 달일런가 겨레보니 꼿이런가. 女工針繡에 빠질 것 바이업고 奉上率下에 거칠것 바이업고 가문 조코 지체고주 才操잇고 德性잇고 배곱흔이 밥 잘 주고 헐벗은이 옷 잘주기 太妊太姒 그 뉘신고. 이보다 지낼손가. 王昭西施 곱다한들 이에야 딸흘손가-. 그 媒婆할미장이 인실도 조하. 이러케 주욱 섬길 적에 참말이지 내 마음은 어떠케 깃벗든지 뛰고도 십고 날고도 십헛것다. 하로밧비 擇日해 내 四柱單子 보냇스니 婚姻할 날자야 단 몃칠이 못되건만 나에게는 그 동안 여러 10年이 되는 듯 하얏것다. 손곱아 기다리든 오늘날 닥칠제 뛰든 내가 이야 말할 것도 업시 紗帽官帶하고 馬上에 오를 때엔 억개춤이 절로 나왓것다. 말가는 것은 더듸고 마음은 압흐로 압흐로 쏠려서 몃번이나 말몬을 안고 떨어질 번 하얏것다. 妻家골목 모통이을 돌아들어 두 집만 지나면 妻家 집 문턱에 다다를 때에 동네 아이놈들이 우-몰려 나오더니 나를 손가락질하며 하는 말이 「에헤 저 新郞봐라, 다리병신이 팔 병신한테 장가가면서 무엇이 조하서 벙글벙글한담-.」 이말을 듯고나니 한울도 문허지고 땅도 꺼지는 듯 하얏것다. 그 양 말곱비를 돌리랴 하얏스나 뜻 가티 아니 되어 오기는 왓지만 만일... 그러타면 이런 놈의 팔자가 어대잇슬가. 그래도... 그러치 안하 그놈들이 거짓말이지. 얼굴이 저러케 어엽뿌고야 병신일琊� 萬無하지. 암만해도 그럴 理가 업지... 하나 이 동네사는 놈들이 그겻 저것 모를理 업겟고, 나하고 무슨 戴天之怨讐가 잇다고 거짓말이야 할 理 잇나... 이런 놈의 팔자란-.」',\n",
       " ' 얼마 전 評論家 洪陽明씨의 結婚式이 食道園 廣場에서 열니엇는대 그때 主禮를 朝鮮日報 社長 方應謨씨가 하엿다. 式이 進行되야 新郞이 반지를 新婦의 纖纖玉手에 半쯤 수집음을 먹음고 끼어 주엇다.',\n",
       " ' 式이 進行되어 新郞이 新婦 손에 반지 끼일 대목이 오자 黃興이나 宋敎仁 얼골과 恰似하게 嚴肅하고도 莊重味 잇는 民世의 얼골에 일말의 미소가 떠오르면서 자기가 그를 밧어 반지 손에 들고 벗석 놉히 치어들어 滿場來賓에게 보인 뒤에',\n",
       " '\\n내가 理想하는 新郞候 條件, 서울 某 女子高普卒業班 閨秀 提案\\n',\n",
       " ' 1934년대의 『新郞型』은 엇더한 것인가? 이 疑心을 풀기 위하야 本社에서는 서울 시내의 중류 이상 규수가 가장 만히 通學한다는 某 女子高等普通學校 明年 3월 졸업할 졸업반 학생들에게서 無記名으로 이러한 回答을 밧엇다.',\n",
       " '新郞 (27歲)',\n",
       " '(新郞 古物商行習으로, 드러온다.)',\n",
       " '新郞 응응 저-잠간 볼 일이 잇서서 이건 그런데 여보 오늘은 아주 재수가 틔이느라고 모두 싸게 삿구려. 그리구 헌-유성기 한 채를 곰박 사가지고 오다가 금시 4圓을 냉겨서 파랏지. 아주 오늘은 운-텃서... 그런데 참 당신 오늘 퍽 곤하지?',\n",
       " '新郞 별노 시장한 줄두 모르겟서. 그럿치만 아부지는?<250>',\n",
       " '新郞 엇던 놈들이 그래... 그리기에 당신은 집안에 가만히 안저 놀나고 그러지 아넛소.',\n",
       " '新郞 응- 아무튼 당신으로서 당해주는 성이는 고맙소마는 또 생각하면 가난한 일軍의 안해가 갓흔 일터에서 땀흘니는 것드 기실은 의이 잇는 일이지.',\n",
       " '舞臺는 카프에로 上下手 또아 中央興에 雙 또아 그리고 食卓 3ゲ를 連組하고 周圍로 이자가 羅烈되엿고 幕이 열니면 엥야차 勞軍들과 詩人 及 点術家 福男들이 잇고 新郞 新婦의 結婚피로연으로 그 父親도 얼근-히 醉한 김에 全멕이 石松伊 등 飮食 싸움 場內 喜悅에 싸여 잇다. 妓生들 술따른다.',\n",
       " '新郞 여러분 아모 변변히 잡수실 것도 업는 거슬 공연히 수선스럽게 청하여서 미안하기 끗업슴니다 마는 그것보다도 엥여차 女勞 일꾼과 苦役으로 일삼는 이 고물상의 일꾼이라는 진실한 인간의 결혼을 축하하여 주시는 마음으로 이거나마 달게 마저 주십시오.',\n",
       " '(잇때 主人이 들어와 新郞을 청해 나간다.)',\n",
       " '父 아- 그럴니가 잇나. (슬 가지러 上手로 가다가 수심에 나오는 新郞을 맛나) 얘얘 술이 업구나.',\n",
       " '新郞 (머뭇거리며 주저하다가 슬그머니) 예산이 벌서 14圓이나 초과되엿슴니다.',\n",
       " '新郞 여러분 안즈세요.',\n",
       " '新郞 아- 주인- 참 감사함니다. 그러면 여러분 쥔에 동정을 감사하는 동시에 저 일굴 여러분게 실노 그 성의를 삭여 둠니다.',\n",
       " '新郞 여러분 어제도 오늘도 불넛고 내일도 또 모래도 불늘 엥여차어든 이 깃븜에 장식합시다.',\n",
       " ' 新生活運動의 꽃에 꽃인 집단결혼식을 마츰 구경하였는데, 그날 吳鐵城 市長이 주禮하고 약 百名의 新郞, 新婦가 웨딩마취에 따라 左右 옆으로 대리석 시청계단을 올나갔었다. 신부는 모다 雪白의 素服에 면사포를 쓰고 두 손에 꽃을 드렷으며 신랑은 중국식 簡素한 예복을 입었다. 거기에서 간단한 宣誓式이 있고 그리고는 제각금 피로연席으로 흐터저 가는데 드른즉 中國서는 冠婚喪祭에 너무 비용과 시간을 허비함으로 蔣主席은 이 新生活 운동 중에도 더욱 冠婚에 주력을 너허 一組에 이 결혼비용을 20원式으로 정하였다 한다. 수백원, 수천원을 허례 때문에 없애버리든 昨日까지의 舊習은 이 집단 결혼이란 신규율 밑에 漸漸 사라저가고 있었다. 이뿐만 아니라 中國은 方今 놀랍게 각성하여가고 있었다. 나는 中國 軍대의 觀兵式을 구경하였는데 步兵 騎兵 砲兵의 蕭蕭한 행진은 이미 昔日의 무기력하든 군대가 아니었고 空中分列式에 참가한 數百機의 비행기도 이미 昔日의 作亂감 같은 中國式 비행기가 아니였다.＜42＞',\n",
       " '記者 - 웨 안조와요. 끼리시야의 「삽포-」란 여시인은 너무 깁버서 이제는 나는 천하를 얻엇노라 하고 춤추지 않었어요. 여자이기 까닭게 받어오든 천대와 여자이기 까닭에 떠나지 안튼 서글푼 悲哀 그 모든 것이 깡그리 사라지고 마치 구름 속에 보름달 솟듯 光明에 찬 新郞의 房으로 많은 꿈과 즐거움을 거더않고 드러갈때에 진실로 여자가 아니면 가질 수 없는 그윽한 행복에 저저질 것이 않이엇겠서요. 세 분 가튼 샛파란 꼿 閣氏가.',\n",
       " '   나는 上海의 풍습을 알어볼 작정으로 제일 먼첨 초대장소에 갓다. 입구에는 支那人서기가 안젓고 房 上便에는 쌍촛불을 켜놋고 新郞之位라고 赤色紙에 써 노여 있었다. 잠시후에 초대받은 李燁의 친구 약 6,70명이 왔었다.',\n",
       " '   나는 너모도 이상한 생각이 나서 「何故로? 新郞新婦가 뵈지 안느냐?」라고 李燁의게 문의한즉 대답하기를 「당신이 아직 上海의 풍습을 잘 모릅니다」라고 말하였다. 사실인즉 자기의 매제가 鄕里에서 出嫁할 날인데 其 축하연이였었다.',\n",
       " ' 이 集團結婚式은 1조에 겨우 16圓의 經費만이 必要하고, 式 全般의 費用은 社會局의 負擔이 되어 있다. 式은 먼저 樂隊의 結婚行進曲이 시작되고, 검은 長衣에 장미꽃을 가슴에 꽂은 新郞과 純白의 服色에 긴- 베-일을 쓴 新婦가 式場에 들어오면, 各各 그 姓名, 履歷이 署名된 후에 新郞 新婦가 서로 三鞠의 禮를 交하고, 結婚반지를 준 뒤에 結婚證書 授與式이 있고 市長의 인사와 來賓의 祝辭가 있은 다음 閉會한다고.',\n",
       " '\\n新郞新婦 新婚日記\\n映畵監督 朴基采 梨專文科出身 李璿卿\\n',\n",
       " '그 內容은 어떤 靑年이 東京에서 神學을 마치고 돌아와 牧師가 되며 平壤어떤 女子와 結婚하였다. 婚禮式한 이튼날아츰 新婚는처녀시대 무슨일로 감옥생활하는데 新郞은 감옥으로 면회하려가는 이야기다. 이 이야기는 作者 自身의 事實을 모텔로한 小說이라고한다',\n",
       " '次に風習の方を二、三申し上けてみたいと存します。向ふの土人の結婚する時には、新郞が新婦の家に徃ぐとき駕寵の前に廣い板を立てて其板に十圓の札を澤山張り付け其の上に赤いいんきを染めて持つて徃くのてあります。赤色は慶事を表はすものだそうであります。新婦が新郞方に徃くときも同樣たそうてあります。然し最近は札に赤いいんきを染めるのを禁止しました爲それが出來ないと云ふのであります。又日本ては簟笥等に着物を入れて行き＜74＞ますが、向ふては竹の棹に着物をぶら下げて持つて行きます。之れは着物を人に見せる爲めであります。然し最近に至りては總力運動の御蔭て此種の慣習が漸次無くなつて徃くそうてあります。又人の死んだ時には、朝鮮と同しく代哭者を立て、馬に藝者を多數のせて列を作つて葬地に行きます。そこで、は、假埋葬をやり、三年經過しますと骨を掘り出して綺麗に水で洗ひ、墓地に本埋葬致します。',\n",
       " '\\n結婚問題에 就하야-理想的 新郞의 資格은?\\n朴素娥 金願福 春江 吳慶姬 劉英淑\\n',\n",
       " ' 幸福은 사람마다 求한다. 그러나 婚齡期의 女性처럼 목마르랴! 딱한 사정도 사람마다 있다. 그러나 젊은 女人의 것처럼 微妙하랴! 더구나 女性도 家庭만이 그들의 所在地일 수는 없는 時代이다. 그들의 幸福圈은 날로 넓어가며 잇는 것이다. 裁縫時間에 지은 繡놓은 에프론을 입고 新郞을 위해 아침 菜單을 構想하는데도 女性의 幸福은 있지만, 노트는 덮어버린채 大現實에 直面해서 民衆을 위해 어떤 任務와 어떤 舞臺의 히로인이 되는데도 現代女性의 당당한 幸福의 깃발은 펄럭이는 것이다. 女性行路는 放射線으로 퍼지며 있다. 이 무수한 放射線속에서 내가 興味를 갖인 세 女性의 線路를 取해 나가는 것이 역시 이 소설의 나아갈 線路인 것이다.＜119＞',\n",
       " ' 인도의 여자는 열 살에 결혼을 한다. 그런데 그 式은 대규모이엇다. 먼저 엄장한 음악대를 선두로 하며 적은 新婦와 新郞이 큰 코키리 (象)에 탄다.',\n",
       " '今日 東洋에 早婚\\uf537\\ue285 風俗이 尤甚\\uf53a 나라\\ue285 印度와 支那와 朝鮮이라 공교히 此 三國이 靡弱不振\\uf537야 印淸 兩國의 有志者와 敎育家가 早婚을 一致 反對\\uf537니 此만 觀\\uf537야도 早婚이 民國에 有害無益\\uf545은 可知라. 我國 現時 形便으로 早婚의 利害를 暫究\\uf53c진\\ue3a8 所謂 早婚의 利\\ue285 一曰 子孫을 早得\\uf537야 繁盛케 \\uf545이라. 十五歲에 生男\\uf537야 卅歲에 得孫\\uf537고 四十五歲에 曾孫보고 回甲에 高孫보아 七十五六歲에 五代 子孫이 滿堂\\uf545은 我國人의 一大希望이오. 二曰 擇婚의 必要라 萬若過時\\uf537면 新郞新婦을 求之不得\\uf53c지니 早定者ㅣ 佳郞美閨를 先得이오. 三曰 婦媳의 服役이라. 奴僕은 虐待\\uf537면 猶有贖良之日이어니와 며나리\\ue285 薄衣에 不念寒\\uf537며 惡食에 不恤飢\\uf537고 服使만 愈勤케 \\uf537니 世界上 奴隷 中 奴隷\\ue285 我國 며나리이오. 四曰 幼稺\\uf53a 新郞新婦의 앙증\\uf53a 滋味오.＜57＞五曰 老人의 歡樂이라 早婚滋味가 如此\\uf537니 我國人이 先聖의 遺言과 後世의 大計를 不顧\\uf537고 早婚을 崇尙\\uf545은 良有以也라. 然而其害를 論\\uf537면 曰 陰陽早通이니 便是揠苗라. 雖云子孫을 早得이나 過半夭折\\uf537야 得不補失이 一害也오. 頭腦束縛이 支那女人의 纏足보다 尤爲蠻俗이니 二害也오 成冠之日에\\ue285 男女가 運動이 自歸禁止\\uf537야 身體의 發達을 防遏\\uf537니 三害也오 酒草의 惡用을 早習\\uf537야 血骨의 健强을 耗損\\uf537니 四害也라. 此\\ue285 體育上 大害오. 腦髓의 充長을 阻害\\uf537야 思想力을 消索케 \\uf537며 師友의 管轄을 脫却\\uf537야 工夫에 無心\\uf537며 女兒\\ue285 시집살음에 汨沒\\uf537고 男兒\\ue285 어른노릇에 馳意\\uf537야 學問에 無暇\\uf537니 此 三者\\ue285 智育上 大害오. 早夭早孀之慘과 琴瑟不調之弊와 女人賤待之習과 家庭紊褻之風이 早婚에 其由\\uf53a 者ㅣ 十居八九\\uf537니 此\\ue285 德育上 大害오. 文明國人은 自己妻子를 保養\\uf53c 만 \\uf537여야 娶妻\\uf537\\ue285 故로 人人獨立\\uf537거니와 我國은 自躬不恤\\uf537\\ue285 黃口孺兒가 有妻有子하야 負重千斤\\uf537니 勇進之心이 於是以挫\\uf537고 姑息之心이 於是以生\\uf537며 依賴之習이 於是以成\\uf537야 一人生之에 十人食之之俗이 於是以盛\\uf537니 此\\ue285 經濟上 大害라. 由此觀之면 早婚之利\\ue285 無非個人的 私情이오. 其害\\ue285 莫非國民的 公害라. 或曰 晩婚\\uf537면 子孫이 不繁\\uf53a다 \\uf537나 十八歲에 得男\\uf537야 卅六歲에 生孫\\uf537고 五十四歲에 曾孫보고 七十二三歲에 高孫보면 不可謂太晩이오＜58＞又曰 擇婚難得이라 \\uf537나 晩婚成俗\\uf537면 晩擇何難이며 或曰 老人이 子孫早婚의 滋味를 失\\uf537니 可惜이라 \\uf537나 子女의 六七十年前程과 國民의 千萬歲 大計로 老人一二十年 歡樂의 犧性을 作\\uf545은 於理不可\\uf537고 況時變世移\\uf537야 一二年間에 今時 昨非를 覺\\uf53c 事가 不可勝屈이라 早婚이 前日에\\ue285 必要라 云\\uf537나 今日에\\ue285 不合\\uf53a 故로 自强會에셔 經傳의 大訓과 宇內의 通規와 本國의 形便을 照察\\uf537야 早婚禁止를 政府에 建議\\uf537나 此議가 必歸勿施\\ue285 我所確言\\uf545이라. 假令 明日에 建議\\uf537면 政府諸公은 必然 本會의 公益上 熱心을 稱賀\\uf53c 터이오. 一朔後 再問\\uf537면 必曰 事係法律\\uf537기로 委任法部라 \\uf53c 터이오. 再ㅡ朔後 更問\\uf537면 法部의 高明\\uf537신 法律學士들이 必厲聲高論曰小學에 三十而有室이라 \\uf537얏스니 十八歲定婚之法은 非但衍文이라 十二年이 不足\\uf537니 不可實施라 \\uf545은 明若觀火라 無論某事\\uf537고 俗不行法이면 法不成俗이니 幸望諸君은 政府小學論을 勿待\\uf537고 一人一家의 私味\\ue285 姑舍\\uf537고 子女와 國民의 前程大計를 思念\\uf537야 個人個人히 早婚을 禁止\\uf537야 墮落\\uf53a 人種을 改良\\uf537고 委靡\\uf53a 國勢를 再振케 \\uf537시오.',\n",
       " ' ○耆隱朴文秀가 爲嶺南繡衣\\uf537야 轉向各邑\\uf53c\\ue999 至一處\\uf537야 日晩不得食\\uf537고 頗有飢色\\uf537야 仍向一人之家則只有一童子而年近十五六矣라 向前乞一盂飯\\uf537니 對曰吾卽偏親侍下에＜70＞家計貧窮\\uf537야 絶火가 己數日이라 無飯與客이라 \\uf53a\\ue3a8 文秀ㅣ困憊小坐러니 童子ㅣ 屢瞻屋漏之紙囊\\uf537고 微有慙然之色\\uf537다가 卽解囊入內\\uf537니 數間斗屋에 戶外가 卽其內室이라 在外聞之則童子ㅣ 呼母曰外有過客\\uf537야 失時請飯\\uf537니 人飢를 豈不可顧耶아 糧米絶乏에 無以供飯\\uf537니 以此炊飯이 可也라 \\uf53a\\ue3a8 其母曰汝親之忌를 將闕之乎아 童子曰 情理\\ue285 雖切迫이나 目見人飢\\uf537고 何可不救잇가 其母가 受而炊之어\\ue288 文秀ㅣ 旣聞其言\\uf537고 甚惻然\\uf537더니 童子ㅣ 出來어\\ue288 文秀ㅣ 問其由\\uf53a\\ue3a8 答曰 客이 旣聞知則不得欺矣라 吾之親忌가 不遠에 無以過祀故로 適有一升米\\uf537야 作紙囊懸之\\uf537고 雖闕食이나 不喫이러니 今客이 飢餓而家無供飯之資\\uf537야 不得己以此炊飯矣러니 不幸爲客之所聞知\\uf537니 不勝慙愧라 \\uf53a\\ue3a8 方與酬酌之際에 有奴ㅣ 來言曰 朴道令아 斯速出來\\uf537라 童子ㅣ 哀乞曰 今日則吾不得法로라 文秀ㅣ 問其姓則是乃同種也라 又問彼來者爲誰오 曰 此邑座首之奴언\\ue3a8 吾之年紀가 已長\\uf537야 聞座首有女\\uf537고 通婚則座首가 以爲見辱이라 \\uf537야 每送奴子拿我而去\\uf537야 打曳侮辱이 無所不至러니 今又追捉이라 \\uf53a\\ue3a8 文秀ㅣ 聽已에 對奴而言曰吾乃此童之叔也라 吾可代往이라 \\uf537고 飯後에 仍隨奴子而往則座首者ㅣ 高坐而使之捉入\\uf537라 \\uf537거\\ue288 文秀ㅣ 直上廳\\uf537야 坐而言曰吾姪의 班閥이 猶勝於君호\\ue3a8 特以家貧之故로＜71＞通婚\\uf537얏스니 君如無意면  置之可也어\\ue288 何每每捉來示辱고 君以邑中首鄕으로 有權力而然耶아 座首犬怒\\uf537야 捉入其奴而叱曰 吾使汝로 捉來朴童이거\\ue288 汝何爲捉此狂客而來\\uf537야 使汝上典으로 見辱케 \\uf537\\ue283뇨 汝罪ㅣ 當笞라 \\uf53a\\ue3a8 文秀ㅣ 自袖中으로 露示馬牌曰 汝ㅣ 焉敢若是오 座首ㅣ 一見而面如土色\\uf537야 降于階下俯伏死曰 罪死罪로라 \\uf53a\\ue3a8 文秀ㅣ 乃曰 汝可結婚乎아 對曰 焉敢不婚이릿고 又曰 吾ㅣ 見曆\\uf537니 三明이 卽 吉日이라 伊日에 吾當與新郎으로 偕來\\uf537리니 汝可備婚具以待\\uf537라 座首敬諾이어\\ue288 文秀ㅣ 仍出門\\uf537야 直人邑內而出道\\uf537고 謂本官曰 吾有族姪而在於某洞\\uf537야 與沘邑首鄕으로 通婚而期在某日이라 伊時에 外具及宴需를 自官으로 備給\\uf545이 爲好라 \\uf53a\\ue3a8 本官曰 此是好事라 何不優助릿가 湏當如命\\uf537리이다 又請隣邑守令\\uf537고 文秀ㅣ 請新郞於自已私處\\uf537야 具官服而文秀ㅣ 備威儀隨後\\uf537니 座首之家에 雲幕이 連天\\uf537고 盃盤이 狼藉이라 座上에 御史가 主壁\\uf537고 諸守令이 皆列坐\\uf537니 座首之家ㅣ 一層生光輝라 行禮後에 新郎이 出來어\\ue288 御史命拿入座首\\uf537니 座首ㅣ 叩頭曰 小人이 依分付行婚禮이니다 御史曰 汝ㅣ 田與畓이 幾何오 曰 幾石落이니다 分半給女壻乎아 曰 焉敢不然이릿가 御史曰 奴婢牛馬가 幾何며 器皿什物이 亦幾何오 曰 幾口幾匹幾件幾箇니이다 曰 又爲分半給女壻乎아 曰 焉敢不然이릿가 御史ㅣ＜72＞卽命書文記而證人은 首書御史朴文秀라 \\uf537고 次書本官\\uf537고 某某邑倅가 列書而踏馬牌\\uf537고 仍轉向他處\\uf537니라.',\n",
       " ' 此 外에 \\ueaab 印度에\\ue285 許多殘惡\\uf53a 風俗이 多\\uf53a데 其 中 尤甚\\uf53a거슨 兒婚이 是라. 男兒와 女兒가 四五歲에 達\\uf537면 婚姻을 定\\uf537\\ue285데 萬一 定\\uf53a 後에 新郞될 男兒가 不幸 死亡\\uf537면 其 女兒 寡婦\\ue285 一平生을 再婚치 못\\uf537\\ue285 弊習이 有\\uf537더니 此亦 耶穌敎 入來\\uf53a 以後에 全然一變\\uf537엿스며 此 外에 \\ueaab 耶穌敎의 勢力이 社會上에 無數\\uf53a 福音을 傳播\\uf53a 거슨 一一히 枚擧키 難\\uf537옵고 最後에 我一個人에 經驗을 一言으로쎠＜4＞諸君에게 告코져 \\uf537옵\\ue283이다.',\n",
       " ' （一）新郞縊死楊柳無情 洞民驚起平和自破',\n",
       " ' 아, 원, 그르니 그, 열세살（十三）낫다는, 어린 新郞이 혼자야, 저럿케, 죽어슬 수가, 잇다구?',\n",
       " ' 글셋 \\ue566이지요, 원, 그러\\uf53a들, 설마, 엇든, 몹쓸 놈이, 저 어린 新郞을, 무슨 턱에, 죽엿슬고.',\n",
       " ' 洞頭民과 洞內 령감들이 會集\\uf537야 討議\\uf53a 結果, 이 일을 官에 報告\\uf537야 將次 撿屍官이 온다 官屬이, 나온다 \\uf537면 우리 洞內는 第一 그 冶遊에 滅亡을 免치 못\\uf537리니 爲先 그 신랑의 처남되는 申將孫을 促留\\uf537엿다가 邑에서 官屬이, 나오면, 一切 일은, 그 사람에게다, 擔當시키고, 우리 一洞이 官에 들어가서 訟事나, 잘\\uf537여 보자 \\uf537고 즉시 洞內의 少輩들을 招集\\uf537야 申將孫의 一家族을 嚴密히 看守\\uf537고 一洞으로 官에 報\\uf537며 一洞으로 新郞 本家에＜44＞通知\\uf53a다 \\uf537는 騷動에 由來로 平和裏에 安樂\\uf537든 花川洞은 一朝間에 殺風景의 大修羅場이 되엿소.',\n",
       " ' 新郞（一）',\n",
       " ' 楊柳枝에, 목을 달아, 靑顔을 半垂\\uf537고, 血眼을 微開\\uf537고, 世上의 冷情을 怨望\\uf537\\ue285듯\\uf53a, 可憐\\uf53a 너 조고마\\uf53a 新郞아! 老親을 永別\\uf537고, 故鄕을 \\uea8d나서, 어\\ue3a8로?',\n",
       " ' 却說 이\\ueb04 本郡 郡守\\ue285 尹氏인데 尹守\\ue285 外國事情에도 略通\\uf537고 元來 事理에 明柝\\uf53a 人이라. 到任 以來로 諸般 行政이 一體 人民福利를 標準\\uf537야 一切 弊瘼을 革除\\uf537며 自來吏屬의 惡習을 一變\\uf537고 四民으로 \\uf537여금 各其 職業에 安堵케 \\uf537니 由來로 虛政塗炭 中에셔 叫苦\\uf537든 海隅殘民에게\\ue285 嚴冬 後에 陽春이, 도라온 듯 大旱에 雨澤이 霑下\\uf53a 듯 明官의 稱頌이 人人마다 口碑相傳이오. 尹守의 愛民善政碑가 村村街頭에 林立\\uf537엿더라. 東面\\n花川洞에서 殺人낫다\\ue285 該洞 人民의 報告가 入來\\uf537\\ue57b 尹守가 卽時로 親히 吏屬을 領率\\uf537고 該 洞에 躬往\\uf537야 몬져 死體를 撿査\\uf537여 보니 軟弱\\uf53a 소년에게다 如何 殘忍\\uf53a 强力을 加壓\\uf537엿던지 兩臂\\ue285 挫折\\uf537고 頸周에\\ue285＜45＞絞㾗이 斑斑\\uf53a데 咽喉에 墨血이 充塞\\uf537야 悲慘\\uf53a 最後를 成\\uf53a 形狀이 人으로 \\uf537여금 正視키 難\\uf537니 郡守以下 吏屬과 此를 面當\\uf53a 者\\ue285 다시 말\\uf53c 것 업고 至於路上行人이라도 此를 傳聞\\uf537\\ue285 者 憐憫의 情을 促發\\uf537야 同情의 暗淚를 吊치 안\\ue285 者 無\\uf537고 切齒痛憤\\uf537야 可憐\\uf53a 此 少年의 徹天怨敵을 探發\\uf537면 其 頭上에다 正義의 痛棒을 一加코져 안\\ue285 者 無\\uf537더라. 尹守가 吏屬을 嚴團\\uf537야 洞民에게\\ue285 些少의 冶擾가 無케 \\uf537고 撿屍를 畢\\uf53a 後에 洞頭民을 招來\\uf537야 此 新郞의 居住 姓名 年齡으로브터 何時에 如何\\uf53a 事로 新郞이 此 洞에 來\\uf53a 事와 新郞의 妻家되는 申哥의 一家 實情과 新郞의 妻男되\\ue285 申將孫의 性行이며 新郞의 妻되\\ue285 女子의 性行이며 其他 此 事件 發生以來로 洞內 人民의 見聞\\uf53a 實證을 一一히 審査\\uf537고 次에\\ue285 申將孫과 彼의 母女 二人도 大綱 問招를 畢\\uf537여스\\ue283 正犯을 探索\\uf53c 方向은 倉卒間에 아즉 像想키 難\\uf537고 이 關係 져 關係로 申哥의 母 子女 三人을 爲先 押來\\uf537야 獄中에 嚴囚\\uf53a 後에 尹守\\ue285 寢食을 幾廢\\uf537고 此 兇惡\\uf53a 正犯을 探索\\uf53c 方便에 對\\uf537야 千思萬處를 盡回\\uf537니 不遠\\uf53a 將來에 此 疑雲의 黑幕이一開\\uf537면 其 裏幕에\\ue285 將次 如何\\uf53a 妖魔가 伏在\\uf537여슬고?',\n",
       " '\\n申將孫의 妹夫되\\ue285 新郞 李書房은 殷栗郡 北面 居\\uf537\\ue285 名不知 李生員의 三代독자라. 李生員은 元來 載寧郡 土斑으로 財産도 相當히 잇고 祖先來家名도 稍有\\uf537더니 甲午年 變更以前 虐官暴吏가 全國에 橫溢\\uf537야 誅求濫討를 任意恣行\\uf537\\ue285 中 特히 本道 黃州兵使의 恣弄\\uf537\\ue285 權威가 海西를 暴壓\\uf537니 海西 一境의 人民은＜46＞病使惡吏의 魚肉이 되야 是日曷喪의 嘆과 飢號寃泣의 聲이 九月山보다도 還高\\uf537여슬 \\ueb04에 李生員 門中에 一不良\\uf53a 悖類가 有\\uf537야 李生員의 財産을 奪取倒破할 惡心으로 黃州의 吏輩와 結託\\uf537고 僞債票를 發給\\uf53a 後 族徵督促次로 數多\\uf53a 捕卒을 發送\\uf537니 可憐\\uf53a 李生員은 그, 차고찬 冬至雪天에 그 餓鬼와 如\\uf53a 黃州 捕卒의 鐵鞭捕繩의 鍛鍊과 許多\\uf53a 幸苦만 受\\uf537여슬 \\ueb68일\\uea58. 全家産을 蕩盡無餘\\uf53a 後 生員은 心禍가 動\\uf537고 世事에 悲觀이 多發\\uf537야 飄然蹤跡올 隱晦\\uf537고 殷栗郡 北面 一寒村으로 轉來\\uf537야 貧寒\\uf53a一農幕에서 李生員 通天으로 隱居生活을 忍作\\uf537\\ue285 中에 又 一悲慘\\uf53a 運命은 生員의 身上에 襲來\\uf537니 卽 其 妻君이, 바라고, 바라고, 기다리고, 기다리든 三代獨子를 産出\\uf53a 後에 産後가 不良\\uf537야 그 苦待\\uf537든 愛子를 産褥우에서 永別\\uf53a 거시라. 李生員은 至今 身勢를 自嘆\\uf537나 號訴\\uf53c 곳도, 바이 업고, 一悲一喜 中에 乳母를 雇入\\uf537고 全力을 다\\uf537야 此 失母의 愛憐\\uf53a 遺獨子를 千金갓치 萬金갓치 護養의 手를 盡\\uf537니 生員의 誠意가 空虛치 아니\\uf537야 將次 傾頹\\uf53a 生員의 家門을 興復\\uf537\\ue285 柱石되기를 可期\\uf537\\ue1d3더라. 於焉間에 無私한 天輪은 循回를 幾續\\uf537니 頭邊에 霜雪을 半載\\uf53a 老李生員은 家族도 稀貴\\uf53a데 老年에, 어데 滋味나, 불가\\uf537야 그貴\\uf53a 葉錢 七百兩을 艱幸이 變通\\uf537야 禮裝（禮物）으로 보\\ue299고 長連郡 東面\\n花川洞 居\\uf537\\ue285 申將孫의 妹女 十八歲를 納婚\\uf53a 거슨 其 愛子가 十二歲되든 春節이라. 老생원은 唯一獨子를 柱石으로 알고 如何\\uf53a 苦勞가 有\\uf537든가 或 如何\\uf53a 心禍가 發\\uf53c지라도, 이거시,ㅣ다 愛子의 將來 幸福을 爲\\uf537\\ue285 거스로, \\ue9a2각\\uf537면 百憂가 雪消\\uf537고 萬事에 安慰가 自有\\uf537야＜47＞無上의 樂을 삼더니 本年 二月以來로 花川洞 샤돈집에서 婿郞과 女息 보고푸다\\ue285 通知가 數三次 傳來\\uf537니 老生員은 元來 其 愛息과 暫時라도 相離不見\\uf537\\ue285 거슬 心中에 甚히 不喜\\uf537\\ue283 事勢莫不得\\uf537니, 그르면 二三日 內로 단여오라고 切切당부\\uf537야 其 愛子의 夫妻를 \\uea8d\\ue299여, 보\\ue299고 一日을 三秋갓치, 기다리\\ue285 鬼神아닌 李生員이야 엇지 此 離別이 永遠\\uf53a 離別이 될줄이아, 夢中에니, \\ue9a2각\\uf537엿슬 수, 이스리오.',\n",
       " ' 却說 尹守가 申將孫의 母 子女 三人을 獄에 嚴囚\\uf537고 數多\\uf53a 探偵을 發出\\uf537야 新郞의 本家 情形을 馳探\\uf537며 一邊으로\\ue285 花川洞 人民에게 種種\\uf53a 實情을 廣探\\uf537여보니 新郞의 父親되\\ue285 老生員은 元來 他人에게\\ue285 半點의 稱寃을 受\\uf53c 바 無\\uf537고 況且 新郞으로 言\\uf537면 至今\\uea58지 書齋 外에\\ue285 아즉 洞口外 十里를 不出\\uf53a 十三의 少年이 世人에게 如何\\uf53a 深怨을 買\\uf537여슬 理致가 萬無\\uf53a 則 如何\\uf53a 人이 如何\\uf53a 方面으로 觀察\\uf53c지라도 此 兇計의 發源이 畢竟 此 申哥의 母 子女 三人 中에서 關聯 釀出\\uf537여슬 거슨 到底 公然\\uf53a 秘密이 되\\ue1d3고 況且 古來로 姦夫妖婦가 本夫를 毒殺\\uf53a 事例\\ue285 亦是 不無\\uf53a거신 則 一般 世人의 疑線이 신랑의 妻되엿든 申將孫의 妹女 身上으로 輻射\\uf537\\ue285 것도 \\ueaab\\uf53a 無理\\ue285 아닐 듯.',\n",
       " '\\n申將孫은 元來 浮浪悖類라. 酒色雜技로 祖先傳與의 家産을 蕩盡\\uf537고 百方으로 不義不道를 無所不行\\uf537다가債鬼가 日迫\\uf537고 用途\\ue285 如前\\uf537\\ue57b 黃金에 餓鬼갓치 百計를 做回\\uf537\\ue285中에 一策을 案出\\uf537니 卽 其 妹女를 再賣\\uf537면 一時의 窘急을 可免\\uf537\\ue1d3스\\ue283 其 新郞이 有\\uf537여서\\ue285 實行키 難\\uf53a 則 如何\\uf53a 方策으로 此 新郞만, 업시 \\uf537면 寡妹일예로 賣\\uf537\\ue285 거시 事機에 合當\\uf53c 듯\\uf537야 其 母되\\ue285 惡婆와 如此如此\\uf53a 事由를 秘密히 論定\\uf537고 其 妹夫되는 新郞을 誘出\\uf53c 次로, 그 샤돈되\\ue285 李生員 집에 數三次 通寄\\uf537야 其 妹夫와 妹女를 如意이 誘引\\uf537여다가 其 妹女에게\\ue285, 몬져 如此如此\\uf53a 計劃이 有\\uf53a 것과 또 新郞이 아즉 幼穉\\uf537고 家勢도 변변치 못\\uf537니 萬一 此 計劃이 \\ueae2\\ue3a8로 成就되면 一層 조흔 곳에 改嫁\\uf537\\ue285 거시 조타고 甘口蜜言으로 說服\\uf53a 後에 其 夜에 新郞의 熟眠\\uf545을, 기다려, 이 殘惡\\uf53a 申哥놈의 母子가 錢帶로, 그 可憐\\uf53a 新郞의 목을 잘나 慘殺\\uf537고 其 屍體\\ue285 卽夜로 洞口外 楊柳가지에, 달아\\ue57b여 둔 거슨, 그 淺薄\\uf53a 識見에\\ue285, 이러케 \\uf537면, 其 嫌疑를 自家에서\\ue285 免\\uf53c 줄로, \\ue9a2각\\uf537엿던지, 申哥의 母 子女 三人이 如此히 共謀\\uf537야 新郞을 죽이기, \\uea58지\\ue285 惟一邪慾에, 눈이 어둡고, 心臟이 變\\uf537야 禮義東邦의 前無\\uf53a 慘劇을 敢히 作行\\uf537고서도, 一次 新郞을 죽인 後에\\ue285 忽然이 良心의 嚴責이 自發\\uf537야 一時\\ue285 恐懼의 情을 抑制키 難\\uf537여스나, 이 時\\ue285 恐懼의 情을 抑制키 難\\uf537여스나, 이져는 旣爲作行\\uf53a 일이라, 後悔\\uf537여도 莫及이오 嗟嘆\\uf537여도, 쓸데 업스니, 할 수 잇\\ue285\\ue3a8로 心意를 自抑\\uf537고 天然의 態度를 粉作\\uf537야 世人의 疑線을＜52＞脫\\uf53c\\uea58 \\uf537엿더니, 人事가 莫顯乎隱이오 罪惡이 畢竟의 滅亡을 當\\uf537\\ue285 거슨 自古及今累千載 人類歷史에 昭然\\uf53a 天理라. 此 惡鬼妖魔의 申哥 母 子女도 此 理外에\\ue285 不出\\uf537야 王道의 法網을 脫逃치 못\\uf537고 其 兇惡\\uf53a 罪狀을 一一히 自白乃巳\\uf537엿스니 天道가 엇지 無心\\uf537리오.',\n",
       " '\\n不足되는 新郞이 七百萬\\nR·S·휴프\\n',\n",
       " '나 잇는 隣家에 龍女이라는 今年 20歲의 處女가 有하얏는데 그 家는 赤貧이며 그 父는 頑冥한 今年 62歲의 前日 學者지틱이엇나이다. 子女間 所得이 無하다가 40이 넘어서 처음으로 龍女를 엇고 繼하야 龍源이라는 男兒 1人을 擧하얏나이다. 龍女는 年이 十五六歲에 達하매 處女의 絶艶가 完全히 發秀되어 結婚의 勸告가 輻湊하얏스나 그 父는 龍源을 어서 장가듸려 媤아버님 소리를 들음이 滋味잇슬 것을 생각하며 그리함에는 적어도 龍女를 그 며느리 엇는 미끼(餌)로 삼어야 할 것(家貧코＜29＞ 또 그의 人望이 乏함으로 他人이 그의 門에 딸 보내기를 不肯한 故)을 느끼고 그는 左稱右托으로 出家를 延期하야 龍女가 今年 21歲를 取하게까지 된 것이외다. 그런데 龍源은 今年 11歲이외다. 며느리 보기에 눈이 어두운 그 父는 『아ㅡ 이제는 宿願을 達할 期가 來하얏다.』 하고 爲先 龍源의 結婚을 四處에 求하얏나이다. 그러나 그러케 容易히 될 것이 안이외다. 그는 於是乎 이때까지 準備로 길러오던 龍女를 代償條件으로 하야 그 目的을 遂하기로 하얏나이다. 그 村中에는 自己子弟를 新學問인지 무엇인지 가르키는 普通學校에 入學시키지 안이한다고 그 對等으로 設한 書堂이 有하얏스며 그 書堂에는 今年 40歲의 金某이라는 호래비 學究가 有하얏는대 그는 自己의 空房만 充하얏스면 我望達이란 陰慝한 생각으로 『龍女를 取하얏스면』하는 慾을 언제부터 가지고 巧妙히 運動을 試하얏나이다. 一方으로 『며느리만 取하야 媤父의 行世를 하야보왓스면 平生이 足』이라는 龍源의 父는 兩頑冥이 相投하야 龍源의 장가를 드려 준다는 契約下에 龍女는 金某에게 直히 讓與하기로 하얏나이다. 이 일을 알게된 龍女는 純粹無垢한 村處女의 생각에도 그 結婚의 넘우 無理함에 氣塞되어 母親을 紹介하야 그 父에게 눈물을 뿌리며 自己의 前途를 더 좀 너그럽게 思量하야 주소서 懇願하얏스나 頑冥한 그 父는 『계집애년이 주제넘게 自己의 結婚事件에 對하야 쓰니다니하고... 怪惡한 년... 』하는 一言下에 그 嘆願을 却下하얏나이다. 嗚呼라 父母 兩人 外에 또 밋는 사람이 업스며 父母 兩人 外에 또 아는 사람이 업는 龍女로서 다시 呼訴할 것이 어대 잇겟나잇가. 그는 오즉 긔막히는 한숨을 스스로 지으며 쓸아린 怨痛을 외로히 품고 1日 1日을 愁心 中에 지내일 뿐이외다. 그리하야 그의 顔色은 枯槁하고 形容이 날로 憔悴하야 이웃집 그의 同類들이 暗暗히 그를 爲하야 눈물을 지엿다 할 뿐이입니다. 그리하는 間에도 公道의 歲月은 如前히 가고 또 오고 하야 新郞의 家로 納幣가 오고 또 奠鴈日이 明日에 迫하야 龍女의 집에서는 잔채의 準備로 술을 거르고 떡을 치게 되엇나이다. 一夜만 經하면 저 無瑕한 處女인 龍女는 今年 40歲의 수염 검은 新郞을 마즐 것이외다. 이때 龍女의 가슴은 엇더하얏스리잇가. 意識이 잇스나 업스나 廣闊한 이 天地에 堂堂한 사람의 몸으로 되어나서 자랄(長)대로 자라고 셈들대로 다들어 花朝月夕에 꼿 가튼 將來를 스스로 그리며 스스로 즐기다가 意外 一朝에 頑父의 處分으로 낫코 모르는 엇던＜30＞ 그 者ㅡ 屍體의 냄새가 막 오르는 듯한 40歲의 그 者에게 讓與할 몸이 되어 엇더케이나 變通할 一途를 發見치 못하고 明日이면 아조 이 몸이 그에게 讓與되고 말을 생각하는 龍女의 가슴이 엇더하리잇가.',\n",
       " '所謂 新郞이 온다는 그날 아츰이외다. 龍女는 어느덧 去處가 업시 되엇나이다. 新婚 兩家에서는 엇절 줄을 모르고 그의 去處를 極力 探求하얏스나 찻지 못하얏나이다. 그 後 幾日을 經하야 沸流江 沿岸에서 엇던 漁夫가 입담을고 손 꼭 다 쥐인 女子 屍體를 發見하얏는데 알고 보니 그것이 龍女의 屍體이엇나이다. 그는 千古의 怨恨을 품고 新郞 오기 전날밤 沸流江의 自殺을 致한 것이외다. 우리 곳에는 이 事件이 近日 큰 말거리가 되나이다.',\n",
       " '英氣의 不足은 곳 精神力의 缺乏이다. 精神力이 乏絶한 사람은 潑刺한 英氣가 나지 아니한다. 老衰하며 漸漸 旺溢하는 것은 精神力이 衰退치 아니하야 英氣가 存在하는 까닭이다. 年齡은 젊을지라도 英氣가 업는 者를 世上에서 所謂 若朽라고 부른다. 英氣를 길이 保全하며 또는 그의 思想이 언제던지 靑年의 思想을 품고 잇스면 그의 外貌까지 靑年의 面貌를 保全할 수가 잇다고 한다. 米國의 한 處女가 結婚式 當日에 突然히 新郞의 죽음을 當하야 發狂하엿스나 每日 그 女子는 結婚式 當日의 꿈으로 歲月을 보내엇다. 그리하야 그의 年齡이＜58＞ 六十餘歲에 達하엿스나 그의 容貌는 處女 當時가티 조곰도 變하지 아니하고 恒常 끗가티 아름다웟다고 한다. 이것은 참말 珍奇한 例이지마는 氣가 潑潑한 사람은 老年에 達할지라도 오히려 젊게 뵈이는 것은 事實이다.',\n",
       " '戊. 因襲. 南鮮에 入하야 因襲上 第一 첫재 形式上으로 나타나는 것은 斷髮人의 稀少한 것이니 南鮮 或 地方과 如함은 겨우 官公吏의 幾個人과 天道敎를 信하는 少數敎徒 外에 一人도 斷髮한 人의 影子도 보지 못하엿다. 余가 南原에 往하엿슬 時에 天道敎信者인 一有髮總角을 보고 「君은 天道敎를 信하며서 何故로 아즉 斷髮치 아니하엿나뇨」 고 問한즉 總角의 答이 「此地方에서는 斷髮한 總角에게는 아즉 婚姻을 不結한다」함을 聞하고 余는 苦笑 中에서 南鮮을 爲하야 寒心을 不堪하엿다. 이미  斷髮으 一件이 히려 이러하거던 况 其外의 風習이랴. 길에서 10餘 歲의 草笠新郞이 17, 8入歲의 新婦에게 매달려 코를 훌적어리며 가는 것은 常事의 常事이며 道袍를 입은 兩班學者가 農民에 對하야 이리오나라 소리치기가 例事이며 장옷을 쓴 老婆가 國水堂 압헤서 飮食을 차려노코 손을 비비는 것도 常套의 事이며 간곳따라 大小喪집에서 술먹고 酒酊하는 祭客도 보앗스며 큰 갖을 쓴 術客이 舍廊房에 언연이 안져 十勝之地를 高談하는 것도 들엇스며 占筒을 가진 卜術이 病人의 압헤서 預防祭를 하는 것도 보앗다. 다시 말하면 말하는 내 입까지 惡習의 鬼神이 무더올가봐 그만두거니와 南鮮人士는 이제로부터 猛然自省하야 이 因襲을 解脫치 아니하면 안될 것이엇다.',\n",
       " '晋州郡 晋州面 中安洞 白金生이란 今年 18의 處女는 早失父母하고 義父 李贊敬에게 收養되다가 昨年 8月 中에 河東郡 鄭華永에게로 出嫁하게 되엇는데 鄭華永은 이미 本妻를 有한 者로서 自己의 富饒를 恃하고 有妻又取妻한 者인데 何故인지 장가든지 三日만에 歸家한 後로는 永永不顧함으로 白處女는 數次의 書를 出하야 自己를 거두어 달라 하얏스나 回答조차 無함으로 그는 自己의 將來를 悲觀하고 듸디어 心病을 得하야 回春의 望이 無하매 此를 見한 義父 李氏는 그 情景이 可矜라 하야 가마를 태워 新郞되는 鄭의 집에 보내엇는데 艱辛히 生命을 保하야 新郞과 對面을 得한 白處女는 눈물 먹음은 눈으로 다못 말 업시 新郞을 한참이나 쳐다보다가 2時間 만에 世上을 버리엇더라.',\n",
       " '거듭 그 밤에 配達된 新聞에 新郞 新婦라 하고 新郞과 許의 寫眞이 나란이 낫섯다.',\n",
       " '아아, 거룩한 獨身者님! 婚姻날 新郞이 세넷씩 달겨 들가봐, 獨身生活을 하게 된 獨身主義者, 것으로는 無限 깨끗한 獨身主義者, 남 모르게 煩憫하는 獨身生活! 社會事務를 爲하야 自身을 犧牲하는 獨身者, 老母를 爲하야 自身을 犧牲하는 獨身者, 당신 참 갸륵한 獨身者...',\n",
       " '「저!... 」 매우 말 하기 어러운 듯이 망살거리다가 또 한번 빙글 하고는 말을 이어 「저- 情이 갈린대요. 웨 저- 첫날 밤에 新婦가 新郞의 담배 불을 부처 주면 소박 맛는 다는 이악이가 잇지 안하요」',\n",
       " ' 나는 當場에 말할 수 업는 痛憤을 感하엿다. 더욱 今番 還國 以後로 나는 恒常 칼노 가슴을 찌르는 것 가티 압흐고 쓰린 苦痛을 感한다. 敎壇 우에서 거록한 날에 參拜하는 敎人들 앞헤 自己 집에서 일하면서 닙던 때 무든 두루막을 그냥 닙고 흙과 똥이 뭇은 구두를 그냥 신고 우둑허니 서서 傳道講演을 試하는 우리 朝鮮 선생님들과 外套를 입은 채로 두 손을 드러 祝福 祈禱를 밧드는 宣敎師 어룬들에게 向하야 7,8 百名 或은 1千 餘名의 參拜者 中에 뉘가 일즉 不快를 感하엿는가? 우리 朝鮮 선생님들께서는 아지 못하여서 그럴 지도 모르니까 寬大하게 容恕할 餘地가 잇다마는 敎育이 잇다 하고 文明한 人種이란 宣敎師 어룬들이야 아지 못한다 하면 宣敎師는 둘재치고 文明人이 아니요 萬一 文明人의 作法을 안다 하면 우리 民衆을 侮辱하는 것이 아니냐. 侮辱하는 것이 分明하다. 事實談을 하자니까 ＜79＞ 입이 써서 못 견듸겟다. 우리는 音樂을 愛하는 民族이라 往往히 東西 音樂會를  開催하고 西洋 音樂을 드르랴 할 때 西洋人 獨唱家의 作法을 보면 마음이 쏘와서 참 못 살네라. 입은 衣服은 自己 廚房에서 自己 妻와 가티 料理하면서 닙던 그 때 무든 衣服 그냥 입고 敢히 우리 압헤서 出演하니 音樂이냐 侮辱이냐 夜會服을 꼭 입지 안은 것이 不平이 아니다. 잇고도 안 입는 것이 무손 意味냐? 市內 日本人 主催의 音樂會에 出演할 때 입는 그 夜會服은 朝鮮人 압헤서는 더러울가 念慮하여서 안 입느냐? 우리를 侮辱한들 어찌 그와 가트랴! 日前에 어떤 親舊의 이악이를 드르니 참 분하엿다. 그 親舊가 約 2年 前에 百年佳綠을 매즐 때, 西洋 先生님을 崇拜하엿던지 尊敬하엿던지 自己의 婚禮式을 主張하여 달나고 한 宣敎師에게 請하야 許諾을 엇엇다. 禮式을 擧行할 時間은 午後 1時라고 分明히 말하엿섯는대 午後 3時까지 新郞과 新婦와 其他 親族과 朋黨들이 先生님 오시기만 苦待하엿다. 마츰내 期待하엿던 牧師님 께서는 自己 庭園에서 풀을 뽀부면서 입든 그 衣服을 그냥 입고 얼골과 손빠닥에는 흙이 뭇은 그대로 어정 어정 式場에 드러 오면서 말하는 수작은 「무슨 일 보던 것을 맛추고 오너라구 느저 젓소. 자- 禮式을 합시다」 나는 그 말을 드를 때 내 親舊하고는 또 더 親할 수 업는 友人을 責하엿다. 「우리 사람 中에는 牧師가 업더냐? 그 恥辱을 忍呑하엿느냐?」 아! 아! 우리 사람들도 뎌 日本 靑年들과 가티 自敬心을 가저야 하겟다. 우리의 引導者들도 覺醒해야 하겟다. 우리 民族들도 侮辱이 무엇인지 참으로 알아야 하겟다. 公衆 압헤 설 때나 무슨 禮式에 參席할 때나 訪問을 할 때 나는 될 수 잇는 範圍 안에서는 相當한 衣服을 着할 것이요 身體를 淨하게 할 것이라. 相當한 義服을 着함과 머리를 빗고 신을 닥가 신는 것은 自身을 尊重히 녁임 보다도 自己가 對할 公衆이나 親友를 尊重히 녁임이 아닌가. 그 動機를 바로 가지고 못 가지는데 文化人과 野蠻人의 別이 有하다.',\n",
       " '「...最後의 破滅의 日이 갓가와 오나 보외다. 萬一 只今 여긔, 한 生命의 엄이, 우리의 運命을 決定的으로 裁斷하랴 하면, 우리는 여긔에 服從할가요. 叛逆할가요. 요사이 가타서는 生死의 境界線이 明瞭히＜41＞ 보이는 것 갓습니다...길은 둘밧게 업습니다. 生에도 오즉 한길밧게는 업습니다. 설마 이 몸을 가지고 結婚의 花宴에 參例할 수야 잇겟습니까. 新郞房은 墓地와 다릅니다...모든 것을 決心하얏습니다. 어대로던지 데리고 가 주십시요. 카이사의 것은 祭壇에 올리지 못하지 안습니까. 貴君은 貴君의 것을 바드실 義務가 잇지 안습니까. 모든 것을 이저버리고, 모든 것을 犧牲하고라도 딸아가지요. 妾이란 汚名에도 滿足합니다. 崔氏집과는 벌서 絶緣이올시다. 오늘밤에라도 가겟습니다. 어대던지 가겟습니다. 永遠히, 永遠히 올시다...」',\n",
       " '「짠·오스터」의 性質은 「늴쓰·올라프손」도 잘 알앗습니다. 그리고 또 結婚式 擧行할 時間은 거의 거의 되어 가는데 그런 일로 時間을 느저지게 할 수는 업섯습니다. 「늴쓰·올라프손」은 할 일 업시 「짠·오스터」가 잇는 곳으로 가서 잘 왓다고 마젓습니다. 그리하여 「라쓰·라손」과 「짠·오스터」 두 樂士가 그 婚姻行列의 맨 압헤 서게 되엇습니다. 新郞과 新婦는 羅傘 미테서 것(步)는데 Groomsmen에 Bridesmaids(新郞新婦의 附從人)는 둘식 둘식 뒤를 따르고 또 그 뒤에는 新郞新婦의 父母와 親戚들이 뒤를 이엇섯습니다. 참으로 길고 威儀잇는 行列이엇습니다.',\n",
       " '그러나 「짠·오스터」는 貧窮과 困難의 土窟로서 헌털뱅이를 몸에 걸치고 온 自己가 다른 어떤 紳士만치나 옷 잘입은 「라쓰·라손」 樂士보다 낫다고 생각할 수가 到底히 업섯습니다. 그리하야 「아니올시다, 아니올시다, 當身이!」하며 「라쓰·라손」더러 먼저 始作하기를 勸하엿습니다. 그 (「짠·오스터」)가 新郞이 「라쓰·라손」 樂士의 어깨 우에 손을 언고 「「라손」! 當身이 먼저 始作하시오!」함을 듯고는 턱미테 치어 들엇던 4絃琴을 脉업시 떨어털이고 한 편으로 비켜섯습니다.',\n",
       " '勞働이 업서 노는 사람과, 돈이 잇서 노는 사람을 볼 수 잇는 地方이더이다. 「文化程度」로는 男女를 勿論하고 新聞은 아니 보는 사람 업더이다. 또 小說인데 大槪가 戀愛說이외다. 如何間 趣味生活은 하더이다. 아무리 貧民이라도 그림 한 장은 집에다가 부티엇더이다. 그러나 政治談은 蛇蝎視하더이다. 이 나라사람의 通性이 偏性이외다. 「女子 待遇」는 米國에 比할 수 업더이다. 이곳＜62＞ 男子가 그다지 尊敬하지 아니하더이다. 勿論 大戰 後 180萬의 寡婦를 가지엇다 하지요 마는 女權이 잇다고 할 수 업더이다. 또 이나라 女子들은 英國女子들의 政治에 關係하는 것을 嘲笑하더이다. 내가 去年 9月에 어떤 法人의 家庭에 잇슬 때에 마츰 新聞紙에 英國女子 市廳 訪問說을 揭載하얏기에 主人女子에게 뭇기를 「法國女子들은 政治를 조하합니까?」 「政治 말이요? 만일 女子가 政治를 하면 안살림은 누가 하고요?」 「英國女子는 모두 건방지외다」합듸다. 戰後에 各種 恩賜機關을 組織하얏지요마는 女子를 爲한 것이라고는 업나이다. 잇다면 巴里에 貧寡婦救濟所가 잇지요 마는 官立이나 市立도 아니요 私立이외다. 「女子의 職業」은 上으로 打機生, 下로는 下人이외다. 이것은 普通이지요 마는 몃낫 女子의 主筆이나 或은 記者도 업는 것은 아니겟지요. 「女子들의 夢想」은 어대나 마챤가지로 그들은 아무짓을 하던지 잘먹고 입고 便히 노는 것을 조하하더이다. 그들은 中國女子나 우리나라 女子들 모양으로 政治를 조하하지 안터이다. 「女子의 敎育」은 普通 男子보다 1年을 늣게 組織하엿더이다. 「婚姻」은 勿論 天主敎式이나 或은 耶蘇敎式이지요 마는 이것도 英米와 갓지 안소이다. 차라리 東洋式이라 할는지요? 이곳 父母들은 그들의 딸을 大門 밧게 내어 보내고저 하지 안습니다. 만일 내여보낸다면 父母이나 親知이나 或은 忠直한 下人을 隨從시킴이다. 그래서 約婚을 하더라도 新郞이 婚日 前에 新婦를 볼 수 업지요 마는 設或 본다하면 新婦의 父母 眼前에서 嚴肅히 相逢할 뿐이요. 또는 이곳 新府들도 父母이나 或은 親知가 定婚하야 주는 것을 願하는 모양이라 합니다. (間或 英德風으로 戀愛 結婚이 업는 것은 아니지요 마는) 「市民의 生活」은 집에서는 잠이나 자고 낫은 市街에서 보내는 것이 恒例외다. 食事는 밥집에 가서 사먹고 놀기는 카페店에 或은 活動寫眞館 演劇場이지요. 우리 東洋 사람들이 間或 낫은 房에서 보내면 主人 女子들은 變으로 아더이다. 이것은 男女를 勿論하고 이러하외다. 아마 나의 생각 가타야서는 全法國 各 都市에 市民 中 自己 집에서 밥 지어 먹는 사람이 몃 집 되지 아니 할 것이외다.',\n",
       " '그해 봄 복숭아 꼿이 夭夭히 피엇슬 때에 OO邑 禮拜堂에는 婚禮式이 盛大히 열리엇다. 一善은 父親의 嚴令에 그만 긔운이 죽어저서 鄕廳모루 들어가는 소 모양으로 부득히 禮式席에 나아갓다. 新郞 新婦의 親戚은 말할 것도 업거니와 觀光하는 여러 사람들도 工夫하던 學生들의 新婚式이라 하여 或 부러워하기도 하며 或 얼굴에 깃분 빗을 띄웟다. 그러나 오즉 一善은 깃분 빗이란 하나도 보이지 안핫다. 牧師는 여러 가지로 뭇는다. - 將來에 너이가 强하나, 弱하나 가티 붓들어 지내며 貴하나 賤하나 生을 서로 도아 지내겟느냐...고 하엿다. 一善은 마지 못하여 그저 唯唯히 대답할 뿐이엇다. 마지막으로 목사는 둘 새의 握手를 勸한다. 一善은 마지 못하여 손을 내여 밀엇다. 新婦의 「너울」쓴 얼굴을 보기는 이 瞬間이엇다. 아- 내 마음이 이러케 弱한가 하엿다.',\n",
       " '무슨 大學 卒業生을 新郞으로 어떤 女學校 出身을 新婦로 꼿다운 結婚式이 擧行되엇다는 新聞記事가 눈에 띄일 적마다 昌燮은 화증나는 듯이 휙 新聞을 집어 동댕이치며 한숨을 쉬기도 하얏다.',\n",
       " '하고서 求婚狀을 바든 新郞처럼 반갑고 깃거운 눈으로 그것을 뜨덧다. 그러다가는',\n",
       " '『新郞新婦』- 巴人作- 『朝』',\n",
       " '여긔 우리로 하여곰 이상한 感을 이러키게 하는 것은 婚禮의 주요한 의식인 合巹의 式이 昏夜에 신랑의 집에서 거행됨과 동시에 신부는 명실공히 新郞家의 가족이 되여버리는 것이다. 現今 우리의 習俗은 이와 반대로 예식이 晝間 신부의 집에서 행하게 되며 그러고 壻는 신혼당초의 3일간을 女家에 留하게 되며 다시 그 뒤 수 년간을 女家에 往復한 후 비로소 길일을 택하야 소위 于歸의 禮를 행함으로써이다. 혼례가 왜 昏夜에 행하엿느냐 하는 문제에 就하야는 中國의 학자사이에도 여러 가지 설이 잇으며 朝鮮學者들도 이에 언급한 이 결코 적지 안이하나 지금은 이 문제에 觸치 안이하겟으며 오즉 혼례의 의식의 女家에서 행하게 되고 그 뒤 壻가 약간의 기간을 女家에 체류 왕복하는 이 습속의 유래에 就하야 考究하여 보고저 하는 바이다. 이 습속은 朱子의 家體에 反한 것이니 朝鮮고유의 민속이나 또는 그에 유래한 事象이라고 볼 수 잇을 것이다. 과연 그러하면 이 민속의 유래와 의미는 奈邊에 잇을가. 그것을 설명하기 전에 나는 현존한 如斯한 습속에 就하야 좀 더 자세히 記述할 필요를 늣긴다.',\n",
       " '夕陽역에야 一光이 옴으로 함께 夕飯을 치른후에나는 그를 따러 松堂學院에 가서 新郞다는 求景을 하게되었다.',\n",
       " '그리자 뭇청년들이 村新郞을 한참 달고 치고 하더니만 금시에 酒席이 버러진다.',\n",
       " '妾이란 무었이냐. 반상긔(飯床器) 쟁첩이냐 바누질 그릇의 실첩이냐 하는 말은 巷間에서 쓰는 허튼 수작이어니와 그것을 좀더 意義잇게 古典에 參考하야 본다면 說文에는 曰하되 妾之言은 接也-니 聞彼有禮하고 走而往焉하야 以得接見君子也-라하고 左傳에는 云하되 女爲人妾하니 妾은 不聘也-라하고 彙苑에는 妾은 接也-니 得接見君子而不得伉儷也-라 云하얐으며 朝鮮俗行謎語에는 「붉으면 대초(大棗)요. 대초면 달고 달면 엿(飴)이요. 엿이면 붙(接)고 붙으면 妾이다」란 말이 잇다. 이 여러 가지의 말을 綜合하아보면 妾은 接이란 뜻이니 卽 女子가 男子와 正式의 夫婦가 되지 않고 그냥 接近하야 산다는 뜻이엿다. 妾에는 良妾과 賤妾의 2종 구별이 있으니 良妾은 글자 그대로 良家의 여자로 남의 妾이 된 것이요 (이 경우에 婚儀는 정식의 妻와 無異하나 다만 新郞이 所著紗帽의 兩角을 除하고 禮를 행한다.) 賤妾은 元來身分이 천한 여자로 남의 妾이 된 것이니 例하면 私婢, 官婢, 國婢(官婢, 國婢는 卽 妓生의 類다.) 卽 公私賤婢及娼妓類의 妾이 그것이다. 然而妾에는 또 여러가지의 別稱이 있으니 卽 副室, 少室, 別室, 側室, 小家 等이 是다. 小家는 少室과 가튼 말이니 本妻가 原則上 大家에 있는 까닭에 거긔에 對하야 하는 말이요. 또 側室, 別室, 副室은 本妻를 正室이라 하는데 對하야 생긴 말이다. 그런데 近畿地方에서는 別室이라면 대개는 老人妾을 가르처 말하고 開城地方에서는 良妾을 가르처 산後室(生後室)이라 하며 또 近來에는 妾이란 名稱을 忌嫌하야 或稱 第2夫人 또는 左夫人이라고도 하는 일이 잇다. 그리고 本妻는 宅字를 노와서 혹은 楊州宅 春川宅, 玉洞宅, 嘉會洞宅 하지만은 妾은 특히 집字를 부처서 平壤집, 全州집 大邱집, 淸進집, 寺洞집이라 하며 尊稱하야도 그저 마마(媽媽)라 하고 마님 아씨의＜20＞ 말은 쓰지 안는다.',\n",
       " '\\n★三日안 新婦가 毒婦로 突變新郞을 絞殺코저\\n',\n",
       " ' 全國 普通으로 計算則生命虧損이 亦何如\\uf537\\ue1d3\\ue283뇨 加此\\uf537고\\ue285 人間이 繁衍\\uf53c 슈 萬無\\uf537니 豈不痛嘆이며 人種이 繁盛치 못\\uf537고 엇지 國家와 彊土와 生命을 保存\\uf53c 實力이 有\\uf537리오 腐敗\\uf53a 舊習을 一切 滌去\\uf537고 無得이 改嫁\\uf537야 妙妙\\uf53a 靑春光陰을 無情히 虛送치 말고 蒼蒼\\uf53a 萬里前程을 둘엿시 展發\\uf537야 若子若孫이 繼繼承承\\uf537야 남과 \\ue1bf치 無窮\\uf53a 福祿을 享有케 \\uf537면 私分에 快樂이오 國家에 幸福이니 凡愛國愛民者孰不爲謝리요 東西文明國俗에\\ue285 婚姻을 結코져 \\uf537\\ue285 時에\\ue285 新郞과 新婦가 社會上或公園地예 以時相會\\uf537야 顔面을 觀熟\\uf537며 心法을 忖度\\uf537야 不合則自破\\uf537고 意合則牢婚行禮\\uf537야 百年偕老에＜21＞彼此 違背心이 毫無\\uf537거든 엇지 反目\\uf53c 길이 有하며 寡婦되면 依例히 改嫁하니 生命에 虧欠될 理가 有하리요.',\n",
       " ' 蜜啞子ㅣ 白晝閒坐러니 門外에 轎影이 翩翩\\uf537며 有一女子ㅣ 淺淡素衣로 信步而入\\uf537야 恭敬納拜\\uf537고 席側에 危坐\\uf537\\ue285지라. 蜜啞子ㅣ 疑怪不已\\uf537야 擧目視之\\uf537니 年過二十이요 玉顔朱唇에 眉目이 淸秀\\uf537야 操潔\\uf53a 狀態가 士族家婦女也ㅣ라. 敬而問曰 婦人은 誰家女子로 有何事故\\uf537야 失禮不敬이 胡至此極乎아. 該女子ㅣ 如冤如恨之狀으로 拱手對曰 本人은 南村居權姓女子로 十二歲에 出嫁\\uf537야 十四에 夫亡\\uf537고 紅顔薄命이 父毋膝下에셔 歲月을 虛送\\uf53a 者ㅣ 八年 今日이온\\ue3a8 閑中日月을 消遣末由\\uf537와 國文新聞을 課日購覽이온 바 嚮日雜報에 金判書之 外孫 洪參判之 寡女가 李侍從의 再娶婦人으로 行醮納幣\\uf537야 備禮成婚云則 金判書는 我國에 華門甲族이요 院老重臣일 \\ueb68 不啻라. 當今 改革時代에 百度更張이 無非去舊刱新인즉 舊婦舊郎의 行醮納幣\\uf537야 再嫁再娶함이 新婦新郞의 行醮納幣\\uf537야 初嫁初娶\\uf545으로 孰優孰劣의 差異가 無\\uf537온즉 挽近世上에 事與物이 無非占未所有者이옵기 此 雖四千載未有之擧ㅣ나 新世界에 特色으로 一種良俗이 될 쥴노 果然 自負暗喜\\uf537얏더니 其後 新聞紙에 李氏家에＜20＞長老와 兒少가 不欲以嫡婦嫡毋로 待之云云則婚書紙에 何以定約이온지 人間天地에 是何惡聲耶아. 手中新聞紙가 不覺自墮이옵고 哀冤愴慟이 十倍於崩城之日이온거시 當初에 此等 新異\\uf53a 消息을 寧使未聞者ㅣ면 已어니와 旣是千萬念外에 警世晨鍾을 得聞할 \\ueb68더러 大族巨室에셔 發起提刱\\uf545으로 一般靑孀界에 重天再生之人들이 洪李 兩氏의 德業을 崇拜\\uf537야 再醮成婚의 嚆矢됨을 萬年記念할 쥴로 알아\\ue98e더니 無情一雷가 薦福碑를 打碎\\uf537온지라. 到今\\uf537야는 苟支殘縷가 生不如死ㅣ라. 鴻毛一命을 斷送泉臺\\uf537야 寧欲無知옵기 有志社會에 一次瀝血鳴冤코져 不顧猥越\\uf537고 今玆衷訴\\uf537나니다 \\uf537며 不勝悲泣\\uf537난지라. 蜜啞子ㅣ 聞罷에 毛骨이 竦然\\uf537야 不勝慘惻而起敬對曰 大抵 今我同胞內에 如是靑孀이 不知其多少어니와 一生抱恨\\uf537야 百年終老케 함이 一則政府之失也요 二則吾輩之過也ㅣ라. 今以政府之失과 吾輩之過\\ue470 詳言之\\uf537리라. 去甲午年에 國家에셔 政法을 改革維新할\\ue999 政府議案에 寡女改嫁之條가 有\\uf53a지라. 伊時에 本人이 亦 以意見書로 議案十條를 內閣에 提呈할\\ue999 第二條에 有曰 今見議案에 寡女改嫁之條가 有\\uf53a즉 人世에 廣蕩\\uf53a 鴻典이 올지라. 雖然이나 人情과 事態에 極度極處를 甚不周察而遽有是典이온지 大蓋 人心之不齊가 亦 物之情也ㅣ라. 彼 女子의 心性情을 周察\\uf537오면 或貞 或醜\\uf537야 乃無揆一本으로 雖慈毋嚴父라도 莫能一致者인즉 今此恩典이 恐或爲水上捺印일가 \\uf537나이다. 何爲其然고 貞女則雖有此典이라도 必不改節이요 醜女則雖無此典이라도 曾自毁節也ㅣ니＜21＞今日 鴻典이 有何實效哉아. 大抵 人情을 窮究考審則非貞非醜之間에 或拘於體面而趑趄不決者와 或碍於家聲而停止未行者가 每常 十中八九也ㅣ라. 此日蕩典이 意外遽下則非貞非醜者ㅣ 幸幸然相起曰 是乃國法所在也ㅣ니 依據的確이라 \\uf537야 卽 欲行之할\\ue999 亦 何自求佳偶\\uf537야 百年偕老哉아. 捿屑踪跡이 若非沒於娼樓則落於酒肆者ㅣ 不尠矣리니 爲父爲兄者ㅣ 忍何目睹而安於心哉아. 然則 反不如使其父毋로 躬親周章\\uf537야 從善區處케 \\uf537되 家內에 紅顔靑孀을 不得留養게 \\uf537는 法則一條를 制定頒下할 거시요 且 以父母之心으로 言之라도 紅顔靑孀을 眼前에 留置함이 孰非不忍이리요만은 此亦拘於世風\\uf537고 關於事體\\uf537야 忍此不忍者ㅣ라. 此際에 此等望外之典이 頒下則孰不快於心而幸於事哉리요 少無拘碍於世範\\uf537야 爭成大同之俗而另求好男子\\uf537야 光明配送할지니 此豈非完實之典耶아. 雖然이나 此間에 些有欠節\\uf537니 何者오 國法에 靑孀을 不得留養於家內則女子中에 或者貞孝雙全者ㅣ 有\\uf537야 烈不欲失節而改嫁\\uf537고 孝不欲使其父毋로 抵罪者ㅣ면 或者自斃者ㅣ 亦此不無\\ueb68 不是라. 節亦不同\\uf537야 天挺貞烈은 已無可言이어니와 我國自來風氣가 所謂 妾也者는 擧皆淫奔寡行者로 家族이 賤待\\uf537고 鄕黨이 遐棄\\uf537며 生子에 不得淸宦\\uf537고 死歸에 亦 莫合葬故로 如干守分之女는 不欲爲妾於人者也ㅣ라. 然則 今日 國法維新之地에 一事二事를 不可不 人情의 極度를 窮究硏核할지라. 以愚見으로 言之\\uf537면 男子ㅣ 喪配爲鰥而再娶할 時에 閏秀와 作婚\\uf537\\ue285 風俗을 嚴禁永杜而已로다. 若使男子로＜22＞年少喪配爲鰥而不得再娶於閨秀之地가 되면 勢不得已\\uf537야 卜妾乃己者也요 妾旣不齒於正室之班則宗嗣繼續을 將何爲之哉아. 自然判書之寡女와 參判之鰥子가 各其德同勢敵을 相逐\\uf537야 行媒議婚\\uf537야 納幣親迎할\\ue999 雖曰 彼此再婚이나 年紀之敵과 門地之同을 各自 取擇\\uf537야 再醮行禮가 될지라. 然則 彼此 再婚으로 孰初孰再之別이 無\\uf537야 人生天地에 同等\\uf53a 天權을 保管\\uf53c \\ueb68 不是라. 苟如是면 雖有德行不足者라로 族奸之變과 淫奔之亂이 亦此絶少\\uf537야 國風이 肅正\\uf537고 民紀가 頓整\\uf537올지니 今此議案에 男子ㅣ 不得再娶於閏秀란 一條를 立款\\uf537소셔 \\uf53a 者ㅣ 有之矣려니 伊時政府에셔 採用치 아니\\uf537얏슨즉 是는 政府之失也요 天降生民之地에 至公無私히 男女의게 身權을 均是同給\\uf537얏것만 男子는 喪妻爲舊郎\\uf537야 再醮於新婦\\uf537고 女子는 喪夫爲舊婦\\uf537야 舊郎의게도 猶不得再嫁行醮者\\ue285 無他라. 民法과 民俗이 不立\\uf537야 此等 人倫大事를 尙無底定\\uf537야 天權을 如是自損케 \\uf53a 者ㅣ니 是\\ue285 吾輩之過也ㅣ라. 我國哲學家之言에 法不生俗이면 俗不生法이라 \\uf53a지라. 近日 各般社會에 政黨 民黨이 國法 民法을 硏究制定中인즉 早晩에 文明良法이 煥然成俗\\uf537야 公平世界을 作成\\uf53c지니 望湏寬抑\\uf537야 無損天齡\\uf53c지어다. 該女子ㅣ 收淚再拜曰 今日에 女子本分을 若是毁傷\\uf537고 格外擧措가 至此駭怪\\uf537얏\\ue97d오니 非但 名敎內에 罪人이라. 倫理界에 悖類라 \\uf537리로소이다 \\uf537고 拜辭而去\\uf53a지라. 惟願今我同胞에 兄弟姊妹\\ue285 本人의 今此所經歷\\uf53a 意見書를 再三 閱覽\\uf537시고 千萬窮究\\uf537시와 紅顔靑孀의 百年身世을＜23＞善良計算\\uf537야 當今維新世界에 天賜\\uf53a 身權을 維持\\uf537며 自賦\\uf53a 天福을 享有케 \\uf537심을 顒祝萬萬.＜24＞',\n",
       " '  저의 일홈은 웻딍테불 Wadding table 이라고 일홈을 지엿슴니다. 이것도 누가 지여준 것이라든지 혹은 부모가 지여준 것이 아니올시다. 제가 당돌하게 일홈을 지여버렷슴니다. 조선 말로 군색하게 번역을 하면 혹 결혼식상(結婚式床)이라고 할는지요? 그쯤만 알고 게시면 대개 틀림은 업슬 것입니다. 굴리는 말을 모르시는 분이나 혹은 녯날 로인들게서 들으시면 「아! 한문 자가 멧 만자인데 일홈을 뎡당하게 짓지 아니하고 원 그것이 무슨 비러먹을 소리냐? 에라! 네까진 놈이 이야기를 하면 무엇을 똑똑히 하겟니? 나는 안이 드를테다』 하시겟지만 그게 그런 것이 안님니다. 성인도 종시 속을 하랫다구 너무 고집을 쓸 것도 안이겟지요. 더욱 이제 일홈은 그러케 해야만 할 것을 증명하기 위해서 한 가지 례를 들어보지오. 요사이 신문 기자들의 성명이 무엇인 줄 아심니까? 들으시면 놀나심니다. 공연히! 그러나 한다든 말이니깐 하지오. 여러분 신문 기자의 뒤를 좀 따라 다니여 보시오. 더욱이 연극장이나 뎐차에서 보세요. 신문 기자가 연극장에를 돈도 아니내도 그냥 쑥 드러감니다. 그러면 표 밧는 사람이 황망하게 『누구심니까?』하고 무르면 기자는 이상스럽게 눈을 뜨면서 『패스!』하면 그만임니다. 뎐차에서도 그냥 나릴 때에 운전수가 『표 내고 나리시오 하면 그역 『패스!』하면 고만임니다. 그의 일홈이 『패스』기 때문에 아모대라도 함부로 단임니다. 돈 안이 내고도 잘 단임니다. 돈을 내도 잘 안이 드리는 곳에를 패스는 그냥 막 드러감니다. 저도 결혼식장에를 그냥 쑥 드러갈 대 문직이가 『누구야?』하야 저는 『테불!』하면 아모리 미인의 경계만흔 결혼식에라도 무사이 통과가 됨니다. 좀 우락부락한 문직이는 공연히 사람 을＜78＞ 시달리느라고 『무슨 테불이야?』함니다. 그러나 그때 저는 『웻딍테불!』하면 제아모리 작란군이라도 정색을 하고 두 손으로 내몸을 번적 드러다가 그 어엽분 시악시 압헤다가 노아줌니다. 요사이 젊은 청춘남녀의 결혼식에는 모도가 영어로 일홈을 부름니다. 가령 말하면 쁘라이드(新婦) 쁘라이드그룸(新郞) 베일(面紗) 웻틩으링(結婚式契約指環) 후록코트(禮服) 무슨 모닝코트(禮服) 무슨 칼라 넥타이 ... ... 등. 참말도 만치요. 그곳에 조선 일홈이라구는 신부 신랑의 일홈뿐일까? 안이예요. 어느 때 드르면 신부신랑의 일홈도 듯기에 괴상한 일홈이 잇셔요. 무슨 『마리아』 『요섭』 『요한』 『메리』 『로-스』 『헤렌』 참말로 녯날 로인이 드르시면 『야 그것이 무슨 일홈이냐 일을케면 우리말로 하면 『개똥』이 『쇠똥이』 『뒷간』 『간난이』 하는 일홈이냐? 허허!』 하고 우스시겟지요.',\n",
       " ' 그해가 어느 해인지 자서히 記憶지는 못하나 그때에 그의 오라버니 朴廣熙氏는 나에게 이러한 부탁을 하엿다. 내의 姉弟가 今春에 官立高女의 業을 마치고 年齡도 또한 成婚期가 되엿스니 엇던 맛당한 新郞이 잇스면 中媒나 한 곳 하야달나고 그리고 또 그는 그에 대한 말을 하되 「나의 姉弟가 外貌는 나와 가터서 비록 보잘 것 업스나 속은 엉둥하야 생각이 제법 관계치 안코 工夫 成績도 조흐며 辯才가 또한 잇다고.」 하얏다. 그러나 그때까지도 그의 얼골을 자서히 보지는 못하얏다가 어느날 동물원 구경을 가섯는데 그의 가족이 또한 구경을 왓섯다. 朴廣熙氏는 나를 보고 반가워라고 인사를 하면서 너-나의 누이를 좀 보랴느랴 하고 가르치엿다. 나는 그제야 비로소 그의 얼골과 態度를 자서이 보왓다. 그는 지금에＜43＞ 女流運動 혹은 무슨 運動으로 女性界 猛將이 되야 별로 안 가는 것이 업고 또 演壇에 나서서 雄辯을 吐하지만은 그때까지에는 엇지나 수집은지 구경을 다니는데도 얼골을 푹 숙이고 다니엿다. 아모리 그의 오라버니를 달멋다 할지라도 그의 몸집이 그다지 뚱뚱한 줄은 몰낫더니 想像보다는 보기에 매우 뚱뚱하엿고 朴廣熙君이 키는 적으나 얼골은 多少 風彩가 잇슴으로 그의 얼골도 비슷하려니 想像하엿더니 얼골 風彩는 그의 오라버니만 못하야 뵈엿다.(怒하지 마십시오)',\n",
       " '이리하야 그 동리는 香娘이가 살무로 모든 젊은 小童들이 우슴판으로 그날그날을 보내엇고 老人들도 薄酒山菜를 마실망정 나븨가치 너울너울 나다니는 香娘을 보고서 저도 新郞이 된 듯 젊어지어 깃부게 깃부게 이 세월을 보내엇다.',\n",
       " '香娘이가 시집간다는 말에 마을 여러 총각들은 아조 낙담하야 봇다리를 질머지고 마을을 떠난 이까지 만히 잇섯다. 그 중에서도 제일 슬퍼하는 것은 慶男이라. 慶男이는 寢食을 닛고 香娘을 그립어 하엿다. 그리하야 혹은 네전의 시냇가으로 또는 그 집 울타리 밧그로 도라다니며 香娘을 부르기를 마지 안엇스나 감옥 중 죄수 가티 가친 香娘을 맛나볼 길이야 어듸 잇스랴. 그 집이 불에나 타면 香娘이 도망하여 나올 것이라고 한번은 불을 지르려다가 들키엇고 또 하잘 것 업는 反抗이지만은 崔尙州의 집에 돌총을 노키도 하엿다. 그러나 모든 것은 절대의 힙압헤 무슨 효험이 잇섯스랴. 잔체날은 박두하엿다. 경남은 절망 끗헤 이제는 기럭이 노코 수팔련 들이고 권마성 치는 그 禮式場에 드러가 新郞에 危害를 줄 길이 남엇슬 뿐이라고 날마다 뒷산에 올라 칼 쓰는 법과 활쏘기를 련습하엿다.',\n",
       " '\\n新郞의 가진 虐待\\n',\n",
       " '新郞은 겨우 열네살, 게다가 흔히 郡王의 아들이 白痴인 모양으로 痴줄이엇다. 첫날밤부터 이부자리에 오줌을 싸고는 香娘이가 쌋다고 외이고 또 금수절이나 은비녀 등을 장롱에서 끄내어 제가 팔아먹고는 香娘이가 그리하엿다고 도적누명을 씨워 때리기도 하엿다. 엇던 때는 밥을 굶기고 엇던 때는 옷을 벗기어 쫏처내기도 하여 온 동리의 꼿으로 일홈 잇든 絶世의 少女가 지금은 실로 강아지만한 갑도 업게 도라다니게 되엇다.',\n",
       " ' 金壽恒의 號는 文谷이니 淸陰 金尙憲의 孫이오 孝顯肅 三朝의 名臣이엿다. 그 妻 羅씨는 鷗浦 羅萬甲의 孫으로 甚히 婦德이 잇섯고 文谷에게 內助의 공이 만흐며 六子를 두엇스니 長은 昌集이오 次는 昌協, 昌翕, 昌業, 昌緝, 昌立으로 모다 忠節, 學行과 文章 才識이 잇서 世의 名人이 되엿다. 夫人이 知鑑이 잇서 料人에 長하더니 次子 農岩이 早年에 蔭科하야 新恩의 衫服으로 入謁한 즉 夫人이 感眉不悅하되 汝의 模樣은 山林處士와 갓다 하고 其後 長男 夢窩가 蔭官으로 晩科하야 入拜한 즉 撫背 大喜하면서『吾家에 眞 大臣이 再出하얏다』하더니 과연 農岩은 早廢하야 出仕치 안코 隱居하얏스며 夢窩는 壽位가 俱高하야 上相에 이르고 老論 4大臣으로 殉職하얏다. 또 夫人은 治家가 嚴肅하고 自奉이 儉薄하야 政丞의 孫婦로 政丞의 妻로 政丞의 母로 政丞의 弟嫂로 門庭이 烜爀하야 貴盛이 莫甚하얏스나 一生에 布裾荊釵로 寒士家 主婦처럼 지내고 綺羅의 *을 身에 近치 아니하얏다. 某 公主家에 慶宴이 잇서 內外貴賓이 畢集하얏슬 때에 夫人이 또한 往參하니 公主가 執禮 甚恭하는지라 때에 모든 諸 貴婦人이 綾羅와 珠翠로 粧身하얏다가 夫人을 보고 何許濱婆에게 主人이 恭敬하나 하야 疑訝하다가 後에 文谷夫人인 줄을 알고 서로 羞慚하얏다 한다. 夫人이 또 愛女가 잇서 擇婿할 새 제3子 三淵으로 하야금 閔씨 諸兒中에게 看選하라 하니 三淵이 往見復命하되 閔家兒에서는 可合者가 업다 하고 李氏家에 定婚하얏섯다. 婚日을 當하야 新郞을 보고 夫人이 三淵을 責하되 李郞의 儀容은 비록 美하나 遠大의 器가 아니오 壽限도 不足하겟거늘 汝의 鑑識이 엇지 不精함이 若是하뇨 하야 咄嘆을 마지 안엇다. 後에 閔氏群 從兄弟가 來遊 하거늘 三淵이 入告 曰『母氏가 恒常 閔家와 결혼치 못함을 恨하니 이제 閔氏少年이 모힌지라 一次 窺視하소서』부인이 門隙으로 一見하고 다시 三淵을 大責 曰 諸閔이 모다 榮達할 相이어늘 汝가 失하얏스니 가위 有眼無珠라 하얏다. 과연 李는 未滿 30에 一官을 得치 못하고 夭逝하얏고 閔氏 諸兄弟는 趾齋 丹岩 등 名公鉅卿이 輩出하게 되어 三淵 晩年에 其 母의 藻監如神한 것을 敬服하얏다.＜163＞',\n",
       " ' 이 말을 들은 그 어머니는 놀나기를 마지 안어서 그 방책을 생각하든 중 엇던 무녀(巫女)의 말을 드르니 거짓 시집을 보내고 그 신랑(新郞)을 죽이면 팔자 때임을 한다고 하는 말을 들엇슴니다. 그것은 엇더케 하는 것인고 하니 아모든지 한 남자를 달여다가 하로밤을 시악씨와 가튼 방에 두엇다가 밤이 발거든 몰아다가 죽이는 것이니(통칭 보싸움이라고 하는 것이다.) 그러케 하면 이 상부할 팔자 때음을 한다는 만풍(蠻風)이 잇섯다고 함니다. 이 가튼 중국(中國)풍의 만풍으로 인하야 그 당시에 무고한 청춘 남자가 얼마나 이 보싸홈이란 귀신도 몰으는 죽음을 하게 된 것이 부지기수라고 함니다.',\n",
       " ' 前記 苔灘 酒幕을 舞臺로 하야 잠간 맛낫다 잠간 헤여지는 두 개의 新行이야말노 이 例의 一端을 보여주는 것이 안이엇든가? 25세 된 新郞과 14세 된 新婦! 12세 된 新郞에 18세 된 新婦! 이 얼마나 奇怪한 對照이냐!',\n",
       " ' 이러케 주거니 밧거니 입에 침이 마르게 新婦稱頌과 朴씨집 慶事를 祝福하고 도라가는 親戚隣人을 보내고 新郞新婦도 단꿈이 기대리는 東房에 드럿다.',\n",
       " ' 舍廊에서 잠이 들엇든 新郞의 아버지는 바지고춤을 붓잡고 상투를 쓰다듬오며 門 밧그로 나아갓다.',\n",
       " ' 新郞新婦는 뜻밧게 侵入하는 그 어머니로부터 비로소 이 밤의 怪變을 알게 되엿다.',\n",
       " ' 主人夫妻의 惶恐無色! 新郞의 失望! 그것은 훌늉한 悲劇이엿다. 그러나 이 悲劇이 오래 持續되기에는＜246＞ 밧게 等待한 下人輩들의 督促이 星火갓핫다.',\n",
       " ' 이 怪常한 雰圍氣속에 말업시 안젓든 新婦는 慌忙히 서드는 主人夫婦 보다도 失望에 머리를 드리우고 長太息하는 新郞이 엇전지 가염서 보이엿다. 그의 머리에는 문득 떠오르는 무엇이 잇섯다. 그래서',\n",
       " ' 『자! 어서 밧비 轎子에 오르실 준비를 하십시요.』하고 떨니는 음성으로 行裝을 催促하는 新郞의 어머니를 향하야 자리를 고처 안즈며',\n",
       " ' 『朝鮮은 人情之나라람니다. 일이 이에 밋첫다기로 제가 엇지 저이(新郞)를 뿌르치고 떠날 수가 잇사오릿가. 이것도 緣分으로 알고 이 男便을 섬길터이오니 吳進士宅 下人을 돌녀보내 주소서.』',\n",
       " ' 新婦의 固執이 이러한 지라 新郞의 父母도 엇절수 업시 밧게서 기대리는 下人輩에게 이 말로 전하니 下人輩는 그 말의 不當을 말하고 좀체 도라가려 하지 안코 督促만 星火갓핫다. 이 難處한 境遇에 新房에 잇든 新婦는 무슨 결심을 한드시 비단옷을 끌고 門間까지 나와서 下人輩들에게 號令을 내렷다.',\n",
       " ' 『그러면 이 書簡만 가저가면 너히들의 責任은 면할 터이니 이 書簡을 가저다가 아모도 보이지 말고 新郞되는 새 서방님에게 밧처라.』하고 吩咐를 내리엿다. 下人輩로서는 이 분부 역시 거역할 길 업는지라 그 書簡을 밧아 들엇다.',\n",
       " ' 날도 거이 새여서 下人輩는 吳進士宅으로 도라왓다. 분부대로 遵行을 못한 下人들은 門압해 교자를 내려놋코 제각기 前後事緣을 復命할 勇氣가 업서서 머리를 숙이고 서잇고 書簡을 가진 下人만이 적은 門을 통하야 新郞房으로 가서 事緣의 大綱을 告하고 書簡을 내여주엇다. 한幅 白紙에는 纖細한 女筆노 다만',\n",
       " ' 『朝鮮은 人情之나라』라고 써 잇슬 뿐이엿다. 열두살 나는 新郞은 이것을 보고는 아모말도 업시 天井만을 치여다보고 안저 잇슬 뿐이엿다.',\n",
       " ' 新郞은 무엇을 생각하엿는지 자리에서 이러나 舍廊으로 나아가서 眉間을 주름 짭짭 입만만 다시고 안젓는 그 父親의 압헤 端正히 꿀머 안젓다. 그리고 下人을 식히여 그 母親을 모서내오고 下人輩 기타 겻헤 사람을 물니치고 恭遜히 그러나 分明히 살외엿다.',\n",
       " '아들이 7,80을 먹어도 父母의 마음에는 自己가 돌아보아 주지 안으면 못사라갈 어린 사람으로 알지만은 결혼을 하야 新婦를 마지해왓스면 벌서 그 두 男女의 따로운 살림이 새로 생기는 것임니다. 新郞新婦뿐만이 자기 두사람의 뜻을 맞추어 調和된 家庭을 니루기에도 상당한 노력이 드는 터인 여긔에 다른 手下 사람이라도 개개면 안되겟는데 함을며 두사람의 마음대로 이러지도 저러지도 못할 웃사람이 개개인단하면 그 두 새사람의 家庭이란 아모것도 되지 안흘 것임니다.',\n",
       " '\\n要件◇婚禮式場에서 披露其會\\ue9a5지만을 생각할것◇손님은 百名內外로생각할 것 ◇費用은 百圓으로부터 五百圓\\ue9a5지로 생각할 것 ◇新郞 新婦의 服裝도생각할 것',\n",
       " '文浩와 愛卿의 가정은 모다 명문이요 巨族이엇슴니다. 年老한 부모들의 愛重하는 귀한 아들이요 딸이엇슴니다. 文浩가 열두 살 愛卿이 열두 살 동갑나든 해에 두 집에서는 솟곱질하드키 인형가튼 두 아기를 장가 듸리고 싀집 보냇슴니다. 코 흘이는 신랑과 우지 신부는 두 집 사이에 천하 둘 업는 우숨거리엇슴니다. 우숨거리로 重寶와 가튼 대접을 바덧슴니다. 신부는 아즉 나희 어린 탓으로 新婦禮만 듸리고 親庭에 도라가 잇섯슴니다. 新郞 文浩는 坡州 살고 新婦 愛卿은 禮山 사럿든 것임니다. 참말 말이지 남편은 안해의 얼골을 안해는 남편의 얼골을 서로 몰랏슴니다. 두 사돈 집이 너무 떠러저 잇스매 귀한 어린 것들을 자조 보내고 대려가고 할 수가 업섯든 것이 사실이엇슴니다. 상당한 나히에 이르러 참말 신랑감이 되고 참말 신부감이 될 때까지는 1년에 한 번 맛나는 칠석 밤 牽牛와 織女와 가티 맛나고 헤여젓슴니다. 그 후 文浩는 사랑에 베푼 글방을 뛰여 나와 서울로 학교를 차젓슴니다. 원체 재조덩이인 文浩는 멧 個 講習所를 마치고 서울高等普通學校에 훌륭히 입학이 되여 20세 되든 해에 우등의 成績으로 졸업하엿슴니다. 이 동안 文浩는 雜誌를 涉獵하고 新聞을 耽讀하게 되여 시대에 눈이 띄워젓슴니다. 그리하야 몬저 자긔와 자긔 집안이 이 시대에 適當한 존재이냐한 것에 懷疑하기 비릇하엿슴니다. 마침내는 불합리한 노리개적 자긔의 결혼에 대하야 몬저 반대의 불길을 올렷슴니다. 얼골도 생각이 안나는 안해 4, 5년전에 雷逢電別한 안해 열두 살에 성례한 솟곱동모 그외 몬저 이혼을 하여야겟다는 것을 固執主張하여 왓슴니다. 勿論 이 가튼 주장이 잘 통과는 되지 못하얏스나 다만 結婚年齡이 지난 후에도 結婚申告를 하라는 것만은 꾸준히 방지하고 阻碍하여 올 수 잇섯슴니다. 서울학교를 마친 文浩의 知識欲은 다시 그를 日本으로 쪼치엇슴니다. 日本에 쪼낀 文浩는<166> 1년이 다-차지 못한 동안에 그 부친이 鑛山에 손을 내미러 家財를 모조리 일케되고 이것이 원인되여 그 노부가 별세까지 하게 되엇슴니다. 돈이 업서지고 아버지까지 도라간 文浩는 그 압길이 너무도 暗澹하엿스나 굴하지 안코 7,8년의 긴 세월을 고학으로 笈을 저왓슴니다. 이 사이에 가정은 풍비박산이 되여 노모는 외가에 부처 잇게 되고 처가와는 아조 音信이 끄치고 마러 사실상의 이혼이 되고 마럿슴니다. 안해니 이혼이니 하는 것은 발서 文浩의 觀念에서 사라진지 오래이엿슴니다. 業을마친 文浩는 朝鮮에 도라와서 살기 위한 여러가지 運動에 잠기엇슴니다. 그러는 중에 어랫동안 돌보지 안은 몸이 트집을 잡기 시작하야 크지도 안은 잔병을 그득히 몸에 지니게 되매 그를 앗기는 親友와 同志들은 한여름 東萊閑地에 보내여 攝生을 하도록 하엿슴니다. 이들의 호의를 밧는 文浩는 여름에서 여름이 끗나갈 때 훌륭히 건강을 회복하게 되여 엇던 날 저녁 釜山을 떠나는 차로 서울 일터에 향하엿슴니다. 이날 밤이 이혼하엿던 愛卿과 맛나던 밤이엇든 것이엇슴니다.',\n",
       " '말이 가며 주먹이 드러가는데 대번에 턱주거리 대밋츨 치밧처 질럿더니 목뼈가 부러지느라고 『딱!』 소리가 산꼴이 찌렁 울리면서 그 놈은 아무 소리 업시 그 자리에 그냥 꺼구러진다.<92> 그리고 나서는 책죽을 들고 前後左右에 잇는 놈들을 제각기 한 번씩 이놈 치고 저놈 치고 한참 번개가티 날뛰는 통에 이놈들=그만튼 놈들이 일시에 돌무덕이 흔어지듯이 우루루 도망질-산으로 뻘뻘 기어다라는 것을 본 그는 신빠람이 나서 그제야 책죽을 집어 내던지고 그 놈이 집고 잇든 몽둥이를 집어들고 산비알로 기는 놈을 飛虎가티 쪼차가서 그냥 그 놈의 등마루 색이와 몽둥이를 견양해서 냅다 집어나려 치니 바위에 업대려 기여가든 그대로 기리로 두 쪼각이 쩍 뻑애지며 그냥 그 바위에 척 붓터 버리엿다. 그리고 나서 묵겨 매달린 사람들을 도라가며 풀어 노아서 다리고 도로 나려갓다. 집으로 도라가서 그날 밤은 무사히 지낫는대 내종에 借力大臣으로 유명하든 李範晋이 그 때 마침 그동리로 新郞을 보러 왓다가 李의 覲親 온 것을 알고서 만나 보려고 차저왓다. 서로 일가(宗家)간도 되고 또 힘센 것으로도 서로 그때 志氣相合하든 모양이라. 차저와서 아츰을 가티 먹느라고 안섯노라니까 별안간 동리 사람이 엇전 木牌 한 개를 가지고 와서 『동리압 길가에 이 것이 꼭혀 잇는데 나리마님께 오는 것이래서 뽑아 왓슴니다.』 그 목패를 바더보니',\n",
       " ' 金元周女史 祝華婚... ... 좀 늣기는 하엿지만 慶事로운 金女史의 華婚을 축하하지 아니할 수가 업다.(新郞은 普成高等普通學校의 河允實君)',\n",
       " ' 設備로는 여러가지가 잇스나 제일 중요한 것인 정안수를 新郞新婦가 마시는 것임니다.',\n",
       " ' 통트러서 말슴 들이면 新郞 년령이나 학식이나 무엇이든지 新婦보다 나어야 하겟지요. 자긔보다 못한 남편을 섬기는 것은 안해에게 퍽 고통이 되는 모양임듸다.',\n",
       " '\\n結婚當夜에 新郞은 新婦를 발길로 차 이는 남편에 服從如否의 試驗이라는 臺灣土人\\n',\n",
       " '\\n색시를 箱子속에 담어서 新郞집으로 結婚날까지 新郞의 얼골을 못보는 무-어人種\\n',\n",
       " ' 『내 남편될 사람은 틀임업시 훌륭한 氣品잇는 청년이거니』 이러한 理想을 그리여가며 一日千秋의 안타가운 가슴을 움겨안고 그 날을 기다리고 잇슬뿐 임니다. 父母들은 『너하나를 爲해서 이 飮食을 작만햇스니 실컷 먹어라.』하고 다 먹을 수 업도록 듬뿍 음식을 차려다 줌니다. 그래서 달 밝은 밤을 기다렷다가 색시를 나무 箱子속에 담어서 新郞집으로 다리고 감니다. 긔 집으로 간지 3일동안은 결단코 새색시는 흙을 밟어서는 못쓴다나요.＜28＞',\n",
       " '\\n첫날밤에 新郞 資格 試驗\\n',\n",
       " ' 첫날밤에 新郞房에 끄을여 들어가서 얼골에 넘처 흘으는 붓그럼을 이기지 못해 감히 신랑의 얼골을 바라보기는 커녕 겻눈질 해 볼 勇氣조차도 업시 치마단 솟곳 끈을 꽁꽁 홀처 맨 체 벽을 향해서 밤을 새든 新婦들이란 발서 녯날 이약이다. 요새 와서는 아모리 싀골 촌색씨라도 제손으로 치마끈 하나만은 풀만치 되여서 녯늙은이들을 놀내이게 한다닛가. ... ... 그린데 최근 慶州에서는 이런 일이 잇섯다. 日本에 건너가서 數 3년동안 勞働을 하야 간신히 3,4백원 돈을 별어 가지고 나와서 고향에 잇는 자기 형의 주선으로 장가를 든 35,6세의 勞働靑年이 잇섯다. 신부는 방 한간 부억 한간의 赤貧如洗한 집 딸이나 일즉 普通學校 二學年까지 修業한 半女學生이요 두리 넙적한 흰 얼골이 족히 勞役에 시들은 老總角의 歡心을 살만치는 되엿드란다. 가난한 妻家를 생각하는 誠心으로 2백여원을 들인 혼인 잔치가 끗난 다음 恍惚한 첫날 밤은 왓다.',\n",
       " ' 新郞 (너무나 놀납고 붓그럽고 황당하야) 黙黙不答',\n",
       " ' 新郞 (정신을 못차려서 亦如是 꿀 먹은 벙어리. ...)',\n",
       " ' 新郞 (그제야 간신히) 「저 저 설흔 다슷이요.」',\n",
       " '友愛結婚·試驗結婚·訪問結婚·等等의 새로운形式의結婚이 새로운新郞新婦를피밧허놋는이\\uea7f에 超特作모-던結婚方式이하나 생겨낮다 그것을 共有結婚이라고나할\\ue9a5!',\n",
       " '\\n新郞候補者展覽會(넌센스·아이로니·유모어), 新郞資格審査委員會 主催\\n',\n",
       " '新婦候補者展覽會가 잇섯스니 그 對로 新郞候補者展覽會가 업슬 수가 업는 것도 아니다.',\n",
       " '그러나 이 新郞候補者展覽會는 그 內容의 취지라든가 根本目的이 新婦候補者展覽會와는 스사로 달으다는 것을 미리 말하여 두려한다.',\n",
       " '本來 新婦候補者展覽會는 雙S라는 사람이 個人的으로 主催한 것이다. 그는 新婦를 求하는데 그 候補者가 넘우 만허서 別乾坤의 후원을 어더 誌上에 그 展覽會를 열어 新婦감을 陳列(?)을 하여노코 남의 집 貴童女들을 요리저리 틔집을 잡어내어 말하자면 망신을 식혀준 세음이다. 雙S라 하는 친구가 얼마나 잘낫는지 몰으겟스나 이 新郞候補者展覽會의 開催側인 新郞資格審査委員의 눈으로 보면 新郞이 되기에는 落第다. 무엇보담도 남의 집 處女들을 그러케 망신을 주엇스니 누가 그런 사람에게로 시집을 갈 생각이 날 리가 업지 아니한가.',\n",
       " '그러나 이 新郞候補展覽會는 누구 한 사람의 必要로 開催하는 것이 아니다.',\n",
       " '여긔에 機會도 조흔지라 新郞ㅅ감을 골나내어 노코 展覽會를 한번 열어 조곰치라도 여러분의 新郞選擇에 도음이 될가... 하는 것이 本旨이라는 것을 미리 말하여둔다.',\n",
       " '姓은 金氏라고 하는데 위선 이력부터 소개하면 최저가 시골 사립대학교를  맛친 것으로부터 日本東京의 日本大學法科와 米國의 어느 大學과 英國의 어느 大學까지 大學을 세 개나 맛치엇다. 이만하면 學歷으로도 덥허 먹을 사람이 업슬 것이다. 社會의 이력으로도 XX新聞社의 副社長... 한번 붓을 들어 社說을 쓰면 數十萬(?)讀者를 울니고 웃키고 팔을 부르것게 하고... 果然 新郞감으로는 錦上添花다.',\n",
       " '이러케 늘어노흐면 여러분 中에는 그가 新郞ㅅ감이라면서 아직 나히 젊을 터인데 어느 겨를에 그러한 깁흔 學門과 넓운 경력을 싸엇슬가? 하는 의심이 생길 것이다.',\n",
       " '最近 消息에는 亦是 洋行하고 돌아올 어느 올드미스와 婚談이 잇다고도 하는데 또 한便으로 들으면 그 올드미스는 日常하는 말이 朝鮮에는 시집갈 곳이 업다고<125> 歎息을 한다고 한다. 어느 便 말이 올은 消息인지는 모르겟스나 朝鮮의 洋行 올드미스가 新郞ㅅ감이 업서 시집을 못간다고 歎息한 것이 事實이라하면 朝鮮의 新郞들은 모름직히 코를 깍거바리고 出入을 하지 말지어다.- 말이 脫線되여 未安未安-',\n",
       " '某 有力한 新聞에 政治部 記者로 잇는 崔氏라고 하는 사람이다. 바로 이우에다 金氏라는 大新聞의 副社長을 新郞ㅅ감으로 紹介하여노코 뒤니어 어느 新聞의 政治部 記者를 亦是 新郞ㅅ감으로 소개하는 것은 매우 섯투른 것이라고 하는 이도 잇슬 것이다.',\n",
       " '左右間 이 崔氏라는 이는 매우 조흔 新郞ㅅ감이다. 新聞社의 政治部 記者인만큼 世界大勢는 언제든지 그의 머리ㅅ속에 한幅의 스크린과 가티 反映이 되얏고 따라서 新聞一面의 「タチキリ」나 雜誌 가튼데 世界時事에 關한 그의 論文이 각금 보이군 한다.',\n",
       " '오늘날 世上에서 살아가자면 사람치고는 主義와 主張 더 자세히 말하면 正確한 이데올르기-의 把握이 업시는 좀 어려운 일이다. 이러한 意味에 잇서서 여긔에 나오는 新郞候補者들도 그의 가진 바 主義를 일일히 紹介하여야 할 터인데 그러느라면 좀 거북한 便이 만타. 그러니까 그것은 機會를 보아 좃토록 할 것이고 이 崔氏의 主義를 뭇는다하면 좀 未安하나 亦是 뿌르조아떼모크라씨-... 佛蘭西 가트면 1780年臺에 잇슴직한 自由主義라고나 할가?',\n",
       " '이러케 말을 하면 或 「그러한 것이 모도 다 新郞될 條件이냐?」고 분개하는 분도 게시겟지만 그러나 아니되는<128> 이에게는 아니될지 몰나도 사람의 그러한 一面에 끌니어 맨 처음에는 好奇心으로 그 다음에는 同感으로 그 다음에는 戀愛로... 이만하면 웨 아니된다는 말이냐? 하물며 우리 徐氏가 玉가튼 美男子임에랴!',\n",
       " '本誌에 每月 續載하든 雙S君의 新婦 候補者 展覽會는 一般 讀者에게 白熱的 歡迎을 밧다가 前號에 끗을 마치고 이번 號에는 그 대신으로 『新郞 候補者 展覽會』가 또 每月 續載하게 되엿다. 一般讀者는 勿論이어니와 求婚中에 잇는 處女 總角 等은 滋味보다도 參考로 꼭 읽어야 만 될것이다. (朴)',\n",
       " '\\n新郞候補者展覽會, 新郞資格審査委員會 主催\\n',\n",
       " '老新郞을 또 하나 소개하자. 나희는 쉬흔살... 쉬흔살 먹은 할아버지를 신랑감으로 추천한다면 혹 이 신랑 자격 심사 위원회의 위원들을 작난꾼이라고 욕을 하거나 그러치 안이하면 그 當者를 망녕바지 늙은이라고 우서바릴 사람도 잇슬지 모르나 알고 보면 그 內面에는 그러치 못한 이유가 숨어 잇다.',\n",
       " '제일 이 老新郞은 재래에 帶妻를 禁하는 宗敎에 屬하여 잇섯다. 그리하야 出家할 때에 안해를 바린 뒤에 爾來 30여 년을 인생의 樂이라고는 맛을 보지 못하고 지내여 왓다. 그리다가 나히 50이 되고 마음이 늙음애 자연 외로운 생각도 나고 또 老來를 依託할 곳을 求하느라고 그럼으로 안해라는 이 보담은 노후의 이약이 벗을 찾는 의미로 장가를 드러보려 하는 것이다. 생각하면 얼마나 가여운 일이냐.',\n",
       " '또 생활도 넉넉히 보장이 되여 잇고 늘잡고 20년 후이면 상당한 「유산을 가진 未亡人」이 될 수 잇다는 것이 이 老新郞과 결혼하는 이의 큰 행복 중의 하나가 될 것이다. 死後에 極樂도 잘하면 갈 수가 잇슬 것이요. 50세의 老新郞이라 하나 아직 기력은 젊은 사람과 달음업시 정정하다.',\n",
       " '新郞候補者展覽會 第三回의 原稿를 쓰고 잇는 중에 위원회에 대하야 한 요란스러운<107> 항의가 드러왓다. 그것은 달은 것이 안이라 京城에는 「총각黨」이라는 한 단체가 잇다. 총각黨이라고 하닛가 말갈기 가튼 뒤통수에 석해가 더덕더덕 실어부튼 등짐장수 총각黨은 안이다. 적어도 그들의 강령대로 「處女의 입술은 총각의 舞踏場」이라고 할 만큼 모던 뽀이들의 그룹이다.',\n",
       " '\\n持叅金 二十萬圓 嶺南怪美人의 正體, 新郞을 求하려 遍踏數千里\\n',\n",
       " '미인은 로파의 말을 듯자 곳 선 걸음으로 晋州까지 新郞巡禮의 길을 떠낫다. 老婆가 권하기도 햇섯다.',\n",
       " '이 통에 그의 친구들이 간혹 차저 가면은 新郞 朴君은 자랑 비슷이 말하는 것이엿다.',\n",
       " ' 本人 등이 去某月某日某時 某洞新郞 자택에서 결혼식 거행하엿사읍기 辱知諸位에게 仰告합니다.',\n",
       " '\\n夫婦讀本, 新家庭 結婚生活의 大經典\\n老新郞\\n',\n",
       " '\\n新婦一人에 三新郞登場\\n',\n",
       " '\\n여든 살 먹은 新郞들\\n',\n",
       " ' 신랑(新郞)집과 신부(新婦)집의 쌍방에서 결혼에 대한 모-든 의론과 준비가 거의 다 돼서 혼례식을 거행할만한 시긔의 멧칠을 압두고서는 신부의 부모들은 반듯이 새색시 될 처녀를 동리 척분 되는 집이나 그러치 안흐면 친지(親知)의 집에다가 몰내 데려다가 맷겨둔다. 그래서 거의 거의 혼인날이 닥처오면 신랑측에서 그 가족들은 물논이고 젊은 신랑의 친구들을 멧십명식이나 작당을 식혀서 제각긔 손에는 활(弓), 곤봉(棍棒)가튼 무긔를 들고서 신부를 감춰둔 집으로 소리소리 내질으며 신부를 내노라고 떠들면서 일대 습격을 시작한다. 그러면 신부ㅅ집 편에서도 여긔에 응해서 어룬 아해 할것업시 모두들 굉장하게 분장(扮裝)들을 하고서 신랑 편과 똑가티 활, 곤봉들을 들고서 용감하게 여긔서 전후의 일막(一幕)이 연출되는 것이다. 그러나 여긔서 전개된 이 싸흠은 원래가 형식만 가춘 연극의 전투인 것이다. 얼마간 싸흐고 난 뒤에는 예정한대로 신부 편에서 패주(敗走)해버린다. 그러면 결국 신부를 용감스럽게 빼서오는 것이다. 그래서 신랑이 신부를 빼서서 팔노 턱 안으면 그와 동시에 지금까지 서로 원수로 대해서 싸와오든 신부편의 인물들은 손에 가젓든 활, 곤봉들을 던저 버리고 입파리가 달녀잇는 과실(果實)과 조흔 꼿이며 그 외에 여러 가지의 찬란한 빗나는 새털가튼 것을 밧치며 깁부게 모혀 춤들을 추며 이상한 소리를 떠들어대면서 신랑의 집으로 모도들 가서 그날ㅅ밤을 깁부게 복(福)을 빌면서 내리 삼사일 동안 게속하고 논다.',\n",
       " ' 『너는 오늘날까지 내 명령(命令)을 잘 복종(服從)해 왓겟다. 그러나 이번에 내가 네게 부탁하려 하는 것은 매우 힘드는 일이니 각별 조심하야 일이 되도록 해 달나는 말이다. 알어듯겟느냐? 그 일이란 다른 것이 아니고 두 달 전부터 이 나라 임금님이 나를 사위로 삼으시겟다고 약속을 해노시고 두 달이 지낸 오늘날에 이르러서는 총리대신의 아들을 다려다가 사위를 삼으신다니 그런 경우가 세상에 어듸 또 잇겟느냐. 그러니 오늘 밤에 대궐로 가서 혼인례식이 끗마즌 뒤에 신랑(新郞)과 신부(新婦)를 다- 이리로 다려올 수가 잇겟느냐?』',\n",
       " ' 廳直. (등장)「縹緲紗窓映霧煙인데, 深深華屋鎖嬋娟을. 屛間孔雀人難中커늘, 幕裏紅絲誰敢牽가.」 나는 이 牛丞相府中의 廳直이올시다. 이 몃칠째 府中에서는 太師께서 사위님을 보시려고 하신다는 이애기로 왁자지함니다. 말씀하오면 참 우리 小姐는 보통 다른 집 따님과 다름니다. 첫째는 丞相의 따님이시요 둘째는 才色이 兼全하신이시니까 新郞되시는 양반도 반듯이 글 잘하고 벼슬하고 복잇는 이래야 함니다. 어쨋던지 여긔 大監이 나오시면 자세한 것을 알겟지요.',\n",
       " ' 媒婆. 네 이것은 量人秤이라고 하옵는 것이온데 대단히 긴요한 것이옴니다. 먼저 남의 중매를 들때에는 新婦와 新郞을 달아서 重量이 가트면 定婚을 하게하옴니다. 이러면 나종에 誼 조흔 부부가 되옴니다. 만일에 한편이 묵업거나 가벼웁거나 하오면 이 부부는 오래 못감니다.',\n",
       " ' 그래 新郞募集 大廣告에 曰',\n",
       " ' 英京 倫敦人 450만 중에 早婚한 자로는 新婦 14세가 2人, 15세가 55人, 16세가 448人, 17세가 2,499人. 新郞은 제일 어린 것이 15세, 16세는 21人 17세가 167人, 영국의 전국 평균 결혼 연령은 남자가 25세, 여자가 24세.',\n",
       " ' 新郞新婦欄을 두니까 某 高第何學年生 某君의 결혼까지 기사로 들어온다.',\n",
       " ' 參席者가 結婚式場에 가지 않고 自己집에서 結婚을 祝賀할 수 잇는 超모던 텔레비쥰 結婚이 紐育에서 擧行되엇다. 이 奇拔한 結婚式을 처음으로 한 新郞의 이름은 푸란쥬·폴, 新婦는 그레이스·죤. ＜80＞',\n",
       " ' 困\\uf537여셔 겻헤셔 \\ue99a\\ue99a, 자\\ue285 新郞의 숨ㅅ소리를 드르\\ue57b, 至今것 \\ue9ea밧헤셔 노니다가, 여호 한테 홀니여셔 여호의 窟에 드러온 것 갓기도 하고, \\uf212미 잇\\ue285 \\uea0b을 \\uea05다가 \\uea61친 것 갓기도 하고.',\n",
       " '桂屋漫筆\\n異鑑(一)\\n桂下散人\\n明宗朝末年에權好尹元衡을窮逐하고李浚慶으로代하야領相을拜하야朝野—相慶하더라李公의號는東擧니器度—沈深하고謙見이人에超하며鎭□하는總量이有하며未來의事를預 함이多하고賤丐나□士中人이라도公이一見獎許하면後日成就가公의言과符合하야違錯함이無하더라 明宗이昇□하시고闕無함매疑危한時에處하야聲色을不動하고人心의鎭定하며策을定하야 宜祖를迎立하고麻政을佐理하니中外晏 이러라卒할時에臨하야暫廷『朋黨의漸이在함을憂慮하야遣劄를上하얏는대未幾에果然沈義謙과孝此等의東西分黨이始하니人이其先見의明올服하더라公의검人에皮姓者—有하야少로부터老에至하도록公을侍하야勞를服함이恪動하고絲毫도命을違함이無하니公이凡事를信任하더라皮검이膝下에다만一女만有하고子는無한지라公의게恒常告하야갈오내□人이晩年에다만一女를得하와贵重함이 他에比할者 아니온대大監게□□□□이有하오시니小人의擇婿는專히大□□付를□하을지라特異한佳郞을求하심을望하나이다公이首肯하얏는대皮女가年二八에遇한매耒茸한淑□가凡□에超出하니皮□이求婿한心이渴急하나公의 게仰托하얏슨즉□何한指敎만ㅂ노□하□니一日은開에詣하얏다가□邸함에□하기前에急히皮걸을呼하야갈오대今에汝婿가됩만한郞材를□하얏스니반다시速히招來하여야期를不失하리라하고下線를命하되汝가今에六朝街에急하往하면漢城府前에□總□이有하야空石을掩하고坐하얏슬거시니흠의言대로呼來하라下隸가敎를依하야往見한즉果然符合한지라李政丞大監分付로汝를招하신다하니其意이冷視하야같오대政丞大監이我의게무삼關係가有하다고招하리오問辭하며不應하는지라下人이何\\n 키難하야그대로命을復한대公이갈오대必然할즐預計하얏노라하고更히跟隨中의言辯의好한者數人을選送하야懇切히招來한즉비로쇼命을從하야隨來한지라公이問曰汝—妻를娶코져 느냐對曰小人이別히妻를娶할意向이無하느이다公이力勸하야諾을得한지라皮검이傍에在하야見하고骸\\n 함을不論하나公의指敎가有함에差論은不可한지라即地에邀去하야□庭에對하고全身을洗□한□에新衣를著하다公이또皮검의게分付하야같오대日을卜치勿하고明日노婦을過하다若運延하야數日을過하면종□을失하리라皮검이不得己하야公의指敎대로其翌日에초禮하야婚을成하니渾室외興를掩하며笑하더라新郞은少히惧色이無하고娶妻를한後로거의起居하는處所에伏在하야眠과食할뿐이오事爲가一도無하야三年을房內에一節惧漢을作할뿐이러니一日온起하야清潔히梳洗하고衣冠을整한대渾室이訝惑하야典故를問하니答하야갈오대今日에는大監이必來할지니迎見키爲함이로라未幾에門外에솔除하는聲이有하며果然公이入來하는지라即時皮婿를訪見하고問曰此를將奈何오此를將奈何오專히汝를恃하노라皮婿—對日天運을奈何잇가公이갈오대汝의妻眷을汝가必히救濟할거시니伊時에吾의家眷도能히一同救濟하겟느냐皮婿—갈오대來頭를見하야셔知何히措處하겟슨슥今에質言키難하느이다是와如히數語하더니公이去하는지라其後로는渾室이皆恠하야接待함이前日보다稍優하더라\\n',\n",
       " '나는갈터이야(二)\\n(엇던妓生의片紙)\\n 아々언니 藝術家는 다—그러치안켓지요—만은 에ㄹ 氏는참우숨고도 그의行動에는 感激한눈물을 안이흘니지못하겟셔요 그이가 왜—이賤한山玉이를爲하야 그러케까지하는지몰으겟셔요 그는나와 함끠(통스프랑,하우씀)로가더니 電話로『와이』『씨』『케』氏를볼너왓셰요 그가나를 처옴볼때에 멈츗하고 다시갓가히안것지요 아마前에한번 본생각이나서그래ㅅ는지 그러치안으면花柳界에익지못한그이가나를보고 그리하엿는지—그러나 내가只今생각하닛가 우수어요왜늬가그이를보고 아모쇼리업시가만히 셔잇셧는지 생각할사록붓그럽고 모 우수어요『에□』氏가그꼬□을보더니 우리두사람에게인사를식히지요 그래갓가스로 인사를하엿나이다\\n나는□□것 그와갓치 女性그대로의男性은 쳐음보앗세요□뺨는말할것도업지만은 □—□쇼래까지 女性그대를닛가—그魅力잇는□笑女性다운態度는이女性인나를잣고々々끄러다□세요나는 花柳界에서 제가□□□하는所□風流男兒보다엇던때는□를이바□깨지□ □□엇는 그이가더—사랑스러워요□번『에□』氏가作□ 으로『와이』『씨』 『케』氏를 나에게 □밀칠때 그이외表情이란 新婚외新婦가新郞에게 □올□기는것보다도以上이겟지—그때□을여니 향내나는□내음새가 연한바람파한게 房中에찻셧나이다 그떄『에□』氏는 나에게눈짓을하고『잘간다녀 오마』하고門밧그로 나아가지요 나는엇지하면조흘개!하엿다이다 쥬져々々하다가 겨우『와이氏』하엿나□다 房中은 왼일인지□□해요 그는또 그女性다운音聲으로『예—』하고 對答올하지요그이외얼굴에도 엇지하면조홑가—하는빗치보여요 나는空中에달닌달을 치여다보며『져달이야 밝지요—』하니 그는다만담배만피우며『참밝어요그러나달밧온 인졔도지차지요』아々언니 왜달이참닛가—日前片紙에나는나를달과對를하엿섯지요—그러면 내가 차단말일가요—안이 그意味는안이겟지—나난다시『그러면 그찬달을엇더케하여야 따듯하게할가요—』아니가 그난無心하게『헛솜갓혼구름으로 따듯하게싸쥬어야할가요—하하하』하고 우습데다 아々언니 햇솜갓혼구름으로싸면은 그달이보이지를안을터이지— 그러면나는갈터이야———가마져야할것이안일가요나는한참잇다가 고개를숙이고만일 제가져—달이라하면——엇지할가요하고 罪談처럼물엇더니 그는『달은오히려 횐구름이잇지만——山玉은 아마내나잇슬가—』앗가羞態잇슬때와는말하는쇼래와 表情이졔법誤入匠이奪가잇셧셰요 아 언니나는그소래를듯고 참으로갓브고도疑□하엿지요 나는그나종말올밋음니다 나는밋지못할것이라도밋을터이야요 그는완일인지 나의손을가만히쥐엿세요나는疑心스럽게 그이를치어디보앗지요 아々그러□나 나는그이에안질勇氣는옵셧셰요 이때『하々』하는우슴쇼래가 뒤에셔들니기에 두사람은一□히도라다보니 그는『에ㄹ』比가어느□에드러와안져잇셧슴니다 나는오늘奇異 꿈을꾸다가일어난듯함니다 그러하니 그꿈이어느때까지繼續될□ 疑問이지요 只今새벽첫닭이움니다\\n三月 十五日\\n 나는갈터이야 나는갈터이야나는몸을흔들며 어리광쳐럼?어리광부릴때가넘지도안엇지만묘今겨우十八歲이닛가—언니압헤업대여한말이 죠금도를님이업셔요 나는그동안『와이』『씨』『케』□의나종할『아마나々잇슬가』『를꼬ㄱ밋엇셔요 또그따듯한손으로 나의손을잡은그때를나는어느때든지繼續될쥴노밋엇셔요 그래쓸줄모르는글시나마 情과사랑의對한글자의數를다—하야쎠々보내엿나이다 아々그러나男子는다—거짓말쟁이지요 다—毒蛇이지요 그와갓혼片紙에깃거운消息온고만두고可否의긔별한마대업셔요『와이에취』로電話하고십허도 그『와이』』씨『『케』氏名譽를보아셔 그것도못하고 다만지내가고지내가는 닷새동안을 조흔쇼식이들니기에 아모생각음시지내엿지오 그리다가 오늘나는마지막失望의긔별을들엇나이다『에□』氏가오늘져□때□거에그와갓흔니야□를하얏더니 아々그이□발□愛人이잇대요 져—處女——그럿치요 處女안인이山玉이에게는 아□리가삼속에□□감츄엇슬지라도 그眞□는아□價值가올지요 아々나는그□□□와이』『□』『□』氏가그□斷를바튼듯한입슬노 나□속일줄은 참으로□낫셔요 아々그러나 그이가나를속엿슬가요?내가空然히그이를 밋잇슬가요—나는只今브터는□을사람도업거니와 □망할사람도업셔요 나는나의머리속에一切를다—이져바리고 나는같터이야나는같어이야\\n 一九一二,二六下午八時\\n',\n",
       " '新婦한아에\\n新郞이둘식\\n신부집에난아주\\n큰풍파가낫다\\n츙쳥북도제쳔군 백운면모졍리(堤川郡白雲面茅亭里)리민수(李民壽)는금년십륙세되딸이잇셔 항상자긔의사위재목을 구하든바 엇드친구의즁매로 츙쥬군가금면릉암리(忠州郡可今面陵岩里)김종한(金鍾漢)의아달 금년십시셰된신랑과약삼개월젼브터 통혼이되야 쌍방이합의한결과 드대여흔인을정하고 음력십이월십구일로쎠 셩례할날까지졍하얏더라 신부집된 리민수의집에셔는 자긔의귀여운딸을시집보내임에대하야혼수범졀을일신쥰비하는즁 음력구월십륙일 곳혼인날을격하야어의편을들은죽 신랑아히는깁종한의정실이나흔아달이안이오 김죵한 이 자긔집 부리는 하인을상관 하야 나혼아들이라고 젼하는자이잇는지라혼일이박두하야 한참혼수들차리느라고 쥰비에분망하던 신부의집에셔는 뜻밧게그러한북미한쇼식을듯고 락담쳔만하야즉시 신랑의집에대하야 퇴혼편지를젼 얏더라 이—퇴혼을당한 신랑의집게셔는 분함을익의지못하야 신낭의어른김종한오로브터 즉시신부의집에와셔 퇴혼한리유를듯고 도라갓더라 기후신부의집에셔는 젼긔김죵한의아달을 파혼 후나시 제천군청중면 최모□아달금년십칠셰된랑자와 혼인을다시정하야 혼□을선택하얏는대또한 이왕퇴□하얏던 음력십이월식구일이합당하다하야 그날로써 셩레를□하랴고쥰비를완젼히하야식구일초래를지내는즁 돌연히젼일퇴혼아얏던 김종한의집에셔 신랑을다리고신무집에왓슴으로 별안간신부집에는흡사히 이왕지나간 구미대션정을다시이루엇고 그혼이을구경하러왓던 신부집인아죡□사이에는 구석々々의는이분々하얏더라 신낭이다리고온긱종한은『신부의어른에게대하야나외자식이 하인외쇼생이안이면 사위삼개나냐하며 쇼리를놉히질너 힐문하다가 다시자긔아들을다리고 행々히 도라갓는대 김씨집신랑이 도라간후일반의를른을 김씨집랑재는언어둥작을보아도 최씨의집랑재보다 비범인물인대 이왕조전의고래관습에의하야 계급상관계로 퇴혼을당하얏고 모다개탄하더라고(졔쳔지국)\\n',\n",
       " '往古來今에\\n訛言갓혼\\n眞事實\\n이것을에ㅅ날 고담『古談』에셔도 들어보지롯하든 거짓말맛혼사살인대 넘어도이상하고야롯하야 사람마다 혀『舌』를말어붓칠만도하며 또한깜작놀나기도하겟고 배곱이떠러질만치 우수운일도되는대 그이야기는 경샹북도영쳔군『永川郡』에엇던집에셔는 그집쥬인의 딸을츌가식히는날에 그집에셔길오는사견『飼犬』두마리가 별안간에교미『交尾』를하고잇는고로그주인오 그개들을 문밧을내여쪼치라고 몽능이로몃번따란것이 엇젼일인지 그개두마리는 교미한치로 그대로쥭어바리엿는데\\n그날밤에\\n신랑신부『新郞 婦』는 한방에들어 첫날밤을치르는즁 발가벗고셔로끼에안은 두콤이 그대로붓터셔 영영떠러지지안음오로신랑신부는 합□힘것그몸을서로 분리하야보랴고 애를쥭도록쓰다가 일고삼장하도록 신방『新房』에셔 아모쇼식이업슴으로 신부집에셔는하도이상하야『아가아가그만일어나거라』하며볼오즉 신부는『아이고      \\n사람을조ㅁ\\n살녀주시노□하며애원하는쇼태가 들님으로 집안사람놀은 눈이둥글하야 신부방에를들어가본즉이런—이상야롯한괴변이생기엿숨으로 그때에는 집안식구대로 들어부터셔 때여보랴하야도 도서히안됨으로할일업시 의사를볼너 문의하야 즉 의사도역시 쳐치함방법어업다하면셔이것을때여노랴면두사람즁에셔한사탐은\\n국 어야겟\\n다함으로신랑온자긔가즉겟다신부는 랑군(郞君)이 즉어셔야 필말연가—내가즉어야하겟다하아셔로『비가쥭으리—내가즉으리』하며 다루는즁이라한즉 셰상에과면 가이업슨일은 이우에다시업슬지며 또는그량쥬는조석으로 식사(食事)를할때이면 신랑이먼적 신므우에셔 밥을먹으면 그다음에는 신부가신랑우에셔 밥을먹으면셔 하날을부르며\\n우는경강\\n은실로눈으로볼슈업는데 이라하니 이와갓혼변괴는 고금에처옹듯는일이며 도한 학상에 한낫연구재료가될것이라하겟더리\\n',\n",
       " '桂屋漫筆\\n(五〇)\\n俳語雜選\\n桂下散人\\n太宗朝相臣柳廷顯이 太祖時에前代言으로써家에退居하더니穀을掌한奴가與受하든債人이有하야歐하다가人이死한지라太祖가震怒하사八路에論하야延顯을索함을甚急히하시니□이身을뎡\\n아逃出하매名亡□이란□—□니宜山君南언의寵奴리柳가亡金으로더부터□識하더니旣히窘하야容할바—無한즉潜히南宅이往하야亡金의寢衿中에入한지라亡金이睡覺하야手□쳐探하니이에男子—라大驚하야起問하니答치아니하거늘髮을捽하야 出外審視하니곳 廷顯이라이에가도대□가殺人을犯하아罪가大辟에當함애歸할바—無하야至今에暫□偷生코적함이로라하거늘亡金이心甚哀하야主人南언에게往告曰奴가死罪가有하도쇼아다南이曰何를謂함인고亡金이曰柳代言廷顯이今에奴의臥中에在하야活을求하니是가奴의死罪로 이다하거늘南이驚曰彼가旣히人을殺하얏스니맛당히死할지라許接하야隱함을容하얏슨즉스사로그罪를逃키難할지니 차엇지할고하더니是日에南이闕을守함애亡金이從하 는대南이啓하야갈오대亡金이死罪가有하니맛당히速殺하겟나이다今에殺人한廷顯이亡金의所에見在라하더이다하거늘上의亡金에게願請曰엇지써罪人을匿하얏는고하건대亡金이附伏하야罪를待하고또其事를歷言한거늘上이곳廷顯을赦하시다柳\\n再生의恩을感하야潜히黃金一錠을袖하야쎠亡金에게與하고하야금南에게獻하라하얏더니南이大怒하야亡金을資하고金을還하라하다戊寅芳碩의亂에南이敗하고柳는適히晋州牧使가되얏더니亡金이嶺南에셔興販 다가晋州를經投하야衙中에入한즉州廳事에乾碧魚數十同이積하얏는대妓十人이其前으로過하거늘金이戱하야十妓에게謂曰若輩가此魚를食코적하면맛당히各々一同을贈하리라하니十妓가皆笑하며言하되客이能히各々一魚의頭만贈할지리도妾이맛당히各々酒一不를償하리라함애셔로더부터約을定하니라亡金이牧使에게謁見하고갈오대奴는곳亡釜이라하니柳가바야호도官司에坐하야事를治하다가驚起함을不覺하야其手를執하고引하야더부터同坐하랴하니金이不敢함으로固醉하는지라곳席을設하야써坐케하고水陸이羅列하며盃行이算計가無한대酒半이金이白하야갈오대奴가碧魚十同을用코적하노니能히下念 시겟나잇가柳가答하야갈오대汝의用할바를任하노니엇시十同에만止하리오하는지리飲하기를罷함애金이下處에還하야十妓를呼하더니碧魚一同을贈하거늘十妓□다大驚하야相謂호대牧伯의性이甚인하거늘비록一魚頭리도오히려濫費치아니할지라엇지客을向하야이와갓치寬大하얏는고하더라後에柳는竟히首相을拜하야國에大臣이되고亡金도또한年이八十에踰하얏는대매양□으로더부터此事를言하며奇談을삼하니라\\n世祖時이兼司僕朴孝恭은公州에一小民이라能히馬를善馴함으로位가禦侮에至하다其□에一士族寡居한夫人 家에셔女兒가有하야出嫁할새徐四佳가適히族賓으로써往參하엿더니昏에及하야婿郎이拜畢함애引入함을如禮하고賓客이各散한지라路上에셔四佳의從人이셔로더부터치笑하야갈오대今日新郞온곳朴孝恭이라하는지라四佳가當時에朴孝恭인가疑하얏스나반다시 貌가相似한者인가하고또한致詰치아니하얏더니其語를聞함애及하야는大驚하야問曰何를謂함인고다갈오던今日 郞은곳朴孝恭□라하는지라四佳가急히馬를발하야其家에還就한즉朴□임 衣를脫하얏고다만燭을未出한지라그家人더러間호대今日新郎이誰인고하니答曰忠義衛閔某라하는지라四佳—曰만일그러면今에入內한者는이에兼司僕朴孝恭이라하니셔로더부터大駭하야그所以를詰한즉兩家가同日에妻를娶하는대女家에셔覺치못하고誤迎함일너라夜는深하고馬는無하야兩郞이다徒步로各々그妻家를□往하더라참絕倒할俳諧오그러한모糊의事實을何에警擾할고青坡劇談에在하니라\\n',\n",
       " '新郞新婦\\n젼뎡령 백린(伯麟)씨의둘재딸 로순경(盧順敬)녀사는제즁원졸업생으로 지금의사로잇는 전참령박셩환씨의 이남되는 박정식(朴廷植)군과 혼약을매져 작사월삼십일 남대문밧 야쇼교례배당에셔 혼례를거행하엿다더라\\n',\n",
       " '曉霧四\\n玄 憑 虛作\\n 花蘿가달녀드는양을보고 졍愛의눈 는 맛치 첫날밤에新郞이겻헤오는것을보는 新婦의눈모양으로 두려움과 붓그럼의 빗히잇셧다\\n『남의便紙를외작고 보자늬』\\n 정愛는들어오는 花蘿의손을밀지며 안타까윤 목쇼래를떠라엇다\\n 『안이보이겟다는것을 왜예앗기까지 하탈것은무어야』\\n 그래도花羅을한손은 힘잇게그便紙안머리를 쥐엿다 졍愛□ 한손으로 그便紙를단々히움켜쥐고 또한손으로는 便紙잡은 花羅의손을 밀어 내인다 花蘿는 딴손으로 졍愛의便紙주인 손목을 쥭을힘을다하,야 비를어돌니엿다 어리인生乳쳐럼 보야톤살에 살작桃花色이 퍼지며가늘게떨고잇다\\n 『이애가 왜이래—아이고 압허』\\n 졍愛는 울둣한 쇼래로불으지졋다   \\n 『그러케 便紙를 좀노아라』\\n 花羅도 숨찬쇼래로 불으지젓다\\n 두處女의 숨쇼리는씨ㄱ々거린다 다갓치 上氣한붉은두빰에 홋들어진머리카락이 검고가는쥴을 그린다 가삼이팔뎍거림인가 두處女의 적고리압자락이 달삭거린□ 마조다힌두머리는 몹을움슉알젹마다흔들々々한다\\n 졍愛의 손목은 붉나못하여자지빗할 떠여오며 便紙쥬인그손이脉업시 폴어진다 花羅는 발셔 그便紙를 빠앗사들엇다 그便紙는 배배꼬이여마치비더노흔것과 갓치되얏다\\n 花羅는 벌덕 일어나셔 져리로기며 씨ㄱ웃고\\n 『나좀보고 쥿게』하고는 구긴것을 살々피며읽어보랴한다\\n 졍愛는 더할수업시 疲困하여 따라일어 날긔운조차업셔졋다 그리다가 花羅의그便紙보랴는꼬ㄹ을 보고는 견듸수업셧다 나의보배를 님이빼앗슨□쳐럼憤□기도하고앗갑기도하고 애달기도하여 견듸ㄹ수업셧다 그래셔 맥시폴닌돔에 긔운을쥬이 일어섯다 뒤로花羅들안으며 그便紙 빠아스랴 엿다 그러나 그때는발셔느졋나 花羅는졍애의 일어나는양을보고 어는슬에 그便紙 품속에 너헛슴이라 \\n 『그러케 쉬웁게‥‥』하고花羅는 돌펏겨々 졍愛를떠다,밀며 빙굿웃는다 \\n 『이리쥬어—왜—』정愛의눈에는 피ㅅ발이돌며 애달게불으지졋다\\n 『쥬기는무엇을쥬어 보지도안코주어—』花羅는 得意萬丈으로 빙글々 々우ㅅ고 몸을빼척門을열 ,一다라나랴한다 졍愛는花羅의치마뒤幅을 쓸어잡엇다\\n 『이건왜이래— 노아요—치미터지겟다』 하고 고개를돌녀졍愛에게 잡힌곳의어금을잡아\\n휘ㄱ뿌리친다 졍愛의손에셔치마□ 쑥빱져나가며 정愛의손은 헛땅을친나 그의몹은압흐로긔운업시 房바닥에넘어진다花羅는 나는몰나라하고 急히門을탁닷치인다 그리고나는듯이 미루로나와 뜰에나려셧다구두신기가밧부게 끈도매지안이하고 무슨사나운 김성한테다 죠ㅅ겨 는사람모양으로\\n허둥々々 促急한발길을 옴녀밧그로뛰여나갓다\\n',\n",
       " '曉霧\\n玄 憑 虛作\\n二十一\\n 낫살이 들어갈사륵 문득々々異性이 그리우며 괴롭고슬々한생각이 일어낫셧다 이럴때에 멀니떠러져는잇슬망졍사랑하는안해가잇슬시면 只今□비록 異城에셔 외로운벼□□도들지언졍故鄕의 돌아만가면情다운안해와 읏고질기라니하야 괴롭고 쓸々한가운데도달금하고 다스한慰勞를 바드련만은 昌爕은 안해가잇기는잇스나 이런慰勞를 바들슈가업다 도로혀그안해가 잇기때문에 더욱이 외롭고쓸々하엿셧다 夏期放學때 되야 여러등모들은 사랑하시는 父母님을뵈오랴고 그리든안해를 만나랴고 손을꼬바 그날을기다리며 깃부게故國으로 떠날젹에도 昌爕은흔이공로 피ㅇ게하고 집에안이들아갓섯다오린등안 客地에잇셧스니 왜아버지가안이 뵈을고십흐며(그의어머니는 그가열두살될때에이세상을 바텻섯다)닝々하고 맛업는 日本飮食을 먹다가 간밋고□는 朝鮮飮食의 생각이안이나랴만은 안해와 對面한생각을하면 고만 집에가기가실허셧다 그가쳐음으로 쟝가를 갓슬때는 안해가 그러케일치는안이하얏섯다 그때는안해가무엇인지 夫婦가무엇인지알지못하얏고 다만그와褥를깔고 이불을連하야 잘것이며따나사람한테는 어린애노릇을할지라도 그의게만 어른노릇할것이며 자긔보다나희는 만흘시라도 얼피ㅅ□면 기꾸짓듯 꾸지질것인쥴만알엇셧다그리고 그는 自己 게 고흔옷을이혀하고 맛난飯饌을만들어주는 針母나 饌婢나 갓흔것이니 그의게옷투졍 飯饌투졍하는줄로 알엇셧다 이런便으로보아 前 업든 그런사람이잇는것이昌爕에게는 害롬지안이하엿다 그러나 上海에셔日本으로 가는길에 집을거쳣는데 그때昌爕은 나히발셔 열여덜을 지내엿슴으로 自己의꿈갓혼 將來에 지을家庭과잇슬안해를 가삼에 그런때이엿다 그때 昌爕의눈에 비최이는 졔안해꼬근은 참으로어이가 업셧셧다\\n昌爕은 아직피랴는 꼿봉오리갓거금 그의안해는 발셔이우러진 꼿과갓해사다 구졍물이뜩々듯는행쥬치마는 겻헤만와도 不快한생각을일으키고 그조금도 가다듬지운은 우슈々한머리며 □□□어즐기 가는금이 길니□□□□ 그애ㅅ된맛하나 입□□□□々한 빠ㅁ을보고 昌爕□□□것이 내안해인가하엿나 □□□이 헐신넘는져것이 내안해인가하엿다그리고 나는一平生을 져와짝지어 지내ㄹ것인가하엿다 이런생각이 그에게 더할수업는苦痛을 쥬엇셧다 그리고는 무슨징글어운 김생쳐럼 눈압헤얼는만하여도 몸쎠리가 치이엿다 그럼으로 昌爕은오래간만에 집에들아왓것만은 親友들만 차자단이며 잠도나가자고 朝夕때나 마지못하야집에들어갓셧다 그리다가 父親과親戚의 挽留함도 듯시안이하고 고만 東京으로 뛰여갓셧다 그後부터는夏期放學에 도歸省할생각도안이내엿다\\n 『흥 이런사람은이런데…』\\n 무슨大學校卒業生을 新郞으로엇은 女學校出身을 新婦로꼬ㅅ다운婚姻을하엿다는 新聞記事가 눈 떼일적마다 昌爕은 그것을이옥히 들여다보다가 손으오新聞紙를닥치며 이런歎息을하얏섯다\\n『그들은참으로幸福이다』\\n우리留學生中에도 未婚한男學生과 未婚한女學生까리꾸근갓흔사랑에 담꿈을꾸ㄴ다는所聞을들으면 그는가십 터질듯하며 이러케부터위 엿디\\n',\n",
       " '新郞新婦\\n인쳔실□가 반복창 潘福昌)씨와경셩 음악가김후동(金後童양에결혼식은 긍이십팔일오전십일시삼십분에 경성호톄ㄹ에셔거행한다더라(인천)\\n',\n",
       " '新郞新婦\\n지나간이십오일샹오육시(去十五日上午六時)에 인쳔쳔쥬교당내에셔 혼배식(婚禮式)을거행한 본보인쳔지국장 박창한(朴昌漢氏)사뎨 졍규군(舍弟鼎主君)(二一)은 젼도유망한쳥년으로 인쳔쳥년계에 명셩□자々한대 금반인천부협의원심능덕씨(仁川府協議員沈能德의 이녀(二女)로 인쳔녀자사회에셔숙덕이깁흠으로일죽이칭숑을밧든명숙양(明淑孃)(一七)일혼인하야 구식으로하는화촉 식(花燭式)은작이십팔일(昨二十八日)작택에셔 셩대히거행하엿더라\\n',\n",
       " '赤露의人質日記\\n露國人日本文學士\\n『에리세에푸』\\n 悲劇의序幕 (三續)\\n三下日 八日前부터『레닌』政府는獨逸의參謀本部과□和談判을始하얏다其時我等은聯合□이過激派에게非常한侮辱을受한者은思하얏다其時부터只今까지秘密中에在한獨逸派一部는『레닌』의政府가獨逸□談케하는것은別로不適當한者로思치안이하나獨逸은王國인故로一時過激派政府와講和條約을結할지라도後에戰爭이終了되면過激派政府는破滅하리라云하얏다 此를信하는人도多하얏다自己도어대까지던지聯合國에加擔하는人인故로獨逸과談判하는事는完全한事로는見치안이하얏다又終에는聯合軍이丁□코勝利를得할者로信하는故로露西亞의兵士가此를認耐치못하고先히講和를欲望하는事를余는非常히遺憾으로思하얏다\\n一十三日新聞에小露西亞가其獨立을宣言함을見하고昔□露西亞가漸次分裂할가又分裂한다하여强國의位置를失치안이할가云아즉友人은此는反히好하다國民이快樂한生活만하면幸事이지强國의位置如何는掛意할必要가無하다고氣焰을吐한다余는國家라云하는者는如斯히自己의理想대로强國이던지小國이던지되는者가안이오更一層困難한者가有한슘로思한다\\n過激派政府의破壞的行爲는益々甚하게되얏다 元裁判所를廢止하고新國民裁判을設施하얏다裁判官의側에는三人의勞働者와一人의兵士를置하고法律의代로共三人은自己의人情과革命的感情으로裁判을하게되얏다間々이滑稽的도有하거니와苛酷한事로多하다 □토구라도의市街는步行하기가困難하얏다 余家에는家人一同이替審하야夜間에門을看守하얏다旣히十二月부터露西亞南에『카레진』과『고루니로푸』將軍이義勇軍을組織하야『레닌』政府를倒할計畫을하얏다其時에士官은南方으로逃하얏다 歲末□臨하야過激派政府는各銀行에兵士를人하야銀行은國民이保□라宣言하고株式賣買를嚴禁하얏다 銀行이無하면國이維持치못하고又露西亞銀行에는獨逸人의貸本이多한故로獨逸政府가□過치안이할것이다如斯한事情으로因하야『레닌』政府는打破되리라思하얏다又其時부터獨逸派와聯合國派가分明하얏다又聯合國派內에도英國派와佛國派가有하얏다何者를勿論하고外國의于涉을望하얏다\\n一九一八年(大正七年)正月은旣이一次絕望□大淵□沈滯하얏다正月初에戶籍結婚(敎會를經지안이한結婚)의法令이出하얏다今囘의此法令은過激派政府의手로부터發布한者인故로歡迎치는안이하얏다그러나過히反對하는思想도無하얏다如何던지婚禮□對하야는極히單純하다\\n新郞新婦가區役所와如한處에往하야自己가婚禮를行코자한다云하면官吏는婚禮帳을持來하야二人 名을記人 고又登 簿 도其婚禮는事를즉한後政府의名義의新婦에게는無料로□丈의白□와機子를與하고又婚禮하기前에官吏가『이로부터□何한姓을使用하는가元姓을其樣使用하던지夫姓을從하던지貴下의希望에依하야하□』云한다如斯히婚禮를□하는事가簡單하게된同時에離婚하는節次도亦容易하다夫婦中一人이區役所에往하야其人과離婚한事를言하면其帳簿 記人함□이다又離婚이던지結婚이던지幾囘를行爲지라도無妨하나比가如斯히容易히行하게된事는女子私有物이안이오國有기된故로子女가有하면此는何時던지母 게在하고母가此를認知치안이할時는其父와同居케하며又兩親이共히子女를持코자안이하면政府가其子女를收養한다\\n紙上에셔此를見하면대단이簡單아나現實生活上에는반듯시善히進行하는者는안이다此는人情上當然의事實이다\\n',\n",
       " '婆羅門敎徒婚禮\\n古代婆羅門敎徒가結婚할時에男子가婆羅門又는長老를媒者로女子의家에送한다◇媒者가女子의家에入하야西面而坐하고新郞의姓을告하며婚儀를請求하면家人이東面하야禮辭를述하고女子의意中을問하야諾否를囘答한다◇承諾하면花果物,金等을盛한톄들出하고媒者와家族이此를摩하며咒文을唱한後에此를女子의頭上에置하니此即婚約의成立을宣告하는儀式이다◇結婚當日에는新婦가夕時에香水로頭를洗하며新衣를着하고聖火의側에坐하야十一神을供養하고幸運의婦人四人或八人을響應하야舞蹈케하고式前祭를行하야新郞의人來하기를待한다◇時期가來到하면新郞이幸運의年少婦人數名을作伴하야新婦의家에到하야各樣方法으로夫婦들牢約한後에新婦가夫와作伴하야白牛의車를同乘하고夫家에赴한다◇夫家에셔又儀式이有하니其中重要한儀式은即良家兒子를借來하야新婦의膝上에置하고將來의多子함을祝하는事와夫婦가皆北斗星을仰하야愛情의不變함을誓約하는等事이다◇但不思議한事는結婚後三日間或十二日間은同衾을避하고土床에셔睡眠하여야하는것이니此는乾闥婆等好色神의防害를怖하는한所以인듯하다\\n',\n",
       " '人種改良\\n朴載廈\\n아!이제時代는萬有一切을要求함과갓치在來의모習慣,政治,敎育,學術漸次大同 致하야多少人을補充하도다그리하야□本問題인人種攺良은時化貫히要求하는바이니上述良論을前提로하야茲에□을演繹하노라\\n(甲)配偶의選擇과\\n이졔前代의史들按하거□의言을據하건대우리朝鮮人야셔만도古今人의軀榦的大質的强弱이實로兩檏種의觀□아!古人의軀榦大體質强이□—何이며今人의軀榦小體質弱其故—何이냐?二十娶三十室人의必遵하는婚約이라寧히過의賦梅淑女는잇셔도未成年의新郞은업섯다그리하야當時產□人種은渠皆壯筋勁□ 碩身□의好資格 美容貌이엿다더욱으古朝鮮人의民族的特色은史氏의이또한此를證明하는바大人들과□死君子는原始以來의오직東方產이엿다漢族들은常時『시베리』人을指하야深目國이라하며『인디아』□을指하야脩股國이라하는同一例로우리古朝鮮人을稱하야大人國 君□國又는不死國이라도하얏나니그네의軀榦이얼마나碩大하며그네의道德이얼마나純至하며그네의壽命이얼마나長遠한지?『容貌는乃德之符—라』고美容貌를따라美德行이잇고그리하야碩人君子의頎容令德이壽考惟祺하얏슬것임은勿論眞個的事實이안일순업다\\n',\n",
       " '高麗人蔘輸出\\n에對하야(三)\\n特히開城蔘業家諸氏에게\\n在上海 玉觀彬\\n高麗人蔘即朝鮮總督府專賣의紅蔘의賣出이不好况인反面에從來로其名詞도不知하든美國蔘을中國人이嗜好하게되야最新流行하는小說冊마다依例히新郞이新婦을親迎한翌朝에는保氣補陽키爲하야美國蔘湯을飮한다함을記하얏더라現下中國에在한紅蔘의賣買가如斯히勢力이微衰하여감은全혀其發賣者가日本人經營인三井會社인故로만일今日이라도朝鮮人이此紅蔘을販賣하게되면其輸出貿易의數量이比較的意外多大할것은明若觀火라고敢히斷言하노라\\n今後日本이中國人의게對하야무슨好感을與할만한特別한大事件이나發生키以前에는到底히日人의手로쎠는從來我朝鮮人의先祖가開拓한人蔘의販路를保有할수잇슬는지一大疑問이라今에中國에在한紅蔘賣買에對한狀况을略記컨대中國各大都會에는三井物產會社支店이나出張所가잇고該支店又는出張所에셔는其駐在地에셔最有名한中國人行業者의게代理店의特約을定하고右代理店은各地蔘行業者의게販賣하는形式이라或朝鮮人으로相當한資本與信用을가지고라도三井物產會社에前往하야特約店又는代理店되기를請하되絕對不許하고오직中國人의게만許하니배주고속도빌어믹는우리處地야말로다시무슨말하리오\\n紅蔘의現在가이러하니紅蔘의將來들可知라數千年傳來하든歷史的隨力올가지고僅々히販路를維持하는것으로쎠滿足치말고一步를更進하야高麗人의唯一特產인紅蔘의專賣法을撤廢하야朝鮮의人蔘은朝鮮人의手로販賣케함이勿論當然할줄아노라利權이라하는利權은 모다他人의게與하게된我同胞도좀돈벌어밥먹을구멍을開하여줌이엇덜는지假令總督府收入預算에關係로到底히此專賣를廢치못한다하면千萬步를讓하야다시말하노니專賣權은 그양所有로하더래도在中國販賣하는一 手販賣의權利나우리朝鮮人의게與함이何如오?이러케하면高麗人이高麗蔘을取扱케됨으로自然히中國人의게同情을多得하야日人보다더만히販賣할수잇슬지니엇지彼此利益이아니리오꿩먹고알먹는것이매우조흘지나朝鮮人도좀도라봄이그러케損害될것은업스리라\\n',\n",
       " '郵便局長異動\\n朝鮮内各郵便局長의異動이二月六日附로如左히發表되얏더라\\n 元山郵便局長 橘川 克彥京城郵便局長을命함\\n清津郵便局長兼清津海事出張所長成田 勝虎平壤郵便局長을命함\\n 平壤郵便局長 勝原 邦槌平壤郵便局臨時在勤을命함\\n 新義州郵便局長 向非田善五郞元山郵便局長을命함\\n 大邱郵便局長 成田 新郞清津郵便局長兼清津海事出張所長을命함\\n 釜山郵便局監督課長梶本 益一大邱郵便局長을命함\\n 監理課兼電氣課勤務          村上 景介釜山郵便局監督課長을命함\\n 新義州郵便局在勤遞信書記          梅田 與作新義州郵便局長心得을命함\\n',\n",
       " '東 舌 西 話\\n(四三)\\n露西亞의奇異한結婚法\\n閔 藕 齎 譯\\n 露西亞의『스모레ㄴ스크』라는곳에셔는一年에四囘의新婦富籤를發賣한다는데그富籤의方法은진실로奇異하다고할만하니爲先富籤의價格이一『루—불』(圓可量)이니五千枚를一口로定하고苽年된處女一人을選擇하야富籤을賣한收入金을持參金으로하야其處女에게與하면其處女는當籤된男子와結婚을한다는뎨萬若處女의便에셔新郎을不合하게녁이는時는富籤의半金을新郎에게分割하야쥬고自由의몸이되며또는新郞의便에셔新婦를不合하게녁이는時에는自己가定하엿든新婦를他人에게讓渡를한다는露西亞의一種滑稽的結婚法이라더하\\n',\n",
       " '新郞新婦\\n동경동양음악학교(東洋音樂學校)에재학중인 장희병(張喜丙)군은경성녀자고등보통학교사범과(師範科)츌신인 신량숙(申良淑)양과명일오후셰시에 시내종로감리교중앙회당에서결혼식을 거행한다더라\\n',\n",
       " '新郞新婦\\n▲안주(安州)김창셥씨의친뎨인경성경신학교교사김졍셥(金晶夑)군과리긔창씨의둘재딸인일본하관매광(梅光)녀학교출신 리성수(李聖秀)양은 지난달이십구일정오에당디야소교례배당에서성대한결혼식을거행하얏다더라\\n',\n",
       " '新郞新婦\\n일즉이 중국 텬진(天津)남개중학(南開中學)을 맛치고귀국한본사신막지국(新幕支局)에 총무겸기자로재근중인김성진(金聖鎭二四)군과셔흥군(瑞興郡)목감면(木甘面)리상현(李象鉉)씨의장녀리근뎌(李根姐二二)양과 래월초륙일에혼례식을거행한다더라\\n',\n",
       " '新郞新婦\\n이십륙일하오두시에 시내홍인배재학교(興仁培材學校)교사랑승헤(浪承惠)씨와 원헤경(元惠卿)양과동대문안례배당에서 결혼식을거행한다더라\\n',\n",
       " '新郞新婦\\n동아일보(東亞日報)졍치부장(政治部長)동경죠도뎐대학(早稻田大學)츌신최원순(崔元淳)씨와 조선총독부의사 동경녀자의학전문학교(東京女子醫學專門學校)출신현덕신(玄德信)양과금일오후네시부터 김창준(金昌俊)목사의 주례하에시내종로중앙레배당에서흔례식을거행한다더라\\n',\n",
       " '新郞新婦\\n현재동경중앙대학경졔과삼년급재학생강훈(姜勳)군과 시내배화(培花)학교교사김건우(金健雨)양은명이십삼일오후여섯시반에 시내도염동종교례배당에서 오화영(吳華英)목사의주례로 흔례식을거행한다더라\\n',\n",
       " '新郞新婦\\n연회전문학교(延專)출신 련태진(廉台振)씨와경성녀자고등보통학교(京城女高)츌신졍계원(鄭啓元양은금이십일오후다섯시에 시내죵로중앙청년회관안에셔결혼식을거행한다더라\\n',\n",
       " '新郞新婦\\n경성의학전문학교재학중인오동일(吳東一)군과 평양숭현녀학교졸업생리진화(李眞化)양은 금십칠일오후두시에 진남포신흥리감이교당에셔혼례식을거행한다더라\\n',\n",
       " '新郞新婦\\n일보대학미학과(美學科)학생뎐응렬(田應冽)군과 숙명녀자고등보통학교졸업생김갑순(金甲順)양은명이십칠일동대문외 영휘원(永徵園)숑림속에셔 야외결혼식(野外結婚式)을거행한다더라\\n',\n",
       " '서그푼後悔\\n(二十)\\n玄 洲\\n 『에쓰』는 弼源이가 말하든『우리도 사람인가하는느낌이 들더라』하는말이 몹시 그가삼을찌ㅅ는것갓햇다\\n 『九月一日과 日午前 까지는地震과火災로셔 關東地方 안이東京 橫濱과그附近地方을支配하엿스나 二日午後로부터 一週日동안은 죠션사람이라는말그림자로셔關東안이日本全國을支配하엿다地震과火災에놀낸그들은 죠션사람이쳐들어온다는 밋도끗도업는말에 만신을떨엇다自然의暴力猛威에對해셔는떨기만하엿스나죠션사람에對해셔는 다시업는殘忍한行動을하엿다 사람으로셔는아무래도 그쳐름殘忍할수가업다고생각한다』\\n 하는弼源의말을생각하면셔『에쓰』는 집으로돌아왓다 머리가얼넝々々하엿다 反抗과憤怒가가삼을차셔올나왓다\\n 『사람이라는그本性이 本來그러한것이다 法律이라 警察이라는것이업슬것갓하면 사람이라는動物은 언졔든지 그릿타 사람이라는것은 永久히 平和的으로살수잇는動物이안이다 그러닌까말이지 人顆社會라는대에잇셔셔自由를바란다고하는것은 根本的으로 틀닌짓이다 自由를엇자면人類社會라는것을 젹어도 現在의人類社會라는것을破滅식히지안이하면안이된다』\\n『그러나이것은—人類社會를破滅식힌다고하는것은 잇슬수업는일이다 업스니말이지 사람이라고하는것은 永久히괴로워해야하고 억매여살아야할運命을지고낫다』\\n 『다갓흔사람이라도 社會라는怪物은 더괴로워하고 더不自由한사람을맨들고 덜괴로워하고 덜不自由한사람을맨든다 法律이라는것은 罪人을制裁하는것이안이다 法律맨든 그사람과갓흔種族國民을保護하기때문에 엇재ㅅ든지 저들에게利益하도록맨드물건이다』\\n十一\\n 午前에 弼源이에게 이약이듯고 興奮되『에쓰』의神經은 발셔식어졋다\\n『나도 이럴줄이야 벌셔부터안다 이번에 쳐음속는것은안이다』\\n 『에쓰』는 식어진 이졔의졔마음을反省하고 冊床우에 두괄을언저셔 턱을고이고는 증얼걸엿다\\n 그어머니는 빨내를하여다가귀치안은눗이넌다 져갓흔아들을가진 그어머님이 얼마나불상한지?하는생각이 들엇다 며나리라도잇슬것갓흐면 늙은이가 저런짓은하지안켓지하는것을생각하니 더욱볼상한것갓햇다『에쓰』는그어머니와 장가를가지거라 아가겟다는것으로 싸홍로 만히하엿다 그누의동생이잇슬때는 오라비되는것이 먼첨 장가를가지안이하면 그동생되는것이 엇지싀집을갈수가잇느냐?한는것으로나날이 싸홍을하엿다\\n그레셔 그어머니는 긔어코 네가안이간다고해도 안이가는가보지하고 며나리될사람올차지러단이며 션을보러단인다하고야단을하여도『에쓰』의『내가 장가를가는가보십시요 가기실흔장가를엇지갈수가잇슴닛까?졍 보낸다고하실것갓흐면 다라나겟슴니다하는 한말로쎠 남편업는그어머니는 항여 다라난다고하면 定해노앗다가 그런우셰가 어대잇나?하는생각으로언졔든지『에쓰』에게 그머니에게는『에쓰』기다라난다는말이 참말갓치 들녓다 혹떼러갓다가 혹붓치는셰음으로 며나리어드랴고하다가 아들까지 일허버리게다는생각이늘 그로하여곰『에쓰』의말을 좃지안이할수가업게 맨들엇다\\n 그레셔 이런남부끄러운일이또 어대잇나하면셔도 할수업셔셔 오라비잇는딸을 먼쳡 치우게되엿다 龜浦잇는 어느부자집아둘에게 昨年동지달에싀집을보내ㅅ다 그런대 同居한지 다섯날도못되는 今年三月에 新郞은어느女學生하나하고 온다간다\\n말도업시 다라나고 혼자 남평업는싀집을 살고잇다\\n 그누의동생이싀집간뒤에는『에쓰』는 이졔 장가를가야할빙자가업지한것이 이졔는 나희가만하셔너의시중을못하것다는 장가갈理由가 또생겻다『에쓰』에게는이빙자가 먼첨빙자보다 더重大한것을 스스로도 느끼지안이할수가업게되엿다 \\n 그런대『에쓰』의장가안이가겟다는理由는 누가 둣더래도 웃을만한理由다 쳣재理由는 장가를가도관게치안키는 관게치안으나 마음에맛지안이하는안해를만날까하는걱졍그것이고 들재理由는 結婚이 아무래도 귀치한켓다는그것이다 이생각이 惡靈쳐듬 드러붓허셔 結婚말만나면不幸 凶變의豫感이들어셔 異性에對한모든愛着을 끈어버리게하엿다\\n 勿論 에쓰도 졂운사람은 누구업다 한버식가지는『理想的안해』『理想的살님』에對한 달도난憧憬을가졋다 그것을 혼자생각해보고 남몰내 그것을 꿈꾸며 그리보고는 남몰으는것분웃음을 입살에띄우기도하엿다 쳐음은 이러한『理想的안해 理想的살님』이라는것에對해셔 끈어버릴수업는憧憬때문에 그어머니의장가가라는말에反對를하고 拒絶을하엿다\\n',\n",
       " '雜同散異\\n▲米國셔는五十歲된寡婦가三十四歲아래곳十六歲되는新郞과愛의結婚을한稀貴事가近日에낫다\\n▲두番愛만하면曾孫玄孫벌에도結婚을할터이니참으로西洋倫理上의最文明式的結婚이라하게다\\n▲그런데그新婦는財產이만어셔結婚當日에新郞을爲하야트라스트資本二萬圓을척…提供하엿다\\n▲그러면그結婚은性의愛보다錢의愛로꼿송이를꺽근것이다黃金奴의禽獸交가안이면또무엇이냐\\n▲仲小路廉氏는別功勞가업셔도日本政界에는한참일할만한人物인데六十을다못살고永去는可惜\\n▲松方公은抹殺團이안이라도別世하랴고昏睡하고平田內大臣은뜻밧게落傷하야모다朝夕이可慮\\n▲이것이무엇이냐하면人物의凋零이다天命은엇지할수업지만은日本의人衰病은現今에와셔한참\\n▲그리고도『말방귀』꾸덧하는地震은多數人命을각금쓰러가니東京터가덧난듯安宅굿이나해볼일\\n',\n",
       " '新郞新婦\\n경남(慶南)부산(釜山) 영주동(瀛洲洞)임봉길(任鳳吉)씨령뎨 수길(守吉二二)군과창원군(昌原郡)내셔면(內西面)회성리(檜城里)안슌극(安舜克)씨장손녀 귀슈(貴洙一七)양은 오는팔일오전십이시에안귀수양 자택에셔 결혼식을거행하고 십일오후에영쥬동 오십삼번디신랑의집에셔연회를개최한다더라\\n',\n",
       " '雜同散異\\n▲米國의石油事件은엇지그리宏壯한지海軍의總次長과檢事總長들이그干連으로辭職을한다던가\\n▲黃金熱이너무盛하야腸胃가沓々하닛가淸凉飮料를생각하다못하야못먹을石油를먹어던것이야\\n▲이졔본잇가收賄事件은東西洋을勿論하고文明하다는國家에셔는海軍界의專門的技術인가한다\\n▲日本셔는丙午生女子는八字가奇薄타하야시집을못간다나졍말文明한나라에는迷信이업다한다\\n▲五十萬이나되는그處女들이畢竟은快樂한生活을못하고말것인가우리生覺갓터셔는妙計가잇다\\n▲무엇이냐하면南洋群島로몰녀가셔新女國을建設하고統領以下各官廳에富貴生活을하면엇덜까\\n▲그때는奇薄한處女가모다榮華로은處女가되는同時에新郞이너무만아셔주체를못할것이라한다\\n▲七十三歲의閔大監은쳣正月에딸의돈□萬圓의證人으로法廷에出頭를햇다니아이고康健도하지\\n▲當年가트면一號令下에法官이뜰터인데그러치도못하고돈도重하지만은여북이나猖皮하엿슬가\\n',\n",
       " '人間本體의進化論的考察\\n(二)(十)\\n사람의結婚의最初形式은 掠奪結婚이엿다 男子는腕力으로쎠女子를盜取하얏다 그다음에는賣買結婚이엿는대 夫가되고저하는男子는 그女子의父에게 딸을엇어가는代로 約定한金額이나家畜支拂하면 이로쎠그夫가될수가잇섯다 그리고第二의形式結婚이將來의夫와妻와의直接으로 가장平和한交涉에依하야 成立되는結婚을하는대까지 進化하얏다이는가장進步한社會에 目下에가장普遍的으로 實行하는結婚의形式이다 그리고文明人의結婚의儀式中에는 野蠻人의結婚에連絡되는만흔事實의痕跡이남어잇다 文明人의結婚은 結婚制度의進化의縮圖와갓흔것이다 그未來의夫가되는男子에게 結婚의請求를밧음에對하야 辭讓하고躊躇하는것은 野蠻時代의姊妹들이躊躇하든直系의遺物이다 結婚指環은女子가奴隷의誓約을매즐때에빗든가장오랜徵證이다 結婚式을擧行할때에 新郞이그友人들과함끠오게되는것은 掠奪의遠征으로發程하는흉내이다 新婚旅行은誘拐이다\\n新夫婦가出發할때에 親戚과友人이石片을떤지는儀式은 太古에新婦를掠奪하려는者가잇슬때에 그에抵抗하려는用意에 周到하라는意味이다\\n 사람及他動物의精神的또는社會的現象의到處에셔 發見된다 이러한遺物은精神進化의行程中에셔\\n 必要한事實로發生된것이다 인러한遺物은精神上의一種盲膓이다\\n九,精神發生史의反覆\\n 動物의品種의肉體的進化를 促하는큰理由의하나는 個體의進化이다 個々의動物은그種屬의發生史를反覆하는것이다 이와갓치그併行線이 精神進化의境遇에도잇다는것은 크게意義잇는事實이다個々의精神은 動物界의精神發生史를縮圖안 精神的諸能力의連續으로 나타나는것이다     \\n 사람의아들은 充分히發達한身體를가지고出生하지아니하는以上에는 充分히發達한精神을 가지고出生하지안는다 그는成長하고剝脫하야 時日을따라셔成熟한다赤兒때의 殆히零으로부터비롯하야 成人이되야셔는 或은天才가되고或은仁人이되는것이다\\n그러나이赤兒의精神은 單純한成長뿐아니다 어느一定한秩序를따라셔 例하면가장復雜한部分과가장進步한情緖는 반드시最後에나타나는順序로 成長한것이다\\n새로이出生한赤兒의 最初에가진것은 感覺과知覺이다 赤兒는무엇을思考하지못한다 恐怖이니情愛이니 同情이니 羞耻라는感情을가지지못하얏다 彼는다만보고 듯고 맛보고 그리고는共痛과滿足을늣길수가잇슬뿐이다 이것이 그아는것의全部이다\\n',\n",
       " '愛의力\\n(十)(一)\\n李玟漢 譯\\n『나는당신을思慕하야 자나깨나잇지못할뿐당신의아릿따운容貌두사람이滋味잇개노든일을생각하면나는죠금도마음이便할젹이업슴니다 이世上에는다시比할수업는아릿다운『죠셰프누』여 당신은나의마음을살필지어다 나의마음가온대에당신이얼마나偉大한힘을주는것은 아마당신은잘아지못할것이로다 당신에게는懊惱가잇는가悲哀가잇는가또는당신은아모일업는가온대에셔마음을태우지아니하는가나의마암은悲哀에잠기여셔肉體도精神도 그무엇도便치안슴니다 그러나타고만잇는나의熱狂的사랑을그대로나의靈魂의불꼿을當身에게쏘와버리고져할때나의울넝거리는가삼이果然엇더할는지—슬프다나는이러케생각하고나의 가슴가온대그린바당신의아릿다 운姿態는도리여당신그自體가안 인것을깨달엇나이다나는數日後 에당신을만나고져하오니당신은 그때나의타오르는마암의한숨을 얼마든지바들줄암니다 다만나 는당신으로부터는아모것도밧지 아니하기를願하나이다 그는내 가이以上당신의 타오르는불꼿 을바다셔스사로나의自體에爲하 는煩悶을견대지못하면\\n『나파륜』이『죠졔프누』와結婚하기는千七百九十六年三月九日이엿다그는참겨우自己를理觧하는親舊몃사람을招待하야極히儉素한禮式을칠엇다 巴里의結婚記錄에依하면『나파륜』의年齡은二十八歲요『죠셰프누』의나히는二十九歲이라고하엿다그는新郞新婦의年齡이죠금相距가잇슴으로便利上이와갓치곳친것이며『나파륜』이『죠셰프누』에게부낸婚姻指環에는『運命』이라는두글자를새기엿다고한다\\n『나파륜』이『죠셰프누』와結婚코져할때그의兄弟姊妹들은죠금도질거워하지아니하고더구나로셔아사람들은『죠셰프누』를惡評하엿스나그의容貌에對하야셔는稱讃아니할수업셧다即『죠셰프누』는黃金빗나는褐色의머리털과그의表情이豊富한눈瞳子와젹고도놉흔코—아릿다운입솔은男子의마음을끌만치되고더구나그말의音聲은相對者를迷惑식할만한힘을가졋다 키는크지아니하여도淸雅한熊度는全身의體裁가優秀하야極히肉體的美를나타내고또한容貌가美麗하고擧動이典雅하며그外에起居가甚히賢淑하야品格이잇슴으로『나파륜』의구러케愛着함도偶然이안이엿다 고져는이것을그의備忘錄에記錄하야두엇다 이것으로보아도그女子의容貌가얼마나아릿다웟든것을可히알수가잇다『나파륜』은結婚前벌셔伊太利軍司令長官의任命이잇슴으로同居한지겨우二日이되여即三月十一日에任地를向하야出發하얏다 大槪當時伊太利에잇는佛軍은疲弊困憊가極度에達하야軍士의元氣는甚히不振하고將軍『시에레—』도또한그地位에困難함을呼訴하야마지아니하던바材幹과膽力이非凡한『나파륜은이後任者에選拔되엿던바이다\\n伊太利로브터『조세프누』에게보낸書札\\n 巴里를出發한『나파륜』은愛人의戀々한形容을죠곰도잇지못하고그잇흔날『샤—존』에셔『죠셰프누』에게一書를보내고다시十四日에途中에셔도글을보내엿다\\n 『나의愛人이여 나는당신을 떠 나셔멀니가는瞬間마다나의氣운 은傷하고衰함을깨닷는다 나는 一時라도당신을잇지아니하고당 신이지금엇더한일을하고잇는가 를여러가지로생각하야마음이甚 히疲困하랴한다 나는만일당신 이甚히寂寞을늣겨셔不幸한地境 에잇다고함을들으면나는마음이 即時散亂하야悲哀憂愁가다시더 할것이다그러나당신이만일親한 親舊와갓치자미스럽게談話하고 愉快히그날々々을보낸다함을들 으면나는當身이겨우三日以前의 슬푸고恨만튼離別을이져버리는 것이너무나速함을怨望아니할수 업다나의愛人이여당신은努力하 라마읍을다른데옴기지말고또熱 々한情에마음을動하지말기를操 心하는것이죠흘것이다(中略)사 랑하는夫人이여나는낭신만마음 에걸니여셔밤이되여도便히잘수 가업다 사람々々의苦惱라고생 각하는일도당신이스々로맛보아 셔苦惱라고하지안으면나의마음 에죠금도影響이업도록당신을생 각함을마지아니한다 나는지금 熱烈한祈禱를우리神에게 하고 잇다나의危險만은運命을 保護 하야주씨는 神은꼭갓치당신에 게도擁護하심을밋는까닥이다\\n',\n",
       " '新郞新婦\\n보인학교(輔仁學校)교원 한홍리(韓興履二五)군과은로학교(恩露學校)녀교사죠재숙(趙載淑一九)양은 금일오후네시에안국동(安國洞)례배당에셔결혼식을거행한다더라\\n',\n",
       " '新郞新婦\\n일본죠도뎐대학사범과(師範科)학생권녕운군(權寧運君)과동횡빈녀자신학교(女子神學校)재학중인김락인양(金洛仁孃)은금사일오후다셧시반에 인쳔내리(仁川內里)례배당에셔 결혼식을 거행한다더라\\n',\n",
       " '寧邊洞約總會\\n消費節約과\\n勤儉을決議\\n陰曆正初를利用하야平北寧邊郡寧邊面東部洞約會에서는去七日正午에當地面事務所內에서洞約總會를開하고洞約長金廳鐵氏司會로面長金泰熙氏와署長田熊氏의消費節約에對한講演이有한後同二時에閉會하얏다는데洞約消費節約細則은다음과갓다더라\\n一,婚姻은男子는十七歲,女子 는十五歲로定하야早婚을廢止 할것\\n二,納幣時禮物費用은一等을二 百圓으로부터低下할것\\n三,納幣에對하야月子佩物等屬 은全廢할것\\n四,宴禮는다만新郞新婦의床만 簡單히하고查家에보내는食物 과其他는廢止할것\\n五,宴禮時燒酒는全廢하고甘酒 로代用할것\\n六,喪家祭禮時隣家에보내는祭 物은廢止하고祭酒는三升以內 로할것\\n七,婦人及女子의緞屬衣服을廢 止하야『당기』까지리도土產으 로할것\\n八,男子의黑服,婦人의首飾(낭 자)은前日宣傳대로進行할것\\n         (寧邊)\\n',\n",
       " '헛물만켠新郞\\n신부집에들어가지도못하고\\n부근주막에서외로히첫날밤\\n지난십일오후한시경에김포군검단면 오류리(金浦郡黔丹面梧柳里)부근에는 엇던신랑(新郞)이납채를 들이랴다가 신부(新婦)집에서 문을굿게닷고 수십명의파수군이 들어가지못하게 함으로한편에서는 들어가자거니 한편에서는 길을막고 못들어가게하는등 일대활극이일어나서 신랑은 오도가도못하고 신부집부근에서 종일헛물만 켜다가해가저문후에 엇던주막에서 홀로첫날밤을 지내고그이튼날도 또헛물만켜고 도라간사실이 잇다는데 이제그자세한 내용을\\n 들으면 김포군하성면후평리 (金浦郡霞城面後坪里)에사는김복득(金福得)의아들대길(大吉)(二二)이와동군검단면오류리(同郡黔丹面梧柳里) 리규병(李圭秉)의 장녀 리란자 (李蘭子)(二二)와 약혼이되여사주 (四柱) 까지주고밧고혼례식은지난십이일로뎡하게되엿든바당초에혼인뎡할때에신부의오라버니가스물네살이되도록장가를못갓슴으로전긔김복득은자긔며누리를엇는대신에 리규병의 며누리를어더주기로 약속하고 백방으로\\n 혼처를 주선한결과김포군 군내면 사우리 (金浦郡郡內面沙隅里) 사는 김태현의딸금년열두살된녀자를돈오십원을주고사다주엇더니리규병은지난달 이십삼일에 그녀자를다리여다가 성례를지낸후 무슨심사로자긔딸은 혼인하지 못하겟다고김복득에게 사주를도로 보내엿슴으로 김복득은 분개하야사주가진사람이 오락가락하는\\n 동안에 혼인날이닥처음으로 김복득의집에서는 음식준비를하고 신랑을다리고 리규병의집으로가서 납채를 들이랴다들어가지도못하고 그와가티되얏다는데리규병이는수일전에성례하얏든자긔며누리는머리를도로따아서 친뎡으로 도로보냇스며김복득이는 리규병을걸어서 김포경찰서에다가고소까지하엿스나 동서에서는 무슨리유로고소를기각하엿다더라(김포)\\n',\n",
       " '新郞新婦\\n인천의청년실업가 김수옥(金壽玉)(二六)군과 그동안미국에 류학중이든장뎡혜(張貞慧)(二二)양과의결혼식을 이십삼일에 인천사뎡(寺町)에잇는 텬주교당 (天主敎堂)에서거행한다고(인천)\\n',\n",
       " '◇新郞新婦\\n釜山牧島\\n公普校訓導金昌燁(晋州師範出身)君과同校訓導金永信(平女高普出身)孃의結婚式은五日下午一時釜山草梁三一教會에서鄭德生牧師主禮下에擧行한다더라\\n(釜山)\\n',\n",
       " '南湖洞의美風\\n平北博川郡博川面南湖洞約會의創立狀况은旣報와如하거니와同會에서는定例에依하야每月五日마다洞約長李正善氏의司會下의協議會를열고每月間經過報告와實行事項及方針을决議하야着着實行하는中特히各協議員의特殊한熱力과一般會員의誠心實行으로該洞內에鮮美한風潮와快活한人氣는實로刮目之勢이며極히良好한成績은참으로隣近各洞에模範이될만하다는評도잇는데現行의决議事項은如左하다더라\\n一,敎育機關을設置하되爲先夜 學會를누어一般洞民의게常識 을普及식힐것\\n一,納幣時禮物은□□을全廢하 고可及的土產品을用할것\\n一,宴禮時新郞新婦의床만簡單 히하고査家의보내는食物과其 他는廢止할것\\n一,宴禮喪家祭禮時食物은極히 節約하되燒酒는全廢할것\\n',\n",
       " '新郞新婦\\n李龍臺氏의長男禎華君과李讃永氏의長女順全孃은來二十七日午前十一時殷栗邑禮拜堂에서結婚式을擧行한다고(松禾)\\n',\n",
       " '◇新郞新婦\\n金尙範,呂運英兩氏의結婚披露宴을來三日下午七時에釜山鐵道호텔에서開催한다고(釜山)\\n',\n",
       " '◇新郞 新婦◇\\n◎車應運=李寶璟,車應運君과李寶璟孃은지난三十日正午에南市禮拜堂에서結婚式을擧行하엿다고(龜城)\\n◎曹仁奎=鄭嬋裕,京城세부란스出身曹仁奎君과平壤崇義學校出身鄭嬋裕孃은四月二日上午十一時에載寧幼稚園에서結婚式을擧行하엿다고(載寧)◎崔泳漢=金耆順,開城松都第二普通學校의敎員崔泳漢君과京城女子高等普通學校에在學中인金耆順孃의結婚式을今三日下午七時에開城禮拜堂에서鄭春洙牧師의主禮下에擧行한다고(開城)\\n',\n",
       " '◇新郞과新婦\\n리민훈(李珉薰)씨의 삼남 동구(東九)군과 신빈(申彬)씨의오녀 장희(璋熙)양은 사일하오 네시에시내 인사동(仁寺洞)승동례배당(禮拜堂)에서 김필수(金弼秀)목사 주례하에결혼례식을 거행한다고\\n',\n",
       " '新郞新婦\\n江原道通川邑東里方在英君과同中里金樂善氏의親妹金喜善孃의結婚式을來十二日에通川邑禮拜堂에서擧行한다고(通川)\\n',\n",
       " '新郞新婦\\n현재 동경명치학원(東京明治學院)에재학중인 김팡흡(金鑛洽)(二四)군은평양녀자고등보통학교(平壤女高)를졸업하고현재대동유치원(大同幼稚園)에재직중인김영애(金永愛)(一九)양과칠일오후한시경에 시내종교례배당(宗橋禮拜堂)에서결혼식을거행하엿다고\\n',\n",
       " '◇新郞新婦\\n金貴龍君과徐桂子孃의結婚式은本月二十四日『舊四月二日』下午二時에釜山鎭新婦自宅에서擧行(釜山)\\n',\n",
       " '岩泰靑年總會\\n諸般事項決議\\n全南務安郡岩泰靑年會에서는諸般事項을討議하기爲하야지난九日午後一時부터岩泰女子講習院內에서臨時總會를열고臨時議長徐倉錫氏司會下에經過報告가잇슨后本會에서私立으로經營하여오는男女兩學院에對하야委員을選定하고同六時에閉會하엿는대决議事項과當選된委員氏名은左와如하다더라(木浦)\\n决議事項 一,男女兩院維持方針에關한件 一,木浦在監人後援에關한件 一,南一會社岩泰取扱店에關한件 一,務木靑年聯盟臨時總會出席代表選定에關한件 委員 兩學院院長朴福永委員徐東洙朴弼善,徐東五,金東基\\n新郞 本報沙里院支局記者金重玉君과當地鳳岩幼稚園先生邊道信孃과의結婚式을今十四日에美監里敎禮拜堂에서擧行한다고(沙里院)\\n',\n",
       " '新婦가新郞집에가서\\n야료하고파혼\\n고원군하발면동상리진천근(高原郡下鉢面銅山里陳千根)의 딸병화(秉嬅)(一八)와영흥군순녕면석북리박병순(永興郡順寧面石北里)(朴炳淳)의차남박주텰(朴周徹)(二〇)과지나간음력정월십칠일에약혼을하얏는데그당시에신부의아버지되는진천근은박병순에게혼약금으로 일백 사십원을밧그신랑의아버지되는박병순은또진천는에게 만약 신부될자가신랑을배척할때에는백사십원을배상 하기로하고 양편이모다구든계약으로 혼약을 하얏는데이말을들은 싀부진병화는 이것을알고 신랑의집에 차저가서자긔가싀집을오지안켓다고대담하게야료를 하엿다는데 그처녀는이전에안변(安邊)엇던곳에약혼한일이 잇섯다가 파혼한일도잇다하며 또그와가티 대담한일을한리면에는 무슨곡절이 잇는것이라고추측된다더라(고원)\\n',\n",
       " '醮禮廳에\\n두新郞\\n처녀의부뎡이\\n초례석에서폭로\\n강화군 삼산면서긔(江華郡三山面書記)황행원(黃行元)은 동군양사면텰산리(兩寺面鐵山里)천응원(千應元)의장녀 이십이세된처녀를양쳡으로다려오게되여서전긔황행원의 부친이 후행이되어가지고전긔\\n천처녀를\\n마지러신부의집으로 갓섯는대전긔 천처녀로말하면 동리사는 장긔설(張基卨)(二六)과 칠년전부터남모르게정을통하고 단꿈을꾸어오든 터이나전긔장긔설로 말하면 긔왕취처를 한터이라 엇지할수업시그저긔회만 긔다리고 잇섯는대호사다마로 장긔설은부지불각중에 재산이모다 업서저서생활이곤난하게되닛가 고만 모든것이뜻과가티 되지못하는 동시에후일을바라든 전긔천처녀도\\n끈떠러진\\n뒤응박이되고말아서 전긔황행원에게 첩으로주게되엿다는매 전긔 장긔설은신랑신부가 교배석에 막나서자사모관대를 점잔하게하고 먼저썩드러서며 자어서 초례를지내자고하야 정숙하게한다는 초례텅이별안간에큰수랑장이되여가지고전긔신부의부모가달려들어서장긔설을 무수히 구타하며측출하얏다는대 전긔황행원과 후행으로온 그의부친은고만 겁이나서 벌벌떨면서 초례인지만지어름어름 마치고 신부를다리고도라갓다더라(강화)\\n',\n",
       " '新郞新婦\\n現在 北鮮日日新聞會寧支局長으로잇는朴元泰君과原籍을穩城에두고現在富寧公立普通學校에在勤하는訓導崔志明孃의婚禮式은本月十四日午後五時三十分當地會寧靑年會舘에서大盛况裡에서擧行하얏다더라(會寧)\\n',\n",
       " '新郞新婦\\n去十三日下午二時에京城培材高普를卒業하고靑年會舘英語科를卒業後方今南京金陵大學에在學中인金海雲(二二)君과京城梨花女子高普를卒業하고方今碧潼新明學校에서敎鞭을잡고잇는金如珠(二二)孃은當地耶蘇敎禮拜堂內에서崔聖柱牧師의主體下에結婚式을擧行하엿다고(碧潼)\\n',\n",
       " '三十新郞\\n七歲新婦\\n사실은사위가\\n장인을속힌것\\n양평군갈산면 공흥리박재빈(楊平郡葛山面 公興里朴在彬)은가세가적빈함으로 장자영회(長子永會)가나이이십팔세가 되도록성취를 못시기여 근심이든바그의사위(婿)되는 룡문면 덕촌러리뎡길(龍門面德村里李丁吉)이가와서 말하기를\\n처남의 혼처를구하엿스나시부집에서돈 삼십원을 요구하니엇지할터이냐 하매 이말을들은박재빈은동서로취대하야돈삼십원과사주를 동봉하야 사위리뎡길을주며 신신부탁한후 혼일을기다리더니 사위가 또와서신가에서 혼일이촉박하야 할수업스니 십일만물리여 사월이십이일로 하자하니 그리알고준비를하다하매\\n 일각이 삼추가튼 박재빈은할일업시 또십일을 참으며기다리든중 잔치전긔 삼일전에리정길이가와서 말하되 신부집에서좁쌀(粟)한포대만보내주어야새하인밥도 대접하겟다 하닛가엇지하겟느냐 하니 이말을들은박재빈은 이말을거절 하엿섯는데어언간사월이십이일이되자새벽부터비가시작하야저녁까지비가퍼분는데\\n바더논 날이니아니할수업다하고 혼행을가추어 가지고삼때가티 오는비를 무릅쓰고덕촌리사위의 집을차저가니 발서사위되는 리정길은 어대가고업슴으로 신부집인 룡문면금곡리(龍門面金谷里)양재화(梁在和)의집에를간즉 양재화는 무슨일인지 아지도못하고 자세한내용을물엇다박재빈은전후\\n 사실을 일일히말한즉량재화는 펄적뛰며 리정길을죽일놈살릴놈하며 너의 옹서(翁婿)놈이 부동하야가지고 남의집규수를 강탈하랴고왓다하며 공박이무쌍하매 이일을당한 박재빈은 하어이가업서 사위놈의소위인줄알고할수업시도라오든중로에서 리정길을맛낫는바로한말로 연고를무른즉 사주와택일은신부집에서밧지아니\\n 하기로 저의주머니에 이때까지잇고 돈삼십원은 이렁저렁다소모되얏슴니다하얏다방관하든일반은 리정길의소위를 통매하며 박재빈의일을 가긍히여기엇는데 그자도양십이 잇든지자긔장인박재빈을위로하며이왕일이그릇되얏스니다른신부라도다리고가라하고 동면다문리(多文里)조모의딸 칠세유아를\\n휼계로 유인하야다리고와서 남의수치나면하라하매 박재빈은 할일업시 칠세신부를교군에다리고 공흥리 잔치집으로갓다 이일을먼저알은 동리사람은 삼십실랑에게 칠세유아가무엇이냐하며 다리고온 그의싀부될박재빈을 비소하며 리정길의소위를분개하는중 신랑 영회는긔가막혀 말도못하고 그계집아이를밧비제집으로돌려보내고자긔의부모를성심으로위로한다한다(양평)\\n',\n",
       " '錯誤된批評\\n(三)\\n星 海\\n더한거름나아가 君의作品을評價하는態度를 合評記錄에나라난것으로 綜合하야말할가한다合評이생기인후의 모든記錄을一一히檢討하엿스면하겟지만그것은 너무나煩雜함으로 最近二個月에 批判한評의力點이라할만한評詞를列擧하여보자\\n 憑虛君말에 同感임니다 처음 에는 好奇心을가지고 읽엇 스나 읽고난뒤에 몹시不足 한感이 잇슴니다 全體 哀 愁가 흐르도록 表現식혓드 면 조홧겟는대 그것이업고 또 男子主人公이 分明하게 印象的으로 더濃厚하게나타 낫드면 조흘번하엿슴니다 生長四月號 (牛步作 寂寞의 伴奏者』에對한評) 개가업 시는 그作品이 成立될수업 다 하는이가 잇스나 吝嗇 한 富豪들目標로 그리려면 개가아니고 다른 것으로도 나타낼수 잇겟지오 그런데 개를 써서 그러케不自然하 게 맨든것은 作者의 失策 이에요 (開鬪四月號 朴懷月 作『산양개』에對한評)\\n 이小說을보고 늣김이 나는 것은 실증이나는것을 寒責 으로 쓴것이分明해요 男主 人公性格이나 女主人公性格 이 흐리머리할뿐더러 矛盾 이만코 全篇에惰怠한氣分이 흘너서讀者에게 아모것도주 는것도입슴니다朝鮮文壇四月 號,春海作『죽지못하는사람 들』에對한評』‥前略‥첫날 밤에新郞이 마음에 뜻하는 사람과는判異하야 우물에빠 저죽게된 事實가톤것은 現 代朝鮮에잇서서 흔히잇는事 實이지마는 이作品을 읽고 나서 늣기는바는 도대체作 品의印象이 아무것도 남은 것이업슴니다 다만平面描寫 에 끗치고 深刻味가 업는 것은 이作의 缺點으로생각 함니다 나로서는 表現에무 엇이 더잇섯스면 조흘것갓 슴니다(生長五月號,金浪雲 作『첫날밤』에對한評) 이것을小說이라하면表現方法 이너무單純함니다 이러한表 現方法을 取치안흐면 事實 이復雜하여짐을 取扱하기어 려워서 그랫는지는모르지만 作者가이러한方式을 取한것 은大端히不滿함니다 絶交의 主人公이 너머平素에 親하 게 지내일만콤 다만이만事 實을 가지고絕交를한다할것 가트면거긔에더무슨葛藤이라 든가經路에 무엇이잇서드면 훨신 讀者에게 印象을주엇 슬것임니다 그러나 이作品 에잇서서 먼저表現이 너무 單純하엿기때문에 그리조흔 作品이라고는 못하겟슴니다 (生長五月號,곰보作『絕交』에 對한評)\\n ………………前 畧……………………\\n 아무리男主人公의性格이 不 分明하고 끄테가서 그러케 마치지말고 男主人公과女主 人公새에 무슨葛藤이 잇서 드면 조치안흘가함니다\\n ………………後 略……………………\\n  朝鮮文壇五月號稻香作『계 집하인』에對한評)\\n 이作品을 보고 이作者를생 각할때 이作品은말고 다르 作品으로 써드면 조핫슬터 인데 이作썻의搆想 筆致로 보면平凡하나 그다지흠은업 슨즉 나의생각것해서는 이 作은 作者의한遊戱로 쓴것 이랄수박게 생각이안납니다\\n (朝鮮文壇五月號,任英彬作 『序文學者』에對한評)\\n 以上에列擧한評詞로評者의態度를보면 그는엇더한 一個抽像的 標準으로써 作品을評定하랴는것이 보인다 作品을그러한 抽像的 文句로 評해바릴수잇다 생각하면 誤解이다作品을評할때에 作家의 作에對한 態度와 評者의 態度가달러야만 名評이 되는것으로생각함인지 알수업스나 評者가 指導的 態度를 取하는것이 반드시 名譽가 되지못하는것을 알어야할것이다\\n이러한 抽像的文句만을 濫用하다가 馬足이드러가게된것이라한다\\n 그는閔牛步作『孤獨의件奏者』에 잇서서 『全體哀愁가흐르도로 表現식히엇드며 조홧겟는데』라는 抽象的指導를할때부터 그는벌서 그作品의 사랑할만한點이 어듸잇는것을忘却한것이다 發見치못한것이다          (未完)\\n',\n",
       " '中和脚戲大會\\n三日間開催\\n平南中和市民主催로來陰五月五日부터七日까지三日間에脚戲大會를開催할터이라는데方今大大的으로準備中이며塲所及賞品은如左하다고\\n一,塲所 中和邑市塲\\n一,賞品\\n大人一等大牛一頭及現金十圓  二等中牛一頭及洋襪一打  三等文布一疋及手巾一次\\n新郞一等日木一疋及手巾一次  二等雨傘一個及手巾一次\\n兒童一等文布一疋及洋襪一足  二等洋襪二足及手巾一次\\n(中和)\\n',\n",
       " '有名하든頑固가\\n사위말에覺醒\\n공부를안시키면\\n리혼한다는통에\\n강습소를설치하고교수\\n전남광양군 옥곡면장동리(全南光陽郡玉谷面莊洞里)류채규(柳釆珪)씨는일즉이 천여석의추수를밧는 재산을두고 늣게야꼿다운아들삼형뎨를 둔바각각 한문(漢文)만을만히공부하게하는바누구나당신의아들은구식(舊式)만다시 도라오면 대과(大科)를하리라하면 깁버하고혹은 당신의아들가튼 재조로 학교에입학하야 공부를잘하면 신인물이되리라하면절대로\\n미워하며\\n삼년전에자긔친족의 아들이학교에 가는것을보고그부모된사람에게말하기를그아이가 머리를깍고 학교에가면소작권(小作權)을이동하겟다고 위협한일까지잇섯는대 이제는 자긔가건축하엿든서당(書堂)에강습소(講習所)를 건설하고선생을 고빙하야동리의 어린청년녀자를 만히강습케하며 교사의급료를단독으로\\n부담하고\\n교수를잘시키는바성적이매우조타는데원인을들은즉작년에자긔넷재딸을고등보통학교학생과결혼한후에학생된신랑(新郞)의말이이사회에거주하는사람으로서지식이업스면도저히될수업슨즉자긔안해가이제라도공부를하면다행이어니와그러치아니하면리혼을하겟다하니까 류채규씨는\\n할수업시\\n사위의지도를바다서 자긔의딸을 교육시키고자 강습소(講習所)를 설치한것이라는데 일반인사들은 말하기를 이와가티 교육게에생각이낫스나까따라서그아들도신교육을시키리라고하더라(광양)\\n',\n",
       " '八面鋒\\n十六歲의處女가,新郞家에가서,破婚談判을한일잇,鎭南浦에잇섯다,鎭南浦가鎭男浦나아니될가,\\n狩獵者의不注意로,被害者가續出한다고,但被害가사람임으로問題,\\n풀무드듸기로,有名한馮玉祥은畢竟反奉을决心하엿다고,무슨눈치를보앗는고,\\n',\n",
       " '불상한老新郞\\n여덜번재다러난안해를\\n삼지사방찻노라고방황\\n평창군대화면 방림리 월두동이백오십구번디 서창선(平昌郡大和面芳林里月頭洞二百五十九番地徐昌先)(四三)은생활이 곤난함을따라 삼십여세가되도록 장가를들지못하고로총각(老總角)으로 그부근(附近)장으로 도리다니면서 돌림놀웃을하다가 근근히돈백원이나 잡게되야 삼십구세(三十九歲)가 되든 대정구년(大正九年)에서야 비로소 동면동리\\n부엉바위(同面同里 부엉바위)사는김만홍(金萬弘)의 둘재딸인류준옥(柳春玉)(一二)된소녀와결혼(結婚)하야 가정을 일우게되엿는대 남편인서창선(男便徐昌先)은 자긔안해를 금지옥엽(金技玉葉)가티애지중지하여길러오던바 조금하면 부지중에집을나와 거처를 감초임으로여러가지로 수소문을하야 차저다가족흔말로타\\n일으기도\\n하고혹을으기도하야 안돈을식혀 두엇섯는데금년봄에 수차나자긔는 술장사를한번 하여보왓스면 조켓다고간청함으로 서창선은 또다러날까념려가되여 소원대로 술장사를식혀주엇는대 음력 구월초팔일에 대화 소방조합창립긔념식(大和消防組創立紀念式)에구경을간다고 집을나와 다시는도라오지안음으로종적을\\n탐문코자\\n사방으로단이다가평창읍(平昌邑)으로왓다는소문을듯고 즉시읍에와서 수소문한즉천변리(川邊里)누가일전에쳡으로다려왓다함으로자긔의처이나아닌가하고 급히 차저가서그녀자를 맛나본즉류춘옥(柵莽玉) 이가아님으로뒤통수를툭치고 잡으로 도라갓다는대류춘옥이가 서창선의 집에온지사년동안 여덜번재 도망을하엿다더라(평창)\\n',\n",
       " '◇寸 鐵◇\\n 所謂改潮社長은日鮮融和란講演을日語도모르는人民을모아놋코『이와유투』만작구부르다가聽衆에게『이와유두』先生이란別名을어덧다고改潮社長이아니면못드를別名이겟지‥\\n 巨富邊錫淵君死去에葬禮費萬餘圓으로죽은지百日만에數千名의護喪軍을비롯하야大輿小輿을압세우고儀式을매우굉장히擧行하엿다고一部識者들의批評이藉藉\\n 處女만흔곳은德川邑內가第一이라는데理由는점잔은家庭에서新郞擇하던까닭이라고 結婚은自由에막끼얏스면그런일이업슬터이지!\\n',\n",
       " '金剛禮讃\\n(五九)\\n靈神洞\\n白雲香徒\\n ◇시방鉢淵寺의右편뒤골도하야 개울바닥을밟으면서 소나무등성이를한아넙으면 길넘는미새밧치四方을가린속으로들어서게됨니다 眼界가막혀서 원쳬볼것도업지오마는 길이라고허락하기앗가운 어슴프레한발자곡난데를 행여나닐홀세라하야 발밋만나려다보고나가기를한참동안함니다 한五里나왓슴즉하야서야발과눈이한가지 길에서解放되어 볼것질길것이차차생김니다 右側으로氣勢잇게벗질러서 우리의잔등이를 멀리나라누른것이 集仙峰의來脈입니다.\\n ◇돌아다보건대 屛風가티둘러선長嶺이 굽기는활등갓고씹히기는써레가튼데 그러키만하야서는 無味하다함이든지 각금가다가 奇怪한바윗덩이가더음으로언첫습니다 그中에도신통하게생긴것이 닭峰의그섯이니 東天의날새는소식을남몬저探望하야 天下群鷄의先導가될양으로 東海가바로보이는金剛山東側인이高峰에 사시장천올라안저잇는모양입니다 그압히잠간무졀러지고 건너편에가서흡사한『포인터』種이개한마리가궁등이를半쯤닭에게로돌려대고안저잇게되것이잇스니 본대는造物의偶然이겟지마는 닭과개의서로리웃한것이암만해도尋常치아니한무슨意趣를가진듯도하야 부즈럽시드럿다가니즌듯한녯이약이를생각게하는景입니다逐鷄望籬라는속담을끄러대어재미잇는무슨古談한아가成立됨즉한것입니다\\n ◇좀더나오면서 올려다보면그가장놉흔峰頭에는 웃득하니엄전한 허릴업는佛像한분이우럴어보이는데 그럴사해서그런지 螺䯻白毫와 印契跏趺가다서연하게드러나서 아모가보아도부터아니랄수엄슴이신통함나다 金剛山에서도東部요 또東方世界를管領할듯한位置에게시매 아직阿閦石이란일홈으로부를가함니다 눈압해奇巖이빼어남을다토는곳쯤서부터는 이미발알에서솔졸거리는물이 연방남다른재조를부리겟다고 꼼지락꿈를하기를무즈런히함니다\\n다른대가트면 峰이면峰한아와사내면시내한아의 홀아비景致도퍽만치오마는 奇峰이乾健한곳에는반드시 淸溪가坤順하야의례히따르고결코홀로되지아니한것이金剛山洞壑의特色임니다이곳도이미닭峰가튼好峰嶂을가지고 그밋헤이만한洞天이생겻스니까 이잘난新郞에아름다운配匹이업슬리업서 이谿谷의물도넌짓하고 퍽볼만한要素를가졋습니다\\n ◇어찌해서드러가지는못하얏슬망정 天香國色이도로혀深閨에만흔셈으로 거의洞口가臨迫하야지는얼마동안의 이곳水石은 또한獨特한情味를가진一別區입니다 金剛山이란一言으로蔽하면 洞巒泉石의一群彙일뿐이지오마는 萬二千峰八萬四千泉石이나되는多數에 한아판쯤비슷한것도업슴이 또한金剛山의金剛山인一所以입니다 이곳의 巖壑泉瀑도 또한特異한美의範疇를맨드러가진것으로 그獨擅的條件에잇서서는 남의追隨를허락하지아니하는것이잇슴이母論임니다.참다케五里동안이나색시가티만나려오든물이洞口각가히와서는 급작히活動을비롯하야 모앗든精力을한꺼번에내쏙는까닭인지 번쩍하면瀑布 얼는하면淵潭이 거의應接不暇라할만치 展開하고繼續함에는 十年자든精神이 단번에눈을뜰것갓슴니다 그런데그것이决코다른데와갓지아니한又一新型의것임니다.宮娥的인萬瀑洞,胡姬的인曉雲洞,嬌女的인鉢淵洞에對하야 수더분하고구김살이업서 家勢푼푼한閭閣婦人갓다고나할것이 이곳의 大觀임니다.발이부트락말락하는危徑으로하야 오르락나리락한참구경하며 나오노라면 山의餘麓이 금시에깍가실려 버리고 물이들과손을잡으면서펀펀한常流가됨니다.이골을靈神洞이라하야 前에는靈神庵이란蘭若가잇섯드랍니라.\\n',\n",
       " '少女로―맨쓰\\n陽淑의피리\\n김고흔물\\n一南쪽마을―내가살든 동리에陽淑이라는 어엽분 시약씨가잇섯슴니다 陽淑이는 어려서부터 피리불기를조와하엿슴니다 봄바람이부러 陽淑이의집뒤 버드나무가지에물이올르면동리 사람들은 陽淑의 처량한피리소리가 그집울뒤에서들려오는것을 드럿슴니다\\n마듸마듸꺽거부는 陽淑의피리소리는 참으로애처러웟슴니다 나물캐든시약씨네가 그피리소리를들을때에 그들의가슴은 공연히울렁거렷슴니다 나무하든도련님네가 그피리소리를들을때에는 그들은남모르게한숨을쉬엿슴니다 아모러튼지陽淑의부는피리소리는 그동리졂은이들의가슴을 모조리 흔들고야말엇슴니다 平生에 말이라고는 한마듸도 아니하는그陽淑이가 피리를입에대이기만하면 무슨하소연이그리도만흔지요 넙헛다 나졋다하는그피리소리는 마치 이야기잘하는녯老人의이야기가티 암만오래드러도 실증이나지안엇슴니다\\n二\\n느진봄 어느날 陽淑이는前과가티 自己집뒤란에서 시름업시 피리를불고잇섯슴니다\\n피리소리는 울을넘어 언덕을넘어 또그리고 고개를넘어졂은이들의 애타는 가슴속으로 숨여드러갓슴니다 이때입니다 고개넘어언덕길로 보따리를질머진 졂은行人한아이 힘업는거름거리로 거러오다가\\n우는듯 늣기는듯한 피리소리를듯더니 놀란드키 웃뚝서버렷슴니다 그는 한참이나서잇다가 다시발을옴겨 피리소리나는곳으로 차츰차츰차저갓슴니다\\n行人은 陽淑의집 울뒤에까지일으럿습니다피리소리는 더욱明朗하게 行人의귀를울렷슴니다 行人은手巾을끄내여눈물을씨섯슴니다 먼나라에서온듯한이行人은 무슨서러운생각이가슴깁히잇는지 눈물이쉬일사이업시 흘럿슴니다\\n三\\n울안에서 넉일코 피리만불든陽淑이는 울밧게 인긔척소리에놀라 울밧글 유심히 내여다보앗슴니다 울타리틈으로보인것은 울고섯는 그行人이엇슴니다\\n陽淑의가슴은 공연히 울렁거렷슴니다 自己의피리소리에울고섯는 그行人이 한업시반가웟슴니다 그의마음가태서는곳튀여나가서 그行人을붓잡고서로 오래동안 울고십헛슴니다\"먼나라에서오신 오라버니!오라버니는 왜 우르심닛가오라버니도亦是 나와가티아지못할서름을 가슴에감초섯슴니다그려\"\\n이러한다정한말이 곳 입에서떠러질것가타엿슴니다\\n그러나 이아름다운마음을가진少女 陽淑이는 무엇에놀란듯키 부즈런히 안으로드러갓슴니다 드러가서 건너방문을꼭거러장그고 그안에 업더저혼자 한업시 한업시 울엇슴니다 무엇이서러워우는지는陽淑이自己도 몰럿슬것입니다\\n四\\n그이튼날아츰에 동리사람들은 그동리압흘 흐르는맑은내에서 일홈몰을行人의屍體한아를 건저내엿슴니다\\n그러나 아모도 그行人이어듸서오는사람인지 어듸로가는사람인지 또엇지하다가죽엇는지 도모지 아는이가업섯슴니다 다만 異常한것은 죽은屍體바른편손에 눈가티 흰손手巾한아를 꼭붓잡은채 죽은것이엇슴니다\\n五\\n이일이잇슨후부터는 그동는참으로 쓸쓸하여졋슴니다 그첫재까닭은 陽淑이의피리소리를못듯게된까닭임니다 陽淑이는엇지한까닭인지 일흠몰을그行人이죽은후부터는 피리를한번도 입에대이지안엇슴니다\\n그친한동모들이 그러케졸라도 陽淑이는 한번도피리를분적이업섯슴니다 그리고 그대신에 그는 한숨쉬이기를배웟슴니다\\n그러나동리사람들은 陽淑이의한숨의 까닭을 알수업섯슴니다 그리고서그들은말하기를\\n\"시집이느지면사람을버린다\"하면서 陽淑의婚事를 議論하엿슴니다\\n六\\n동리사람들과 陽淑이兩親과의 往來가 자즈더니 婚姻은擇日까지하게되엿슴니다 동리사람들은 모도 陽淑의前途를祝福하엿슴니다\"新郞똑똑하겟다 富者집이겟다 원 너처럼만시집가면생전에 한이업겟다\"\\n동리女人들은 半참말 半弄談으로 이러케말하면서 陽淑이를 부러운듯키 처다보앗슴니다 그러나陽淑이는 아모맛업시 쓸쓸한우슴을 우슬따름이엇슴니다\\n七\\n來日이婚姻날이라는 오늘이되엿슴니다 이날에 新婦집에서는 新婦찻기에 야단이낫슴니다 아츰먹은후에 별안간新婦는 거림자도 못보게되엿슴니다 아모도新婦의 간곳을아는이가 업섯슴니다\\n이리하야 陽淑이는 어데로인지 가버렷슴니다 엇던이는陽淑이와 꼭가튼處女를 길에서보앗다는이도잇고 엇던이는陽淑이는 방물장사가 되여서마을에서 마을로 떠도라단인다고 하는이도잇고 또엇던이는 十里밧 내에서 물우로떠나려가는 陽淑의시톄를 보앗다는이도 잇섯슴니다 그러나아모도 陽淑이의去處를 確實히아는이는 한아도업섯슴니다\\n八\\n이리하야 수수격기가튼 陽淑의一生은 수수격기가티 이世上사람에게서 이저버렷슴니다 아마 永遠히 陽淑의一生을아는이는 이世上에서는 아모도업슬것임니다 여러분!陽淑이는 그후 엇더케되엿슬가요? (고만임니다)\\n',\n",
       " '日首相逝去(一)\\n 病勢가容易치아니함을傳하든 日首相加藤子는 畢竟終焉을告하엿다 近者日本의重要人物의沒落이頻頻하거니와前者原敬氏가首相의現職으로毒刃에넘어졋고 加藤友三郞氏는大震災를압서서 또한首相으로病死하엿스며 今番의加藤首相도 또한病死함을보게되니 近者의日本內閣은어찌한지자못凶兆가顯著한觀이업지안타 사람이죽으매吊意를表함은 禮儀의當然한바이라이제먼저吊意를表한다\\n加藤氏가親英主義의外交家의한사람으로서 日英同盟의成立한뒤를이어 오래동안倫敦에駐箚하야 兩國親和의增進을爲하야 努力하든것은世人이한가지로아는바이다 桂太郞이西園寺의政友會에對抗키爲하야 超然內閣의首相의現職으로 急遽히憲政會의前身인同志會를 組織함에미처서彼가 遣外使節의몸으로부터外相의要職에就하고 兼하야新成한政黨의一要人이되엿스니 대개英國流의二黨對立에關한經綸으로써多少의自負가잇섯슬것이다 그러나民衆의紏彈은드듸어부릴줄이업섯고桂氏의 失脚과함께 彼도下野하게되엇다 彼는幸運이엇스되 또否運이엇섯다\\n日首相逝去(二)\\n 桂가死하고 同志會가分解되려할제 後藤이가고 仲小路가가고 大石이또한畢竟갓스되 彼는金權의中樞인三菱王國의 駙馬인것이因緣으로推戴되어總裁가되엇스니 要컨대持參金을보고 드려세운愛情의 未洽한新婦이엇섯다彼는 獨力으로어찌할수업섯고 伯大隈의出現함을기대려비롯오憲政會를거느려 內閣을組織하니 그는家財와僮僕들을거느리고 老新郞에게改嫁한 만만치아니한마누라인者이엇섯다\\n 그러나彼의最得意處인 對支二十一個條의提出은 彼의最大한致命傷이엇다 對內關係보다도 對外關係에서그러하엿다 彼는所謂逆境十年홀로空閨를직히며 多數의兒女僮僕을撫養하는失意의 未亡人인者이엇섯다 彼가護憲運動의뒤를바더 聯立內閣의首相이되엇고 다시 또單獨內閣의首相이되엇스니 彼는幸運兒인觀이잇섯다 그러나彼는이제死하엿다 彼는畢竟否運이엇다\\n今後形勢如何?\\n 原이橫死하매 政友會는分裂하엿고 日本政界는 더욱支離滅裂하엿다 加藤이死하매 憲政會는또한多難할것이다 加藤이一個의영김이라할진대 若槻는또家事에精通하고治產을잘하는마누라이라할것이어니와 그러나若槻로서곳倔强한漢子들을對手로서直時에兒女僮僕을거느리여 탁탁한살림사리를 해여내기는좀 회똑회똑한未亡人인弊가업지못할것이다 若槻가이미이러하다하면 其他田中 床次 또는朝鮮의齋藤에까지도薦望은돌아올것이다그러나누가그後繼이든지 日本의政局은갈수로分解의傾向을促進할것이다 新興勢力擡頭의機會를 도을것이다 그리고朝鮮의倭將臺까지도 이震動의餘波가미칠것은勿論이다\\n',\n",
       " '結婚式場에\\n一新婦兩新郞\\n결혼식을거행하든중에\\n신랑한아가또생겨야료\\n지난 이십이일 오전열시경에함흥읍풍서리(咸興邑豊西里)한태제(韓泰濟)씨의 집과 함흥군남주동면 당흥리(咸興郡南朱東面塘興里)에사는 주병무(朱炳武)씨의 집에서는 삼각련애로일대풍파가 일어낫다는대 그내용을들은즉 함흥읍풍서리사는 한태제씨는 무남독녀외딸을 두엇는데무엇보다이외딸을\\n아들삼아사랑하여오든바 멧해전에 전가족과 장진(長津)방면에가서 살고저함흥읍동평리(咸興邑東坪里)에사는조룡삼(趙龍三)씨의 부친과가티 장진군신남면(長津郡新南面)에가서 두가뎡이친밀히 살게되엿는데그때에한태제씨딸 한지준(韓智俊)과조룡삼(趙龍三)씨와 서로 한동생처럼 친하게사귀여오든바두가뎡은\\n수년전에자긔의고향인함흥으로도로와서살게된엿는데한태제씨의딸한지준은함흥읍내뎨이공립보통학교야학부에팔개월동안 통학하다가 이학교를그만두고 함흥군텽 양잠강습소에지금까지 통학하는중인바 작년십일월경에 함흥군남주동면 당흥리(咸興郡南朱東面塘興里)에사는 농업학교이학년에 통학하는주병무(朱炳武)와\\n부모들의\\n협의로약혼하야 두사람은서로 래왕하는동안에 피차이성사이에 따뜻한사랑이 생겨혹은고요한틈을타서 서로 정담도하엿스며 혹은장내가뎡생활의 단꿈을상상하며 가티산보한때도 여러번이라한다 그리하는동안에 지난 이십이일을택하야 신랑주병무는 당년스물두살로 신부한지준은 당년\\n십팔세의방년으로화촉의례를 베풀고저하야 모든준비는다되야 신랑신부가 서로결혼식을 마치려하는때에 이상스럽게도 청년한사람이 뛰여드러저도 신랑이라하며 야단을침으로 전긔신랑신부는 종적을감추어 남주등면에잇는 신랑주병무의집으로가게되엿다그런데저도신랑이라고\\n뛰여들은\\n청년은함흥읍동평리(咸興邑東坪里)에사는조룡삼이란 청년이엿다 이청년은 한지준과서로 작년십월경에 누이동생처럼밋고오든중 조룡삼은 한지준에게 탐을내여온것수단을다하야 혹은 자긔집에강제로다려다가 재우기도하고혹은서신거래도잇섯스나\\n한지준은조곰치도조씨를 사랑한일은 업섯다는데조룡삼은 저와사랑이잇섯다하야 신부의집에와서 신부를 내여흐랴고 야단을치고 또신랑수병무의집까지 딸하가서 신부를내여흐라고 야단을치다가 결국여러청년들에게 구타를 당하엿다는데 조씨와한지준의사이에증거될만한것은업다더라(함흥)\\n',\n",
       " '結婚式場에\\n一新婦兩新郞\\n결혼식을거행하든중에\\n신랑한아가또생겨야료\\n지난 이십이일 오전열시경에함흥읍풍서리(咸興邑豊西里)한태제(韓泰濟)씨의 집과 함흥군남주동면 당흥리(咸興郡南朱東面塘興里)에사는 주병무(朱炳武)씨의 집에서는 삼각련애로일대풍파가 일어낫다는대 그내용을들은즉 함흥읍풍서리사는 한태제씨는 무남독녀외딸을 두엇는데무엇보다이외딸을\\n아들삼아\\n사랑하여오든바 멧해전에 전가족과 장진(長津)방면에가서 살고저함흥읍동평리(咸興邑東坪里)에사는조룡삼(趙龍三)씨의 부친과가티 장진군신남면(長津郡新南面)에가서 두가뎡이친밀히 살게되엿는데그때에한태제씨딸 한지준(韓智俊)과조룡삼(趙龍三)씨와 서로 한동생처럼 친하게사귀여오든바두가뎡은\\n수년전에\\n자긔의고향인함흥으로도로와서살게된엿는데한태제씨의딸한시준은함흥읍내뎨이공립보통학교야학부에팔개월동안 통학하다가 이학교를그만두고 함흥군텽 양잠강습소에지금外지 통학하는중인바 작년십일월경에 함흥군남주동면 당흥리(咸興郡南朱東面塘興里)에사는 농업학교이학년에 통학하는주병무(朱炳武)와\\n부모들의\\n협의로약혼하\\n야 두사람은서로 래왕하는동안에 피차이성사이에 따뜻한사랑이 생겨혹은고요한틈을타서 서로 정담도하엿스며 혹은장내가뎡생활의 단꿈을상상하며 가티산보한때도 여러번이라한다 그리하는동안에 지난 이십이일을택하야 신랑주병무는 당년스물두살로 신부한지준은 당년\\n십팔세의\\n방년으로화촉의례를 베풀고저하야 모든준비는다되야 신랑신부가 서로결혼식을 마치려하는때에 이상스럽게도 청년한사람이 뛰여드러저도 신랑이라하며 야단을침으로 전긔신람신부는 종적을감추어 남주동면에잇는 신랑주병무의집으로가게되엿다그런데저도신랑이라고\\n뛰여들은\\n청년은함흥읍동편리(咸興邑東坪里)에사는조룡삼이란 청년이엿다 이청년은 한지준과서로 작년십월경에 누이동생처럼밋고오든중 조룡삼은 한지준에게 탐을내여온것수단을다하야 혹은 자긔집에강제로다려다가 재우기도하고혹은서신거래도잇섯스나\\n한지준은\\n조곰치도조씨를 사랑한일은 업섯다는데조룡삼은 저와사랑이잇섯다하야 신부의집에와서 신부를 내여노흐라고 야단을치고 또신랑수병무의집까지 딸하가서 신부를내여노흐라고 야단을치다가 결국여러청년들에게 구타를 당하엿다는데 조씨와 한지준의사이에증거될만한것은업다더라(함몽)\\n',\n",
       " '結婚式場의風波\\n一\\n 結婚이우리朝鮮에잇서서는在來에 父母의意思에依하야 决定되는것이 常例이엿섯다 父母의意思에依하야 作定된結婚이 그것이다圓滿치못하다는結論은나오지안켓고 또實例로보아서도 그것이當事者에對하야幸福스러운境遇가 적다고하지아니할수업다 勿論父母된이는그子女를사랑함이至極함으로그子女의配偶者를選擇함에當하여서도 最善의注意를加할것은勿論이다 그럼으로早婚이流行하게되여 結婚當事者가 年齡이어려서 아즉充分한知覺이업는때에는 自然히父母의意思가結婚을作定하는重要한要素가되지아니할수업슬것이다\\n二\\n 또우리朝鮮에는 지금까지에는 農業이主業이되여잇서서大家族制度下에잇섯는故로 經濟上으로보아서 子女는그父母에게從屬되여잇섯는故로 家族經濟上으로보아서도 그家庭의主長되는이가 結婚에决定權을가지게될것은 勿論이엿섯다 그리하야 父母가子女의結婚에决定權을가지고잇는것은 社會上으로보아서 理由가잇는일이엿섯고 또娶妻必告父母라하는中國倫理의觀念이 우리朝鮮사람의倫理思想을 支配하게된것도한가지重大한原因이엿섯다 그때에는 社會가個人보담 家族을重大하게되여서 社會의單位는個人이아니고 個人의組織體되는家族이엿섯다 그러한社會에잇서서 그러한道德律이遵守되엿던것도 또한無理한일이라고는할수업다\\n三\\n 그러나 으늘날와서는 在來의道德이그權威를일코 個人의自由를要求하는思想이 우리朝鮮에도充滿하게되엿다 그리하야 新敎育을바든사람들이 그러한思想을抱持하게된것은勿論이어니와 그것이漸次傳播되여山間僻地에까지라도 個人의自由를尊重하는思想이普及되게되엿다 父母된이들은 이風潮를理解하지못하고 在來의方法手段으로써 子女의일을决定하야往往히失敗를招來하는일이만히잇나니 더군다나結婚問題에關하야 그러하다 今月十九日平壤府橋口町의一結婚式塲에서이러난風波는 그好適例로볼수잇다 崔某라는十七歲된處女의집에서 二十二歲된金某와結婚式을擧行하려고하엿섯다 그때에新婦는突然히行禮를拒絕하엿다그리하야 畢竟그結婚은成立되지못하고 新郎便에서는 近日中에訴訟을提起하야 新婦家에向하야 四百餘圓의損害賠償을請求하게될이라고한다\\n四\\n 十七歲의金處女가 式塲에서비로소 結婚을拒絕한것은 그眞正한原因이 어대잇섯는가는지금斷言할수업다 그러나本紙에 報道된바로보면 父母들이周旋하엿다 또는納幣를이미行하엿다는事實만잇고 處女도快諾하엿섯다는것은업다 何如間處女가結婚을拒絕한것은 적어도新郞을조아하지안는다는表跡이니 그는그前에兩者間에理解가업섯다는것을말하는것이다이것이비록些少한一例에지나지못하는것이나 足히써舊思想과新思想과의衝突의一面을 窺知할수잇는것이다\\n',\n",
       " '한新郞에두新婦\\n신랑은본저약혼한녀자에게붓잡혓다가\\n다라나고새신부집은신랑이안와서야단\\n晉州初有의喜活劇\\n지난삼십일일정오경에 진주(晉州)평안동(平安洞)에사는한순경(韓順卿)(二三)이란녀자의집과옥봉리(玉峰里)김형원(金亨元)의집압헤서는수백군중이모혀수군거리며 신랑은 한아인대싀집갈처녀가 들이되여 구경이할만하다는등 신랑은한순경이란 약혼한녀자집에 잡히여 잇다는동여러가지소리가 사면에서 일어나며군숭은\\n더욱더욱모이게되여인산인해를 이루엇든바 신부집되는김형원의 집에서는 제반준비륜 다해노쿄 신랑을기달엿스나잡피여잇는 신랑이 올수는업섯다 그리하자 돌연히한순경의집에서는 별안간 부녀칠팔인이길거리에 뛰여나와 신랑이도망가니 잡으라고 고함을치며일대소동이 일어낫다는데 이제사실을자세히 듯건대 신랑되는사람온대구남산뎡(大邱南山町)삼십일번디최도갑(崔道甲)(三)이란청년으로 금년에진주사범학교(晉州師範學校)를졸업하고전긔김형원의딸김경희(金京熙)(一八)와\\n몃칠전에약혼하얏든바화촉의뎐을 거행하랴든 날에전긔와가튼 희활극이 연즐되어결국흔례를 거행치도못하고 한순경이란 녀자의 감금을당하얏다가 저녁때에일으러 간신히몸을빼 여어대로인지자최를감추엇다는데그들이전긔와가튼희활극올연줄한그리면에는말못할비밀이잇섯다고한다그들이서로알게되기는전긔한순경이가재작년겨울진주도립병원(晋州道立病院)의간호부(看護婦)로잇슬때이엿다 가튼간호부로잇는전필순(全必順)이라는녀자의 소개로알게되여병원\\n긔숙사에\\n서남를내도나\\n들게되엿다 그리하야 그들은한순경의형되는비봉동(飛鳳□)한경련(韓景蓮)의집으로 일요일밤이면 반듯이만나거나 긴겨을밤을사랑의 속삭임으로 새운적도한두번이 아니엿섯다 그들은어늬때전긔 한경련의집에서 서로장래를 굿게약속하고 약속하는표뎍으로 돈삼백원식을 서로걸고 최도갑이가 학교를졸업하는날에 혼례를거행하는데 만일누구든지 마음이변한다면\\n삼백원이무효된다는계약을 톄결하엿다 그리는동안에새해를 맛게되고 그들의사랑은날도깁허가게되는때한순경온작년일은봄에 간호부생활을 그만두고 집에잇게되매 자유의몸이되여 때업시서로맛낫섯다 그러나 세월은쉴새업시가서 실거운봄철과또는 여름도보내고 가을을맛게되자그들의사랑은차츰차츰 맹각하기시작하엿는때그리면에는 별별일이만핫스니 최도갑은 그후한순경이가 자긔를래\\n다른남자들과추악한관계를하엿다하야 최도갑은 한순경을멀리하엿다그리하야최도갑이가 작년등긔방학에 자긔집에갓다온후에 여러가지리유로 결혼문제는 준절히 거절하야바리엿다 이말을들은한순경은 처음온놀래엿스나 할수업시 애원도하여보앗스되 한번를면 최도갑의마음은 좀처럼도라안지엇 안다 최도갑이가 학교를졸업하기\\n몃주일젼에진주일신녀자고등보통학교(晋州新女高)에다니는 김경희(金京熙)와 연담이생기여 불과 몃날이안가서약혼하고 한순경의 아지못하는동안에 제반준비를마치고 자미스러운그날을 기다리기 마지안엇다 그러나흔례를 거행코자하기몃칠전에 한순경의귀에 들어가게되매 한순경은 최도갑을차저가서 을며불며하엿스나 아모런해결을못지우고잇든차에한순경의부모와 가족들이 이사실을알게되야 그의부모와 친척칠팔인이 호례식을거행코자하는 삼십일일에\\n최도갑이가례식을거행코자 차림차리를 다마치고나오는것을 전긔한순경의 가족들이붓들어다가 한순경의 집에 감금하고 가진모욕을 하며 최도갑을 종일 붓십아서 안치고이현장에서 내자식을 처녀로고처내고돈삼백원을도로내라고족여대니이곤경을당한최도갑은그돈은 내가쓴것이아니고 한순경과려행단이면서 써바린 것이라변명하며또는그돈을\\n준다해도오늘은업스니증서들써노코다음에준다하여도종시듯지안음으로 그는 하는수업시그들의눈을피하야도망질을하고말앗다는데그들은떼를지여길거리로 차저단엿스나 최도갑은 간곳이업섯다 그리하야그들은김경희의집에달려가서욕설을하여일대희활극을 연줄 하엿다는대신부되는김경희는밥을안먹고 수심중에싸여잇다더라\\n    (진주지국일긔자)\\n',\n",
       " '新郞新婦\\n경성법학전문학교(京城法學專門學校)를졸업한 리양선(李陽先)씨는 지난십일에 김진실(金珍實)양과부내 식도원(食道園)에서 결혼식을□□ 하엿다고\\n',\n",
       " '疑雲에싸인\\n新郞의去處\\n장가들라보낸후\\n종적이묘연하다\\n지난십오일에 해주군 장곡면정현리김병운(海州郡壯谷面精峴星金炳雲)은 자긔수양아들인리삼불(李三弗)一六)으로 장가 드리기위하야 은률읍(殷栗邑)으로보내엿던바 행방불명이 되야이소식을들은 본집에서는 크게소란을 이르켯다는데 그자세한내용을 알아본즉 삼불이란아이가 어렷슬때에 그부모가은률군은률면 홍문리 삼백삼십사번디전인택(殷栗郡殷栗面紅門里全仁澤)의장녀(一八)와 약혼을하여두고 그후얼마아니되야 부모는 그만이세상을떠나고 말엇승으로어린\\n삼불이는\\n의지할곳이업시방황함으로동리김병운(金炳雲)씨가이를불상히녁여 거두어수양자틀삼고이래양육하야왓섯는데삼불의나히장성하엿승으로금춘에와서혼인례식을거행코자전긔은를읍에 거주하는 전인택에게 통시한즉 전씨는너무도가세가빈한하야 모든준비에 곤난함으로 현금백원만 보내주어야되겟다고함으로 이곳에서는 그것을승락하고지난십오일에신랑삼불을먼저보내고병운은돈을판비(辦備)하기위하야 그익일(翌日)에야 떠나서사돈(査頓)집에가본즉사돈집에서는 신랑이 오지안엇다고함으로김병운은\\n할수업시\\n집에도라와이래사오일동안을 고심초사(苦心焦思)하며사방으로탐지하나아모소식이 업다는데 이아이는텬성(天性)이총명하야어렷슬때부터도자긔가단신(單身)으로내왕하엿승으로실로(失路)하엿슬념려도업다하며전긔전인택은평일흔약을매약하고다른곳에출가식이고자어느때는 삼불이가 간것을축출(逐出)한일도잇섯스며근일에는전가족(全家族)을잇글고멀리만주(滿洲)로가려고도하엿다한즉 엇던흉계(凶計)로 무슨의외의일이나잇지아니한가하야자못의운에잠겨잇다더라(해주)\\n',\n",
       " '寸鐵\\n  邑內에서는近日에□妓의逃走가頻頻하다고그야말□憧憬의表證이겟지\\n  孕胎한지七朔된處女□를竸賣에부치여新郞을選擇한□이잇다 一擧兩得이니까志願者가만흔것은無怪\\n  大豆檢査所의廢□永興十二萬民의怨聲이藉藉하□고交涉도하얏스나所用이업□必曰人民의誤解라하겟지□\\n',\n",
       " '婚式五日前에\\n新婦가逃走\\n잉태한지칠삭만에간부와\\n손을잡고도망하다가잡혀\\n結局은競賣로新郞選擇\\n전북고창군 고수면 와촌리(全北高敞郡古水面瓦村里)원사긔뎜(元沙器店)조금단(趙金丹)의차녀귀옥(貴玉)(一七)과 정읍 역전(井邑驛前)리모(李某) 와 정혼하야 지난이십삼일이 결혼식날인데 혼인날을 오일을압헤두고신부될처녀가 간부와 도망을하다가 잡히여사실이 탄로되야파혼이되는 동시에 아이배인지가칠삭이나된것이판명되고먼저바덧든돈 백오십원까닭에 처녀를경매까지한활극이잇섯다는데이제그자세한 내막을 들으면조금단은 모의쳡으로 잇다가과부가된후\\n사긔행상으로생활하야거금오년전부터동리박두병(朴炳斗) (四〇)과 정을 통 하고지내든 중 박두병은 조금단이가 물건팔러 간틈을타서귀옥(貴玉)(一七) 이까지 간음하얏든결과 잉태한지 칠삭이된바지난이십삼일은 혼인임으로 지난십구일에 처녀를 다리고도주하든중 근방사람에게 발각되야박가는 도망하고 처녀는잡은바전긔사실이 탄로되자 신랑편에서는파혼을\\n단행하는동시에먼저주엇든돈 백오십원을 도로내이라고함으로 무한고통중인 조금단은그돈을갑고자자긔딸을경매하게된바 현금칠팔십원으로 부터백원까지 신랑될자의 신청자가오륙명이나맹렬히 운동하는자가잇섯스나 신부될 귀옥이가인격심사를 한결과 전부불합격이되고 동군고창면내동리(高敞面內洞里) 김삼룡(金三龍)(二一)이가 합격이되야 혼비\\n륙십원은후긔에보상키로긔약하고 지난 이십삼일에성례를하얏는데 당디 소할경관은만일을 념려하야 신랑김삼룡에게복중에잇는아이를나커든부듸잘양육하라는주의를시켯다더라\\n洞民이舊起\\n두집을축출코자\\n고창군 고수면와촌리 동민일반은 금번이사건에 대하야박두병조금단두집을 동리에서 쪼차내이고자하얏스나 경관의 제지로중지하얏다더라(고창)\\n',\n",
       " '醮禮廳에\\n一風波\\n신무는한명인대\\n신랑은두명이다\\n 경북 진주군동성동(慶北晋州郡東成洞)십륙번디뎐봉강(田鳳岡)(三〇)의 집에서지난이일초례텽신부(新婦)손선희(孫善姬)(一七)에게신랑(新郞)둘이덤비여결혼식장은수라장으로변하고말엇다는데자세한내용을드르면전긔손선희는처녀당시부터자긔집에류숙하고잇던최계홍(崔溪洪)과비밀히정을통하야장래를서로약속하여왓는데 부득이 부모의말을 억이지못하고 사랑하던최계홍을 버리고 부모가허락한진주(晋州)모에게혼인을하게되엿는바 이것을들은 전긔최는혼인식장에 달려들어 전후전말을공개하야 그와가티 식장을수라장으로 맨든것이라는데 이로인하야 최는혼인방해죄로 진주경찰서에구금되엇다더라\\n',\n",
       " '新郞탄自動車\\n사람을치어\\n피해자는위독\\n지난이십팔일 하오두시반 경에대동텰교(大同鐵橋)우에서는대동자동차상회 운뎐수리우호(李愚浩)가운뎐하든 백오호신랑신부를 태우고꼿으로장식한 꼿자동차한채와 부내신사가 대동상점 점원으로잇는 리룡현(李龍鉉)(一九)이가탄자뎐거와 중놀되어전긔리룡현의 자뎐거는 부서지고 자농차박휘는 리룡현의허리 腰部)를넘어가서즉시긔절된것을부내석천 石川)의원메입원하야옹급수당을한 결과 생명에는판계가업슬모양이라더라\\n(평양)\\n',\n",
       " '醮禮廳에新郞逃走\\n안해두고다시장가들랴다가\\n발각되어뒤골목으로도주해\\n충남연기군면 월하리(燕岐郡四面月河里)리도재(李道宰)의집에서는 지난십일일에 초례지내러 신랑이들오며 뒤조차어떤미인하나가 안로 들어와딸자식을나서 남의쳡로 주고저하는것은 무슨까닭이고하며 일장풍파가 일어나어□에신랑은 도주하야간곳을 알지못하게되어 초태석으로 설비중이든것이 수라장으로 화하는일장의 활극이잇섯다는데 그자세한내막을들으면 전긔신랑은 공주군의당면 률정리(公州郡儀堂面栗亭里)심재갑(沈在甲)二二)으로십칠세에영동읍내리모(李某)의딸리씨(李氏))二三에게로장가갓다가 삼년전에 가정의불평으로리씨는 친정인 영동으로가서우금남편의 도라보기만 기다리는중인데 심씨는 여러사람에게전처리씨와는 리혼하엿다는 것을 선전하고 다시장가들고저하야전긔리도재의 누의동생 리씨(李氏)一七)에게로장가를왓든바심재감의 본처리씨가 다시장가들고저한다는 말을듯고 급히수백리의먼길에도보로와서초례일에당도하야전긔와 가티풍파률일우게된것이라하며신랑의도주로초례는 물론일우지 못하엿스나 장래이일이 엇더케해결될는지일반은 흥미잇게 관망하는중이라더라(조치원)\\n',\n",
       " '新郞과新婦\\n金泉金陵學院에서敎鞭을잡고잇는白基萬君과金一順孃의結婚式은去二十二日에尙州靑年會舘內에서盛大히擧行하엿다고\\n(金泉)\\n',\n",
       " '◇新郞新婦\\n순천매광학교(順川梅光學校)에서교편을잡고잇는 김광수(金光洙)(二四)군괴 수원삼일유치원(水原三一幼稚園)의보모(保母)로있는 리유함(李裕咸)(二一)양의 결혼식(結婚式)은 이십사일 오후한시부터 홍순탁(洪淳倬)목사주례하에 시내상동례배당내에서 거행한다고\\n',\n",
       " '結婚한다꼬혀가지고\\n四五處轉賣된女子\\n인육상의독한수단에서\\n반년이나팔려가진고통\\n미든男便이돌이혀寃讎\\n지난십일일오전열한시경에대구경찰서사법실(大邱警察署司法室)문압혜서 나히이십이될락말락한 아름다운녀자가 사십여세된녀자를붓들고방성동곡을하야수십명이남녀는엇더한사정인지궁금이녀기엇다는데이제그자세한사실을들은즉그졂은녀자는달성군달성면내당동팔백팔십사번디(達城郡達城面內塘洞八八四番地)에사는 차필이(車弼伊)(二〇)인바 팔자가\\n긔박하야\\n친뎡조차생활보상을 엇지못함으로 열한살되든해에 성주(星州)엇던사람의집으로 민며느리가되어가서 오륙성상을지나 겨우 부부(夫婦)의락을알게되어 단꿈을꾸고아들까지 엇게되엇스나 불행인지행인지 그아이는나흔지 석달만에죽엇스며 그후에점점 부부사이가조치못하게됨으로사람으로서 참아하지못할 생리별을하고집 에돌아와 화조월석에 애타는뜨거운눈물을흘리며 그날그날의 앗가운청준을보내기 약일년이나되매 이에부모는 사랑하는딸의전정을념려하야\\n사방으로\\n신랑(新郞)감을구한결과 작년팔월경에 대구시내남산뎡륙백륙십팔번디박모(朴某)가와서 현재김천군 황금뎡(金泉郡黃金町)에사는김사옥(金士玉)(三三)이란사람은 인물도똑똑하고 또한 작년에상처를한후 사방으로사람을 구하는터이며재산로상당하니당신의딸을그곳에 싀집보내는것이 엇더하냐함으로 차씨는 김사옥을맛나보고서 피차에혐의한결과 혼인하기로 작뎡되어 작년구월중순경에 날을택하야 싀집을보내기로 작뎡되엇든바 사옥은녀자를다리고 김천으로 간다하고 긔차 탄후에는 경성까지가서 엇던려관(旅舘)에서\\n얼마동안\\n자미잇게녯날에맛보든 단꿈을꾸다가 사옥은말하기를 자긔는 소송비용을쓸것이잇다하면서인천(仁川)엇던사람에게 돈이백여원을 취한후얼마동안 맛기어둔다함으로 전긔녀자는 남편의말이라 바노듯고 인천까지가서본즉 듯든말과는 영딴판임으로 주인과일장풍파를 일으키다가 다시서울로올라오게 되엇는데 엇지할수업시 다시경성남대문통 삼뎡목박래문(朴來文)이란자에게 이백삼십원에 팔리어갓는바 중국으로보낸다함으로 다시싸움을한결과 겨우그굴혈을 버서낫스나\\n그원수의\\n남편인사옥은녑흘떠나지안코 또다시 황해도재녕(黃海道載寧)읍내엇던사람을불러 매매를함으로 할수업시삼개월동안을 재녕서 직부노릇을하면서 그곳경찰서장의 사랑을만히 바다가며잇다가 다시사옥의 속임을바다 경성으로온즉엇더한 수단을썻는지 알수업스나말하기를 내가엇던 친구에게사정의말을하고 돈을어더 네몸을빼어왓스나 대구에 단여올동안까지 그친구의집에가서 잇스라함으로 부득이화천뎡석모(花泉町石某)의집으로간즉 말하든바와는 또딴판이며 역시술집임으로 하는수업시 다시작부가되어 만흔눈물을흘리며 원치안는우슴을웃고 또한\\n보기실흔\\n남자의희롱을만히바더왓스나 주인이넘우 영악함으로인하야 이미이러케된이상에는 맘이나조흔 주인을차즐양으로 사옥에게 다른조흔곳으로 지시하여달라한즉 지금잇든병목뎡오십사번디(並木町五四番地)함경창(咸慶昌)의집으로팔아 버림으로 여호를피하면호랑이를 만난다고 작부노릇이실혀서 조흔곳을 청하엿다가그만이몸이 인육상의 독한손에걸리엇슴으로아모리집으로편지를한들 회답이업기에 자세히알아부즉 부처준다하고 모다찌저버리엇슴으로 그와가티 본가에서도돈연히 몰랏든바 그의부친이알고\\n경성으로\\n와서사옥에게두달만에 차저준다는계약을 밧고대구로 나려왓스나 아모리생각하여도 딸을유곽에 둘수업슴으로 대구서에 고소를뎨긔한바\\n 그는 경성본뎡경찰서의 보호를바다 여긔까지왓다하며 또사옥은 경성 엇던녀자를유인하다가부산(釜山)까지다리고가서팔아먹은후 그돈은부산(釜山)에서전무유흥에 바렷슴으로 그의부친이부산까시가서붓들어왓다는바 아즉까지박모(朴某)는 톄포치못하엿스나그외관계자는\\n전부톄포\\n되어방금대구서에서 엄중히 취됴중 임으로이일이 장자엇더케 될는지일반은흥미를가지고주목하는모양이라더라(대구)\\n',\n",
       " '◇新郞新婦\\n충주군충주면안림리(忠州郡忠州面安林里)리상복(李相福)씨의 장남원희(元熙)군과 시내권농동(勸農洞)삼십삼번디김돈상(金敦商)씨차녀인금춘에숙명녀학교사범과(淑明女學校師範科)를 졸업한영화(榮和)양과의 결혼식은사일오후세시반에 정동뎨일 례배당에서거행\\n',\n",
       " '定婚處女에게\\n强姦하려든者\\n벌금물고소송맛나\\n황해도송화군 풍해면성하리(黃海道松禾郡豊海面城下里)리가순(李可順)(五二)의장녀 리재득(李再得)(一八)은동면동리로진채盧晋彩)와 김성호(金成鎬)와동면성상리(城上里)정익주(鄭翊柱)와 한천금(韓千金)을걸어해주디방법원송화지청(海州地方法院松禾支廳)에위자료 청군소송(慰藉料請求訴訟)을제긔하얏는데 이제그내용을 자세이듯건대 리재득은 본시빈한한가정에태어나서 뎡혼한후 아버지와어머니는 항상상업차로 집에잇지못하고 홀로어린동생둘을 다리고지나든중 작년음이월십삼일밤에 홀로자는방에 로진채가뒷방문을뜻고 들어와서 강간하려는것을 소리를치고 몸부림을할때에 이웃사람이알고와서 무사하얏스며 또십사일밤에는 김영호가들어와서 또한 그리하는것을 극력반항하야 겨우면하고는 남이알가두려워서 잠잠코잇섯는데 동월십오일밤에는 정익주와 한천금두사람이 또한방문을열고들어와서강간을하려는것을한사하고 소리를치고 가티자든동생들을깨워욕을겨우며하엿는데 이말을들은 신랑(新郞)집에서는 그만 퇴혼(退婚)을함으로 재득은쓰라린가슴을 부둥키고 하로이를지내다가 사월십구일밤에는 어린재득의 마음에차라리 죽어수치를 면하는것이낫다하고 그마집사람들이 업는름을타서 방들보에 다가목을매고들어진것을 그어머니가 발견하고 소리를처 이웃사람을청하야 즉시풀어노핫는데 생명에는관계업시되엇스나분함을참지못하야 고소(告訴)를하엿든바김성호는 다라나고 세사람은벌금과구류를바닷스나재득은퇴혼당함을분이녀겨위자료청구소송을제긔한것인데 판결언로는 오는십팔일이라더라\\n',\n",
       " '◇新郞新婦\\n일죽이연희전문학교상과(延禧專門學校商科)를졸업하고 그동안상업에종사하던현정수(玄正柱)씨의령제흥주(興柱)(二六)군과 최텬식(崔天植)씨의장녀로 리화녀자고등보통학교(梨花女子高等普通學校)출신인 명순(明順)二二)양과는최남선(崔南善)씨의알선으로결혼(結婚)이성립되어오는십팔일오후두시부터시내인사동중앙례배당(仁寺洞中央禮拜堂)내에서결혼식을거행한다고\\n',\n",
       " '約婚한新郞을\\n미친개가물어죽여\\n전북옥구군림피면원하리(全北沃溝郡臨陂面月下里)에사는고춘삼(高春三)의장남고병배(高炳培)(一八)는지난 음오월이십팔일에미친개한테물려죽엇는데이제 그자세한원인을 들어본즉작년십이월경에 그동리에서 광견(狂犬)에게물린후로그사이는아무병이 업다가 이번에이르러만칠개월만에 광견병이 발생되어수일간신음하다가그만사망하엿다더라(강경)\\n',\n",
       " '朝鮮農村相互扶助\\n原始共產時代의遺風硏究\\n\\n草 士\\n 그러나 이러한것을主張하는이로서 朝鮮의農民은발서數千年前부터實際로行하야오는勞働의藝術化—비록그것이極히原始的의것이라할지라도—가잇슴에意를留하는이는아마別로업는듯하다 世界어느나라의勞働者보다도가장괴로웁고된勞働을하는朝鮮의農民들은 勿論그勞働을决코우리가理想하는바와가티藝術로看做하게까지되지는못하얏지마는 그러나 그들은그들의唯一한音樂이오慰安物인풍장과노래를勞働에利用하야 그로써그慘澹한勞働의苦痛을忘却할뿐아니라 돌이어그들의勞働力을鼓舞하고또그能率을增進할줄을알어왓다\\n 이제 普通한사람의農軍의勞働能率과두레制度에依한能率과를比較한다하면 後者에서前者보다四割乃至五割 때로는十割에갓가운增加率 (비록그勞働이조곰거치른弊는업지아니하나)을發見할수잇나니 이에두레方法이農業經濟上에얼마나큰動力을가졋는지를알수잇스며 또우리는勞働能率은一人이나或은數人의分散勞働(分業이아님)보다도 多數한사람이共同으로하는集合勞働이 얼마나 偉大한効果를齎來하는가는짐작할수잇다이것이곳 相互扶助가우리生活을얼마나幸福케하는가를證示 하는것이며 딸아 이두레와가튼大規模의共同勞働制度는 决코내것과네것을甚하게 區別하야거울과가티平濶한廣野에縱으로橫으로幾千幾百의阡陌을그어서土地를조각조각零瑣化한私有財產制度下에서는 到底히 發見할수업는바이오 적어도幾千年以前部落共產時代에서부터 共同으로勞働하고共同으로耕作하야오든大農法의하나이라判斷치아니할수업는것이다\\n六\\n 原始共產時代의遺風으로또한가지重要한것은 村中에喪葬이나또는婚姻이잇는때마다行하는相互扶助이다 이제가령村中에서한老人이死去하얏다하면 그것은果然큰야단이다 村中의吉事는大槪다即時에停止된다 노래를불으고풍장을치는것이禁止됨은勿論이오 바누질을하고머리를빗는일까지도다 休止된다이것은死者에對한吊意를表하는것임은勿論이니 往昔共產時代에잇서서 그部落中에喪事가잇슬때에는 全部落員이華服을去하고化粧을廢하야서 그同族의一人이靈의나라로永遠히이사갓슴을슬퍼하든當特의遺風일것이며 (그러나 이제잇서서는이바누질을아니하고 머리를안빗는것과가튼일이 死者에對한吊意로보다도 돌이어死者의亡靈을끄려하는恐怖心으로부터 行하는意味도만히包含되어잇나니이것은分明히 共產時代의相互扶助의風俗이 私有財產制度에入한뒤에그影響을바더서 돌이어利己主義化한一端이라고볼수가잇다) 村中의모든집에서는各各한사람식의 壯丁을내어서喪家의모든일을보게하며 喪家의뜰가운대에는밤이새도록 여러집에서한짐식가저온장작으로써모토불을피워노코 村中의사람들이交代하면서 徹夜를한다 그러고또정말出喪을하는날에는 一曲의悽凉을極한葬歌소리와함께그死骸는村中사람의 손으로멀리墓地에까지運搬되어 埋葬된다\\n 婚姻에잇서서도 이와가티집집마다한사람식나서서 그일을自發的으로보게되나니 或은멀리新郞의말곱비를잡고新婦의집에까지가는이도잇고 또는祝賀의甘酒에醉하야비를걸음을치면서도新婦의花輿를메고 新郞家에까지보내주는이도업지아니하며 또그婚席에는一村의男女老幼가묘혀서서로慶賀하고서로祝福하며 될수잇는대로新郞과밋新婦의마음을깃거웁게하기爲하야 얼골에먹을얼숭덜숭하게칠하고 新郞에게절을꾸벅꾸벅하는일도잇고 또新郞과新婦를한데묵거노는일부터작난을시키는일도잇다\\n',\n",
       " '男女學生數百名\\n結婚式塲서對陣\\n남편에게버림바든녀자\\n결혼식장에돌입하려다\\n美里欽對松都高普\\n지난십일일오후여섯시반경개성북본뎡(開城北本町)중앙회관(中央會舘)압헤는 송도 고등보통학교(松都高等普通學校)학생백여명이 둘러잇서 그안으로들어가고자 하는미리흠녀학교(美理欽女學校)학생은일제히통행금지(通行禁止)를할뿐만아니라입문(入門)을 거절(拒絕)하야나종에는 남녀학생간(男女學生間)에충돌이일어낫섯는데 이제전긔와가티 남녀학생이 충돌된내용을듯건대\\n송도고등 보통학교(松都高等普通學校)오년급(五年級)에 재학중(在學中)인 리중옥(李重玉)(假名)(二二)은 황해도금천군 호현면(黃海道金川郡好峴面)출생으로 지금으로부터 륙년전(六年前)그동리에사는 손씨(孫氏)의딸리애라(李愛羅)(假名)(二一)를마저 안해를삼아 이래동거하야오든바 그이듬해 중옥(重玉)은 송도고등보통학교(松都高等普通學校)에 입학(入學)하야개성(開城)에 류한이후 부터는 자긔척리씨(李氏)를 멀리하기 시작하야 여러 차례 리혼(離婚)을 강청(强請)하얏스나홀로잇는 싀어머니 손씨(孫氏)의말류로 속을썩이고 근근사라오든중 작년십일일경에 무슨곡절인지 밧이를가리를 떠어출것이니 개성(開城)가서 공부(工夫)를하면서 남편(男便)의마음이돌아서기를 기다리라는 싀어머니의부탁을밧고그역시개성에와서미리흠녀학교에 입학하야공부를하고 잇섯든바 풍문(風聞)에 자긔남편(男便)중옥(重玉)은 시내 모고등 보통학교(市內某高等普通學校)에서교편(敎鞭)을잡고잇는 모씨(某氏)의딸 화실(華實)(假名)양과서로 사랑하는사이가되어 십일일오후여섯시 시내중앙 회관에서 화촉(花燭)의 성뎐(盛典)을거행(擧行)하다는 말을듯고 그는분함을 참지못하야 그길로신부(新婦)의 아버지되는 모씨(某氏)를 방문(訪問)하고애끗는 하소연을하엿스나 모든것은 수포(水泡)로 돌아가고 끗끗내 두남녀는 결혼식(結婚式)을거행(擧行)하게되엇슴으로그는 결혼식장(結婚式塲)인 중앙회관으로 달려갓든바미리 부터 이와가튼 방해자(妨害者)가잇슬것을예측(豫測)한신랑(新郞)의동무되는학생백여명은결속(結束)하야집을텰통(鐵筒)가티에워싸고븨슷한녀학생은 집근척에도 얼른을못하게함으로애라(愛羅)는최후의용긔(最後의勇氣)를내어들창을넘어들어갓던바안에잇던손모(孫某)라는학생이보고 여러 관중에게하는말이『이신성한례식장안에정신병자가 들어왓스니까 □□내야되겟다하고 수십명 학생을선동시키어애라(愛羅)를잡아냄으로 그러치안타고 반항(反抗)을하엿스나 완력으로 육박을하야할수업시그들에게감금(監禁)을당하고잇섯는데신랑신부(新朗新婦)는이때를타서모씨(某氏)의주례하(主禮下)에결혼식을 거행하고나오는것을 문밧게서기다리고잇든 미리흠학교(美理欽學校)학생들은조리를놉혀신부의 비행(非行)을렬거하얏스며 한편 송고학생(松高學生)들은만세(萬歲)를고창(高唱)한후 신랑을다리고 시내모료리뎜으로가서 결혼피로 까지하엿다더라\\n',\n",
       " '八面鋒\\n廣東은 共產軍의『쿠데타』로政局이또뒤집혓다고 眞所謂右亦難 左亦難이로군\\n滿蒙交涉은 다시繼續된다고楊宇霆氏를한참흘뜨든 効果가난게로군\\n山梨新總督은 十七日에東京서떠난다고 治行에한참紛忙하겟군 그래도神이나렷다政務總監後任은 그저决定되지못하야 早川氏에게交涉中이라고웨그리어러운카 新郞고르다가시집못간 老處女꼴이나되지안흘가\\n',\n",
       " '文藝時感\\n(二)\\n崔曙海\\n 그럼으로 現下의 우리文藝作者들도 現下過程하고 잇는習件時代를 如上한精誠과 努力으로써 過程하되 外國的의植倣은 버리고朝鮮的의 自我精神을 차즈면서 나아가야할것이다이제우리가外國의文學을본뜬다고外國文壇의『콜가나』『쇼—』를凌駕할수업는것은우리가漢文崇尚二三千年에우리에게서杜甫나李白을 찻치못하고만것과가튼것이니 이것은 彼此問다른 生活의所以然이라 우리는우리의 世界的地位와 特殊環境을 잘알어야하겟고 現下우리의 生活의苦와 熱烈한우리의 世界的慾求를잘 洞察하야그것의 表現으로써 世界的文學에貢献해야할것이다 그것은마치 피아노의 鍵盤과갓고 검은고의 絃가타야 大絃小絃 소리가다르고 이鍵盤저鍵盤의 音이各異하지만 서로어울어지고 調和가되고 格에들어서單音으로 잇슬때는 單調無味하든것이 한 훌륭한音樂의 聖殿을일우는것처럼 우리의文學聖殿의한자리를 차지하게되도록 우리는우리의 우리的를잡힌 文學을지어야할것이다\\n無用三件\\n 어떤件品을勿論하고 그作品에잇서서 無用한것은蛇足 虛僞 誇張이다 나는이제이說明의便宜를爲하야 어떤婚禮式을例로들겟다 日前어떤親舊의結婚式에 招待바든 일이잇섯다남의기꺼운禮式에招待를바덧스며굿이나보고떡이나 먹엇스면그만이지 뒤에돌아안서서講說竪說하는것은얄밉고마뜩지안흔수작이지만 내가그結婚을祝賀하지안는바도아니며 또한나의하고저하는말이 新郎新婦와다못그편의누구에게 미치는것도아니요 材料는거긔서取하엿스나 내말의目標는아조딴판이니이때문에 白玉가튼新婚夫婦에게瑕瑾될리는 업슬줄밋는다\\n 却說 嚠喨한피아노ㅅ소리에발마초아新郞新婦가 式塲이들어서서 主禮의와서이主禮의式亂가흐르는데 그것은祝賀와敎訓과 娑婆世間에사라가는處世術과 人生이란어떤것이라는哲理를兼한綜合式辭로 한時間以上에亘하야 듯는이의조름을재촉하엿다다음新郞新婦의天長地久海涸石爛이라할만한誓約이잇고信物(半指)交換이끗나자來賓\\n 祝辭가잇섯다 그祝辭는말로써한것이아니라 글로쓴것이들이는가雙手로奉讀한것인데 그뜻은이러하엿다\\n 『人類가잇슨時 이때까지 數千數萬의 结婚이잇섯다 이아프로 形形色色의結婚이잇슬것이다 그러나오날이자리에서行하는바〇君과〇孃의結婚과가티 아름답고幸福스러운 結婚은업섯다 그理由는〇君과〇孃은變愛結婚인까닭이다‥‥‥』\\n 이러한文句가 그祝辭ㅅ속에잇는것을나는간즐거리는코ㅅ잔등을씰룩하면서 確實히들엇다그모든儀式이지난時에 치음과가티嚠喨한『피아노』소리에 발마초아 新郞新婦는退塲하게되니 이때모혓든사람들은 깃문빗츠로 新郞新婦에게꼿을던지고쌀 을뿌려서 祝意를表하엿다 그러나원톄서울안에서도크고넓기로일홈잇는집이라 室內의十分□□도□지못한賀客들은窒內의十分의九도더차지한空間의空洞과거긔흐르는찬空氣와과內容에□우□□는 노픈□井굴근기둥에 底壓이된듯한氣分이흐르는것을나는 깃거운禮式을爲하야 저윽히무겁게보고나오면서 그윽히머리속에떠올는세가지생각을늣겻다\\n',\n",
       " '各地瑣信\\n◇春川◇\\n◇錢機實現 新艇江鐵□架設促成陳情委員이日前에歸春하야春川組合樓上에서 結果報告를하얏다는데 解氷만되면곳着手하리라고\\n◇陳列舘廢止 春川에잇는二層洋屋物產陳列舘은昨年度부터는廢止케되엇다고\\n◇江陵農校實現延期 오랫동안江陵人士들이期成會를組織하고努力해오든江陵農業學校江原道地方費豫算關係로昭和四年度에나實現되리라고\\n◇記事材料提供에不平 江原道第八回道評議會에付議할道地方費豫算案의材料는附議後가아니면發表할수업다는것이釜山日報料面에는評議會當日新聞에知事의人事한것까지揭載되엇다고春川在住新聞記者들은滿滿不平케되엇다고\\n◇國境◇\\n◇私立豊學校公立變更鍾城郡豊各所私立豊谷學校에서는客年度부터公立普通으로昇格하여딸라고道에까지여러번陳情하엿든바公立許可의內定이잇슴으로去十日에面內有力者四十餘名이會合하야學校位置變更及其他를討議하엿다고\\n◇諸博公然許可 國境對岸關島各地에는正初라는핑게로□傅을許하여주엇슴으로멧百名資金으로貿穀商하든者들은賭博에消費하여버리고彷徨痛器者가만라고\\n◇料理業者拘留 澁關駐在에서理業하는山東이란日本人은내가만히아노라고搖頭하든者인데멧칠前에差押을當하고差押當한物品을뽑아옵겻다가發見되어留置밥을먹는다고\\n◇安岳◇\\n〇賭博끄테돈일코死亡 黃海道安岳郡安谷面金亭里安尙俊이라는자는以前부터賭博을하여만흔돈을일코去十二月頃에집안사람의小小한物品을팔아가지고『맛동데이』二百圓式태워가지고하다가단번에일어버리고即時病이突發하어□神感動으로六日만에死亡하엿다고\\n〇留置塲大滿員 安邊一帶에는歲閱가몹시盛行하야當地警察署에서는近日에多數한賭博軍을檢擧하야留置塲은大滿負이되엇다고\\n〇沐浴湯窃盜 本邑內昭和湯에서는去三十一日에瑞山里李某란靑年의『세루족기』을통탕盜賊하여갓다고\\n◇信川◇\\n◇不限巡查免職=蘆戶面五局里巡查駐在所의勤務하든朴孝健은人民에게受賂한事實과科料金橫領한것이露出되어二月七日에免職을當하엿다고\\n◇强盜逮捕=斗羅面淸潔里에서强盜朴七星(二七)同而新用里尹團善(二二)은二月六日에刑事蔡殷澈外二人의警官에게逮捕되엇다고\\n◇生活難으로自殺=信川邑內에居在하는全致浩의要果蘭泳(二七)은結項自殺을하엿다는데原因은生活難이라고\\n◇自働車顚覆=信川邑岡田自働部의大二號自働車는醴泉을延行中道中에서限覆되어乘客七人中一人만重傷을當하야折衝이되엇다는데運轉手는大便을보러간사이에信川邑에居住하는宋元錫이가運轉臺에서運轉을始作하야顚覆이된까닭에罰金과重傷者외治療費까지負擔케되엇는데重傷者는平壤慈惠病院에入院하엿다고\\n◇華川◇\\n◇新郞新婦 □川에鬪士요役軍인東亞日報支局記者張仁和君과春川女法鬪士인李必先讓과의結婚式은지난九日에朝鮮日報支局長咸炳議氏主體下에午後一時부터張仁和君家에서擧行하엿다고\\n◇華川에傳染病發生 華川邑中里에사는程泰俊은지난五日頃부터무슨病인지들으고알는것을全公醫의診斷으로膓窒扶斯로判明되엇다고\\n◇고무靴商好况 近日華川에는日氣가溫暖함을딸아눈이노아泥海를일움으로고무靴商의포켓이뚱뚱하여진다고\\n◇華川楊口間自働車通行 華川楊口間自働車가一時通行을中止하엿다가近日에비로소運轉手張東煥氏運轉으로通行한다고\\n◇朱乙◇\\n◇朱乙駐在所少年惡刑=駐在所 警官某는某事件被疑者申奉石 이라는少年을取調할때兩指間 에木片을끼우고꼭눌럿는데손 가락이구불엇다고\\n◇土改事件訴訟無消息=朱乙士 改組事件으로地主側에서告訴 를提起한지月餘에于今까지何 等消息이업다고\\n◇新幹代表會員出發禁止=駐在 所에서는上部의命令으로新幹 大會에出席할代表會員의出發 을禁止한다고\\n◇普校同窓會决議□覆=普校同 窓會는前番定期總會에委員側 토하기를滿塲一致로可决하엿 는데그後臨時總會를召集하고 會長制로復舊하고校長이또會 長이되엇다고\\n◇面長의鐵面皮=面長催□南君 은非行이一一히暴露되엇슴에 도不拘하고免長은아니하고배 심만꿋꿋이내민다고\\n',\n",
       " '各地瑣信\\n慶山\\n◇賭傳盛行=慶山面內에는至今諸博이大盛行하야 술집이나려염집을勿論하고公開한形便인인데警官들은자조巡廻하야보는대로撲滅하엿스면조켓다고\\n◇啓東學校校友會召集=慶山私立啓東學校校友會는本月二十二日에母校講堂에서墾談會를開催하되會員은期於來參을바라는데當日墾親會費는卅錢이라하며詳細事項은凖備委員金基吳君에게間議하여달라고\\n◇安心靑年會任員會=慶山郡安 心靑年會任員會를來九日午後 에會舘에서開催한다고\\n◇啓東學校問題=慶山唯一의朝鮮兒童敎育機關인啓東學校는隆熙時代에創立된老校로지금은維持가困難하다는데當局者는晝夜걱정으로經過하며四方으로活動中이다는바우리의兒童敎育機關을누가도와출가!慶山有志諸位여!\\n花台\\n◇花臺金融組合豫算案=咸北明川郡花台金融組合의昭和三年度經費豫算額은過般評議員會에서左와如히編成하엿다고\\n一,給料及手當四千五百六十圓\\n二,旅費   八百五十圓\\n三,事務費  一千六百圓\\n四,營繕費  一百九十圓\\n合計七千二百圓\\n◇一新婦에二新郞——咸北明川郡下加面南山洞사는玄某는十九歲되는自己의딸을먼저번城津郡鶴東面사는許某(二四)와結婚하기를許諾하엿다가그의年齡이媒人의말보다二歲나더된다는理由로退婚書信을 許氏의家에보내엇는데 許新郞家에서는그를不拘하고婚禮式擇日을가지고왓든바 玄某는이미許某를退婚하고다시同面韓某의子(未成年)에게許婚하야去二月四日(陰)로써結婚式까지하기로約束하엿슴으로强硬히拒婚을宣言하엿스나許新郞은바로二日에族人몃사람을後從케하고玄某의家에來하야自己의妻父가될번하든 玄某를붓잡고退婚의理由를質問하는同時에二日間이나玄某의隣家에서□在하면서諸難함으로할수업시玄某는自己의女를他處族人家(韓新郞의外叔家)로보내어忙忙急急히無色한成禮를하엿다는데이야말로古代結婚式의一例를演出한것이라고\\n安岳\\n◇中國勞働者雲集=安寧水利組合의工事時期가되엇슴으로安岳郡大遠面伏□市에는中國勞働者가每日平均四五十名式모혀든다는데伏賴一帶는中國村化라고\\n◇露積에火災=安岳面燃谷里金□弼氏의露積에서는지난달二十八日午前두時頃에發火하야租八石이灰□되고말엇다는데原因은닭잡으랴고성냥물을不注意한까닭 라고\\n◇消息업사생긴靑年會=安岳郡大遠面伏獅里에는〇〇靑年會라는□□가突然히생가엇다고\\n◇自働車滿員=近頃에安岳邑內各校卒業生으로上級學校에試驗치려가는學生이每日平均六七名式이나되어서一個所의圖田自働車部에서는載寧信川鎭南浦各線에數次式運轉하여도恒常□員이라는데理由는安岳에中等校가업는탓이라고\\n倭舘\\n◇倭舘面書記採用=漆谷郡倭舘面에는書記一人을採用하는데應募者가百餘名인바이것도朝鮮人生活難의一表徵이라고\\n◇無一滴水한貯水池=倭舘面事業으로市街中央인市塲에火災赦急의目的으로一金一千七百餘圓로로貯水池를파고設備를하여두엇는데요새에貯水池近傍에火事가나서 그것을열고본즉물은一滴도업섯다는바日本人請負業者의배만물리게하는貯水池라고一般의非鮮이藉藉(倭舘)\\n',\n",
       " '各地瑣信\\n江界\\n興洲洞農民社組織=江界郡曲河面興洲洞에居住하는農民五十餘名은去十四日當地闡明講習所에會合하야興洲洞農民社를組織하엿다는데選擧된任員은代表理事吳奭懋 常務理事金鍾淳 金友玄 理事金昌淵外四人 秘書張雲星諸氏라고\\n◇江界模範村=江界郡曲河面興洲洞에는實로一般이欽慕할만한青年이민허벌서三年前에飲酒의害毒을力說하야禁酒同盟을創立하는一便每月一圓式貯蓄하야五年後社會事業에提供키로한貯蓄組合을創立하엿스며昨年十月에도農民間의相互扶助와文盲退治를目的으로한農民會及青年會를組織하엿고去十四日에는農民의便宜를도읍고저農民社를組織하엿다는데會員數도相常히만허全洞의青年을全部網羅하다십히하엿다하며農村兒童을本位로한闡明講習所를積極□으로後援하는同時에會員의患難은極力相救한다는데各團體幹部로活動하는主要人物은金鐘淳吳□懋金友玄張斗星張雲星諸□다고渡江注意=最近日氣가漸漸溫 暖하여짐에딸아東秃江은解氷 狀態에在하다는데一般渡江者 는반드시注意함이必要하다고\\n◇江界少年單一團體創立凖備= 江界少年會主催로全部少年會 聯合會를開催하고全部少年單 一團體를組織하고저方今凖備 에紛忙中이라는데大會日字는 來二十一日이라고\\n◇曲河面農民夜話會=曲河面興 洲洞農民社에서는郡農民社本 部에서金炅元 車奉珍兩氏를 請邀하야去十四日下午八時半 부터金鍾淳氏司會로農民夜話 會를當地闡明講習所講堂에서 開하엿다는데聽衆은四十名에 達하야大盛况을呈하엿다고\\n◇興洲洞第一農民社創立準備= 江界郡農民社委員 金炅元車 奉珍兩氏는去十五日下午八時 부터曲河面興洲洞(南洲)崔昌 煕氏家에서農民夜話會를開하 고現下朝鮮農民의處地와農民 團體組織의必要를力說한結果 即席에서모혀든農民青年十餘 名은興洲洞第一農民社를組織 키로凖備委員會를組織하엿다 는데選定된委員은朱聖三 尹 貞鎬康珉浩諸氏外八人이러고\\n◇毒感이蔓延될듯=江界地方에 요즘日氣不順으로流行性毒感 이流行일듯하다는데一般은蔓 延되기前에特別注意함이可하 다고\\n◇含怨自殺?=本籍을江界郡江 界面西部洞에두고方今煙草會 社厚昌中興塲營業所에잇는崔 秉柔의妻金性女는去十六日朝 十一時頃에北川江에서投江自 殺하엿다는바其原因은媤父母 의虐待가날노甚하야飮食까지 주지안흘뿐아니라無時로殘忍 無道한其男便崔秉柔란者는맛 나기만하면毆打를일삼는故로 前記金氏는畢竟그와그티含怨 하고投江自殺하엿다는데一般 은投江을하엿스니까自殺갓지 마는事實은禽獸만도못한媤父 母의無理한虐待와其男便의모 진매에身體을傷하야死亡한것 이라고批難이藉藉하다고\\n          (江界)\\n春川\\n◇鐵橋工事着手=旣報와가티春川新延江鐵橋工事는解氷即時로着手되리라고傳하야오든바計劃은豫定대로進行되는모양으 로數日前에는龍山에잇는野戰 工兵隊一行이來春하야新南面 松岩里에駐屯하며將次鐵橋가 架設될兩岸의巖壁을爆破計劃 中이라고\\n◇목말은春川人士들=十七日夜 少年軍主催雄辯大會에는實로 想像以上의空前大盛况으로聽 衆이千餘名에達하얏다는데이 것을미두어春川人士들이얼마 나말어수린것을일수잇다고\\n◇貞明校高等科設置=從來는普 通學校六年程度의課程을敎授 해오든春川貞明女學校에서는 今年부터高等科를實施케되엇 다고\\n兼二浦\\n◇兼二浦公普卒業式 =兼二浦公立普通 學校에서는지난二 十日午前十時부터 卒業證授與式을擧 行하엿다는바今春卒業生이男은四十一名女는十三名인바優等生은如左하다고男生徒 朴炳浩 李完夏 韓鳳昌 金明軾 池三峙\\n女生徒 李寶珮 崔敬烈\\n以上\\n◇優等生表彰=黃海道地方奬學 費規程에依하야今年度兼二浦 公普校優等生으로賞을탄生徒 는朴炳浩君이라고\\n◇公普後援會豫算案=黃海道兼 二浦公普校後援會昭和三年度 經費豫算案은過般總會時에左 와如히編成되엇다고\\n 一,運動器員代補助 百五十           圓也\\n 二,運動會費補助 七十圓也\\n 三,職員講習會等出席旅費          四十圓也\\n 四,會員納入告知書代事務用  費五圓也\\n 五,接待費(役員總會時)           八圓也\\n六,豫備費(社會敎化費其他)        六十七圓也\\n合計三百四十圓也\\n河東\\n◇公立普通學校學藝 會=河東公立普通 學校에서는每年新 學期初에兒童學藝 會를開催하야오든 바例年과가티지난 十七日午前十一時에同校內에 서學藝會를橫田校長의司會로 開催하고童話及兒童劇等으로 六十餘種의競技는實로朝鮮健 兒의天才의자랑이되어七百餘 名의學父兄들은春夢에醉한感 이업지안햇다고\\n◇過度한賦役=河東市內의道路 問題로一般은當局者의非難이 적지안타는대今般에道路修理 로琵琶新基等地住民에게四日 以上의每戶에賦役을實施케하 엿다는바窮春을當하야그날그 날의生道들求하는그들에게過 分한夫役은無理하다고\\n◇赤良勞働夜學大發展=赤良面 內面民의經營으로赤良學術講 習所가六個星霜을내려왓스나 無產兒童은依然히無智의悲哀 가날로甚하야감을본同講習所 講師禹鎔鉉氏와金承鐸氏는昨秋부터八十餘名農民에게文盲退治의第一步로晝間에는講習所夜間에는農民夜學等으로誠力을다하야감에一般은稱頌이藉藉하매夜學生數는날로增加되어將來가有望하다고\\n慶山\\n◇慶明學校卒業式= 本月十九日午前十 一時에士亭洞安息 日敎會內에서慶明 學校卒業式을擧行 하엿는데校長代理 夫斗悅氏의式辭와來賓들의祝 辭가잇섯는데卒業生數는合十 二名中優等生은嚴棟哲趙判龍 咸在淵三名이라하며五年生中 優等生은白雲鶴君이라는바式 을畢한後講堂에서來賓歡迎會 까지盛大히擧行하엿다고\\n◇慶山面協議會=慶山面協議會 는本月十九日에開會하엿다는 바戶別割에對하야朝,日人間 에議論이紛紛하엿다는데그兩 者間議論을듯건대日議員의主 張은每日申報를强制購讀케하 며購讀料를面費에編入함은時 代差誤일뿐아니라新聞의購讀 은絶大自由에放任하라고高唱 하엿다그러나朝鮮議員某氏는 別意思나加味할듯시特立하야 曰每日申報以外에는볼만한新 聞이입스니絶大로購讀料를面 費로編入하자고主唱하엿다고\\n◇本報文局移轉=本報慶山支局 은三南洞朴能俊家에置하엿든 비事情에依하야鍾路通林月村 家로移轉\\n◇衡平青年의活動=慶山郡內에 散在한衡平靑年團體는地方會 舘의無함을늣겨會舘建築期成 會를組織하야만흔活動을하며 義捐도相當한貌樣인바建築日 子도切迫함으로義捐收金에沒 頭하야朴得伊君이出張하야收 金活動한다고\\n安城\\n짝사랑의斷指=安城邑內妓生洪玉蘭(一八)은情郞에게구든决心을보인다고食刀로斷指를하고某旅舘에서呻吟中인데그의情郞 은다른妓生에게반하야一金三 百圓으로그의决心을代償할뿐 이라고\\n◇어린新郞실소=三竹面美獐里 鄭鳳錫의딸芳年二十四歲된處 女는十四歲된新郞과定婚하얏 는데婚姻前날밤에水原方面으 로三十六計의走字를불럿다고\\n◇그꼴아니본다=一竹面新興里 鄭點根(三)의妻李氏(一七)는媤 母와말닷툼을하고목을매어죽 엇다고\\n◇春清딸아出家=金光面閑云里全萬壽(二四)의妻金방을은지난十五日에春興을못이기어逃亡을하얏다고\\n',\n",
       " '各地瑣信\\n求禮\\n求禮公普의常習的怪行=全南求禮公立普通學校에서는지난三月二十二日에卒業式을擧行하엿다는데卒業生中月謝金未納生 朴昌淳鄭贊周外三人에게는一 切卒業證書를주지안흘터이니 速速히月謝金을準備해가지고 事務室로오라고佐藤校長과秦 野擔任이宣言함으로六年동안 螢雪의표적을보지못한여러學 生은憤怒와怨恨에어린가슴을 부등켜안고돌아왓다하며昨年 에도通信簿을볼미삽고納金을 督促하며家產을差押하는等徹 底한現金主義에一般은怒號와 唾罵를마지아니한다고\\n◇鳳城山에迷信府=鳳城山은邑 이갓가워서시원한맛을찻는사 람의발자죽이끈할사이가업는 곳이다이러한弱點을잘利用함 인지姜京白이라는僧侶가山頂 에草家數間을짓고그妻朴氏스 스로神下이라稱하면서妖言怪 說로婦女를誘惑함으로어리석 은女子들은自己구차함이妖神 의作害인출밋고날로數十人式 모혀들어先後를다토아법석이 라고\\n◇後援會의妄擧=지난三月二十 一日에高興吳約瑟君과金春愛 孃과結婚紀念으로求禮幼稚園 에金七十圓을寄贈하엿다는데 幼稚圈後援會에서는二十圓이 라는費用을내어新郞新婦祝福 이라는感謝狀을뿌리면서樂隊 을先頭로自動車行列을하엿다 하며幼稚園을為하야어려운돈 을寄贈하는보람도업시自動車 와其交際費로莫大한金錢을浪 費한다 고말성이자자\\n◇鄭南斗의孝行=黃田里鄭南斗 (三二)는無識할뿐아니라極貧如 洗한사람으로품팔리를하야그 의父親을孝養하던이밋居喪에 哀働不已하며나제는품을팔고 밤에는墓側에侍하기數個月에 하로도게으름이업슴으로隣里 가다 그의出天孝誠에感泣하야 柴糧을거두어 그의窮을救한다 고\\n◇功績表彰=內山面長李相爕氏 는平素에健實한사람으로서在 職十年에公私間매우公平하엿다고面內梁鍾羽氏外二四入의發起로지난三月二十二目에紀念品으로竹林一反步를贈呈하엿다고\\n嶺美\\n嶺美金組定總=平北嶺美金融組合에서는來十八日午前十一時부터當地天道敎堂內에서同組合第八回定期總會를開催하리라 는데벌서부터여러가지準備에 紛忙中이라하며附議事項은如 左하다고\\n  ◇附議事項\\n 一,昭和二年度財產目錄貸借  對照表\\n 一,事業報告書剩餘金處分案  監査의意見書承認의件\\n 一,役員手當支給의件\\n 一,定欵變更의件\\n◇合衆農商會定總=平北嶺美合 衆商會에서는來十五日第四回 定期總會를同商會內에서開催 한다는데討議事項은如左하다 고\\n  ◇討議案\\n 一,總决算報告\\n 一,利益 配當報告\\n一,規約通過\\n一,評議員及顧問選擧\\n三陟\\n面書記試驗=지난三月三十一日三陟公普校에서面書記試驗을擧行하얏는데七八人採用에應募者가百餘名에達하야一般은豫 想以外의多數에놀라지안흘수 업섯다고\\n◇三陟簡易圖書舘書記試驗=四 月一日午前十時부터三陟公立 普通學校에서鄉校財產으로經 營하는圖書舘書記試驗을擧行 하얏는데一人採用에三十名의 應募者가잇섯다고이것이三陟 靑年의尊官心理의한表現이아 닐가\\n◇雇人採用에抽籤으로=三陟金 融組合에서는小使一人을採用 하는데各自의運動이豫想外로 猛烈함으로當局者도귀치안허 不得已抽籖으로한사람을採用 하얏다고\\n◇三陟公普校女子部廢止=三陟 公立普通學校에서는今年度부 터經費의關係로女子部를廢止 하고一學級을縮少식힌다는데 이에대하야當校에서는道學務 局에陳情書를提出하고그對策 을講突中이엇스나數日前電報 로永永廢止의通知가왓는바一 般學父兄은女子敎育을爲하야 만흔憂慮中이라고\\n◇三陟耶蘇敎會傳道講演=三陟 耶穌敎에서는四月二日午後八 時부터는敎堂内에서一週日間 大傳道講演을한다고\\n◇三陟市區改正一期工事完成= 旣報한三陟市區改正에對한第 一期工事는起工以來千名以上 의多數한人夫가入用되엇스며 三陟面當路者의熱誠的指揮로 近日에이르더겨우完成되엇다 고\\n祥原\\n婦人夜學=平南中和郡祥原에서는지난四月一日부터當地公立普通學校內에婦人夜學講習을始作하얏는데講師는普通學校訓 導朴仁錫金秉翼兩氏라고\\n◇敎育後援會發會式=平南中利 郡祥原公立普通學校에서는來 十日午前十時부터當校講堂에 서敎育後援會發會式을擧行하 리라는데이날은學父兄同窓會 臨時總會를開催하고餘興으로 蹴球試合까지잇슬러인데大盛 况을일우리라고\\n◇面書記하려는者 中和郡祥原面所에는職員中多少移動이잇슬터인데벌서부터就職에活動을開始한者가二十餘名假量이라고\\n慶州\\n客月慶州驛業績=지난三月中慶州驛에서取扱한發着人員과貨物發送狀况을보건대發送人員四,三八三人收入金이四,四一 二圓九二錢到着人員四,三三 四人貨車收入이三,〇六二圓 二五錢\\n◇各團體消息=四月八日은山 內面義谷에서新幹慶州支會의 山內班組織發會式이잇겟고陽 北面甘浦에서는靑年同盟의陽 北支盟의創立大會가잇다고\\n◇大邱農校生來慶=大邱農業學 校四年生一行五十四名은外東 面에잇는演習林에植林次로去 七日慶州를經由하야入室로向 發하엿다고\\n◇慶州金組定期趨會=慶州金融 組合에서는來十五日慶州公立 普通學校에서第十九期의定期 總會를開催한다고\\n◇南星寫眞舘의割引=慶州南星 寫眞舘에서는全朝鮮에잇는本 報讀者에限하야는古蹟案內의 無料와寫眞의三割引을한다고\\n',\n",
       " '地方 評 壇\\n義州郡州內面元化洞에어떤안老人하나는 말끔하게장가들어本妻잇는아들을 또다시장가드리려고處女며느리깜을선보러다닌다나!그런데선보는方法이더구나奇絶怪絶!\\n무당을끌고돌아다니며点을처보아吉하다면定하고凶하다면안定할豫定이라고 무당도어지간이약으면덥허노코조치안타고하겟지만이光景을當하고도有口無言인新郞될青年이야말로可憐可憐義州邑內弘西洞某氏는昨年에남보다더밧겟다고立冬이지나도로白米을팔지안타가全部쩍엇쓰나그래도열적은즐을알엇든지밤에내다버리엇겟다\\n금년에도남보다倍나되는갑을바드려다가또立冬을넘기고낫에는남이븟그러워서운반도하지못하고밤에야꼭運搬을하야新義州方面으로가저가노라고야단야단\\n열적은김에얼골만가리우면무엇하노——新義州까지가저다가싼갑을밧지말고義州에서진작팔지\\n자긔생각만하는놈은죽어도地獄으로간다 고非難이만흔줄을아는지?모르는지?하나님아버지시여——내년에는悔改하도록하야주쏘서……아——멘\\n',\n",
       " '新郞집에怪漢\\n강도인지간\\n부인지몰라\\n지난팔일오후열두시경에옹진군마산면송뎡리리시현(李時賢)의집에 식도를가진 강도한명이출현하엿섯다는데 그자세한 내용을 탐문한바에의하면 그날저녁에는 전식구가 전긔리시현의결혼때문에 몃칠을 철야하야곤함으로 초저녁부터 누어곤히잠든때에 갑작히 박게서누가차즘으로 그누구임을 물은즉덥허노코문을 좀열라함으로 리시현의누의동생이 문을 열어준즉돌연히엇던자가 목줄모를 푹눌러쓰고십퍼런식도를 번적이며 들어와급히볼을 끄라하며 새로결혼한신랑부부만차즐뿐으로아모것도금품을 찻는긔색이업시 방황주저하다가 리시현이가 도적이들엇다고 외치는바람에 종적을감초고말엇다는데 근쳐 사람들은그행동으로보아 도적이라고는볼수업다하며 새로 시집온부인의간부이라고 의심한다는바 그신부는시집온그이튼날시집안살겟다고하여도망한일이잇섯다더라\\n',\n",
       " '東萊=\\n生活改善會\\n第一回决議\\n東萊生活改善會에서는本月九日에臨時總會를開하고本會調查委員會에서廻附된議案中左記十三項을决議確定하고來陰己巳正月一日부터此를實行하게되엇다더라(東萊)\\n一,會員은旣製衣服以外에는綢 緞屬의衣服을新裁着用치아니 하며會員家族中隆老를除한外 에는亦此主義를漸次實行할事\\n二,男子衣服中衫及周衣等上衣 에는一切結縷을廢止하고『단 추』로써 代用할事\\n三,衣服은居喪中夏服을除한以 外에는一切染色着用을實行할 事\\n四,初終時吊客에게酒肴의進供 例를廢止할事\\n五,會員及其家族의初終時賻儀 는可及的金錢으로써厚問할事\\n六,會員及家族喪의發靷時에는 可及的多數護從케하며一定한 場所에서永訣式을行하고葬地 까지護從하는例는此를廢止할事\\n七,出喪時路奠은此를廢止할事\\n八,靈柩運行時□歌를廢止할事\\n九,本會員은其親戚의大小祥以 外에는一功慰問치아니할事\\n十,納幣時從客에게適應한酒肴 又는宿食은供하되所謂大床陳 設과及其食物의輸送例는廢止 할事\\n十一,奠雁及于歸日에新郞新婦 上客及待班에게大床陳設及兩 家間此를交換하는例는絶對廢 止할事\\n十二,于歸時에衣服類의禮單進 呈例는可及的此를廢止할事\\n十三,婚禮時請牒을受한以外에 는躬往賀問치아니하며物品은 贈呈코저할時는可及的期日前 此를選致하고當日金錢의文問受例는廢止할事\\n',\n",
       " '地方瑣信\\n長津\\n楊氏의篤志=原籍을咸興郡東興里에둔楊亨根氏는오랫동안長津地方과因緣이깁허온關係로얼마前古土里蒙學園에現金五十 圓을自進寄贈한바가잇섯는데 요사이의다시前記蒙學園에다 가古土市場에서重要部分인魚 菜場基地一百五十餘坪을永逮 히寄贈하얏슴으로一般은前記 楊氏의厚意를感謝不已한다고\\n◇夜學成績優良=長津郡古土里 에는當地有志白泰賢氏의努力 과崔錫雲氏의熱誠잇는敎授로 二十餘名의少年少女를모와가 지고算術朝鮮語等을가르치는 바그成績이아조優良하다고\\n◇曙光이비취는古土敎育界=古 土里에는地方이狹少함에不拘 하고初等敎育으로當地耶蘇敎 에서經營하는書堂의一個所와 蒙學園間에意見衝突이생기는 弊端이잇서一般은變慮하든바\\n雙方은各方面으로協議하야合同의機難이漸漸濃厚하여간다고\\n靈岩\\n叔侄이爭訟=全南靈岩郡靈岩面會門里金玹載는自己의長侄金相鳳에게戶籍訂正及家督相續權請求訴訟을맛나서全南木浦裁 判所에서進行中이라함은旣報 한바어니와其後로金玹載는同 裁判所에서第一審에敗訴를當 한까닭에自已名義로잇는土地 近三百斗落을印紙額金五百餘 圓이나消費해가며自己의本妻 河氏의名下로移轉하얏다하며 그訴訟은大邱覆審法院에控訴 申立을提出하얏다고\\n◇모히中毒者取締=全南靈岩郡 內에는所謂有產者의子侄等이 數年前부터『모히』에從事함으 로無產者靑少年들도끝녀가는 蔽端이적지아니함으로靈岩警 察에서는近日에와서不眠不休 의苦心으로모히中每者取締를 한다고\\n◇郵便配達怠慢=全南靈岩郵便 所에서는郵便配達을넘우나等 閑히하야三四日分의新聞紙를 自己네마음대로開封하야한꺼 번에가저가는것이例事이오더 욱이他人便에傳達케하다가新 聞紙나雜誌等은中途에서遺失 破損하는알이非一非再함으로 同郵便所區內에一般受信人土 는郵便配達怠慢에對하야非難 이藉籍하다고\\n仁川\\n仁川의婚姻在數=仁川府內昭和三年中婚姻件數를擧하면朝鮮人二九一件日本人十件計三百一件인데離婚件數는朝鮮人二十 二件日本人三件計二十五件이 라는바前年에比하면婚姻十一 件增加離婚五件의减少이라고\\n◇朝鮮酒酒價引上=從來酒價 (濁酒一斗一圓六十錢 藥酒一 斗五圓)을來二月一日부터濁 酒二圓藥酒五圓五十錢으로引 上하기로釀造組合에서는一月 十五日에臨時總會를開催한後 决議한일이잇다는데小賣業者 (술집)로成立된飮食店組合에 서는景氣不况한此期에잇서酒 價를引上하면損害가莫甚하다 하야問議를아니한다는데上記 釀造向組合에서는絕對的으로 履行하리라하야將次飮食店組 合과紛紏가發生되리라고\\n◇仁川의地震=去三十日午前十 一時十四分二十九秒에仁川觀 測所感震機에感震이잇섯다는 데震源地는仁川으로부터一百 二十六『키로메—돌』이라하며 一分半間繼續되엇는데震幅은 十一『미쿠톤』이라고\\n◇婚姻날新郞新婦派出所行=龍 仁郡水餘面雲鶴里三五四梁在 國(四一)은仁川市內外里四金聖 一長女眞童(三〇)이란老處女와 去一月廿七日에作妾婚禮式을 擧行한後同伴들과더부터自働 車二臺로湧金樓로가느라고市 內牛角里派出所前을지나갈때 에同派出所로부터朴刑事가突然進行中인自働車를停止식히고新郞인梁在國을取調하는同時에新嫦까지呼出하야다가놋코取調를한結果何等의取調材料가업섯다는데一般輿論이藉藉한中아모리犯過가잇서取調할必要가잇다드라도臙脂(연지)찍은新婦를呼出하야派出所에모라늣코取調한事件은仁川警察設置後初有의駭怪한일이라하며人倫上容認치못할짓이라고\\n安溪\\n夜學創立=議坡郡丹密 面公立普通學校에서 는同校敎員金漢圭河 泰錫兩氏主催發起로 去月十日에勞働夜學 이創立되엇는데創立 初부터生徒가五十餘名에達한 다하며金河兩先生은職務의多 忙함도不拘하고熱心으로敎授 한다고一般은稱頌한다고\\n◇火災로一棟全燒=一月二十二 日下午三時頃丹密面住仙洞鄭 寅燁家에서는對客中에突然發 火하야一棟全部를燒燼하얏다 는데損害는約六十圓假量이라 고\\n◇賭博犯面書記免職=義城郡比 安而書記某某는本職務보다도 賭博을더힘쓰다가結局警察에 게取締를當하게되어免職處分 을當하얏다고\\n◇安溪郵便怠慢=安溪郵便所에 서는電話呼出配達을二回나配 達치아니하야商業上不少한損 害를끼첫다하며 洪龍福에게 로가는小包를破壞하야物品을 내어버리고封皮만配達하얏슴 으로本人이質問한즉封皮가自 然히破壞되어서物件이袋內에 잇는것을發見하얏다고糢糊한 對答을하고郵便物을갓다주고 容恕해주기를伏乞하얏다고\\n',\n",
       " '生物學上으로본\\n處女性의問題\\n(一)\\n山本宣治著「戀愛革命」의論的代辯\\n世專細菌學室 表 良 文\\n   序 言\\n 오늘날우리는 만흔사람들이神聖한戀愛에살고 純潔한靈의交感에 神秘的愛의實現을바라고잇슴을 諸作家의作品을通하야 또는그에感化된靑年男女의입에서부르짓는것을듯는다 所謂더러운肉을超越하야 唯一靈에삶과갓다 그러나實際로그들의煩悶을발키며 또그들의疑問의일을詮索야본다면 아모래도우리들의 血과肉에關한問題의追究가 그發出點이되어잇슴을發見할수잇다\\n 特히處女의純潔如何의鑑定法은 多數靑年男子의듯고자하는問題이오 또한女性自身들도自己의處女性의如何를 第三者가엇더케알가하는데對하야 엇던분은興味를가지고 엇던분은不安을가지고 넌짓이알어볼랴고하는것이다 그런데이問題를발키는데는 여러가지困難이지금까지에잇고 特殊한硏究者를除外하고서는 一般사람들은普通流行하는 半엉터리소리를信用하고 그에依賴치안흘수업섯슴으로形形色色의演劇을흐수잇는것이다 딸아서만흔結婚悲劇과家庭喜劇을일으키는것이다 이것도참으로 우리가가진異常한問題中의하나이다 이問題에매어서 우리의사랑하는 젊은이들中에 그貴한피와눈물을浪費하는이가 그얼마나되는가?\\n 나는사랑하는 젊은이들을爲하야 이조그만硏究의一端을들이고십다 지금내가이處女性問題의實狀을 누구에게든지알리고심허서 大膽히붓을들기는들엇지만 修辭學에읽은美文家도못되고 群衆에게感激의눈물을줄만한說敎家도못된다한낫生物學의硏究者인 나로서는 短刀直入의記述밧게는 아모것도갓지못하얏다 아마科學的記述에길들지못한이에게는 잘알기어려울는지 모르겟지만나는지금그러케諸姊의貞淑純潔한 感情이나氣分을 無視하고侮辱할랴고試驗하는者도안이오 또한無用의猥談에 不健全한好奇心을挑發할랴고試驗하는者도 안인것은이조그만글을 끗까지通讀하야주는이에게는首肯 될것이라고밋는바이다\\n  處女性의肉體的特徵\\n古來人體에對하야 外觀上處女의與否를 鑑定함에際하야處女膜의잇고업슴이 問題가되는것은婦人의外部性的 器官이膣內腔이體外에열린 部分을먼저不完全하게가진纎弱한膜이다\\n아즉性交의 經驗이업는女子또는自慰와가튼 性交에비슷한行爲의經驗이업는 女子에게는大槪陰門의近處 內側中央에半月形의穴空을남기고 環狀의處女膜은거진完全히膣를 外界로부터保護하는役割을하고잇스나通常은最初性交時에 通症과出血과를伴隨하야 그膜은一部가破裂되고性的生活의 進捗과한가지하야環狀으로 一續된膜은左右相對하는 二列로난우게되어後에는거진그痕跡을膣側壁上에머물름에지나지못할것이다\\n  處女膜을寳玉視하는者들\\n世上에는處女膜의 有無로써處女性의是非를 말하는習慣을가진나라가만타波斯에서는新婚當夜에新郞은 新婦의身體檢査를行하야處女가 안인것을알면그新婦를逐出할權利를 가졋다한다埃及이나 스라부族間에서는新婚當夜親戚立會下에 新婦를裸體로만들어노코 處女膜을檢査하는法이잇다한다『아푸리카』의어느黑人들이나『사모아』의士人들이나『아푸랜드』人들中에는同樣으로處女의純潔을特히尊貴하게여겨서確實히그純潔의證을어들때에는그妻의兩親에게謝禮의膳物을金銀寳玉으로한다고한다이러한事實은大槪處女라는特히淸潔한幸福의生活을 犧牲으로하는 一種의人身을祭物로供하는禮式으로밧게는 解釋할수업는惡魔的理想主義者들의讚美거리로가장神聖한行事일것이다우리社會에는果然이러한習慣이업는가잇는가?\\n',\n",
       " '◇新郞新婦\\n일즉이일본미태(米澤)고공(高工)응용화학과(應用化學科)를 졸업하고 방금 의명중학교(義明中學校)에서교편을잡고잇는리용한(李容翰)군은경성보육학교(京城保育學校)를맛친 김의선(金義善)씨장녀김긔선(金箕善)양과이십륙일평남강서례배당에서화촉의례를거행할터이라더라\\n',\n",
       " '强制結婚事件의\\n新郞懲役八箇月\\n밋며누리로기른것을\\n빼앗길가봐강제흔인\\n부축군들은반년징역\\n양양군도천면속초리(襄陽郡道川面束草里)에 서밋며누리로딸을주엇다가 다시달은자에게 팔어먹으려는고로 동리 사람들이그부정한 행위를 책망한것이잘못되어 열사람이 강릉재판소에송치되엇든바 그동안오해영(吳海泳)외여섯명은 무죄방면 이되고 남은세사람이 지난이십륙일오전열시에 공판을 밧게되엇는데 본시뎡혼하엿든 신랑되는리명(李命洙)는팔개월김서봉연사룡(金瑞鳳延四龍)은각각륙개월징역에처하라는검사의구형이 잇슨후에 판사로부터오는사월사일에 판결하겟다고 선언하고 폐뎡하엿스며 죄명은강제혼인급 불법감금이라는데 일반은이러케까지 되어가는것을 크게매석히녁인다더라(양양)\\n',\n",
       " '北國巡禮記(九)\\n哈爾賓狀况\\n朴春雨\\n名節中에도쓰빠쓰게\\n이가티 名節이만흔中에도第―로치는 名節은 봄의쓰빠쓰게名節이다 이날은 예수가復活하엿다는 復活祭날이니 통쓰로이小說의\"復活\"이라는小說이잇다 이復活祭날밤에네프룹또가가주사에게\"예수가復活하섯네\"하고입을맛춘것가티이날밤子正에敎堂에서예수가復活한時刻을報하면누구든지맛나는사람마다\"主가復活하섯습니다\"하고입을쭉맛춘다 그저여긔서도쭉! 저긔서도쭉하고 입을맛춘다 作亂軍들은 일부러밤새도록도라단니면서\"예수가復活하섯습니다\"하고 平時에는敢不生心으로어림도업는 남의집貴婦人이나 處女들을끼어안고입을쭉맛춘다 길거리에서도이러하지만 집안에서도五色鷄卵을삶어놋코 떡을굽고해서함벅잘먹는다 배가든든히불은뒤에딸잇는 집에서는 싀집갈새악씨의신발을벗겨서 大門밧그로던진다 이신발이門밧게떠러저서그신목이어느곳으로向하면 그方向의新郞을求한다고한다 더구나몃해前까지는 이러케門밧그로던진신발을집어가지고 오는사람이면 新郞으로모섯는데흔이는안해잇는 新郞이생김으로인제는그런風習은업서졋스나아즉도입마추는일은잇스며 그잇튼날도떼를지어서 집집마다도라단이면서 춤을추고五色鷄卵을까먹는다\\n有望한우리學生들\\n哈爾賓의朝鮮人社會에對하야조금의希望도 發見치못한나는이곳에잇는朝鮮學生界에서 有數한秀才들을發見하고 저윽이깃버하엿다\\n어느날 이곳特別區第一中學校에서 學藝會를한다고 招待狀이왓기에 求景삼아서會場을가보앗다 會場인第一中學校는中國中學校로는 처음볼만치굉장한校舍에 各色旗를달고校門압혜는少年軍이 내려서서門券을밧는다 運動場을지나서禮堂이라는큰集會室에서는 中國사람이갓뿍드러서서 깽깽이를켜면서\"양양\"거리는데\"好\"소리가連發한다 귀가압흘디경임으로學生成績陳列室로드러가서 各學生들의成績을보는데 偶然히朝鮮學生하나를맛나서 인사를하엿다 그러나사람만흔틈이라그사람이일너주는일흠을니저버리고말앗다 漢文作文도읽어보고英語作文도읽어보고하엿스나別로神通한것갓지를안타그러나學生들이매우힘을드린것만은알수잇다 그러다가露文部에가서露文作文을次例차레로들처보는데 그中에서 第一글씨를 얌전히 쓴것이잇슴으로 나는그글씨를 다시보랴고 그冊을피여들엇다 그런데 그일흠이\"高等科金永珍\"이라고하얏기에 행어나 조션學生의글이나아닌가그러나 朝鮮學生으로 이만치露文에 熟達한사람이잇슬가하야 案內하는 그學生에게\\n이사람이 조선學生이우?\\n네‥‥…‥저입니다 당초안되어요――하고 고개를숙인다 나는놀래엇다 그래서 다시 그學生의일흠을외우면서 工夫하기에 얼마나 힘이드나? 이學校를맛치거든 꼭工業大學에들어가도록 힘쓰라고하얏드니\"글세올시다 露語가不足하야서될것갓지를안해요\"하면서 工業大學에 入學을하얏스면하는말을한다 金永珍君은 이곳生長으로 中國에入籍하야 이學校에서 苦學으로工夫한다는데그成績이 恒常先生을 놀래이게하며 人品이着實하야 동무들끼리도 그를崇仰한다고한다이學校에는 金永珍外에도 四名의우리學生들이잇는데 다들工夫에 熱心이잇다하니 나는저윽이 그들에게압길의務望을무처보앗다 그外에도 이곳工科大學(이大學은 露中合辨인데相當한學校이다)에도 우리學生四五名이잇스나 露語가不足한까닭인지 金永珍君가티 優秀한成績이업스나 女學生으로新市街鐵道學校에 다니는 金만야는 아즉도 어린아희로今年進級때에는 첫재를하야 露西亞學生들이 다울고야단을첫다고한다\\n',\n",
       " '東西南北\\n◇新郞다리먹고被調 실랑달아먹다가 욕을본 사건이또하나생겻다=시내루상동 십륙번디김수만(樓上洞金壽萬)교남동오십사번디 김동제(橋南洞金鋼齊)(三二)동리성현(李聖賢)(二六)동박남수(朴南壽)(二三)동홍순룡(洪淳龍)(二一)동김태수(金泰洙)(二五)등 여섯명십일일오후 열한시경에 시내관텰동중국료리뎜뎨일두(貫鐵洞中國料理店第一樓)에가서 기생까지불러가지고 십이일 오전세시까지질탕히 유흥타가 결국십팔원여의료리갑을 지불치못하고 무전취식(無錢取食)의 죄명으로 방금종로서에서 엄중한 취됴를밧는중이라는데 원인은 전긔김수만이가수일전에 결혼 한까닭에그와가티 신랑을 달아먹은것으로주객이 모다소지금이 업섯든까닭에 그와가티 창피를당하게되것이라더라\\n◇女學生의電車負傷 십이일오전여덜시오십분경에종로(鍾路)를떠나 안국동(安國洞)으로향하든경뎐뎨팔십구호(京電第八九號)련차가 견지동사십구번디(堅志洞)압홀당도하엿슬즈음에 주소를인천부도산뎡(仁川府桃山町)에두고방금시내모녀학교에 재학□□김대순(金大順)(一六)이라는학생이 운뎐대로부터 뛰어나리다가 모등과웃입술에 치료약을일주일을 요할타박상을당하엿다더라\\n◇달구지에□□□□ 지난구일오후여섯시경에 의주군 가산면방산동(義州郡加山面方山洞)에사는□□□□鄭□□)(三一)이가달구지를□고전의주부약죽뎡을지내다가 신의주부약죽뎡(新義州府若竹町)□번디에사는리병호(李炳浩)의아들방년네살된아희가길가온데□□□고잇는것을 치어중상케하야 피해자는 부내동양의원으로 가서응급 치료을하엿스나드듸어 무참하게 절명되엇다는바 차부홍모는 방금신의주경찰서에 구금취됴 중이라더라(신의주)\\n◇妓生의寫眞을窃取 시내인사동(仁寺洞)에잇는독성사 진관(綠星寫眞舘)에는어떤자의소위인지십일일오전세시경에박갓사진진렬장(寫眞陳列場)을큰돌로따리어류리창을산산히파괴한후액자(額子)에끼어서진렬해노흔코다란기생사진(妓生)석장을가저간사실이잇서소관종로서사법계에서는색다른도난사건이라하야방금동범인을엄탐중이라더라\\n◇土不技手의술주정 경긔도토목과 긔수(京畿道土木課技手)주정호부(酒井虎夫)(三一)란자는지난십일오후 열시경시내 본뎡(本町)삼뎡목 백접(白蝶)이란『카페』에서 술을먹든중마츰그압헤ㅅ자리에서 술을 먹든만주의과대학생세강정일(笹岡政一)(二六)을교묘한말도 꼬이어 술갑이십팔원을전긔정일(政一)에게물리게한후 또다시본뎡(本町)사뎡목『카페』일마력(一馬力)으로 끄을고가서 폭행을감행하며 긔구를 파괴하는등란폭한행동을 하는것을 소관본뎡서원이제지하려하엿스나 순사에게까지덤벼들어 양복상의(上衣)를찟는등언어도단의 란폭한 행동을함으로 결국격트후톄포하야 본뎡서로 다려다극비밀리에 엄중취됴중이라더라\\n◇格鬪勞働者送局 사월이일오전륙시에 원산춘일뎡 구로국령사관압헤에 함남로동회통운조(咸南勞働會通運組)와 윤봉선(尹鳳善)과격투한로동련합회선계조(船契組)원김순복(金淳福)(四一)은 그동안 원산경찰서에서취됴중이든바 작십일일에 검사국에 송치하얏더라\\n◇二八靑春의自殺屍 충북진천군진천면 읍내리에 사는장복동(忠北鎭川郡鎭川面邑內里張福童)(二八)은본시살기가 극히 곤궁하야 살길을차즈랴고남의집에가서 고용사리도하고 이리저리하야 근근히모하논 푼돈으로과부장가를들어살되녀자의품행에 방정치못함을 유감으로생각하든 끄테마츰자긔녀동생의집에가서의북기타패물등속을절취한일이잇서서이사실을발견한자긔녀동생이 달려와서 자긔에게는가부를뭇지아니하고자긔마누라만따리는것을보고는쓰고단것을말하지아니하고외출하여해가저물도록들어오지아니하나이날은마츰장날이라술이나먹는줄알든집안사람들은의외로목매어자살한것을발견하고즉시공의를불더응급수당을 베풀엇스나 이미절명한지몃시간이됨으로청춘익고혼이되고말앗다는데 때는봄소식을재촉하는사월구일오후오시경이엇더라(진천)\\n',\n",
       " '新郞이상놈이라고\\n結婚式塲에서破婚\\n영일군청하면에서생긴일\\n\\n경북포항산하뎡(慶北浦項山下町)김모의둘재아달김모(金某)(三二)와청하면남면리(淸河面南面里)김모(金某)의족하딸모와결혼하기로 결뎡이되어 지난십삼일을성혼 례식일로□ 하고신부집에서 신랑을마지랴고 미리부터준비를 하엿스며 신랑편에서도당일 모든준비를 하여가지고가서성혼 례식을거행 하려할지음에돌연히신부집에서일대풍파가일어나서 례식거행을 거절함으로부득이 신랑은 하는수업시자긔집으로 돌아오게 되엇다는바그내용을 됴사한바에 의하면신부의친척되는 모가 신랑을딸아온 신랑의실형을 보더니아모리세대가 변천이되엇다 할지언정상놈인줄알고는 노부 노자지간에혼사를 할수업다고 야단법석을처서 그만례식을 거행치못하고즉시 돌아오게된것 이라는바신랑편에서는 중매를 하기도신부의실모가 직접한것 만큼상당한법률문뎨를일으키랴한다더라(포항)\\n',\n",
       " '오늘의新婦\\n李應洙\\n아지랑이의面紗를몸에휘감고서\\n微風의新婚曲에거름을맛치어거륵한선물 괭이를정성스레메고나온\\n오—흙의新婦인農軍은 式場인드을로나가도다\\n   ◇\\n내려퍼붓는山川 草木의우렁찬祝辭아래\\n新婦는가지고온 선물을몹즉히처들어\\n쿵!하고잠드른地靈을 요란이도울려놋나니\\n이는新婦와新郞의 거룩한첫날밤일이러라\\n   ◇\\n갈길일코헤매는이날의生命\\n번뜻한眞理에 배밧아터덕이는人類는\\n지금우리新婦의 이쿵!하는첫날밤音響속에서\\n오늘의아들인 來日이생겨나도다\\n',\n",
       " '◇新郞新婦\\n李范宰氏從侄\\n德承君과李源祥氏長女玉珠孃과의結婚式은來八月一日(陰六月二十六日)午後一時부터市內貞洞第一禮拜堂에서金永爕氏主禮下에擧行하리라더라\\n',\n",
       " '歷史上으로본朝鮮\\n女性의社會的地位\\n(二)\\n文一平\\n 女權이 男權으로推移함에는긴歲月을 費한것이다 男權社會가된뒤에는 女權이消失하엿지만 오히려그痕跡은녯날迷信과習俗가튼것에 關聯하야後世에오래ㅅ동한남아잇게되는것이다 正史는아니나저許氏世譜에駕洛王의 아들七人中 一人은그어마니를 繼承하야許姓을稱하게되엇다함은 비록이것을그대로밋을수업다하더라도얼마큼母系時代의遺風을 傳하는것으로볼수잇스니母系時代도말하면아들이아부지를繼承하지아니하고어머를繼承하엿슴이다 高句麗에서는\\n子女約婚만되면女家에서사위를맛기爲하야 집뒤에 조금마한새집을 세워 婚姻날저녁에 新郞은新婦의 접으로가서그門밧게 꿀에안저自己스스로自己이름을 세번이나불녀房안에들어감을빌어 女家의許諾을어든뒤에야비로소 男女가同衾하야 夫婦의關係를 맷게되엇는데 아이나흘때까지는 新郞이新婦의집에 同居하다가아이를나아 길너가지고야 新郞의집으로 新婦를더리고갓다 이것은 女性中心時代에잇서男性이女性의집에들어가同居하든遺習이 男性中心時代에와서도依然히 殘存한것이다 婚姻은어느特定한男女사이에 性交를獨占또는永續하기爲하야 생긴것으로 그것이個人的으로부터漸漸社會化함에이르러는 各自의身分을딸아또는富力에應하야닐은바門閥婚姻과\\n財閥婚姻이行하게되어愛情과는저절로 멀어짐을보게되엇지마는 婚姻이아즉制度로서固定되기前에는 夫婦의選擇에對하야 因襲의障害를적게밧든이만큼 個人의自由가잇섯던이니高句麗의婚姻은 대개男女가서로즐겨한뒤에 일우엇섯다이것이오늘날眼目에는男女私通으로써 正式婚姻의豫備條件을 삼은것가티보이나 그때에잇서는그런것이아니다 오즉兩性사이의戀愛를가저 婚姻의根本的要素를지엇슴으로 이처럼된것이다 그때宮中과民間을通하야별별로맨쓰가 만히생긴것은 男女가서로戀愛의自由를 가졋슴이다 다른것은그만두고한절반小說化한平原公主의일로만 보자그가高貴한몸으로 金殿玉樓의富貴榮華를 헌신짝버리듯이하고서오즉自己의憧憬하는\\n理想的戀人을渴求하야長安城달알에와 樂浪丘꼿사이로해매다가 畢竟바보溫達을맛내여聖愛의新家庭을 建設한것이아니냐世上사람들은 溫達을바보라고嘲笑하야 이가튼綽號을부첫스나 公主의눈에는戀人으로보앗슴으로 그를남편으로定하엿슬것이다 勿論이것은自由婚姻이오 꼭私通으로치지는못할것이지만 三國當時에는私通도그리허물하지아니하게쯤男女關係가 寬大하엿든때문에 柳花夫人과 解𦿹潄의사이와 文姬王后와 金春秋사이와 萬明夫人과 金舒玄의 사이에 사사로이 즐겨함으로 말미암아셋분이모다 偉人의아들을 잉태하엿슴은歷史上有名한일이어니와그러나 婚姻의制度를 넘우나重大視하야 그의儀式에依하지안는 私通가튼것에對하야는\\n最大罪惡으로取扱하얏스니高句麗의宗國인扶餘에서는 私通한男女는조금도容赦업시 死刑에處하엿섯고 더욱妬忌하는婦人에對한 刑罰이酷毒하야죽인뒤에도 그尸體를扶餘國南山우에 버리엇다는것을보면 性的關係에잇서法律的裁制가女性에게만偏重함은 반듯이後世의일이아니다 이때발서男性의專制가 法律을 만들어가지고女性의貞操를 絕對로要求한것이다\\n',\n",
       " '女專門生의求婚條件\\n▼‥‥讀者와 記者——이關係는 密接치안흘수업습니다密接안으랴야 안흘수업습니다.이것은다시說明치안흐럄니다만은 그러나 여러분讀者와 讀者사이는엇더함니까密接하야도 조금도害로울것도업고 또密接하여야만할境遇가만컨만은 面識업는 여러분이 接觸할機會를못가짐은 우리生活의各方面으로 向上을圖謀하는데에적지안흔損失을消極的으로밧고잇는形便입니다.\\n▼‥‥우리는 이러한遺憾을더러보자.新聞이라는公器를利用하야 讀者와讀者사이에 親交부터 터보자.그리고조금이라도 有益한討議를眞實한態度로 交換하야보자.그리하야 우리의生活을 內的또外的으로向上시키고 健全히하기爲하야誠心과友愛로서로잇끝고나아가자.이러한‥‥생각으로本欄을여러분압헤 선사하는바임니다.\\n▼‥‥그러나 여러분끼리紙上으로親交를맷고 赤熱또白熱한討論을交換하시드라도 紹介者가잇서야할것입니다.여기에 記者는 그仲媒가되려하는까닭입니다.그럼으로그所謂『프리슴——Prism——三稜鏡』이라는 題目을 내어걸은것입니다.\\n▼‥‥그러면 우리는 이와가티 圓滿한三角關係를 긋게매저 今□한層더和氣靄靄한氣分과 眞率된마음으로우리生活中 不平,不合理,不整頓,不健實한諸點을서로議論하고提醒하고改善하야가토록 奮發하고努力하야보십시다.\\n朝鮮! 經濟的 社會的으로破滅을當한朝鮮에잇서 專門學校卒業 더구나 從來의傳統的惡習慣으로 推測하야 朝鮮女性으로 專門學校를 卒業하게된다하면 누구를勿論하고 그야참말훌륭하다고 讚美할바이다그러나 今日朝鮮社會의要求는반드시그러타고할까?從來의모든傳統的惡習을버리고 적어도家庭的 社會的 經濟的모든方面에잇서서新敎育을바든新女性을渴望하기는하지만 반드시專門智識을要求한다고는생각할수업다 더구나 그것이 媤집가는미천이나 자랑거리라면學問을侮辱함이나다름업는일이다그런데여긔한女性이잇다 市內××洞에살며〇〇專門學校最上級에 在籍中이니 出嫁할老處女임은勿論이다 그래서 그叔父는그의將來配匹을求하는데반듯이大學生이어야하되 自己侄女를적어도專門學校까지맛추게하엿슨즉 新郞될사람은 幾個年間議務的으로 自己家庭을補助하여주어야한다는等 條件을붓친다 그래서 通婚하든者는太半이나 다退字맛는모양인데엇잿든그德에그女子는여러男子들과面會하느라고奔忙한貌樣갓다 하나그들이要求하는條件을考察하여볼것가트면 그家庭이中流以上生活을하니 補助를바더야만할形便도아나다 이것은結局 敎育이무엇인지理解못하는것이며空然히眼高手卑하야漫心만드른탓이라고하겟다\\n그들은敎育과金錢을同一視한것이다 敎育의本質은 적어도社會的要素와要求에適合하지안흐면안되겟다 그러나그는姑捨하고萬一그들이그要求에 絕對로服從하는者가업다면 그女子의前途가엇더케될까?元來男女를勿論하고 專門敎育을밧자면적어도中等程度의 生活은하여야하겟지만 그러치못하야 僅僅히 大學아나 專門學校쯤마친男子로서 俸給生活이나하는者면야 이런女子와는到底히結婚할수도 업겟지만 그러치안하 富裕子弟기로 안해될사람의以前敎育費까지무러가며 結婚할놈은업슬것이다 敎育을商品視함도分數가잇슬일이다 都大體반듯이 專門敎育바든女子어야 살림을 잘하는것인가?우리도 運數조하 大學은마치게되엇지만 차차생각좀해볼일이다(市內一大學生)\\n',\n",
       " '부인문뎨강화\\n(20)\\n녀자시대의권력\\n◇太初의女性………\\n李周淵\\n부권확립(父權確立)으로부터생긴 녀자압박의 력사적구체적현상(現象)을 일일히적발(摘發)하야 남자 횡포의 죄악을 폭로하고 녀지해방운동(女子解放運動)의구체적 목포를세우는것이우리의임무(任務)임니다만 지금엔 그순서가아님으로 잠시뒤로미루우고 력사상에나타난 녯날녀성들의 긔괴(奇怪)한습관과집단혼으로 부터 일부일부제도확립에 까지이르는사이에 과도적(過渡的)남녀관계를 좀이야기하고 너머가겟슴니다 가리포두니아반도(半島)에사는토인들은\\n 각종족이 한곳에모혀성대히거행하는 제례(祭))가잇는데 그제례때에 한하야서만각종족남녀는무차별의성교(性交)를행한다 하며 오—스토라리아와인도와 아푸리까의 멧멧종족에게도 이런제례가잇서 성교무제한주간(性交無制限週間)이되고잇섯스면 이때에는 과거의자유성교를 회상(回想)하고 소년소녀들은 마음대로 즐거워하얏담니다 고대빠레아릭그도(島)에사는 종족과 아푸리까의오—지라족들은 신랑 신부(新郞新婦)가화혼례식(花婚禮式)을거행한 그첫날밤에 신랑의동무들과 친족들과주례자(主禮者)들이신부(新婦)에게대하야 순차로신랑(新郞)의권리를행사하고\\n 정말신랑 은맨마지 먹으로 차레가도라온다하며 아비시니아의 빠세족들은 지금도이풍속을지키고 잇다함니다 또아라스까의토인과 메끼시꼬의 다 후족들은친우(親友)와친족(親族)급주혼자 일난(一團)을대표하야종족혹은 씨족의장(長)이나추장(酋長)승려(侶憎)한사람이신부에게대한 초야(初夜)의권리를 행사한다는데 지금도이풍습이잘 직혀진담니다 게루도족제국에는중세(中世)까지농노(農奴)에게대한초야권(初夜權)이지주(地主)또는 집권자(執權者)들에게 잇섯다 하며 처녀가성숙긔(成熟期)가되면』미리다』신전(神殿)에참예(參詣)하야거긔에서 성교를 자유로하야처녀성(處女性)을\\n 희생하얏 고멘휘쓰와애급에 잇서서도 이런습관이 잇섯고 이것은한종교적(宗敎的업숙한의식(儀式)이엇다합니다리비아의 처녀들은 결혼전에어떤남자에게던지 몸을허락할 자유가잇섯스며 몸을허락한 보수(報酬)를저축하야혼자(婚資)로하얏다하며 애급의 어떤왕의딸은 이러케어든혼자금(婚資金)이엇지만헛든지『비라밋뜨』를세운일도잇담니다 아까 초야권에대하야 말슴한데한가지 이젓슴니다 임금이(王)만일결혼한다면 초야권행사는 최고의 승려(僧侶)가하얏고 왕은그승려에게 례물(禮物)을 두터히하야 사의(謝意)를표하얏다하며 그때승려와 추장들은\\n 이초야권 행사가 공무(公務)중에 하나이오 밧뿐사부엇다함니다『엥겔쓰는』이것을집단혼의 유풍(遺風)이라고말하고『웨스다—마—쓰』는동물(動物)들의 본능뎍으로가지고잇는교미긔(交尾期)의현상과가튼현상이라고말하얏고『베—벨』은모권제도의 유풍이라고 말하얏습니다 베—벨의 설명에의하면녀자가 가진고귀하고 자유로운신성(神性)을 결혼후 한남자에게바치게되는것은신(神)에대한범죄임으로 엇더한 일정한시긔에다수 □남자를 상교(相交)한으로처녀성을 파괴한후 일정한남자에게 몸을밧치는것이 신(神)에게대한 속죄(續罪)방법이라고하얏스며 녀권시대가 남권시대로 변천하는때에 이러난\\n 녀권시대 의유풍이라고하얏습니다 엥겔쓰는 이보다좀다己게 생각하얏습니다 일부제의요구는 당초 남자의요구가아니라 녀자의 요구엇스니집단혼이파괴되기전 야시대(前夜時代)에남자의 성뎍횡포가 심하게되고 녀자는굴종억압을 당하게됨에녀자들은 자신을 구제하는방법으로 나에게는 정조가잇서야하니 여러남자한태 무제한□게몸을 허할수업다는 요구를제출하게되고 일신뎍 일부일부이나마대우혼으로 녀자의 권리를찻게되엇스니압헤말슴한따위풍속은유쾌하던녀자공유로부터제지(制止)를 당한남자들의설원(雪怨)뎍행동이라고 말하얏습니다\\n',\n",
       " '新郞新婦탄\\n自働車顚覆\\n승객의부상\\n三週日以上治療\\n지난십팔일 오후한시경에 횡성군문재(橫城郡門峙)에서자동차가이십여간이 나되는 낭떠러지에떠러졋섯다는데 탐문한 바에의하면평창군 대화면 대화시장(平昌郡大和面大和市塲)에거주하는리재원(李在源)의장실창호(昌鎬)(一九)가 평창읍내지가 자동차부강원도뎨이백십륙호(平昌邑內池家自働車部江第二一六號)차를 대절하햐가지고횡성군상안흥(橫城郡上安興)에가서장가를들고 신랑신무와 승객들이타고운전수김학귀(金學龜)가조종하야 가지고 도라오든중전긔횡설군 문새라는재에서 그만전복되어승객들은다행이생명의관계는업스나 치료삼주일 이상의중상을당하엿다는데전복된원인은운전수의부주의인듯하다더라\\n',\n",
       " '藝術과□□□쓰\\n\\n高句麗의稀□\\n歌詞□□□□歌\\n月下氷人\\n□一平\\n高句麗는 武에잇서□□□□□의羅馬가아니라 文□□□□□東方의希臘으로 볼□□□□□만愛惜한것은 모□□□□□□자최를 잘남기지□□□□□□오늘날에와서 그□□□□□□어럽게된것이다 □□□□□□내임으로말미암아□□□□□와 壁畵의靈彩□□□□□□□눈압헤 나타나 □□□□□□畵 建築의一端□□□□□□□주지마는 이□□□□□□□□뭇친遺蹟을가□□□□□□□어떠한것을□□□□□□□□□□□全滅된것을 意味하는□□□□고 무엇이냐 다른것□□□□고\\n一萬餘戶나되는□□□□安城에 얼마나 훌륭□□□荷와 神祠佛寺가잇섯□□□□建築에關하야는 九□□□□宮 水晶城가튼멧멧□□□□할뿐이며 그他繪畵□□□□關한것은 일음조차□□□□하는것을보면 思過□□□□ 얼마큼固定性을가□□□美術이 그러하거든더□□□□□ 詩歌에 이르러는말할것도업슬게아니냐\\n 그럼으로 高句麗사람의그우렁차고도 아름다운七百餘年동안의文化生活을通하야 藝術과『로—맨쓰』를더듬을때 이미純然히漢詩化한 琉璃王의黃烏歌한수와 절반이나 小說化한溫達婦의戀愛談한장이 어찌다가偶然히三國史記에 남어잇슬뿐이며 그리고高麗史俗樂志를보면 高句麗의樂曲중에\\n溟州歌란것이\\n잇다그러나 정작 알맹이되는노래는웬셈인지 적하지아니하고 그노래가 생기게된『로—맨쓰』만 적혀잇스니 그의내력으로말하면 알에가트다\\n溟州(江陵)에 한어엽분處女가잇는대 그이웃에잇는 어떤靑年이處女의美貌를보고사랑하는마음이간절하야 여러번艶書로써 달내엿스나 處女는종내듯시아니하야 갈오대 이런큰일을 함부로할수업슨즉 그대가공부들맛치고立身出世한뒤에 父母의承諾을어더서 結婚하는것이더욱조치안흐냐고함으로 靑年도이말에는깁히感動이되여곳서울로가서 學問에힘을써아모조록 立身出世할공부만하고잇섯더니 그러는동안에\\n歲月은떳업시\\n가게되어處女의나히相當히먹엇슴으로그父母가 다른사람과婚約을매저 不日間에 禮를일우려고하엿다\\n이때處女는 몹시苦悶이생겨어찌하면 조홀가하고 생각하다못하야 편지를써서집압헤잇는못(池)에 들엇드리면서 그못고기에게 對해서하는말이 내가 지금까지 너희들를 멕여길럿스니 너희들도 내뜻을 알터인즉 이편지를 傳할곳에傳하라하매큰고기하나이 못우로뛰여올라 던진편지를 슬몃의물고못속으로 다시들어가더니그뒤에는 아모消息이업섯다그後몃츨인가되어 그고기가\\n漁夫에게잡혀\\n서울어느生鮮가가에나타나게되엇더니마츰그近處에서 工夫하고잇든 靑年이客地의소위소증을못니겻든지 생선을한마리사다가 손소料理를하랴고배를갈으고보니비단한소각이나오는지라 희한히여겨펴본즉갈데업시寤寐에니치지못하는意中之人의筆跡이라 엇잿든이로말미암아 그사랑하는處女가 父母의嚴命으로 다른男子와 이미約婚하고未久에花燭의典을 올리게됨을알게되엇다 그男子는 크게놀래어 곳處女의집으로 달려가서본즉 발서婚約하엿다는新郞이 장가들려고와잇는지라이에 그靑年이 가지고간그편지를보이고 넘우나感激하야한章노래를 불러自己의曲盡한情懷를 哀訴하니 處女의집안사람들도크게感動하야 이것은精誠이 至極함으로써 하나님의 니투게 하심이라하야 그新郞을쪼차보내고 이靑年으로마츰내 사위를 삼엇다하는것이다\\n이것이 비로歌詞는傳치못하얏슬망정所謂『溟州歌』라하야 後世에傳한 高句麗時代의『로—맨쓰』다 또한비록 그藝術味는업다할지라도 그當時에는所謂民衆藝術的形式으로써 그歌詞나說話가 巷間에넡리流行되어衆口에 膾炙되엇슬지니 또한高句麗時代의通俗藝術의殘影이라도 이로써 엿볼수잇다면筆者도 또한欣幸으로아는바어니와 정작알명이인\\n歌詞가업슴은\\n생각할스록痛情한바이다 다만斯道에留會하는분이잇서 今後에 이허잘것업는 一片『로—맨쓰』를다시살리어 珠玉의文章을 우리文學上에 깃든리기를바랄뿐이다\\n',\n",
       " '中國新詩槪觀(三)\\n丁 來 東\\n 古文即文言은 朝廷의文書와官吏登用하는데 試驗課程即科擧에썻섯는故로 自然貴族文學의用具가되고 白話는民間의用語임으로 自然平民文學의表現用具가되어왓섯다 貴族文學의特長은 虛飾 典古 形武 整齊 理智的인데잇고 平民文學의特長은 率直 簡潔 粗朴感情的인데잇슴으로 참다운詩와文學은 平民文學即白話文學에서求하게될것이다 그러면中國自來의白話詩는 엇더케發達하야왓는가 筆者는 歷史上의年代에따라大槪記錄하여보겟다\\n 中國上古詩歌의元宗으로는三百篇을除하고 別로다른詩가업슬것이다 이三百篇은 擧皆가소리내서노래로불을수잇는詩요그中에十五『風』共一百六十篇은民間에서불으든노래로볼수잇다이三百篇은 全部를나白活로볼수잇스며 三百篇後로헐신만흔時日을지낸後 中古에일으러서도 萬古의名作으로일홈잇는古詩十九首랄지 孔雀東南飛 隴西行 箜箜引 東門行 婦病行相逢行 艶歌行等도 모도다白話안인것이업다 只今漢朝의詩를들어서 白話詩가엇더케詩로서成功을하엿는가보자\\n『上山釆蘼無 下山逢故夫 長跪向故夫新人復何如?』『新人雖言好 未若故人妹 顔色類相似 手瓜不相如 新人從門入 故人從閣去 新人工織縑故人工織素 織縑日一匹織素五丈餘 將縑來比素 新人不如故\\n 이詩는 農村의夫婦三人을描寫한것이다\\n只今으로말하자면 本妻를離婚하고 新婦를再娶하야 새家庭을꾸미고잇는터인데 新郞이그前妻에게 새님이암만하여도녯님그대만못하다고告白하는場面이다 그用語도簡單하고 그事實도簡單하지만은 얼미나그實景올아름납게그리어내엿는가이外에도孤兒行과가튼率直하고簡潔한詩即抒情時가만코『孔雀東南飛』와가튼詩는 只今도시골서는 자조보는情景이며 그用語의簡明한것이나 그描寫의現實에接迫한點으로보면 中國詩中 絶作의하나라아니힐수업다\\n 魂晋南北朝로갈닌後로는 南方과北方의文學上特異한點은잇슬망정 亦是民間文學即白話文學을어더볼수잇고 甚至於貴族文學에서도 白話로짓는作品을어더볼수가잇다 即北魏胡太后가 그情人楊華를爲하야지은『楊白花』歌와가튼作品이다 北方으로말하자면 企喩歌 莫客座歌 隴頭歌 折楊柳歌 木闌等詩歌가잇고 南에서는『樂府』속에잇는 子夜歌 上聲歌 前溪歌 團扇歌懊儂歌 華山畿等詩歌가 다白話詩로볼수잇다\\n 近古即唐宋金元에와서는 韓愈 柳宗元等이 古文即文言文學에新天地를얼어서 古文全盛時代로볼수잇스나 또한白話文學의方面으로보면 亦是全盛時代로볼수잇다 이때에일으러서는 비록民間無名作家의作品의傳한것이적으나 李白 杜甫와가튼大詩人이잇서서 民間의作品을修飾하야 發表한것이만타\\n 只今 胡適氏의貴族文學과平民文學의盛衰表를抄記하면如左하다\\n初唐 約西歷六二〇年至七〇〇年\\n貴族文學의時期요 平民文學의勢力이업는時期\\n盛唐 約西歷七〇〇年至七五〇年\\n文學이白話化한時期\\n中唐 約西歷七五〇年至八五〇年\\n白話文學이風行한時期\\n晩唐 約四歷八五〇年以後로三代에이르기까지\\n白話文學의全盛時期\\n 이와가티白話文學은發達을하여왓다 우리는唐代의白話詩의例를一二首들어보지\\n空山不見人 但聞人語響 返景入深林 復照蒼苔上(王維)美人在時花滿堂 美人去後餘空牀 牀中繡被卷不寢 至今三載猶聞香 香亦竟不滅 人亦竟不來 相思黃葉落 白露點靑苔(李白 長相思)二月己破三月來 漸老逢春能幾回 萬思身外無窮事 且盡生前有限杯(杜甫絶句漫興九之一)\\n中唐에일으러서 柳宗元 張藉 孟郊 賈島等의詩는 白話에만히接近하엿고 白居易와가튼詩人은 意義的으로白話詩를지엇섯다\\n',\n",
       " '婚禮式傷에서\\n新郞이쫏겨나가\\n팔하나업는것이발각되어서\\n賃銀勞働者의末路\\n농촌에서는 겨울의 한가한때를리용하야 질혼식이 사방에서열리는터인데 그가운데는 희비극이이따금 연출되는바 지난이십구일에 전남령암군 령암변회문리(全南靈岩郡靈岩面會門里)에사는 김희수(金喜洙)의집에서는례식을 맛추고 주연이배풀어오고가는 술잔에는 인간일생의최고의 환희가 뛰고몰때신랑의오른편팔이 고무팔임을 신무의집에서 발견하자 환희의례식장은신부밋가족들의 통곡성 으로변하야일대 풍파가이러나게 되엇다는 회유한 사실이잇섯다는바 이에그자세한바를 탐문한바에의하면 전긔신랑되는 사람은강진군옴천면왕곡리(康津郡唵川面旺谷里)에사는정운집(鄭雲集)의아들 정태봉(鄭太奉)(二一)으로 일즉히가세가 넉넉지못하야 고향을떠나 멀리바다를건너일본의 로동시장에 몸을던저임은로동자로 어느 긔계공장에서그날그날 품과리를하며 한푼두푼을모와가며 생명을 부지해가는터인데 불행히도 빨리도라가는운전긔에 오른편팔이 들어가상처를내인후 할수업시 병원에입원치료하다가 결국 그팔을자르고 고무팔을 해대에되엇다는바 공장주가 위자료라고하야 일금륙백원인가를 전긔정태봉에게 주면서 환고향하야그로써 생계를도모하라고하여 그돈을바더가지고 환향하게 되엇섯다고한다 그리하야 그돈이잇슬때 성혼이라도이두려고 그집안에서는 이곳저곳혼사를 구하엿스나 그역팔이하나어는 소치로뜻대로 되지안는터에 할수업시그팔이 잇는모양으로 속이고라도혼처를구하지안흐면안될형편이엇다고한다그리하여전긔령암군령암면회문리에사는 김회수의딸 김크내기(一九)(假名) 에게질혼의 약조가성립되어 만반의준비가다되어 지난의십구일로혼례식을 거행하게되엿섯다한다 이날이당하며 낫에는사람들에게 자긔팔업는것이 세상에들어날가뵈서 해저믈기를기다려밤여섯시반경에 인력거를타고와서 불을켜고 신부의집마당에서 혼례식을 거행하게되엇다고한다 그리하야 일단례식을맛첫슴으로 저간안심을하고 주연이베풀어 음식을노나먹을 참에왼팔로써 음식을먹음을 이상이생각하여모다주목하여보든차에비로소팔이업고 고무팔임을 알게되자 신부를비롯하야 가족들이울고불며가라고하거니못가겟다고하거니 일대풍과가 이러나게되어 동리사람이 하나둘식모히어 일시혼삽을 이두게되게할수업시 신랑되는 정태봉이는봄비가티내리는 요사히 장마비를마저가며자긔희긔구한운명을한탄하면서도다갓다는데압흐로이문제가 엇더케천개될는지 일반의이야이거리가되엇잇다더라\\n',\n",
       " '婚禮식날에\\n新郞이업서\\n전남진도군진도면교동리(全南珍島郡珍島面校洞里)랑민옥(梁仁玉)의누의 동생(一九)은가튼동리(洞里)박윤(朴允萬)의장자옥준(長子玉俊)(一九)이와 약혼(約婚)하야지난이십일일을 혼례식일(婚禮式日)로정하고량편집에서는만반준비를다하고혼례식(婚禮式)을거행(擧行)할터인데신랑인옥준은일본(日本)에두류(逗留)하여혼례정일(婚禮定日)에도돌아오지안허서 그날이저물매량편은 다실망하야 일본에잇는신랑의 주인집으로 다시전보조히를하는등일대소동(一大騷動)이일이낫다는데 살□히지난오일까지신랑옥준 □□□□俊)은돌아오지안허서□□ □□중이라더라(진도)\\n',\n",
       " '나어린同生의\\n新郞이其妙와結婚\\n동생이신랑의정을몰러\\n신랑은고형과관계하여\\n早婚이나흔喜悲劇\\n함흥군주서면십일리(咸興郡州西面十一里)최×하(□×河)(二三)는거금사년전 삼평면 대흥리(三平面大興里)홍긔순(洪基淳)씨의다섯새딸고분녀(古粉女)(一五)에게로 다릴사위로갓는데나먹은 신랑이 넘치는정은만흐나어린시악시가 철이 나지못하야그정을 바더줄줄을 모르매은근히속을 태우며 지내오든중전긔시악씨의 형되는어인녀(於仁女)(一八)와 눈이마저남의눈을속여가면서 은근히사랑을 속삭이며 장래까지 기리맹서하엿스나부모들이 승락하여줄것 갓지안음으로 가만히 장모되는전긔흥긔순의인장을 위조하야 자긔와어인녀와의 혼인신고를 제출하엿든 이것이발각되여 고소를당하야 방금함흥서에서 엄중한취조를밧는중이라더라\\n',\n",
       " '紙上陪審\\n▲官製葉書를使用할일▲行文은極히簡單明白할일▲表現어『紙上陪審』이라明記할일\\n 本人이四年前에어떤洞里에四四千坪假量을買受하엿는대田周圍에松木數株가잇슴으로本人에게對하여서는農作物에恒常損書가잇삽기本人居住하는郡廳에伐木許可願을提出하엿든바該洞里人民들말이其松木은數百年前松木이라고하며迷信的으로伐木하면洞里가害를밧는다云함으로郡廳에서는躊躇하오니如何히手續울하여야伐木할까요洞里에서는其松木을洞里所有라고함니다만은完全히本人所有田內에잇슴니다(朔州沓沓生)\\n 伐採許可가有하면伐採할수잇슴나다自己田內에有할지라도洞里所有될수도잇슴니다證據問題이외다(辯護士李宗聖)\\n 一,本人의父親名義로山林이잇든中父親이死亡後相續을하려하온즉姓字가誤記되여相續할수가업사오니엇더케해야될가요父親生存時에도誤記되엿던것임니다\\n二,甲乙의宗稧土地가잇든中乙이幼穉하와甲의名義로하엿드□至今은乙이長成하햐共同所有□義로하자하온則甲의말이나의獨所有로乙과共同定名을할수업다하와乙은차질道理이업사오니엇더한計策을가저야乙이차질수가잇슬까요\\n        (兪應穆)\\n 一,面長의同ㅡ人證明 을添付하야相續登記를히시오\\n二,共有登記請求訴訟을하시오\\n     (辯護士李宗聖)\\n 甲이七八年前에집을改築하면서乙의집웅을덥허지엿는대그후三四年後에乙의집을本人이삿슴니다이것을法律上으로論하오면甲의집이엇떠케됨니까\\n      (舍人한사람)\\n 侵害된部分의建物取除請求할수잇소(辯護士李仁)\\n 甲乙間刑事告訴에乙丙이相論한事實을丙이甲에게가서乙이甲을毁損한말을全部密告하얏슴으로告訴에原因이된바乙이否認하는同時甲은丙을證人으로呼出하얏는대丙은甲의告訴에依한事實과如히立證하엿슴에甲은그證言을否認하고偽證으로丙을告訴한 □이니法律上甲에立場이可힙니까甲乙間民事訴訟에丙을證人으로呼出하엿는대丙은甲乙間債權債務授受하는金錢去來에對하야正當去來와不正當去來兩件을다보왓는데現在裁判廷에提出되여잇는借用證書에借用年月日이正常債權이기로正當債權이라證言하엿스나額數가不合함으로年月日은正當債權비슷하나額數에對하와는否認하엿는대甲乙이다丙을僞證이라主張하니法律上위증이됨니까(一願生)\\n 僞證罪는證人이眞實괴相違되는事實을故意로陳述한境遇에成立됨으로事實이相違될지라도故意가아니면僞證罪가되지안슴이다(辯護士李宗聖)\\n 本人이異常한事情에依하야數年前에當地酒家에賣身되어酒母가되어오든中姙娠을하얏슴니다그러나밤이면꼭제時間대로酒를파러주는데主人은姙娠時부터十個月間은每月除하고주는雇灸을計算하여주지안노라하오니그런法律이잇는가요(蓮仙生)\\n 姙娠中이라도營業을繼續하엿스면所定의給料를請求할거이외다(辯護士李宗聖)\\n 本人이渡日하야 三四年間民住타가 朝鮮에本妻가居하지만 不得己한事表으로 日女와約婚하엿는대 法律上何等關係는업슴니까?\\n□□其日女와結婚하고 婚姻申告하면 許可될까요?\\n      (京都愛讀者)\\n 約婚만은 關係업스나婚姻申告는못함니다\\n      (辯護士李仁)\\n 本人의家屋에約一個月前에房二間에한개式窓을내엿슴니다(그窓은隣家의뜰에向하엿슴 뚤을때隣家主에게承諾을어덧슴니다그時承諾한家主는家屋에貨틀들엇기때문에)今日에至하야本家主가와서窓을막으라함니다꼭막어야할까요안막어주어도아모關係업슬까요(그窓으로그집안을들러다보지는안소)\\n         (H生)\\n 境界線으로 三尺未滿의距離이면 遮面을設함을要하며三尺以上이면關係가無하외다\\n     (辯護士李宗聖)\\n 一,小生이月前에田을買受하옵고 所有權을移轉코저하얏삽더니 田主는死亡되엇사오나 死亡申告를하지아니하와戶籍上主者로되엇사오며 其兄이잇고母가잇슬뿐其父도死亡되엿슴니다 그러나田主가未成年者이오니 엇더케하면移轉할수잇슴니까 又는其兄을代理로印鑑證明을하야 移轉할수업슬가요 又其兄을後見人으로定하고賣買契約을하얏는대未成年行為를取消하오면무효뇌지안홀가요\\n 二,家屋을甲이乙에게買受하고家屋을뜨더서오기랴하오나賣主가行光不明이되옵고祠堂을느어채웟사오니엇지하오면조켓슴니까(騶州困難生)\\n 一,後見人이親族會의同意들得치아니하고未成年者의不動產을賣渡한時는後見人은賣買契約을取消할수잇슴니다取消치아니할時는死亡者의遺產相續人에對하야移轉登記를請求하시오遺產相續人도死亡者의子妻母의順序로됨니다\\n 二,乙에對하야家屋明渡訴訟울하야判决로執行하시오\\n     (辯護士李宗聖)\\n 二年前에父母의任意로\\n甲男과乙女가約婚되엿는대乙女는恒常不滿한點을품고잇섯스나舊式家庭에서意思를發表치못하고잇섯는대最近에와서結婚期日이决定됨으로더욱이不快하야父母에게甲男과破婚하여달라하엿더니 父母도乙女의마음에從하야甲男과破婚하엿는대 甲男은禮物(옷감)을準備하엿다고損害를請求코저하오니請求하면損害를물어야됨니까또破婚에對하야는法律上關係가如何함니까\\n     (咸南에一讀者)\\n 事實發生된損害라면多少間支拂하여이되겟소法律上으론新郞된者가慰藉料도請求할수잇소(辯護士李仁)\\n',\n",
       " '偉人의\\n私生涯(9)\\n目不識丁의\\n商賈의子로쉬\\n世界大文豪가된沙翁\\n自笑生\\n 希臘의『홈어』伊太利의『단테』獨逸의『궤테』와함께 世界四大詩人으로곱는 英國의『쉑쓰피어』는『엘리자베쓰』王朝의 盛運을 象徵하엿다 英國사람은그를얼마나崇仰하고 渴慕하는지『머늬빡쓰』인印度을 내어놋는限이잇슬지언정『쉑쓰피어』는絶對로내어노흘수업다는 一語에依하야 넉넉히짐작할것이다\\n 『쉑쓰피어』에對하야 實在人物이아님을 말하는이도잇스나今日에는 거의一笑에부침으로여긔서問題를 삼지안키니와그는千五百六十四年四月\\n倫敦에서\\n愛蘭으로가는海岸의小邑이『쓰트랫포드』에서出生하니 四兄弟의첫재이다그아버지『쫀』은 附近村落에단니며 羊毛商을經營하다가 그後地主의딸『메리』에게 장가들어『쉑쓰피어』를나헛는데『쫀』은自己姓名을 記錄하지못하리만치無學文盲이엇스나 그안해의財產으로말미암아 生活은자못豊足하든모양이다\\n 그럼으로 그가少年時代에는그故鄕의學校에들어가 羅甸語希臘語밋佛蘭西語의 初步를대강習得한둣하다\\n 그러나 十三四歲때에 이르러아버지의商業上失敗로 家運이기우러저 不得己學業을廢하고 家計를도와 或은屠殺場의雇傭人이되기도하며 或은\\n代言人의\\n事務員이되기도하엿다하나 仔細한것은알수업스며 다만十九歲때에 그近村의處女『안』이란八歲의 年長者를 사랑하야 孕胎까지하게되어 그해十二月에 結婚하엿더니 여섯달만에 翌年五月에는 長女『스산나』를 나헛다\\n 翌年即千五百八十五年 그의二十二歲때에 안해가또雙童을나헛는데 하나는『주데이쓰』란女兒이오 또하나는『함렛트』란男兒이엇다 그러나男兒는十一歲에 夭死하고말엇다\\n 『쉑스피어』기 二十一歲에처음倫敦에와서『뿌락크,프라이아』劇場主人집에雇傭이되어旅客의馬番노릇하든것이 機緣을지어내종에는 그劇場의俳優와作者가됨에이르럿다\\n 그리하야 七年동안 아주努力한結果\\n地球座에\\n가게되매 名聲이한층더 올라가게되엇다\\n 最初에는 主로演劇의改作과翻案에從事하다가 漸次史劇과喜劇으로進出하게되어 二十八歲에『로메오』와『쥬리엣트』틀짓고 三十三歲에『베니쓰商人』三十八歲에『쥬리아쓰씨자』를 내엇다\\n 그러나 이해에 그아버지가죽고 長男은발서五年前에 죽엇슴으로 그의心機가一轉하야이로부터 悲劇作家가되어 아버지의죽은翌年에는『함렛트』그翌年에는『오세로』그翌年에는『리아王』또그翌年에는『막뻬쓰』이러케四大悲劇을 繼續的으로지어 그로하여금 世界的不朽의劇作家가되게하엿다 翌年에는『안토니오와크례오파트라』로부터 變化를하며\\n翌年에는\\n『페리크리쓰』로부터傳奇劇으로 들어가『冬夜物語』『暴風雨』等을 내이고二十八年間倫敦生活을한뒤 劇界를隱退하야 五十歲頃에는故鄕으로 돌아가 自然을벗삼아孤寂하게餘生을보내엇다\\n 子女三人을 낫코서는 그안해를떠나 얼골까지도 容易히보지못하드니 故鄕에돌아갈때는『쉑스피어』의 가장사람하든長女『스산나』가 이미三十歲라그곳有名한醫師『숀홀』과結婚하야『엘리자베쓰』라는 女兒까지나헛섯고 둘재딸은 二十八歲에 아즉도獨身이엇섯스며 왼집사람이 모다淸敎徒가되어謹嚴한生活을하고잇서『쉑쓰피어』의『카도릭』敎와는 反目함에이르럿다\\n千六百十六年 둘재딸『주데이쓰』의\\n三十一歲\\n때에『도마쓰』라는 술십아들과結婚하니 그新郞은 新婦뵤다 四年아래로二十七歲이엇섯다『쉑쓰피어』가그『十二夜』중에 女性은 自己보다年上의남편과結婚하는것이조타고하엿지마는自己와밋딸이모다이것을逆行한것이아니냐\\n 쉑쓰피어는 술을몹시조화하야 둘재딸의結婚日에 만흔술을마시고 病이들어 四週동안이나 呻吟하다가 千六百十六年四月二十三日 五十二歲로써이世上을떠낫다\\n 그遺言狀에는 遺產을遺族親戚乃至朋友에게까지 각기分配케하엿스되 오즉그妻에게對하야서는 忘却하엿다가 追後로家具와寢臺를주게하고 妻의親戚에게는아무말이업슨것을보면\\n夫妻間의\\n琴瑟이조치못하든것을 짐작하겟다\\n 그後七年만에그妻도 죽엇다『쉑쓰피어』는 少時그妻와의사이에『로—맨스』박게도 劇의『모델』이된幾多의女性과도 關係가잇섯스리라고 想像된다 그러나 그家族의 無識으로말미암아 書札이나 그他記錄이모다散逸되엇슴으로 알수업슴은앗가운일이다\\n',\n",
       " '可憐少女姜順南의哀話(一)\\n新婦하나를\\n雙方新郞이爭奪\\n약혼후천부가다시팔어\\n끌려간순남이의이야기\\n지난이십일새벽조각반달이송진산(松眞山)놉흔봉에비스듬이걸리기 시작한 오전다섯시경에웅긔중송현(雄基中松峴)소송대리하는강모(訴訟代理姜某)의집압헤 자동차한대가노히고 그집문압헤서는 방금 십륙칠세박게안된꼿가튼처녀가『안가겟다』고한사저항하는것을 장정 사오인이달려들어 모진매와가진욕설로써 그처녀를구박하며『저편에싀집안간다면 죽여버린다』하는호통소리와함께 강제로 자동차우에끝려안친후 수잠장정이 그를호위하여안즈매자동차는 관곡동(寬谷洞)을향하고\\n쏜살가티\\n다라나는데자동차안에서는어리처녀의구슯흔아름소리가 자동차 다라나는요란한박휘소리에 아울러흘려나온다 이꼿가튼처녀는 무슨까닭으로 인적이끈허진일은새벽에도수장으로끌려가는수양모앙으로그들에게끝려가지안흐면안되게되엿슬가?이에는돈을가지고사람을산다는 인신매매(人身賣買)의 추잡한짓에희생되어 가는가련한 처녀에게 사람의본성에만잇물아름다운사랑이란실마리가 얼키여잇는 아슬아슬한애화(哀話)가잠겨잇다\\n그처녀는\\n원래함남함홍(咸南咸興)사는강두회(姜斗會)라는사람의큰딸로서순남(順南)이란십칠세소녀인데 그는지금으로부터 십여년전에 부모를딸아북간도두도구(北間島頭道溝)라는곳에 이거하여 살든바 그의아홉살되든 어린때에 역시간도룡정(間島龍井)사는 리응진(李應鎭)이란 당년십오세 되는소년과약혼(約婚)을하엿든것이다 그후순남의 가정은극히빈한하여리응진의집에시는순남의집에돈벅원을 보내어\\n생활비를\\n보태여준일도잇서 날이갈사로 두집은점점친밀하여졋는데 응진이는 순남의나희넘우 어림으로 혼인례식은피차성년이되어 이십세 갓기운때에거행하기로 약소하고 그동안순남은 보통학교에까지 입학식여공부하며 고히고히 자라나는데응진과순남은 나희 들사록몽통하나마 서로장래부부인것을깨닷게되어 어린가슴에는사랑의새싹이엄돗게되엿다그들의사랑은날이갈사로익어가는데그들의가정은점점생활난에쫏기게되어 응진과 순남의가족둘은서로손을마조잡고간도를떠나다시\\n조선내지\\n에도라와서순남의집에서는청진(淸津)에일시머물게되고응진의 가뎡은로령연추(露領煙秋)디방에드러가게되여서로장래를긔약하고갈라졋든바응진의집에서는로령갓다가다시휘춘량수천자(琿春凉水泉子)에옴겨와서농사를 지으며근근히보내는데그들의통신은서로끈치지안엇다 청진잇는 순남의가뎡은 날이갈사록 빈궁하여순남의부친은응진의 집에하로급하순남의 혼례를 거행하라고독촉함으로 작년십일월경에 응진은청진나가서 순남을 맛나보고그의부친의 간청으로 그의가족오륙명에게\\n수십워의\\n러비틀주워서웅긔(雄基)로이사까지 식히고례식은 금년이월 십오일에거행하기로단단약속 하엿는데어언간응진의 나희는 금년이십이세요순남은 십칠세라는 꼿다운년광을맛게 되엇다 그들의사랑은자랄내로 자라서 서로잇지못하게되엇는데 응진은 집에도라가례식날자를손곰아기다릴제금년정월 이후로는 엇전일인자심신이산란하며 순남을 사모하는정이날로깁허가는 동시여러가지의혹\\n이만발하여\\n마음을 진명치못하다가 드듸어 그는지난달초생에 웅긔에나와서 순남의부친을 대하고례식 거행을재촉한즉그는전일과태도가 일변하여전일 약혼을파긔(破棄)하자고선언하며응진은 대경실색하야그리유를물으나대답시안코꿋까지파혼을주장하엿다(계속)\\n',\n",
       " '可憐少女姜順南의哀話(二)\\n新婦하나를\\n雙方新郞이爭奪\\n약혼후친부가다시팔어\\n끌려간순남이의이야기\\n응진은넘우도 긔가막혀 사방으로탐문하여본결과관곡동(寬谷洞)사는김룡학(金龍學)의둘재아들에게 약혼하고 돈일백사십원을바다먹은일이잇슴을알고응진은순남의부친에게 대하야 만일관곡동김모의 도만 다감흐면문제업겟느냐고질문하니 그는넘치조케 삼백수십원만내면 전일혼인을리행하되 그러치 안흐먼할수업다고 시침을떼니 응진도역시 넉넉지못한 살림에수삼백원이란돈을 어듸서 변통할수잇스랴?그러나 사람의마음을완전히가지고잇는 순남의 모친은그의남편이하는알이 인도에 버서난일임을알고 극력반내 하는동시에 어린순남이까지도 부친에게반항하여 응신을 버리고는죽더래도 다른곳에 싀집을가지안켓다고 발악까지 하엿스나완악한그의부친은 련일순남을 김금하고 독한매질울하는 한편으로응진은마음을 졸리며 백방으로생각하다못하야 소송 대리하는황모(黃某)에게 이사연을 호소하엿든바 □□는 그의사정에등정하야 순남의모친으로 하여금그의아비가감금하고잇는순남을빼여다가 의사를물어보매 순남은주저업시응진에게로싀집갈것을명언암으로 황씨는 당사자들의 의견이합치하는데도 불구하고 부친이강제하는것은 크게불법이라하야 씨의일선으로 순남의아비는모르게지난시일달밝은밤에응진이가로동하고잇는청진조(淸津組)사무실에서황씨의주례와 만흔동무들의 축복가운데 간약하고 청소한례식이거행된후 달빗이가득찬방안에서 자긔들의파란만흔혼인을속살거리며 사랑의단꿈을꾸엇든 것이다신랑인응진과 신부인순남은 결혼벽두새사랑의단꿈이채깨이지도안흔때 관곡몽김가의 집에서는이사실을둣고일변 전긔 강모(姜某)란 소송대리인오로 하여슴순암의부진을 걸어소송을 제긔하는동사에 여러장정을 보내어순남의부친을위혐하매그는지난십구일 응잔의집을 차저가서순남을붓삽고 모진매질을 하며한사저항하는순남을끄을고자긔집에가서 가진요과독한 매질을계속하니 이소식을들은 응진은황겁하야다시 황모란소송 대리에계사연을급고하매 그는 경찰의설유원을제출하엿든바경찰에서는 순남의부녀를 호출하야취조를맛진후순남의의사대로응진에게싀집보내라고 엄중 설유한후관곡동사건이해결될때까지친권자인부친에게순남을당문인도하엿든바그의아비는관곡동사건이해결될때까지라는 구실로관곳동김모의 대리인 전긔강모란소송대리의 집에 두기로하고순남의 부친은강모와 협의한후지난이십일 새벽에 판곡동김모의집에서온 자동차에 순남을강제로끝어보낸것인데 응징이와 새살림하기 열흘도못되어 완고무쌍한아비로 말미암아 관곡동김모에게 팔녀서억지로 끝련간순남소녀는 그날밤강제로 김모의집에서 례식을 거행하려하여스나순남은 끗까지거절하고 신랑된나는 김모에게 대하야『나는이미리응진에게 몸을 허하엿스니다른남자와는 접할수업다』고악을 계속함으로 그들은지금어린소녀를 엇던집에 감금하고가진학대로써 그들 굴옥식히려한다하니 긔구한운명에 번롱되는가련한 순남소녀의 자래는장차엇지나 될것인지?실로한심한바이며 또한이와가튼 인도에버서나는 일이잇슴에도 불구하고민사문제라는 구실로 보고도못본체하는경찰의태도가극히해과하다고 일반의물의가 분눈하다더라(웅긔일긔자)\\n',\n",
       " '偉人의\\n私生涯\\n(39)\\n九十平生童貞직힌\\n『미켈안제로』\\n(中)\\n全生涯를藝術에精進\\n自笑生\\n 『미켈안제로』는 五十三歲때伊太利革命軍에投入하야 築砦總督에 任命되엇드니 六十歲에그아버자가죽고 七十三歲에『聖페트로』建築長에 任命뇌엇다七十六歲에는『주리오』廟의建築올마치고 八十四歲에는『聖페트로』敎會圓頂의木製□形을만들고 九十歲에는 죽음에이트럿다『미켈안제로』는 美에對한愛와製作에 對하끈임임는創作的精神에激勵하면서도항상孤獨하게지내엇다 그러나 그는이런가운내 잇서도 滿足하얏섯다\\n 그러나博識하고도 仁慈하며謙讓한大僧正은 그의善良한벗이엇섯다\\n晩年에\\n이르러 그는靑年과女性을 사랑하엿스니 一五二二年그의四十八歲때『게랄도페린』을 사랑하며 一五三二年에는『피포데·포지오』와『마조·델·카바리엘』과가튼 羅馬貴族의靑年을 사랑하엿다『카바리엘』은아름답고 優雅한靑年으로 미켈안제로』의 熱愛가얼마나놉하든지 그의等身의像을만들어보내이게쯤뇌엇든것이다\\n 그他『안니발·카로』와『책키노·브다지』等의詩人도 사랑하엿시마는 그의一生에단一次사랑을바진女性으로말하면 偉爵夫人『코론나』이엇섯다\\n 『코론나』의아버지는『파리아노』의貴族으로『다리아코츠오』公爵이며『나포리』大警視이엿섯는데『코론나』는 一四九二年『마리노』에서 誕生하얏다 그의芳年은『미켈안제로』보다\\n十八歲\\n가적엇스며 그가四歲때에『페쓰카라』公爵의獨子인『페란테·프란치에쓰코·다바로쓰』와約婚하야 두엇다가十九歲에이르러二人이地中海의『이쓰키아』島에서 結婚儀式을擧行하엿다『페란테』는軍人으로 美男이엇스며 그新婦와同年이엇다『코튼다』는 그리美人은아니엇스나 盲目的으로그남편을 사랑하야 新郞올나의太陽아라고까지불럿다 그러나남편은 그안해를 사랑하지아니하엿스며 特히자조出征하기때문에 五年동안同居하다가그後는 맛날機會조차드물엇다\\n 一五二二年以後는 全然히서로맛나지못하드니 同二十五年三十四歲에 反逆罪의汚名올쓰고즉엇다\\n코론나\\n는靑春에 남편을일코 아들도업시 孤寂하게지낼새죽은남편의 족하『바즈트』候□을養子로삼아 二十二年동안그의五十六歲까지『페쓰카라』에잇섯다\\n 그동안『이쓰키아』島에螢居도하며 或은旅行도하며그後에는羅馬로올마갓고다시『나포리』에가서만하는條道院에서 지내엿다『코론나』는페트라르가』詩體를배워 哀詩를쓰서 世人에게嘆美를바덧다이때求婚者도잇섯스이를謝絕하고 貞操를직히잇는데 四十三歲以後는 全然히宗敎生活에 耽溺하야 新敎徒가되려고하여엿나 뜻과가티되지못하고말엇거니와 五十五歲에 羅馬『산단나』修道院에서長逝할새그죽을때 죽음을아주깃버하엿다한다\\n이佳人\\n이『미켈안제로』\\n와 처음알게된것은 一五三二年 四十一歲때이다『미켈안제로』는 宗敎改革의精神에타서淸俗『사포나로라』의精神을繪畵에나타내이려고 애쓰는때이엇다『코론나』『 이淸僧을崇拜하야 두사람이서로맛내여 말하게되엇든것이다『코론나』는『미켈인제로』의確乎不動의信仰과藝術的天才를 사랑하게되드니三年을지내여『미켈안제로』가羅馬에 나아감에 미처두男女의交際가 이에비롯하게되엇다『코론나』는 羅馬의『실베쓰를』修道院에서 그와함께 파울使徒의講義를 들엇다 講義가마치매 두男女는 자미잇게이야기하엿는데 그네는 繪畵에對하야 흔이말하며『코론나』는『미켈안제로』를歡待하고 專敬하엿다\\n 一五三八年부터 사랑이뜨거워저『미켈안제로』는\\n다른벗\\n이잇는출을 아지못하게 쯤되엇슴으로『코론나』는 이機微를알고 다른곳으로 轉居까지하엿드니 一五四四年 다시羅馬에 돌아오매『산타레나』修道院에서 交際가 繼續하게되엇다 그가언제든지 修道院을차즈면『코론나』는 溫和한態度로 近接하엿다三年後『코론나』는 아주老衰하\\n여지매『미켈안제로』가 百方으로 그를慰勞하엿스나 五十五歲되는햇二月二十七日 그修道院에서 最後의呼吸을하게될새『코론나』는『미켈안제로』에게 나를爲하야 祈禱를하여달라고付打하엿다『미켈안제로』는 그말대로이에祈禱를하엿다\\n',\n",
       " '偉人의\\n私生涯\\n(44)\\n英國女流詩人\\n쁘라우닝夫人\\n(中)\\n쁘文豪와의로맨쓰\\n自笑生\\n 그가 가장조흔著作을한것은이病室에잇슬때이엇섯다 一八四二年(三十七歲)에『希臘의基督敎徒詩人』을 出刊하엿고翌翌年二卷의詩集을 出刊하엿는데 이로부터當代最大詩人의列에 들어가『테니스』과 月桂冠을다 토게되엇다\\n 그詩의하나는『兒童의鳴叫』란것으로 英國政府로 하여금工場에서 兒童의保護를 促進케한것이오 또하나는『릴에니스터의가르침』이란것으로서狹窄한書齋에 들어안저 自然의美들 謳歌한것이다 그는五年동안 密室에監禁同樣이되어잇섯는데 그 는當時\\n苦痛은 적어쓰되『牢嶽의鐵扉가 꼭닷겻다 나는 나의無益한이幽囚에 憤懣함을익이지못하야 때때로 이鐵扉를向하야 突破하려고한적도 잇섯다 空氣와溫度를 適宜하게하엿스면 나는 얼마나 外界의사람과가티 健康하고 幸福스러웟겟느냐 참으로 익이기어려웟다』고歎息하엿다\\n一四四年(三十九歲)에 出刊한『지에날진의許嫁』란 詩集中에는『쁘라우닝』의詩에言及하야 稱讚하는文句가 잇섯슴으로『쁘라우닝』은 이詩를읽고 그의厚情에對하야 매우謝意를表하엿다 女史의友人으로 從親이되는『쬰·게니온』이『쁘라우닝』에게勸하야 一八四五年一月에 처음으로書簡을女史에보내여 女史와交際하는端을열게되엇다 이로부터\\n﨎方이자조消息을 通하더니『쁘라우닝』은 一日에『열리자벳스』女史를 그집으로訪問하야 親히胸襟을 풀고말하엿다 그後도 멧번이나 女史의집을차저『나는眞心으로당신의詩集을 愛讀하며아울러당신을사랑합니다』하는情懷를吐露하고 女史도『우리두사람은友人中에 가장信實한이가 되어간다』고말하엿다 그네들사이에 文學的天才를推重하는생각이 이와가티漸漸濃密하여짐을딸아 마츰내 熱烈한戀愛로變하야『쁘라우닝』으로하여금自己어버이가 許諾치안홀뿐더러 女史單獨으로서는 서서단니도못하는病身임에 不拘하고이를안해로마즘에 이르럿다\\n女史는 自己가 病身임으로남편에게 累를끼칠까함을 念慮하며 또그아버지가承諾하지안홀출을 알음으로이것을어기고 出嫁하면 不孝의일음免하지못하리라하야 얼마큼躊躇하엿다 그러나아버지의監禁이 더욱甚하야저 堪忍하기難함으로 運을하늘에맛기고牢獄가튼 이生活을벗서나려 决心하고 이해겨을을지내어 明年에는 꼭結婚할것을 愛人에게約束함에이르럿다\\n 多幸히 그明年몸은 溫暖하야 女史의 疾病도 良好하야저『쁘라우닝』으로부터 結婚實行을재촉하엿다 그럼으로九月十二日 忠實한侍女와함께그윽히 집을버서나와『메리뽄』敎會에가서 結婚式을擧行하엿다이때女史는 四十一歲요『쁘라우닝』은 三十五歲이엇섯다\\n結婚한지一週만에그의愛犬『프랏슈』를더리고 新郞新婦가 손을삽고巴里로갓다가 다시 伊太利로가게되엇다 그리하야두사람은 달큼한結婚生活을하게될새항상別室에잇서서詩짓는것으로써消日하엿다 그런데結婚한翌年어느날아츰에女史가그남편『쁘라우닝』의잇는 방으로들어오드니 조의쪼각을 남편저고리『포켓트』에 꼿고서다시나아갓다 이조의쪼각이야말로女史가 約婚한동안의 두사람의戀愛이야기엇섯는데『쁘라운닝』이이詩를 보드니『쉑스피어』以後의 第一纖巧한作品이라고稱讚하며 나혼자보기는앗갑다하야 後年에가서 出版까시하게되엇스니 그것곳有名은『손넷즈프롭듸폴주게쓰』란詩이엇섯다 이詩를千八百五十年에가서 女史의詩集에附加하게되엇다한다\\n',\n",
       " '中國의名作小說『紅樓夢』의考證(一六)\\n梁白華\\n 辟畺의影梅광广語에 小宛의言動을詳細하게 追述하얏는데단지 疾時에는 何狀을作하얏스며 永訣에는 何語를作하얏다는것은 도모시言及치아니하얏고 死後의營葬도 또詳書치아니하얏다 또卜籤하든말을쓰고 到底誰知事不諧라는句에말하기를到底不諧가 今日驗矣라하얏다 小宛이만일에病歿하얏스면 맛당히 悼亡語를쓸것이요 到底不諧가 今日에 驗하얏다고는아니할것이요 또말하되『久客懷家 甫著枕 便夢還家 擧室皆見 獨不見姬 丞詢荊人 背金淚下 金大呼曰豈死邪 一働而醒 姬亦以是夜夢人强之去 匿之幸脫其人尙唁唁不休也 詎知夢眞而詩讖咸來先告哉』아하얏스니按컨대此는實事일것이니 숨기어꿈으로한것이다 梅邨이 小宛像에 題한詩序에曰時遇漂搖니 曰奔迸流離니 曰苟君家免乎아니하얏스니모도다 詞意가閃鑠하야 張傳과가트며 그詩에는『亂雲梳髻下粧樓 盡室倉皇過渡頭 鈿合金釵渾忘卻 高家兵馬在揚州』라하얏스니 此는高傑의禍를 가르침의요 또『江城細雨碧桃邨察食東風杜宇魂 欲弔薛濤憐夢斷 墓門深更阻侯門』이라하얏스니만일 小宛이 病歿하얏스면 候門을 무엇이라고 解釋하며 또題董君畵扇詩에『可憐同望西陵哭 不在分香賣履中』이라하얏스니 만일 入宮아니하얏스면 어찌 西陵賣履라는말이잇슬가 또『手把定情金合子 九原相見尙低頭』라하얏스니此는 姬가 改節을 自傷하야辟畺을對하기가 붓그러움을이름이요 또『珍珠十斛買琵琶金谷堂深護絳紗 掌上珊瑚憐不得 卻敎移作上陽花』는 意味가더욱 明顯하다 龔芝麓이影梅广憶語에 題한 賀新郞詞에이르되『碧海青天何恨事 難倩附書黃犬 藉棋日酒年寬免 搔首凉宵風露下 羨煙霄破鏡猶堪展 雙鳳帶 再生剪』이라하얏스니 그碧海青天이니 附書黃犬이니 破鏡堪展이니하는것은모다生別을위로한 말이요 悼亡을위로한말은아니다 董妃가小宛인것은證佐가 甚繁하야故老의相傳이이와가튼즉鶴亭이水繪園舊主를爲하야 빈듯이辯訟을하고저하지마는 恐컨대不可能할것이다\\n',\n",
       " '地上戀愛\\n海中戀愛\\n大海건너新郞차저가는\\n뱀장어의結婚(下)\\n蘭草도戀愛,蜉蝣도戀愛\\n紳士的生殖엔蟻蜂이第一\\n柳成浩\\n北米海邊에잇는『뱀장어』의수ㅅ것이發精期가되면암것을차즈려大西洋을건너『스코트랜드』까지간다는實驗結果가잇다\\n암『연어』가 깁흔바다에잇다가繁殖期가되면 멧百里를 거슬러올나와 얏튼바다에이르러알을나놋코가면 수ㅅ연어는그곳을차저올나와『이리』를 나놋코가저孵化가된다\\n반듸불 蜜)은 반작거린다 이것도 숫것은암것에比하야數十倍의光을가지고 널리自體의存在를 表示하야 이빗을보고암것이차저오기를기다리는것이다매암이 쓰르램이,귀드람이,벗장이‥‥모든것이 소리를내고잇는것은 戀愛를求하는것이다以上은멧가지例에不過하나 動物界全般이 手段과方法은各異하다할지라도 各種特異한方法으로 生殖의目的을達한다\\n動物은 性慾을 채운다느니보담 後繼를 잇기 為하야交合하는것인바 生殖期는 週期的으로 돌아온 다 生物이 산다함은 最高의目的이 子息하나 生產하고 죽는다는것이다하로사리가 하로산다하지만實은하로사는것이아니오幼虫時代에는 水中에서數年을살다가成虫이되야가지고產卵만하면 곳죽어버리는것이다(昆虫의成長期라는것은 幼虫時代를말함이오成虫時代는 產卵의義務만잇는것)우리가잘아는누에(蠶)를들어말하드라도 벌네쩍『누에』라하는것은 이것이幼虫이오그幼虫時代에生의맛을보고 나비라는成虫이된다成虫만되면 交尾產卵하고곳죽어버린다 產卵한後에는自己의重大義務를 다지럿다고死를찻는것이다\\n 昆虫中에는 개미와벌이生殖作用에잇서가장分業的이오 가장紳士的이다 人間으로부터動物에이르기까지性의問題로 苦痛을밧는바 개미와벌은 少毫도이問題로하야금苦痛을밧지아니한다 이것은生殖의責任마튼것에限하야 生殖을하게됨으로其外에는 이問題와因緣이멀게된다 개미와벌의社會는 우리人間으로써本바들點이한두가지가아니나이것의說明은 張皇함으로 畧하고 따러서生殖說明도畧하야둔다\\n우리가모든自然界現象을볼때자미스러운點이한두가지에끄치지아니하지만 特히生殖의現象이자미스럽게보임으로 멧마듸써둔다\\n',\n",
       " '유린의자최\\n(1)\\n寃恨의平生運命\\n招待밧고놀러갓다가\\n먹고놀자는꼬임에빠저마수에걸려\\n가서보니피를보려는여호의무리들\\n黃金암헤우는某女性의哀訴\\n『가네가네하더니만 님이나를 버리고 참으로갓나 님이나를버릴 대 힌구름삽어타고 천당에나갈가부다‥‥』이것은 하치안흔 서푼짜리련애에 실패를 당하고도 애끈히며 우는 시속남녀의 원함이어든 하물며 열네살의소녀로서 열살먹은신랑(新郞)에게 출가하야 부모(父母)들의작란감영화(榮華)에 희생되엿다가 싀모(媤母)에게 박대밧고 쫏겨와서수절원사(守節寃死)할지라도 일편단심조촐한몸으로 여생을마치겟다는 결심알에 천만가지고통을 격거가며 스물일곰살맛든첫봄에 야수(野獸)가튼 색마(色魔)에게 정조(情操)조차빼앗 기고 원한에울든신세 설상에가상(雪上加霜)으로사갈(蛇蝎)가튼 악마굴(惡魔窟)에 끌려가서 죄□시매를마저 팔다리가모다 부러지고 왼눈도멀엇스며 갈비대(肋骨)가끈어저서 여섯해를하로가티 치료에힘썻스나 안진방이반신불수병신의몸이되야 동작(動作)에 자유가업고 더구나 각각으로쇠약하여지는몸에 격렬한 뇌신경통과(腦紳經痛)륵막염(肋膜炎)은영영치료불능(治療不能)이라는사형선고(死刑宣告)가튼 지단(診斷)에 죽기만기다리고잇스되 증거업다는 리유알에 고소(告訴)도실패하고 약간의 가산(家產)조차 소송비와 치료비에탕진하야 긔한(飢寒)에울며불며 비운에저주(咀呪)밧는가련한 녀성이잇다면 그얼마나처절참설힐것인가?애사중의애사이며 비극증의 비극인주인공을 대신하야 눈물겨운 애소(哀訴)를 긔자의손으로 소개하려한다(대구에서일긔자)\\n慘悽하던當年當日\\n而今도毛骨悚又寒\\n 독자여!\\n한스럽소이다 참으로 한스럽소이다사람이 불행하다면나의반생가티도불행할가요?녯날을추억(追憶)하고 압일을 생각하니가슴이막막하고 소름이 끼처지나이다 튼튼하든나의몸이 웨이러케동작(動作)도못하는병신이돠엇슬가요?나는 권력(權力)이라는 악마에게 짓밟히엿습니다무지와포악(暴惡)에븟잡히엿습니다\\n酒食準備코招待\\n安知毒手在屛間\\n 독자여!\\n때는대정(大正)십사년구월십오일오전여덜시경이엇습니다밤도조금기러졋지마는 추잠(秋蠶)을거두느라고 밤동안에 두세번잠을깨엿슴인지 자리에서 눈을떠보니 동전에해가 듯고매아미소리가 처양하게들렷슴니다 학생긔숙(學生寄宿)도 그만두고식구라고는 나한아뿐인집에 누구어려울사람이 잇게슴니까?몸도조금괴로워서 이리저리도라눕다가 이러나서실음업시 안졋노라니한임시 쓸쓸하고 고적해서울고십헛슴니다 웨이러케 맘이약(弱)해질가하고이러서서누에(蠶)一에게밥을주노라니이읏집오희(吳姬)가 사람을 보내어하로 가티놀기를 간청하엿슴니다오희는나와사이가 조치못한터인데웨나를 청햇슬가?두말업시거절햇더니 월파(越婆)가 다시 사람을 보내여 놀거를 청하엿스나 세번을 련하야 사절하엿더이다『그들이웨나를이러케은 근히청할가?격장(隔墻)해사는 정의로나의고적함을 위로코저 함인가?』이러케생각하고잇슬즈음에 월파오희의 병정격인춘심(春心)이가 와서주안도준비하고 하엿스니 하로가티즐겨놀자고 등을 밀처재촉함으로『남의호의를저바 릴수업다는생각이나서 가기실흔 연회를향하야 걸어갓습니다 이것이나의운명(運命)을 결정하는 거름이엇든지!\\n艱步到門人迎立\\n天語相看도虛飾\\n독자여!\\n일에는 당국자미(當局者迷)라더니웨 그러케도정세를 살피지못하고 그집에를 드러섯슬가 요?가티가든춘심의집에 당도하니오희월파초운(楚雲)등 세여호가흔연히 반기면서 오르기를재족하고 철벽廿튼 문대은삐걱소리를 치면서 덜컥닷기엇습니다 그래닷기는대문소리가다소간귀에 거슬렷스나 그들과숙원이업고 백주대도(白晝大都)에 무슨 일이잇스라는 자신(自信)이구더졋습니다 서슴지안코 퇴마루에 당도하니퇴기동겨테 식칼(食刀)이노하고 벽에는 숙마출(熱麻索)이 걸렷습니다 부억에는음식을 준비하는 사람이법석이고 방안에는 오희윌파초운등요호외에 무슨단체무슨 신문에다닌다 는남편들의체면도불고하고쌀되나어더먹는다는맛에 무자집며누리병정서는두계집이얼굴을맛대고 안졋섯습니다『자네들무엇하는 셈□가 웨이러케들분주한가』하고우서가며물엇더니믓요호들도 역시우서가며『자네와함께먹고 놀자고 청햇더니도로혀 미안하이』하고담배를븟처권하엿습니다\\n登塲□楚雲의毒舌\\n風滿樓의暗雲低迷\\n 독자여!\\n웬일인지 그들의 호의에감사하면서도 무시무시하고 서먹서먹한생각이나서 아무것도 □지못하고 바늘방석에나 안진것가티좌불안석(坐不安席)이엿습니다곳이러서서 와버리기라도 하고십헛습니다 그래 이러설가말가하던판에 초운이가말을내여『오늘이모임은 다른것이 아니라우리끼리할 이야기도잇고 한번모혀노는것도 좃켓기에 집안어룬들에게까지 일려두고 틈올어든것이니 유쾌히놉시다』하고말끗을매진뒤에 다시 나를향하야약간떨리는어조(語調)로이러케질문하엿습니다\\n 『춘심이가 사긔집머슴과간통 을하엿슴으로그의남편석서방 (碩書房)은체면을유지할수업 스니 파산(破產)을 하고산중 으로드러가겟다 고 집안 짬이 낫더라는 말을 어듸서드럿는 가?잘못하면죽고 남지못이 터이니 바로말해라』\\n나도역시서슴지안코이러케대답하엿습니다\\n 『그거야온마을사람이 다알고 잇는사실인데 웨나에게 믓는 가 이만한일가트면 나볼일이 더급하니 나는그만가겟네』\\n하고이러서즉 오희기치마를 탁훔켜잡엇습니다——(계속)——\\n',\n",
       " '유린의자최\\n(5)\\n蹂躪밧는一生\\n天罰인가自孽인가\\n유족한가정에서귀엽게자라든내가\\n열네살부터인간의작란감에희생해\\n黃金압헤우는某女性哀訴\\n十歲新郞十四婦\\n 父愛母頑鏡自破\\n 독자여!\\n차라리병상(病床)에서긔절한채깨여나지마럿든들 얼마나 행복스러웟승니까?천한목숨이 네시간이나 지난뒤에깨여보니 의사들은성공(成功)하엿다 는듯이주사긔(注射器)를 빼여들고 말업시서잇섯승니다 이러케 침묵(沈默)이잠간계속되다가 의사들과 간호부들은 나가버리고방안은 죽은듯이고요하여승니다나는 다시죽음의 공포(恐怖)에진저리를 치면서 눈을감엇승니다 아—내가웨이러케 천한목숨이되어 병실(病室)한구통이서신음을하는가?강진읍내(康津邑內)에일류부호의 막내딸로서 귀엽게자라든내가 아넌가!오늘의고통은 무엇에서 시작하엿든가?,두말도 할것업시사랑하시든 아버님이 일즉도라가신까닭이엇승니다 나는물행이도팔남매중 제힐 막내딸이엇승으로 내가어렷슬때에 부모님은발서늙으섯승니다 그래서 열두살먹든허에 사랑하사든 아버님이가시고보니 갈길이 밥분어머님은 가시기전에 싀접보낼것을주야로걱정하시든뜨테 열네살나든가을에는『안순 아네가오래지아니하야 싀집을 갈것이니싀부모의명령을 어긔지말고 남편에게순종하여라』이러케타이르든어머님은 목이메여 말이막히엇승니다 싀집이라면 듯기도실혀서 펄펄뛰든어린처녀에게 열살쟁이신량(新郞)이장가틀왓승니다 그꼴에남편이라고 요년조년하고 덤비든꼴이라니 망상스럽기도하고 우숩기도 하엿승니다크나작으나 남자들의우월감(優越感)은일반인모양이여요남편이니무엇이니아른체할것도업시열여섯까지어머님품에안기여무사긔(無邪氣)한생활을 계속 하고잇섯승니다 호사다마 라드니청천에벽력은 떠러지고 말엇승니다 이세상에하나이시든 어머님은 벌로알치도안코 이세상을떠나섯승니다 자유롭든락원(樂園)에평화(平和)의신(神)을일코 불행의첫거름을것는 순박한나는할수업시싀집에를갓승니다화불단행(禍不單行)이라고가서보니 싀아버님은 퍽귀해하시나싀어머님은 죽기로써 배척(排斥)을함니다 그래쫏겨갓다가몰려오고 몰려왓다가 쫏겨가는부평(浮萍)가튼 생애를 계속하든중에 열네살되는 신랑(新郞)은재취로 장가를들고 스무살되든해에 싀아버님조차 작고를하섯승니다 그래서머리풀고부상(赴喪)을하엿드니싀어머님은 작대기로모라대고 열여섯살먹은 상제는 식자우환이라더니 조히쪼각에 무엇이라고끄적여 가지고와서주면서 다른데로 싀짐가도조타는 변변치아흔 선언(宣言)이엇승니다\\n哀吾此生須史事\\n羨彼長江無窮流\\n 독자여!\\n엇재서 녀자는이러케 남자들의맘대로 취급하게된답니까?까닭을몰라 답답하외다 나의밧는배척도 아무까닭이업고다만 남자제눈에 안든다는것이 엇승니다 그래한참야료가 이러낫슬판에 싀숙(媤叔)되는 여러분들이달여와서 괴망스러운싀모와 철업는남편을달래여상복(喪服)을입게하고정식으로혼인(婚姻)신고(申告)도 끗을냇승니다 그러나 억지로꿈아논일이 되고보니실지에무슨 효과가 잇겟승니까?살다가살다가못해서 부모업는친가로 도라왓승니다 아무희망(希望)도 업고 여지(餘地)도업는 쓸쓸한신세에 거저날만보내는것이 나의팔년간생애(生涯)엿승니다 우울참담(憂鬱慘憺)한생활속에서 이십삼세틀맛게되엇슬때에 친정옵바들이 리혼하고재가(再嫁)하기를권하엿승니다 그러나나는듯지아니하엿드니물론나의전정을위함이엿겟지마는끄트로는강박을합니다그래서 나는차라리죽어 벌이리라생각하고 집안이참든 틈을라서탐진강(耽津江)을향하야(도망하엿습니다 침침한새벽에 안개(霧)어린장물소리는나를비웃는우숨소리 가텃습니다 강언덕에거러안저 양양이흐르는물을 내려다보며『저물은저러케도변함업시흐르는데 나의이몸은 어찌하야 짤은세상도 살길이업서헤매는고 거츠른세상에 발부칠곳이업시 방황하는것보다 차라리저물과함께 흐르리라』생각하고몸을날려 뛰엿습니다\\n休道天地無限大\\n 五尺短軀向無地\\n 독자여!\\n웨이러케 죽을목이 업슬가요?나는 이러케죽기를결심하고 나니마치 도라가신어머님에게 나가는듯이 맘이깁부고 몸이가벼웟습니다한지라도가시(荊蕀)밧갓고 똥구덕아속가든 이세상을떠나 만고불변의 물을따라흘러가려고뛰엿습니다 웬일인가 몸이땅에서 떠러지려는순간에 무엇이 옷을탁훔켜잡으면서『작은아씨웬일이오』이것은 틀림업는\\n삼월(三月)이엿습니다『너웨남□□길을 막느냐? 나는결심한바잇스니 어서가겟다』하고몸을빼치려하엿더니 삼월이는 숨이럭에다가지고 헐덕이면서『못합니다 가시려거든가티깁시다』하면서 나를살작안어다기 저건너잔듸바테 옴겨노코는 죽기로써싸웁니다 삼월이는 어려서부터가티자라든 계집종(女婢)으로서 나는저를사랑하고 저는나를미더오던터이엿는데 요즈음 몃칠동안에 나의행동이 수상하게보엿든지 맘을노치안코 잇다가내의뒤를 따라왓든것입니다 날은차차밝아오고 죽엉도 복이로구나생각하니속절업는눈물에서로붓들고 울다가생각하니 원촌에개가짓고 길거리에 사람이지나는데갈곳여어데인가?천지가광대하나도라볼곳지바이업섯습니다그래서들이서로붓잡으채먹먹하게안졋다가 아서라무안(務安)읍으로나가자 진외가집아저씨가 나를□시사□하더니라 설마박대야 안하겟다!이러케작정하고 삼월이일향도(響導)삼아 무안읍내(務案邑內)를 향하야 떠나갓승니다 방(閨房)에가치엇든몸이 도 령암(靈岩)을거처 무안□□생각을하니가삼이 답답하고 □에맥이풀렷승니다—(게속)\\n',\n",
       " '出版消息\\n九月十一日分圖書課納本\\n神學世界(河鯉泳)普仁月報(金東遠)별(星)(朴準鎬)京城性慾戀愛結婚問題로無產靑年에게與함(趙哲英)(以上朝鮮文)朝鮮硏究(梁村奇智城)江原稅務(坂部信治)榮光(秋月致)鷄의聲(重□□修)鮮滿之鐵道(大平多女助)朝鮮庶民金融(尾崎關太郞)靑邸(福間俊正)現物中値表(市川幸次郞)福德無盡時報(藤野尙治)羅南支部報(鈴木若雄(以上日本文)\\n  九月十二日分\\n鐵筆(林仁植)탈춤(盧益亨)구세론(馬布三悅)朗讀文(第三次)(吳璧)離新郞(金東縉)中鮮民報(張百忍)南平文氏派譜(文鎭憲)(以上朝鮮文)\\n滿鮮情報(嶋田仙助)ヵリタゴ(松村正助)朝鮮財務(津田宗太郞)交通과自動車(胡山澄)心之友(大浦貫道)朝鮮之水產(樫谷政鶴)調查彙報(松本源作)同民(植松通太郞)京城物價타임스(尾崎勝三郎)中等敎育國文讀本(前田卯三郞)天德鑛泉使用心得(森重吉)最新포켓트鮮語會話(岡原七郞)\\n      (以上日本文)\\n  九月十三日分\\n個人傳道學(許仁守)印度의聖者썬다—씽—瞑想錄(禮是)改良麥作五倍增取法(權粱永)京鄉雜誌(楊秀易)會粲(洪淳溶)慶南時報(永井照雄)錦南月報(宮重嘉一)(以上朝鮮文)\\n電氣事業要覽(矢野定市)朝鮮語講義(水野義一)斯華(岩田壽二)朝鮮庶民金融(尾崎岡太郞)禪心(光正覺音)立琴(宮內修次)會報(佐下橋鎨次郞)\\n      (以上日本文)\\n  九月十六日分\\n朝鮮物産奬勵會報(明濟世)民聲新報(金順福)朝鮮實業彙報(李在熏)中學講義錄(洪世雷)서양요리법(君芮彬)\\n      (以上朝鮮文)\\n京城帝國大學學報(京城帝國大學)藝(鈴木德藏)道(山下良右衞門)黃海道農會報(去來川三次)大邱의商工(梅津良雜)朝鮮警察法令聚兵事關係上卷追錄       (以上日本文)\\n',\n",
       " '間島의史的考察\\n高句麗,渤海,高麗,李朝의變遷(30)\\n柳光烈\\n變하는間島\\n前途는洋洋\\n千四百餘方里인東間島를中心으로東方史上의 幾多史劇的事件을叙述하기에 愚鈍한記者의禿筆과艱難한周圍事情이 許치안는다 古昔의朝鮮民族이 遠西로부터東으로東오로 向하여올때여 間島는勿論 그進軍의一驛이엇슬것이다 幾多의 部落時代를지나서 高句麗가半島의北部와廣漠한滿洲를 그領地로가젓슬때에는 朝鮮人도東方史上의一□兒이엇슬것이다 그後高句麗가亡하고 그故地에渤海가興하자 亦是殷盛한史上의主人公이엿슬것이다 그러나渤海가亡하고 遼金이이러나자朝鮮人은羅馬帝國의 殘影이伊太利에남은것가티 朝鮮半島에그殘影어남아잇섯다 그러나猛虎의餘威가오하려殘免를一蹴 하두이尹瓘의□軍長驅는 오히려間島平野에그征旗를날리고 拓地千里에 그洋洋自得한바이잇섯다그러나 李朝朝鮮이되면서부터朝에는 漢族의압해허리를숙이고暮에는 女眞의旗下에무릅를꾸□等 부지럽시屈辱의記錄을歷史의페지우에 까칠순이엇다二百年前 □極登이외서定界할때에所謂國命을 바닷다는重臣이老疾로써 立會를辭하고彼等의自意로세운定界碑가 이미朝鮮의國境을蹙少한것인데그碑文에『東爲士門』이라는明文이잇섯슴에도不拘하고淸國으無理하□도士門江以內에잇는間島를自國領土라고固執하엿섯다이때까지春夢中에지내든 朝鮮人에게도차차國土에對한 意識이생기고己巳庚午以來로 入居한數十萬住民의生活은 中國의鼻□을엿보며사는 微□한朝鮮으로도엔간히强硬하게 抗爭하엿섯다『吾頭可斷 國土不可蹙』아라고萬丈의 氣焰을吐하든 李重夏도其人이요 私砲隊를設하야淸國의官民을□伏케하든 李範允도其人이엇다 이와가터微弱하다는朝鮮의外交로도 最大限度의支持를바다오든 間島問題가外交權이日本으로넘어간後에는虛無하게도 넘아가버리엇다\\n 資本主義보한창成長하는 當時日本은熱病들린 小兒의를찻듯이 石炭과鐵을渴求하엿다撫順炭坑과安奉線鐵道는첫愛人을맛난靑春男子와가치戀戀不忘하는것이엇다 그러나淸國에서는容易히이에應從하려하지안앗다이때마치장개에눈이 어두운新郞이收養妹를犧牲하여 愛人과밧구듯이 交換한것이朝鮮人住民와死活問題로아는 間島問題이엇다 이리하야無依無託한數十萬間島住民은마치人形과가리朝鮮外交權에서日本外交權下로=여긔서다시中國의治下로轉轉하는悲運□보내고또한마젓젓다이러한자□十年에風雷故國의□□□함끠 無限한悲哀를胸中의안고아출에馬賊의 銃소래에놀란가슴을 鎭定하기前에저역에여윈얼골에는 官軍의誅討에우는눈물이흘럿다 無人半夜에蒼天을울어보고悲歎하가 몃번이며孤軍한夢魂이 故國을徘徊하가몃번이엇던고? 漠北胡地에서부리오는바람도 變으로추웟스라라 零下數十度의寒天에서내리는白雪이멀리 地平線을덤고漠漠한間島平野가 限업시荒凉할때에 그廣野에섯는朝鮮人의心境□限업시荒凉하엿스리라灰色에싸힌間島의天地는 朝鮮人에게實로情恨이綿綿한 山河이엇다 이러한恐怖와不安中에도世界歷史는 그들에게幾多의課業을□課하엿다 이납을씹는듯한中에서도 民衆은고요하그러나 힘엇게자랏다 三一運動□島自治의總呌 學生示威 暴□□은모다 이가□가는 民□의□□이엇다 새로운 아이를나으려는 產婦에게는 巨大한陣□이 잇는것이다 高句麗의間島 渤海의間島 高麗의間島李朝의間島 統監府出張所의間島 張作霖의間島 張學良의間島! 이것은 幾多의피비린내나는事錄을 남기면서世界의間島도거러나간다 이것은宇宙의進化法則이命하는것이요世界歷史거命하는것이다 李重夏도올엇고 李範允이도울엇고 朝鮮의幾多愛國志士도을엇고 統監府出張員으로갓던日本人까지도상제에게여라우는 복쟁이가라을엇다 或이글□草하는□鈍한記者도무는지모르겟지!\\n그러나世界的漂□인朝鮮人아!모든歷史의 페자우에서울고잇는不幸兒들아! 大地는公平하다 境界를가지고□호든世代는人類前史로써 아地球上에서감추어질른자모른다 東方의鷄鳴□은朝鮮人도世界의新主人으로부른다 그부르□소라는全地球에찻다 世界의間島!世界의朝鮮人!\\n 偉大하여라 英雄的가름을함앗게걸어라(끗)\\n',\n",
       " '科學智識\\n蟻의社界生活\\n金秉河\\n蟻는多數가 集合하야 何處이든지 一定한場所에다 生活巢를 作成하고 人間과가티 昆虫에 蜂顯다음가게 進化發達되 所謂文明的生活로 嚴嚴하게 共同生活을 하는것입니다그들의 生活巢內에는 雄蟻雌蟻及職蟻와兵蟻의 四部의 別로나노하는데 各各自己義務만 行하며 社界生活을 해나가는것입니다\\n雄蟻와 雌蟻는 蟻의生活巢內에서 最高地位를占하고잇는자로서 職蟻들에게命하야 每日가티 附近으로 食物을 모아오는것을 空腹에채워가며室內에서달큼한 戀愛生活을 꿈꾸고잇는것입니다 그리고그들은職蟻와兵蟻을奴隷가티 부리게되는것입니다 또한그들은職蟻들과가티 活動하지아니하고다만戀愛生活에 副產物로생기는여나는 子孫만蕃殖식힐뿐이요其外에□特別한 事業이라고업습니다\\n花園舞臺가 나타나 모든蝴蝶들이노래를부르고 춤을출때에雄蟻와雌蟻는 巢內에서戀愛生活을 끗치고 結婚式이舉行된후 일로써 夫婦가아주成立됨을딸아 四月中旬으로 五月上旬까지에 꼬한번夫婦가相議하고서——마치人間에서 靑春男女가오랫동안 戀愛生活로끄러오르는마음을 썩여가며 속살거리다가 結婚을한후新郞新婚가 國境을넘어 外國으로——或은歷史가깁흔都會地로——또는景致가조흔 名勝地로汽車或은 徒步로新婚旅行을 하는듯이‥‥이들에게 잇서서도人間의生活狀態와 百花가萬發한野原이나 綠陰이욱어진森林中에서슯히우는 새의소리를드르랴고或은數百數千의 昆虫들이팡으로말미암아 아우성치는그들을보랴고 그中自己들에게가장弱者가될만한 도든幼虫들을엇지하면 自己네의空腹을채울수잇게全部捕虜할수가 잇겟는가?모든一年之計을 생각하고비로소 雌雄이空中으로 푸로페라도업시簡單이 飛行旅行을떠나가는것입니다\\n職蟻들은 王蟻의命令을바더數千匹이 一心一體로 自己네의生活巢을 生活하기에 便利하도로安全하게 地下都市를만드는것입니다\\n그러면 엇더하게 生活巢만드는가?그들에게 生活하기가適當하다고認定되는 塲所이면生活窟을採堀하기始作하는것입니다 먼저職蟻들의血汗을흘러가며 口腔에다 흙덩어리을물고秩序잇게 차려차려로 하나식 運搬하야다가 그곳에서멀리떠러진 場所에다 放棄하는것임니다 通行하는 道路야말로반듯이 一定한까닭에 連하고連하야 S字形으로물고放棄하러가는놈과 放棄함을마치고다시물러드러 가는놈과 서로박구이여 往來함이 참으로大端히 奔走하게行動을하든것임니다\\n兵蟻들은 人間으로말하면軍隊의隊長과가티 要所要所에서서職蟻들의熱心으로 活動하는가?怠惰한者가잇는가?王蟻의命令을服從하지 안는者가잇는가?或은엇더한陰謀를하지나안는가?하고監視를힙니다 그것은 마치工場內에서 職工들을監視하는監督者와도갓습니다職蟻을은 이러한監督이 嚴嚴한가운대 地下에다 나무□리와가티 이리저리 얼키설키하게 數尺假量을 드러가며 마치 鑛山에서 採鑛을하야내듯이複雜하지안토록 훌융한地下市街를번듯하게 만든러노코야마는것입니다 그리고 그속에는적어도 十餘層으로 職蟻들만잇는 小室이數十處요 그들의食料品을貯藏하야 두는곳이나或은產卵室等 別處所를自己네들 生活하야나가기에適當하도록만드러놋는것입니다\\n生活巢가 完全히建設되면 職蟻들으生活巢에 外敵侵入을嚴守하고 勤勉的活動이始作되는것입니다\\n職蟻들은 奔走히山野로徘徊하며自己를에게 食糧品이될만한것이면 무엇이든지數匹이協力하야가지고 運搬하야다가 自己同生되는 幼虫들을養育시키며餘物은 貯藏하얏다가 後□에다시食物로 만드러먹는것입니다\\n產卵室에는 반듯이두어머리保護兵이 늘떠나지아니하고 派守를보고잇습니다\\n우리가普通으로 蟻의行動을볼때에 職蟻들이입에다가 一個式물고道路에 彷徨하는것을□氣가清明한날 만히보게되는것입니다 그것은땃듯한太陽熱을바더 卵을孵化시키여 將來의職蟻 即二世의國民을 만들자는것입니다\\n',\n",
       " '出版消息\\n二月廿四日分\\n圖書課納本\\n救世新聞朴駿爕 義勇宣敎報元倫常 朗諺文元倫常 聯盟會報吳璧 麻雀競技法韓慶錫 이소프童話集朴裕玉 여호레나드傳朴裕玉 漁龍畵宋敬煥 新郞新婦尹用爕(以上朝鮮文)\\n金剛警友三橋孝一郞 DKニュ—ス別所義博 道山下良右衞門朝鮮のメ—トル岡崎茂樹 黎明古德倉政 鮮滿公認旅行案內加藤金太郞 經濟及統計河野可澄\\n      (以上日本文)\\n  二月二十五日\\n奬產(鄭世權)동덕(白南奎)人道(金殷東)金海金氏世譜(金聖天)新郞新婦(尹用變)\\n       (以上朝鮮文)\\n柳庭(江田秀郞)使徒(米本重太郞)以のリ(和田山年男)全州商工會月報(三□隅吉)京城興信所報(月下部景勝)朝鮮間接國稅犯則者處分令講座(安田慶淳)生活狀態調查(其三)(朝鮮總督府)經濟及統計(河野可澄)出版界(辻政次)二十五年一睡の感(氣賀澤愛之助)\\n       (以上日本文)\\n',\n",
       " '法學上의結婚觀\\n(四)\\n◇…結婚制度의變遷\\n金 埈 源\\n   ◇\\n 朝鮮의慣習인 許婚又는約婚等의前例를보건데 이 婚姻의本質上 契約이라고解釋되리라고도하겟스나 法律 上見解로는婚姻은 决斷코契約의一種이라고는볼수업는터이다 千七百九十一年度佛蘭南憲法에는 婚姻을 民法上契約이라고 看做하얏스나 本來婚姻이라함은 法規에依하야 夫婦 關係의 身分을맷게됨에不過하며 現行法律上當事者間의 自由意思를基本으로한 夫婦關係의創設을目的한意思表示일것이다\\n 뿐만아니라 民法上契約이라하면 債權債務의發生을 目的한意思의當事者開合意를稱하야全혀 財產權에關한事項을目的함에不過하나 婚姻은 親族과家族의身分關係를 設定하야야婚姻의當事者되는 新郞新婦로하야금 떠러지지못할一共同體化식히는事實인바 一般契約과가티債權價務發生을 目的하지아니한것일것이다\\n 一,結婚의沿革\\n 婚姻의沿革은 婚婚制度의變遷인바朝鮮도 現今制度의狀態는 過渡期에比하야 顯著한差異가 나하낫다고볼수잇는바이를時代의變遷으로만 當然한解釋을함보다 吾等의 社會的生活制度로基因한 自由婚主義時代가 到來함과 法律上婚姻制度가 直接影響이 波及하게된것이다\\n   ◇\\n 男女의結合이 生理上으로부터生하는 自然的關係인만큼婚姻制度의變遷은 學理上으로보아 亂婚制로 始作되야 定婚制로 進步뇌야온것이다 이를時代別로보건대\\n 一,共同婚時代 社會가未開하얏슬古時代에는 엇더한民族을勿論하고 男女間의關係는自己의意向대로 全然自然的結合을하얏슬것임으로 結婚의端緖을 有하얏다고볼수업섯슬것이다\\n 二,掠奪婚時代 이時代에는거의鬪爭 狀態에 存在하얏슬것임으로 一部落의男子는他部落의女子를 掠奪하야써結合하얏슬것이며當時는 溫和한手段으로써 男女間 結合할思想이發達되지 못하얏슬듯하다\\n 三,賣買婚時代 人智가漸次로發達됨을따라 暴力을濫用하야 掠奪的으로 女子와結合은되지못할만치 時代가變遷되얏슬것이나 아즉도 充分한發達이未及되야 女子를買受하야妻라고待遇하는風俗이 生하는同時에 貨幣로써 女子를 엇게되든時代이엿다\\n 四,贈與婚時代 所謂一家의家長되는사람이 女子를男子에게贈與하얏스니 賣買婚時代와가티對價를支拂하지아니한만큼時代는 어느程度까지는 發達되여왓든것이다\\n 五,共諾婚時代 이時代는即現今의文明時代인바 男女雙方이任意的合意로 結合하야써夫婦關係를 成立하는時代이다\\n   ◇\\n 婚姻은 上述 바와가티文化發達치못한 諸時代를 지나왓슴으로 過渡期의女子는 그地位가 極히卑賤하야 人格의存在조차업시 物品과가튼待遇를밧게되엿섯든것이다 따러서掠奪婚 賣買婚時代에는 夫婦關係의認識까지 업섯스리라고推測된다 그럼으로 男女相互間殺害等은例事로 賣買로人身을讓與하든時代가 □婚制時代로變遷됨을따러서 離婚까지 任意로하지못하며 夫婦間의特別財產을 所有하게되야 今日의共諾婚制度로 化한것이다 이뿐아니라 妻의地位人格은 何等男子와다를것이 업게되엿스며 다만夫妻의關係가 夫婦生活上男便을 尊敬하여야한다는意味에서 妻의行爲能力이 法律上制限이 되야잇는터일뿐이다 此所謂『男尊女卑』라는時代는 이미經過되고 二十世紀의『男女平等』이라는時代가 到來하얏스니 將來의 女性아니朝鮮女性의 新思潮는 어느程度까지 向上될가가 重要視되는바이다\\n   ◇\\n 從來도 朝鮮에도 蓄妾制度가存續되야 一夫數妻制가 社會에나타나서잇다 羅馬에서는어느時代에 蓄妾을許하기까지하얏스나 朝鮮서는 이를公認하야온바는 아니엿스리라고생각된다 그러나事實에잇서서妻妾의區別을붓치여 妻와妾을同一親等으로待遇하며 다만妾의所生子를 正庶의別로 相續에關하야差異가잇섯슬뿐으로 엇더한原因인지는모르나 富豪階級에서 흔히蓄妾의慣習이 남아나려온것일것이다 그러나現今進步된社會制度로서는 公秩序善良風俗에違反되는 惡制度인만큼 이社會에서 하로라도 撤廢하여야될것이다 이는現行法律上 一夫一妻主義의結婚의理想을 破壞할뿐만아니라法律上婚姻이라는本意에 矛盾되는制度로 觀察하는바이다最新唱歌尹相燮 安窩先生文集李胤基 긔도의향긔崔峙 哈爾賓驛頭의銃聲李泰浩 어린이날宣傳비라六種高長煥\\n',\n",
       " '法學上의結婚觀\\n(五)\\n◇…結婚制度의變遷\\n金埈源\\n婚姻의豫約\\n 婚姻의豫約이라하면 男女가將來에 婚姻을하기爲하야 相互間約束하는 意思表示를 指稱하는것인데 從來朝鮮에서婚姻의當者될 男女雙方의父兄間에 婚約을하는것이即豫約에該當할듯하나 이豫約이 法律上有効한가 또는慣習上으로나或은道義上으로 如何한가는 難測하나 現行法律上規定이업슴을따러 法理上何等効力이업다고 解釋하는것이 當然할것이다\\n 婚姻은 人倫大事인만큼 舊習을打破하야 法律이認定하는範圍內에 自由的意思의合致로男女가結合關係를 맷는것이意味深長하다고 볼수잇는것이다\\n 萬若 婚姻의豫約이 法律上有効하다고 假定하건대 當事者一方에서는 婚姻 束의履行을 請求할權利가잇게되며 따러相對便에서는 이에對한義務가 發生됨으로 當事者雙方의自由意思의合致에依하여야할性質에違反되야 婚姻의豫約이當事者의意思를 束縛하게될뿐아니라 違約될境遇에는 損害賠償請求를 契約不履行者에게할수잇게되나니 金錢의支拂로써夫婦關係의結合이 되지못한것을 補充코저하게됨으로 善良한風俗에違反되리라고볼수잇는것임으로 民法上婚姻豫約은全然効力이업는것이다\\n 或從來의慣習으로『許婚』이라는것이잇스나 이는當者父母間에 婚姻하기를許諾하는 意思表示에 不過한바 婚姻의豫約이 되지못하는同時에 此亦法律上으로 何等効力이 업다\\n 要컨대 婚姻豫約으로서 結婚成立을 絶對로認定하지안는立法制度下에 吾等으로서는豫約의効力如何를 確知함이必要할것이다 往往히 現今社會의一般推測으로는 民法契約締結이 自由로成立되리라는誤解로서 豫約만하면 婚姻이成立된것가티 認定하야오는 弊端이不無한것이다 現行法律은 豫約으로因한 違約金請求까지도善良한風俗에 違反되얏다는理由로 原告의敗訴判决이 言渡되는바 婚姻의本意上當然措處일것이다 그럼으로 婚姻의豫約을한後에 當事者一方에서事情上 意思를變更할지라도 法律上으로 何等豫約에 拘束을當할必要가업는것이다\\n婚姻의儀式\\n 婚姻을함에는 相當한儀式을擧行하야만된다는 立法例가잇섯슬뿐아니라 朝鮮의慣習으로는新婦家에서 奠雁禮를行한後卺禮를行하여야만 婚姻은이때成立되는것이며 一定한儀式을擧行치못할時는 婚姻은成立되지안흔것이라하얏다 더구나婚姻成立에對한 制限이잇섯는바舊刑法大全第五百六十八條에는『父母喪에居하고 嫁娶한者는笞一百이며 妾을娶하거나人의妾이된者는 並히笞八十이며夫喪에居하야改嫁한者는 笞一百에處함』이라한것을보면 儀式뿐만이아니라 相當한範圍까지의罰則으로써 現行法律의理想과相應한 一夫一妻主義가宛然하얏슴이나타난다 또한當時는階級的又는 地位的으로만結婚이成立되얏든바 兩班과常民嫡子와子間의結婚이 極難하얏슬뿐아니라 政黨의派即老論少論南人北人의四派의所謂『□色』이相異할時는 結婚을通하지아니하엿것다\\n 이와가티 朝鮮의慣習은 婚姻의成立을 儀式과形式에따러서 成不成을决定하야온것이나現今社會制度上으로서는道義上으로 一定한儀式과 諸般形式을비롯하야 階級的又는地位的의區別을 지을것이며法律上으로는 儀式擧行有無로서그效力을 左右하지못하게되엿다然則慣習에從하야 儀式을擧行함을 法律이禁止함은아니며時代의變遷됨을따러서 婚姻은儀式等을 擧行치아니하얏슬지라도婚姻届만 適法하게提出하면法律上正正當當히 婚姻은成立되는것이다\\n婚姻의成立要件\\n 累述한바와가티 婚姻은届出이必要하다하얏스나 이는婚姻의形式上要件인바 有效한婚姻을成立식하랴면 實質的諸要件이具備하야만 할것이다\\n(一)當事者의合意——婚姻은當事者되는男女雙方의承諾的合意로因하야成立되는것이다이는現今民法上婚姻制가共諾婚主義로서立法되야잇는까닭이다그럼으로 父母의嚴命에順從하는것은 道義上別問題이며 法律上으로는 新郞新婦되는當者가 婚姻할意思를决定하야 任意로意思를表示함을要함으로 萬一當者가틀린다든지 或은其他事情에因하야 結婚할意思가업슬때에는婚姻은 當然히無效일것이다從來로朝鮮에서는 戶主되는父母로부터 家族되는子女의結婚을 强制로嚴命하야當者間에는 意思가不合致함에도不顧하고 婚姻은成立되야一平生의夫婦關係를壓制的으로結合식혀오는 慣習이업지안흐나 民法上으로는到底히이를許하지안흠으로 婚姻은男女雙方의自由的意思의承諾이絕對要件이되여잇서서 未成年의親權者되는 法定代理人이라할지라도 婚姻에對한意思表示를 代行하지못하는것이다\\n',\n",
       " '黃金國을차저서\\n鑛山探訪記\\n\\n◇龜城에서一ㅇ生\\n 朝鮮人은가난하다!는것은內外人이다말하는바이다 그中에서幾個의富者가잇스니 하나는三南의穀鄕을中心으로『쌀』을팔아서致富하는것이요 또하나는關西의金鑛을中心으로『金』을캐어서致富하는것이다 쌀이食糧으로서 萬人必需의商品이되는것파가티 金은貨幣로서萬人必需의商品이된다 만일商品制의社會가廢止되면 모르거니와그러치아흐면黃金은 모든商品이란새악씨의新郞감으로 또는萬人의致富的對象으로 그偉力을發揮할것이다 이제記者는이\\n黃金이貨幣로作用하는社會의一員으로서 참으로黃金國인金鑛멋개를歷訪하야 한參考에供하려한다\\n 五月十七日이다 記者는近來에가장有名하야진 黃金의王國朔州橋洞(다리꼴)金鑛探訪의길에 오르게되얏다\\n 午前十時에定州를떠나는 朔州行自動車에몸을실고淸快한느진봄의日氣 新鮮한野外日光을맛보며 瞬息間에方峴市를지나고 龜城邑에다앗다 뒤으로뒤으로疾走하는듯한左右山川의무두녹은 綠陰을바라보면서 幽閑히다라나는 自動車旅行은實로爽快한일의한가지이겟다\\n 龜城에서부터는 乘客이적어지는關係인지 小形車를밧고아타게된다 一時間을歇하야 午後一時龜城을다시떠나는自動車는 前後百四十里를 疾走하야午後二時朔州郡南倉市에닷는다\\n 이곳에서다시 橋洞行自動車를換乘하고 西쪽山谷으로向하야 三十餘里를닷게된다 南倉과橋洞間의이道路는 橋洞金鑛이되면서 생긴道路로서 甚히狹窄하고險하야 人馬가겨우通行하든것인데 鑛山으로부터今春에 等外道路로改修하고 去四月부터\\n鑛山經費로南倉橋洞間通行의自動車營業을 開始한것이라는바아직道路의不完全이極함으로 鑛山에서는一萬五千圓의工費로 所管朔州郡外南面과協力하야 近近에二等道路와가는 坦坦大路를開拓하기에 着手한다고한다 이工事만竣工되면橋洞交通은아조便利하겟다\\n 樹木이鬱蒼한左右의 놉흔山을바라보며 맑은河川을끼고迂廻千曲으로 구뷔를도라서는水深二尺餘에 七八間幅되는시내를건너고 시내를건너서는또구비를돌고 이리하야松林사이로或은白雪가튼 돌자개우으로또는물가운데로 艱辛艱辛히進行하는 自動車는橋洞方面으로부터 흘러나리는가튼河川을十餘次이나 건너게된다 이不備道路로\\n艱辛히運轉되는自動車는 한時間餘를虛費하야 午後三時가지나서目的地인 朔州郡外南面淸溪洞 黃金谷橋洞에到着하얏다\\n 먼저橋洞市街於口의 鑛業事務所를차즈니 鑛王方應謨氏와支配人盧義根氏가『片紙바다보앗슴니다』하면서 반가히마자준다 鑛山探查에必要한 若干書籍을어더가지고 事務所에서指定하야주는旅舘에도라왓다 이날은이곳잇는 몃몃親知를차자보고 市街를一巡하고잣다\\n',\n",
       " '後任總裁에는\\n伊澤氏有力\\n 仙石滿鐵總裁는오래病臥하야到底히그職務를遂行하기가不可能한것을自覺한結果十一日午後二時半鍋島秘書를原拓相에게보내正式으로辭表를提出하엿다그리하야政府는直時後任의銓衡을開始하얏다그리하야그後任에는伊澤多喜男氏를第一로片岡直溫氏等이擧하야財部前海相其他一薩派에서는從來의關係로樺山資英氏를推擧하는中이고又俵前商相도若槻內閣의閣員으로서入閣을除外된際에滿鐵總裁로서의內約이잇다고도傳하야新婦一人에新郞八人의形勢인바滿鐵의經營에는事業家로서의才能外에政治家도서手腕도要求되고잇슴으로目下에는伊澤氏를推擧하려하는空氣가濃厚하다그리하야正副總裁의更迭은數日中에實現될豫定이다\\n',\n",
       " '老新郞이幼妻에게\\n酸鼻할만큼惡刑\\n친정부모가주재소에고소\\n强制結婚이나혼悲劇\\n 곡사군청계면문양리(谷山郡淸溪面文陽里)에사는조서련(趙瑞連)(三二)은 동군 멱미면생왕리(覓美面牛旺里)에사는오영락(吳永洛)(六三)의 부부와아들을거러 당지주재소에 고소를 제긔하엿다는데 전긔조서련의장녀월화(月化)(一五)는작년구월십사세되든해에 전긔 오영락의맛아들 칠성(七星)(二九)에게시집을갓던바 원래남자는 나이만코 안해는나이어림으로 남편에게 만족을주지못하는 원인으로부터 미움이발생하기 시작하야 어린월화에게는 청천에벼락가튼 가진확대가 윌화에게돌고싸게되엿다 시집간지 십개월이넘는 오늘까지 밥이라고는한까도 먹어본적이업고 도야지가먹는밀기울과겨동속을따로이지여먹으라고 엄명이나림으로 얼마동안은 먹다못하여 속에서밧시안코 구역이나는고로 간혹시부모와 남편이먹는 점심밥을몰내조곰식먹게되면 밥도적하여 먹엇다는혐의로 불때는 부지갱이와기타 또겁게단인두나 손에잡히는대로 악형을함으로 어린가슴에 다른방책은업고 할일업시자긔부모가 이런곳으로 시집을보낸것만 원망하며 세상을비관으로 그날그날을 보내면서혹시어둔밤을 리용하여본가로 도망이라도하고저하엿스나 싀집길때에 하날과땅도보지못할 가마속에인도되여갓슴으로길과방향도몰라못하든바 지난단오에도떡을도적하여먹엇다는것으로날카로운 쇠끗으로 입과목과전신을찔더서 지금은온몸이 전신창이되엿스며 그몸을가지고 나가서 김도매지아니한다고하야 갓치나가 김매다가 남편압해서방긔를꾸엿다고 허미로 궁동이를갈겨서 지금은 대변이찍힌다른구멍으로 나오기까지되엿다는데 전긔윌화의부친은인편에 전하는말을듯고 딸잇는곳을가본즉 듯는말과는 조곰도를림이업슴으로 월화를 내여달나고 청한후다리고도라와서 치료식이겟다한즉 온집안이 협력하야 돈주고사온내사람이니 하등권리가 무엇이냐하며 강경이거절함으로 할일업시 쫏겨나와곰곱이생각하다가 당지주재소에고소를하며 전긔시부모를 체포하여 엄중취조한다는데 전긔남편인 칠성은 고소의긔미를알고일즉이 도망하여 자최를감추엇다한다\\n',\n",
       " '朝鮮文庫에\\n寄贈圖書遝至\\n(一)\\n德興書林\\n半萬年朝鮮歷史 大院君과明成皇后 尺牘大鑑壬午軍亂 甲申政變 流行金玉尺牘 甲午東學과全琫準 普通新式尺牘 歐米新人物 時體自□日鮮間牘 實用自修□介松都治簿法 時體諺文簡牘 無師自通學生作文法 時行無雙尺牘 諺文喪禮附祭禮祝文慰□書式 時體諺文片紙를婦人言行錄 時行家庭間牘 家庭敎育女子行實錄 五倫行實歌 朝鮮語自通 無雙註解新舊文字集無雙—語自通 四千年問朝鮮俚請解釋 速成獨逸請自通 百方吉凶秘訣 懷中獨習漢語入門 名字吉凶自解法 雄辯演說法 眞本土亭秘訣 愛의犧牲者 諺文古書 社會主義의哲學 千字破字占法 八道名唱歌謠集 千字뒤푸리노래 花林月夕新唱歌 支那請集成 無雙日鮮唱歌 落花流水新唱歌 肅宗大王實記 現代映畫唱歌 西山大師와四溟堂靑春男女現代日鮮唱歌 金德齡傳 아리랑新唱歌丙寅洋擾 流行平壤愁心歌 成宗大王實記 文明王后傳 雙新郞 平壤公主傳大砲聲 壬午軍亂記 南江月 甲午東學亂 大院君實記 孝宗大王實記 康明花傳 美人의最後黃月仙傳 明成皇后實記 蓋蘇文大戰記 三網門朝鮮太祖大王傳 天生配匹 南怡將軍實記 美人奇事 都元師權□ 九尾狐 甲申十月之□ 江上村 壬辰兵亂小攝傳 靑樓奇緣 壬辰兵亂淸正實記 美人計 壬辰名妓□介實記 玉蓮의눈물 鄭圃隱傳 壬辰明將李如松實記 期米相場指南 愛의樂園 西太后傳 端宗大王實記 獨學英語硏究 右八十四圓\\n博文書舘\\n哀史一 朝鮮之偉人一 朝鮮童謠選集 靑春 樂園의春 暗影向日草 尹心悳一代記 春外春絶處逢生 春夢 리수일심순애薄命花 雪中梅花 夫人觀察使사랑의恨 鴛訣圖 山川草木사랑成功 사랑의꼿綾羅島 海底의秘密 仁香傳 桑田碧海 蒲湘江 萬人傘 昭陽亭 三國英雄戰爭記 崔政承傳 文武大王傳 白蓮花 無情한愛人 仁祖大王實記 一輪明月 咸興差使愛人의사랑 落落長松 시드른芳草 구의산 雙玉涙 仰天大笑 月下佳人 錦上添花 雁의聲 紅白花 明月亨 목단花李舞臣實記 雉岳山上下 梅의香滿月臺 美의淚 風雲男女 靑春의夢 □中花 獄中花 누구의罪 洞庭秋月 情男美女 自動車戀愛 無情花 金剛門 處女의설음 龍井村 梨花夢 江上月 薔薇花 空山明月 枯木花 再逢春 금송아지傳 廉明花傳 江上奇過 孔夫子言行錄子爵夫人 뼤니스商人 붉은실朝鮮史硏究草 古城의秘密 金英一의死 스러지는그림자 첫사랑 金玉均實記 해바라기\\n合計八十五種各一冊式\\n東洋大學堂\\n任健洙者現代人間學槪論 李泰浩者敎育童話금싿애기 京城協賛會編京城案內 元鍾□著에쓰페란토獨習 裴成龍著朝鮮經濟論 崔華淑著雄辯의常識 宋完植著三十世紀□倒論 宋完植著蠻國大會錄 韓澄熙著速算秘法金弘濟著醫書玉□ 宋完植著百科新辭典 玄內□著演說法大方各一冊式\\n永昌書舘\\n偉人金玉均實記 日用大簡牘 新式料理製法 無窮花꼿송이 아리랑民謠 世界名曲通俗唱歌集朝鮮文學傑作集 노리 列國宮廷의秘密 日語大成 하이네詩集 白衣人 빠이론詩集 사랑의동부 英語獨學 漢鮮文懷中新玉篇 日鮮懷中新玉篇 幼稚園노래 어테로가나 靑年時代의活修養 修養讀本 中國語自通 을이글롤 世界童話集各一冊式\\n匯東書舘\\n五千年朝鮮歷史 朝鮮詩人選集東西偉人少年時代 無情 再生童話금방을 사랑의眞珠各一冊式\\n新舊書林\\n사랑의보금자리 금붕어 朝鮮映點全集 東西男女丈夫百話世界童話傑作全集 僧昘悲曲 가뎡언문편지루 最新諺文家庭實錄 時行美文尺牘 黃菊丹楓 死六臣傳 生六臣傳 黃金世界 多情의淚 꼿갓흔美人 大同江 李太玉實記 斷髮美人 各一冊合十八圓\\n',\n",
       " '法律顧問\\n 債務者甲이死亡한바相續人長子乙의(乙도死亡)名義士地를乙의長子(甲의長孫)未成年丙에게甲의生存時全部所有權移傳登記된바甲의債權者丁이右土地에對하야處分할權利가잇슴닛가\\n 一,丙이成年이된다면엇떤手續을하여야함니까(畓畓生)\\n 甲의債權者는土地를差押할수잇슴니다\\n 甲이乙의妻와四年前에姦通한事實이發覺되엿는데乙은當年十九才의男子인데無意식者임니다家族이나他人을代理로告訴할수잇스며告訴成立이될수잇슴니까?告訴하랴면如何한方法으로하는지具體的으로下敎하야주시요\\n         (一讀者)\\n 姦通한지六個月經過하면告訴못하오\\n 甲과乙이同業契約을締結하고國有干瀉地(甲의 名義에貸付된것)에 埋立工事를起하야千辛萬苦로(乙의專力 竣工은히얏스나 아직付與가되지 아니한時에 乙의疲幣窘急한 點을看破한甲은 左와가튼 證書를하야준後그土地를二萬圓이나밧고파라서都食하얏스니무슨方法으로그金額을차즐가요\\n   證 (左記)\\n一,金〇〇〇〇圓也\\n 右는乙을救濟하는意味로施蕙 支拂함\\n   昭和五年一月\\n    年月日 甲某\\n乙某殿   (無名子)\\n  貴問은干瀉地處分과代金處分에同意한것갓슴니다任意同意한것이며何等請求權업슴니다\\n 本來의慣習에依하야甲(新郞)이先幣金을乙(新婦)의父에게주고婚姻□얼마동안同居하다가乙이甲을排斥하엿는바其後甲의强要에依하여乙의父와乙이連帶로서旣取한先幣金을乙이出嫁時還報하마고契約을하엿는대이제乙이先幣업시他處로出嫁하면甲이乙과乙의父에게對하야要求할權利가엇슴니까?甲은乙이온후他女子와同居하고잇는중이며\\n 一,元來戶籍上婚姻手續은업섯슴니다(順川一女性)\\n 婚姻豫約不履行에因한損害賠償과慰藉料請求를할수잇소\\n 一,慶州金姓을日韓合併時洞長이推想的으로金海金姓으로變本貫入籍되얏는모양이오니此를如何한手續으로慶州金姓으로改正함니까?\\n 一,金海金姓乙女와變本이된金甲男은婚姻申告를하얏든바同姓同本은法律上違反이라고入籍치모하오니此는如何히手續함니까?\\n 一,萬一產兒가되면其產兒의入籍은如何히하면조홀까요\\n 一,李仁氏住所를일니어주시요   (神戶K生)\\n 一,戶籍訂正許可申請을하시오\\n 二,戶籍訂正한後婚姻申告하시오\\n 三,以上手續한後届出遲延된始末書를添付하야嫡出子出申告하시오\\n 四,京城府淸進□一七五李仁辯護士\\n 甲이伯氏의長子의連帶保證을하얏든바伯氏의長子가財産을다敗產하고債務를履行치못하게된故도債權者는甲의所有土地를差押하랴고한즉甲의所有土地를全部次子의名下로移轉식히면次子가右記債務들負擔할責任이有함니까?엇더한手續을하면土地差押을當하지안켓슴니까\\n 二,父는有產한데長子의債務를父에게負擔식할수잇슴니까?\\n 三,父의所有士地를次子의名下로移轉하며次子가父의債務를負擔할責任이有함니까?\\n    (龍岡一赤願生)\\n  一,贈與手續이第一좃소\\n二,負擔식히지못하오\\n三,責任업소\\n  一,甲男乙女가內容은結婚을하엿스나 形式的届出을하지아니하여 戶籍上으로는夫婦의關係가업시 同棲하여오다가 乙女가突然히甲男을 排斥하는데는 甲男으로乙女에 損害를請求할수잇슴니가 이런境遇에對하야民籍令施行當時에結婚한것과 戶籍令施行當時에結婚한差別이업슴니가 甲男이乙女를排斥하며乙女로서는 甲男에게 慰藉料請求할수잇겟제요婚姻의有効無効를알으켜주십시요   (瓮津一問生)\\n  戶籍令施行前의事實上婚姻은法律上에도婚姻效力이잇고施行以後無屆出의婚姻은效力업소 排斥으로만은慰藉料請求理由가되지안소\\n 距今二十五年前에우리地方民衆이數萬圓의財產을鳩聚하야 私立學校를創立以來有力者를代表로設立者를定하여信托管理하엿든바 設立者專主權이有함을奇貨로背任하는行動이有함으로 面民大會를開催하고設立者變更하기로次戰하고 監管官廳에變更手續을하엿스나設立者는 主務官廳에結托하여設立者變更許可하지아니함으로 學校는危難狀態에有함니다 裁判手續으로 信托 除할수업슴니다\\n     (高陽一讀者)\\n 訴訟手續으로設立變更은되시안습니다 當局과提携하야設立者의自退를하도록周旋시요   (辯護士□仁□答)\\n',\n",
       " '新舞臺第二公演을보고(上)\\n劇藝術硏究會同人合評\\n 去九月初에 市內團成社에서初演을試한新舞臺는 今日(十七日)부터 또다시團成社에서第二回公演을하게되엿다\\n 本會는新劇樹立을 目標로誕生하엿스니만치 어느때나演劇에적지안흔關心을갓고잇는바어니와 今番新舞臺의第二回公演에도 만흔期待를갓고 이것을보게되엿다 이제 이第二回公演의 레퍼—토리는\\n 1宋海天作 正喜劇安貧樂道 二幕 2任曙昉作 엥여라차 行進曲二幕 3白白子案 笑 劇三父子打鈴一幕等으로 任氏作 엥여라차行進曲 幕場부터살펴보기로하자!이것의第一幕에는 엇더한 建築地에서 十餘人의男女勞働者가基地를닷고잇는塲面이 나온다 그作業온 얼마하지안어서 晝食時間이되어 一女勞働者(朴貞玉孃이紛裝)만남겨두고 十餘人의男女勞働者는 그자리에서 떠나게되자 그女子의 新婚男便인古物商人(李鍾哲)이 登場하여四圓의利를 어든것과 그삿든物件속에든 八百圓을 그主人에게 돌려주엇더니 三十圓의報酬를 주는것을 밧지안엇다는이약이가 新郞의입에서흘러나려올때그의父親(靑春時代에는文人)申不出君이登場한다그리하여 三人이모여서그이약이를되푸리할때 그의父親은三十圓밧지안은것을 子息에게恨한다그때 그三十圓金을도로가지고 따러온사람에게서 밧은뒤그것으로結婚披露를宏壯히해보자하는退場한다 그러나그곳에서勞働하는一人의簿幸의孤兒福男(高龍女孃)이는 點心도못먹고떠러진洋服만입은채로 일할時間을기다리든때 그가依托하고잇는집乞人의딸玉女(金禮芬孃)가 빈거지밥통을들고 登場하여 서로부등켜안고 서로배가곱흐겟다고 위로할때그孤兒의누나인人氣女優(申카나리아孃)가 登塲하여 自己동생福男이를차즈나 福男이는自己누나인줄알면서도自己누나가『體面』云云의말에怒하여福男이는後에오면 차저준다고하고 그女子가집어주는돈도밧지안코 몰으는듯이가라고拒絶한다그女子가간뒤福男이는暫間어듸다녀온다고가버리고 王女혼자잇슬때一勞働者의母親은自己아들의點心을가지고왓스나 作業塲에업슴으로 그밥통을 그作業塲에다노하두고 간다 그새玉女는그밥을 흠진뒤 얼마하지 안어福男이는胡餠세箇를들고들어와서서토밧구어먹고 잇슬때 밥가지고왓든할머니는 밤이업서젓다고 그리면서 作業場으로오고一中國人은 胡餅을흠첫다고덤빌때 老人(申不出)과其他勞働者들이 모혀든다\\n 그리다가 두兒孩의告白에依하여 그애들이胡餅과밤을盜賊하엿스나 그것이 全혀그애들의愛他的心理로흠치엿다는것을알게되자 勞働者들의熱情에넘치는同情金은모히어 그胡餅代를물어주고는 그곳에서비로굶을지라도 남에게依賴치마자는老人(申不出)의말이끗난뒤 우리는다가티 엥여라차를불으며일하자하고 그地面닷는 機械의줄을여러勞働者들과함끠 어린애들도 가티잡아당기며 영여라차의悲調에마추어 第一幕은닷침다 第二幕에는 新郞新婦의披露宴이어느카페에서얼리엇스나웨트레스들의조치못한써—비스가운데에서도豫定金額보다 十四圓超過會計가되자 新郞新婦 그의 父親은大驚失色한다 그러나 거긔왓드勞働者들의 同情的으로 옷을벗는대感心하여 카페主人은全部의 金額을 밧지안음으로一同은 고맙게 생각하고 깃버하는가운데 福男이의 누나(申캐나리아孃)가登場하여 福男이를알고붓는럿스나 福男이는自己누나의 燦爛한寳石과衣服을보고 그것이自己가튼乞人孤兒로는 누나라고할수업다하여그의누나에게말할때 虛榮가운데지내든豪華로운女俳優生活을던저바리고 가티勞働者의무리속에서엥여라차을 불으겟다고盟誓하고걸상을 띄로써매어가지고 作業塲에서하는 地段닷는機械와가티만는러 여러勞働者들과合하여 엥여라치을불으는가운데 幕은고요히닷진다이제첫재우리는이 레페—토리(上演目錄)가作品으로써 잘되엿다고볼수가업다 第一幕으로써 第二幕에나타난것을 너허가지고도 넉넉히 効果를내일 수가 잇슬것이다\\n',\n",
       " '新舞臺\\n第二公演을보고\\n(下)\\n劇藝術硏究會同人合評\\n 첫재로第二幕에서가페에가서披露宴을한다는것은 實現과퍽맛지안는것갓다 古物商人으로僅僅生活이나해가는사람이비로三十圓이란金額을어덧기로서니카페로勞働者들을모하노코披露한다는것은 넘우도 非現實的이고 또福男이와 그의누나가再次만나는場面을 그披露宴카페에서 만나게하지말고 第一幕作業場에서 福男이를다시맛나게하고 그作案場에서그누나가 勞働하겟다고 엥여과차의출을 잡고알한다면 効果를좀더내엇스리라고본다\\n그리고남에게 依賴마자고 하든老人이 카페主人에게서料理代를免除햇다고 感謝하다고굽실그리는것은本精神이어어그러젓다고본다우리는이레퍼—토리의欠點을指摘햇스나 이에比하야 徘優들의演技는第一回 公演때보다훨신進步 되엿다고본다 老人(申不出)의 動作은퍽 自然스러웟고 臺詞에잇서서도 훌륭한演技를 보혀주엇스나다못遺憾되는것은 第一幕最後영여라차를무르면서 幕이내리기바로前에動作을 어리ㅅ광대(道化役者)格으로 하엿다는것이다作品이指示햇스니 할수업스려니와그때그저 滿足한表情으로그엥여치를 바라보고 잇섯든것이오히려조앗슬줄안다 詩人(成光顯)은 詩人으로의熱情이적엇다고본다 멕이꾼(全景希)은퍽그作業場의 光景을잘낫타내엇고 新婦(朴貞玉孃)는조금더自然스러운 臺詞를 썻스면한다新郞(李鍾君)은古物商人으로써는넘우 有識한말을쓰는것이퍽憤憾이엿스나 動作에잇서서는多少 볼만한點이잇섯다福男의(高龍女孃)는 今番에도相當한演技를 보혓다\\n年少한만큼將來를期待하며玉女(金禮芬孃)는臺詞와動作이조금어색한맛이 多少보히나이도年少하니만큼將來가期待된다 人氣女俳優福男의누나(申카나리아)는 第一回公演에는出演치안코 今番이 처음이나(新舞台에는)그의 가느다란몸집에 어느때나 哀傷的氣分이흐르고잇는 表情과台訶動作等이퍽훌륭히되엇다\\n 그러나꾸순한努力이잇지안으면안된다는말을一言하여둔다大體로 이二幕劇은 이것으로評을끗막으려하거니와 安貧樂道는紙面關係로評筆을들수업고三父子打鈴은 評하기에는 넘무레퍼—도리의價値가업슴으로그만둔다 이번公演에서 우리는新舞臺가 演技上으로만흔進展이 잇슨것을 깃버하거니와또그들이\\n新劇運動에만히努力하려고애쓰는것에對하여期待을버리지안코잇다 다만한가지 付托하는것은 幕間餘興이 今番은넘우도 低級하고『에로릑』한짜즈줌과노래 이것이一部觀客의要求일른지는몰라도 적어도新劇運動에잇서서 排擊할일이라고생각한다 或幕間獨唱쯤은許할수잇드래도!\\n 우리는 新朝鮮新劇의曙光이빗나는곳에서 새로운歷史를創造자잇(文責在 咸大勳)\\n',\n",
       " '平昌金鑛探訪記\\n大和支局蓬湖生\\n金!黃金!그는얼마나만혼사람올읏기고 얼마나만흔사람을을니는기 黃金萬能을부르지즈며絶對의權能을 發揮하고온갓□樂을누리랴는 그反面에는黃金을惡魔視하고 不平의붉은피가\\n 소승치고苦憫의呻吟소리가充溢한것이이른바 人間社會라할것이다 要컨댄原始時代가다시도라와서 自給自足으로도能히우리기 할살수잇게된다면모르거니와 그렂치안코現代資本主義制度下에서 黃金이貨幣로作用되여 □人生活에必需不可缺한모든商品이란 시악씨의新郞김으로되고 더욱이黃金이업는무리에게는 하로의生命이라도扶持하기어려운以上에는 그勢力에實로强且大할것이다 이제記者도이渦中의一員으로정말黃金이란얄구진아이가 그母胎로부터產出되는產院(金鑛)몃個所를歷訪하야한參考에供하랴한다이平昌地方에는金鑛이라는말만해도 十里만큼쫏겨기면서金鑛은밋칩늠이나 뜨는浮浪者들의事業이라고하든 이곳에도昨今兩年에亘하야 出鑛區域이七十餘個所이고 採鑛個所도十餘處이다 이中에도最近朝日人間의區域競爭으로 問題기만흔平昌郡大和面飛橋里에第一着의발을드려노앗다\\n愁雲底徊의德財金\\n이金鑛은平昌郡大和面雲橋里에介在한鑛山인네 昨年十二月에橫城邑內方顯榮氏外三人이出願하야 今年五月에開鑛하엿섯는데그 리良好한成績을 엇지못하야甚히焦하든次에第四脈이發見되니 幅이四尺以上乃至六尺이고石質은花崗岩으로構成되엿는데 最初發見時에는 一包袋(二十貫)에十匁以上產出되여 德大式으로分鑛을식혀 採掘에着手하게되니 二當時에는各地에서雲集하는 德大와鑛夫기四百餘名에達하야 大盛况을일우웟다한다\\n스러나엇지뜻하엿랴 千萬意外에京城에잇는西山吉兵衞라는日本人이 自己鑛區內라고하야 於是乎問題는突發되여於此於彼에 競爭이일어남을따라 總督府鑛務課에 判定申請을하엿슴으로 實地測量을한然後이면萬事는解决되라라한다\\n鵲巢鳩居의雲橋金鑛\\n이鑛山은前記德財金鑛第四脈을自己의鑛區라고主張하는日本人西山吉兵衞가 乙區만登錄되여面積은 一萬九千百坪이라한다金鑛區域이야朝日人間누구의것이던지於我不關이지만은이야말로『큰집잔체에 작은십도야지만죽는다』는셈으로 資本家들의利權問題로 갑작이失業의鑛夫들은饑餓線上에서彷徨하고잇다하로밧비問題가解决되여金도잘나오고失業群들의밥이라드어더먹기를暗祝할따틈이다(未完)\\n',\n",
       " '明川에反早婚運動\\n戰術은新郞逃走\\n父老들은不安狀態\\n  지난이일함북명천군아간(咸北明川郡阿間)에사는최모의집에서는혼인날신랑(新郞)이업서저서 일대소동이 이러낫섯는데 필경숨어단니는 신렁을차저서 겨우 잔치를지내엿고또지난사일에는 김모의집에서혼인날을 멧칠압둔 신랑이어대인지도주(逃走)하야그지방의한이야기거리가 된나는바 이제탐문한바에의하면 명천지방은 원래호인의 페풍이 심하니만큼그지방소년단에서는조혼반대에데한운농을 적극적으로 하기로되야 조혼하는연가(宴家)에 가서는 선전삐라가튼것을 분포하다가 경찰의손에잡혀 구류처분을당한일까지도 잇섯스나 그러케조흔성적을 엇지못하고 잇든터인데 최근에는 혼인날을낭하면신당자신이 도주 피신하야결국호인을 성립식히지안는 기묘한전술이 류행된다는바 전긔신랑도 모다소년으로서 조혼을반대하기위하야 출가한것이다 는데이에대하야혼가는물론이오일반부모들은 극도로 불안한상태에잇고 소년단에서는 이러한전술로 조혼의 철저적퇴치를확신한다는바 이를 한낫이야기로만넘겨버리기에는 넘우나 앗가운사실이라고 그지방식지간에는 이론이분분하다더라\\n',\n",
       " '人氣沸騰의延專學生劇公演\\n二十七日夜七時公會堂에서\\n『톨스토이』의『어둠의힘』上演\\n이미보도한바시의연희전문학교학생회극연구부 (延專學生會劇硏究部) 제일회공연 (第一回公演)은본사학예부후원으로 이십칠일오후칠시에 시내 장곡천정공회당(公會堂)에서열리는데상연각본이 문호레오,롤스로이작『어도의힘』인만큼충문하연습을마추엇는데 학생들의 출연인만큼 매우주목할바임으로 벌서부터 인긔가비등하야 관극권이이미예매가만히되여정각전에참석치안으면 랑패인바 될수잇는대로 일즉자리를잡고 잇슴이조켓고『어둠의힘』에등장할인물들과긔타는아래와갓다\\n——舞臺——\\n第一幕 표틀의집 넓은內室\\n第二幕 표틀의집과길거리의\\n一部\\n第三幕 표틀의집\\n第四幕 第一場타적마당 第二塲第一幕과同\\n——配役——\\n표를(豪農,四十二歲,再婚者病中)       昇 應 順\\n아니샤(그의妻,三十二歲,사치하는女子)    裴 恩 受\\n아크리나(그의前室딸,十六歲귀먹어리,天痴)  安 時 永\\n아늇카(그의둘재딸,十歲)\\n          趙 漢 普\\n니키타(머슴,二十五歲,美男)\\n          張 鉉 稷\\n아킴(니키타의父,五十歲,篤實한信者)    李春 三 伊 \\n마트료나(니키타의母,五十歲奸狡한女子)    黃 材 景\\n마링까(父母엽는女子,二十二歲)        林 泳 植\\n말파(표틀의妹)  姜 瑩 周\\n미트릿치(老僕,退職官兵)\\n          鄭 學 龍\\n隣女A        元 裕 淑\\n同 B        吳 成 根\\n마링까의男便    元 裕 玨\\n洞女A        金 兼 煥\\n同 B        南 應 孫\\n駐在所長      池 憲 英\\n洞長        劉 三 悅\\n馬車夫       金 柱 雄\\n아크리나의新郞   高 舜 旭\\n新郞倍從      李 善 柱\\n新郞의母      昇 杓 乭\\n其他群衆‥‥‥‥\\n 一圓 五十錢 三十錢\\n',\n",
       " '新婦업는婚姻宴\\n외쪽新郞만憤泣\\n홍원간신부가오지를안어\\n新興東上의년센쓰\\n 함남신흥군동상면원풍시(新興郡東上面元豊市)김재경(金載敬)의집에서는지난이십오일에 신무도업는 혼인잔치를차리고일대우숨거리를연출하엿다는데 그내용을들으면 작년오월분에 우김씨의 셋재아우김재만(〇載萬)(二〇)군과동면달아리오구(同面達阿里五區)류흥석(劉興錫)의둘재딸 류고분(劉古粉)(一六)에게혼수백원을주고 약혼한사실이잇섯다 신랑측 에서는 항상신무될류고분을 보려고하엿스나 신부의부모는 말하기를 신부된사람은 홍원읍압내원촌(洪原邑前內原村)숙부의집에가서잇는바 이제 숙부가죽어서돗온다느니 당자가 병마로인하야못온다느니 가지가지로 변명을하여오든바 금년에와서는 결혼례식을하려고납폐(納幣)까지보내엇다한다 지난 이십이일에는신부의옵바되는 류환홈(劉煥欽)과어머니되는 최씨(崔氏)가당사자김재경의집에차저와서하는말이신부의아버님이따님다리러간것이 이십여일이 되는데도잔치할날이 수활밧게안되는 오날까지 돌아오사아니 니 잔치날자를 연긔하여달나는등능의여터말을하다가 신랑측에 꾸지람을밧고 자긔가또다시 홍원에가서 신부를다려올터이니 잔치날까지 기다려서 만일에신부가오시안는 동시에는 엇지엇지하라는 청서(請書)까지 하여주고떠낫는데 과연잔치날인 이십오일 오후열두시까지기다려도 신부될사람이 오기는커녕 다리려갓든 신부에아버님과 옵바좃차소식이업슴으로 그와가티 헛되인잔치를 차리엿다는바 신랑측에서는 극도로분개하야 신부의유무를 탐문코저 홍원으로갈작정이라고한다\\n',\n",
       " '結婚前日에新婦逃走\\n헛訃告에葬禮準備\\n新舊衝突의家庭년센스劇一幕\\n◇=憤慨한新郞家에서는告訴\\n서천군동면문곡리(舒川郡東面文谷里)신모(申某)의딸신경애(申□愛)(假名)(一八(는그등리 김모라는남자와 비밀히사랑을 속삭이여오든바 이것을알게된 그의부모는 두사람의맛나는것을 극력저해할뿐아니라집안의 큰수치라하야 멀리동군한산면축산리(韓山面䡒山里)류모(柳某)의 강제약혼을 하게되엿섯는데결혼일날을잇홀을남기여노코지난십일월이십구일밤에두사람이손을마주잡고자유의사랑을차저서 군산부외둔률리(屯栗里)전긔김모의사촌(四寸)의집에숨어잇는터이라는바전긔와가터결혼일 잇홀전에 자긔의딸을일허 버리게된 전긔신모는사실대로 신랑집에 통지하기는너무나붓그럽다하야 지긔딸이 죽엇다고 헛 □고(訃告)를 하게되자신랑집인 류씨의집에서는 의외의일에 크게놀라 결혼은아니하엿다하드라도 그대로 잇슬수업다하야 장례에사용될 여러가지물품을 준비 하야가지고 가본즉죽기는고사하고 다른 남자와멀리도망 하엿슴으로 혼인준비에도수백원의 경비를 허비하엿는데더욱히 헛부고를 보내여서또한적지안흔 손해를 입게되엿다하야 류씨의집에서는 손해배상명예 훼손등으로 그곳경찰서에고소 를제긔하엿다고한다\\n',\n",
       " '小男少女가 結婚한奇談\\n 近日當地에評判이놉흔結婚珍談이잇다이야기의主人公은『히두다·부롯쿠스톤』孃인바孃은二尺六寸의身長인米國女子□成年이된孃은熱烈한戀心이소사오르게된바그相對者는누구일가?身長三尺八寸□□—지·히세□』□이다그런데히두다』孃의母親은작은男子는실타고大反對어디結局『히루다』孃은『히—이』君과秘密히臺灣의典를舉行하엿나이것을안母親은即時夫婦를相對로警察에告訴를하얏다新婚夫婦가和睦스럽게生活하고잇는곳에逮捕하러온警官은『히루다』孃이적음으로十四五歲의少女도생각하엿는바新郞『히세이나』君은警官에게달려들어두사람의사랑을 깨지게하는것은너무慘酷하다第一로『히루다』孃의마음을 드러보는것이必要하지안은가그러고『히루다』『孃은 十五歲요훌륭이自由結婚할資格이잇는것이다\\n警官은『히루다』孃이二十五歲라고함을듯고놀래이엿다는것이다\\n',\n",
       " '新婦一人에\\n三新郞入塲\\n네안해냐?내안해다!\\n일대난투극을연출해\\n永興넌센쓰劇一幕\\n속담에 백세를살면 귀신도본다더니과연 참말일지도 모르겟다실로 복잡다단하고 혼돈잡답한이세상에 하고민은날 사라가노라면 별별긔괴망측한일을 목격케안되리라고그누가보증하랴?\\n 요지음 당지에서 생긴에로—크로—백퍼—센트의넨센쓰극이야기를 한번들어보아도 속담의일리를긍정키어렵지안타\\n 이야기는 이러하다 지난삼월초순경 당지엇던곳 엇던집에서사위(婿)잔치를차리엿는데예정의시각이되자 미리약속햇든 사위는키놉흔 말장등에 안저바로위세당당한 긔세로 십여명수행원의호위아래 그집대문에 다다라호례식을 거행하랴 하는즈음에돌연 이십여세의 장한한아가낫하나며『이집사위는내인데엇던자식이 이집에장가를드는가』고고성질호하며 혼례식장에 침입하야 큰상을 휘두드리며신랑을드러제치고 바로 신랑의자리에안는등 한참밧작 소란하는—마츰그때에 업치는데 덥치는격으로돌연 또한아의 청년—당년이십이십세의 장한한아가 내다라오며『이집에 장가는 엇던놈이들는지 좃타그러나 신부만은나의애인이니 너희놈들은 절대로침범치못한다』호령하며야료하는등 일대활극을 연출하엿스니아!이야말로 삼십이년이 야니고는 보기어려운 넌센쓰극의한아이엿다아!독자 여러분이제한꺼번에 세신랑이 한혼례식장에낫타나 대란투를 연출하게되얏스니 잔치에왓든 여러친척과동내 사람들은 엇던영문인지를몰라 이러지도—저러지도못하고모다 정신나간사람처럼 번히보고만 잇섯스니 과연이사건의주인공인 신부는 엇더한녀자이며한녀자에게 신랑이 작작셋식 한혼례식장에 낫타나서로그신부를 빼아스려고 대란투를연출하게된 연유는 엇더한가?이는독자제씨의 흥미의 초점일것임으로 아래에그사실을 적어보고자한다\\n 금지옥엽가티 귀엽게 길러낸딸의일생을 위하야 원앙의짝을구하야서 그의축복된 장래를긔대하며 유명한일관(擇日者)에게날을택하야 사위를 마즈려고잔치를채린 신부의집 호주는영흥군진평면 천황리(永興郡鎭坪面天皇里)김정철(金正喆)(假名)이라는자요신부는그의사랑하는 한아의 귀여운딸이엿스니그의일홈은경희(敬姬)(假名)요나히는당년십팔세의아름다운처녀이여서일즉이그근방만흔청년의선홈(羨欽)의적(的)이업스며대상이업든것이다\\n 경희!그가 열여섯살 되든해봄!불탓든 잔듸에 속입나고말낫는오야지(李)줄거리에고흔꼿이피기시작하고 문들네꼿 송아리에는 흰나븨봄잠이 깁헛고철죽끗나무가지 밋헤는 깡장거름을가며 요졸거리는 봄새소리가장할때이자 자연의 포덕으로우주만상은 자유와 평화그리고아름다움의—그속에모—든형락의달큼한 꿈을맛보려할때 그때까지오직탐스러울뿐이던그의머리에는 이성을동경하는 그무엇이그의가슴속에 돗기시작 하엿스니때마츰 경희를열열이 애모하든중의 한사람인 그동리에사는리모(李某)(假名)라는청년과사랑을서로 주고밧게되엿다\\n 이팔청춘!아름다운 처녀인경회의가슴속에 타오르는 정열적인사랑을 독차지하게된 리청년의축복된 경희야말할것도 업지만 경희자신에게도 이상업는영광이요만족이엿다\\n 두사람사이에 남모르게 오고가는사랑의 열도는 즉금필자가여실하게표현할수업슴을유감으로생각할뿐이다그대신오직독자제씨의넓고깁흔상상에맛겨둔다변하기수운것은 사람의 마음이라하건만 보대도애정으로 이러난일시적 충동이라건만 이두사람은남달리 날이가면 갈수록사랑의열도는 놉하저서『나는단하로라도 사랑하는 당신이아니면살수업다』고입으로—편지로몃번이고 속살거렷든 것이다참말그들어 이세상에서 사라가는것조차진정한 련인을 위함때문이든것이다 그두사람의눈에 뵈이는 이세상모—든인간 안니생물과 그리고 만상의움직임 까지도자긔두사람의 사랑을 위하야잇는것으로박게뵈이지안엇다\\n 그러는사이에 그들은 언의듯수화라도 무릅쓰고 생사와고락을함게하고 일생을 가티할것을굿게굿게맹서하엿든것이다\\n 세월은흐른다!세상은변천한다!그러나경희와 리청년이두사람의 사랑에는 아모변함이업섯다 첫날이나오날이나 한결가튼열정으로 날이면 날마다홍염이뻐치는 사랑의 불덩이를안은채괴악한 세인이눈을 피하여가며서로서로 만나기를 게을리하지안엇다\\n 호사다마!이는인간생로에가장큰모순이니 언제까지든지 정열에뛰고 진정한사랑속에 살여든경희와 리청년의 사이에도이모순은 피할수업는 운명이엿다동쪽하날에 검은구름은 떠다순조로 사라젓스면 조흐련만은사나운바람이나모진비가내릴증조임에 틀임이업다면 이럴때마다농사집백성의가슴은얼마나조리는것이랴!보래도축복된행락에서살여는 인간의 아름다운생명을저주하는운명의신!그의악독한채죽에마즌 경희와 리청년의사랑의장래가독자제씨의가슴을얼마나저리게할것이랴?\\n',\n",
       " '新婦一人에\\n三新郞入塲\\n일대난투극을연출\\n永興년센쓰劇一幕\\n경희가 열일곰살되든해 가을이다소조락막한 가을바람은 천산만학을후도라들고 담가에 모여드는마른입흔 한여름 누리든영화의속절업슴을 애틋이 하소하는때는왓니\\n 그럿타 그가을이다!만주의험악한풍운은 언으때 사나운바람으로 될것인지?그럿치안으면모진비가 내릴는지?몹시도국제정게의 날카로운 신경을쑤시고남들의 리권다툼에 애꾸진재만백만동포의 안위가 한가지관삼사로되여 잇는데 겸해조선내지의 동포들은 불경긔와흉작으로인해 그아우성이 떠들성하든일구삼일년가을이다경회의아버지는 이런것저런것을 리해할여지가업니 다만시긔나희가 한나둘식작고늘어 필경 이세상에서복락을 누릴날이 멧날안인것이그의 최대관심사이요 가장큰문제이엿다\\n 뜰에수드런이홋터진나무입홀바라보고『세게인누백추래수엽황』이라는고시를애조로을퍼내이고는희여가는수염을흘쓰다드므며자탄한남어시에『자고노영웅렬사가그아모도이길을못막앗거던낸□어이하리!다만슬하의단한아인귀여운딸경회에게천상배필을구해주어—경사를보앗스면하는것이그의최대희망이엿는것이다\\n 경희아버지!그는 자긔가 리해하는한도까지의인물을사위로구하게되엿게그러나 그는 봉건적잔재물에 지나지못하는 완고한아버지이니 과연엇더한 인물을자긔의사위로물색할것인지는독자제씨의 취상에 맥기자—\\n 잘되얏건못되얏건경회의혼담은한입두입넘어 세상이다 알게되자『요조숙녀군자호구』라는세음으로경회의 선성을듯고『요조숙녀』를 차자드는중매는그수도헤이기거북하리만큼만아섯든것이다\\n 경희아버지의마음에오작깁벗스랴만은 그러나 경회의게는그것이최대의고통이엿다경희자신은임이홀륭한이인을가진녀자이것만세상은 얄밉게도 경회의이러한사정을 전연모르는 것이니아즉도 천진한그의 가슴이오작이나 답납혓슬 것이랴?한때는 가진모험을 다하야이사실을 부모에 고백해버릴냐고몃□이고 심건햇결만 그래도경회는 완코한가정에서 엄한교훈밋헤 자라난 터이라지극히약한녀자의 한사람이라 몃번이고 긔회를엿보다가도 어린마음에결과가 엇지될지몰나 참아말이나가지못하얏든것이다\\n 경희에게 이세상은 몹시쓸쓸한것이엿다 혹시 경회의이러한시정이나 고민을 집작이라도해주는사람만 잇섯든를 경회의게야 얼마나 안심되얏스랴?아!이도저도 모르는세상이 그의게얼마나 안탁갑고 원망스러웟슬것안가?\\n 이도 저도모르는경희 아버지는귀한딸의 고민하는 양도모르는체 문벌이홀륭한 엇던곳윤씨집귀동자와(十四세)약혼을하게되얏다\\n 그때의 경회의가슴!안타가운그가슴!독자여러문!그래도그는자긔의모—든리상과희망이다깨트러저도쓰라인가슴속에매친감정을폭발할용긔가업는녀자엿슴을 엇지하랴!봉건적유습에저즌 완고한가정에 자라난처녀!경희!그는그리늣늣하고아름다운 녀자이여서 도저히압력으로 가저야할 용긔를뺏긴녀자임을 엇지하라!아름다운경희에게 이럿케말하기는 딱하다만은 그는사실에잇서 인형이다아니그는 경희뿐아니다 봉건적유습에 판백힌완고한 가정에서자라는녀자는 모다인형에 불과하지안트냐!아!독자여러분잔약한녀자중의 한사람인경희!그는애처롭게도 오날의풍파가 연술될씨를 경희자신이심엇고 그의장래를 그릇칠함정을경희자신으로 파두엇든것이엿다아!어린처녀의 압길이 가엽다만은 그러나제잘못으로 꿈여진풍파이니 한편민망도하다 아!이모는것은 경회의잘못에잇는것이아니라 저도!그것의잘못인것이니 다!경희가 한끗불상하고 저도!그것이 끗업시민망하고냐!\\n 자식을 사랑하는데야 어머인를 아버지만못하랴— 차라리어머니의사랑이 더맹목적열정적이엿스리니 경희어머니가 그아버지보다 사위를구함에도 더치밀한주의를 햇슬지도모른다 그러나긔구한 경회의일이라 사위를구함에잇서서도 그의아버지와 어머니의의견이 아조의합지못하야 서로제각기 사위를구케되고 또약혼을승락하는때도 아버지는 아버지혼사로— 어머니는또한 어머니혼자로 하게되니아버지가어든 사위외에 어머니가어든사위가 또한아잇슬것은다시말하지안어도환한일이다아!독자여러문 이것이야말노 삼십삼년에는 다시잇섬즉하지안은 넌센쓰가아니고 무엇이랴!\\n 이제다시말은 본길로도라간다 어머니가어든사위는 영흥읍에잇는 김모(假名)라는 당년이십이삼세에나는 청년으로 이도저도 그사실를모르고잇다가 자긔의약혼배우인 경회의결흔식이 아모날에거행된다는 의외의소식을듯고 엇전영문인지몰나마츰결혼식말에 신무집까지갓다가 그관경을보고 참아격분한감정을 누트지못하야 한참분경중에 뜻밧게또한 사나희가나서서 야단을내리는자잇섯스니 그가경회의진정한애인리모이엇다\\n 그래도 윤씨네신랑을 호위하고온 호위군들은 즉석에도라가되 당년열네살뇐신랑!소위신랑만은두고 도라간것이다 실컨우슬재료가 아니겟소!\\n 이제인간일생에 한번만나는결혼식!경희일생을 좌우할중대한결혼식은 흐지부지 되엿지만 금후과연경희는 리청년과다시달큼한사랑을 계속하야 갈것인가?그러치안으면 윤신랑이나 김청년의애인이 될것일가?그럿치도안으면제사자(第四者)가 그의애인이될것인가?과연그는 언늬편을택하야 다시축녹된살임을 지속할것인가함은 독자여러문에게 궁금증을출 재료이겟슴으로 일후그진전을보아계속보도 하려하니 미음이초조한대로 그때것 참을수밧게업는일의다 그리고그동안더가증(可憎 한제도의밋헤 유린된경회의처지를 동정히며 장대를죽복해주기를바란다\\n',\n",
       " '新郞新婦\\n무용게(舞踊界)의 일홈을 날리는조택원(趙澤元)군은시내인사동(仁寺洞)변호사최진(崔鎭)씨의 둘재령양욱진(玉振) 양과 이십이일에 신부자택에서 화촉의전을드리엇는데 신부는동경음악교출신의재원으로두사람이다무용의천재라하니실로예술이마저준가연이다\\n',\n",
       " '演劇本能論\\n(下)\\n柳 致 眞\\n演劇的本能에關하여서도\\n露西亞의有名한博學的演劇理論家 에브레이놉흐의明快한著書가잇다 그는그著書에서이런 意味의 定義를하얏다——即\\n——劇的本能이란 人間의 變形의本能이다 即外部에서바든心像을 內部에서 任意로그려낸(第二의)心像으로써 置換하랴는本能그것이라고 하얏다\\n 쉽게말하면 演劇本能은우리의아페存在하는 自然物象그것을엇던다른 物件으로 變形시켜서보랴는 本能을말함이다\\n 大體 人間의藝術的 衝動에는 두가지의 本能이 作用하고 잇는것이라 그하나를 詩的本能이라함은누구나아는바이다이詩的本能이란우리의旣知하바와가티 自己를 表現하랴는衝動이다 即\\n純一無二한 自己를쏘김업시 外部에表出하는것이다 詩의 가장純粹한表現인抒情詩는 作者의心琴에서 時時때때로 흘러나오는 赤裸裸한感情의記錄 그것이아니랴?\\n 그러나 그와反對로 劇的本能이란것은 自己以外의다른것으로 變하야보랴는慾望 即自己自身을 숨키랴는慾望이다\\n 그럼으로 戱曲에서는 作者의主觀이 바로그대로 露出되야서는 도로혀 失敗되기 쉬운것이다 作者의 主觀은 언제든지뒤로 숨키고事件의構成만이 客觀的으로뚜르시建築되여잇서야할것이다\\n再言하면\\n詩的本能은自己를『나타내랴는』것이오劇的本能은自己를『숨키랴는』것이다 그럼으로前者가 自己를形成(         )하는것이랴며後者는自己를變形(         )하는것이라하엿다\\n 그러나『에브레이놉흐』는말하얏다 이『變形』이란 劇的本能은『形成』이란 詩的本能보다는 人類에 잇서서 는 몬저發生 된 것으로 藝術以前에 생긴것 이다 그뿐아니라本能은 藝術以前에 存在하얏슬뿐더러 往往우리의生活以前에도屬하야잇섯든것이라볼수잇다하얏다\\n人類學者는古墳을發堀할때 그안에서 광이와 武器와가튼 原始人으로서는 生活上必須不可欠의道具를發見하기前에 목거리와팔거리가튼裝身具를發見한다 이는 그들原始人이 밧를갈고 敵을防禦하가前에 몸을裝飾하얏든까닭이다\\n몸을裝飾하는것은 即自己를變形시키랴는劇的衝動에서다\\n 녯날의王乃至 酋長께서普通百姓들과는 다르게보이게스리아주大端하게몸을\\n裝飾하든것은그들의업는威嚴을뽑내랴는 變形的本能에서나오는것이오 三越吳服店가튼큰百貨店의玄關에서 드나드는손님에게 人形가티點頭하고섯는 뽀이의看用한『유니폼』은그들으로하야금로폿트(人造人間)으로 變形시킨것이다그러고보면 ××의차는軍刀는그의貴한人間性을 塗寂시켜버리는 한劇的道具알것이다\\n 그러나그보다도 우리의生活中에서 가장露骨的으로이演劇本能이 發揮되야잇는것으로는人類가數千年동안 그의生活感情에서 案出한各種의『儀式』일까한다 오늘우리가가지는여러가지儀式中에는 結婚式과가튼우리의깃븜을 表白한것과 葬式과가튼우리의슯홈을\\n具衆化한것이잇스되그가튼儀式이 擧行되는것을目睹한우리는그中에만흔 劇的要素가 含有되야잇는가를發見하는것이다\\n 歷史劇에서나 參考할수잇는녯날文官의仕帽朝服으로써 粉裝시킨 舊式婚禮는두말할것업거니와 所謂近代的感情에서採用하는新式結婚式은 엇던가?면삿포를씨운新婦와연尾服을잡수신新郞이 팔에팔을끼고피아노曲調에마추어 아실랑아실랑式場으로 거러드러올때그들의그얼마나劇的인가를 우리는안다 그리고굴冠제服으로촛불미테서『애고』야\\n부르짓는葬禮여긔에서는우리는구수한演劇味를意足히맛보는것이다 그外에宗敎的儀式(特히舊敎라마敎가튼것)에이르러서는 實로劇的以上이다\\n 그러나 이가튼演劇的本能은어른에엇서서보니 天眞란만한童心에서더適切한實例를본다어린애들이 人形을안고自己의사랑스러운同生과가티노는거며막대기를 걸타고말(馬)달리는신융을하는거며『꼭기오!날샛다!밥먹자』하는솟곰질가튼遊戱本能은 全혀그들의劇的衝動에서 이러나는것이다\\n 그러나 이演劇本能은 人類만이가진것이아니라 動物에서서도 그實例를 發見할수잇는것이다\\n 即 動物이가진『擬態』는이本能의가장 單純한表現이라 보는것이니 이『擬態』의 實例는\\n下等昆虫에서日常우리의目睹하는바이다엇던벌레는다른敵이달려들면 금방좌은드시업드려버린다 이것이即擬態를꾸미는것이니 그의演劇的本能의端的發露이라본다\\n動物이一般으로가지는 保護色깃튼것도勿論劇的變形이라볼수잇는것이다 南米의岩島의一種은 미뉴엣트를演出하고 手長猿의一種은音樂的合唱隊를꾸며논다는事實은 이미따—윈도指摘한바이다 그리고고양이가쥐를잡는것을보면 고양이는 쥐를잡으랴고 쥐는 고양이에게잡히지 안으랴고서로 意識的『欺瞞』을꾸며낸다이『欺瞞』!이것은勿論自己를숨키랴는\\n劇的本能이다 마치人間의自己의犯한行動을 숨키랴고 시침이를 똑떼는것과맛찬가지로‥‥‥‥\\n 大凡 이世上의 모든犯罪는그것이 法이라는 陳古한規定을넘어서 새로운實在를 꾸며내랴(即變形시키랴)하는限에잇서서는 한劇的本能의發露이라할수잇다\\n 이가티 人類에서만이아니라動物에서까지 이劇的本能을發見하는事實은 實로人間이 人類에까지 進化되기前에 발서이本能을享有하고잇섯스며 이미 實用하고잇섯다는事實을立證하는것이아닐까!\\n 이로써우리는우리의血管쏙에\\n이本能이얼마나가피뿌리박켜잇는가를짐작하는同時에 아페말한바演劇本能이란우리의生活以前에 存在한것이라는 立說에 一致하지안흘수업슬것이라生覺한다\\n 이가티 生覺하야나가면 實로『演劇』을除去하야이宇宙를生覺할수업다 이宇宙는오로지테아트라크(劇神의神)의支配미테잇는것이니쒝스피어가 갈과한人生이란 하나의舞臺이오 우리는거긔에登場하는 한俳優이란意味의말이 여긔에서다시한번全幅的으로 肯定되는것이다\\n       (一九三二十月)\\n',\n",
       " '老新郞이不滿하야\\n自家에放火\\n방화罪로法網에걸려\\n 춘천군 동면 상걸리(春川郡東面上傑里)박천쇠(朴千釗)(二四)의안해리금섭(朴錦燮(一五)은자긔집에 방화(放火)한혐의를밧고 얼마전춘천서 에체포되야 목하엄중한 취조를밧고잇는중인데 이제 그상세한바를들으면 리금섭은 지난일월이십구일 박천쇠에게시집 온이래남편이 나가만은것과 또바보비숫한까닭에 항상가정이 불평한중에지내왓다한다 그러던 끗헤이달십오일 오전한시경 불평을참지못하야 자긔짐에다 불을놀것이라는데 방아간 힌채를전소하고 주택까지연소하는것을 동리사람들이진화한것이라한다\\n',\n",
       " '婚禮當日新婦가\\n新郞에게退去命令\\n팔병선신랑과는살수업다\\n結婚喜悲劇한막\\n  손꼽아기다리든결혼당일에 례식을성대히 맛치고보니의외에도 신랑이 불구자라하야신부는 당장에서『불구자와는도저히백년을 동거할수 업스니지체말고 바로도라가라는』칭천벽력가튼 명령이나리여 깃봄에가득찬 신부집에는 수운(愁雲)이들돌되엿다는『딘센쓰』극한막이열리엿다\\n원적을 아성군금광면(安城郡金光面)까틔에두고현재안성읍내에서사긔 장사를하는 김모(金某)에장남감철성(金喆成)(一七)(假名)이라는소년과천안군입장면흥천리(天安郡笠場面弘泉里)에서주하는주모(朱某)의차녀주순희(朱順熙)(一八)(假名)라는처녀는 지난이십일일 신부집에서 성대한 결혼식을맛치고집안사람은물론 근에서 모힌친척들도 깁붐에넘치는 얼골에우슴판이버러젓는대 나어린 신랑만이 근심스러운빗흐로 엽구리에다 손을넛코 안에는붓터잇지안코 밧갓흘 거닐고잇슴으로다소 이상키는 생각하엿지만은원로에 피곤하야 운동하는줄만알엇다 그리하야 반가운저녁시간만기두르고 잇든중 신랑이팔하나를못쓰게되여 신랑에게저녁상을 갓다수엇스나 신랑은밥상을보고 엇절줄을 몰음으로엽헤잇든사람이 밥먹기를 권하니 그는할수업시 외인편손으로밥숫가락을들엇다한다 여기에서 어린신랑의비밀은드듸여 여러사람에게 알린바되여 이것이신부의귀에까지 드러가 신부는『불구자와는 동거할수업소』라는 간단한리유로 결혼한지몃시간도못되여리혼을선언하고당장에서도라가라고명령하엿다한다\\n',\n",
       " '劇硏第三回\\n公演을압두고(中)\\n劇藝術硏究會金珖爕\\n   × ×\\n 世界의戱曲에서 레퍼—로리(上演目錄)를作成하는 劇藝術研究會에 이러서도\\n劇本\\n와恐慌은크다 그것은恒常 場所經濟또는社會와의有機的接觸에잇서서의 諸問題외關聯되는까닭이다 이러한限界內에서選定된것의 露西亞체—홉의『紀念□』(一幕)외 獨乙카이제르의『友情』(一幕)과□致眞의『土幕』(二幕)이다劇本에對해서는 各各分擔者로부터의 紹介가잇스려니와 總括的으로보면 이러한劇本의配合으로써 劇場의雰圍氣와 社會의空氣를調和하려하엿다 即娛樂的그리고\\n輕快\\n한우슴올要求하는觀衆에게『紀念祭』를 小數이나마詩的 感傷的 現象에서表現派의抒情詩劇이『友情』을그리고 社會的 理想的觀衆에게 社會劇으로서의 農民劇인『土幕』을—이러케 觀衆에對한分析에서上演曲目이 决定되엇다할수잇다따라서 이러한各各色調와流派가다른劇本을通하야 觀衆의呼吸을測定하며 그心的動態를종더實質的으로 洞察研究하려함에드 意圖가잇다하겟다 그리하야 우리는演劇의現實的實踐에對한具體的進行을 觀衆………□□에서의民衆——의呼吸에서决定하려한다\\n土幕파柳致眞\\n 劇藝術研究會의 러고—도리는 飜譯劇으로出發하야 飜譯劇이全部이엇다 그原因은簡單하다 創作劇이업고 或時잇다하여도 劇으로써 極히 低級하며 따라서 劇研에서取扱할水準을가지치못한까닭이다 淺薄한批評이말하드시 劇研은决모\\n創作劇올 等閑視하고外國劇에偏重함이안이고그와嚴格와反對로우리의生活과思想感情을 再現하며批判하여주는創作劇의出現올 前提의一\\n□□도한다띠라서創作劇의上演을恒常意圖한다그리하야 第三回公演에잇서서 創作劇上演한다는事實은 劇壇은勿論 劇硏自體로보아 一모뉴멘드로의事實이나 그보다 이러한藝術的水準을가지創作劇을엇제된것에더한□ 意議가깁다 이\\n『土幕』\\n은 慶刊된 文藝月刊 一九三一年十二月號 翌年一月號에 실안二幕劇으로當時 어느程度도 얼마나正當하게 批評되며評價의엿는지는甚히疑訝의는바이나 적어도 나의主觀評價에서는 朝鮮의農民劇의正當한出發□올 짓지안엇는가한다 이는 헐버슨朝鮮의創作劇史에서보아 또한客觀化될수잇슬것이다 아마外國文壇에紹介되여도 過하遜色업는評價를엇을것이며 文學的立場에서보더라도 日本엇던批評家에게서 過大한禮讃을바든 張赫宙君의『追□れろ人人』에떠러지지안는——오히려以上의現實的深刻性과藝術的眞迫力乃至作家的氣質을 보여준디고\\n評斷하고십나\\n 그劇的主題는 疲弊하여가는그리고엇더한運命的□□에눌여잇는農村——農民生活을 文化社會에서隔絕되고 迫害된土幕이라는 原始家屋形□에展開식혀 그우에서즉엄과사우며 즉암을通하야 엇더한 生의힘을信條합에잇다\\n 표로트는 極이簡單하다\\n 土□農夫로써 一生올늙어病든아버지 뚜아리를트는 곱사달 아아라를팔어 띳□식어더糊口의策을세우는어머니——그受難이사인蟹居의生活에도\\n希望은 숨겨잇섯다 十餘年前日本으로 품파리간외아들——消息이杜絕된지오래인데도 언제나 오라니하는 그리면서 故鄕을넌지고 잡을삼혀日本오로떠나가는靑年에게 아들을오게해라 돈도보내라 하며 가지가지付託한다 그러자區長의손에서 헌新聞이傳達된다 거기에는 解放運動을하다가投□되여 終身□이言渡되엿다는 아들의寫眞이□微하게실여잇다 미더도보고 못미더위도하며 疑心도하며 戰慄도하며그寫眞조각올 가슴에풉고或은이웃女子에게 무려도보는어머니의압헤 아를終身囚의白骨이配達된다이白骨箱앙해서『우리에게는 새로운힘이 必要하다 새로운힘!』하며土幕에서는또다시 生이繼續된다 이러케劇이緊張하게 進展하는가운데즉차코 벌다가마지막에\\n執行舛지當하고土幕의一隅에서 共棲하다가 끄끗내쪽지게하나만지고 妻子를거느리고漂浪의 길을떠나가는 追放하는農民의哀態가 揷話되여잇다어데로가던지 벌아래燭불을말탄新郞가티 추여들고 江南땅으로간다한다!이리하야生과가티또한追放이繼續되엿간다\\n',\n",
       " '綺語雜學(其十二)\\n佇·立\\n金晋燮\\n ‥‥집이란 흔이 不幸한宿所인게지요 그러나집에를이제가니무얼합니가?밤은未來나가티머럿슴니다 그러고깨여잇는동안 우리네집은 恒當忠實히도不滿만을 供給합니다그려우리는각금 自己집門압헤 別人인것처럼 힘업시佇立하고잇는自己를봄니다\\n 우리는 마음깁히 무엇인지不足함을늣기고 잇는것이지요그러나 우리는어데를가야할지를\\n事實모르는것입니다 그래우리는엇던때면이리헤매고 저리헤매든끗헤 가보지도못한 좁은골목의알지못할사람집압헤무서무서 서기도합니다 이얏고더러운집속에도뿌리깁이숨어잇는 嚴肅한生活을우리는남모르게 祝福하랴는것이지요\\n ‥‥우리는事實어데를가야할지모르것입니다 或은 어느때면우리는 蓄音機가슬프게짜홀니는曲調를 뭇行人이 뭉켜서서귀를 기우리기에 우리도한목끼여 거의잇게된\\n노랫조각을다시가벼웁게줍기도합니다\\n『그대잇는곳 엇대매냐이가삼타노나 오날도해는지고요 황혼은깁헛네‥‥』\\n 實로『音樂이업시는 人生은하나의誤□다』 고우리는생각함니다 그러나이것만을오래서서듯고잇슬수도업습니다 우리는다시또定處업시거러가는것입니다\\n 『싸구려싸구려막파는구료!』『이것은 新發明 萬年筆이을시다!』街頭의擾亂한이 『데모!』鍾路거리에는싼것도만습니다하나의新鮮한告示문눗우리는 엇던料理집압헤섯습니다\\n〇〇〇君 〇〇〇孃結婚式場\\n 幸福스러운新郞新婦가 이제손에손목을잡고 나오는\\n感動的인場面을만흔사람이바라보고잇는것입니다 그들은 곳盛裝하고기대리고 잇는自動車를타고 어덴지알수업는 부드러운 衾枕을向해갈터이지요 우리는 暫間입맛을다시고 발서이제는追憶할길조차업는그때를눈압헤그려내랴고는하나 이豪華男女를실고그때문에 붉게上氣되여疾軀하는浮薄한自働車가 眼界에드러잇슬동안뿐입니다 우리는인제엇던大百貨店의『쇼—윈도—』압헤佇立하는것임니다\\n이곳은\\n新流行最高價의紳士服을陳列해 노은丁字屋의『쇼—윈도—』그속에는오른便에九十圓짜리洋服이노여잇고 왼便에百二十圓짜리의가장마음끄으는服裝이 나러가드시서잇슴니다 빗갈도프르다고하기보담은褐色에갓가운 참으로점잔은調和를직히고잇지안슴니까?우리는 十分間을 이窓압헤서현 웃洋服 현족기 현바지를次例로벗고 속샤쓰만입은채서는것임니다 勿論그것이야空想속에서지요\\n그러고는 고이고이공드려 새洋服바지를입고 새족기를입고 새洋服저고리를입는것이니다 새洋服은 두말할것도업시 꼭마즙니다 百二十圓만가지고잇다면 期於코우리는이것을 사입을것입니다그러나우리는憂鬱한웃옥을입가에지으면서 혼저속으로 다시옷洋服을팔에서 바지를구두밋호로벳기고 족기단초를□기始作합니다 우리는또다시그때에인저는 헌바지 헌족기 헌저고리를입기□제 속사쓰체로暫間동안서지한흐면 아니되는것입니다 그때‥‥\\n 突地에 누가부로지집니다\\n大槪는 누가치인것이지요 사람들은 우—몰려듭니다 말하자면 그中에는우리가티 샤쓰바람으로 달겨드는사람도더러잇지요\\n 우리는 興奮된婦人과코□自轉車夫의야단스러운口□을여긔볼수잇 는것입니다『웨 鍾은울리잔우?하마트면 큰일날번햇네!』——自轉車의 主人은 코에다 손수건을대고 조토록 말합니다』여보서요 울리잔킨 웨 울리잔엇단말이여요당신의精神업시 車압헤달겨들엇지요!』인저는\\n群衆속에서뭇소리가서로이러솟는것입니다『鐘을첫소!』『鐘을안첫소!』『婦人이잘못이요!』사람들은 또다시가버림니다 아니 大體앗까는 무엇이일어낫섯나요?차라리인저는『樂園』가튼카패—에안저 술이나한잔마섯스면하는 어이업는생각——악가와가튼 새洋服이라도입엇스면『旣成의人形』과가티댄수흉내라도낼수잇스리라는조고만\\n野心——그러나人生은破產입니다 우리는마음펀이 漢江물속에봄을 던질수도잇습니다 그러나 그러나 우리는다러진구두를끄을고 不幸한宿所로쉬염쉬염거러감니다\\n      (二月十五日)\\n',\n",
       " '그人物의心境打診\\n(5)\\n農村女子事業家\\n朴仁德 氏\\nB 記 者\\n여기는鍾路二丁目예수교서회삘딩——에레베타똘타고一直線으로四層까지 을라가면第四十三號室이잇다 記者 『딱는딱』문을두다리니『얘스 캄인』이라고하는지『네들어오십시오』하는지 如何間문을열고쑥들어서니朴仁德氏가淸楚한읏을말숙하게입고안자서 英文타이프라이트를치고안잣다 氏는 어듸로보든지西洋式이다 일즉이梨花專門學校에서 美貌로有名하고노래잘하는 모던女學生으로有名하든 氏는米國留學을마치고돌와서는 一層一擧一動이西洋式으로快活하고 一言一語가마치聽衆을一堂에모여노코 一場演說하는것갓치 發音이明暸하고 제스추어와表情이 이에隨伴한다\\n『무엇을 그러케 분주하게하십니까?』\\n『農村女子事業□의 報告입니다 米國서 이事業을補助하여주는사람에게보내는것입니다 米國잇는친고들한데도보내고요 그런네그것을 일일히다보낼여면 돈이퍽만히늘어요!』\\n『지금하시는 農村女子事業은어떤일입니까?』\\n『主로 농촌부녀의 지식게발입니다 위생에관한것 정신수양에관한것 밀상생활의개선에관한것 오즉만습니까!그것을 매주일두번식 실지로 농촌에나가서 가르치는것입니다 아조퍽 재미잇서요 그러고 미아리갓흔데를갈려면 점심을싸가지고 십리시오리되는데를 걸어가지오』\\n氏는 農村女子事業에 大熱心이다\\n『얼마나 오래동안 이事業을하실作定입니까?』\\n朴『이사엄이오? 암셍을 두고하지오』氏는 自信잇게그터고 感動된語調모말하면서滿足의 微笑를 웃는나 그러고 農村에서 感動뇐가지기지의 이애기——그中에一小女가十六歲에 結婚을하야六個月의단꿈이사라지기도前에 男便을여이고 시집에서四五星霜을 홀로節을지키고孤獨과한숨으로歲月을보내는것을 氏는農村女子事業으로引導하야주엇나는 맘이낫다記『그女子는農村事業보다結婚올하는것이 第一義的으로重大한일이아닐까요?』\\n『그러나 그女子는 結婚을하지안치오』\\n『왜요 因□때둔에용? 조흔新郞암이업서서요?』\\n朴『因□에저저서도 그터코끄맛당한 곳이엄는것도큰理由가되겟시오』\\n記『말슴듸리카 종어렴고실례될는지 모르지마는……』\\n朴『관게찬슴니다 무엇이든지말슴해도』\\n記者는氏가 米國으로부터돌아오면서 離婚問題로朝鮮社會에一大센새이슌을 이르킨것이 생각난것이다\\n記『先生은 다시結婚□생각이업습니까?』\\n朴『나요!하고 氏는 두손을머리에 다이고 웃오면서생각하는는듯이머리를흔는다記『내성각가타서는 이것은큰問題라고생각항니나 社會에서일을하는女子가 結婚을하며 또는안하며 離婚을햇다가 다시結婚을하는가뜨는안하는가하는것은 後輩에게주는엿향이큰즐로생긱합니다朴『이러케 대당할까요 이것온다른이러사함들이 생각한것이내께반영한것을알승드리는것입니다 한번結婚헷돈女子는이런경우에는 結婚을하지안습니다 그들이가장情답고誼가조케살돈경우와 女子기그男子에게 진저리가나도록역중이나든경우,別로多情하지도못하엿고 그러타고그러캐 실치도안케산女子는再婚훰지모르나 이두가지境遇에잇는女子로 自己가自己生活을할수잇는女子는 다시結婚하지안흘줄압나다』\\n記者도人生問題와 農村生活을멀리農村에생각하면서에레베타롤타고문□나섯다(사진은베니스에서박힌박인덕씨)\\n',\n",
       " '朝鮮農業論\\n(二十三)\\n◇士地利用과農業經濟의硏究\\n李 勳 求\\n 朝鮮內人口의 性別組織은民族別을따라서 相異하니곳一九三〇年에 男性百名에對하야朝鮮人女性은 九十七人이요日本人女性은九十三人이요 外國人女性은二十二人이엿다 一九三〇年에結婚件數는 一,六八三의 日本人과 三五의 外國人을 合하야 一九,二八一짝이엿다 그럼으로 華燭典禮를擧行한 件數는 每日平均五百四十六件이요 또每千人에對하여서는 九,八件이엿다 結婚의最大數는 一九二三年에 每千人에對하야 一四,五九짝으로 낫타낫고 또最小數는 一九二四年에八,六으로 뵈이엿다 一九二一至一九三〇年의 十年間平均으로보면 每年每千人에對하야一〇,〇二配偶者數가잇섯다\\n 結婚年齡은 男性과女性에따러서 相異한點이잇다 男性은二十至二十三歲가 結婚의最大數를 占領하야 一九三〇年中結婚總數의三二,一%를 차지하엿고 그다음은二十歲至十七歲인대 全數의 三一,一%이엿고또그다음은 二十五至三十才로全數의 一六,八%이엿다 早婚이流行하는것은 우리가질아는事實이지만 數字上으로보면 十七歲以下年令으로 娶妻者數가一九三〇年에 全結婚男性數의六,六%를 占領하엿섯다 三十至三十五歲는全數의七,七%밧게는 되지안코 또年令이만하여가면 結婚者는 그年令數외逆比例的關係에잇서서 三十五歲至四十歲는三,二%요 四十至五十歲는一,九%요 五十至六十은 〇,五%이엿고 또 稀貴한것은 六十以上의年令으로結婚한사람의數가 全數의約〇,一%나되엿다는것이다\\n 이에反하야女性의 結婚年令은 比較的單純하다 即十五歲至二十歲가 全結婚者數의 五三,七%이나되고 二十至二十五歲가 二九,八%요또二十五歲至三十歲가六,九%나되엿다한가지注目치안이하여서는 안이될것이잇스니 그것은곳十五歲以下에 結婚한女性數가 全結婚女性의 五,四%以上이라는것이다 그러나 全體로보면新郞의 平均年令은 二十三歲六이엿고 新婦의年令은二十歲三이엿다 夫婦間에 年令의差異는 그다지크지안이한데 富裕階級은 差異가적고 貧寒한階級은 差異가큰傾向이잇섯다\\n 破鏡의嘆으로 서로갈리는數는 一九三〇年에 結婚者千에對하야 約四五,五엿다 總離婚數는 九,〇七七이엿슴으로每日平均 二四,九件이잇섯던것이다 이것은 人口每千人에對하야 約〇,四五人에相等한것이다 그러나過去十年間 離婚數는 每人口千에對하야〇,四二人엿다\\n 一九三〇年에 配偶者數는約一〇九,〇〇〇의日本人과約五,〇〇〇의外國人을 合하야 四,八二四,〇〇〇夫婦이엿다이數字는每千人에對하야約四百七十六人이 結婚生活을하는것이다\\n 家族制度는 누구나다아는바와가티 우리朝鮮에서 아즉까지 完全히保管되여잇다 또進步的宗門制度도 도한잘維持되여잇다 이宗門制度가 族譜와一門中의 行列字로因하야 二十代以上 乃至三四十代까지正確하게알수가잇는곳은 아마도世界中에 오즉朝鮮이잇슬뿐일뜻하다 이것이 오늘날 社會學的見地로본다면 或文化의程度가 아즉發展되지못한然故라고 速斷을나릴는지도 알수업다 그러나 이宗門制度의 發展及維持는 그原因이그처럼單純한것은 갓지안이하다 即第一理由로는『不娶同姓』이라는社會的倫理와 優生學的必要에依한것인듯하고 第二理由는將來의社會上階級으로 兩班과常民의區別을 保存하기爲하야生成되고 發展된듯하다 그러므로이社會的 特殊觀念에 變化가生긴 오날에잇서서는 宗門制度가 崩壞의途程을 발버나가기始作하엿다 只今 僻巷과窮村에서보난바 行列을대고아잣씨 할아버지형님하는 일가간의 稱號는 멀지안이한 將來에 오즉過去의한社會的慣習으로 사라지고 말것갓다\\n',\n",
       " '吉会線縱走記 (1)\\n四半世紀의歷史\\n낫모를處女와가튼吉會線\\n地閥과家門부터알어보자\\n本社特派\\n金炯元 記\\n吉會線의開通을 機會로東滿地方과 間島一帶의秘庫를 踏查하고 아울러移住同胞의 情况을視察하야 讀者의압헤가장生新한 報道를提供하겟다함은 本社가이미社告로써 約束한바잇섯다 그러나 이計劃을 實行함에잇서서는말할수업는 困難과마음놋키어려운 危險이잇섯스니 그자세한事情은 차라리말하지안터래도 賢明한 讀者諸氏가 짐작 하리라고 미드며이제走馬看山的이나마 見聞한바를적어서위선 讀者의궁금을풀고자한다\\n 吉會線!말만들어도 이마에피ㅅ줄이설만치 緊張한이름이다,一九〇九年以來 四半世紀를두고 말성만튼吉會線,이銕路가 놋는줄도모르는동안에벌서全線運轉을 開始하엿다고하니 더욱이 놀나운일이아니냐\\n 나는 이제 社命을밧고 이處女가튼銕路의 新郞가튼乘客이되랴는터이다 내가男兒로태어낫스니 處女의心理를헤아리기는어려우나 新郞된經驗은가젓스니 에서 먼저 나의心事를한번그려보리라——\\n 무엇보다도 먼저 處女의얼골이어엿분가 미운가 外貌도 그러하려니와 마음씨가엇더한가.先聲만오래듯고마음에그리든님을,눈압헤對하게되얏스니,가슴만 두근거려엇절줄을 모를네라.그래도나히만흔新郎이라 處女의地閥과家門쯤은 알어볼必要가업슬가.\\n 一九〇九年,間島에關한日淸協約은그第六條에 다음과가튼事項을揷入하엿섯다.即\\n 清國政府는將來吉長鐵道를延 吉南境에延長하야 韓國會寧 에서 韓國鐵道와連絡할것이오,그一切의辦法은 吉長鐵道와一律로할것이다.開辨의時期는 清國政府에서情形을酌量하야 日本國政府와商議한後此를定함\\n이條文에依하야 吉會線은이미二十五年前에胚胎되얏섯다.그後一九一八年에이르러 中國政府와日本의興業,臺灣,朝鮮三銀行사이에는 이線銕路를建設하기為하야一千五百萬圓의前貸金을與□하고六個月以內에正式借欵契約을 締結하기로하고또一九二八年에 日本側이工事都給까지마탓스나 滿洲事變이나기前까지에는 全線의開通은遼遠하엿든터이다 即一九二四年에天圖鐵道(老頭溝開山屯間)가 一九二八年에 吉敦鐵道가開通되엿스나 敦化와老頭溝間六 十六哩半)의 建設과 天圖鐵道의廣軌改建에關하여는 아모 成算이업섯다 이러하는동안에 日本은 吉敦鐵道에 一千八百萬圓,天圖鐵道에 五十三萬圓 合計一千八百五十三萬圓의投資를하고서도 목짜룬개겨ㅅ섭넘겨보드시 吉會線의完成할時期만 苦待하고잇섯든터이다\\n 一九三一年九月十八日 夜半柳條溝의銃聲은 極東의山河에一大變局을招來하고말엇다 다른모든 情勢와함께 말성만튼吉會鐵道의運命도 變할대로變하고야말앗다 그리하야 急轉直下 一潟千里의形勢로昨年(一九三二年)一月부터 實測에着手하야 六月一日부터 工事에손을대어 불이야불이야 노흔鐵道가 俗稱吉會線이오 本名敦圖線이라하는 敦化圖們間一八九粁九의新鐵路이다 會寧이라는地名은 쑥빠지고吉林도멀지감치물너선 이鐵道를가지고吉會線이라고함음좀잘못인듯도하지만쪽두리쓰고큰단장한것만이新婦가아니오,面紗褓쓰고구두신은치도新婦라고하는세상인지라,속속드리잔사정은 두고두고 가며가며밋두리꼬투리 캐어볼셈치고,여기서는 吉會線이 이만한地閥과家門에태어난處女라는것을알어만두면 고만일상십다.\\n 그러나,한가지 注意할것은吉會線이 吉林에서 會寧까지通하지못한以上,나의路程記는미리分明히 定하여야할必要가잇다.그러면,엇더케 路程을定할가.\\n ◇新京吉林間吉長鐵路\\n ◇吉林敦化間吉敦鐵路\\n  (以上兩線合三三八粁一)\\n ◇敦化圖們間敦圖鐵路        (一八九粁一)\\n朝鮮땅으로들어서서\\n ◇南陽雄基間圖們東部線\\n          (一四四粁)\\n ◇雄基서陸路로羅津까지\\n     (朝鮮里程四十里)\\n다시말하면 新京에서羅津까지六百七十一粁二와朝鮮里數四十里가 나의旅程이다 讀者中에는 吉會線가는놈이 웬일로羅津까지가느냐고 疑訝하실분도잇슬지모르나 이것은羅津이이線의終端港인까닭이다\\n 吉會汽車가 쌍고동을분다!어서가자고 쌍고동을분다\\n 자 그러면讀者여러분 다녀오리다\\n',\n",
       " '萬華鏡을이루고잇는\\n最近의和蘭文壇\\n◇―下―◇\\n經濟的으로는 꽤革新的이지만그反面에잇서서 思想的으로는매우保守的이여서 有產階級對無產階級의 對立은그러케激化하지안타 그보다도 다른나라에서는 대개의미卒業한 新舊思想의軋轢이더한층思想의戰野의中心題目이되여잇섯다\\n그러한속에서 日譯도된\"猶太區\"의 作者 \"헬만·하이엘안쓰\"와가튼 偉大한社會主義作家가 出現한것이다\\n그러나 和蘭文壇은 相當히多產的이다\"니코·판·스힛테랜\"의\"無條理\"\"고요한우슴\"\"세·판·뿌릇헨\"의 \"掃蕩된개아미굴\"\"예·판·아웃호―튼\"의\"淸淨\"\"데·테·얄스마\"의\"엇던新郞의 告白\"\"카―렘·와쓰\"의\"暗黑年一等\\n이나라에서는 女流文學者도相當한地步를 獲得하고잇서서\"一獨立婦人의回想\"의 作者\"안니·살모쓰\"\"反抗\"\"沈默의싸움\"의作者\"요―·관·안메쓰\"\"人類의아들이여나아가거라\"의 作者\"엘리자베―트·제르니케\"等名星과가티빗나는 閨秀作家를가지고잇다\\n이러한作品들은 果然世界文學의水凖에向하야 얼마마한地位를保持하며 얼마마한生命을持續할수잇슬가하는것은 아직은너무나일즉한疑問이다 다만時間만이 最高의審判者가될것이다\\n',\n",
       " '장가날新婦가逃走\\n『잔치費用무러주』\\n억울한新郞,法에呼訴\\n 혼인날에 총각이 처녀의집으로 장가를갓더니 처녀가어데로숨어버렷슴으로 그만낙망을 하고도라갓든 총각편에서 잔치준비한비용을 물어내라고 소송을이르켜서 방금경성지방법원 민사부에게속되어서로다투고잇는웃지못할 히극이잇다 그것은경기도고양군뚝도면송정리(高陽郡纛島面松亭里)김정식(金正植)이가원고가되어 경기도양주군구리면상봉리(楊州郡九里面上鳳里)함운규(咸雲奎)를 상대로손해배상구십구원의청구소송을아르킨것이다\\n 원고측의 주장에 의하면원고의 장남 김상봉(金上奉)이라는수무살먹는 총각과 피고의딸함아기(咸阿只)라는열여덜살먹는처녀와 금년 음력삼월초에서로약혼을하야 그달이십사일에 결혼식을 거행하기로 결컹하고잔치와만반의 준비를 다해두고사모관대에『가마』를타고처녀의집으로 갓더니 처녀는어데로인지숨어버렷다 처녀의 아버지는딸이 어데로인지 숨어버렷스니결혼식을 거행할수업다고 대답함으로 하는수업시 신랑편에서는 자긔집으로 도라가비렷다그리고서 둿날에사실을 조사해본즉 처녀편에서신랑이불구자(不具者)라하야게획적으로 혼인을랑패시킨것인것을 알잇다 그러나 그총각은결코 불구자가아니다그런데 당일신랑집에서는 약주안주국수등 잔치준비를 전부다해노코 동리사람들을 초대하여 모아두엇든것인데 그만파혼이되엇슴으로손해만구십구원이나나고말앗스니 그것을 물어내라는것이다         \\n 그런데 피고측——처녀편에서는 이에대한답변은 량편에혼담이잇서서 당자인처녀에게 총각의선을 뵈엿더니 처녀가마음에들지안는다해서 혼인을 거철하엿는데 선본지수일뒤에 총각집에서 사주(四柱)를 보냇슴으로 처녀집에서는 곳신랑집으로돌려보내고 단연거절하얏다 그러나 그뒤에도사주는 삼사차나도로왓다갓다하다가 결국은 신랑집으로 돌이고꿋꿋내 거절하고말엇다그럼에도 불고하고 자기들마음대로 신랑을더리고 장가를온것인즉 신랑집에서 준비햇다는 잔치비용은 무러줄수업다고 하얏다오는십오일에 어사건의 변론공판이 열라기로되엇는데 그귀결은자못 만흔사람의홍미를끄을고잇다고한다\\n',\n",
       " '文藝\\n時評\\n(2)\\n두개의身邊小說\\n十一月創作評\\n韓雪野\\n『姜參奉』 (新東亞 十一月 號)\\n        李 棟 作\\n 한말로말하자면 이것은 日常茶飯事를그린 一個의身邊小說이다\\n 시레기를끄려먹다가그것업도서서 남편——姜參奉의탕건으로 일은바『탕건고음』을끄려노은것이發端이되어가지고 一塲夫婦싸움이버러진끄테 남편姜參奉은안해와갈나진以後『나』라는사람의집에 寄食하는늙은몸이되엇다 배운所業이本工이여서 그는『나』라는主人公의집에서문갑,팔현,장농,삼충장,사랑마루,책장,상——이런것을짜주며 그날그날을보낸다 그러나그는報酬를要求하지도안코또주어도밧지안는다『이제몃날살겟다구』……하는생각으로 모든物慾을이저버리고 瞬間의즐거움을주는술만을 각금마시군한다 이에對하야『나』라는사람온 그를보고 각금世事의無常도늣기고 人道的인지나친同情으로\\n 無 賃勞働을식히고잇는自己自身을『强盜』라고도 생각한다 그러나그것은 瞬間의良心이고 如前히늙은木手姜參奉에게일하기를 재촉 하기도하고바득 消日을하기爲하야 그를對手로 끄러안치기도한다.內容은이것뿐이다.\\n 첫재作者는 이作의緖頭에나오는夫婦싸움에對한 如實한心理的把握을갓지못하엿다.먹을것이업스면『탕건고음』이라도끄러먹게되는지안되는지 또는그고음때문에 싸움이 이러날지안날지는 別問題로하고 다만그때문에夫婦가갈나진다는것은 생각할수업는일이다.가난때문에갈나지지안을수업는 社會惡의責任을 全然個人의刹那的感情에 傳稼하는것은 正當한現實的把握이되지못한다.질탕한生活을하는사람이 각금放逸한\\n 感 情때문에 갈나지는例를볼수잇지만 가난에서색여진夫婦間의人情은 조고만家事싸움때문에 갈나지는일이 全然업다고해도過言이아니다\\n 全然社會的 經濟基礎를 일은 룸펜化한姜參奉이 勞賃을바라지안는다는것은 어느程度까지肯定할수잇스나 小所有者의一人인『나』라는사람이 自身을强盜로써反省한다는것은 作家의空想에서만 可能한일이다\\n 作者는『나』의身邊에 이러나는일을無秩序,無體系하게 다만羅列해노아서 무엇을말하랴는지 全然포인트가보이지안는다.表現技巧도𦉑隙이만아全貌가不鮮明하고 각금『心境打診』『古稀』等 文句가석긴外에全體로文章이딱딱하야 寫實感을주지못한다.\\n 秋収때(同上)\\n      𠘱 鳩 作\\n 이것亦是身邊小說이다,不遠한알날에 안해를마줄사나히들에게對한 동모들의弄談과 地主집秋夕노리와 婚宴當日의風景과젊은이들의술노리와\\n 新 郞달구질하는것等等이이作의全內容이다.\\n 이作에나타난農村에는 金波萬頃의 누른벼가이어잇다 農村靑年은 그것을바라보며줄겁게일하고 찰덕가튼안해마즐깃붐에넘처잇다.作者는 나날이시들어가고 말다가는 現實의農村을보려고도하지안코 말하려고도하지안는다,\\n 첫재이作을 공국에 햇밥에실과에 떡에 배불라는秋夕과술먹고 新郞달구질하는婚日을時間的모—멘드로 하여가지고아모괴로움과가난을모르는農村을그란데에 이作者의視野와限界가잇다 이것은農閑期인겨을에所謂『農民데이』를創定한右翼農民團體『全農社』의意圖와偶合또는共通되는것이아닐지\\n 地主의全部가農村高利貸金等을 兼하고 都市에서外來資本과其他金融機關에눌여發展의期會를일은一部의商人層과所有者層이農村을收奪의對象으로觸手를찌르고잇는 朝鮮現實面의八割을占領하고잇는 우리가보는農村의\\n 現 象은너무도刺戟性이 甚한疲弊相을드러내고 잇지안는가?作者는누턴벼이삭만을보는데에 끈치고『立稻差押』『支拂命令』『債務督促』이라는 實際의事實로부터눈을감고 말아야올홀가 作者가말하는것가티 오늘의農村은 그러케明朗하고깃붐이찬곳일까 갓은다만暗黑面만을取材하라는말은아니다 그러나너무도 線과界가굵게밝게갈나지는現實의뉴안쓰로부터눈을감아서는안된다 그리고이뉴—안쓰의發展的코—쓰를把握함이 업시는오늘의眞實한作家가될수업다 作者에게별안간커다란 要求를보낼것업시 다만참말로實在의農村을疑視하고 거게서 呼吸하며作品을쓰라고하기십다 보아서徹하면써서『真』이될수잇다\\n 表現은 大體로平易하면서도起承轉結과콘틔뉴틔가 疎略하야\\n 全 體의樣相이뚜려시 낫하나지못하고 더욱對話가不自然하아 實感을주지 못한다\\n(最近身邊小說이 만이流行되고잇는데 이에對하야는 이十一月創作評末尾에서論하고저한다)\\n',\n",
       " '就婚式場에\\n不意의風波\\n新婦의戀人이突入하야\\n新郞은現場逃走\\n 함남 덕원군 영등리(永登里)라는동리에서김만선의삼남익호(益浩)(一八)와신풍리강탄원(姜彈元)의장녀정자(貞子)(一九)(以上全部假名)두사람의결혼식을 십오일에 거행하엿는데당일에 원상철(元常鐵)원승윤(元承允)이란두사람이달려들어폭행을가하야 후객과 신랑을구타하야 신랑은도망까지 갓다는일종의 희활극이 열엿섯든바그리면에는윤소만(尹小萬)(二三)이라는청년과 전긔처녀와 련애관게가잇서서 그분푸리로 그리한것인듯하다고한다\\n',\n",
       " '婚宴飮食에또中毒!\\n後行等四名은即死하고\\n新郞以下二十餘名은生命危篤\\n江界郡漁雷面下慘變\\n  평북강게군어뢰면천성동(江界郡漁雷面天城洞)김희준(金喜浚)의집에서는 지난삼일사위를마지하려고 잔체를 베푸럿든바 그날음식은먹은 사람전부가 중독되여 그중신량을다리고갓든 후행 강게군곡하면흥주동(曲河面興州洞)김재호(金在昊)외이명과 마부로갓든공서면고당동(公西面古堂洞)김 수(金明洙)등 도합네명이 즉사하고 신량을태우고갓든 말까지죽어버렷다 방금신랑도 이음식물에중독되여 생명이 위독하며그외아직도 이십삼명이 중태에빠저잇서 일대소동을 이르키고잇는데 강게경찰서에는 그음식물일일히 검사하나 엇떤음식에서잘못되엿는지 아직 판명되지안이하엿다한다\\n',\n",
       " '納幣物적다고\\n破婚을宣言\\n大禮當日에新朗헛물\\n례불이적고 의거리장을읏 한사가지고왓다하야피혼선고를하고 혼인날에 신부집에서 인부를다리고 집을이엿다는『년센스』한막이잇다\\n신랑(新郞)은 담양군대덕면묘골(潭陽郡大德面墓洞)에사는박변암(朴邊岩=假名)(四一)의장남박남원(朴南元=假名)(一八)으로현재대덕면사무소소사(大德面事務所小使)신부는 담양군월산면동산리(月山面東山里)전구장리종오(李鍾五=假名)(三八)의장녀판례(判禮=假名)(一五)로서구십월이십팔일에 성례키로 약조하고신랑박남원(朴南元)의집에서는 구력십월이십칠일에 례물을 갓추어납채하엿드니 례물이적고 장농하나가업다고 파혼하기로 신부집에서는 결의하고즉시 신량집으로 례물를퇴송하엿든 신랑죽에서는 정한날이니가자하고 혼행을차려서 신부집에 당도하니의외에도 신부집에서는인부들이 집을이는등 매우냉냉함으로하도어이가업서서두사둔들끼리 일대희활극을 연출하엿다한다\\n',\n",
       " '婚費不足타고破婚宣言\\n新郞側作黨襲擊\\n新婦家에一塲活劇演出\\n담양군수북면경산리김경일(水北面景山里金景一=假名)(六一)의십남김판길(金判吉=假名)(二三)과 담양군월산면동산리(月山面東山里) 장긔만(張基萬=假名)(四三)의장녀장성녀(張姓女=假名)(一六)와약혼하고 구십일월삼십일에성례하기로하엿는대신랑측에서혼비이십원과이불한채감을신부집에보냇더니신부집에서는 약속과 오원이부족하고이물감도 모자란다 하야퇴송즉시 파혼선고를하엿다 신랑집에서는 대분개하야 사오인의장정이작당하야 신부집을 습격하고 이십오원짜리 시부를내여노타는등 격투가되여 한참은일대소동이되엿다고한다\\n',\n",
       " '婚禮式場에서\\n新婦가新郞拒絶\\n 강원도화천군간동면방현포(看東面芳峴浦)박영대(朴英大)(假名)라는 부호집에서는지난일월이십팔일혼례식장에서 신랑을쪼처버린일이 잇다그내요은전긔박영대의 의녀(義女)되는 애순(愛順)(假名)(一八)과 김화읍에서 운송업하는리모(李某)의아들덕규(德奎)(假名)와수월전에 약혼하고 지난일월이십팔일에 혼례식을 거행하자는언약을하고 례식을 행하랴할지음에 돌연혼례식장에서 신부되는애순이가 신랑을 배척하는동시에박영대도딸을줄수가업다고하야할수업시그대로도라가버리엇는데신랑집에서는방금손해배상을 정식으로 청구하랴고준비중이라한다\\n',\n",
       " '라디오\\n第二放送\\n(波長四九二米)\\n三月九日(金曜)\\n◇午後六時(童話)꾀쟁이\\n        枕 宜 麟\\n◇同六時二五分 算 術 復習講 座(十二)    李 俊 興\\n◇同七時三〇分 樂觀과 悲 觀(四) 佛專敎授金 斗 憲\\n◇同八時 吹奏樂\\n (一) 行進曲 굿세게나가자 (二)코—넷獨奏라—르고‥헨 델作曲 (三)讃美曲 (가)慈 悲 (나)불린저(四)重奏 하나님의平和(五)行進曲 救 援을絕叫\\n         秦 萬 成\\n      救世軍育兒院뺀드\\n     指揮 WE·누—벨\\n◇同八時三〇分 歌曲\\n (一)羽調二數大葉 (二)羽調 頭擧 (三)羽樂 (四)還界樂 (五)編 金金珠\\n 李山玉 (洋琴)金相淳(大笒) 金永根\\n◇同九時 (古談)不遇의英雄(三)\\n          庚 秋 岡\\n第一放送\\n▲映畵物語風\\n雲長門城◇六時(東)小劇(一)어떤날일어난일(二)蕗葉컵◇七時三〇分(熊)口永良部島最近의火山活動 九州帝大敎授松本唯一◇八時(東)舞臺劇,室內樂\\n三月十日 (土曜)\\n◇午前十一時 京城女高\\n       合格者發表\\n◇午後〇時五分 南道雜歌\\n (一)報念(二)六字백이(三)興 打鈴(四)개고리打鈴\\n         趙 素 玉\\n         金 梅 香\\n◇同二時 사람의壽命에對하야\\n      (三) 李 仁 圭\\n◇同二時五〇分(東)陸軍記念日 記念演習實况\\n ——代代木練兵塲으로부터中\\n◇同六時 童謠齊唱\\n (一)汽車…金泰晳作曲(二)엄 마마중…尹喜永作曲(三)눈 (雪)…(四)시골아이…(五)별 님…金泰晳作曲(六)고드룸수 염…尹喜永作曲(七)눈섭이센 다고…孟午永作曲 꾀꼬리會 會員(피아노)朴今禮(바이올 린)金泰晳(클라리넷)尹喜永\\n◇同六時二五分 國語復習講座\\n (十二)    田川 孝雄\\n◇同七時三〇分 日露戰爭에對 하야\\n    步兵大尉 金 錫 源\\n◇同七時 進明女高\\n     合格者發表\\n◇同八時 테너—獨唱\\n(一)아이아이아이 西班牙民謠(二)마리아 마리…카푸아作曲(三)도라오라 소렌토로 쿠르틔스作曲(四)눈물의小夜曲…톨젤리作曲(五)오·솔레미오…카푸아 作曲(六)산타루치마…伊太利民謠\\n        劉 福 順\\n  (피아노伴奏) 오—벅 孃\\n◇同八時三〇分 (映畵이야기)\\n 海賊\\n         徐 相 弼\\n         音樂 伴奏\\n◇同九時 歌祠 (一) 別曲 (二) 漁夫詞\\n 金氷昌 長鼓 金一宇 大笒 金永根\\n第一放送\\n▲午後〇時五 分만도린合奏(一)軍隊行進曲…슈—벨트作曲(二)王의行列…佛蘭西民謠 (三)少年鼓手아일란드民謠(四)兵士의母에게訣別…구로아치야軍歌 (五)兵士의노래…스페인民謠(六)野營의밤…사비니作曲(七)북소리…라모—作曲(八)英雄行進曲…무니엘作曲 高橋만도린안싼풀▲同八時(東)吹奏樂\\n (一)行進曲『大山元師』(二)序 曲『勝利의冠』(三)日本陸軍 歌·陸軍省製作(四)圓舞曲 『祝捷』(五)行進曲『乃木將軍』 (六)皇軍歌陸海軍省製作(七) 意想曲『攻擊』\\n三月十一日 (日曜)\\n◇午後〇時五〇分 第十回極東 올림픽拳鬪朝鮮豫選大會—授 恩洞團成社에서中繼—\\n◇同六時 童話   李 元 珪\\n◇同六時二五分 (修養講話) 活 路     金 仁 泳\\n◇同七時三〇分 唱劇調\\n (一)短歌鎭國名山\\n (二)唱劇調 春香歌\\n     朴綠珠(鼓手)池龍九\\n◇同八時 (音律)靈山會像(玄 琴)趙彝淳(洋琴)金相淳(稽 琴)閔完植(大笒)金永根(細 笛)高載德\\n◇同八時三〇分 俗謠\\n (一)關山戎馬 (二)愁心歌 (三)역금(四)긴아리(五) 打鈴 張鶴仙\\n◇同九時 復活祭칸타—라‥‥ 가브리엘作曲\\n (一)福잇도다(二)보라新郞 오시니 (三)밤깁흔檻欖山麓 에서 (四)蔑視當하야 (五) 우리爲해죽엇네 (六)겁내지 마라 (七)王이로다 (八)榮 光을돌니세 監理敎會神學校 讃揚隊\\n◇第一放送\\n▲午後一時二〇分 獨唱 一,테—너獨唱 꿈노래…마스네作曲(外三曲) 平間文壽 (피아노伴奏)高木기요꼬 二,소푸라노獨唱 사랑과노래…붓치니—作曲 (外四曲)南都다까네 (피아노伴奏 高木기요꼬 ▲同二時四〇分 入學試驗合格者發表(第一高女·第二高女·女子實業)▲同七時三〇分(東)作曲者別現代歌謠曲集 ▲同八時一〇分(大) 舞臺劇—大阪歌舞伎座에서中繼—(南部坂)塲景 (一)瑤泉院假御殿 (二)同塀外\\n라디오\\n第二放送\\n(波長四九二米)\\n三月九日(金曜)\\n◇午後六時(童話)꾀쟁이\\n        枕 宜 麟\\n◇同六時二五分 算 術 復習講 座(十二)    李 俊 興\\n◇同七時三〇分 樂觀과 悲 觀(四) 佛專敎授金 斗 憲\\n◇同八時 吹奏樂\\n (一) 行進曲 굿세게나가자 (二)코—넷獨奏라—르고‥헨 델作曲 (三)讃美曲 (가)慈 悲 (나)불린저(四)重奏 하나님의平和(五)行進曲 救 援을絕叫\\n         秦 萬 成\\n      救世軍育兒院뺀드\\n     指揮 WE·누—벨\\n◇同八時三〇分 歌曲\\n (一)羽調二數大葉 (二)羽調 頭擧 (三)羽樂 (四)還界樂 (五)編 金金珠\\n 李山玉 (洋琴)金相淳(大笒) 金永根\\n◇同九時 (古談)不遇의英雄(三)\\n          庚 秋 岡\\n第一放送\\n▲映畵物語風\\n雲長門城◇六時(東)小劇(一)어떤날일어난일(二)蕗葉컵◇七時三〇分(熊)口永良部島最近의火山活動 九州帝大敎授松本唯一◇八時(東)舞臺劇,室內樂\\n三月十日 (土曜)\\n◇午前十一時 京城女高\\n       合格者發表\\n◇午後〇時五分 南道雜歌\\n (一)報念(二)六字백이(三)興 打鈴(四)개고리打鈴\\n         趙 素 玉\\n         金 梅 香\\n◇同二時 사람의壽命에對하야\\n      (三) 李 仁 圭\\n◇同二時五〇分(東)陸軍記念日 記念演習實况\\n ——代代木練兵塲으로부터中\\n◇同六時 童謠齊唱\\n (一)汽車…金泰晳作曲(二)엄 마마중…尹喜永作曲(三)눈 (雪)…(四)시골아이…(五)별 님…金泰晳作曲(六)고드룸수 염…尹喜永作曲(七)눈섭이센 다고…孟午永作曲 꾀꼬리會 會員(피아노)朴今禮(바이올 린)金泰晳(클라리넷)尹喜永\\n◇同六時二五分 國語復習講座\\n (十二)    田川 孝雄\\n◇同七時三〇分 日露戰爭에對 하야\\n    步兵大尉 金 錫 源\\n◇同七時 進明女高\\n     合格者發表\\n◇同八時 테너—獨唱\\n(一)아이아이아이 西班牙民謠(二)마리아 마리…카푸아作曲(三)도라오라 소렌토로 쿠르틔스作曲(四)눈물의小夜曲…톨젤리作曲(五)오·솔레미오…카푸아 作曲(六)산타루치마…伊太利民謠\\n        劉 福 順\\n  (피아노伴奏) 오—벅 孃\\n◇同八時三〇分 (映畵이야기)\\n 海賊\\n         徐 相 弼\\n         音樂 伴奏\\n◇同九時 歌祠 (一) 別曲 (二) 漁夫詞\\n 金氷昌 長鼓 金一宇 大笒 金永根\\n第一放送\\n▲午後〇時五 分만도린合奏(一)軍隊行進曲…슈—벨트作曲(二)王의行列…佛蘭西民謠 (三)少年鼓手아일란드民謠(四)兵士의母에게訣別…구로아치야軍歌 (五)兵士의노래…스페인民謠(六)野營의밤…사비니作曲(七)북소리…라모—作曲(八)英雄行進曲…무니엘作曲 高橋만도린안싼풀▲同八時(東)吹奏樂\\n (一)行進曲『大山元師』(二)序 曲『勝利의冠』(三)日本陸軍 歌·陸軍省製作(四)圓舞曲 『祝捷』(五)行進曲『乃木將軍』 (六)皇軍歌陸海軍省製作(七) 意想曲『攻擊』\\n三月十一日 (日曜)\\n◇午後〇時五〇分 第十回極東 올림픽拳鬪朝鮮豫選大會—授 恩洞團成社에서中繼—\\n◇同六時 童話   李 元 珪\\n◇同六時二五分 (修養講話) 活 路     金 仁 泳\\n◇同七時三〇分 唱劇調\\n (一)短歌鎭國名山\\n (二)唱劇調 春香歌\\n     朴綠珠(鼓手)池龍九\\n◇同八時 (音律)靈山會像(玄 琴)趙彝淳(洋琴)金相淳(稽 琴)閔完植(大笒)金永根(細 笛)高載德\\n◇同八時三〇分 俗謠\\n (一)關山戎馬 (二)愁心歌 (三)역금(四)긴아리(五) 打鈴 張鶴仙\\n◇同九時 復活祭칸타—라‥‥ 가브리엘作曲\\n (一)福잇도다(二)보라新郞 오시니 (三)밤깁흔檻欖山麓 에서 (四)蔑視當하야 (五) 우리爲해죽엇네 (六)겁내지 마라 (七)王이로다 (八)榮 光을돌니세 監理敎會神學校 讃揚隊\\n◇第一放送\\n▲午後一時二〇分 獨唱 一,테—너獨唱 꿈노래…마스네作曲(外三曲) 平間文壽 (피아노伴奏)高木기요꼬 二,소푸라노獨唱 사랑과노래…붓치니—作曲 (外四曲)南都다까네 (피아노伴奏 高木기요꼬 ▲同二時四〇分 入學試驗合格者發表(第一高女·第二高女·女子實業)▲同七時三〇分(東)作曲者別現代歌謠曲集 ▲同八時一〇分(大) 舞臺劇—大阪歌舞伎座에서中繼—(南部坂)塲景 (一)瑤泉院假御殿 (二)同塀外\\n',\n",
       " '第二放送\\n(波長四九二米)\\n三月十日(土曜)\\n◇午後六時 童謠齊唱\\n (一)汽車…金泰晳作曲(二)엄 마마중…尹喜永作曲(三)눈 (雪)…(四)시골아이…(五)별 님…金泰晳作曲(六)고드룸수 염…尹喜永作曲(七)눈섭이센 다고…孟午永作曲 꾀꼬리會 會員(피아노)朴今禮(바이올 린)金泰晳(클라리넷)尹喜永\\n◇同六時二五分 國語復習講座 (十二)    田川 孝雄\\n◇同七時三〇分 日露戰爭에對 하야\\n    步兵大尉 金 錫 源\\n◇同七時\\n進明女高\\n合格者發表\\n◇同八時 테너—獨唱\\n (一)아이아이아이 西班牙民 謠(二)마리아 마리…카푸 아作曲(三)도라오라 소렌 토로 쿠르틔스作曲(四)눈 물의小夜曲…톨젤리作曲(五) 오·솔레미오…카푸아 作曲 (六)산타루치마…伊太利民謠\\n         劉 福 順\\n  (피아노伴奏) 오—벅 孃\\n◇同八時三〇分 映畵이야기)\\n 海賊\\n         徐 相 弼\\n        音樂 伴奏\\n◇同九時 歌詞 (一) 別曲 (二) 漁夫詞\\n 金水晶 長鼓 金一宇 大笒 金永根\\n第一放送\\n▲同八時(東)吹奏樂(一)行進曲『大山元師』(二)序曲『勝利의冠』(三)日本陸軍歌·陸軍省製作(四)圓舞曲『祝捷』(五)行進曲『乃木將軍』(六)皇軍歌陸海軍省製作(七)意想曲『攻擊』\\n三月十一日(日曜)\\n◇午後〇時五〇分 第十回極東 올림픽拳鬪朝鮮豫選大會—授 恩洞團成社에서中繼—\\n◇同六時 童話 李 元 珪\\n◇同六時二五分(修養講話)\\n 活 路     金 仁 泳\\n◇同七時三〇分 唱劇調 (一)短歌鎭國名山\\n (二)唱劇調 春香歌\\n    朴綠珠(鼓手)池龍九\\n◇同八時(音律)靈山會像(玄 琴)趙彝淳(洋琴)金相淳(稽 琴)閔完植(大笒)金永根(細 笛)高載德\\n◇同八時三〇分 俗謠\\n (一)關山戎馬(二)愁心歌 (三)역금(四)긴아리(五) 打鈴 張鶴仙\\n◇同九時 復活祭칸타—라……… 가브리엘作曲\\n (一)福잇도다(二)보라新郞오시니(三)밤깁흔檻欖山麓에서(四)蔑視當하야(五)우리爲해죽엇네(六)겁내지마라(七)王이로다(八)榮光을돌니세 監理敎會神學校讃揚隊指揖及伴奏부—쓰夫人\\n◇第一放送\\n▲午後一時二〇分 獨唱 一,테—너獨唱 꿈노래…마스네作曲(外三曲)平間文壽(피아노伴奏)高木기요꼬 二,소푸라노獨唱 사랑과노래…붓치니—作曲(外四曲)南部다까네(피아노伴奏)高木기요꼬 ▲同二時四〇分 入學試驗合格者發表(第一高女·第二高女·女子實業)▲同七時三〇分(東)作曲者別現代歌謠曲集 ▲同八時一〇分(大)舞臺劇—大阪歌舞伎座에서中繼—(南部坂)塲景(一)瑤泉院假御殿(二)同塀外\\n三月十二日(月曜)\\n◇午後〇時五分 하와이안기타 —音樂\\n (一)우쿨레레·베비—(二)하 와이안·라브(三)호놀를두의 달(四)하와이의꿈(五)블 루—하와이(六)킹스·세레 나—데(七)스프링·워터스\\n         張 明 浩\\n◇同二時(家庭講座)服裝美 術(一)    金 永 愛\\n◇同六時 算術復習講座(十三)\\n        李 俊 興\\n◇同六時二五分 產業뉴—스\\n◇同七時 뉴—스 天氣豫報\\n◇同七時三〇分(講話)不良 少年小女에對하야(一)\\n        池 中 世\\n◇同八時 時調와俗謠(一)時 調(二)小春香歌(三)船遊 歌       金 蘭 坡\\n◇同八時三〇分 라듸오·드라마 『姉妹』三景\\n  …舵工望作…\\n   配 役\\n 兪海文……………金 昌 基\\n 曹貞淑……………金 福 鎭\\n 曹愛姬……………趙 薰 海\\n 아파—트의下女…朴 正 姬\\n 看讓婦……………李 貞 淑\\n   서울라듸오드라마同好會\\n◇同九時一〇分 伽倻琴外奚琴\\n(一)伽倻琴併唱\\n(가)大丈夫(나)사랑가\\n(二)(1)방아타령(2)양산도\\n(3)아리랑(4)홍타령\\n(5)도라지打鈴(6)사발가\\n(7)박물가(8)오동나무\\n(9)淚の渡り鳥(10)鍾路\\n(伽倻琴)李日善(奚琴)金奉業(唱)郭明月\\n◇第一放送\\n▲午後〇時五分 流行歌 아름다운오늘저녁(外三曲)唄 마리꼬 千鳥格子(外三曲)唄 百太郞 ▲六時스틜기타—獨奏(一)마리아마리……데카푸아作曲(二)마히나……가미끼作曲(三)부르—스……실라作曲(四)에레지……슈나이다作曲(五)원·투—·스리·퍼아……아라우作曲(六)라스파뇨라……체라作曲\\n         鶴 田 廣\\n第二放送\\n(波長四九二米)\\n三月十日(土曜)\\n◇午後六時 童謠齊唱\\n (一)汽車…金泰晳作曲(二)엄 마마중…尹喜永作曲(三)눈 (雪)…(四)시골아이…(五)별 님…金泰晳作曲(六)고드룸수 염…尹喜永作曲(七)눈섭이센 다고…孟午永作曲 꾀꼬리會 會員(피아노)朴今禮(바이올 린)金泰晳(클라리넷)尹喜永\\n◇同六時二五分 國語復習講座 (十二)    田川 孝雄\\n◇同七時三〇分 日露戰爭에對 하야\\n    步兵大尉 金 錫 源\\n◇同七時\\n進明女高\\n合格者發表\\n◇同八時 테너—獨唱\\n (一)아이아이아이 西班牙民 謠(二)마리아 마리…카푸 아作曲(三)도라오라 소렌 토로 쿠르틔스作曲(四)눈 물의小夜曲…톨젤리作曲(五) 오·솔레미오…카푸아 作曲 (六)산타루치마…伊太利民謠\\n         劉 福 順\\n  (피아노伴奏) 오—벅 孃\\n◇同八時三〇分 映畵이야기)\\n 海賊\\n         徐 相 弼\\n        音樂 伴奏\\n◇同九時 歌詞 (一) 別曲 (二) 漁夫詞\\n 金水晶 長鼓 金一宇 大笒 金永根\\n第一放送\\n▲同八時(東)吹奏樂(一)行進曲『大山元師』(二)序曲『勝利의冠』(三)日本陸軍歌·陸軍省製作(四)圓舞曲『祝捷』(五)行進曲『乃木將軍』(六)皇軍歌陸海軍省製作(七)意想曲『攻擊』\\n三月十一日(日曜)\\n◇午後〇時五〇分 第十回極東 올림픽拳鬪朝鮮豫選大會—授 恩洞團成社에서中繼—\\n◇同六時 童話 李 元 珪\\n◇同六時二五分(修養講話)\\n 活 路     金 仁 泳\\n◇同七時三〇分 唱劇調 (一)短歌鎭國名山\\n (二)唱劇調 春香歌\\n    朴綠珠(鼓手)池龍九\\n◇同八時(音律)靈山會像(玄 琴)趙彝淳(洋琴)金相淳(稽 琴)閔完植(大笒)金永根(細 笛)高載德\\n◇同八時三〇分 俗謠\\n (一)關山戎馬(二)愁心歌 (三)역금(四)긴아리(五) 打鈴 張鶴仙\\n◇同九時 復活祭칸타—라……… 가브리엘作曲\\n (一)福잇도다(二)보라新郞오시니(三)밤깁흔檻欖山麓에서(四)蔑視當하야(五)우리爲해죽엇네(六)겁내지마라(七)王이로다(八)榮光을돌니세 監理敎會神學校讃揚隊指揖及伴奏부—쓰夫人\\n◇第一放送\\n▲午後一時二〇分 獨唱 一,테—너獨唱 꿈노래…마스네作曲(外三曲)平間文壽(피아노伴奏)高木기요꼬 二,소푸라노獨唱 사랑과노래…붓치니—作曲(外四曲)南部다까네(피아노伴奏)高木기요꼬 ▲同二時四〇分 入學試驗合格者發表(第一高女·第二高女·女子實業)▲同七時三〇分(東)作曲者別現代歌謠曲集 ▲同八時一〇分(大)舞臺劇—大阪歌舞伎座에서中繼—(南部坂)塲景(一)瑤泉院假御殿(二)同塀外\\n三月十二日(月曜)\\n◇午後〇時五分 하와이안기타 —音樂\\n (一)우쿨레레·베비—(二)하 와이안·라브(三)호놀를두의 달(四)하와이의꿈(五)블 루—하와이(六)킹스·세레 나—데(七)스프링·워터스\\n         張 明 浩\\n◇同二時(家庭講座)服裝美 術(一)    金 永 愛\\n◇同六時 算術復習講座(十三)\\n        李 俊 興\\n◇同六時二五分 產業뉴—스\\n◇同七時 뉴—스 天氣豫報\\n◇同七時三〇分(講話)不良 少年小女에對하야(一)\\n        池 中 世\\n◇同八時 時調와俗謠(一)時 調(二)小春香歌(三)船遊 歌       金 蘭 坡\\n◇同八時三〇分 라듸오·드라마 『姉妹』三景\\n  …舵工望作…\\n   配 役\\n 兪海文……………金 昌 基\\n 曹貞淑……………金 福 鎭\\n 曹愛姬……………趙 薰 海\\n 아파—트의下女…朴 正 姬\\n 看讓婦……………李 貞 淑\\n   서울라듸오드라마同好會\\n◇同九時一〇分 伽倻琴外奚琴\\n(一)伽倻琴併唱\\n(가)大丈夫(나)사랑가\\n(二)(1)방아타령(2)양산도\\n(3)아리랑(4)홍타령\\n(5)도라지打鈴(6)사발가\\n(7)박물가(8)오동나무\\n(9)淚の渡り鳥(10)鍾路\\n(伽倻琴)李日善(奚琴)金奉業(唱)郭明月\\n◇第一放送\\n▲午後〇時五分 流行歌 아름다운오늘저녁(外三曲)唄 마리꼬 千鳥格子(外三曲)唄 百太郞 ▲六時스틜기타—獨奏(一)마리아마리……데카푸아作曲(二)마히나……가미끼作曲(三)부르—스……실라作曲(四)에레지……슈나이다作曲(五)원·투—·스리·퍼아……아라우作曲(六)라스파뇨라……체라作曲\\n         鶴 田 廣\\n',\n",
       " '라디오\\n第二放送\\n(波長四九二米)\\n三月十一日(日曜)\\n◇午後六時 童話 李 元 珪\\n◇同六時二五分(修養講話) 活 路 金 仁 泳\\n◇同七時三〇分 唱劇調 (一)短歌鎭國名山 (二)唱劇調 春香歌\\n   朴綠珠(鼓手)池龍九\\n◇同八時(音律)靈山會像(玄 琴)趙彝淳(洋琴)金相淳(稽 琴)閔完植(大笒)金永根(細 笛)高載德\\n◇同八時三〇分 俗謠 (一)關山戎馬(二)愁心歌 (三)역금(四)긴아리(五) 打鈴 張鶴仙\\n◇同九時 復活祭칸타—라‥‥ 가브리엘作曲 (一)福잇도다(二)보라新郞 오시니(三)밤깁흔檻欖山麓 에서(四)蔑視當하야(五) 우리爲해죽엇네(六)겁내지 마라(七)王이로다(八)榮 光을돌니세 監理敎會神學校 讃揚隊指揖及伴奏부—쓰夫人\\n第一放送\\n▲午後七時三〇分(東)作曲者別現代歌謠曲集▲同八時一〇分(大)舞臺劇—大阪歌舞伎座에서中繼—(南部坂)塲景(一)瑤泉院假御殿(二)同塀外\\n三月十二日(月曜)\\n◇午前二時五分\\n同德女子 高普入學試合格者發表\\n◇午後〇時五分 하와이안기타 —音樂 (一)우쿨레레·베비—(二)하 와이안·라브(三)호놀룰루의 달(四)하와이의꿈(五)블 루—하와이(六)킹스·세레 나—데(七)스프링·워터스        張 明 浩\\n◇同二時(家庭講座)服裝美 術(一) 金 永 愛\\n◇同六時 算術復習講座(十三)         李 俊 興\\n◇同六時二五分 產業뉴—스\\n◇同七時 뉴—스 天氣豫報\\n◇同七時三〇分(講話)不良 少年小女에對하야(一)         池 中 世\\n◇同八時 時調와俗謠(一)時 調(二)小春香歌(三)船遊 歌  金 蘭 坡\\n◇同八時三〇分 라듸오·드라마 『姉妹』三景  …舵工望作…\\n   配 役\\n兪海文………………金 昌 基\\n曹貞淑………………金 福 鎭\\n曹愛姬………………趙 薰 海\\n 아파—트의下女…朴 正 姬\\n 看讓歸………………李 貞 淑\\n   서울라듸오드라마同好會\\n◇同九時一〇分 伽倻琴外奚琴(一)伽倻琴併唱(가)大丈夫(나)사랑가(二)(1)방아타령(2)양산도(3)아리랑(4)홍타령(5)도라지打鈴(6)사발가(7)박물가(8)오동나무(9)涙の渡リ烏(10)鍾路(伽倻琴)李日善(奚琴)金奉業(唱)郭明月\\n第一放送\\n▲午後〇時五分 流行歌 아름다운오늘저녁(外三曲)唄 마리꼬 千鳥格子(外三曲)唄 百太郞▲六時스틜기타—獨奏(一)마리아마리………데카푸아作曲(二)마히나………가미끼作曲(三)부르—스………실라作曲(四)에레지……슈나이다作曲(五)원·투—·스리·퍼아………아라우作曲(六)라스파뇨라………체라作曲        鶴 田 廣\\n三月十三日(火曜)\\n◇午後〇時五分(古談)朴燁 과龍骨大 愼 麟 範\\n◇間一時三〇分(東)建武中 興六百年紀念會實况\\n◇同六時 童 謠 (一)조녁(二)시집간누나 (三)봄바람(四)고드름 (五)햇빗은쨍쨍(六)강남 누나(七)고향생각(八)개 고리(九)여름       秦 敬 善  (피아노)金 容 基 (클라리넷트)李 海 鳳\\n◇同六時(名)唱歌劇(第一 放送)伊吹姬(텍스트三六頁)     名古屋學窓會會員\\n◇同六時二五分 國語復習講座 (十三) 田川 孝雄\\n◇同七時三〇分(講話)不良 少年少女에對하야(二)        池 中 世\\n◇同八時 伽倻琴併唱 (一)大丈夫(二)獄中歌(三) 박타령 崔 素 玉    (鼓手)韓成俊\\n◇同八時三〇分 流行歌(一)섬 아가씨(二)離別서러(三) 눈물의편지(四)月夜小曲(五) 流浪의마음(六)동백꼿(七) 處女열여덜엔 鄭日敬(一, 三,五,七)(二,四,六)\\n◇同九時 俗謠 (一)愁心歌(二)역금(三) 孔明歌(四)병신난봉가(五) 景福宮打鈴(六)자진난봉 가(七)漢江水打鈴\\n第一放送…\\n午後八時四〇分(東)舞臺劇\\n라디오\\n第二放送\\n(波長四九二米)\\n三月十一日(日曜)\\n◇午後六時 童話 李 元 珪\\n◇同六時二五分(修養講話) 活 路 金 仁 泳\\n◇同七時三〇分 唱劇調 (一)短歌鎭國名山 (二)唱劇調 春香歌\\n   朴綠珠(鼓手)池龍九\\n◇同八時(音律)靈山會像(玄 琴)趙彝淳(洋琴)金相淳(稽 琴)閔完植(大笒)金永根(細 笛)高載德\\n◇同八時三〇分 俗謠 (一)關山戎馬(二)愁心歌 (三)역금(四)긴아리(五) 打鈴 張鶴仙\\n◇同九時 復活祭칸타—라‥‥ 가브리엘作曲 (一)福잇도다(二)보라新郞 오시니(三)밤깁흔檻欖山麓 에서(四)蔑視當하야(五) 우리爲해죽엇네(六)겁내지 마라(七)王이로다(八)榮 光을돌니세 監理敎會神學校 讃揚隊指揖及伴奏부—쓰夫人\\n第一放送\\n▲午後七時三〇分(東)作曲者別現代歌謠曲集▲同八時一〇分(大)舞臺劇—大阪歌舞伎座에서中繼—(南部坂)塲景(一)瑤泉院假御殿(二)同塀外\\n三月十二日(月曜)\\n◇午前二時五分\\n同德女子 高普入學試合格者發表\\n◇午後〇時五分 하와이안기타 —音樂 (一)우쿨레레·베비—(二)하 와이안·라브(三)호놀룰루의 달(四)하와이의꿈(五)블 루—하와이(六)킹스·세레 나—데(七)스프링·워터스        張 明 浩\\n◇同二時(家庭講座)服裝美 術(一) 金 永 愛\\n◇同六時 算術復習講座(十三)         李 俊 興\\n◇同六時二五分 產業뉴—스\\n◇同七時 뉴—스 天氣豫報\\n◇同七時三〇分(講話)不良 少年小女에對하야(一)         池 中 世\\n◇同八時 時調와俗謠(一)時 調(二)小春香歌(三)船遊 歌  金 蘭 坡\\n◇同八時三〇分 라듸오·드라마 『姉妹』三景  …舵工望作…\\n   配 役\\n兪海文………………金 昌 基\\n曹貞淑………………金 福 鎭\\n曹愛姬………………趙 薰 海\\n 아파—트의下女…朴 正 姬\\n 看讓歸………………李 貞 淑\\n   서울라듸오드라마同好會\\n◇同九時一〇分 伽倻琴外奚琴(一)伽倻琴併唱(가)大丈夫(나)사랑가(二)(1)방아타령(2)양산도(3)아리랑(4)홍타령(5)도라지打鈴(6)사발가(7)박물가(8)오동나무(9)涙の渡リ烏(10)鍾路(伽倻琴)李日善(奚琴)金奉業(唱)郭明月\\n第一放送\\n▲午後〇時五分 流行歌 아름다운오늘저녁(外三曲)唄 마리꼬 千鳥格子(外三曲)唄 百太郞▲六時스틜기타—獨奏(一)마리아마리………데카푸아作曲(二)마히나………가미끼作曲(三)부르—스………실라作曲(四)에레지……슈나이다作曲(五)원·투—·스리·퍼아………아라우作曲(六)라스파뇨라………체라作曲        鶴 田 廣\\n三月十三日(火曜)\\n◇午後〇時五分(古談)朴燁 과龍骨大 愼 麟 範\\n◇間一時三〇分(東)建武中 興六百年紀念會實况\\n◇同六時 童 謠 (一)조녁(二)시집간누나 (三)봄바람(四)고드름 (五)햇빗은쨍쨍(六)강남 누나(七)고향생각(八)개 고리(九)여름       秦 敬 善  (피아노)金 容 基 (클라리넷트)李 海 鳳\\n◇同六時(名)唱歌劇(第一 放送)伊吹姬(텍스트三六頁)     名古屋學窓會會員\\n◇同六時二五分 國語復習講座 (十三) 田川 孝雄\\n◇同七時三〇分(講話)不良 少年少女에對하야(二)        池 中 世\\n◇同八時 伽倻琴併唱 (一)大丈夫(二)獄中歌(三) 박타령 崔 素 玉    (鼓手)韓成俊\\n◇同八時三〇分 流行歌(一)섬 아가씨(二)離別서러(三) 눈물의편지(四)月夜小曲(五) 流浪의마음(六)동백꼿(七) 處女열여덜엔 鄭日敬(一, 三,五,七)(二,四,六)\\n◇同九時 俗謠 (一)愁心歌(二)역금(三) 孔明歌(四)병신난봉가(五) 景福宮打鈴(六)자진난봉 가(七)漢江水打鈴\\n第一放送…\\n午後八時四〇分(東)舞臺劇\\n',\n",
       " '朝鮮歌謠槪說\\n(六五)民謠篇(10)\\n金台俊\\n相思의노래는 아니지만『에로틕』한노래를 곱으면『양산도』가잇스니\\n엘화노아라 못노켓구나 농지를하여도 못노켓구나.에헤이에……借問酒家何處在요牧童이遙指살구나무村이라.엘화노아라 못노켓구나 농지를하여도 못노켓구나.장푸바테金鯉魚논다 금실금실生鮮국이로다(以下후렴을略함)唐明皇의 楊貴妃라도 죽어지면虛事로구나…아야웨야네어데 오강삼포나여긔산다……江邊살면네무엇하네 고기낙가生涯를한다‥‥陽德孟山흘으는물은 浮碧樓로만감돌아든다‥‥東園桃李片時春하니 女子사람의哀願이로다‥‥情은漸漸나날이깁허가는데,사람의處身은 皮骨이相接한다‥‥客舍靑靑柳色新은내나귀매고,노든데라.‥‥네잘나서一色이더냐 내눈이무뎌서,환동이로구나,엘화노아라,못노켓구나 눙치를하여도 못노켓구나』\\n晋州地方 에 流行하는 艷情民謠를이에紹介하면\\n 별도닷네 별도닷네\\n 前에업든 별도닷네\\n 압집동무 뒷집동무\\n 별求景 하려가면\\n 님이와서 기다릴걸\\n 님이와서 기다릴걸\\n 그아니나 반가할가\\n 반가하는 그中에야\\n 사랑인들 오직하리\\n 晋州단성 안舍廊에\\n 將棊뚜는 저男兒야\\n 배꼿갓튼 너의누이\\n 반닫갓튼 나를도라\\n 네가무슨 半달이냐\\n 初生달이 半달이지\\n 初生달만 半달인가\\n 그믐달도 半달이지\\n비(雨)옵소서 비옵소서\\n님오거든 비옵소서\\n줄대불에 건만근이\\n녹피도록 비옵소서\\n달아달아 밝은달아\\n님의노든 밝은달아\\n님의消息 알거들낭\\n安否한장 傳해주렴\\n알금상상 늙은處于\\n丹粧미테 안저운다\\n네가울면 무엇하나\\n나를따라 오려무나\\n萬端回心 다버리고\\n날만딸아 오려므나\\n叙事類——이는 비록 호—머의『이리앗드』나『오뎃세이』캇튼것은 업다할지라도 中國의焦仲卿의妻가 시집가서 媤母의薄待에 못익여自殺한『孔雀東南飛』갓튼長篇이면 적지안케 잇다.從來의民謠採集者의報告에依하면『배짜는노래』갓튼特殊한것도 잇지만『싀집사리』의苦痛을을픈것이그大部分이다南海地方에流行하는叙事民謠를一例로들면\\n河東땅에 한선븨가\\n密陽땅에 장가들어\\n압집에는 宮合보고\\n뒷집에는 冊曆보고\\n冊曆에도 아니맛고\\n宮合에도 아니맛고\\n그나저나 가본다고\\n활장갓티 굽은길에\\n화살갓티 쏴나간다\\n한모랑이 넘어가니\\n까치(鵲)색기 찌죽째죽\\n또한모래 넘이가니\\n여수(狐)색기 캉캉젓고\\n또한모래 넘어가니\\n혼자탄말 죽는구나\\n또한모래 넘어가니\\n新郞탄말 죽는고나\\n그나저나 가본다고\\n말세바리 어더타고\\n또한마리 너머가니\\n샛털벙치 제처씨고\\n대짝대기 짤짤끗고\\n한손으로 주는편지\\n두손으로 바다지고\\n공손스리 피여보니\\n新婦죽은 訃告로다\\n‥‥(以下略)‥‥\\n遊覧歌 의一種인『경밝팀』도 叙事謠라 할지니\\n 『天地변방이요二水는 요란한 대 三山은半落牧丹峯이요二 水는中分綾羅島라 어대로가 자고,날만졸나‥‥(略)‥‥ 水落山瀑水며 중구齋,萬里 齋며 약잠재누에머리룡산삼 개로에들넛다 에 여산에金 德仙이 水原에北門지여 나 라에功臣듸여 슈성옥이와룡 감투눌너쓰고 御酒三盃마신 後에 압페는毛興甲이 뒤애 는權三德이 쇼동옥이十萬餘 刼에雙화동세우고 御前風樂 꽝당치면長安大路上으로가즌 실내만쳥한다?‥‥略‥‥\\n',\n",
       " '妻子두고重婚타가\\n 結婚式에서逢變\\n본처가와서신랑에게야단\\n   新郞은怱怱히避身\\n 지난십삼일 삭주읍(朔州邑)에서는신랑이장가들자돌연 본처가나타나 엄숙히거행될혼례식장이 수라 장화한일이잇섯다 이제그자세한 내용을듯건대 삭주군삭주면동부동(東部洞)에거주하는 리문찬(李文燦)(二九)은일즉이결혼하야딸자식까지낫코 지내오든바 원래부터의합치못하야 마츰내 재작년부터동거를별가하여왓스며정식으로리혼치는안엇든바 남편은다시동군남문의 리모의장녀와 약혼하고 지난십삼일에 장가를들자몰연이 전긔본저가 달려들어처자를두고 어듸로장가를 드느냐고 결사적으로가진 행패를하며덤벼들어 신랑의의복을 찟는등큰소동이 이러나자 신랑은어듸로살짝도망하고 말엇다 사건이장차 엇지결착될는지 큰이야기꺼리가돠여잇다\\n',\n",
       " '地方人事\\n吉岡三浦氏(仁川稅關長)新任人事次十三日本報仁川支局來訪\\n金聲起氏(平康郡廳地方產業技手)轉勤人事次本報江陵支局來訪\\n金圭年氏(榮州郡守)慶北道郡守會議參席次去十二日午前九時大邱向發\\n李元水氏(榮州郡農會技手)榮州郡社會敎化主事新任人事次本報榮州支局來訪\\n金完浩氏(咸鏡南道地方森林主事補)赴任人事次本報群仙支局來訪\\n姜元均氏(求禮財務主任)今般谷城稅務署長榮轉人事次本報求禮支局來訪\\n尹卿氏(求禮郡屬)長興郡에서轉勤人事次同上\\n房□玔氏(慶尙南道產業投手)新任人事次十三日本報金海支局來訪\\n金秉昊氏(永興郡庶務主任)人事次本報永興支局來訪\\n白南鵬氏(東豆川公普訓導)新任人事次本報東豆川分局來訪\\n金學泳氏(永明實修學校敎員)新任人事次去十三日本報公州支局來訪\\n崔敏冰氏(本報安邊支局記者)君과中良澈孃의結婚式은去十四日午後一時安邊邑內鶴城里新郞自宅에서與行\\n▲富田榮七郞氏(開城稅務署間稅課長)新任人事次去十四日本報開城支局來訪\\n李錫瀅氏(開城稅務署員)同上\\n中野人事氏(同 上)同上\\n',\n",
       " '婚禮式當日에\\n新郞二人이出現\\n厚浦港에喜活劇演出\\n 강원도 평해후포항(江原道平海厚浦港)에잇난유춘자(劉春子)(二〇)(假名)란처녀는지난륙일에 초례를 지내게된바한처녀에게두신랑이들어와일대활극을 연줄하야결국 성레도일우지못하고 한이야기 꺼리만된사실이잇다는바 이제그 내용을탐지한바에 의하면전 춘자는어렷슬때부터 팔도(八島)라는 사람의집에서 륙칠년간 고용으로잇섯든바작년봄부터동면삼율리(三栗里)수연광산(水鉛礦山)기계수(機械手)로잇는 박영철(朴永喆)(二七(假名)을 알게되여정은차차 깁허가든중 춘자는부모의명령과 가정형편상 부득이평해읍내(平海邑內)모려관 某旅舘)하녀로 가게되자 모은행(銀行)에근무하는 황만일(黃萬一)(二八)을알게되여 수삼개월 정이깁허젓다 그리하여 금년일월경에춘자는 저의본가로왓든바 결국은 아들셋이나잇고 안해까지잇는 황만일에게 시집을가기로한바이로인하야 결혼식 당일에는한신부에 두신랑을 맛는일대활극을연츨하엿다고한다\\n',\n",
       " '一身兩人雙童姉妹\\n紐育奇談\\n戀愛結婚雙奏曲\\n道德問題로官廳은結婚許可拒絕\\n新郞은憤然!提訴\\n造物主의惡戱\\n雙童戀愛受難\\n몸동이가서로부터잇는쌍동이처녀가 결혼할권리가 잇느냐업느냐하는 진기한재판이물건너 야롯한일만키로는유명한아메리카『뉴욕』에서생겻다고한다\\n 『바욜레트힐튼』양과그동생되는『떼씨—힐트』양(모다이십륙세)은 등골끄치서로맛부터한몸동이가 되여잇는 쌍동이로서그형되는 바요레트양이 음악가『모리쓰란빠』라는 이십륙세되는청년과 뜨거운 사랑을주고바든결과 들이결혼을하기로 하고결혼허가를뉴욕시장에게신청하엿다고한다\\n 이와가티 진기한 결혼신청을밧고처리에곤난한뉴욕시장비서는 급속이혐이히틀 열은결과이와가튼불구자에게 결혼을 허락한다는것은 도덕에 위반된다고하야결혼허가서 발행을 거절하고마럿다\\n 여긔서『바욜레트』양의애인되는『모리쓰』군은 극도로 분개하야 즉시결혼신청을그리웃『뉴짜—지』주(州)에 신청하엿스나 역사 거절을 당하게 되자마츰내는뉴욕 상급재판소에 소송을걸게 되엿다고한다\\n한편으로 그동생 되는『떼씨—』양은 그형에게지지안코 방금권투가『메—쓴』이라는 사나희와달콤한 사랑을 속살거리기시작하야이도 미구에결혼을 할예정이라고한다\\n 이와가티 조물주의 작란에저 주바든 두자매는 본래『론돈』 태생으로 키는한목으로 사척 구촌이요 체중은 두사람합하 야백구십륙『폰트』요,구경꺼 리가되여 도라다니며 상당한 돈을작만하엿다고한다사랑하 는남자와 정담을 주고밧고하 드라도 서로속이지 못할처지 에잇는두자매의련애결혼은절 대한흥미를끄을고잇다고한다지금까지 력사상에 나타난이와가튼 쌍동이로서는『첸—통크』라고하는 남자쌍동이로섬라(暹羅)에서 출생하야 미국으로 건너와 둘이함께 결혼을하야이십일명의 자녀를나흔일이 잇섯스나 이번의이두자매쌍동이는 한편이 알아서사십도의 열이오르도록 한편은조곰도 영향이업시건강하게 지내는것을보아 훌륭한 두사람의존재라고 변호사는열렬하게 주장을하야 뉴욕시당국의 반대리유가 박약하다고비난이만흔중 뉴욕 상급재판소의이사건에대한 판결은 어떠케내릴런지 뉴욕사람들의 큰이약이꺼리가되여잇다고한다\\n (사진은 맛부튼쌍태의갓나을 때현상)\\n',\n",
       " '新郞달기團束\\n개성경찰서에서는 종래결혼식거행당일 여러사람이 완력으로신랑을 료리점으로 끌고가서음식비를 량비케하는 악습울업세기위하야 이후부터는 이러한행위에대하야는용서업시취체검거할터이라다한\\n',\n",
       " '新郞이不具者라고\\n婚禮當日에破婚\\n仲媒結婚의넌센스劇\\n 화촉동방의아름나운꿈을꾸며 머나먼길을갓다가 불구자라는 구실로 급행한신랑이잇서서 이야기거리가 되여잇다사실은 철원군절원읍 외촌(外村)리 사백팔십오번지김영규(金榮奎)(假名)의이남 인성(仁成)(假名)(二四)은 동군불면 외학리(外鶴里)박재봉(朴再奉)(假名)의장녀 큰애기(一七)와 약일개월전에 약혼이성립되여 지난삼일신부를마지하랑으로 자동차로혼행을차려 갓섯스나 신부집에서는 거행하랴든 결혼식을중지하고 약혼을해소함으로 신랑은그즉시 쓸쓸히 그대로도라왓다는데 이제 그자세한 원인을드러보면 산부집과하이웃에살며 매우친근히 지내는로파 백씨(六四)의소개로 약혼이 성립되엿든바그후수일이지난다음 신랑이불구자라고 함으로 신부집에서는크게놀래여 그즉시 전긔로파를보내여 진가를아러보앗스나 이삼차 다녀와서도 절대불구자가아니라고함으로 안심하고 만반을준비하고 기다리고 잇섯는바자동차에서 내리는 신랑을보니과연한다리를 저는고로 신부집에서는 랑패하야 매파를꾸짓고신랑의일행을 돌려 보내엿다는데 신부측에서는 대단분개하여방금매파를거러 명예헤손과 손해배상의 청구소송을 준비중이라한다\\n',\n",
       " '新婦는한사람에\\n新郞은두사람!\\n저마다자긔가신랑이라고뻣대\\n元山의넌센스結婚劇\\n 결혼식장에신랑두사람이나타나 저마다 신랑이라고대소동을일으킨넌센스극일막—원산부장촌농구십일번지에잇는김상호(金相昊)(假名)는 품을파러 이곳저곳으로 돌라단니며간신히 호구하는 자유로동자인데 자긔의생활에 다소나마도음이될가 생각한남어지 어린딸서분(西紛)(一六)을 부모도업시 원산에와서 발동선선부노릇을 하고잇는 김순섭(金淳燮)(三〇)에게 재작년서분의나희 십사세때에 약혼을허하야 순섭을다릴사위모양으로 결정하엿든바 순섭은 구차한가시집 살림을보태지안흘뿐안이라 부모업시 떠도는흘몸이라던 그에게는 고향에부모가잇서 그를하날가티 밋든상호는 자긔의생가과는 넘우나차이가잇서 끗업는비애과함께 극도의분게를늣긴남어지 생각다못하야 서분을다시 안변군문산면고남산리(安邊郡文山面古南山里)박제삼(朴濟三)(一九)에게금년봄혼약금삼십원을밧고약혼을식히엿섯다고한다\\n이박제삼의 집에서는 구차한소작농의 살림시리에서 지난구일을 결혼식길일로 정하고,만반준비를한후 전긔 서분의집으로장가를와서 막결혼식을 거행하랴든 순간에 난데업시김순섭이가나타나 신성하고도 엄숙하여야할 결혼식에 일대풍파를이르켜 결국경관의출동까지 보게되엿섯다는데 김순섭은 서분과의결혼을 단념하얏다하나 박제삼역시 결혼비팔십원을 청구하면서 결혼을불응한다하니 과연이넌센스극은엇지나전개될는지일반의화제꺼리가되여잇다고한다\\n',\n",
       " '儀禮凖則\\n改正된要點\\n 朝鮮在來의 各種儀禮를改革하야 新時代에適合하도록 儀禮準則을制定發表하는同時에去十日總督諭告가發表되얏다함은旣報와갓거니와 新準則中重要한點을擧하면나음과갓다\\n◇婚禮 一,婚姻年齡 男二 十歲女十七歲以上으로함 一 約婚 四柱를交換함 一,涓 日新婦家에서婚禮日을ㅏ하야 新郞家에通知함 一,納幣 靑 紅二端으로함 一,結婚式 新 婦家,神社或은寺院敎會堂에 서行함 一,儀式終了後新郎 家에서婚禮에參列한近親者만 을請하야簡單히祝宴을開催함\\n ◇喪禮 一,葬日 葬式은 特殊한事情이업는限 五日以 內에이를行함 一,發靷(出 棺)時刻은 早朝로하고 靈柩 는舊式喪擧를使用한境遇에는 呼唱을廢하고靜肅을직힐것,但自働車를 使用함도無妨함一,喪期及服期 喪期中은至哀至痛의뜻을가지고 特殊한事情이업는限 業務를廢함 一,服喪期間은一個年,百日,五十日,三十日의 四種으로改廢短縮함\\n◇祭禮 一,忌祭 忌祭는祖稱까지에 限하야每年忌日에行함,一,墓察,寒食,秋夕,重陽에行함\\n',\n",
       " '朝鮮劇의\\n面貌인\\n新羅假面劇과\\n李朝山臺劇\\n(7)\\n唐珠洞人\\n 또한 星湖僿說에依하면『每上國使臣至爲左右柵 竸鬪新奇』라하엿스니 竸鬪新奇이文句를본다면 이山臺劇을 얼마나竸爭的으로 하엿는가를可하 斟酌할수 잇는일이다 그러나李朝仁祖朝에와서는 여기에대한弊風을\\n痛嘆히論한\\n上疏가잇섯스니 其當時의 戶曹判書인 李曜의 上書에依하면『歲時儺禮 市民所費甚多 宜罷之』라는 句節을보와 알수잇는일인바 儺禮는 前記 山臺舞戯를 指稱함이다 그들이莫大한費用을드리여 竸爭的으로 山臺劇을 設備하엿슴으로 마츰내 國法으로 禁하게되엿던것이다 이와가티 山臺劇은 中國使節을 迎接하는 意味로도行하엿지만 一方으로는 一年中큰名節이나 또한農閑期를利用하야 이와가튼 山臺劇을하얏던것이다 이제 山臺劇의內容을\\n槪括的으로\\n紹介하려고하논바 山臺劇은 全部十二科程(幕)으로 되엿스며 其登塲하는 人物로는 노장(老長)小巫堂 연업,눈꿈제기,신할에비,미알□미,상좌,을,□중,完□ 新主簿(□□) 왜장여 에사당,말뚝이 원숭이,□□여,□님,서방님,도령님,쇠뚝이,捕盜部將等 二十□人이된다 그다음으로 山臺劇에나오는 춤의種類로는 돌단舞 곱사위舞 멍석말이舞화장舞 여다지舞等이엇서 復雜한塲面을 이루는바 十二科程全幕을通하야 서로 連絡이되지안코 幕마다 獨立的으로\\n場面이展開\\n됨으로不自然한 늣김을주게된다 그런데 이山臺의세內容을 가지部門으로 區分할수가 잇스니一,巫堂들이 고사지내는塲面二,破戒僧의諷刺 三,巫女를中心으로한 샌님과 捕盜部將의戀愛싸홈 이것이 山臺劇의骨子되는 部分언바 仔細한것은 흣機會로밀고 여게서는省略한다 그러나 이山臺劇은前述한 假面劇과는 劇으로서의面目이 瞭然하야 科目(脚本幕)配役等이 홀륭하(게具備)程하여 잇섯던것이다 우리는이山臺劇과함께\\n朝鮮固有의\\n劇인꼭두각시劇을 들지안홀수 업다꼭두각시는 即 人形劇이라는말이니 각시는 朝鮮말에 新婦를 각시라고하는바 兒孩들이 솟곱작난할때에 草葉으로송각시라는것을 만돌고 그풀닙人形을 新郞이니 新婦이하人면서 노는일이잇다 그러면니이形劇이假面劇보담 몬저되엿느니뒤에되엿느니 學者間에區區한 論爭이잇스나 여게서는그와가튼까다락운理論은 젯처노코 為先 이人形劇이 언제부터 古文獻에 나타나잇는가들想考하여보면 孟子梁惠篇에『孔子曰始作俑者 其無後乎』始作俑의俑은\\n人形을말함\\n이며禮記檀弓篇에 『孔子謂發□靈者□ □爲□者不仁』謂爲□의□은 人形을말함이며 史記□□에爲偶人 □之天神의 偶人이또한 人形을말함이며 史記孟□君傳에『木偶人與土偶人相與語』이木偶人과土偶人이 亦是人形을 意味하는 말어다 그러면 上述한 短片的 古文에依하야 東洋에는周代부터 임이 人形이 잇젓다는것을 알게되는바 朝鮮에는 언제부터人形에□한 記錄이 잇섯는가를 살펴보면 大東韻府群玉에『高句麗俗 敬鬼神多淫祠 有神廟二所 一曰扶餘神 刻不作婦人像 一曰高登神云 是其始祖扶餘神之于』이\\n刻木作婦人\\n□은即人形의 始初를말함이니 巫女률이 처음에는 崇神하는 意味로서 木刻으로 偶人을만들어 그것으로 崇神의對象을 삼잇던것이다 그러나 其後 이木刻偶人이 非但 崇神用에만 쓰지안코 木偶人에 華麗한衣裳을 입혀서 至今의人形과가튼諸形式을 가추우게되엿다\\n',\n",
       " '雙男兄弟의新郞\\n雙女姉妹의新婦\\n同年,月,日,時에結婚\\n獵奇的\\n結婚이야기\\n 지난십구일오전십시경 경북봉화읍내의조철자동차정류소압헤 무슨사변이나 잇는듯이 부녀자들이오히여 무슨구경을 하느라고 혼잡을일 우엇섯는바 이홍미만흔관람의 리면은쌍동형제의 신부가 동일동시에쌍동형제의 신랑의집에 신행오는것을 구경함이라는데 봉화군물야면가평리 권규덕(物野面佳坪里 權奎德)(四七)의쌍남(雙男)으로형종각(鍾珏)아우종혁(鍾赫)(一四)을 작년가을에 영주군영주면휴천리송인황(榮州郡榮州面休川里宋寅鐄)의 쌍녀(雙女)형선남(先男)아우후남(後男)(一六)과형은형끼리 아우는 아우끼리동일동시에결혼례식을거행하고 지난십구일에 신행오는터이엿섯는대 이런신긔하고도 긔적적혼인은처음보는일이라고일반사회에서는 큰화제가 되여잇다고한다\\n',\n",
       " '結婚넌센쓰劇二幕\\n한新婦에新郞두사람\\n新婦爭奪의持久戰\\n扶安郡下에서생긴珍談\\n 요지음추수가끗나자농촌경긔가 풍성함인지 각지에결혼사태를이루워 쓸쓸한농촌의화긔를도두는데 그중아래와가튼산부한에사람에 신랑두사람으로쟁탈전이이러나에로틱한결과를남긴일과약혼한남자를병어엇다 칭탁하고 다른곳으로약혼하기때문에 이미 결혼날로정한날에먼저약혼한남자로부터모든절차를 차리고와서 결혼을강요하기때문에 규수의 올아비는 음독자살하랴한일까지 결혼전선에 재미릅지안흔불상사가한골에두번이나생겻다한다 그내용인즉아레와갓다\\n 한곳은——부안군부녕면신홍리(扶安郡扶寧面新興里)김성구의장녀(金成九長女)김분례(金粉禮)(一七)이란어엽뿐 처녀를사이에두고 한응리에사는 방재원(房任元)과 박춘실(朴春實)이라는 두총각이 서로다투다가드듸여 방재원이가 성혼하야결혼초야를격것는바 그잇튼날 방재원에게 신부를빼앗긴 박춘실이는 분함을 참지못하야방재원에게달려가서 자긔가 김분례를일즉부터 상관한바 잇다하야김분례를 빼서다가하로밤을 지냇는데 그잇튼날방재원은 박춘실이가 순전한기짓으로 자긔를손여성혼□□□한 새악찌를 뻐서감을알고서는 동리사람의 응원을어더 박춘실이를 습격구타하야도주케한후 김분례를 도로대려다가 신혼 생활에 별이상업시 지낸다는일이 잇다하며또한곳은——부안군 동진면 증산리 윤하선의 장녀윤옥희(一六)(扶安郡東津面曾山里尹河善(假名)長女尹玉姬(假名))와 정읍군통묵면 화호리 하이윤의장남하재현(二三)(井邑郡龍北面 禾湖里河二允(假名)長男河在鉉(假名)과 일즉 하호리에사는조중옥이란 사람의 중매로약혼하야혼비륙십원까지 신부집에서 밧고 결혼날은 지난이십팔일로정하얏든바 윤규수집에서는 혼일을압두기 닷새전에 모방면으로부터 신랑될하재현이가 간질병이잇다는말을 듯게되자 즉시파혼통지를 하는동시 다른대로혼처를 구하엿는바 하이윤편에서이는 순전히 무근지설을 핑계로 혼비를 먹으려는 수작이라하야 그전약혼대로 결혼을감행하려고 신랑은 의사의건강진단시를 휘대하고 지난이십팔일에모든 절차를차리고 수십명의사람을 영솔하고 선부된윤규수의집에갓든바 규수집에서는 전부피신하야 면대도 아니하고다른사람을 시겨서 병든자와결혼할수업다고 거절함으로 하재헌과그의편사람들은 그동리 고모(高某)의 사랑방에 웅거하고잇는데 그동리사람이 음식물제공까지거절함으로 하는수업시 십리밧딴집에서 음식물을 고가로사다먹으면서 지구전으로 규수편에결혼을 하든지 그러치안하면혼비와 손해를 배상하라고강요함으로 규수편에서는 하씨에게파혼통지를하고 부안읍내(扶安邑內)김수일(金守一)(二〇)(假名)과 약혼하고 백원을혼로 바덧스며 김수일(二〇)이가수차규수집에 단녀갓다는 말을하씨편에서는듯고 피신해잇는 규수의큰올아비되는 윤행일(尹幸日)(三五)(假名)을 지난이십팔일밤에 차저골어다가 강경힐물한바 윤행일이는하는수업시 명일결혼하겟다고 승락 하엿섯는데그익일인 이십구일아침에 윤행일이는 자긔아버지의 강경한반대와 자긔승락이 위압적인그들태토에 부득이 응답한것임으로그뒤처결방법이 막연하고 창피함으로 자살해버리랴고 양잿물을 먹엇스나 즉시집안사람의발견으로 의사의 응금치료를바더생명에는 관게업게되엿다하며량가에서는 의연대치중인데 그귀결이엇시 될지일반은 자못주목중이라한다\\n',\n",
       " '送年辭\\n嫉妬에대하야\\n(上)\\n金起林\\n萬若에 내가여기서 結婚式廢止論을 提唱하다면 맨처음으로 反駁해올사람은 아마도千花□이라는둥 무슨무슨堂이라는둥하는 結婚式塲裝飾을職業으로하는사람늘일게다.\\n 그러나 그反而에實로結婚式資金때문에 結婚을 延期延期하고잇는 滿天下의當當한新郞候補들의 拍手喝釆를어들것은틀립업다.\\n 그러나 나는아직은 結婚式廢止를主張하야 一部의非難을사려고하지안는다 다만만흔境遇에 結婚式을 될수잇는대로盛大하게 舉行하려는 希望은大槪는 新郞이아니고 新歸편에잇는것갓다는말을 하려고한데지나지안는다.事實긔창한結婚式을 구경할적마다 나는벌서未來의 主婦가實質上의主權者로서男性의우헤 얼마나그威力을發揮하기 시작햇는가를느끼고感嘆한다.\\n 그러나 될수잇는대로 차란한結婚式을 志望하는新婦들의意見에도 相當한根據가잇는가한다\\n웨그러냐하면 結婚式은만흔境遇에新郞의 社會的地位 交際範圍 品位階級財產程度等을大體로는率直하개 表現하는것이니까 結婚式의規模의大小를따라서 新婦는各各그程度의『훌륭』한男便을가진다는것을 世上에向하야 뽑낼수잇는까닭이다따라서 結婚式을 엇더케有効하게 演出할수잇는가 업는가하는일은 그대로 한男便이結婚生活에잇서서 얼마나한 威信을 안해의우헤가질수잇는가를결정하는것이기도하다.\\n 나는 온아츰에 일터로나오다가 大門간에서 힌角붕투한장을집엇다.그것은 말할것도업시 어는벗이보낸結婚請牒이엿다 또저녁이나 한끼생기는가헷드니 웬걸거기는 式塲이나披愼宴에대한 이야거는한마듸도업다.괘씸한일이라고속으로생각하면서 자세히살펴보앗드니 그것은『우리는 아모날결혼햇스니 그런줄아시오』하는 結婚報告書다.\\n就職通知書라든지 解雇通知書와가튼 一種의 通知書다.다만그것뿐이다.그것뿐으로조왓다.\\n 사실 一年에全朝鮮內에서結婚하는 一八二,七五雙(再昨年中屆出된것만)의 善男善女가禮式을위한 巨大한費用과煩瑣를略하고 오즉한장의結婚通知書를 發送함으로써 끄친다고하면經濟的利益은 勿論이지만世上일이 이로인하야 얼마나簡便해질른지모른다\\n구러케되면千花堂이라든지社會舘의收入은 줄어들겟지만 社會百年의 大計를위하야 매우조흔일일게다.\\n그러나 當分 人間社會에서地位나 階級이나 品位의區別이업서질때까지는 아마 結婚式이라는것은 업서지지안흘것인즉 千花堂이나 社會舘은 아직은 조금치도 그前途를悲觀할必要는 업슬것이다내親知의또한사람은벌서五六年前일이지만 매우神通한考案을한일이잇다.그는위선 結婚式은 普通대로햇는데 式이다필한 다음에 主禮는 披露宴만은 適當한機會에 다시時日과塲所를通知하겟다고 손님들에게宣言만하고말엇다 그런데五六年이지난오늘까지도 나는그親知의結婚披露宴에대한 通知는바든일이업다 그러치만그친지는벌서玉童子까지나엇고 事實그의結婚式은 披露宴마저添附한어는結婚式보다도 못하지는안엇다\\n 이야기는 좀더根本的인데로옴겨가서 結婚이라는것은 大體로 우리들절문사람에게 매우 조흔影響을 미친다는簡便한 생각을 나는 가지고잇다그實證으로 最近 結婚한 두벗의집을 오래간만에 따로따로 차저보앗드니 위선그잇는房의內部裝置가 刮目相對하게된데 놀랏다.세개네개식되는體鏡과 역시그러케여러개인掛鍾과 坐鍾과自鳴鍾.그러고若干의 刺繡의額面等.그것들은새로말숙하게 도벽한 壁을背景으로하고 各各適當한塲所에配置되엿다.\\n 그러고 그너저분 하든『테물』과冊□이 노혓든 자리는百貨店에서 금방실어드린듯한장농과 양복장들이 베아섯다그러니까 벗의『넥타이』는 當分間 뻐뚜러질렴려가업고 또한會社에도 遲刻할리도 업슬게다.\\n그러고 그가난속에서 엇더케살림을 해가랴하고 그健康까지를 렴려한벗의 얼끌은 오히려 潤氣가난다.\\n그러니까 우리는 조골도『스트린드베르이』나『뻐—너드·쇼—』처를 그러케 結論에대하야悲痛한생각을 가질필요도업고 구태여『미소지니스트』가되여서 天下외女性의 憤怒를살必要도업다(게속)\\n',\n",
       " '奇特한新郞新婦\\n결혼피로연비용을절약하야고아원에기부한 갸륵한 신랑신부가잇다 춘천음(春川邑)백인배(白仁培)씨의 장남창용(昌鏞)군과경성시내최준호(崔俊鎬)씨의매씨창순(昌順)양은팔일오전열한시에 시내장곡천정(長谷川町)사회관(社會舘)에서 결혼식을거행 햇는데 특히 피로연은매우 간략하게하는 한편에쓰려든돈 일백원을 떼여서시외왕십리 往十里)조선고아원 (朝鮮孤兒院) 에기부하야 의지업는 어린이들을 위하야 쓰게하엿다\\n 마음입분 신랑신부에게 복이잇서라 가난하고 의지업는사람들에게 더욱쓰린 엄농을아페두고더욱듯고시푼이야기다\\n',\n",
       " '送年辭\\n嫉妬에대하야\\n(下)\\n金起林\\n 그러나 同時에 눈에띄이는일은그들新婚家庭의 모—든室內裝置의 配置의指揮者는아마도新婦의편이며 新郞의意見은지극히적은 分量박게는그속에參加하지못한것가튼點이다.\\n그것노그럴번한일이다.\\n歷史잇슨以來五千年을 男性의獨擅아래 屈從할수박게업섯든것이 東方女性의 永久한運命이엿슨즉 女性解放의소리가들려온지도벌서數十年 오늘의女性이비록家庭에서만이라도 支配權을回復하는일에는 紳士는異議를申請해서는아니될것이다\\n또脫線햇다\\n그러나지극히公式的인 論理의制約에서 諸君과함께나를 救援하는것이 나의隨筆의意圖엿스니까 途中에서 突然내가『페미니스트』로豹變할지라도 諸君은 寬大해줄줄밋는다 나는新婚生活이 우리절문사람에게조흔影響을미친다고 前回에말하엿다\\n그런데 그러케祝福바든 結婚生活이 때때로 豫想하지안엇든 不幸을 불러오는것은 무슨까닭인가?\\n 나는 그가장有力한結婚生活의破壞者의하나가 바로 嫉妬라는 感情인것을發見하엿다\\n 結婚前호은 그후에다른異姓과바꾼한장의葉書나 실로지극히적은 名函版寫眞한장이뜻하지아니한 커—다란風波의原因이되는것을 우리는구경한다十九世紀末葉以來幾多의新結婚觀—例를들면『엘렌·케이』『럿쎌』『코론타이』『린세』等—에依하야우리의 結婚에 대한생각에만흔變遷이 잇섯슬상십건만 오히려實生活에잇서서는 이嫉妬라는 感情때문에 明朗하여야할 新時代結婚風景이 때때로憂鬱해지는것을 본다.나는생각한다 이嫉妬라는感情은벌—서 盲膓의地位에떨어젓섯서도소핫슬것이다 그러케되면우티들의 性生活은지금보다 얼마나더 明朗해젓슬지모른다.\\n우리는 거리에서 적어도지금처름그러케만히 이마에주름살을세운젊은이들을 맛나지안코도 견듸엿슬지므른다\\n 또한人類가 嫉妬라는 感情을아주떼여서 休紙통에 집어던진다면 첫재嫉妬文學의最高峯인『쉑쓰피어』의戱曲『오텔로』는그魅力을 일허버리고말것이다\\n 그러고 人間의□疾인嫉妬라는것을 唯一한劇的葛藤의『테—마』도삼아서 凡衆의눈에阿護함으로써生存하고 또繁榮하는世上의 그不潔한大衆文學따위는 곳업서지고말것이다 男女間뿐아니라 나아가서 親友間이라든지 모—든社交에잇서서國際間에잇서서 이嫉妬라는不淨物을完全히 씨서버릴수잇다면 이地上의밤은 現在우리가느끼고잇는것보다는 훨실덜어두운것일지도모른다.\\n엇재諸君은 지금쯤은 이嫉妬라는盲膓은 手術해버려도조타고생각해본일은업는가?\\n        (一二,六)\\n',\n",
       " '\"蓄音器所持로써…放蕩者임은不聞可知\"\\n當世看選大家의名斷案에‥‥\\n絕望한新郞은주먹질\\n 오래간만에소원성취가되여 장가를들게 되엿든로총각이『라듸오』와『축움긔』바람에 방탕자란루명을쓰고 파혼까지당하게되자 머리끗까지 치바친 분로에필경은 간선왓든마나님에게다 주먹세레를내린『넌센쓰』일막=시외한지면리태원(梨泰院)이백록십오번지하복쇄(河卜釗)(二三)(假名)는 경성모고무회사 외교원으로 장차건설할진가정의 준비공작이엿든지 라듸오』와『축음긔』를사다 노앗든바최근 시흥군북면흑석리(始興郡北面黑石里)장모(張某)의딸 아기(娥只)(一八)(假名)와 혼남이진행되여 이십일아즘 아기의어머니 리성녀는 하복쇄의간선을하려고 복쇠의집에 왓다가그의방에노혀잇는『라듸오와』축음긔를 보고는 성난얼굴로훌절나가버리며 혼약을못하겟다 함으로그리유를 물엇드니 리성녀는성낸표정으로 하는말이『축음긔와『라듸오』는방탕한자의사치품이라』우리집에서도 전자에는큰아들놈이 저런것을 사가지고 란봉을 부려서 현재와가튼 빈곤을보게되엿다 이집에도 이런것이잇슴을보면 뭇지안어도신랑될사람은 방탕자인것을 수알가잇다하며 가버리려 함으로선보기를 고대하엿든로총각 하복쇄는 이소리에하도분함을 참지못하야 리성녀에게로 덤벼들어주먹으로 분푸리를 하엿다는데이팡경을 보러 이웃동리사람늘은 모혀들어 그야말로 인산인해를 이루웟섯다한다\\n',\n",
       " '近世愛慾篇\\n鄭乙善傳의虛構\\n 이鄭乙善傳도 繼子虐待小說의하나이라는것은 前述함과 갓거니와 이제그梗槪를 살펴보면다음과 가튼 悲劇이 이小說의全篇을 흐르고 잇다\\n『時代는嘉靖年間一곳은慶北(上左道)鷄林府 慈山村!여긔 兪尙書가 살고 잇섯다 그의일홈은진희이엿는데 그는 少年에登科한 名望잇는 사람이엿다 그러나政界가물란하야지므로그만자리를 내여노코 故鄕에 도라가 구름속에 밧갈기와 달아레 고기낙기로 일삼는 閑暇한 목이되엿다 그러나 膝下에 子息이업슴을 恨하고 잇든中 秋年이란딸하나를 나허두고 그안해는애처럽게도 세상을 떠나게 되자尙書는 다시 後妻 盧氏를 마지하게되엿다.그러나 後妻 盧氏는 秋年을 미워하여 마지안케되엿다.그런데 秋年의 나희들어 鄭乙善이란 사람과 佳緣을 맷게되자 더한층 秋年을 미워하게되엿다.\\n 그러나 기다리든 秋年의 幸福된날은 오게되여 華燭洞房에新郞新婦는 바야흐로 단꿈이 물은녹게 되엿다 이때 심술구진繼母 盧氏는 견딀수업서 夜半에 사람을 보내여 姦夫로 假裝식혀『내愛人을 누가 더리고자느냐』고 웨치게 되엿다 그리하야 그들 初夜의 甘夢은 餘地도 업시 깨여지고 말게 되엿다.이러케 되고 보니 乙善은 秋年이가 處女時代에 愛人이 잇섯든줄로 잘못알고 그만秋年을 버리고 王女와 幸福된結婚을 하게되엿다 그러자 이것을 悲觀하고 秋年은『含寃歸泉』하게되엿다\\n 이러케되고보니 盧氏는 自己의 奸計가 드리마젓다하야 기뿜을 禁치못하엿다 그러나 秋年이죽은뒤 그의원혼은 못살게도 盧氏와 그一族을 害치게되엿다 그리하야 盧民와그一家는모—다 이때문에 죽어버리게되고 또旱炎가 繼續되엇다 이리하야 이旱災의 繼續은 結局兪夫人의 冤魂의 所致라하야 王은 秋年을忠烈夫人으로 封한뒤에 그원혼을풀어 주게되얏다그리고는 名藥으로써 秋年을囘生식힌뒤 乙善은 두夫人을 더리고一家가 繁昌하게 살엇다는것이다』\\n 이는 前半에 잇서서는 現實味가 잇스나 後年에 잇서서의죽엇든 사람의다시 蘇生한다는것은 現實을떠난 空論갓지만 如何間 이小說은 全篇을通하야繼母알에 虐待바든 子女의 樣姿가 똑똑이나타낫다고보다\\n',\n",
       " '富家娘의절음\\n初夜에헛自白强迫\\n畢竟新郞을提訴\\n결흔초야에 신랑으로부터『처녀가아니다』하는가슴이 뜩금한말을듯고 그만결혼이 해소되어버린젊은녀자—시내체부동(體府洞)륙십오번지 한모(韓某)의 무남독녀한정희(韓貞姬)(二二)는 리승우(李升雨)변호사를 소송대리인으로 하야 시내교북동(橋北洞)사번지사는김홍길(金興吉)(三一)이라는청년을 상대로구일에 경성지방법원에손해배상이천오백원의청구소송을 이르켯다\\n 두사람은 작년십일월 일일에서로 결혼식을 거행하고부부는처음사홀밤동은 신부의 집에서가티자고 나흘재는신랑의집으로 가서가티잣는데바로그날방에신랑은신부에게 대하야 너는처녀가아닌즉 사실을전부 바로자백하면묵인하고가티 살겟다하면서 작고졸라서 신부는기뻐야할 그신혼초야를눈물로 새우고 그이튼날에그만친정으로 도라가서 잇섯는데그뒤멧칠뒤에 신랑은 다시신부의백부를차저가서신부는처녀가아니엇다하면서결혼비용륙백원만무러내면비밀에부치고살아가겟다고조건을부처요구하엿다 그래서신부의 아버지는그냥 드러들수업다하야 신랑을불러다가 따젓더니 공연히허무한말을 하엿노라하고 사과하엿는데그뒤에도 그냥태도를 고치지안코이왕서로 이가티감정이 나빠젓스니더 살수업다하고 신부를소박해버렷다\\n그런데 신랑은신부의 집에재산이잇는것을 엿보고그것을 후려먹을양으로터문이업는말을끄집어내어드듸여 정조만유린한것임으로 그배상으로 이천오백원을 내라는것이다\\n',\n",
       " '婚禮式二日압두고\\n約婚解消를宣言\\n新郞은警察에哀願\\n결혼해소로 결혼비싸움=부천군(富川)다주면(多朱面)문석리(門石里)김춘(金春)의장남수남(壽男)(假名)(二二)과시내류정삼십사번지서정봉(徐廷鳳)의매제인숙(仁淑)(假名)(一九)은 지난일월삼일에 약혼한후 결혼식은지난십오일로정하고 납페와 사주단자까지보내고 신랑집에서는 여러가지음식과 제반순비에 분망하든중돌연 결혼날이일을압둔 십삼일에신부측으로부터 사주를 반각하는동시에 파혼을선언함으로 산랑측에서는 이를분개하야 수차신부측에리유를 말하얏스나 별반리유도업는모호한 대답을할뿐이요 손해조차 변상치아니함으로 혹은매제를밋기로 농민을 속인것이나안인가하야 전긔신랑측에서는 흔수흥성종목과 음식등의 진긔한목록을첨부하야 결혼을하든지 혼례비를변상하든지 하게하야달라고 소관인천서에 애원하얏다한다\\n',\n",
       " '꼬맹이不遇時代\\n約婚까지하엿다가\\n키적다고退字노아\\n신랑어 자긔의 키가적음을 비관하야 신랑대리(新郞代理)로 다른사람을『선』보엿다가 혼인을 오일박게남기지안코 발각되여서 그만헛물만켜고만일이 잇섯다=함안군 칠북면봉촌리차모(漆北面鳳村里車某)의 장남 차천을(車千乙)(二二)(假名)군과 동군칠서면 게내리최모(同郡 漆西面 溪內里崔某)의장녀 최호분(崔好粉)(一八)(假名)과결혼하려고전긔최모가 신랑을『선』보려고 신랑의집에갓든바 신랑은년령에 비하야너무나 키가적음을불만히생각하고 그오촌되는이웃사람을선을보혀서피차약혼하고신랑측에서현금삼십원과 기타례물까지보내고 혼일만고대하든차에 이사실이 처녀의집사람에게 탄로되여 처녀측에서파혼통지를 보냇든바 신랑측에서는그때에 당자인신랑이 출타하고업섯기까닭에 잠간다른사람을 보힌것이며 본인도 병신이나 불구자가아니니 그대로 성혼하자고 신랑과 그의친족들이 지난십팔일에처녀의집에차저가서 간청하엿 스나처녀측에서 다른사람을 선보혓슴은 그당자인신랑에게 결점이잇는것은 두말할여지도 업스며당자도나히에비하야 키가극히적으니 도져히 보통사람으로 볼수업다고이를거절하 다 피차감정이 극도에달하야 사태가불미할것을 알고동리사람수십명이모혀서 겨우 진정식히고약혼은 결국불성립 되엿스며 혼일이오일박게 남지안헛슴으로쌍방에서 생긴비용을 각각자긔가부담하기로하엿다고한다\\n',\n",
       " '유—고國南部地方에\\n掠奪結婚同盟組織\\n엿날로다시도라간掠奪婚復興\\n人類結婚史上原始時代의 風習이엿든『掠奪結婚』이近年의 不景氣때문에復興하여서盛行한다는事實이잇스니 곳 유고슬라뷔아南部세르비아의코소보地方이그것이다.同地方의住民은거의 全部回敎徒이나 結婚을할때에는新婦의兩親은新郞에게 莫大한結納金을 要求하는데萬一그것을納入하지못하면 假令그男子가아모리熱望을하드래도 장가를 들수가업시되여서 이른바『賣買結婚』이다.그러나 요사이數年來의世界的不况으로因해서 村民들의주머니는 모다비엿슴으로 求婚者는그金額을支拂하지못하고 一方으로또딸을둔이는自己네의生活費로서多額의金額을要求하게됨으로 여긔에結婚軌道는 暗礁에다다르게되엿다는것이다.그래서장가를들고저하는 村民의젊은사람들이斷然히『新婦掠奪同盟』을組織하여서 서로손을빌어가면서各各相對方의處女를도적하기시작하엿다 는것이다 이『處女업어가는깽』의 橫行에 놀란것은딸둔이들로서 이네들도서로相議하結果,딸들을다른親戚友人에게맛기든지 하는수업슬때에는 『첫재띄기』사나희에게 딸을進呈하기로决定하엿다는것이다 그런데同地方은約八十年前까지는 掠奪結婚이公然하게잇섯스나近年에와서 賣買結婚으로되엿다는것은有名한婚姻史學者웨스터마—크의所說을證左하는것이라고하나 이것이不景氣때문에다시掠奪結婚으로 逆轉하엿다는것이다\\n',\n",
       " '奬忠壇新錄속에\\n商工大衆의歡躍陣\\n奇技한廣告意匠行列의市街一巡\\n盛况·商工聯合大運動會\\n경성상공협회(京城商工協會)주최의 제구회상공련합대운동회(商工聯合大運動會)는 신록의오월첫일요인 오일을복하야 드듸여막을열엇다 오전아홉시반에 례년과가티가장행렬(假裝行列)의 일단이 광화문통(光化門通)네거리 에서 출발하야 진풍경(珍風景)의 장사진을 끌고서서히 동대문(東大門)압흘지나 수만관중이 기다리고잇는 운동장인 장충단(奬忠壇)에 들어갓다 오전열한시오월의 하날을울리는 폭죽(爆竹)소리와함게 이백여선수가 대렬도정연하게장내로들어가 서자 경긔부(競技部)위원장김규면(金圭冕)씨의 개회선언이잇슨다음 회장박승직(朴承稷)씨의 개회사가 이를다음하고 전년수상자 우승긔반환식과 선수대표의 선서(宣誓)가잇섯고 본사사장 방응모(方應謨)씨의 축사가잇섯다\\n 이리하야 끗흐로 심판(審判)위원장 서상천(徐相天)씨의 주의가잇슨다음 장엄한 입장식이끗낫다선수와 임원제씨의 긔념사진을박인후 열한시반에 이백미(二百米)남자도보경주로부터 경긔가 개시되여 정오까지 경기제일부를끗내고 성황에 성황을게속하야점점백열적으로진행중이다\\n특히아츰의 가장행렬은 천일약방(天一藥房)의 녀왕의 행렬(女王行列)이 일등에 입상뇌엿고 만화당(萬花堂)의 신랑신부(新郞新婦),덕제양행(德世洋行)의색의장려(色式奬勵)행렬이이등삼등에입선되엿섯다\\n',\n",
       " '非處女自白書밧고\\n金錢要求한新郞\\n마츰내녀자측에서소송\\n新婦側請求一部容認\\n 결혼한지 사흘만에 신랑으로부터『너는치녀가 아니엿지』하는딱딱한 다짐을밧고 마츰내 사실업는 거즛자백서를 써준것이화근이되어 백년을 해로하자든결혼초야의 굿센맹세는 연기가티 살아저버리고 싀집사리한지겨우한달만에 친정으로 도라가서 그만영원의라별이되고 마른가엽슨 스물드살먹은 젊은녀자가리별한 그의남편을 상대하야위자료 이천오백원의 청구소송을 경성지방법원에 이르켯든비십일 경성지방법원에서는 남자는녀자에게오백원을지불하라는판결이나렷다사건은 부내체부동(體府洞)사는 부호한모(韓某)의 외동딸한정순(韓貞順=假名)(二二)이가대구(大邱)모은행원 김홍남(金興男=假名)(三二)을 상대로 이르켯든 위자료이천오백원 청구한소송이엇는데 녀자는 일즉이시내모중등녀학교를 졸업하고 작년십일월일일 스물한살때에 당사 삼십일세의총각인 김씨와결호하야 사흘동안은 친정에서가티지내고 나흘만에 싀잡으로갓는데 싀집간첫날밤부터 남편은안해의 행동이암만해도 수상하다하야『너는 결혼하기전부터 정말저녀가 아니엿지』하면서 우겨대므로견되지못하야『이모부모(某)와관게한일이잇다』라는까줏자백서를 써주엇더니 남편온그뒤그것을가지고 안해의 친정백부에게 차저가서 그사실을말하고 혼인비용 륙백원을 배상해주면 이사실을 감추어두고가티살겟스나 그러치안호면 가티살지안켓다고하엿스나 백부는 그돈을주지안헛스므로 그뒤로는남편에게 소박을당하고『정심생사불변(正心生死不變)』이라는 혈서(血書)까지 써보냇스나 마츰내남편은회심하지안호므로 그만녀자의전도를망처버렷스니 위자료를 달라는 소송을 이르켜든것이다\\n',\n",
       " '聽川雜纂(續)\\n(2)\\n당신은\\n이것을아십니까?\\n\"죤·휙스\"氏의職業\\n金晉燮\\n所謂『아메리캬니즘』 이라는것이무엇인가를 一言으로說明하기어려운일이지만\\n如何間 그들의그러한要求와需要에應酬하야 써,무엇인가를供給하랴기때문에 實로『죤·힉스』氏는 그의嶄新한第一萬六千一號의職業을『開業』한것이다.그는勿論 그의奇警한 活動을全然히獨力으로 營爲하는것은아니다.그는 만흔 部下를 거느리고 잇다.그리하야 그의所屬扈從이 東馳西驅에,무엇을일삼느냐하면 그들은 온갓種類의낡은 雜誌와 古年代記로부터現代의 모든科學書類에 이르기까지 人間生活記錄의\\n全野를 跋涉하므로 依하야 그곳에 散見하는妙花奇草를 摘取送附하면 조흔것이다.이것을바든『죤·힉스』氏가이리하야 前代未觀의 燦瀾한一束의 花環을 짜고보면 그의한가지한가지의 任務는完成되는것이다.珍奇하고怪奇한가지가지의事實—世界의끗에서끗까지歷史의初頭에서 終末까지 모든나라와모든時代를通하야 그것으로부터여기 實로 말할수업시 奇蹟的인『事實』의 아릿답고 妖怪한나라가 抽出展開될것은 두말할것도업지만 어떤나라사람들보담도亞米利加人에게 잇서서『죤·힉스』氏가 間斷업시 供給하고잇는『당신은 이것을(이러한 珍奇한事實을)아십니까?』하는\\n標題는 絕對不可缺의 知識的間食으로까지 되여잇는것이다.무어라하야도『죤·힉스』氏는 現代人의 根本的要求를잘看破할수잇섯다고할수잇다.\\n『당신은 이것을 아십니까?』하는 한個의 恒常同一한 그러나 또永遠히새로운 이標題밋헤『죤·휙스』氏가 世人에게 職業的으로 解剖하야주고 闡明하야주고 採掘하야주는 가지가지의\\n怪奇가여간해서는 感動을 바들수업게된 現代人의神經에 對하야서도 크게刺戟的임을 일치안는理由를 여긔우리가 說明한必要는 조곰도업는것이지만 그것이設使瞬間的이라할지라도 우리의마음에이르키는바 驚愕의情은 確實히新鮮하고 또愉快한 무엇을가지고잇다朝鮮의讀者諸氏도 이미新聞紙를通하야 그와밋그一派의 活動의結果인 一束의奇事珍聞에 間接으로接할수잇는機會를\\n决코노치시지는안엇스리,라나는確信하고잇는者이지만은 參考的으로三四의 例를再添하면 大綱다음과가튼 事實을들수잇슬가한다.——당신은이것을아심니까,世界最大의 테너—歌人으로말하면 이제도오히려十餘年前에 物故한『엔리코·카루소—』를 들고 잇는것이지만 그러나 그가일즉이 그의有名한 高音『O』를 가지고 유리곱뿌를깸에 成功한事實을 당신은 알고잇습니까?——또 당신이것을아십니까 저가티적은참새의몸뚱이에 저가티도큰코끼리의\\n肉體가가지고잇는 同數爻의뼈(骨)가 잇다는것을特히競馬愛好人은드르시요 당신들은 大體 이世上의모든純種馬가 十八世紀에 東部英吉利에서訓育된 세匹의有名한말에서由來하고잇는事實을아십니까?—또당신은아십니까? 이世界에서가장잘팔니는 舞臺藝術家가 누구인가를? 最近까지도 世界最大의歌劇俳優『페—도르·솰라핀』이그것으로서屈指되엿든것이지만 그러나『죤힉스』氏의\\n賢明한主張에依하면 그것은 决코『솰라핀』이아니오 比較的으로世界에 널니알니워잇지안흔 中國의『梅蘭芳』이그것이라斷定한다.即『梅蘭芳』은女俳優로서 그도弗價가下落치안엇슬時節에 年七十萬弗이란 高額의 定收入이 잇섯슴으로 이것이 俳優가바든報酬의 最高記이리라하는것이다.——당신은勿論 알지못하실것입니다 南다코라는나라에는『亞米利加合衆國』이라는姓에다『프랑클린』이란이름을가진一男子가살고잇다는것을그래서 그사람아들되는이의\\n姓名은무어냐하면 『華盛頓亞米利加合衆國』이라하는것이다——『당신은아마이것도 알지못하고게시겟지요』하고『죤·힉스』氏는 작구작구 奇跋한紹介를하기에 지치지안는것이다\\n『발티모어』에는 人類의 아버지『아담』의 全世界에서 오즉한個뿐인 紀念牌가 서잇는데 人類의어머니『이브』의 紀念牌로말하면 南카로니아洲의 어떤小都市에 외로히 서잇는運命을 甘受할박게 업다고하는것이다.——또『죤·휙스』氏의\\n確證한바에依하면 이世上에서 이제까지 가장만흔回數의 結婚을한婦人은 흔이新聞紙上에 報導됨과가티 米國婦人이 决코아니고 그것은『아드리엔느·히론두』라는 白耳義女子로서 이女子는 實로 十年間에 四十八名의 法律的으로 善良한 新郞을必要로한것이라한다\\n',\n",
       " '趙賢景孃의花燭典\\n 女流文筆家로일흠놉흔 梨花女專敎授 趙賢景孃의結婚式이 今十一日校長亞扁薛羅氏宅에서 擧行된다.新郞은孃과 마찬가지로今春九州帝大法科를마친 少壯學者黃鍾律氏이며 두분은式이끗난뒤 滿洲로新婚旅行의길을 떠날豫定.\\n',\n",
       " '伊太利軍脅威下의\\n『에디오피아』의全貌\\n(二)\\n李甲變\\n 그地勢가 이와가티 特異할뿐더러 또한氣候도 比較的조흔便이여서 이나라를『아푸리카』의公園이라고까지禮讃한사람이 잇거니와 그러면 그種族과 또그들의特性乃至風習은 엇더한가\\n 그住民을이얘기하랴면 먼저이나라人民은 多數한種族이 모여서國民을形成하고잇다는것,또그種族이 各各言語와容貌며風俗과宗敎가 달으다는것을 말해야한다\\n 이나라人種을 흔이『아비시니아』人이 라고불은다 그러나實相『아비시니아』人은 全人口의約三分一에不過하고 그남어지大部分은『가라』族이다 이박게『팔라샤』『단가리』『소말』『샨카리』等種族이잇스나 前二者에比하야 微微한狀態에잇다\\n『아비시니아』民族性에 對하야는이地方에 旅行한사람으로 酷評하는일이만흐나 事實은 最下層民以外에는 謙遜과禮讓을 가진種族이다 集會가튼때에는 더욱謙遜하야 揖禮와祝辭를 反覆하는風習이잇다 이種族에對하야 흔이 極言을 하는것은 웃줄하는白人들이 自己들의 殖民地土地들과 對하든머리로 그들을 맛다가는 逢變한데서 나온말이다\\n 그들은 비록黑人일망정 自己들의일을 自己들손으로 해나아가는 사람들임을 알어야 할것이며 또數百年來의 不斷의 戰闘로써 獨立을 維持해왓고 千五百年이라고 하는長久한동안 온갓攻擊을 바드면서도 오히려 그宗敎를 維持해왓다는 自尊心을傷해주어서는 안된다\\n 그들은 崇武하는種族으로 戰鬪에 卑怯치안흔사람들이다 그러나 그러타고 달은나라를 侵略하랴고도 또그代身 自己나라의侵略을 바드랴고도 하지안는다 그들이 政治上問題뿐만 안이라 文化方面에잇서서도 亦是『몬로』主義를 取하는것은 遺憾된일이다 그들의大部分은『近代化』에反對하야 新思潮注入은 크게警戒하는點이다 그러나 近來에는歐洲의 文物制度가 흘러들어와서 이나라 百姓에게도 二重□活을 强要하고잇다 새것과□□근것이 調和되지 못하고 그□로並存하야 잇는 그들의 宮中에서는 훌륭한 洋料理로 午餐을 먹고나면 그이튼날에는 一萬五千人의 帝室宴會에서 生肉을 貪食하고잇다 市街에는 罪国囚 極刑을바다 나무에 매달여잇는 그밋헤 裁縫師가 안저서 밥부게『미싱』을 돌이고잇고 宮中에서는『시카레트』,『커피』,『리퀴』를 내노코 白人과 談話를하는가 하면 그附近野外에서는 僧侶가 그들 傳來의 춤을 추고잇다 農夫들은 二千年來의 農具로 밧흘 갈고잇서도 計算者는 巴里나 孟買에서 支拂되는 現象이다\\n『가라』族은 이나라에 사는諸他人種의 總數보다도 그數가 더만흔 種族으로 十六世紀初에 이地方에 洪水와 가티 밀려왓스나 어느地方에서 온것 인지는學者사이에도 說이 區區한 貌樣으로 다만 그들이 엇던물인□□라도 물을 건너서온種族이□□것만의 明確한 事實로 남□□□뿐이다\\n 遊牧民으로서 好戰的 性格을多分히 가지고잇다 그래서『메네리크』帝가 그들을 征服할때에는 佛國에서 供給한 多數의 武器와 彈丸으로도 겨우 勝利하얏다고 傳한다 모든 激牧民이그럿트시 그들도 獸群의 所有數에 따라 貧富가 갈린다 日常生活에잇서서도 그러커니와 婚姻가튼때의 선물도 羊으로한다\\n 그리고 大體로 이나라國民들은 生肉을 잘먹는다 그래서 外國旅行人이 그나라짐군을데리고가다가도 소를한머리 사주는것이퍽生色나는 일이라고한다 그들을그자리에서 잡아서 亦是生肉으로먹어버린다고한다 그러나 基督敎는 同敎徒가 잡는 獸肉이 아니면안먹고 回敎徒는 基督敎人이잡은 獸肉은 絕對로먹지안는다그리고또 이나라에는 煙草가잘자라나 極少數를除하고는 喫煙하는사람이업다 그러나喫煙하지안는代身에 自家用甘酒와 酒精을맨드러두고 耽飮한다\\n그들의結婚에는 세가지形式이잇다 첫재아무儀式도업시 男子가新婦를 選擇하야가지고 同棲하는데男子가 生活必需品을 대주다가 어느쪽에서든지 한쪽에서離婚하자고하면 即時 헤저버리는結婚形態가잇다\\n둘재는法律上結婚이니 이것은市長압에서 新郞新婦의 財產을特定하야노코 離婚할때의 財產分配까지도 契約하는것이다\\n셋재는 眞正한結婚을 意味하는宗敎的儀式에依한 結婚으로서 이것은『아비시니아』人中에서도 上流社會에 限한일이다\\n大體로 이나라에서는 離婚이比較的 自由롭고 婦人의 地位가놉흔편이여서『아푸리카』에서는어데를 가든지 장작패고 물길는것을 볼수잇스나 婦女子가그런일을 하고잇는것을 發見할수업다고 그나라를 旅行한사람들은 말한다\\n',\n",
       " '近郊山岳史話\\n仁旺山 (3)\\n廢妃愼氏의치마바위\\n湖岩\\n 淸風溪에서 南쪽으로 등색이하나를 넘으면 濟生院盲啞部잇는 新橋洞이오 新橋洞을 지내서는 順化病院잇는 玉仁洞이니順化病院附近은 光海때仁王山기슭의 三宮의하나인慈壽宮터인바얼마前까나도 여기에\\n慈壽宮\\n다리가 잇섯든것이다 오늘날도 이玉仁洞에는 候爵과 子爵가튼 貴人들이살지마는 녯날에는 中宗國舅愼守勤의 邸宅도 여기잇든模樣이다 傳하는말에 依하면 中宗께서 反正하신後 靖國元勳朴元宗等의 要請을 조츠서 사랑하시든 王妃愼氏를 廢하야 그私第에 나가잇게 하섯스나 中宗께서 일즉潜邸에 게실때 十二歲의 新郞으로十三歲의 新婦愼氏를 마저 이때까지 十年을하루가티 琴瑟이和樂하게 지내시든 그알뜰하신 至情이야 이즈실수잇스랴 中宗께서 매양慶會樓에을으서 西쪽으로 仁王山기슭의 愼氏私邸를\\n悵然히\\n바라보신것이 한두번이 아니엿섯다.이소문을 듯게된 廢妃愼氏께서도 氣가 막여섯다 愼氏는 그아버지 愼守勤이 몰려죽기때문에 廢位는되엇스나 中宗大王에게對한 愛戀의純情은 조금도가심이 업섯다 이와가튼 理想的情愛에 타는 두夫婦님의 사이를떼연흔것은 王家보담도 自家의 利害를 압세우는 反正功臣들의 所爲이다 愼氏를 廢한表面의口實은 罪人의 딸을 大內에 둘수업다는데 잇스나 한겹플 더 드러가보면 아버지를모라죽이고 그딸을\\n王妃로\\n두고서는 어느때어떤禍端이 생길는지到底히 安心할수업섯슴이다 그네强臣들은 빠연이 君主의 마음이 압파하실줄 알면서도 宗社를 爲하야 私愛를 割하소서하고 廢妃함을 要請하매 中宗께서도 처음에는 糟糠之妻를一朝廢黜하지 못한다고 그要請을막앗지만 그네强臣들이 宗社의大計를 爲함이라고 稱托함에이르러는 님검께서도 어찌할수업섯다 그리하야 愼氏가 王妃된지 七日만에 廢妃가되니 그때愼氏의 芳年은 二十시요 中宗의 寳齡은 十九이시라 人生行路에 잇서서 바야흐로 피는꼿송이가티 아름답고 씩씩하든時節이다 中宗께서는\\n愼氏를\\n간절히 인리워하시고 愼氏께서는 中宗을 간절이 글이워 하섯는바慶會樓에 올으서 仁王山기슭을바라보신다는 消息을 듯게되자愼氏는스스로생각하시되 어떠케하여야大王의恩愛를 萬의一이라도報答하며또 어케하여야 大王의孤寂하신것을 위로하야 드릴가그러나九重깁흔곳에 이몸이 날아갈수는업섯다 愼氏는 自己의입든 불근치마를 慶會樓에서바라보시기에 便利하도록 仁王山놉픈바위우에 번드시걸어노앗다아츰에는 下人을시켜 내다 걸엇다가저넉에는 거두어 드리는것이 거의愼氏의 日課이엇섯는데 언제인가 이事實이\\n世間에\\n알리어저 이바위를 치마바위라이름하게되엇다 中宗께서 매양明國使臣이朝鮮에 올때는 몸소寳馬를 타시고 慕華舘재까지 出迎하실새 中宗께서 慕華舘擧動이게실때는 愼氏가 반드시 손소말粥을 쑤워 긔에 담아서御馬의 通過하는 길가에 노왓다한다 中宗께서 愼氏를 廢하신그해에 곳 群臣의 議를 조츠사 章敬后尹氏께 再娶하섯고또그후 文定后尹氏께 三娶하섯스나 첫情이 얘숙해서 愼氏를니저버리지못하섯다 이當時愼氏의\\n치마를\\n걸든 바위는 四百餘年을 지낸 오늘날도 치마걸든 그主人은 업서젓건만 依然히 치마바위 이름으로 行世하게된다 玉仁洞에서 처다보면 仁王山 山屛風바위 하나이 잇스니 이것이 곳치마바위란다.\\n',\n",
       " '民謠硏究\\n慶北民謠의\\n特異性\\n④\\n金思燁\\n例三\\n 調律을떠나 歌詞만으로 그民謠의眞價를 云謂함은 어리석은일이다.그兩者의關係를 수래의두박휘에다 比할수잇서 그어는것하나를 除外하고 一方만을 獨立식힐수업다 더욱이 다음의노래에서 우리는 그것을 痛感한다 歌詞로는 壬辰丙子年間戰禍로因하야 麥凶을當해 그통에 飢饉으로 죽은남편을 못내하여부르는노래이다 이노래의 効果는길고도 에끗는曲調에잇것만 그것을 讀者와함께 질길수업슴을遺憾으로 생각한다.\\n 후후야 갈가마구야\\n 영감아영감아 우리영감아\\n 나를두고 어데갓노\\n 丙子年 버리凶年에\\n 장내장아래웃장댕기며\\n 잔엿가래 굵은엿가래\\n 사다주든 우리님아\\n 단등게 할타먹으로\\n 드러갓다가\\n 방아꼬칭기죽은 우리님아\\n 날대리가소\\n龍가는데 구룸가고\\n범가는데 바람가네\\n님가는데 나도가세\\n靑天에 떤기릭이\\n임의消息 傳해주소\\n말을하고 도라보니\\n빌과달이 明朗하다\\n(星)\\n  (採地 軍威郡□令面)\\n  例四\\n것닙가튼 을어머니\\n속입가튼 나를두고\\n갈때는 오마드니\\n오마소리 이젓는가\\n비가와서 皆骨山에\\n눈이와서 白頭山에\\n그山넘어 가섯더면\\n죽은어마 보지마는\\n松椿을나 울을삼고\\n띄잔대를 이불삼고\\n杜鵑일나 벗을삼고\\n외로히도 지낼시라\\n저성길이 길갓흐면\\n오며보고 가며보지\\n띠잔대가 門갓흐면\\n열고보고 닷고보지.\\n   (採地 靑松郡眞實面) 죽은 아머니를 못내하는 純情이 잘表現되여 幽明의 곳을달리하지마는 一片의 誠心은서로 道함을 보겟다.\\n B,結婚에關한노래\\n結婚初夜에 소박을 맛나서 所謂 結婚解消를 當하엿다거나 結婚禮式日을 압두고 新郞이 죽고마러 處子寡婦가 된다는 一種 珍奇한 事件을 노래한것이全部다.이것은 事實로 이런일이잇서 그들의 놀나움을 사고好奇心을 북도두어서 그것이 어느사이에 노래로 불리여젓다고보기보담 不幸하고 崎嶇한 이약이를 실은 이약이册을 無上의것으로 질기는 그들은 勞作을할때 勞役에 부댁기여 그것을 이즈려고 노래를하면 이얘기册에 나오는것과가치 不幸한것 珍奇한것等을 지여내여 부르면 그노래를 반기는 한사람두사람이 應하는가운데 어느듯流行되고말며 大衆의것이 되고만다.\\n   例\\n 장개가네 장개가네\\n 이항식이 장개가네\\n 나우가튼 옷을입고\\n 범나븨라 띠를메고\\n 다락가튼 말을타고\\n 한모링이 도라가니\\n 下人오네 下人오네\\n어데서 下人오노\\n새곳에서 下人오네\\n어이그리 下人오노\\n상구젓다 下人오네\\n(解產햇다)\\n아배탄말 내가타고\\n내가가서 보고옴세\\n골목에라 드러서니\\n겅구색기 드러나네\\n마당안에 드러서니\\n미역내가 솔솔나네\\n방안에는 피못일세\\n마당에는 연못일세\\n잉에솟은 저국시는\\n어나잔치 할나꼬\\n저리공중 헤낫든고\\n바드작뀐듯 저산적은\\n어나下人 줄나고\\n저리공중 헤낫든고\\n 모시도포 시도포는\\n 어나사위 줄나꼬\\n 저리공중 헤낫는고』\\n『여보도령 기왓이명\\n 노흔애기 일흠이나\\n지여주고 가소거라』\\n『내엇더타 일음지리\\n아그래기 일음지여\\n아글아글 잘잘어라』\\n『사외사외 내사외야\\n인물생이 낫부더냐\\n 거래생이 낫부더냐』\\n『인물생도 거래생도\\n낫부지야 안투마는\\n 당신딸의 행실보소\\n『솜싸나 보고가소』\\n 말탈새에 보선기워\\n솜씨보라 떤지주니\\n『내엇더타 신으리요\\n아그래기 일음지여\\n아글아글 잘살어라\\n모시고개 시고개\\n이실잇써 어이가리\\n쉬양버들 꺽거쥐고\\n이리치고 저리치며\\n워렁처렁 갓부릿네.\\n(採地 軍威郡義興面 唱者 一老婆)\\n',\n",
       " '歡樂의鄕高昌洞에서\\n第二次共同結婚\\n十一月一日을卜하야擧行\\n十二雙鴛鴦의參加로\\n평남강서군누차면삼리고창동(江西郡芿次面里高昌洞)에서제이회공동결혼식을 변봉조(邊鳳朝)목사의 주례로 거행한다함은긔보한바어니와 금번 공동결혼식의 비용은 매조에 삼십원식이며 그중 제일빈곤한 두조에대하야는 결혼식비용을 안이내게한다하야 근방에서는 더욱주최자측에대한 찬송이 만타는바그날에 참가할 십이쌍 원앙의주소씨명은 다음과 갓다고한다\\n          (無順)\\n新郞 大同郡大同江面斗團里 崔 日信      長男 金用淳\\n新婦 江西郡草里面降仙里 邊鳳 朝       三女 邊仁珠\\n新郞 大同郡古平面匙山里 林善 賛       三男 林昌根\\n新婦 江西郡芿次面三里 金道瀅\\n        三女 金化信\\n新郞 大同郡龍山面趙全里 全桂 蟾       三男 金峰燦\\n新婦 江西郡芿次面三里 金東旭\\n        妹弟 金眞實\\n新郞 平壤府將別里 金貞玉\\n         二男 朴根明\\n新婦 江西郡芿次面花石里金魯坰\\n         二女 金鍾淑\\n新郞 大同郡古平面楸子里金道奎\\n         長男 金斗鎬\\n新婦 江西郡芿次面三里金能三 \\n         長女 金元淑\\n新郞 江西郡芿次面三里金能敎 \\n          姪 金恩燉\\n新婦 滯洲國奉天省營口曹秉琅\\n         妹弟 曹允實\\n新郞 大同郡大寳面安靜里康德煥\\n         二男 康京麟\\n新婦 江西郡芿次面三里金能敎\\n         孫女 金東實新郞 江西郡草里面伊老里田逎闢\\n         二男 田大祿\\n新婦 江西郡芿次面三里金就烈\\n         二女 金德鎭\\n新郞 江西郡芿次面三里 金應五\\n         二男 金來瀅\\n新婦 大同郡大同江面斗團里 咸 秉玉       妹弟 咸明步\\n新郞 江西郡芿次面三里 劉光益\\n          弟 劉光石\\n新婦 江西郡東津面鶴松里 李永 根       二女 李允福\\n新郞 江西郡芿次面三里 金德寳\\n         五男 金韓道\\n新婦 大東郡大寳面龍仁里 金健 夏       二女 金愛賢\\n新郞 江西郡芿次面三里 金濟萬\\n         孫男 金民鎬\\n新婦 大同郡古平面日和里 金仲 直       妹弟 金成實\\n',\n",
       " '十一雙鴛鴦의參加로\\n第二回聯合共同結婚式\\n평남강서군누차면 삼리고 창동교회(芿次面三里高昌洞敎會)에서 제이회 련합결혼식(聯合結婚式)을 거행한다함은 긔보한바어니와 본래는 십이조가일시에 결혼식을 거행하랴하엿든것이일조가 가정의형편에의하야 부득이 참가치 못하고 십일조 이십이명의 신랑신부참가로 동교회 변봉도목사주례하에 오후한시부터 식을거행하엿는데 식의순서는 처음에 긔도와 찬송가가 잇섯고 본군군수 조상만(趙尙滿)씨를 위시하야 래빈의 축사가 끗난다음 신랑신부(新郞新婦)의 합창으로 답사를 대신한후 동네시경에 페식하엿는데 참관자는 남녀를합하야 무려수천명으로 공전의 대성황을 일우엇스며 관람자전부에게는 빼임업시 변도한개식을 진정하엿다한다\\n        ◇寫眞=(上)同結婚式塲光景(下)十一組의 新郞과 新婦\\n',\n",
       " '地方人事\\n▲李炳烈君(本社兼二浦支局黑橋 駐在記者)과 李恒月孃의 結 婚式을 來十二月十六日 黑橋 新郞自宅에서 擧行豫定\\n▲李 山氏(金泉消費組合理事)身病으로 帝大痛院에서 治療中退京\\n',\n",
       " '地方人事\\n▲李炳烈君(本社兼二浦支局黑橋 駐在記者)과 李恒月孃의婚禮 式을 來十六日黑橋市新郞自宅 에서 擧行豫定\\n▲朴準秉氏(奉天居留民會副理事) 新京 全滿朝鮮人民會聯合會理 事榮轉人事次本報奉天支局來訪\\n',\n",
       " '聽川雜纂\\n(二)\\n新郞新婦分離論\\n—『하벨록,엘리스』의要諦—\\n金晋燮\\n結婚期에는 두사람이 必要하다이世上의 저奇異하고 아름다운法則에 依하면 結婚의 意義를完成키 爲하야서는 一의 新郞은 一의新婦를 要求하고 一의新婦는 一의 新郞을 要求한다그리하야 事實上 最初에는 即이르는바 密月期에는\\n夫婦\\n關係의 純眞無雜한 快樂은 흔히 그들에게 참된 幸福을 가저다준다.그러나슯흐다할까! 이幸福은 얼마동안 繼續된다는것이냐?\\n 여기 假令 우리는 一例를 들기로 하자.B라하는 엇던靑年이 A라하는『뽀스톤』어느 大家出生의令孃과 結婚을하야 달고도 단密月旅行도마치고 인저버터는 조그만 그러나 韻致잇게다듬은 家庭에드러가서 둘이서 平和롭게 살님을차려보자는판이엿다.二三日동안을 그들은純全히 한쌍의 鸚鵡인거나가티뛰고 재재거리면서或은 그림幅도壁에결고 或은세간도 맛당한자리에 노코하야 그들의 幸福되여야할 未來의 家庭을 꾸미고다듬끼에奔忙하엿다.이것이 모도그들相互間의 滿足을爲하야 裝置되는것임은 여기 呶呶할必要가 조곰도업다.드듸여 야단스럽든 세간사리排置도 다된어느날 젊은男便이 인저는 어지간히疲勞한 愛妻에게 休息을\\n提供\\n함이 必要하다는것과 아울너異論 紛紛하든세간노이의 時期도 圓滿히 完了되엿다는것을 주착업시 미드면서 아주滿足한마음으로 帽子를쓰고 사랑하는 그의 어린主婦에게 作別의 接吻을 마친뒤에 前날의事務에 다시나아가게된것은 事理의 너무나 自然스러운길이라 할수잇다.\\n 數日間 그들의 家庭生活에는아모異狀이 업섯다.오즉 그는二三次 누군지 그의 재떠리를壁까로멀니 미러부척논것을 發見하얏고 또 그의安樂椅子가 그가 房을드러섯슬때 발에채이도록 位置를박괴인것을 注目햇슬뿐이다.그러나 그때 그는 이런物件을 곳다시 녯塲所에 곳척노앗슬띠름이오 그가 이와가튼 片片한事件을 記憶하야두기에는 그의愛妻에對한感情은 너무나 純眞하얏든것이다.그러나그가 그後 約二週를經過한 어느날밤늣게 집門을 드러서게되엿슬때에 참으로 놀나운情景이이곳에展開된것을 그는\\n目睹\\n치안흘수업섯는것이니 그는 조고만비들기집속에 宛然히 地獄이 나타난것을보앗든것이다.그의 寢臺는 窓까에 밀여척잇고 모든椅子란椅子는 그자리를 달니하야 그한個의담배때를 絕對로 차질수업섯슬뿐 아니라 그의 가장사랑하는 卓上電燈은 어느듯册上에서 선반우에로 뛰여올나가 잇섯다.이와 가튼混沌狀態속에 그의 젊은夫人은 興奮이그極에 達하엿다할까,거의 氣息을 自由로히하지못하고『자,엇더세요 大端히 조치안허요?』라,뭇는것이다.\\n 이러한事件이 한두번에그치는것이 勿論아니다.男便이 出他하기만하면 그의업는사이에 妖怪한夫人은 自己自身만의住宅을設計하며 自己自身만의室內裝置를 考案함으로依하야 種種 그의남편의家庭美學을 飜覆식혀버릴뿐이아니라 이怪癖한 暗礁는幸福스러운 그들의結婚生活까지를 다시금 破碎하고마는것이엿다.\\n 그러나 여기서 萬一에 젊은남편이 일즉이『하벨록·엘리스』를 읽은일이잇섯다면 그는 이러한事件이 그에게\\n興奮\\n의動機를 决쿄提供할수업다는事實을 理解할수잇섯술것이다.即 그가『하벨록·엘리스』의九二七頁,附錄,第十四項을 읽은일이잇섯다면 그가 方今 當面한事件은 엇던一定한 週期的間隔을두고 모든女子의 生活속에 나라나는 세간노 이時期의 一表現에 不過한것이라는것을 잘理解할수잇섯슬것이다.그리하야 이러한 조흔理解밋헤 비로소 그는 女子의發作에對하야 헛된挑戰을 하는代身『모든女子는 달이갈닐때마다 深刻한春慾의 膨脹을 그들의乳房에늣겨,이情慾이야말로 그들로하야곰 세간의 位置를곳치랴하는要求의 絕望的犧牲者이도록 만드는것이라』하는 自然生理的事實을 다시한번反省하기에努力할수잇섯슬것이다.(繼續)\\n',\n",
       " '聽川雜纂\\n(三)\\n新郞新婦分離論\\n—『슈트루델하이머—』의卓見—\\n金晋燮\\n 세간의 空間的移動이 흔이 女子의 손에서 獨斷的으로 實行됨으로 依하야 結婚生活의 幸福이 破碎되는 例證는 上述한바에서 充分하다 할수잇지만 特히 新婚夫婦間의 不和를 招來하고 比較的으로 더욱만히 그들의 悲劇을 料理하여주는 또하나의 다른淵源으로서 우리는여기 한張의\\n新聞\\n을 점잔히 읽지못하는 婦人의先天的 無能속에 指摘쿄저한다.그러타 實로 婦女子는 男子들가티 점잔케안저 한張의新聞을 읽는才操아닌才操를 갓지못하는것이다.即그들로말하면 그것을 이모에서저모에 이르기까지 속속두리부비고 주물누고 구기적이라고 그리하야 그것을 조그만뭉치가되도록 접어노음이 업시는 新聞을읽을수업는것이다.이리하야그들이 新聞을 읽을수업는것이다.이리하야 그들이 新聞을읽고잇는形狀은 맛치 그新聞을가지고 『산드윗치』를 싸랴는듯한或은 조히帽子를 맨드랴는듯한늣김을 사람에게 이르킨다.이러한事實의 精密한闡明에對하야서는諸君은『슈트루—델하이머—』의有名한 論文『新聞접이의 性的意義에 關하야』를 一讀함이조흘것이다.또한 여기잇서서도젊은 男便諸君은 新婦의 不美한擧動에 向하야 盲目的拮抗을敢爲할것이아니오 諸君의 아름다운 伴侶의 先天的弱點에 對하하야 寬厚한 理解를 또한법가지도록 準備치안흐면아니될것은勿論이다.\\n 그러나 무어라하야도 우리들現代人의結婚生活에잇서서 恒常破綻을 가저오고\\n威脅\\n을 김초고잇는數만흔 危險中의 最大危險은아마도 一見하기에 世上의 만흔男便이 거의죄다 理解치못하고잇고 理解치못함으로따라서容赦하랴하지안코잇는 저모든婦女子에게固有한根本的弱點속에 누어잇지는안는가한다.내가여기말하는根本的弱點이란 두말할것이업시 奇智의要點(Point)을 理解할수업는 女性一般의 저有名한生理的無能力을 意味한다.\\n 아,나는 얼마나頻數히 나의面談時間에 憔悴한顔色을한 나어린 男便의 闖入을 바덧든가.\\n그들은 마음을 찌르는듯한 語調로서 나에게 그들의 幸福한關係가 그의 主婦때문에 破綻된것을 說明하는것이엇다.그리하야 나는 내가 그들에게 一히 그理由를 무럿슬때 얼마나 여러번 다음과 가튼 同一한 內容의 話題에 接하엿는지알수업다.——모든 다른 方面에는 模範이 될만한 完全한 婦德의 所有老인 그의 愛妻가 數年來로 俱樂部에서 大成功을 博하여오는 그의 男便의\\n得意\\n의 才話를 듯고 잇슬때면 그이 약이가 全部 끗날때까지 心理學者의 이르는바 『얼빠진 表情』을 가지고 그곳에 안저서 奇智의 結着에 이약이가 到達한때에는眞心으로 哄笑하여야만될곳을 도로혀 淡淡無味한 얼골로서 그래서 그것이 大體엇더케되엿느냐는등,或은 若干짜중까지보태가지고 『나는 조곰도 그것을 우숩다고는 생각할수 업서요.나는英國老人이 어듸까지든지 올타고 생각해요……』 하고 主張한다는 것이다.그리하야 要컨대 이것이 무슨 다른 原因보다도第一로큰 家庭不和에 依한離婚의 原因이되엿다는것을 그 들들은 力說하는것이엇다.\\n 의런事實을根據로삼고 나는恒常다음가튼忠告를 나의젊은結婚患者들 에게 주엇다,——即당시들이 당신의夫人들께 무슨이약이를말해듯길때에는 당신들은 그奇智가꿋나기가무섭게 함부로高喊처서 놉히우서재치시요이벼락가튼哄笑를 젊은夫人들이드르면 그분들은 처음엔 어리둥절한\\n表情\\n을지으리다—그러치만 다음엔조곰쯤怪異하게녁이면서도 그러나 義務感에 强制되여 나종엔 그들은 드듸여共通된 愉悅속에서 同意를表하게되겟지요.이러한 方法으로理解와愛情이 손에손목을잡고 나가량이면 神聖한 一致和合의境地는决코 멀지안켓지요.그래서調和의幸福은 肉體의 物理的基礎에依해서 實로 별과별이 그머리를 裝飾하고잇는 天上에까지到達하기란 그다지 어려운일이아니겟지요,라고.\\n 勿論젊은男便들의또하나의조흔避難所는잇다—그것은 新婦로부터自己自身을 永遠히 分離식힌다는것이다,即 다시말하면 結婚하지안는다는것이다.\\n完\\n',\n",
       " '結婚\\n紗帽角帶에 白馬를탄 新郞은 方今 新婦人집으로 向하고잇다.\\n',\n",
       " '寫眞은 盛裝한 印度敎의 新郞新嫦\\n',\n",
       " '蕃島\\n도망질치는新郞\\n『다이야』族의貞操帶\\n 신랑이 결혼첫날ㅅ밤 도망가는기습도잇습니다『안다만』섬은인도양가운데잇는 섬인데 이섬사람든은 먹을음식 대강과 벼몃자를봉치로교환한뒤 날ㅅ자를택해가지고 너른거리에서 결혼식을거행합니다 기리가 발가웃쯤되는멍석을깔고 그양쪽끄테신부는친척들에게,신랑은 친구들에게 에워싸서 서로 대합니다그다음에는 촌장이나장로격되는사람이주례를하고나서 신랑을신부잇는데데리고가서 한자리에나란히 안치랴고듭니다 그러면 신랑자는 수총각의 북그럼을 참을수업서 그만 뺑손이를칩니다그러면 그런다고 내여버려두겟습니까 여러사람들이 쪼차가서붓드러다가 신부와마조안처 서로 목을끄러안ㅅ게하고서 식이끗납니다 초대연은 밤새어가며술타령이지만 신랑신부는 결코참석안습니다 자그마한 새집에서 단두리만 친구들이보낸 선물을구경하면서 따듯한 초야의꿈을맷지요 그이튼날아침이되면친구들이 모여 신랑신부의 온몸둥이에 흰칠을하야 신혼햇다는 표적을 내어줍니다\\n 『로테—』라는 조고마한 섬에서는 돈으로 안해를삽니다 팔려간신부는 목에밧줄을 가멋는데 이밧줄에 아홉군데에 매디지은곳이 잇서서 좀처럼 풀기어렵습니다 신랑되는양반이 밤새껏낑낑대면서 이것을 푸러야지요 안풀리면 며칠을두고라도푸러서 그것을 어머니께다 바칩니다 어머니는 그대신으로맨든목고리를줍니다 이고리를 신부의목에 건다음 그제서야 결혼이성립된것입니다.노끈을 아홉 매듭짓는까닥은 사람이밴지아홉달만에난다해서—라나요\\n보르네오의『다이야』족속들의녀자들은 시집가면 그날부터정조(貞操帶)와가튼것을잡니다 즉,대주석이나 등나무가지로 맨든것으로허리며 가슴까지 열ㅅ번스무번챙챙가머서 남편이업는동안 다른사람들의 박해를 면하겟다는갸륵한 정성에서나온 풍습이겟습니다\\n',\n",
       " '白首에도有靑春\\n七十男女結婚式\\n蔚山郡下의珍奇話題\\n경남울산옵내에서는신춘벽두 천춘이란 젊은사람에게만잇는것이 아니라는듯이 칠십팔세의 신랑과 륙십일세신부의결혼식이 잇섯다 신랑은 무의무탁(無依無託)한 처지에잇스나결백하고 강직하다는 칭송이잇는박민용(朴珉鎔)(七八)이란 로인이오 신부는 울산옵에서 기생즐신으로 사오천원가량의 재산을가진 강두필(姜斗必)이란로파로서 특히강로파는 평생에남의본처가한번되여보자못하고 호적상에처녀로 늙어죽는것이 철천지한어엿스나 함부로 이성을 구하지안코 박로인도 역시 사십년이넘도록 독신생활을 계속하는중 천생배필로 우연한 흔담이 성립되여 지난 일일 학산동(鶴山洞) 십부자택에서 정식으로 흔례식을 가행하엿는데구경군이 천여명에달하고 다수한축전문과 축사로 매우 성대하엿다하며 부근에서는 고금희귀한 일의라고 이야기거리가되여잇다고한다\\n◇寫眞=新郞 朴珉鎔氏(七八)와\\n新婦姜斗必(六一)女史\\n',\n",
       " '가마꾼의실수로\\n新郞新婦交換劇\\n幸運을집은老總角\\n경남통영군거제면 가배리에서는 정초부터 부지중량처에 신랑신부가 삼일후에야 비로소 서로박귄줄알고 일대『넌센스』극이 연출되엿다는데 그내용을 탐문한바에의하면 동읍내김상천(金尙天)(五〇)장녀와 동면오송리(五松里)천유한(千有漢)(四九)씨장남과의 혼례가잇섯논데 당일에 모르는사이에 동면가배리에로총각과 로처녀끼리어려운혼례식이또잇게되여 이쪽로총각된가마꾼들이 전긔김상천의 집으로드러가 먼저 혼례식을 거행하게되엿슴으로 김씨집에는 신랑이 박귄줄은 꿈에도 생각지못하고 그대로 혼례식을 거행되엿는데 그후 삼일만에야 서로가저온 혼게를탐지하야보니 그때야 비로소 서로 배필을 정한 신랑이 아닌줄알고 신부도대경실색하여 일대『넌센스』가이러낫스나 때는이미 느젓고 사위된 로신랑 박영수(朴英守)(三二)는 오레동안 가난한살림사리에서장가드는것만해도 일평생에 긔념의행복의 하나인대 금상첨화으로 꿈에도안두엇든 미령의부자집익처자의게 가마꾼의덕택으로 의외의배필을 마젓다하야로총각은히색이만만이라하야 거제도일대에는 한『넌센스』가되여잇다고한다\\n',\n",
       " '最新案의收金術!\\n新郞의飮食代五圓에\\n新婦를人質로잡어\\n남편의음식대 오원오십전진것을 밧기위하야 시집가는신부를 도중에서 인질(人質)로잡아서 경사초에 망신을 당하엿다고 시집가기를 거절한 웃지못할 희극한막―― 지난십구일오전팔시 평남개천군 북원시에 거주하는 신랑 김찬규(金賛奎 (二三)가 덕천군덕천면 읍통리신부최보부(崔寶富)(一九)와 결혼하야 신부를다리고 신부의 옵빠 최준상(崔俊相)이가 후행으로가게된바 신부와후행은 정긔자동차편을 리용하기로하고 가빈한신랑은 자동차를 타지못하고 자전차로 가게되엿는데 신랑이 덕천읍에 재주할시에 김제선(金濟善)의 음식대와 배채대 오원오십전을 젓스나 골몰한 살림사리로 아직까지 잡지못하엿든바 금번우례도중에 전긔김제선의집에서는 이긔회 놋치면 돈을못바들가 념려하야 신랑을 팔방으로 수사하나 먼저떠나고 신부만남앗슴으로 신부를보고 남편의채금을내라고 자긔집으로 몰인정하게 끌어갓슴으로 신랑의친족인 덕천군덕천면읍남리김윤득(金允得)(四六)이가이사실을알고 현금은업스나 자긔가 채용증서를 써줄터이니신부를 노아달라고하나 김윤득도가난타하야거절함으로 다시동리에사는 박문긔(朴文基)를련대인으로세우고 신부를 차저낸바 신부는 일생에두번업는 이경사에이런꼴을 당하고야 장래에무슨안락한가정을 이룰것이냐고―완강히 시집가기를 거절하고 자긔집으로 도라가버렷는데 일반은김제선의 무도덕한 행동에비난이자자하다고한다\\n',\n",
       " '新郞은卅六卦\\n新婦는警察에\\n시외 리태원리(梨泰院里)이백십오번지 배룡선(裴龍善)(二七)의 긔아사건에 대하야서대문경찰서에서는 삼십일밤 아홉의경에 전긔 배룡선이를 사위로 삼으려하든 김흥식(金興植)(六二)의 모녀삼인만 체포하여다가 유치식히고 이래 취조를게속하고잇는데 한편 배룡선은어데로인가 아주 종적을 감추고말엇다 그런데 그네들은 오는사월일일을 결혼식일토 정하고 각각 친척에게다 결혼식청첩들을 보내노아서 이들은 또한 삼십일일 결혼식의 선물로장(欌)기타 병면(餠麵)들을 사들고왓다가 전긔사실을 알고는도리혀 얼골들을 붉키며 가버리엿다는데 이로써 왼동리사람들은 차라리 유치장 결혼식을거행하라고 핀잔을 주고잇다한다\\n',\n",
       " '鮮滿拓殖會社人事는\\n議會와倂行决定\\n이에伴한人事異動은五月下旬\\n今井田總監歸任 談\\n政務打合과 令孃結婚으로 渡東中인 今井田政務總監은 歸途에尾道 岡山間의 車中에서 渡東途上에잇는 宇垣總督에게 要務報告를 終了하고 十四日 午後三時十分 京城驛着臨時急行으로 新郞國鹽研二郎氏 新婦和子를 同伴으로 歸任하엿는데 車中에서 左와如히 말하엿다\\n明年度 實行豫算及 追加預算은大體로 順序대로 决定되엿다目下第二追加預算으로 鐵道港灣에關한 事業이中央과 折衝中인데林財務 吉□□□兩局長及 榛葉土木課長아 □力中임으로 이것이 解决되면總督府의 今年度事業은 全部决定될 議會를기다릴뿐 이다 鮮滿拓殖에 對하여는 基本問題가 全部解决되엿슴으로 此等 人事問題에 着手할터인데 爲先 順序로 株의配定이 决定되지안흐면 官界로부터서의 入社도 어느程度로될는지 알수업다 아마 議會開會中에豫算審議와 併行하야 新會社의人事□衡이 進行될것이다 따라官界의 異動은 其後에 實現될것으로 다른會社에로의 轉任도 잇슬터이므로 勅任級五名까지는 達하지안할것이나 五月下旬 又는 六月上旬頃에는 異動이 實現될것이다 勇退者는 特別히 생각할일이업다 經濟產業調査會設置의 準備는 大體로各局에서 基礎案을 作成할줄로 思하므로 近近 第二回의 妥協會를 開하고 總督府全體의 原案을 决定하려한다 最近 朝鮮內에 敎育熱이 勃興하는것은 欣喜할만한일이다 此를 如何히 指導하여갈것인가가 重大한 問題이므로 調査會가튼것을 設하야日本內地의 前例도 살펴 慎重指導方針을 决定하게될것이다.總督은 渡東하야 一週間乃至十日滯在하고 二十四,五日에 歸任할터이므로 自己는 될수잇는대로 速히 二十八日頃에라도渡東하야 議會에出席하기前에 總督府關係事項을 處理하려한다\\n',\n",
       " '늙은총각은 데릴사위로 들어가지말일       \\n老新郞逢變記\\n젊은妻와丈母가\\n共謀,毒殺을企圖\\n부부간애정업는것에실망코\\n모녀가서로 공모하야 늙은 총각데릴사위를 독살코저밥에양재ㅅ물을 석거먹인 일로 유치장에서 신음하는 두녀성이잇다이제 그자세한것을 탐문한바에의하면 태천군강서면덕림동 (泰川郡 江西面 德林洞) 에 거주하는길관석(吉寬碩((三一)은 수년전에 동라 김시봉(金時鳳)의 딸창옥(昌玉)(一七)에게 데릴사위로드러갓스나 창옥은 항상 자긔남편이 나이 만코 자긔 라상에 불합함을 항상 불만히 생각하고 자긔모친 김명봉 (金明鳳(五二) 에게 호소함으로 명봉이는 항상 사위길관석을 업새버리려고 긔회를 엿보고잇든중지난십일아츰에는 모녀가 서로공모하고 사위관석을 독살할려고 아츰밥에다 얄잿물 (苛性曹達) 을석거 근처에일하려간사위길관석에게 먹엿던바 관석은입안이새하야 압쯤으로 이상이생각하고 토하야버렷슴으로 생명에는관게가업스리라하며 그것을먹은닭과개는 즉사하엿다는데 태천서에서는 방금 김명봉과그의딸 창옥을인치하여다가엄중한취조를 하는중이다\\n',\n",
       " '獨身俱樂部\\n犯則者嚴罰\\n헐리우드 獨身俱樂部의 名譽會員이엇든 짝· 오키도 고만不幸이랄찌 어여뿐색시를 마저 장가를 들게되얏습니다.그의 안해는 벤·바덴이라는부입니다.그래서 그는 即刻獨身俱樂部로부터 除名處分을바들뿐이 아니라 嚴重한 會則에依하야 三百五十弗이라는巨額의 罰金을 무는 同時 新郞新婦가 짝을 지어가지고全會員의 하나하나를 그집으로차저 다니면서 未安하다는인사를 하게 되얏습나다.그러한 嚴罰을 바드면서도 그분은 大端히愉快한 氣分으로그쯤이야 창가드는 오력으로도낼법하다고 이약이하고 잇습니다.\\n',\n",
       " '한여름밤꿈의꿈\\n❸\\n들너리서려다가\\n武陵桃源行\\n李軒求\\n 三年前여름 나는 約三週日間休養할次로 東海의 松田으로갓다 鄭,柳二兄과 적은방히나를어더서 그날그날을 愉快히지내엿다 여기서 나는 어느날밤實로 神奇로운 꿈하나를 꾸엇다元來 꿈아니꾸는밤이 업스리만치 잠을자는지 꿈을꾸는지모를그境界線이 分明치못한 極히混亂된 내잠자리라 꿈이 그리神通할것도업것만 이꿈만은 내日記속에 比較的仔細히 씨여저잇다——\\n프로文學에對한 一塲演說을하다가 너무도지나치는 自身의興奮때문에 高喊을친 그소리에놀나서나는 잠이깨엿다 아마 새벽네時쯤된모양이다 左右에누은二兄은 고단히 잠들고잇다\\n 나는 다시잠이드럿다 그리고곳 그神奇로운꿈이 始作되엿다나는 내親友C의結婚에 들러리로써 結婚式塲을 向하야거러가는것이다 바로式塲으로 드러갈랴고 서울公會堂문턱에발을 막듸려노흐랴는데 어디선지 天動과가티 무서운霹靂소리가나자눈아페 今時로 검푸른물결이 늠실거리면서 그속에龍과가티생긴怪獸두마리가 나타나 數十尺이나되게 물을 내뿜고잇다 하—얀飛沫이 퍼지고퍼저 우리가선편으로向하야 쏘다저온다.무시무시한 恐怖에소름이 쫙끼치는데 다시 仔細히周圍를 바라보니우리는 數十尺絕壁우에 서잇다.狂獸의뿜는 물줄기는 차차우리아프로 肉迫해온다 그리드니그하얀 물줄기가 무슨 힌배암과가티 우리몸을 휘휘 친친감아 놋는것이다.나는 꿈속에서도『白蛇夢!』하고 高喊을치면서이것이 꿈이다.꿈이니까 어서깨여나야하겟다고 소리를치랴고애를쓰다가 고만氣絕하랴는데『二龍아! 二龍아!』하고 性急히 뒤에서 불으는소리가 들려온다.그는 分明히 三年前 도라가신 祖父님의 仁慈로운목소리다.(二龍은 내가어릴때 祖父께서 지어불너주시든 孩名이다)나는『할아버지!』하고소리첫다祖父께서는 내가까히오시면서『넌 무엇이 그러케무서워서 高喊을친단말이냐? 그래 장가를간다는여석이 婚禮式塲에는 안가고 왜 글세 이런險한곳으로逃亡친단말이냐? 응,자,어서나하고함께가자!』하시면서 내팔을 붓잡아이끄신다.\\n 나는 어찌된인줄도 모르고그저 어리둥절햇다.나는 分明히 親舊의들러리를 섯는데 내가 장가를가다니?하면서 여플보니 거기는 내親友C는 그림저도안보이고 새파라케찔린 素服한新婦가 昏倒해잇다.그리고新婦의품에는 白薔薇와 百合꼬치한아름 안기여저잇다.그꼿을보자 오 내가 정말結婚하는게다 저꼬츨 내가 일부러 이벨스러운온늘을爲하야 사온꼬치아닌가? 이러케 혼자생각하고잇는데 祖父께서는 다시 날더러\\n 『結婚式하기前에 네祖母山所에단녀가거라.그래야 子孫의道理를 하는것이다.』이말슴을둣고나는 祖父께서 가르치시는데로祖母님山所를 차저갓다 비탈길을올나가서 山所라고차저보니 實로 놀나운일이다 둥그러케穹形을그린塋墓가아니요 그것은 시컴언 커다란거북이가 업드려잇는것이다 꿈에도 異常스러워 내가정말 꿈이나 꾸는게 아닐까왜이런 異常스러운일만 격게된담?하고 혼자疑訝하면서 式塲으로 뛰여왓다 정작와보니 몹시도 맑은시내가흐르는江건너편에는 무슨端午나 秋夕名節과가티 人山人海를 일우엇는데 이편언덕에는 푸른옷을입고 하—얀띄를띈造化翁이 畵筆을들고안저서 그림을 그리랴는판이다.\\n 힌눈과가티 하—얀畵幅우에다가 點하나를 툭찍더니 今時로그한點이 힌나븨가되고 또다시點하나를찍더니 이번은 빨간꼿한송이가되여바린다 이러케 點멧個를찍고나더니 畵幅全面에는 녯말로만둣던 武陵桃園을 일우고마럿다 그리고 이畵輻바로알에白髮老人의畵像이 걸려잇길래 그그림을 額面에너코보니 거기는\\n 이러한 新郞新婦의일홈과 그아래 祝詩四行이 씨여잇다 나는 다시 놀나지안흘수 업섯다거기쓰인 新郞新婦는 全然나와또 내여페선新婦와는 아모런關係도업는 딴사람의姓名이 아닌가? 이瞬間 나는 내여페선女子의 흐득여우는 우름소리와함께 그女子의손에쥐엿든 하—얀핸켓치—프가 빨간피로 물드려진것을보앗다.\\n 『여보 여보 精神차려요 울긴왜울어요?』하면서 女子를붓잡고소리를첫다.이러케 소리를치다가 깨여낫다.아직도 窓박근어두운데 全身에는 찬땀이좍흘넛다.\\n 꿈! 우서만바리기에는 너무나 지나치는 幻戱엿다.\\n',\n",
       " '海外映畵消息\\n三六—三七年度\\nRKO作品决定\\n RKO라디오의 次年度 製作豫定은『피—츄아』五四本 短編一九二本(파웨,뉴—쓰一〇四本을包含하야)이라고 决定하엿다其他『월트,듸—즈니—』의『밋키마우스』漫畵及『시리!심포니—』漫畵가RKO라듸오를 通해서 提供되는데 그數는 아직未定이다\\n 次年度의이社는從來『스타—』陣即『프랫드,아스틔—아』『카사린헷프번』『진자—,로자스』『바—파라,스타운윅크』『리리—·폰스』『위—라』及『우—르지—』에다가『로버—트·도낫트』『솨르르·포아이에』『죤·보—르즈』『크로뎃토·코르베르』『죠—트·브라운』『죠—·페나—』等을 加해서陣容을强化한것이 注目을끄은다.\\n 이박게『죠—·오브라이엔』主演의 四部劇六本을 配給하겟다는데 决定한 作品은 다음과갓다\\n◇프렛드·아스틔—아『主演物一本 『마—크·산드릿치』監督.\\n◇『프렛드·아스틔아』,『진쟈—·로—쟈스』共演物一本\\n◇叛逆者의肖像.『카사린·헷프 번』主演.『마—크·산드릿치』督 督.\\n◇『카사린,헷프번』主演一本.\\n◇『로버—트,두—낫드』主演物一 本\\n◇『스트릿드껄.』『리리—,폰스』 主演.\\n◇盜賊男爵.『에드와—드,아—놀 드』主演.『닷드리—,늬코르즈』 脚色『스틔—븐,로버—쓰』監 督\\n◇新郞을보라.『바—바라,스탄』 윅크』主演『하버—트,마—샬』 共演.\\n◇『죠—,트,브라운』主演物二本\\n◇강가,듼.『루—드야—드,키 프링』原作.\\n◇윈터—셋트.『막스웰·안더— 스』原作.『바—게스·메레듸스』 主演.\\n◇새벽曙光에 依하야.『죤·베넷 트』『프렛드·스른』主演\\n◇『죤·보—르즈』主演物.\\n◇쇠르르·포아이에』主演物\\n◇미이라의아들.위—라·우—르지—』主演喜劇.\\n◇『위—라·우—르지—』物他一本\\n◇『진쟈—·로쟈—스』『쟉크·오— 키—』主演物一本.\\n◇蜃氣樓.『듹크·그레이스』原作\\n◇몬테크리스트의아들.\\n◇沿岸守備隊.『프랑크,위—드』 中佐原作\\n◇大試合『프란시스·워—레스』原 作.\\n◇命令업시.『피—타—·B·카인』 原作\\n◇夜間女給.\\n◇自己를 發見한사나히,\\n◇紐育의聖人.『레스리—·촤—테 리스』原作\\n◇캥捕獲.『듹타—·무—아』『헤 렌·브로듹크』主演.\\n◇百萬弗의프로필.『필립프·모이 라—』監督\\n◇男子살것업다.\\n◇세—느河上의小夜曲.『프란쓰 ·슈르쓰』『제이—·고니—』合作\\n',\n",
       " '隨想\\n鶺鴒哀語\\n➍禹昇圭\\n 亡妹야!어머님께서는 네가痛聲을 내일때마다 그乳癌을 불태워 가러마서도 사랑하는 따님인 네怨讎를 다 못갑겟다고까지 하섯다.얼마나 哀絕의絕頂에 올른 어버이의 歎聲이냐!\\n 너는 病苦와鬱火에 부다끼다못해서 이따금 짜증을 내엿다.그처럼 알뜰하게 看護해주시는어머님께 말끗마다 퐁퐁쏘아대엿다.나종에는 네게 唯一한血屬인延淑이 딸년까지보기실타고 네아페 얼씬 못하게햇다 흙흙!느껴가면서.너는 그때부터 確實히 換膓이되엿다.이세상사람이 아니엿든것이다.\\n 나는 네가 그러는것을 볼쩍마다 하도안타까운끄테 卒倒되려는 내精神,허무러지려는 내마음을 붓잡어 鎭座시키에 몹시애썻다.그리고 내自身을 꾸짓기에 바뻣든것이다.\\n 너를 出嫁시킬때 亡妹夫의揀選을하기도 나.어머님은 新郞爲人의 氣質이 懦弱해서 壽命이 짧겟다고 躊躇하시는것을固執세운것도 나.단지 얌전第一主義에만 흘려서 집안어른들의反對를 물리치고 期於히 成婚시킨것도 이오라비가 아니냐!\\n 그러틋 어두운 내눈,어리석은 내知感力이 너로하여금 오늘에와서『故人』의 稱號를 바치게햇 스니 내무엇으로 贖罪를해야 올흘것이냐!나는 이것이 아프다.나의 近視眼的 瞳球를 네가 흘려노코간 怨恨의피로 흐려바리고 십다.\\n 비가 亡妹夫의 三喪을 치르고난뒤 하도 寡居의憂鬱에 싸혀잇는것을 보다못해서 ××하라고 勸하지 안헛느냐.네가슴에一生怨恨의 못을 박어준 이오라비가 무슨 廉恥로 敢히 그런唐突한 소리를 입박게 냇드냐.\\n 내가 그런말을 할적마다 너는別駭怪스러운 말을 말라햇다.그것은 節婦를 侮辱하는 소리라고 하도여러번 勸하나까 나종에는 울기까지햇다.그리고 自殺로써 나를 이기려고까지 안헛느냐!\\n 亡妹야!『貞烈』이란 썩어빠진녯날말이다.이 허울조흔 탈을뒤집어쓴놈이 이따에 차저드러온지 몃千年동안에 婦女子들의마음을 구석구석 사로잡어가지고그들의 아까운 목숨을 얼마나빼아서갓느냐?너도 이 不滅의怪物에게 捕虜가되여간것을나는 잘안다.그리고 아프로는우리집안에 이것을 前鑑삼어 警戒하려한다.어따에서 이惡魔를退治하기에 힘쓰겟다.그리하여네게對한 報復을하는 同時 許多한 이따의 누이들의 寃魂을慰勞할것을 네게 盟誓해둔다.\\n',\n",
       " '語原考證數題\\n古語에남은 現代的意味❷\\n梁柱東\\n남진\\n『夫』의 古訓은 字會會와 月印에모다『샤응』이라 하엿스나,지금은 完全히 廢語가 되엿다.中古에는『남진』이란 말이 現行語의『남편』에 相當하엿다.\\n 그남지니 군마기 갈저긔 닐 오되(其當戍且行,曰)(三綱 行實陳氏養姑條)\\n 열여스세 남단 어려떠니(年 十六而嫁)(同上)\\n 『남진』이린말은『남인』(男人) 의 音轉이다.\\n 男子는 남지니라(月印卷一)\\n 어른\\n 現行語에 長者를『어른』或은『어룬』이라하고,他人의 어버이를 尊稱하야『어르신네』라한다.文獻에는『얼우신이』보인다.얼우신이 날를하야 아기를 뫼사,와 도라가\\n(大人令我 奉阿郞還家)\\n    (三綱·丕寧突陳條)\\n그러면 이『어른』或은『얼우신이』의 語原은 무엇인가.\\n 古語에『嫁·娶』는 모다『얼우』로 訓한다.(字會)\\n嫁 얼일가\\n나히 열여스세 남딘어렷더니(年十六而嫁)\\n    (三綱·陳氏養姑條)\\n다른남진 얼우려커늘(將取而嫁之)      (同上)\\n죽다,록 다른겨집 아니어드니라(終身不娶)(同上·媛姜解桔條)그런데 이『嫁·娶』의 古訓『얼우』는 그原義가『어울』『어오러』(交·合)에서 된것이니 現行語에는男女의 戀愛를 가라처『얼리다』하거니와 左의 譯例를보면 這間의消息을 알것이다.\\n평상우희 미야두고 어루려커늘(縛於牀簣之上 將陵之)\\n   (三綱·崔氏見射條)\\n겨지볼 다려다가 구틔여 어□□늘(引其婦 强欲淫之)□□□同上·都彌妻條)\\n□□□□』『交合』의意로부□□□□□』의 義로 轉한것이매『어른』이라함은 곳『얼운사람』『얼운이』의 略이니,그原義는『配偶者잇는이』곳 旣婚者의 뜻이오,『어르신네』亦是그러하다.\\n 『長者』『嚴親』의뜻을가진『어른』『어르신네』란말의 語原이『嫁娶』乃至『交合』인것은 興味잇는일이다.\\n화냥\\n辱說에『화냥놈』혹은『화냥년』이란말이잇다.俗語로는『淫奔』을『홰눙』이라 한다.『화냥』과『홰눙』은 同義語다.\\n 그런데 이『화냥』처럼 語源에對하야 異說이 만흔것은업다.漢學者들는 이를『豢養』으로 解釋하야『牛馬가튼』或은『牛馬나 치는奴僕』의 義로 생각하엿다.또심지어 芝峰類說에는 다음과가티 說이 보인다.\\n 松窩雜說云,中原七家嶺之西五里計,高峰之上有基,各曰幻爺山.譯者言,昔有人生子不順,言東則向西,問北則指南,…其父病且死,囑其子曰,死必葬我於高峰之上,盖欲得平地而葬,故反言之.其子乃曰,臨死之言,不可不從,乃葬于此,以其變幻其父之旨故名.……余意今俗詈人,必曰幻爺之子,疑以此也.\\n     (卷十六·諧謔)\\n이것이 曲說임은 贅論할것도업다.『豢養』이나『幻爺』나 모다『淫奔』의意인『홰눙』이란말을說明치 못하느것은 根本的缺陷이다.\\n 나는 이『화냥』이란말은『花郞』에서 나온것이라 생각한다.『花郞』은 近世에와서『화랭이』로 發音되야 男巫의 義에 쓰여젓다.그러나『新郞』을 方言에『신량』이라고 訛語하는것으로 미루어『화랑』도『화량』乃至『화냥』으로 訛音될수 잇겟다.花郞道는羅代의 美風이엿스나,그後墮落되야淫風을 띄엿슬것은 想像히기어렵지안흔 일이다.따라서『회냥』이『淫奔』의 義로 轉한것이라생각한다.現行語의『회랭이』도『男巫』란 意味外에 例컨댄 衣服가튼것이 너무나 繁雜히고 眩爛한者,賤한者에게 쓰여지는것이다.\\n함끠\\n 近代에 刊行된 文獻,例컨댄聖書에는『함끠』란 말이잇고,對話에도 종종 일부러『함께』라고 發音하는이가잇다.이말의由來는 무엇이며 또 그것이 正當한가.\\n 『함끠』는 母論『한끼』가 訛傳된것이며,嚴密히 말하자면『한씨』가 音轉하야 된말이다.\\n 佛經諸諺解에 劈頭『爾時』를『그삐』로 譯히여잇슴은 누수나아는바이다.그러면『時』란말의古訓은 精確히 무엇인가.現行語에도 밥굶은것을『끼굶엇다』或은『끼니를건넛다』하지마는 宇會에도『時』字의 訓은『字니』로되어잇다.\\n',\n",
       " '조선어표준말모음』\\n(27)\\n첫재,가튼말(同義語)\\n(二)소리가아주다르고뜻이꼭가튼말\\n (二)소리가 아주 다르고 뜻이꼭같은말\\n깍두기(名)김치의一種\\n 똑똑이\\n 송송이\\n깡깡이(名)奚琴\\n 해금\\n 행금\\n꼭뒤(名)頭後\\n 뒤꼭지\\n꿈속(名)夢裡\\n 몽중\\n끝판(名)終局\\n 종국\\n 종판\\n 종결\\n끼니(名)定時食事\\n 조석\\n 조석반\\n가슴앓이(名)胃痛\\n 흉복통\\n개질량(名)狗皮席\\n 갖대\\n개펄(名)浦邊泥地\\n 퍼리\\n개호주(名)虎子\\n 갈가지\\n 개오지\\n괴질(名)流行怪疾\\n 쥐통\\n 회통\\n굴물(名)湯汁\\n 말국\\n군살(名)贅內\\n췌육\\n굴뚝(名)煙突\\n 연돌\\n귀밝이(名)正月望日酒\\n 이명주\\n그러께(名)再昨年\\n 재작년\\n금방(名)막\\n 고대\\n그믐초생(名)月末月初\\n 회초간\\n그사이(名)其間\\n 기간\\n기저귀(名)襁\\n 샅깃\\n기침(名)咳嗽\\n 해소\\n기와집(名)瓦屋\\n 와가\\n낚시찌(名)浮子\\n 동동이\\n날라리(名)胡笛\\n 호적\\n나빼다(動)『달아나다』의\\n 鄙稱\\n 뛰다\\n 들구뛰다\\n 들구버리다\\n 들구주다\\n 들구튀다\\n노름(名)賭博\\n 잡기\\n땅벌(名)土蜂\\n 오빠치\\n떠들다(動)喧囂\\n 들레다\\n대그릇(名)竹器\\n 죽기\\n대뜸(副)卽座\\n 단통\\n더러(助)누구더러\\n 다려\\n더펑새(名)鸕鷀\\n가마우지\\n도롱이(名)簑\\n 누역\\n도장(名)印\\n 투서\\n 투수\\n둥굴레(名)黃精\\n 대뿌리\\n뒷나무(名)大便用木\\n 여목\\n뒤지(名)大便用紙\\n 밑씻개\\n들메(名)鞋紐\\n 신끈\\n마고자(名)八褙\\n 반배\\n 팔배\\n 마팔\\n멸나물(名)牛尾草\\n 밀때\\n 멸\\n명아주(名)藜\\n 능쟁이\\n물감(名)染料\\n 염료\\n무릎마춤(名)對質\\n 대질\\n무명조개(名)蛤\\n 문합\\n바퀴(名)香娘子\\n 강귀\\n배코(名)髻底\\n 상투밑\\n범(名)虎\\n 호랑이\\n변리(名)邊利\\n 길미\\n볏(名)鷄冠\\n 베실\\n 면두\\n봉빠지다(動)破產\\n 뽕나다\\n 짜드럭나다\\n봉투(名)封套\\n 피봉\\n불겅이(名)紅煙草\\n 홍초\\n썰매(名)橇\\n 구껵지\\n씀씀이(名)日常費用\\n 용도\\n살쩍(名)鬚\\n 귀밑털\\n 귀밑\\n삼치(名)馬鮫\\n 망어\\n새서방(名)新郞\\n 신랑\\n센털(名)白髮\\n 백발\\n쇠옹두리(名)牛脛骨\\n 옹두리뼈\\n술집(名)酒店\\n 주점\\n수박(名)西瓜\\n 서과\\n심지(名)燈心\\n 등심\\n잔솔(名)稚松\\n 치송\\n자리옷(名)寢衣\\n 침의\\n장끼(名)雄雉\\n 덜걱이\\n장수(名)商人\\n 상고\\n 상인\\n족대기다(動)强迫\\n 좁치다\\n 좁히다\\n종아리채(名)撻鞭\\n 맷사리\\n주전부리(名)戱食\\n 군입정\\n지긋지긋하다(形)極慘酷\\n 지기업다\\n지남철(名)指南鐵\\n 쇠\\n짐바리(名)馬荷\\n 태짐\\n 복태\\n짐승(名)獸\\n 김생\\n 즘생\\n집주름(名)家屋仲介人\\n 가쾌\\n찬기운(名)冷氣\\n 냉기\\n참먹(名)精製墨\\n 진묵\\n참빗(名)細櫛\\n 진소\\n창병(名)梅毒\\n 퉁\\n 담\\n 당옴\\n 당창\\n 양매창\\n 매독\\n 용병\\n첫솜씨(名)初手\\n 초수\\n청어(名)靑魚\\n 비웃\\n초(名)醋\\n 단것\\n콩팥(名)腎臟\\n 두태\\n푸대접(名)冷待\\n 냉대\\n풀솜(名)眞綿\\n 설면사\\n한나절(名)半日\\n 반일\\n한더위(名)最盛暑氣\\n 성념\\n 혹서\\n하늘밥도둑(名)螻促\\n 도루래\\n 도로래\\n 땅강아지\\n하루거리(名)間日瘧\\n 간일학\\n해마다(副)每年\\n 매년\\n 년년이\\n해바라기(名)向日葵\\n 향일화\\n해파리(名)水母\\n 무럼생선\\n허리띠(名)腰帶\\n 요대\\n홀어미(名)寡婦\\n 과부\\n 과수\\n호박(名)南瓜\\n 남과\\n홀몸(名)單身\\n 단신\\n흙비(名)土雨\\n 토우\\n흘림(名)草書\\n 초서\\n안뒷간(名)內厠\\n 내측\\n안손님(名)女客\\n 내빈\\n안찝(名)衣服裏地\\n 내공\\n암내(名)腋臭\\n 액취\\n아주까리(名)篦麻子\\n 피마주\\n 피마자\\n애꾸눈이(名)片眼者\\n 외눈통이\\n 외대바기\\n양귀비(名)罌粟\\n 앵속\\n어느겨를(名)何暇\\n 하가\\n얼레(名)鳶絲卷\\n 연감개\\n엉겅퀴(名)大薊\\n 항가새\\n연가시(名)螳螂\\n 범아자비\\n 어영가시\\n 사마귀\\n열구자(名)神仙爐料理\\n 탕구자\\n 구자탕\\n여러가지(名)各種\\n 각색\\n 각종\\n여러날(名)屢日\\n 누일\\n여러번(名)屢回\\n 누차\\n여러분(名)諸位\\n 제위\\n 첨위\\n 첨좌\\n여러해(名)屢年\\n 다년\\n 누년\\n 적년\\n엿방망이(名)鬪,賭博\\n 여시\\n여태(副)于今\\n 입때\\n 입때까지\\n예로부터(副)自古\\n 자고로\\n옥수수(名)玉蜀委\\n 강냉이\\n오지그릇(名)陶器\\n 옹기\\n완자(名)搗肉塊\\n 모리\\n외아들(名)獨子\\n 독자\\n우박(名)雹\\n 누리\\n 무리\\n 느레\\n원(名)守令\\n 수령\\n원숭이(名)猿\\n 잔나비\\n 원성이\\n은조롱(名)何首鳥\\n 새박뿌리\\n이날(名)此日\\n 본일\\n이날저날(副)此日彼日\\n 차일피일\\n이달(名)此月\\n 금월\\n 본월\\n이달저달(副)此月彼月\\n 차월피월\\n이마적(名)近者\\n 근자\\n입맛(名)味覺\\n 구미\\n일버릇(名)口癖\\n 구습\\n이탓저탓(副)此託彼託\\n 천산지산\\n이틀거리(名)二日瘧\\n 이일학\\n 양일학\\n 당고금\\n 당학\\n 노학\\n 해학\\n이핑계저핑계(副)\\n      此頉彼頉\\n 차탈피탈\\n이엉(名)蓋草\\n 개초\\n 영\\n',\n",
       " '自殺?\\n他殺?\\n奇怪·그新郞의죽엄!\\n妻家의後庭서腹部에칼밧고陰莖까지끈켜죽은\\n碧潼郡東上洞金氏집의怪變\\n지난십칠일 평북벽동군동상동(東上洞)김섭〇(金燮〇)의집에서 장가온사위(婿)가 자살을하야 일대소동을 일으켯다는데 이제그자세한바를 탐문한대로보도하면 얼마전에 이김씨의집에장가온 창성(昌城)군허문혁(許文赫)(一九)은 평소에 무슨비관하는빗도업섯든터로 지난십칠일오후한시경 뒷뜰안에드러가서오지안홈으로 이상히역여 차저보니 뒤뜰에서 그는전신에 피칠을하고 혼도하여잇는것을 발견하고 당지김락영(金洛英)공의를청하야 응급수당을가하는일방린군초산도립병원에 입원시겻스나 필경그익일인 십팔일에 절명되고말엇다는데 해부해본결과복부에 기리두치가량되는 칼을자루까지 보이지안토록 드러박혀잇섯다하며 덕욱이 이상한것은 생식기(生殖器)를 잘라버린것이라는데 깁버하여야할 신랑이 어찌하야 이런참살을당하엿는고?혹은자살한것인지?이상한죽엄의실마리는풀길이업다고한다\\n',\n",
       " '春 日 行 步(中)\\n安 夕 影\\n그건나뿐이아니라 길거리에서나 어디서나 우울해보이고 초조한나츨 가진사람은대개가 다—그럴것이다 아마그중에는 金鑛에 장사에就職에失敗한사람,요새와서는 아들딸,아우,누이의入學試驗에 失敗해서 우울한사람도 잇슬것이다\\n 그러나 나는 이축에도못드는사람이다 다만 돈업시돈만히드는 일을해보랴다가일이 停滯가되여 그저 집에서쉬면서 原稿紙와 畫具와 벗을삼고잇는 사람이다그러나 어쩌치 우울하다 이우울은 무슨욕심을부려보다가 失敗해서어든 우울이아니다 그저人生으로 우울한時節을 만낫슬뿐이다 이것은 누구를 원망할것도못되고 그럿타고 내가병충마저서 그런것도아닌듯십다 時代가 그러케맨들고 이땅에서사는 너와내가 맨든한때의心境인것이다\\n 자— 보라 鍾路 네거리를 나아가면 몃世紀의사람들이 살고잇는가를 보라\\n 방갓쟁이,갓쟁이,도포짜리,洋服쟁이,佛蘭西現代女子의 衣裳을 걸친女子,한쪽에서는 호랭이털더푼 가마속에 랑자를하고 얼골에연지곤지를 찍고 눈을감고안저가는 結婚行列과 대낫에 燕尾服입은新郞에 면사보쓴 新女性의新婦와 禮拜堂이 아니면 府民舘홀—,料亭에서 牧師의主禮로 結婚을하는등 朝鮮 더구나 京城에는 적어도 十四世紀로부터 二十世紀사람들이 석기여사는곳이니 이것이우울한 것에하니다.\\n어쩻든 畸形的이 아닌것이업는 이땅에 내가 생각해온것도 畸形的인지도모른다.\\n 어제는 집안에 드러안저잇는때가만흐니 길로 나아가고십지도안타 집안에서는마음이 든든해가는지는모르나 그럿타고해도 거기對하여서도 곳幻滅이오지안으면나는 病身이 아니 情勢을일흔내가 될지도모른다\\n 藝術家거나 그무엇이거나情熱이 식으면 죽는날이다나는 제일두려운것이 이것이다.\\n 情熱이업시 글을쓰고 그림을그리고 音樂을하고 映畫를하고 政治를하고한다말이냐 더구나 藝術家에게情熱이업스면 그때는 다른길을選擇하는것이 도리혀 名譽스러운일인지도 모른다\\n 나는 요사히 情熱이업는藝術家의 作品을 흔히본다그러나 그들自己는 情熱이잇거니할지도모른다 나亦是이런우수운存在가 아닌기—고생각하는때도잇다 이것이공연히근심이된나 다른사람이 이것을알면 쓸데업시 제가사서하는苦悶이라하는사람이잇슬지 모르나 제가사서하는고생 제가사서하는苦悶에 갑이잇는結果를 나흘것갓기도하다이러한 反省이잇슬때가 人間으로서 尊貴한時間을 갓는것인지 모른다.\\n 나는 어제 저녁때 洞里의 벗과漢江을 나어가 밤에드러왓다.\\n 漢江다리가 새로노엿다고新聞에 寫眞까지 낫지만새다리를 논뒤로는 이것이처음行步다.\\n 뻐스에서 나려서 昌慶苑아페서 電車를 가러타려고夜櫻때문에 混雜을 避하느라고 뻐스에서 電車타는곳까지 동안을 띄워노키때문에 밧분일도업시 다름박질을하야 電車에올랏다 이제저녁여섯시인데 昌慶苑아페는 夜櫻구경군들이 잔득모혀서 入苑券을 팔기를 苦待하고잇는 모양이다 요사히 나와 그들과는 얼마나距離가먼 生活을 가지고잇는가를 나는늑기엿다 나보담 그네들이 봄을즐겨하는사람들일까 그러치안흐면歡樂에 목마른사람들일까\\n 그들은 봄의香氣를 저들靈魂에까지 물드리듯키 맛고십고 봄날의 새生命이움터나오는 흙을밟고 십흘것어다 사랑하는사람과 꼿미테서 懊惱에타고 또한 將來를 約束하는等 이짜른봄에 靑春을享樂하리라아즉도 西便에 햇발이남엇는데 昌慶苑안에는 電燈들이켜잇고 레코—드音樂소리가 우렁차게 들려나온다차차속이 어두어지면 봄에달뜬 저무리들의 발자최가 잠자는動物들의 귀를 괴롭게할것이다\\n 電車가 움직이니 나는이들과머러젓다 車안으로 기여드는봄날의 가벼운바람이 내얼골을스칠때 잠이올것가치눈이감겨진다 눈이감겨지면또 괴로운옛追憶으로 눈을뜨게한다 젊은時節에만 가질수잇는 아름다운記憶이 그누구에게나 한가지식은잇슬것이다 그리고 그런일이잇다고하면 자기의것은 세상사람들중에 가장 아름답고갑잇는것으로 생각하고 앗길것이다 그러나 그것은 한때의 꿈일것이요 사람의 一生中 한번식은잇는 人生의봄일것이다 그봄을 지내치면 그것이 그러케 重大한것이 아니라는것을 께닷게될것이다.\\n',\n",
       " '同生가티딸른\\n新郞을殺害未遂\\n早婚이나흔喜悲劇一幕\\n십삼세의 신랑(新郞)은 부부(夫婦)생활의 능력(能力)이업다고 한탄하든 남어지산부(新婦)가 나어린 남편을죽이려다가 목적을 이루지못하고살인미수라는 무서운죄를 저질르고서 경찰에자핀 이팔소부(少婦)가잇다 히천군신풍면하동(熙川郡新豐面下洞)김봉수(金奉武)(一三)는 부모가시키는대로 지난이월가튼동리 김성히(金成姬)(一六)와결혼을하잇는데나어린봉무는부부생활을 리해(?)하지못하고결혼한후 지금까지 그저남매간가티만 생각하고 지나오든중이에불만을 느낀신부 성히는지난구일밤여페누이고이잡자고잇는 남편봉무를『노끈』으로『목』을메여죽이려다가 그만집안사람들에게발견되여 목적을이루지못하고 희천경잘서에 잡혀엄중한 취조를밧고잇다\\n',\n",
       " '漢字와우리말의\\n겹말\\n(밥飯饌·손ㅅ手巾)\\n 우리 漢字語가 漢字의 그訓을 全然 떠나서 成立된것은 아니라고 하터라도 다시우리 言語의 獨特한 習慣으로 構成되는터라 반듯이 거기에만 꼭 致될것은 아니다.그러한 漢字語를 오즉 漢宇의 그訓으로만 따지니까 無意味하고 俚俗되게보이는것도 免하지 못할일이다.의선 門은 玉篇에 在堂房爲戶,在區域爲門이라고 한것을 미루어서 大門,中門의 門인데 들窓門,밀窓門이라門은 그어떠케쓰는것인가.더구나 窓이 이미 窓戶의 意味인즉 設使堂房에잇는門까지를『門』이라고 한대도견말이 아닐까.아니 그보담도 窓戶바르는 조히를 窓戶紙라는것은 無妨하지만은『門窓戶紙』라는 겹말은 그 무슨意味인가.그以外논밧田地,四時사철等의 그러한 겹말이 얼마나 만흔가.\\n 새新郞 허연白髮 긴長竹 짤은短杖 절믄少年 늙은老婆 넓은廣場 큰大廳 속內衣 것外貌 밥飯饌 손스수건 이건 우로 重複된 겹말의 멧가지 例요 淸州ㅅ골 珍島섬 菊花꼿 桂樹나무 生菜나믈 軟柿감 靑天하 늘潮水ㅅ물 洋紙조히 砂器그릇 어건 아래로 重複된 겹말의 멧가지例다. 마메콩 모찌떡 뽀이아히 뻐쓰껄게집애 비단 漢字語만이 아니고 요사이 새로운말에도 이러한 겹말이 업지 안타.그러나겹말은 오히려 猶之可也로되(오히려와猶도 겹말)그겹말에서 重複된우리말을떼고그 反對의 말을 언즐때는 다서 更一層의(다시와 更도 겹말)우수운말이될것이다.卽 긴短杖 적은大廳等의 말도 그러커니와발ㅅ手巾 머리ㅅ 手巾等의말은 더 말할것어 업다.또 한가지 겹말의 例로 어떤會社의 社長이나 어떤 學校의 校長이나 그들을 일커르려면 ××會社祉長 ××學校校長으로 社나 校가 겹들어간다.다시 또한가지 겹말의 例로 黃喜黃政丞 李浣李大將이라고 부르니 여기는 남의 姓字를 겹쓰고 엇는것이다.(袋山)\\n',\n",
       " '職業?\\n離婚?\\n旋風가튼人氣속에\\n新婚의幸福도一瞬間\\n마—사,레이의破鏡眞相\\n 벙·크로스비—와『춤추는리즘』에共演한以來 그人氣가上昇의一路만 올라가는 新進女優 마—사·레이가 結婚한지 三個月만에 離婚을하엿다 이 朝雲暮雨와 가튼破鏡의事件에對해서는 넘우나 輕薄하다는 非難도업지아니하나 그裡面에는 세르로이드의都市『허리웃드』가아니면 보지못한 한개의哀話가 숨어잇는데 이제 그眞相을 아러보면 다음과갓다.\\n 英帝戴冠式의 休暇를 利用해서 結婚한 마—사·레이는 世界에 第一가는 幸福스러운 女性이엿다.그러나三個月後 正確하게 말하면九月二日에 彼女의 辯護士는 離婚을 提訴하고 여러사람의 質問에對해서 대답해말하기를\\n『아모말도 뭇지마러주시요무엇이라고 대답할수가 업습니다.\\n 모든것은 다 이저버린過去로 도라가고 마럿습니다언제는 아모리해도 回復할수업는데 이르고마럿습니다』\\n 하면서 어느듯 두뺨에는더운 눈물을 흘리는 世界第一의 不幸한 女性이되고마럿다.\\n 新郞은 메이캡프師로 有名한 웨스트·모아의 末弟 파듸—로서 當年二十歲 마—사도 가튼 二十歲이나 마—사는가 衣裳部에서 發身해서藝界의 모든 苦心을 여러가지로 맛보아온二十歲이고 新郞은 學校를 나온지 얼마되지안는풋내기 聖林人으로 더구나兄의 威光에 싸혀 無難하게 지나온 도련님格의 二十歲이엿다,그러나 마—사는 純情이여서 파듸—에게사랑을 매즈면서부터는 모든것을 다犧牲으로하고라도첫재 結婚을,家庭을,愛兒를가지고십헛다,무엇보담도安住의 家庭을가지고십헛다幸福된 家庭生活에의 渴仰을 性急하게 充滿하려고하엿다\\n마—사다 파듸—도 幸福에醉한것은 잠깐동안이여서 休暇가끗나자 人氣의 頂邊에이른 마—사는 撮影과 實演과 라듸오와 팬들에게의應待와 인터—뷰—等에 눈코를 뜰餘暇도 업섯다,그러나 紐育에가면 長距離電話로서 사랑하는 파듸—에게 사랑을 속삭이고 파듸—도 또한 때로는 旅客機를 타고 날러와서 마—사를 맛나 未盡한 사랑을풀기도 하엿스나 그래도 두사람만의 時間이라는것은전혀 가질수가업섯다.\\n 이러케나마 만나는것이마—사의 生活때문에 아주阻止된어느날은 차저왓다『그러면 나는가야지』하고 파듸—가 혼자떠나간뒤에 『나도곳가요』 하고 대답은햇스나그대로 시카고에 몸을 숨기고 세르로이드生活에 짓밟히는 自己네의 사랑과共同生活에 對해서 여러가지로 생각해보고십헛다,꼬십과 데마는 여러가지로 퍼젓스나 마—사는 이러한것은 秋毫도介意치안코 무엇보담도 眞實하게 自己네의生活에 對해서 깁히 생각하엿다,마—사의 도라오기를 기다리다못해 파듸—는부르러까지 왓스나 마—사는맛침내 離婚을 决意해버렷다 마—사는 世波에 휩쓸린 二十歲이고 파듸—는 풋내기二十歲이라 그럼으로마—사는 말하기를『어듸나 다른데서 우리가 서로 맛낫든들 얼마나 幸福스러웟슬까요,그러나 聖林서는 아모리해도 우리는 그러한 幸福을 누릴수가업습니다』하면서 울엇다.그래서 세르로이드의 都市에서 피여낫든 두사람의사랑은 꼿도 다피기전에 떠러지고만 이다.\\n   (사지은마—사)\\n',\n",
       " '昔日의女優\\n今日엔伯爵夫人\\n 챠—리차푸링의 相對役을 맛튼 女俳優는 이상하게도 스크—링에서 틀不幸한 結末을가저오고잇다.\\n 例를들면『黃金狂時代』의 죠쟈헤일『서—커스』의 마—나케너듸—『거리의 등불』의 바지니아체릴等 그人氣는 모다 그때그映畵의 上映中뿐이엿고 그뒤에는 불사러지듯하엿다.\\n 바지니아치릴도 그가운데 한사람으로서 最近에는 이스냅과가티 그女子의消息이 오래간만에 알리워젓다.\\n 왼편男子는 最近그女子와 結婚한新郞쟈—지—伯爵이다 이것은그女子의사랑하는 페스트인테리야를안고 오—스타리—公園에나타난兩人『거리의등불』에서盲目의꼿장사 바—지니아체릴도지금은 훌늉한英國의伯爵夫人이되엿다 有爲變轉의世事가아닌가\\n',\n",
       " '愁誰語\\n❻\\n지용\\n 그單純하고 素朴한 일군들도웬까닭인지 그곳물을 몃달마시고나면 거칠고 사납고 하로ㅅ강아지 범무서운줄 모른다는 셈인지 什長에게 뭇매를 앵겻다는등 차차 코가세여지는것이엇다.\\n 맛댐으로 맛나 따지고보면별수업시 조흔사람들이엇만 얼골표정이 잔뜩 질려 보이고 목자가 흠하게 찌저저 잇고하여세루양복에 머리를 갈럿거나치마대신에 하까마 저고리대신에기모노를 입엇다는 理由만으로서 욕을 막퍼붓고 희학질이여간 심한것이 아니엇다.우리가조금도 못알어듯는줄로만 알고하는 욕이지마는실상 그것을탓을 하자고보면 살이 부들부들떨릴 소리를 하는것이다.그러나 우리는 조금도 어찌녀기지안코 끗까지모르는 표정으로그들의 엽흘천연스례 지나간것이엇다.우리가조금도 모를리 업는 욕설이지만진기하기 짝이업는 욕들이다.쉑스피어劇臺詞에 해괴한 욕을辭典을 차저가며 工夫도 하는터에 실제로모르는척하고 듯는것이 興味업는것도 아니엇다.그러나 좀얼골이 붉어질 소리를 하는데는우리는 서로 얼골을 避하엿다.\\n 뻔히 알어들을 소리를 애초모르는체하는 그러한것이 이를테면 敎養의 힘일것이리라.\\n 그러나 만일 그들이 별안간삽으로흙을떠서 냅다뒤집어쓰힌다면 어떠한 對策이 설수잇슬가할때에나는 절로緊張하여지고억깨를떡펴고 얼골과 눈을 좀嚴酷하게 維持하고 또 注視하며 지나가게 되던것이엇다.\\n 그러나 우리들의 好奇心과鄕愁는 挫折되지 아니하엿섯다.\\n 장마치르고 난 자갈밧이거나장마가 지고보면 의레히 떠나갈 터전,말하자면 별로 말성이 되지안흘 자리면 그들은그저 어림어림하며 집이라고 고혀는는다.궤짝 부서진 널쪽電線줄,양철판 등속으로 얼거노코 그들는 들어안되 남편,마누라,어린것,게수,삼촌,사도댁,아조 남남끼리 할것업시들고 나고하는것이엇다.\\n 쨔르르 짜럿거나 희거나 푸르둥둥하거나 하여간 치마 저고리를 입은 안악네들이나 아래동아리 홀홀 벗고 때가 겨른 아이들일지라도 산설고 물설은 곳에서 맛나고보면 반갑지 안흘수 업섯다.\\n 그들은 우리가 조선학생인줄아른후에는 어찌반가워하고 조아하던지 한십여인이나되는 안악네들이 뛰여나와 우리는 그만 싸히여 들어가듯하여 무슨新郞新婦나 볼모로 잡어온듯이아래ㅅ목에 안치는것이엇다.그래 조선서 와서 학교하는 양반이냐고 뭇고 고양도 뭇고나히도 뭇고 하는것이다.어찌되는 사이냐고 하기에 나는 어찌타 튀여나온대답이 四寸間이라고 한것이엇다 그들은 별로탓도 아니하엿스나 四寸오누간에 퍽은 서로닮엇다기에 우리는 가튼척하고견듸엿엇다.이러한 경우에는 四寸이 아니라고한다든지 或은四寸이 아닌줄이明白히 들어나고 보면 결국꼼작업시 억울해도 할수업시 뒤집어쓰고 마는것이엇다.\\n 그중에 퍽녑녑해보이고 잇고보면 손님대접하기 즐길듯한끌기는 끌엇스다 당복저고리에자주고름을 념이고 자주끗동을다은,좀수선스럽기도할 한분이일어나가는 거동으로 우리는 벌서 눈치를 챗던것이엇다.황황히일어스랴니까 왼방안에 잇는분들이모다 붓들며 점심먹고가라는것이엇다.\\n 이밥에 콩도석기고 조도잇스나먹을만한것에 틀림업섯고 달레며 씀마귀며 쑥이며 하여간山肴野菜임에 틀림업섯고 골고로 조선것만 골라다노흔것이귀한 반찬들이엇다.\\n 한긋 誠意를 다하야 먹는참에 박갓 主人이 들어오는 모양인대 안주인이 우리를 변명겸 설명하는것이엇다.안주인의이때까지 정이 녹을뜻한擧動이좀 황황해진것이기도 하엿다.\\n 박갓주인의 태도가 좀 무뚝뚝하고 버틔기로서니 내기 안경을 벗고 한팔 집고 한무릅꿀고 무스道무슨面 뭇슨里 몃統몃戶까지 대며 인사를 올리는데야 자기」들 어찌 그대로하나뺄수잇슬것이겟으며 또저윽이緩和되지 안흘배 어듸잇섯스랴 끗까지 나의 敎養의 힘으로희한히 和氣靄靄하던 그날의 同鄕日氣를 조금도 흐리우지도안코 견된것이엇다\\n 방안에서 문에서 뜰에서 부억에서 모두들 잘가고 또 오라는 인사를 밧고 나오는 길에 우리는 보아서는 아니될것이 눈에 뜨인것이엇다 막대하나 거침업는 한편에 한 안악네가 돌멩이 둘에 도름쪼그리고 안저 잇는것이엇다.조금황겁히 구는것이엇스나 결국 우리가 보아서는 못슬것이업슴애그 안악네는 그대로 견듸기 어려운 일이 아니엇다.\\n 일즉이 農村傳道로 나선 어떤 外國宣敎師한분이 모든 불편한것을 아모 不平업시 참어바덧스나 다만 朝鮮의厠間만은좀 困難하엿든지 朝鮮의 厠間은 돌멩이 두개로 成立되엇다는 우스개 말슴을 한일이 잇섯스나,그,『컨시스쓰·어브·투—스토운스』라는 섭섭하기도하고우습기도한할이이저지지안헛다.\\n 그야 厠間이 반듯이 돌맹이두개로 成立된것도 아니지만은혹시 그렬수도 잇지아니한가.\\n 산이 서고 들이 열리고 하늘이 훨적 개이고 사투리가판히 다른 荒漠한 他鄕이고 보면 側間쯤이야 돌멩이 둘로 成立되지 말라는 법도 업다.\\n',\n",
       " '趨 庭 錄(三)\\n草笠의由來\\n袋山生\\n 趙在三의 松南雜識를 보면 草笠은 羅麗때 花郞이 쓰든 갓으로 지금 新郞을 草笠童이라고 한다고 하얏는데 松南雜識은 哲宗乙卯에 지은 册으로 그年代가 오래도지 못 하고 또出處를 밝히지 안하야 그 根據도 튼튼치 못 하나 大槪는傳하야 나려 오는 口碑를 記錄한 것이 아닐까고 推測된다녯날에는 本來 갓 장가든 새新郞만 草笠을 쓸뿐이 아니라조라치와 大殿別監들은 新郞이쓰는 것과 가튼 누른 草笠을썻고 驛卒들은 검은 草笠을 썻거니와 新郞이 장가를들고 나서 곳 갓을 쓰지 못하고 반듯이 草笠을 쓰는 것으로 몰찐댄 거기에 어떠한 숨은 傳統이 잇는지도 모른다.李濟臣의 淸江小說에는『近古國俗.脫父母喪未及終制者.皆用黑五十竹草립.埀黑木纓.白衣白帶.以至□過□而純吉.盖中古我國士人.平時常着淡黃草笠.若今之上殿別監奴子及牽馬夫等所着者故也.其後士類所着草笠.變白爲黑.而□ 前之笠.亦從而黑矣.』라고 한 이야기가 잇다.\\n 淸江小說의 이 이야기로 보아서 갓이 생기기前에는 普通草笠을 쓰든 것으로 그 빗이애초에는 누르다가 나종에 검어진 모냥이다.그러니까 草笠□빗이 變할 때 조라치와 大殿別監만은 變치 안햇고 또 草笠□신에 갓들을 쓸때 驛卒들은 그□로 검은 草립을 지키어 온□일까.또 넷날의 새로 장가□新郞이 누른 草笠을 씻든 까□으로 草笠의빗이 變하건 草笠이 아조 업서지건 그 習慣을지키어 온 것일까.淸江小說에는 다시 繼續하야『白布墨裹.則惟國恤着之.今右相盧公.己巳庚午間遭父喪.祥過.以遽黑爲未安.用白市布笠.如國恤時所着者.□直學澈.亦倣而用之.其後.禪前之笠.或白布.或白草.或黑草各任所見.無定制.申校理點.於經筵啓議.定以白布之笠』이로써보아서 李濟臣때만 하야도 白笠은 國喪에 限하야 쓰고 大祥後 禪前에는 어른도 草笠童이와 가티 草笠을 썻든 것이라고 보인다.그것이 마치 花郞이 쓰든 갓인지는 모르나 갓이 생기기以前 모도들 草립을썻다는것은 事實이다.李濟臣이中古라고 말 한것만 보더라도그것이 羅麗人적부터의 舊制엿든듯도 하다.그런데 요사이□人들이 쓰는 方笠은 麗末에胥吏가 官長을 뵈일때 쓰든것이라고한다.그것이 어떠케 變해서 後世에 이르러는 고만 喪人의 專用으로 되야 버리고 만것이다.그러나 녯날에는 喪人들이 方笠도 쓰고 또或 平凉子(패랭이)도 썻섯다.平凉子는白丁들에게 그 使用을 許可한것으로 보아서 草笠보담도 더오랜것이거나 녯날부터 賤人의갓이엇다고도 推測된다.\\n',\n",
       " '地方有志들\\n에게물어본\\n産業發展·敎育普及\\n生活改善에対한方案\\n生活改善策은?\\n環境에適應하도록\\n 物心兩面의改革\\n元山府會議員 李弘俊氏 談\\n酒草의節約과\\n二重過歲廢止\\n女權을좀더擴張\\n  子女敎育도家庭本位\\n開城敎育協會長李瓊芝氏 談\\n婦女子의覺醒\\n忠北社會囑託金淑堂女史談\\n儀禮改善部設置\\n染色講習會와備荒貯穀도實施\\n忠北社會敎化囑託金冕洙氏 談\\n 生活改善問題는 目下朝鮮에 잇서서絕叫되여잇는바이며 事實에 잇서서도實現하여야將來우리生活의安全을 期할수잇는터로우리元山에도벌서부터 婦人生活改善會가組織되여 多少活動을하고잇다 그러나全朝鮮을 通하야 這間의生活改善運動의實績을살펴본다면무엇하나一定한標準으로統制的一致協調된改善은업고各人各樣으로 取捨方法이 不一한關係로써 秩序와規律이업는 所謂生活改善亂行時期에 到達한感이업지안타\\n 本來人間은 各自의品性,職業環境 知識程度如何에依하야 그生活興味에도 各各千差萬別이生하는것이어늘 無統制的改善어亂行되고잇스매 各自의 生活興味에迎合하도록 變改되고잇는것이니이것의 結果는 無秩序的混雜한 改善狀態를 出現시키엿슴으로 現今 生活改善運動에 表現된情勢는 極히 漠然하여가는듯십다\\n 勿論 우리의 生活狀態에잇서서 改善을 要하는問題가 相當히 만흐나 그러나 保存하여야할바를 버리고 當然히 排除하여야할바를 反對로取하는 傾向이不少하니 그야말로 無意識的生活改善運動은 將來國民生活線上에 多大한惡影響을 끼칠憂慮가 잇슴으로써 내地方에만 局限된 問題를 論하기前에 以上의 共通된所感을 述하야 生活改善運動을 實踐하는人士의 參考에 供하는바어다\\n 叙上의 意義를 좀더 明確케하기爲하야 一例를擧한다면 從來生活改善運動의 重要한點은冠婚喪祭의 消費節約이라고 指摘할수잇는터로 現行하는 改善되엿다고하는 儀式의 形式이 統一되지못하고 各人各色일뿐더러 더욱이 婚姻에잇서서 式을畢한後에新郞을 威脅하야 酒食을 强奪하는 所謂婚姻뿌로—커라는惡黨이 現今에도 盛히䟦扈하고잇스니 그行思惡度의 最高水準이京城일것이고 其次는 地方인바元山뿌로—커는 京城뿌로—커보다는 훨신紳士的이나 冠婚喪祭에消費節約을 勵行하는 이때에禮式費用보다 뿌로—커에게 强奪當하는 金額이만흔곳도 잇다하니 이는至極한 矛盾이며 慶事當日에 夜深又는 徹夜토록新郞을料理집에다 抑留식혀두는것어 어찌穩當한일인가\\n 前述과如한 惡例는數多하나一一히 指摘할必要는 업는것이다要컨대 우리將來할 生活을 改善하려함에잇서서 무엇보다精神生活方面에로 한거름더向上할것이며 아울러 經濟方面에도 倍前一層活潑한 步調를取하여야할것이다 이것은現下우리의 生活上經濟力의狀態가 그半數以上이生活改善을 云謂할餘地가업게되여잇는까닭이다 웨그러냐하면 原體木이腐朽한 家屋을 改修하다가는 도로혀 倒壞되는것과가티經濟能力이 極度로缺乏한生活에는 節約도 濫用도다업는것이니거기에무엇을 改善할바잇스랴!\\n 그러므로 生活改善은 精神的方面에 向上이必要함과同時에 經濟問題가 必隨條件으로되여잇는것이 事實인바에는 우리는한거름더나아가서 民族共存共榮의大義를 기피認識하야써 먼저同價紅裳이라는精神을 高調하여야하겟다. (元山支局取扱)\\n淸州新明醫院長李明求氏 談\\n 生活改善上 些少한듯하고도其實은 重大한結果를가지고잇는것은 吸煙과飲酒라고본다 酒草는國家徵稅收入上至大한關係을가섯슴으로 禁酒니斷煙이니하는 過激(?)의 文句를 敢發함은 야직避하거니와 多飲多吸은 于先人格上으로보아 百害無一利한大衆保健上크게 關心할問題로되려니와大衆經濟로보아도 一大關心處가아니면 아닐것이다 淸州郡一個郡에消費되는 煙草代만이年三十三萬七千餘圓이라하니 忠北全道(十郡)를 計算한다하면 實로巨額일것이다 그우에이보담 幾倍나될酒代 그러면 忠北一年에煙沬化!醉興化하는것이實로數百萬圓으로 計上될것이아니냐 萬一이의半分이라도 家庭又는社會의 有益한事業에쓴다면 그얼마나 個人이나 社會의生活向上이될것이냐 一般이나 指導當局이나모다 一大認識과 注意를 喚起할必要가잇다고 思惟한다 또하나는 二重過歲의 廢止이니農村과 商界를 指導하는官廳이나 會社가休業하면 따라서 農家와商業家의 活動도 中止되니\\n 수장귀노튼집에 양복장들을노앗스니 이것이생활개선인지 몰으겟스나 야것은 도희생활하는사람치고 누구나 돈만잇스면할수잇는일이다 나는이보다 평소官廳이休務할時는 따러서 過歲함이至當할것이다 農家에서 恒言하기를 陽曆은農家節候에不當하다하나 近來는農會에서 適當히宣傳指導하고잇스니 陰曆이무엇이 必要하단말이냐 陽曆은全世界가同一하다 突然히陰曆을主張하고 二重過歲를함은 生活負擔이至大하니 積極的으로 廢止함이可하다\\n그리고 色衣獎勵!冠婚喪祭費用節約이니 이역시 所謂有志人士中 常識잇는階級人이 率先實賤하야써 그範을示함어 緊要할것이다\\n     (淸州支局取扱)\\n에늣겨오는것은 우리가정부모네들의 자녀교육에대한 삐두러진인생관을 좀개선해주엇스면한다개성의 풍습으로 첫재틀인다 생각하는것은 딸자식나희 이십만먹으면 노처녀로 바람나기쉽다고 쉰떡처치하듯 시집만보내지못해 야단법석을하니 그래나희십칠팔새의 어린처자들이 결혼을해서 시집사리를 한다면 그가정그남편에게 어찌완전한 주부노릇을 할수잇겟는가 그리고가난한 살림에 딸자식만 작고번식시키면 집안꼴이 안되고 그어머니는 고만자식들에게 종노릇하기에 사람꼴이안되고 만다요컨대 우리는 자손번창만 다복하다는 고루한관념을 버리고산아제한법을 주창하야 양(量)보다 질(質)적으로 단한명이리도훌륭한 인물을맨드러 노키에우리네 부모네들은 애써야할것어다그런데 조선에서는 너무학교교육만편중하고자녀에게대한가정교육이업고 또요새 양풍(洋風)에물드럿다는 부모네는덥허놋코 자식을 사랑만할줄알지 웃아른에대한 존경한마음이라든지 례의범절을 가르처주지안어 자식이커서도 젓빠는아이가티\"엄마\"\"엄마\"하고불으니 나로선 이말이 행풀업시 들닌다느니보다부모를 존경하는 자식의 도리가아니라 생각한다 요컨대 녀성으로서의 권한을좀더확장하야명실상부한 가정의주인공이되여야할것이다 (開城支局取扱)\\n 一年의計는 元日에잇고 一日의計는早朝에잇다고한다 從來에나려오던惡習慣을 新年元日부터내어버리자 正初라고男子는酒席을자조하고 婦人들은 三三五五作伴해서 이집저집차저가서問福하는惡習 이두가지는 時代를따러當然히버려야한다 男子가過飲하면 精神이昏迷해지고 言爭으로親舊誼絕키쉽고 名譽損傷,時間虛費等 百害無一利이다 그런데 男便의過飲은 안해의따뜻한忠告만이 쉽사리 고처질수잇다고생각된다 心身向上에對한努力!그는健康과知能과 人格을노피는方法이다\\n 婦人들이여!주며니分錢을다하야 問福하여보앗댓자 무슨効\\n 生活改善策으로 干先第一徹底시키지안하면 아니될것은 新曆徹底實行이다 누구나 다 떠들어오는일입니다만은 朝鮮사람들의 二重過歲란것은 經濟上으로精神上으로 實로 莫大한 障碍라고아니할수업다 엇잿던 如干弊端이잇는것이아니다 그래서 이統一을 爲하야 相當히 努力하야왓섯스나 그다지 조흔成績을못본것은 遺憾이엇다 그런데 今番에 市日을全部新曆으로 統制하게된것은 이것이宿望이기도하얏거니와 絕大의 機會에 最善의方針일것이다 이機會에 徹底를圖謀하려한다 어떠한方法으로하겟느냐고?于先郡面及各團體,各學校를 動員시키는一方『포스타』『삐라』等印刷物을 利用하야 講演으로 座談會로 이것을宣傳普及케할作定이다\\n  ▲儀禮改善部設置\\n果가잇든가 곡식을주고 경이니굿이니 하야보앗다고 무슨利益어잇섯든가 空然히物質과 時間을虛費치말고 正道를차저서 남과가티살겟다는决心으로 모든點에서 生活을改善하여나가야한다거기서만 男女同等도提唱할수엇고 一家團欒도잇슬것이다 더구나 非常時局에處하니만치 더욱物質과時間을經濟하야 時艱을克服할지며 向上과努力의새精神으로 希望에넘치는新年을마지하자\\n 그다음은 儀禮改善이 큰問題이다 그러치안허도 貧寒한朝鮮農村에서 虛禮虛飾으로因하야더욱 疲弊하이지는일이 相當히만타 儀禮提要까지 本府에서 發付하야 實行을하고잇는中이나새해부터는 振興會가 靑年團等農村指導團體에『儀禮改善部』를設置하야 徹底普及을圖謀하려한다\\n  ▲染色講習會開催\\n白衣着用이란 한개朝鮮民族性으로처럼생각하는분도엇서 染色衣獎勵에 多少遲緩을 몰뿐아니라廣唐木에 染色이잘되지안코 보기도흉라고 말성이꽤흔것갓다新年부터는 各郡面에서 講習會를開催하야 染色에對한 技術을習得케할豫定이다\\n  ▲備荒貯穀\\n 現在도 一戶當正租 一石平均으로備荒貯穀을 獎勵하고잇다 새해부터는 좀더普及化할作定이다\\n    (淸州支局取扱)(完)\\n',\n",
       " '趨庭錄(八)\\n서방은『西房』\\n袋山生\\n지금 젊은이의 尊□으로\"서방님\"이라는말이 잇는데 그말은 다시 게집서방과가치 남편이라는 意味의 卑踐한 用語로도 쓰이고 또 아모서방과가치既婚者라는 表示로도 쓰인다.\\n西北一部에서 글ㅅ방에 다니는 사람들을\"書堂이\"라고 하듯이 이\"서방\"도\"書房\"의漢字로서 된말이 아닐까 생각될뿐이 아니라 언제 누가 그러케 썻든지 事實上\"書房\"의漢字로 通用되고잇다.그러나 녯날에는 書房이라고 쓰지 안코西房으로 썻스니 太平閑話滑稽傳에\"谷山府院君延嗣宗子曰慶.以忠義衛入侍.上問汝是誰.對曰延嗣宗賢男.上大笑.國俗以新婿爲西房.奉安國以新婿入侍.上問汝是誰.對曰奉西房.時人號曰延賢南奉西房\"이라고 적은것은곳그證據다.太平閑話의 著者가取音의 偶然한 錯誤로 그러케쓴것만은 决코 아니니 淸江笑□에\"陳滴長竟之迎李承召爲婿也.其家無西房.雍□於德事以爲吉室.嘉夕獨□出.陳□分藝□步窓後.呼曰西房西房.新郞不得已應之.陳曰我是比家老也.要向西房有一說焉.厥亦形猊雖湡然實無年也.愼漢急遽爲也.聞者笑不失聲.厥物指其女而愛護之婚也\"라고 적은것은 곳 그證據다.\\n그런데 淸江의말ㅅ속에서 그집에 西房이 업서서 大□을막아 가지고 吉室 即 新房을맨들엇다는것은 大體 무슨 意味인가.아니 녯날에는 반듯이西便으로 잇는房에다가 新房을치우고 그래서 新婚의 사내를西房이라고 불르든것이나 아닐까\\n太所閑話滑稽傳에는 다시 西房에 對하야 좀더 仔細한 記錄이 잇다.即\"俗謂婿爲西房.盖在西房也.有一宰相多婿.新婿入西房.舊婿寓斜廊.一日宰相自公還家.日己昏黑.不辨人面.舊婿庭謁.丈翁曰汝是西房.舊婿應聲曰我是斜廊.俗戱舊婿曰斜廊\"이라는 이야기다.그러니까 우리의 推測햇든바와가티 녯날에는 新婚의 夫婦를 반듯이 西房에 居處케 햇든것이요 또그러니까 갓 장가들고난 사위를一般으로 西房이라고 불럿든모냥이다.그 서방이란 말이 이리 번지고 저리 번지어 오늘날 와서는 남편이라는 意味로도 쓰이고 旣婚者의 表示로도쓰이어 그 根本出處와는 昛離가 멀어도 젓거니와 그根本出處를 이루든 習慣이 그後 고만 업서저서 西房이란 원글짜까지 이저 버리게 된 것이다그러나 우리에게는 다시 한가지의 興味잇는 硏究題目이 남아 잇스니 即 그전에 우리들은 어떠케 되여서 新婚夫婦를西房에 居處케 하얏스며 또 언제부터 그習慣이 업서젓든가 하는 것이다.업서진 것은 大槪明宣以後의 일이리라고 어림되는 바도 업지 안 하나 그 由來에對하야는좀더考究를要한다.\\n',\n",
       " '海印寺紀行\\n第七信 · 歸路에서\\n咸大勳\\n住持를차저다시 大藏經 保管에 關한 이야기를 하고나서나는 내使命을다핸지라 十二時二十分車로 다시 歸道에 오르게되엿다\\n어제보다 오늘은 훨신 날이다스하다 입은다떠러저 枯木은되엿슬지언정 바람이 부드럽고볏이다스하니 일흔봄 어름풀릴무렵갓다 녹아나리는 어름에질적질적한 山길을 더듬어 나려오노라니 山中 비탈길 것는손은나혼자뿐이다 가방을 한엽페끼고 다시왓든길을 도라오는 내게 어제와는 다르게 모―든것이보혓다 어제는 緊張된 내精神이오 오늘은 閑暇한 몸이라그러한지 어제보든 그山골그물이엿만 훨신 더 餘裕가잇서더구나 보인다 紅流洞얼어부텃든물그속으로 흘으는 물소리는 그대로 바위ㅅ사히로 흘러 구슬잇듯 玲瓏한 물결보다 훨신듯는 感懐가 다르다 올라갈때는해도저물엇거니와 또 急한거름이라 못본 景致가 다시금 내눈압페 展開되여 하늘을 찌를듯놉흔峰이 깍근든 소사잇고奇岩絕壁이 때때로 凄壯한 景槪를 가슴에 색여준다\\n溪谷을끼고 구비돌아 나려오는길에 문득 나는 十二三歲나되엿슬가 아즉도 다자라지못한少年이 지게에 숫한俵를 지고나려온다\\n\"너 어듸로 가냐?\"\\n山中에서 나혼자 오든길에 하도 사람이 반가워 물엇드니\\n\"요아래ㅅ洞里에가요\"\\n한다\\n\"그숫은 어듸서 가저 오는거냐?\"\\n나는 다시 물음을 게속햇다.\\n\"이山속에서 굽는거야요!\"\\n\"그갑슨 얼마냐?\"\\n\"二十錢이야요!\"\\n\"뭐 二十錢?\"\\n\"네!\"\\n京城서는 一圓二十錢은 하는것이라 비록 山中이라하드래도넘우 그價格이싼데 놀래지 안을수 업섯다 이러케 原價는싼것이 市塲에나올때엔 高價엣것을사써야하니 무릇 生產者와 消費者의 中間에잇는 商人의 暴利에 다시 놀래엇다 勿論숫한포에 그런것을 새삼스러히 늣긴것은 아니지만 都會나 農村이나되도록 生產者와 消費者間에 直接 取引을 할수잇는 消費組合가튼것을 만히 創設하야이것을 利用케하는것이 社會政策上 조흔일이 안일가고 다시생각하엿다\\n바로 海印寺入口停留塲에서車를탄것은 午後十二時三十分 定刻보다느저 우리는 出發하게되엿다車는 速力을내어 疾走하는데 兩便으로 展開되는山과들은 비록겨울이라 荒凉하나 바람이따스하여 南國情調를 늣길수잇섯다中間에서 혹은 스텁을當하여 乘客을실고 或스텁을하여 乘客을내려노흐면서 冶路고개를 넘어서니 웬 乘客 셋이 스텁을한다 車를세우고 그들을 태우고나니 不過二三町도 못가서 나려노흐라한다 알고보니 新郞이新婦를 더릴러가는 말하자면 結婚日이라 이뻐스를 利用한것이다 길가에서 新郞이 옷을가라입는 珍風景을 바라보며 다시車를 몰아오든길에 우리는 이제 目擊한事實을 우리가當하게되엿다 그건 개천어름 구덩이에 우리가 빠진것이다 하도어이가 업섯스나 우리는 一齊히나려 이것을 드러낼工作을하엿다 그러나 車가어름우에 걸린지라 엔진을아모리돌려야 車박휘만돌고나오지를 못한다 그리다가多幸히마진편에서 트럭크한대가 달려왓다 우리는 그를마저 줄을 매고 끌도록햇다 그러나 그힘으로는 도저히 음직이지를 안는다 乘客全部가 合처車를 밀엇다 그대로음직이지안는다 그런데 웬조선두루막을입은靑年하나이 그도乘客이건만말만하고섯고 또그洞里農夫들은그것을 구경거리처럼 내다만본다\\n나는 그것을보고 어떠케나朝鮮사람이 公衆道德心이 업는것을 알고 그들을 꾸지젓다 그래도 웃고만섯다 그래하는수업시 그들을 잡어끌다 시피하여車를 밀도록 하엿다 果然 그들의힘은컷다 車는 음직엿다어름우에서 건저냇다 그瞬間우리는 北極探險간 飛行機를 救援한것만치나 기뻣다\\n생각하니조그만 힘이나마 合치면 큰것을 웨사람들은 싸홈만하고 合치려고 하지도 안을가? 長江巨河의 줄기찬 물도모―두그根源은 적은 시내인것을 생각하면 적은사람이 만히뭉치는데 웨 큰힘이못되랴?\\n午後四時大邱서나려 마주나온申敬均君과 孫一圃君을맛나 저녁을가티하고나는그밤도기픈 十二時 다시京城行車에 몸을실엇다\\n――(尾)――\\n',\n",
       " '趨庭錄 (十)\\n獨坐床과覽寢\\n袋山生\\n우리의 舊式婚禮 그것도 本來부터 우리가 지키어오든 固有의것이 아니요 後來에 이르러 만히 漢化된것이다.新婚의夫婦를 반듯이 西房에 居處케하든 習俗도 왜 업서저 버리엇는고한즉 역시 그러한 까닭에벗어나안는다.그러면 漢化되기前 우리의 婚禮는 果然 어떠하얏든가.그것을 한번 詳考하야 보는것도 재미잇지 안한가.\\n淸江小說에는 \"我國婚禮.於吉夕燭出.納新婦.翌日則新郞之所知者齊訪於妻家.其家以酒肉行宴.名曰覽寢.至於第三夜.夫婦始行同牢宴.謂之獨坐床.甚爲無理.覽寢之名出於麗季.而又爲不正之說傳會之.尤爲可革也.况無賴之輩托稱覽寢.知與不知日逐婚家求饜.或有每夕登高望烽火而尋往者或誤迹烽燼於發靷之家者.大抵男女正始爲重.而連夜同宿始行相見之禮.不亦褻乎.頃在中廟戊寅年間.始行親迎禮.己卯人亡.禮從而廢近來士族家.於吉夕即依家禮行事者謂之眞親迎.即夕就女家交拜巹宴明日謁舅姑者謂之半親迎.覽寢之弊稍革.而正始之道殆復古風이라는 記錄이 잇다.\\n이로써 미루어서 中宗以前까지는 첫날ㅅ밤 新婚夫婦가 그대로 한께 자고 그 이튼날ㅅ밤도 역시 그대로 한께 자고사흔날째 가서 비로소 獨坐床을 차려 노코 正式으로 式을行하는데 式이 잇기前날 新郞의 친구들을 모아 노코 잔채를 베풀며 그것을 覽寢이라고하든 것이나 中宗때 靜庵一派가 得勢한 以後 漢人의 禮를딸아 고치엇고 己卯士禍가 일어나고서 一時 復古되얏섯스나그後로 또다시 차즙차즙 漢人의 禮를 본뜨게 된 것이다.\\n지금 똑똑이 그册名을 다히자는 못하되 다른분의 著書에서도 知與不知間 모두 覽寢을핑계하고 新郞 新婦가 자고난新房을 쪼차 들어와서 猥褻하기 짝이 업섯다고 적은 것을본 記憶이 난다.이러한 弊風이 儒者의 눈에는 一種의 蠻俗으로박게 비치지 안 할ㅅ것이라 婚禮의漢化에잇서 第一着으로 革除되얏슬ㅅ것은 勿論이다그러나最近까지 東床禮라고 婚家의잔채를 强要하는 버릇은 이覽寢으로부터 傳來된 것이 分明하고 또 첫날ㅅ밤에 절믄親戚들이 엿을 보는 작난도 이覽寢과 多少의 脉絡이 닷는 것갓치 보인다. 철날ㅅ밤 엿을보는데 對하야는 녯날 新婦의奸夫가 만히 新郞을 殺害한까닭으로 그런 不祥事를 豫防키爲햇든것이라고 傳하는데 覽寢에傳會되고 잇다는 不正之說도結局 이런 種類에 버서 나지안할ㅅ것이다.또 지금까지도 醮禮廳에 놋는 床을 獨坐床이라고 부르고 잇다.그것은 녯習俗이 變함에 不拘코 그 名稱만이 녜전그대로 無意味하게남아 傳하는 것이다.\\n',\n",
       " '趨庭錄(十一)\\n拜燭과逐郞\\n袋山生\\n中宗以前 우리의結婚式은 第一日에 新郞新婦가 그대로 한께 자고 第二日에도 그러케 자고 第三日에 가서야 비로소 獨坐床을 차려노코 夫婦相見禮를行한다고 이미 이야기하얏지만은 第一日에라고 더퍼노코 그대로 잠만 자는 것이 아니요拜燭의 簡略한禮式이 잇섯든모양이다.그와同時에 第一日날新郞되는 者가 입고 온 옷을벗지 안코 잇슬 때까지는 그新郞을 쪼차 버리고 그 婚姻을 解消하기 可能하되一日그옷을 벗은 以後에는 絕對로 婚姻의 解消가 不可能하게 習慣이 이루어 젓든 것 갓다.淸江笑叢에 比安正有病子曰豊山.體矮而短.侏需狀也.以宗室巨契求婚四處.每見擯退.一日瞞言定綵.粧束擁入.婦家倉卒未暇他謀.旣而百計不祥.必欲還黜.不得已盡着來時之服然後方可黜之.故渾家環坐無策.有一族生.頗有權謀.俾家人咸譽新郞端妙禮數有範.以迷童心.乃入房誘之曰此家有福.今得美郞.顧有八十老親景迫西山見榮無幾.新郞拜燭之時適如厠未回.家人俱稱雅度.而老姑以不及觀光爲嘆.請具前服暫煩初儀.短子不意其身見讃於人.而今日見讃.深自得揚揚.服旣成.力士擔黜大路.牢門不納\"이라는 재미잇는 이야기가 잇다.이 이야기中에서\"拜燭之時\"니\"請具前服暫煩初儀\"니하는것은 첫날ㅅ밤자기前에 簡單하나마 어떠한儀式이 잇섯든 證據요\"盡着來時之服然後方可黜之\"니\"服旣成力士擔黜大路牢門不納\"이니 하는것은 입고온옷을 그대로 입히어서 新郞을 쪼츨ㅅ수도 잇든證據다.그所謂 拜燭의 儀라는것이 어떠케 行해지든 것인지것는 모르지만은 입고온 옷을벗기以前 장가들어 온 新郞을도로 쪼츨ㅅ수 잇다는것만은한재미잇는 習俗임에 틀림이 업다.더구나 이야기가 宗室大家에 關한것으로 미루어서 决코一部地方이나 下級社會에서만行해지든 일이 아니라 一般 上下를通하야 널리 通用되든 例임을알ㅅ수가잇다.淸江笑叢에는 다시 繼續하야\"短子進退維谷.喑夜蹣跚還家.至其門.家有老婢適挑燈縫針.自言曰豊山氏亦有入丈日也.短子掩涕窓前悽然一度曰吾今來此矣.持燭出視.乃新郞也.世以爲劇談.有不諧事.便曰豊山氏入丈\"이라고 적어노핫다.그當時에는 이 난쟁이宗室의 失敗談이 閭巷間에 파다하야저서 잘 안되는일에는 \"豊山氏의장가드는격\"이라는 俚諺까지생기엇든 모냥이다.何如튼 後來에 이르러는 四柱單子를 도로 보내고 破婚하는 것도 점잔치 못 한사람의信義업는行動이라고 一部의非難을 바덧다.장가들러 온 新郞을 문박그로 내쫏든 녯날의 習慣과比較해서는 실로 커다란 變遷이다.\\n',\n",
       " '銀盤의覇者崔君\\n結婚의꼴로突進\\n 全日本氷上選手權을 連續獲得한 銀盤의覇者 崔龍振(二七)君은今春明大商學部를마치자 同時에結婚의꼴로 突進하기로되어 三月十七日午後二時 鄕里新義州公會堂에서 新義州의實業家 金基鴻氏의三女 金信三(二二)孃과의 結婚式을 擧行하기로되엇는데 新婦는新義州高女出身으로梨花保育學校에서修業한 才媛이라한다(寫眞은新郞新婦)\\n',\n",
       " '本社主催展覽会記念\\n鮮朝全特産品紹介❻\\n江原·黃海\\n音色凄凉하고\\n禪味豊富한木鐸\\n墨客의埀涎인海州硯\\n 江原道\\n椎茸\\n本道에는 麟蹄,平昌,高城郡에서 天然으로 深山幽谷에 自生하는것도잇스나 一部에서는人工裁培애依하야 生產하는데 風味佳良하야 京城方面에 移岀하고잇다\\n朝鮮松實\\n金剛山長安寺 金化郡近化面外에 准陽 伊川 春川等地에서九月下旬부터 十月上旬까지에 毬果를따서 一定個所에 堆積하야松脂의分解에伴하는 稻楊色化하기를기다려 種實을採取水撰하는데滋養이豊富하므로 高等料理의調味料 製菓用等으로賞用되므로 京城方面에 移岀한다\\n藥 草\\n 一般的으로 藥草라하면 其中에는 山查,沙蔘,도라지,細辛白術,川芎,當歸,芍藥,五倍子黃栢皮,山藥,蘇葉,苦蔘,虎杖根,車煎子,老枯草,羌活,山人參等을 가르치는데 以上에 列擧한것은勿論 其外에도 多種類가 麟蹄,平昌,洪씨,楊口,春川,華川,蔚珍等地에서 年約二百萬斤가량이 產出되는데 其全部가 京城으로移出되고잇다\\n蜜蠟\\n 江原道農會에서 製蠅器를 備付코 精製하는것인테 品質이純良하야從來로內地에販賣하고잇다\\n蜂蜜\\n 分離及精製等 各郡農會의 指導아래에서 生產하는데 麟蹄,旌善,洪川,平康,淮陽에서 生產하는것은 品質이純良卓絕하야朝鮮은勿論 內地에도 販賣網을펴고잇다\\n木 鐸(木魚)\\n 金剛山附近에서나는 檀木을原料로써 製作하는테 其木質이極히굿고 音質이 자못禪味豊富하야 好評을博하고잇서 當地土產物로서 探勝客에게 販賣하고엇다(寫眞은 木鐸)\\n京畿道續\\n刺繡\\n 坡州郡交河面煙多山里의 刺繡는 지금으로부터 約四十年前에農家婦女子의副業의 手工에依하야 生產하는것으로 主로 朝鮮人結婚의用度品으로 使用하는新郞新婦의 枕當刺繡品인데 其種類가 多種多樣이여서 長生(上品)別繡(中品)下繡(下品)의等級어 잇는테 朝鮮에서는 結婚時의新郎新婦의 鴛鴦衾枕이라고해서 不可缺의것이다 結婚時期即春秋에 가장만히愛用된다\\n販賣狀况\\n 坡州의刺繡는 全鮮各道의 主要都市에서 販賣되는데 各地가不可缺이라고해서 相當한 賣行成續을 올러고잇스며 將來에잇서서도益益旺盛하게販賣될것이다\\n楊州栗\\n 楊州栗은 楊州郡議政府를中心으로生產하는 特產品으로서 지금부터 數百年前李朝王宮에 進貢品으로서 保護增殖된것이다本品의特徵은 알어크고 色어조흐면 外皮澁皮는엷어서 벡기기가조흘뿐만아니라 肉質이 緊密히고 甘味에豊當하야 一般의嗜好에適當히다\\n販賣狀况\\n 從來本品의取引은 主로京城에持參하야 販賣하엿스나 最近其取引方法을 改良하야 當地에서出荷組合을設立하고 品質規格의統一과 販賣統制를圖히야 益益聲價高揚에 努力하고잇다\\n長湍大豆\\n 本品種은 京畿道長湍郡을 中心으로北部各郡에 生產하는 一名長湍大豆로서 主產地의 作付反別三萬八千町步 生產高 約二十餘萬石에達하야 널리 長湍大豆의『銘柄』으로써 朝鮮內는勿論 內地市塲에서도 其聲價를노괴고 잇는데 粒形은 中粒에屬하나 色이 美麗하고 蛋白質이豊富하야 豆腐 醬油의 原料로서 全國各地를通하야 特히 愛用되여잇다\\n販賣狀况\\n 品質이 特히優秀하므로써 널러 愛用되기때문에 販賣狀况은益益旺盛하고잇다\\n黃 海 道\\n陶磁器製品\\n 各種陶士의 埋藏이豊富한 本道의斯業은 가장將來의發展性을有하고잇는것으로 兼二浦의樂浪燒 松禾燒 鳳山郡의 山水燒 遂安의 隊安燒等이 有名한데 花瓶 植木鉢等 雅趣豊富한製品이적지안타\\n硯\\n 海州硯이라하면 文人墨客들에게 愛用되며 널리定評을가지고잇는데 色의鮮麗와 石質 强靭로 其持徵을삼는다(寫眞은硯)\\n',\n",
       " '마라손界의 至寶\\n金恩培君結婚\\n第十回世界올림픽大會에서 마라손 에 貴重한國際的一點을 거두어半島健兒의 存在를 世界舞臺에 처음으로 印친 마라손의 至寶金恩培君(二八)은 그동안 競技生活로\\n부터 隱退하고 學業에만 蓴心하야 今春에 早大政經學部를卒業하작 同時에 結婚行進曲에발마추어 實社會에『데뷰』하기로되엿다 新婦는 慶南統營郡河川面大谷里에잇는 崔玄洙氏의 令妹崔順相孃(二〇)으로서 일즉이晋州日新女高를 마치고 現在東京女子藥專에 在學中인 才媛이라는데 結婚式은 來十五日午後四時에 京城府長谷川町公會堂에서 呂運亨氏主禮下에 擧行하기로 되엿다한다\\n□ □□□□ 新郞과新婦)\\n',\n",
       " '天才提▲家·메뉴—힌君結婚\\n 世界的으로有名한 少年提琴家『메뉴—힌』君이 어느새 二十一歲로成年이되야 이번結婚까지하게되야『메뉴—힌』 팬을 놀내게하엿다元來『메뉴—힌』 의兩親은 君으로하야금 世界的提琴家이 地位를 確保시커기위하야 아직은 結婚尙早라고 反對햇스나『노라·루네·니콜라쓰』 孃과 의의로맨쓰는 드듸여 君으로하여곰 兩親을 說服하야 드듸여 十九歲의『니콜라쓰孃과 얼마전 倫敦에서華燭의盛典을 擧行하기로되엿다 그런데新婦의집은濠洲의富豪로아스핀製造業者로 有名하다고한다 結婚式塲에는 兩便의兩親以下 二十二名이出席햇스나 被露宴은 世介末壇의寵兒엿는만큼 華奢를極하야 倫敦社交界近來의 盛事엿다고한다 그리고 『메뉴—힌』君의 結婚한뒤를이어 君의두令妹『야르타』孃『에프지바노孃도이번여름에 結婚하기로되여 메뉴—힌一家는 慶事의幸運이 거듭하게되엿다\\n  (寫眞은 結婚登記를마춘 幸福의主人公인인메뉴—힌新郞新婦)\\n',\n",
       " '\"路傍의石\"\\n試寫를보고\\n 이 映畵는 일직히『眞實一路』와『五人의斥候兵』의力作들을내노아 日本監督界에堅實한地盤을 가지고잇는田坂具隆氏의監督作品이고 原作이또한『眞實一路』로써 最近日本文壇의長篇小說界를 휩쓸은山本有三氏의것이니만치 封切되기前부터 物議가 만헛고期待가컷다\\n『路傍의石』的存在인 主人公吾一少年이 齷齪한運命에 嘲弄을바드면서도 굿센意志로써一步一步前進을 꾀한다는것이이作品의 테—마이다\\n 吾一의아버지는 어머니와그를 내버려둔채 어디론지 오래동안行方不明이 되여잇스므로 두사람은 封套부치는內職을해가며 한편家主인 稻葉屋書肆의主人泰吉이의 援助로僅僅히 구차한貧民窟生活을 하고잇엇다 그리자 吾一이는六年生이되야 어떠케든지 中學校에를 갈려고하나 어머니는눈물로써 집안事情을 吾一이에게말해주며 그생각을 斷念하라고哀願한다 그것을 잘아는 次野先生은 吾一이의同情者인 泰吉이와 議論해가지고吾一이를 中學에 너허주기로한다 吾一이는깁붐으로 가슴이터질듯하엿다——그러나 거기에 공교로히바람가티 나타난無賴漢인 아버지 庄吾때문에 吾一이의모든希望은 또다시 단번에꿈가티 흘딱나러나버리고말엇다.\\n 그리하야 吾一이는 學校를卒業하자 곳 그거리에서 第一큰 吳服店인 伊勢屋에『전방아이』로 되여간다.거기에선 次野先生이 늘자기의『吾一』이라는 일흠을『내가 世界에서 第一이다!』라고 解釋해주며 稱讃해주든 그일흠까지『五助』라고 고처불리우게되며 자기同侔들이엿든 主人아이들에게도 一一히『도련님』『아씨』하고 불으지안흐면 안되게되엿다.한편 하번나타낫든 아버지는 또다시行方不明이 되여버리며 어머니는 心勞가 極甚한나머지 病에걸려 泰吉의好意로 入院을하게된다.그때 다시不良輩의아버지가 나타나 어머니와泰吉이의사이를 誤解해가지고야단을친다.몸부칠곳을일흔 어머니는 그길로 投身自殺을하여버린다.이에 어머니를 얼흔吾一이는 정든故鄕을 등지고 아버지가잇다는 東京으로가게되엿다.그러나 東京의生活도 시골의『전방아이』生活에 조금도 떠러지지안는 勞苦와 屈辱의生活이엿다.그러나 吾一이는 이生活에 지질안헛다.그는 니를 가로물고이生活을 박차며 나아가는것이엿다.……\\n 이것이 大略이作品의 스토—리인테 山本氏의作品은 언제나 어떠케살어나가느냐?하는 모랄을 現代의生活苦의問題에連繫시켜서 우리들에게가르켜준다.그러므로 그모랄은常識的인것이나 現實的이고 또한健全한것이다.이作品가운데서는 神秘的인深奧한맛보다는條理에찬健全한생각과 行動이描寫되엿다고볼수잇다.\\n 이런地味한 異色을띈題材를田坂氏가 果然어느程度에까지肉迫해나갓느냐?하는것이 問題인데 나는이映畵를보고 實로훌늉히 成功한力作이라고생각햇다.田坂氏는여기에서 아모런새로운技巧를 부리지안코오로지誠實한態度로써 컷트한컷트를칵메라를들고 原作者의健全한생각과 行動을 고대로따럿다.이態度는『蒼氓』의熊谷氏와 거진恰似한것이라고할수잇슬것이다.田坂監督뿐만이아니라 撮影者와演技者들도모誠實한態度로써 一貫한자최가 歷然히켯트마다 나타나잇다.\\n 主人公 吾一扮片山明彥少年의 天才的演技에 우리는 놀래지안흘수업슬것이다.그의 늘不運한環境에 눈물을가득히짓곤하면서屈치안코 一步一步압으로나가는『레알』한演技에는누구나感淚할것이다.굿센意志에서나오는어린 反抗心에서鐵橋에매여달리는 塲面이라든지어머니가 도라가섯다고해서집으로뛰처가다가 망난히아버지를보고 그대로뛰처돌아가는塲面이라든지 마즈막 東京집에서『람푸호야』를 내던지고집을나가 골목길에서 거리로사라지는 塲面가튼것은 참으로훌늉하엿다.그우에 어머니로扮한瀧花久子의 沈着한演技(特히 吾一이가 잘못부친封套를보고도욕을 안하고 되려우는吾一이를 慰勞해주는 塲面가튼것)와 井染四郞의 泰吉이畵學生의 江川宇禮雄等모두조흔演技를 보혀주엇다.그런데아버지로扮한 山本禮三郞의그時代的일 無賴漢의 性格이좀어쩐지 不足한 感을주엇다.\\n 아마이것은 무엇보다도監督의責任이 클것이다.그러고또次野先生의 小杉勇의 演技도너무나 文學靑年의 냄새만풍기는것이別로 조흔感銘을못주엇다.그러고 또한가지 나는이作品에서 其中重大한 失敗를한가지들추어내자면 이作品의時代的 背景인 明治三十六年度에잇서서의 어떤轉換期에부닥치고잇든 當時日本의 社會的情勢가 퍽微弱하게스리박게는 表現못되엿다는것이다.\\n 이特殊한 雰圍氣를 좀더잘그렷드면 吾一이의 性格도좀더 明瞭하게 힘차게 그려젓스리라고 생각된다.또한 아버지인 庄吾의 빈둥쟁이的인無賴漢의 性格도 그때 그社會的인 連關미테서뿐 잘그려낼수잇섯슬것이다.그러나 이問題는 이映畵가 文部省과日活의 共同企畫에서 오는 原因이 아닐가 생각한다.\\n 이映畵는 日本映畵에서는優秀한地位를 차지할 力作인것은 事實이요 하번보아둘必要는넉넉히잇슬것이다.(龍潭人)\\n 이映畵는 十四日부터 市內黃金座에서 파社作品『新郞은夢遊病』과『헬렌本田』과有道通男의 애트랙숀과 同時封切\\n',\n",
       " '\" \" \"\\n悲風賦\\n（下）\\n李秉珏\\n 탱자가몃번이나 익엇드냐 오랜歲月을두고 나는수두룩한 背德을싸아왓다 五十年옛날 祖上들이 옷고름을매즐 그때 벌써너와나의슬픔은 解纜하지안헛드냐 새삼스러운일이아니다 남들이보면 청성마즐만큼 너는靑孀가튼 諦念을가젓섯고 나는헛되히 착해지랴고 열다섯해를 努力하얏던이라\\n 열세살어린도련님에게 감토와갓을쓰이고 집안이모힌가운데서祠堂에香불을피우던아침,冠禮가끗나자 홀어머니는 오래만에맛보는幸福을못이겨 눈물을흘리엿고…며칠後 가마를타고 洛東江氷板을건너 너의십에갓슬때 열일곱색씨는 百里길에지처진新郞의 잠고대롤 지키고안저서 唐紅치마주름을 헤아리다가 밤을밝혓너니라 三年이지난뒤 너는나의집엘왓고 나는 서울로 배우러 떠낫다.\\n 어머니는 이마가 넓직한아들의 꼿다울압날을 占치면서 褪色한祠堂의 단장을기다렷고 너는 雲母粉簡紙에다 파랑새를그려보냇느니라.\\n 그러는사이에 十五年이흘러가서 나는 너의 파랑새날개를찌저버리고 쉽사리 저바릴工夫를갓너라고 너잇는故鄕엘가지안헛다.\\n 그러나 너는 나보다 훨신幸福된 사람이엇섯다.어린男便을기르고 귀여워하는가운데 오랜半生을 보낼수잇섯스나 나는 사랑대신에 養務를가지고 사라왓다.\\n 올해도 탱자가익고 百日紅마저 자자지고 말엇스리라 나는도라가지안는다.\\n 印朱통과함께 너의아페 美濃紙를퍼는것은 잘쓴글시라고 洞里에자랑거리가 되던나의 禮狀紙를불사르는것이아니냐.\\n 멧뚜기 처럼맑은 平生을 보낼수는 업는가 게우처럼 유순한사랑을 가지고 늙을수는업는가하고나는 無限히중얼거리엿스나 우리두사이에 마즈막실끈을이으랴던 어머니는 罷意의歸鄕車中에서 울고말엇섯다.\\n 신이 헤여지면 압바를잣는다는어린것에겔랑 행여나 이러한우리의 슬픈來歷을 들려주지마러라.\\n 이러케 귀뚜람이가 목노코우는밤.\\n 기막히게 바람이 슬프다.\\n 가지가지의 헤아릴수업는 背德에 悔恨이 따러다녀서 견디기 어려우면 나는 淸國村사람에 가서 毒酒를마시고 잠을請하는것이다.\\n 昨年가을에 보내준 明紬이불은 친친에게 주엇고 婚姻때만든 무명이불은 올겨을에도 더퍼야겟다\\n 그러나 너손로지워진 이불이라 차저야겟다면 닥처오는겨울이 무서웁더라도 붓처줄터이다 나의體溫이 남엇거던터러라개구즌 因果의씨일지라도 자라는아기에겐 더웁게 해주자 아프로十年이지난다면 우리는늙고아기는슬프지안흔 因緣을 차저어버이들의傳說을 꿈이야기 처럼 解得치못할게다\\n이러틋 서글프게된 가을일지라도 행여 우리는 祖上들의 約束은 원망하지말자 그때는 옷고름을 맷는것이 習慣이엿단다우리는 約束대신에 알뜰한 絕綠을 가지고 이가을의 風俗이라하자 장건 슬퍼지는 생각과지나간 歲月에 엿구대처럼 마디마디 매처잇던 悔恨을 불살러버리고 청성굿고 헛던 義理는 구시월대초입사귀처럼 터러버리는게조타.\\n 그래도 쓸쓸하거든 너는보살가튼諦念올갓고……나는이러케분주한가운데서 늙기만기다리는수박게업다.\\n 다음해가을이되여 탱자가 저러케익고 슬픈바람이불 더라도다디미소리는 들리지마는게조타실상가을은 梧桐나무 열매가딸각거리고나면 아무러치도 안흘게다.\\n 中年에 버릇처럼 能熟하던生豆腐의格式은 이러케 헤여지지안는다 하더라도 인제는 所用업시 되엿던것이니 그게다 江물우에 흘러간 浮萍의모습이라고하여두자.\\n',\n",
       " '鄉土文化를차저서❺\\n慈城·厚昌編\\n民俗學資料\\n宋錫夏\\n 民俗學의 資料될만한것이 唯獨히 慈城,厚昌兩處에만 限하야잇는것이 아니로되 文化圈의範圍라든지 또는 特殊한 民俗의 傳播로 보는立塲에서 이두고장에도 相當히 注意할것이만타.\\n틀목집\\n 를목집흔 慈城 厚昌의 火田民의 家屋을 指稱하는것으로그들이 生活難으로 漸次 野地에서 高山과 橞으로 移住할때에參天한 樹木을 利器로 斫伐치아니하고 그대로 불을질너平地로만드러 耕作하는一方 原始林中에도 第一조코 쭉쭉고든 材木을 골라서 통나무채로 그끗만 조곰式 凹處를 만드러녯날우몰(井戶)처럼 十字로 交叉식히고 可居할만한 高기되면 집웅修粧을하고 그우에 나무토막을개와 代身으로 집웅을 덥는다.그리고 壁의 통나무와 통나무사이에는 흙으로 充隙하야寒氣를 막는다\\n 그리고 出入口는 南向이던지東向이던지 地理的形便에 따라서 하쭉만 만드는것이 普通이다 그러나 그것은 가장 單純한것이고 좀發達된것은 다른方面에 採光하는곳을 만든것도잇고 한층더 發達된것은 側面에出入口를 하나더만드는것도잇다\\n 如斯히 이家屋制度를 觀察하면 이를집은 움집보다는 좀發達된것이고 普通의 시골土壁집보다는 덜發達된것으로 民家硏究에는 재미잇는現象이라고하겟다.이家□은 慈城,厚昌뿐아니라 이兩郡의 隣近地方에도 比較的廣範圍로 分布되여잇는것이다.\\n(慈城,厚昌共通)\\n産俗雜信\\n 產俗에는 別般 特殊한것은업고 姙娠中에 노루고 기와오리고기 안먹는것은 他處에도잇는것이요 產後에는 금줄을 치지아니하며 다만 壽命을 빌기爲하야 長壽한 老人의 舊衣로 衣服을만드러입힌다.\\n 그리고 胎帶 끈을때에 그아버지가 이(齒)로끈는다.亦是壽命을 빌기爲한까닭이다.\\n 그리고 女兒를 分娩한때에는『妹女』라고作名하면 그다음에는 男兒를 낫는다고한다.\\n 胎帶는 三日後에 長斫불노 燒却하든지 집꾸래미(藁束)속에 너허서 流下시킨다.(埋胎는 極히稀少하다)\\n 또女兒를 만히낫는집에서 男兒를 나흐면 그壽命을빌기爲해서 女兒를 나헛다고 世人을속힌다(이도祈壽命觀念)產母에는꿀(蜂蜜)을먹인니다 (慈城)\\n産兒後于禮\\n 慈城,厚昌兩地가 모다 婚姻하는 當日에 新婦는 新郞집에于禮하야 初夜를 그집에서,자는것이 通例이며 그初夜後에비로소 見姑勞를하는것이다.그리고覲親은 到夫家後 三日에 飮食을가지고 가는데 이것은『무라지』又『시라지』라고한다.\\n 그리는데 特殊한 家庭事情으로 于禮가 몃해뒤가되고 또그間에 產兒를하야 다리고 媤家로가든지 또는 姙娠中에 媤家로 갈때에 媤家에서는 新婦床을準備하기로 產兒를 다리고오면 큰床여페 적은床은 차려주고 아즉 姙娠中이면 큰宋밋헤 적은床을차려서 그子息에對한 待接을 相當히하는것이 南道와相異하다.이는 平安道一帶에公布된 民俗인것갓다.\\n   (此條 厚昌,慈城共通)\\n발구\\n 慈城,厚昌뿐만아니라 降雪이甚한 地方에서 雪中交通具나運輸具가 相當히 發達됨은 當然한알인데 이두地方에 普遍的으로잇는것이『발구』라는것이다.이것은 普通의 牛車나 馬車의수레박휘들 업센것가튼 모양으토 牛,馬에게잡아매여서 雪上으로 通行케하는것이며 薪炭과日用도 모두이것으로 用途를達한다.\\n 이製造方法은 여름에 生나무가지를 짤나서 무거운岩石으로 一端을 눌르고 一端은 고여서 自然히 任意로 灣曲케하야 秋間에『발구』를 만드는것이다.이『발구』는 咸鏡道,江原道에서도 使用하며 江原道에서는『발기』라한다.\\n',\n",
       " '第五回聯合結婚\\n廿五日高昌敎會서擧行\\n강서군누차면 삼리고창동(江西郡芿次面三里高昌洞)교회에서 연중행사로 거행하고잇는 공동연합결혼석은 지난이십오일 동교회에서 성대히 거행하엿는데 금년은 제오회로 모두 다섯쌍이엿다 당일정오 식순에의하야 신부신랑 다섯쌍이주악을선두로 입장한후 주례목사의 선서랑독등이 이슨다음 내빈축사와 축전을낭독하고 식을페하엿는데 비용은 한집에 십원내외이엿다한다 그리고 신부신랑의 성명은다음과갓다\\n新郞 江西郡東津面岐渦市        李承燁(一八)\\n新婦 芿次面三里 金得賢(一八)\\n新郞 東津面心曾里李道舜(一九)\\n新婦 芿次面三里 金基淑(一八)\\n新郞 草里面南湖里金永福(一八)\\n新婦 大同郡古平面長光里         金仁雷(一八)\\n新郞 鎭南浦府新興里      趙致相(二一)\\n新婦 芿次面三里 金德實(一八)\\n新郞 芿次面三里 永 俊(二一)\\n新婦 大同郡古平面車里        朴仁德(一八)\\n',\n",
       " '十二月創作評一\\n凡俗한世界와文學的世界\\n❹\\n安懷南\\n 宋影氏의『鏡臺』를 盧子泳氏의『哀史』를읽다.\\n『거올 언저리에 자개장식까지 한 경대가 또 깨젓다.광대 뼈가 쑥나오도록 얼굴이 여 원 영자의 거림자까지 산산 이 흐터저 버렷다』\\n 『鏡臺』의\\n冐頭가 이러케 시작되엿다.그리고 終結이 다음과갓다.\\n『그이튼날 남편은 다시 더조 흔 새경대를 사왓다.그러나 이미 깨여진 영자의 거림사 만은 다시 마추어지지 안헛 다.영자는 그대로 늙어서 그 대로 죽엇다』\\n이것으로 이作品의 內容이 거의 斟酌된다.婚姻날 모여든손님들속에서 新郞을 보구는 법당모통이에섯는 신장낫바닥 가트다고 批評하는 소리가 들리엿슬때\\n『눈은 감어서 보이지안햇스나 그래도 웬만한 신랑감은 되 겟시 하고 속을조리든 영자 는 그만가슴이 덜컥하고 내 려안저서 눈물이낫다.여페잇 든 수모가 슬그머니 눈물을 씨서주면서 위로하엿다.』\\n 나는 이句節이 퍽조와서 두어번 더읽어보앗다 兪鎭午氏의『痴情』을 作者의 積極的態度가 보여지지안는 通俗的 뜨내기 感傷에서\\n所產된 作品이라하야우리作家들의 一層深刻한 探求的精神을 要望하엿는데 이『鏡臺』도 그러한 立塲에서 보면『痴情』과 五十步百步이다.그러나 가튼 凡俗한世界이면서도『痴情』은 常識的의 表面만 糊塗할려는 合理主羲의 手法과 表現을 가지고햇지만『鏡臺』에서는 그래도 前記 上例한바와가튼 人生의 微妙한 部面을 窺視케하는 좀더文學的인 香氣가 잇는것이다.\\n 假令 또 영자라는 女主人公이 少女時節에 將來 自己의男便은 어떠한 사람이될가하고空想을 해보는데 언니의 男便과언니男便의 同僚가튼 그런人物이면 괜찬타고 속으로 생각한다 그래서\\n 『어떤때 꿈에는 그와가튼남 편을 맛나기도햇다.그런데그 남편이 바로 언니남편과 한 사람이 된때도 잇다.그래서 비록 꿈이나마 속으로 애를썻다.『내가 어쩌다가 언니남편으로 남편을 삼엇슬가 언니가\\n오즉할사 어떠케 어머니를 맛나보나』 이러다가 깨기도 햇다.그런 뒤에는 공연히 언니를 보면 양심의 가책을 밧게되고 언 니남편을 보면 부끄러운 생 각이낫다.그래 며칠식 차저 가지 안키도햇다.』\\n 이린것도 델리케트한 世界이다.오랫동안 沈默을 직힌 作家 宋影氏의 作品으로서 생각하면 勿論 不足힌것이다.全心盡力하야 차저내인 寳物이 아니라 길을가다사 路上에서 偶然히 어더들은 拾得品의 程度이다.그러나 한편으로보면 過去氏의 모든 作品에잇서서 致命的缺陷아엿든手法의 未熟한것과 文章의 精雜한것이 어지간히 除去되어 퍽 畏濫한말을 하는것갓지만 이러한 方面으로는 놀탈만한 進境을 뵈어준다.捲土重來의 力作이잇기를 빈다.\\n 盧子泳氏의 短篇小說은 이번『哀史』로써 두번재이다.이분의創作으로 처음읽은것은 일직이『新人文學』誌上에發表되엿든嘆息의門』 이엿다.氏의 다른\\n文章은만히읽엇지만創作에對하야만은寡讀인지라다른사람들에게 意見을무러보앗드니 盧子泳氏는 有敷한유모어作家라는것이다 事實뒤푸리하여보면 己往의『嘆息의門』을 나는 故李箱兄과 더부러대골대골굴르며 愛讀한記憶이난다\\n 그러나 여기에는 커다라랠이잇다 그것은 氏가 作品에잇서서 决斷코 조금치라도 諧謔를圖謀하지 안는데 그러한結果를낫는다는것이다 氏가 어떠한이야기를하든 甚之於슬픈 스토리의것이라도 사람들은 웃고 만다는것이다 이번『哀史』亦是한개實話로 읽는다면 問題가다르거니와 短篇小說이라는 렛텔을부티고 본다면 우수웁다 萬若이러한 意味에서 氏가 有數한유모어作家라면 그 不快한名譽를淸算하기위하야 臥薪嘗膽것이다 眞正한 文學精神의 立塲우에서自己의 作品이 批判되도록文學槪論에서부터 다시奮發할것이다\\n',\n",
       " '佳緣의봄!式典巡礼\\n颯爽한新式\\n多彩한旧式\\n설레며아장아장\\n꼬리끄는백공작\\n칠보단장에눈을감고서\\n 꿈길처럼그리는한평생\\n寫眞모델—\\n舊式新郞 李 影 一\\n舊式新婦 池 蓮\\n新式新郞 金 一 海\\n新式新婦李 蘭 影\\n體鏡아페선新婦池 蓮\\n수모 徐 氏 婦 人\\n 『연지찍고 곤지찍고 국수먹고 약과먹는 조선재래의혼례식과 로헨그린음악속에 히벨1을 공작새꼬리가티 퍼드려 끄는서양혼례식과 이두가지를 우리는 여러분아페내여놋습니다.\\n 이 두가지중에 어느것이 더아름답고 더조타고 우리로서는 말씀하지안습니다.다만 이와가튼 모든의식을여러분께 제공하는것이매 조흔것 어짠은것은 여러분께서 친히택하십시사하는것입니다.\\n 요지음은 구식으로 시집장가 가는분이 퍽드니다.그리고 대개는 조선옷과 서양식을 석거서 극히 애매한채림새로 혼례식들을 합니다.\\n 이것은 결코 가장조흔례식번새는 못됩니다.그러나간편하니까 너도나도 하게됩니다.남의것을 빌어다가 제것과 뒤범벅을만늘어 예식을하니까 이건서양것도 아니고 조선것도 아닌게 퍽우숩고 오랜전통과 역사를가지고잇는 우리에겐 좀창피한일이아니오리까.\\n 그러므로 이두가지를보시고 좀더조흔안을 생각해보십시요.서양식은 현경성주재영국영사부인이 말씀하고 조선것은 민자작부인이말씀햇습니다』\\n',\n",
       " '서리마진黃道吉日\\n이結婚式은中止!\\n本妻出現으로修羅塲된徐氏家結婚式塲\\n席上暴露演說에新郞新婦側魂飛魄散\\n警官制止로擧式은中斷\\n ◇……『웨딍마—치』의 행복스러운『메로듸—』와 함께 신랑신부의 성스러운 결호식이 진행되는 식장에 신랑의본처라고외치면서 중년녀성이 미친드시뛰여들어 식장이 수라장으로되자 급보를듯고 달려온 경관이사태가범상치안흔것을알고드듸여\"결호식을중지하라\"는 명령을하게된 진기한결혼희비극한막이잇다\\n ◇……때는 이십삼일 날세도따스한오후세시쯤 지나서 부내태평통(太平通)부민관에서는 부내염리정(鹽里町)일백오번지의칠십칠호서원회(徐元會)(三二)=가명=라는 신랑이채옥히(蔡玉姬)(二一)=가명=라는 신부와 결혼식을거행하고 잇섯는데 난데업시경기도장단(長湍)출생의 송정숙(宋貞淑)(三三)이라는 구식여성이 머리를 헤트리고미친드시\"십삼년동안 동거하는본처를 결혼신고가 업는것을기화로 다른녀자와결혼을한다\"고 고함을 치며식장문을 박차고 뛰여들자 식장문에서 접대를하고잇던 사람들이 이를 구지막어 못드러오게하여 큰승강이가나서 순식간에식장문압헤는 구경꾼이 빽빽하게 둘러싸게쯤되엿다 일이이러케되니까 부근 태평통파출소순사가 급보를듯고 달려와서 그여자를 적극만류하엿스나 식장은 발서 소란하여지고 버젓한새신랑인술 알엇덧 신부측에서도 떠들고 이러나서 식장이갑작이 수라장으로 화하고말엇스므로 경관은 드디여 결혼식중지명령을 발하고말엇다\\n',\n",
       " '江陵法院에珍訴\\n멀쩡하사람병신이라고햇다고\\n  新郞이丈人거러提訴\\n결혼은 햇는데 여자가동침을 거절할뿐만아니라 도무지 남편의집에와서 살기조차거절하므로인해 소송을제기한사건\\n 양양군 토성면백촌리(襄陽郡土城面栢村里)김효형(金効榮)가명)(二六)은 작년십이월십팔일 동군손양면 송현리(巽陽面松峴里)임성여(林姓女)(가명)와 정식결혼후 이래동거하는중 몃번이나동침을 요구하엿스나 임성여는종시 그요구에 응치안흘뿐아니라 나종에는 자기친정으로 도망해버렷는데 그후임성여의 부친 임이수(林怡洙)(가명)는 내용증명으로『너는나면서부터 무성욕자(無性欲者)인 고자이기때문에 이에결혼을 해소한다는절연장을 발송하게되자 이에놀난 신랑은 그의전후사실을 열거하야 강릉도립의원외과에 가서 자기가 고자가아님을 증명한남어지 이진단서를 첨부하야걍릉읍내 영목(鈴木)변호사로하야금 손해배상금 일천원의 청구소송을 지난 십구일 강릉지청(江陵支廳)에 제기하얏다 그런데신랑은 원래 고환(睪丸)이배(腹)에감추어저잇기때문에 이상과가튼 고소문제까지 이르게되엇다한다\\n',\n",
       " '華燭洞房祝宴의\\n\"最後꼴\"은留置場\\n섯불리新郞달다이꼴\\n 신랑달어먹다가 무전취식으로유치장구경—십륙일밤 열두시경종로서에서는 박효환(朴孝煥)(二四)외두명의 청년을 무전취식으로 검거하엿는데 그들은 서린정(瑞麟町)칠십번지 최윤재(崔允在)가 결혼을 하엿스므로그를데리고 동명관(東明舘)에서오후 네시부터 열두시까지 이백이십원어치 요리를 먹엇스나신랑집과 신부집에서 요리갑슬치러주지안흐므로 무전취식에걸려 유치장으로들어가게된것이다\\n',\n",
       " '『기트리—』氏結婚\\n불란서 연극게(演劇界)의 괴재(鬼才)로서 이름노픈『삿샤·기트리—』씨가 이번에 본치를이혼하고 또다시 네번째의 신혼을하엿다.『기트리—』씨는 금년 쉰네살로서 이미 우리에게도『\"트람프\"담(譚)』으로서 익숙해진 노련한예술가이지만 이번에 새로마즌 씨는 안해는 방년 십팔세의 아리따운 아가씨다.이름은『쥬네비—브·드·세레비르』라고하며 여지껏 보잘것업는\"엑스트라·껄\"이엇섯는데『\"트람프\"담』에 출연한것이 인연이되어 마침내 오늘의해복을 차지하게된것이라한다.\\n               (사진은 新郞『기트리—』氏와 新婦『세레비르』孃)\\n',\n",
       " '同福行\\n4\\n俗謠收集\\n方鍾鉉\\n 장마인듯 비는 부실부실나리어 끄칠것갓지안타\\n午前八時半에 同福面事務所로面長을 차젓더니意外에 病中이라고집으로 가서보라고한다\\n 和順郡守가 마침城大同窓인玄錫虎氏이엇스므로(至今은興亞院事務官이되어잇다)이玄郡守의紹介狀을 가지고 面長宅을차젓더니 六十七歲의老齡으로病席에서 만나주니 아모리일이重타기로니 病中에까지시끄러움을 끼침은 참으로 미안하엿다 親切하게도 그事務所에서 일보는 吳然景氏를紹介밧게되어 이同福邑의 모든事情은 純然히 이 吳然景氏의 勞에 依하여 求得한것이라고하겟다 特히 同福邑에서民謠等을 採集한데잇서서는더욱 그러타\\n 吳然景氏의 案內로 寒泉里가는길南쪽에서 南德院碑를뒤저보고 그洞里에 드러서면서李某家에 傳해오는 嘉慶二年의 年記를 가진 家系譜를보앗다 또 이同福의 特產인 麻布에關한 意見을 드르니 春分에播種하고 小暑에 刈取한다고한다 대칼로다 麻葉을 落下시켜서作束하고 삼꿋을하되 잔돌을 불에 달게하여 그우에다麻束을 세우고 끌른물을 부어서 삼을 익킨다 이것이近日에는 改良되어 큰鐵板의大釜에다 삼게되엇다고한다 이리하여 삼배(麻布)를 짜내기까지는 相當히 품이 드는順序가잇다\\n 먼저 이近方農村에서 이거가는 조(粟)가튼데 無數히모혀드는새떼를 멀리 날려쫏는때 부루는 새쫏는 노래가잇스니 이러하다 후여 후여\\n 새야 새야\\n 진주 고부 녹두새야\\n 녹두바테 안지마라\\n 네나 내나 까묵을꺼\\n 하나업다\\n 누른밥 딱딱 후여\\n물레노래를 보면 이러하다\\n 잠아 잠아 오지마라\\n 씨어멍이 눈에나믕\\n 님의눈에 절로난다\\n 물레는 줄로돌고\\n 씨앗이는 귀로놀고\\n 잣든물레 病이 나믄\\n 창꽤꾹익 약일러라\\n며느리노래를 보면 아래와갓다\\n 암탁가튼 씨어멍이\\n 뒷동산 살가지나\\n 물어가고\\n 악대가튼 씨아바니\\n 인왕산 오랭이나\\n 물어가고\\n 참새가튼 씨누년은\\n 뎌루나 달칵\\n 차갑소\\n 감장시야 감장시야\\n 왜들말고 감팔아라\\n 고초가튼 시어머니 열때차고 바테갓다\\n 성님성님 사촌성님\\n 나왓다고 기념마소\\n 쌀한되만 재첫스면\\n 성도묵고 나도묵고\\n 꾸럭물이 남엇스면\\n 성소주지 내소준가\\n 누룬밥이 남엇스면\\n 성개주지 내개준가\\n 성네집은 잘사라서\\n 놋렵시로 담장싸코\\n 우리집은 못사라서\\n 밀누룩 듸더서\\n 담장 쌋는다\\n新郞 新婦問答이 이러하다\\n 『新婦』어제오는 새신랑은\\n 마상바람 곤하기도\\n 할뿐더러\\n 잠만잘랴 왜겟는가\\n 『新郞』네나 얼마 여지덤사\\n 오늘저녁 잠을자랴\\n 『新婦』문명기 한삼소매\\n 반만들고 나를보소\\n 문명기 한삼소매\\n 반만들고 내다보니\\n 떠오르는 반달이라\\n 『新郞』닥카닥카 울지마라\\n 날아날아 새지말아\\n 『新婦』오늘밤만 밤이런가\\n 오늘날만 날이런가\\n',\n",
       " '結婚禮式의新型兩題\\n九雙의聯合結婚\\n江西芿次面서여섯번째擧行\\n 청춘의 참다운즐거움이 한자리에 란만히피는연합결혼식이 이십사일 정오부터강서군누차면고창교회(江西郡芿次面高昌敎會)에서 성대히 거행되엇다 이와가튼형식의 결혼식은 그교회의독창적 행사로이미회수를 여섯번거듭하는데 금번의 신랑신부는 다음과가튼 아홉쌍의 원앙의화촉지전으로 특히강서군수 홍헌표(洪憲杓)씨와강서읍감리교회목사 송정근(宋貞根)씨와 본사평남지사징 우호익(禹浩翊)씨등의 축사가잇서식은한충의미기픈것으로 그들의압날을 축복하엿다\\n新郞新婦氏名\\n(金東燮吳玉善\\n(張仁燮金景實\\n(金孝澈金孝烈\\n(李元堯金眞善\\n(鄭東煥高敬福\\n(金鳳洙安順貞\\n(李應道金信愛\\n(金致珍郭松鶴\\n(金能五金允中\\n(사진은신랑신부)\\n',\n",
       " '우슴쌈지\\n▲不幸?\\n新妻『여보 긴상이 우리결혼에 비싼선물을 햇구려』\\n新郞『허!긴상의 춘부장이돌아가섯슬때 내가부의를 햇더\\n 니 그사람도 이번에 피차의 불행을 위로하자는뜻에서 보 냇겟지』\\n新妻『??』\\n',\n",
       " '▽…소문논=\\n亡命者結婚\\n『나치쓰』獨逸當局으로부터 非獨逸的이라고해서 彈壓을밧고 米國에避難한 獨逸文豪로서『노—벨』賞受賞者인『토—마쓰·만』의令孃『엘리자벳·베로니카·마』孃은 이번에『시카고』大學文學部敎授『쥬—젯페·안토니아·볼줴—제』博士와 當地에서結婚式을擧行햇다 新郞『보』博士는『파씨스트』黨에 忠誠을誓約하기를 拒否한까닭으로本國을쪼셔난伊太利人이다 이結婚은 亡命者끼리한 結婚이라고해서 소문조와하는 米國이라매우굉장햇다한다.\\n',\n",
       " '慰藉料請求\\n매만마진新郞\\n 결혼날,아름다운 신부의모양을그리면서 장가들러갓더니 기달리고잇는것은 신부가 아니고장성들의 매찜이어서 매만실컷맛고 돌아왓스니 정신상으로은 타격에대한 위자료와 결혼비용을내라고 소송을 제기하신랑될뻔댁이잇다 강화군강화면갑관리(江華郡江華面甲串里)삼백구십오번지 남궁진(南宮塡)(二〇)은 김포군양촌면마송리(金浦郡陽村面馬松里)삼백이번지 구연히(具連喜)구연식(具然軾)을 걸어소해배상과 위자료 일천일백구십구원팔십전을 내라는 소송을이십륙일 경성지방법원민사부에제기하엿는데 그이유는 다음과갓다 원고는 피고구연식의맛딸구리서(具利書)와 약혼하여 작년십일월십삼일 결혼식을하기로되여 그날원고는 말을타고 신부집에 갓더니 신부는 간곳업고아무이유업시 구연식과 그의조부 구연히가 원고를모욕하며폭행을하며 결혼을못하게되엇스니정신상타격에대한 위자료칠백원과 결혼준비비용사백구십구원팔십전을 내라는것인데 그이면에는 또어떤곡절이 잇섯는지공판이또주목을 끄을모양이다\\n',\n",
       " '銀幕千一夜話\\n⓱\\n新婦는\"아베마리아\"를부르고\\n新郞은\"새타령\"을하고\\n文·畵\\n安夕影\\n『아베·마리아』는 박부인(미래의)이 햇다.이에향응이 업슬수업슬것이니 신랑기재군이 새타령을 햇다 수집어만하던 박군이 어디서 그런 용기가 낫던지 음악전문가들인 여성들아페서 기탄업시 그러케 맵시잇게 새타령을 할까.\\n 만장이 박수다.이 즐거운 시간은 박군에게는 너무나 짧엇는지는 모르나 신부될이의 그전날밤의 안타까운 심정이 그얼굴에 아로삭여잇섯다.\\n 젊은 아가씨들의 우슴속에서박기채감독의 꼿다운 약흔식은끗낫다.화원(花園)에서 깃드린꿈이 오래일지저—.\\n 음악회에서 파해나오는 사람들이 부민관의 돌증게를 나려올때 두사람의 그림자가 가까이 움즉이엇다.\\n 눈길을 두사람이 걸어갓다.기숙사 창에 기대어 노래를 부르는 그여자의 노래는 애처로웁다.\\n 그러나 괴로워서 하는 노래도 아니요 슬퍼서도 하는 노래도 아니다.어서어서『스윗홈』을 이루어지어다——하는 노래다.\\n박군의 하숙에 웃층으로 올라가는 층게 아페 조그만 구두가 뺏두룸하게 노혀잇다.오늘도 그여자의 오어씨가튼 두발이 이층게를 올라가서 박군의방으로 자최를 감춘것으로 넉넉히알수잇다.\\n 내가 박군에게 갓슬때 내가그려준그림(여자를 그린것)이퇴색되엇슴을 보앗슬때 이미 박군의 방에서는 그그림이 소용업슴을 알앗다.내그림의 생명이 짜르더라도 박군의 사랑이길기만 바라고 어서 아들올나코 딸을나아서 아버지가 되고아버지로서 영화를 만들게 되기를 바랏다.\\n 나는 박군의 장래를 축복해오던 사람 그가 미운 점이잇스되 나의미운 점으로 메꾸고 그도 역시 그러케 지내온사이에서 그가 어제 가정을가지게되고 자기의 예술우에 새로운 손님이 차처오게되엇슬때기쁘지 안흘수업다.\\n 고향친구도 가닌한 예술가와는 거리가 멀다.\\n 박군의 하숙에드나들던 사람들박군이 그사람에게 이바지해서지금에 남은게 무엇이잇든가.\\n 그러나 옛말과 가치 애술은길다.그들이 그대의 일생중에그대의 발아플 지나간 사람들이니 그들이 그대의 작품에서뚜렷이 생생하게 나타날날이잇슴을 나는 기뻐한다.\\n 조선의 영화게에서는 누구를미더야할지 모르는데다.\\n 그대 자신외에는 아무도 업다.또한 그대의 가정이 잇슬뿐이다.\\n 그대와 나와는 서로안저 이야기 하가면 슬픈 말이만타.\\n 그러나 또 우스운 이야기도나오지안는가.\\n 이번에 유정(有情)은 크게성공할것이다.또 그러케되지 안흐면 안되는 때가 아닌가.\\n 그대의 결혼식에 아무나 청하지말라.\\n 깨끗한 사람,의리가 잇는사람,참으로 그대의 결혼을 축복하는 사람만 청할것이다.\\n 단 하사람이라도 조치안흔가그런 사람도 업스면 그대 들이만 그날을 마지하라 그대두사람외에 그마당에서 지실을가질 사람이 누구이든가?\\n',\n",
       " '結婚一週만에\\n新郞自殺\\n결혼한지일주일박게안되는가장아름다운 꿈속을 더듬어야할신랑이 돌연 자살한비극의한막=북청읍동리 이모(北靑邑東里李某)의 셋째아들이주삼(가명)군은 약일주일전에 결혼하엿는데 무슨말못할 괴로움이숨어잇섯든지 지난십삼일아침 북청읍동리 산솔밧속에서 목을매어자살하엿는데 그는남달리 유복한가정에 태어나서 무엇그리울것업시 생활환경은 극히호화로웟고 결혼한신부도 신여성중에서도 미모의소유자로 평이노픈인테리—로 그들의사이는 인생의청춘을마음것 구가하며 매저진연애결혼이므로 결혼에 아무불만이잇는것갓지안타고한다\\n',\n",
       " '風俗隨感\\n上\\n持㕘金\\n金南天\\n 平壤사람은 아들보다도딸낫는것을 기뻐한다는 이야기가 퍽 前부터『내려오는말』로서 傳해저오고잇다.이러케민 드르면 사내아이만을 重하게 떠바뜨는 세상에서 平壤사람이야 말로퍽 開明한 人士들이하고생각하실분이 게실런지 모르나 그까닭이 실상은 平壤附近에서 出生한 우리들로서는 저윽히 名譽롭지 못한 수작이어서 딸을나흐면妓生에 부칠수엇고 이러케되면 딸하나가 아들 열놈은 당해 낸다는것이 說明으로 되어잇는것이다.\\n▼……이것은 勿論 平壤에妓生이 흔하다는 事實을가지고 平壤사람에게 辱을줄려고 맨들어 내인 造作의수작이겟지만 平安道산꼴로가면 얼마前만 해도 아닌게아니라 딸나흐면 千兩버리햇다고 慰安하는 말이업지는 안헛던것이다.妓生을부치는것은 아니지만은 婚姻하기前에 新郞의 집으로부터 先綵와함께『바느질싹』이라는 名目 其他로 金品을 보내는것을 두고말하는것이니\\n▲……이것이 실상은『딸을팔엇다』던가『며누리를삿다』던가하는 印象을주게되는것이오 또 下流層에서는 이러한 買賣의 關係가어엿하게 이루어저 오든것을 우리가튼 젊은사람의눈으로도 親히볼수가 잇섯던것이다.不幸히 그들의 結婚이 中途에서 破綻이 생길때 이金品이 爭訴꺼리까지 되는것을 우리는 여러번 볼수잇섯던것이다——要컨대 이때의 이분들의風俗으로서는 시집갈때 新婦와함께 따라가는 요즘의 所謂『持參金』이라는것은 別로 생각쪼차 되어지지 못하엿년 모양이엇다.\\n ▼……그런데 요즘의서울서는 平安道산골의 투박스럽고도 非開化的인 그러한風俗과는 正反對의『持參金』이 적지안케 流行하고잇는것을 볼수잇다 나는 일찌기 高名한 女流名士의한분이 요즘의 靑年들을 訓戒하는 氣焰가운데서 持參金을노리는 靑年男性의 墮落된心理를 指撣하고잇는자못激烈한 文字를 어더본일이잇섯는데 이러한 風俗的인現象이란 靑年의 心情上反省如何로써 어떠케되는것이아니라 그原因이 좀더 기픈곳에 엇는것임을 깨달을必要가 엇다고 생각하지안흘수는 업섯다.\\n ▲…妻家의 權勢나 功과出世가 一種의美德으로 되어잇는 社會,그리고 靑年의 揚名出世를保障하는것이權勢나 金力以外에는 업는세상에서는 女流名士의 號令쯤으로 根絕될수업는 하나의 社會心理인것을 깨달을必要가 잇슬것으로 생각한것이다.如何히 高潔하고文明한 나라의 靑年일지라도 制度의法則이 주는 社會心理에서 떠나서 自身의未來를 設計하기란 至極히困難한일이기 때문이다.\\n ▼…『발작크』의小說을읽으면 十九世紀의 佛蘭西上流階級이나 市民階級에잇서서 女子의 持參金이 얼마나한 힘을가지고 잇는가를낫낫치 알수가잇다.『포피노』伯爵은 持參金이 적어서 自己의 며누리로『마르비르』氏의 令孃을 마저드리기를 承諾하지 안헛스나얼마뒤 令孃의『嫁資』로서九十萬『프랑』의地所와 二十五萬『프랑』에 該當하는邸宅이 부치어 젓슬때 그는 여러가지 缺點에도 不顧하고『마르비르』氏를 查頓으로 맷는것에 滿足을表하고잇다.\\n▼…『앙드레·모로와』氏가媒介結婚이 自由撰擇의結婚으로 \"바뀌어지고잇는佛蘭西의 現象을說明하면서 그理由와原因의 한가닥을『持參金과門閥의失權』에서 찻고잇는것은 上述한것과 符合시켜 생각할때 퍽도興味잇는일이 아닐수 업섯다.氏는 그의 結婚에關한講演가운데서『이러한 進化는財產을 만든다던가 그것을保存한다던가 하는생각이 가장 架空的이고 또가장어처구니업는 생각으로 되어버린데도 起因하는 것이다.우리들은『너무나 急激한變化와 뜻하지안헛던 沒落을구경한때문에』持參金과門閥이 그처럼 永久的이아니라는것을 알게되엇고 이리하여 媒介結婚보다도 自由結婚이普及化되엇다고 말하고잇다.\\n▼…그런데 요즘서울서는自由戀愛結婚이 그前처럼流行하지안는것으로보아 그리고『持參金과門閥』의 勢道가復活된것으로보아 風俗은오히려\"발작크\"의 時代와도恰似한感이 잇다.우리朝鮮靑年들은 요즘의 歐羅巴靑年들처럼 金權의『急激한變化와,뜻하지안헛던沒落』을 그다지 만히 구경하지못한것이나 아닐까.不幸히앙드레·모—로와氏의 明敏은미처 조선靑年의 複雜한社會心理에 까지는 言及함이업섯다.\\n',\n",
       " '逸史詩話\\n李昇圭\\n八鼈의奇夢(一)\\n 李縣令公麟은 高麗李益齋齊賢의後孫으로 李朝世宗時에醉琴軒朴先生彭年의 女婿가되엇섯다 처음醮禮하든날밤에 公麟이新房에들어 잠을자다가한꿈을어덧는대 老弱八人이 公麟의아페와서 공손이절하고請하여가로대 우리가 將次죽을땅에 나가게되어서 命이頃刻에잇스니 公이만일우리들을살려주시면 後日에그恩德을 갑겟다하거늘 公이놀라깨여서新婦의게물으되 이집에무슨 生物을잡어다 노흔일이잇느냐하니 新婦가부끄런態度로 가만이말하되 仔細히알수 업다하엿다 公이新婦에게 나아가알어보라請하니 新婦가 나가본즉 그때마침 그의母親이 饌婢를다리고 來日아침에 女婿를供饋할 饌需를장만하랴하는대 자라(鼈)여덟마리를 끌른솟에 집어너흐랴하거늘 新婦가急한말로 그자라를솟에 너치말라하니 그의母親이 責望하되네가 只今新房에 들은새댁으로어찌 무단이 나와서 무슨일을 干涉하느냐 곳들어가라하엿다 新婦가 엿자오되네!곳들어가겟습니다 그러나 저자라는 조금만 참어서 솟에느흐시기를 바라압니다 하고新房에들어와 新郞에게그事由를말하니 公이急히新婦를다리고나와서饌婢를불러말하기를그자라 여덟마리를 하나도빼지말고漢江물에 집어너흐라 만일나의말을 듯지안코 그자라로나의 飯饌을 하여준다하면나는그것을 먹지도 아니할것이오 平生에妻家의 飮食은接口치아니하겟다하고 新婦를다리고다시 新房에들어갓섯다饌婢들이서루수근거리면서 말하되첫날도 지내지아니한새서방님이어찌飯饌맨드는것을참견하는가 이당음에는 퍽이나잔소리가만켓군 새아가씨가 저시집사리를 어떠케하시나하엿다그母親이 하도異常히 생각하여 男便되시는 朴彭年氏를請하여 그말을 一一히 告하니朴公이 그말을듯고 곳그자라를 江물에노으라命하엿다 그中에 한마리가뛰어가다가 小奚의鍾에찍혀 목이부러저죽엇다 그날밤에또七人이 公麟의꿈에와서 無限히 謝禮하고갓다 그後에公麟이 八子를運하여나앗는데 이름을鼇,龜,黿鼈,鼉,鯨,鯤이리하여 夢中의祥兆를 記念하엿섯는데 至今까지 八鼈의 子孫이 極히繁昌하여 名公과巨卿이 代代로 끈침이업고 그子孫은 자라를 먹지안는다한다.\\n',\n",
       " '八面鋒\\n 米國은 石油와 쇠소박으로愛態,英國은 通商協定으로 낙시질.\\n 크레므린宮의新郞 스탈린,大體어데로 장가드려는고.\\n 英空軍이 獨逸의空襲을 잇지안는 理由는 攻擊업는 守備가 업는까닭이라고.\\n 二學期도 迫頭,學生諸君부대 工夫잘하오,父母의希望이오직 그대인술 아는가.\\n 今夕 本社在職中逝去社員 追悼會.\\n 옷깃을 염이고 다시금 冥福을 빕니다.\\n',\n",
       " '◆新郞新婦海州美監理敎會傳道婦人朱崔壘氏의令胤金明信君(廿二歲)과同敎會牧師朴季和氏의令愛朴敬信孃(廿一歲)은去五月十五日南本町禮拜堂에서結婚式을擧行하얏는대新郞은京城培材高等普通學校를卒業하고延禧專門學校에修學하던秀才이요新婦는海州懿貞女學校高等科를卒業하고京城梨花學堂에서修學하던才緩이더라(海州)',\n",
       " '早婚의弊害와其責任者\\n小泉  趙 宇\\n現今우리朝鮮의婚姻하는狀態를觀察하면 참으로말 할수업 시悲慘한地境이오볼수업시鄙劣한光景이외다아｜是何原因인가？저所謂桂閥貴族으로爲始한早婚의惡習弊俗은决水의急勢로어느덧全社會를風靡하고全民族을感染하더니今日에至하여서는貧富의分과貴賤의別이업시常事로例行하게되야畢竟口生乳臭의兒로結婚함을聲譽門의一大美事로自信하며富豪家의無上誇張으로認識하게되엿스니吁噫라社會의法制가如斯히解弛하고人民의禮義가如此히墮落하고야社會가아모리繁榮하려한들엇지可能하며人民이아모리幸福의生活을得하려한들엇지容易하리오\\n玆에그婚姻하든眞相을簡陳略說하면新郞側에서新婦될女性을選擇할새果然盲目的이다그心意의善否와容貌의德不德과禮肢의具不具는何如하엿든지但只그家門이聲門이오그家產이富饒만하다면年齡이야相適하던지마던지熱狂的으로直히求婚하며女子의側에서도亦是同一한貌樣으로門閥과家產만重視하야그處地가都會면料理店、鄕村이면酒幕갓흔곳에서蹰躇업시許婚하면서醉眼이朦朧하야『馬上許婚이男兒의一大快事』라고豪語한다(此는우리社會全般이다그러함은아니나多部分은如此한狀態下에서結婚한다는말이라)그리하야新郞될男子가겨우十一二歲만되면家庭의一大榮華라하야婚禮를擧行하나니是는우리社會無產階級에잇는極貧家庭을除하고는全般이依例히行하는慣習이되엿다그럼으로夜呼母乳하게된新郞이新婦를自妻로알지못하엿고芳紀의新婦는閨中孤燈下에서悲愁歎息을不禁케하얏스니痛哉라이도또한父母가子女를사랑하노라고한일이될가？\\n如斯히不法制無禮義한强制婚姻에神聖한戀愛가有하기萬無하며和樂한家庭을成立하기至難할것은必然의勢｜며不避의事｜라그럼으로禮義上不可忍行할離婚問題는逐年增數하고人道上莫能容許할蓄妾의弊害는月衍日甚하야社會의風紀는大紊亂에至하고國民의理性는大放蕩에陷하얏다如此한危機에實로社會의將來를憂慮하고同胞의現狀을悲觀하는志士가되여서默視未忍함은當然한事라그러함으로雄健銳筆로新聞雜誌上에百弊를解說하야萬善을補할가하야千罵萬諭로心血을用盡한文士가一再가아니엿고또淊淊 辯으로舌端唾液이盡渴하고背脊에流汗하도록力說唱道한演士야말노不可勝數하얏것만尙今까지効를見치못함은姑舍하고漸漸尢甚한狀態이니哭哉라文句言辭에覺醒치못하는民族이將且무슨偉大한勢力의소래에覺醒할넌지？\\n此早婚의責任者父老諸氏는『三十而有室』이란古經을晝夜朗讀하면서엇지하야書自書我自我로『十有二三而有室』을美事誇張으로盛行하며또『婚姻은人生의最大重事오夫婦는萬福의源』이라橫說竪說하면서엇지하야輕忽히馬上許婿을快男兒의事爲』로誤認하는가？覺醒하라！우리朝鮮父老는新思想과新制度가意思에適合치못하야一朝에革新키를不嗜하거든此婚姻一事에對하여서는차라리舊法을遵行하라그것이도리혀今日에行하는制度보다는弊害가적을가하며또乳汁의兒孩로豫婚을相約하는所謂待婚을絕對로말지어다爲先生死도未辨하려니와그襁褓의兒가將來發育에如何히될는지그와갓흔愚算妄行을하는가？저남들은神聖한自由婚을爲主하는이時代에口生乳臭의幼兒로婚姻함은實로社會를爲하고民族을사랑하는우리들의痛歎을不禁할바이로다\\n그런대爲政當局에서萬般政治를完補無缺히한다할지라도此早婚의惡風이莫甚한今日에晏然히默視함은무슨理由이며무슨心情인가？民籍法에男子는十七歲로女子는十五歲로婚年을定하엿다하나今日까지徹底하게施行치아니하니婚姻法은一種虛文에不過하엿다若此早婚하는弊習을嚴切히禁止하엿드면早婚의弊害란말은발서未聞에歸하엿스련만視而不見하는態度로默許하여오기때문에그十七歲란法定婚年이申告年限이되야서弊習은日去益甚하나니그럼으로筆者는우리朝鮮父老의正覺이無함을歎息하는同時에當局의政治기徹底치못함을哀呼하기를不己하노라\\n終에一言으로渴望함은早婚을勉行히는諸氏는社會의將來는不顧할지라도子女만眞正으로사랑하거든木牛竹馬만들기로日課삼는兒童으로婚姻하지말며또政治當局에서는朝鮮民族을根本的으로爲하고眞心으로사랑하거든爲先政治를徹底히하며取調를嚴密히하야今日부터라도如斯한惡風弊俗이업도록하기를懇願하노라\\n(六、七日)',\n",
       " '●新郞新婦\\n元山禁酒會長金利鉉氏의長女玉淳孃과本社城津支局長康熺元氏第四子昌俊君과本月七日下午三時德源郡新豐里長老敎禮拜堂內에서結婚式을擧行한바元山德源兩府郡의紳士淑女數百人이參列하야一大盛况을 하얏는대新郞은京城徽文高等普通學校卒業의秀才이오新婦는進誠女學校高等科를卒業한才媛이더라(元山)',\n",
       " '雜記帳\\n(一)\\n覆 面 冠\\n두소박덕이(一)\\n貞姫와玉姫는兄弟이엿다\\n貞姫는발서나히스물여섯이나되고속을너모썩이인탓인지임의얼골에는잡틔가생기며살결이매우말못되야저서한三十가량이나되야보힌다\\n貞姫는열네살되는해봄에忠淸道公州어늬老宰相의망내며나리가되야갓섯다\\n그때에는온집안식구들은無論이어니와동네집구경꾼들까지도八字가느러젓다고입에침이마르도록貞姫의有福함을칭송하얏다\\n貞姫는마참내어머니와玉姫를뗴치고낫모르고뜻모르는新郞을조차公州로나려가고마럿다\\n公州로나려간後의貞姫는매우외로운生活을하기에이럿럿다\\n어머니는가튼어머니라면서도싀어머니는아모럿튼지마음에좀스스럽고어려워서아모조록은그의압흘떠나고만□□□랑이라야인제간신히열두□□□아니된어린아해이라심심하면먹을것이나내이라고심술만피기로일을삼으니貞姫는속절업시거는방구석에서덧업는 세월을꿈결가치 보내일뿐이엿다 그러나貞姫는 싀父母에게던지 아모리 아직어리다하나 그난편에게 던지매우사랑을밧고지내엿섯다\\n어나덧세월은情업시흘너서貞姫의남편이열다섯살이되야그곳普通學校에를뒤늣게入學을하게되야항상동모들에게 끄들니엿다고울며드러오든상투를잘너바리고마럿다\\n사람의마음은 믈과가튼 것이라이때까지孔子曰孟子曰하든貞姫의남편은 차차日本말마듸도 배우고 세상형편도짐작할만콤 되드니 어느틈에日本東京이 좃타는말을듯고바로 열여덜살되든해봄에그아버니의 손그릇을 뒤지여數百圓의돈을흠치여가지고東京으로다라나바리엿다\\n그가東京으로다러날때에도오직貞姫에게는 부대々々 잘잇스라는情書와 돈五十圓을 주고간일이잇섯다\\n그의父母도하릴업시學費를대여주어工夫를식히기로定하얏다\\n이리하야貞姬는異性의對한愛着心이막피여날때에그남편을다시東京으로보내게된것이다\\n每年夏期放學때이면한번식만나보는貞姬와仁煥(貞姬남편의일홈)은매우多情히 지내이다가번번히섭々한눈물가온대에이별을앗기엿섯다\\n그러나그와가튼사랑의꿈은마참내깨여지고말게되얏다\\n仁煥이가東京가잇슨지삼년이되든해봄에風聞에仁煥이가東京에서京城某實業家의딸노目下女子美術學校洋畵科에다니는金英子라는女子와相想의戀情이매우도타워젓다는놀나운말이貞姫의귀에드러왓다\\n貞姬의落心과悲痛은일커를길이업섯다그러나오직홀노울고답々하야할뿐이지다른도리는업섯다果然그해녀름에집에도라온仁煥의態度는매우冷々하얏섯다\\n前갓고보면日本서올때이면別々가지日用品도만히사가지고오고집에와서라도틈만잇스면貞姬의방에드러와자미잇는리야기를하기로한樂을삼든그는고만집에오든날부터貞●의웃는낫에冷待를하는意味의눈을흘기기를始作하더니졈々態度가惡化하야저서空然한트집을잡어가지고『無識한女子는하는수업는이！』『무슨염치에남의안해노릇을하려고하느니』하며사々히 모를잡아가지고핀잔과虐待로일을삼게되얏다\\n貞姫는밤마다피를짜아내이는듯한눈물과가삼을어이는한숨으로날을밝키게되얏다\\n仁煥의父母도이눈치를모르는것은아니엿스나엇터케하는수업다는運命觀아래에오직傍觀만할따름이요혹잇다금가다가貞姫의싀어머니되는이가 仁煥을보고『글세네댁의방에좀드러가보렴으나｜엇저면마음이 그럿케 변하얏늬』하며섯부른말을하다가도『글세어머니는별참견을다하시는구려｜天下에子息은일즉성취를아니식할것이왼다！』하는 핀잔을맛고고만기가맛키여아모말도못한적도만앗섯다',\n",
       " '新郞新婦\\n去二十五日上午十一時에仁川內里禮拜堂에서同敎會金牧師引導下에盛大한結婚式이有하얏는데新郞은日本에留學하얏든金壽範氏요新婦는仁川私立永化女學校敎師金德世라더라\\n(仁川)',\n",
       " '橫 說 竪 說\\n▲曩者에總督府에서調査會를開하야審議를行하얏다는敎科書朝鮮文綴字法에對하야昨日總督府로부터其成案과調査會의經過를發表하얏는대其成案의適否에對하야事가學術에涉하는故로到底히橫說竪說로는論議할바가아니다▲此에對하야는別로히正論直言할機會가잇겟지마는發表書類를一瞥하건대從來總督府敎科書에採用하던綴字法과比較하야改善한點이라고特히推奬할것을發見치못하겟고▲又□調査會의經過에關하야도委員中에異議가多하고反對가甚한것을不計하고總督府의原案대로維持한形跡이顯著함은奇怪한事이라이러케하야서는調査會를開한効果가果然무엇인가▲調査委員이라는것은結局新郞行次에新郞廳使令밧게못되는一備員에지나지못하얏던모양이다이러한調査會에가서입에침을말니지말고祔廟時에差備官擧行이나잘運動하얏더면華麗한金冠朝服이나이어보앗지▲既爲調査會를開設하는以上에는可及的其意見을採用하는雅量이잇기를吾人은總督府當局者의게希望한다敎育調査會、敎科書調査會와將次開設될產業調査會等重大한關係가잇는此種調査會에關하야吾人은特히希望한다',\n",
       " '七十歲의新郞\\n미국로동왕이\\n새로장가를가\\n칠십늘근이가 새로히 장가를간다함은 아모리하야도 자미스러운소식이다 미국로동조합댱(米國勞働組合長)으로 미국의로동자를 좌우하다십히하야 로동왕(勞働王)이라하는 별명까지 잇는『사미유엘·삐·콩파쓰』씨는요사이『뉴욕』에사는『카｜돌트·노이세라｜』라는과부와 혼약을하고미구에 결혼을한다는 일을공표하얏다 그런데 콤파쓰』씨의본처『소피아·쭈리안』은 영국서울『론돈』에서 나어가지고 여덜살에 미국으로와서 열여섯살에씨와결혼을하야작년오월에죽엇는대『콤파쓰』씨는당년이칠십이오역시 영국츌생이라더라\\n(뉴욕뎐보)\\n사진은 콤파쓰씨',\n",
       " '新郞新婦華燭盛典\\n今般新設한順天私立梅山學校敎師崔南立君과同女學校敎師金世羅孃은去四月二十九日下午五時同學校大講堂에서李基豊牧師執禮로盛大한華燭의典을擧行한바當日新郞新婦의親戚은勿論이어니와地方敎友及米國宣敎師와多數한男女學生의參列中에禮式을順成하얏는대且方在復興傳道次來臨한金弼秀牧師의出席은一光彩를增하얏더라新郞은光州農林學校第一囘本科出身으로光州地方靑年界의中堅的人物이오新婦는平壤崇二女學校를卒業한才媛으로共히新設梅山學校의男女學班의敎鞭을分執하며今日의佳緣을作케된것은또한偶然한事가아니겟다더라(順天)',\n",
       " '吉林에서北京에\\n春風 李壽衡\\n發吉林城\\n(續)\\n市街中心에十字門이有하니其門形이十字가아니라門에入하야東西南北으로通하게되얏슴이오市街西端에一塔이甚히高하며十餘層이라路過一瞥에其仔細함은不知하나甚히宏壯하더라此時에淋病이復發되야寸 步도 足을移치못할지라李君으로共히馬車에坐하야孫城으로부터二十里되는開原驛을到하니時가旣히夕陽이라市中中國人旅寓一便에몸을付托하니痛情을難狀이라病中에一絕句를咏하야曰\\n病不知人空作惡無人同影可如  何天涯萬里雲山路夢想頻行漢  水波\\n通夜不寐에眸子를未扃이라幾日間此地에서身病을治療코저하야此客棧에逗留케되니라어이할고孔方兄아南無消災障害菩薩摩訶薩南無多財帛菩薩摩訶薩\\n中國의婚禮\\n第一、說親\\n婚姻之事라하면必히人이有하야居間撮合하나니此에任하는者는兩家의親友임이常例라然하나或穿媒라稱하는者｜有하니穿媒의所任을當하는者는女僕이나提包나或珠寳를賣하는者(俗稱賣花婆)나或中人이나(即雇工男女를紹介하는者)挽扶나或伴房을爲하는者『女子｜嫁할時에房에在하야扶持相禮하는者｜挽扶이며房中에在하야服役하는者｜伴房이되나니挽扶는數日後에即去하고伴房은一個月間此를伴하나니大槪曾前에女僕이되얏든者나或此로써專業하는者｜有하나此를業하야小康에致한者有하다』大抵婦女로서人의內室에常入하는者라然하나穿媒는其事를撮合할지언뎡酬勞의資를得함에서不過하며다시正式의媒人이有하니此를尊稱하야曰大氷이라한다必히親友로써此任을委함이常例며男家로부터先히女家에請婚함이普通이더라\\n二、相親\\n說親을未定하얏슬時에均히法을設하야欲定의新人을相하나니此를謂하야相親이라한다然하나男家는僅히其親友中에女家로더부러相熟한人에게托하야代看케하며或女子가何處에徃함을探得하야其處에徃하야旁을從하야窺視하고女家는곳男家에向하야此를說明하고新郞으로하야금某處에至하기를約하야親히往하야此를相하며若男家로더부러互相徃來하든者는直至其家하야請出新郞相之하나니라\\n三、送地脚及假四柱\\n相親한後에萬一雙方이合意한則男家로부터紅帖에某々住某處라書하야媒人을請하야此를女家에送하면女家도亦然하나니此를云하야送地脚이라하며비록親近하야徃趾를詳知하는자도亦此法을用하나니이亦例套라其時에假四柱를送하나니但紅紙에新人의生年月日을書하고時를不記함으로假四柱라한다年齡에對하야避忌함이多하니男이女보다六歲가大한者는大六冲이라하고三歲가大한者를小六冲이라하야不吉함으로稱하며但女가男보다三歲가大한者는大吉하야致富할張本이라하야甚히佳라하며女子는羊에屬한者나虎에屬한者를忌하며鼠에屬한者나牛에屬한者는大吉하다하야媒人에게托하야年齡을瞞하는者不少하나니俗에年을瞞한者를媒人이라한다\\n四、拜謁媒人\\n親事를約定하면男女家의長은衣冠을整齊하고媒家에徃하야媒人에게拜謁하나니이를稱하야拜媒라한다後에다시好星日을擇하야媒를請하야設筵欵待하나니此를稱하야起媒라한다(俗稱澆梅根)此後에는媒人의任이甚히複雜하야진다 紅으로부터合에至하기까지 媒人의臨塲치아니하는배無하나니男女家에서반다시設宴欵待하는法이라俗에十三隻의牛鷄를吃한다는說이有하다或男女家에서互相齟齬함이有하야怨이媒人에게歸할時는此를稱하야搯梅醬이라한다\\n五、紅\\n婚事를旣定하거든好星日을擇하야紅의禮를行하나니期日을當하야는男家에서女家에金玉如意綵緞과各種의綵紫花果를送하면女家에서는此를受하되但花果는半受半囘한다此를謂하야花果紅이라하며다만全紅帖에大書하야曰儒儉家風이라하야送하는者를淸帖紅이라한다',\n",
       " '吉林에서北京에春風 李壽衡\\n中國의婚禮\\n(續)\\n六、道日\\n男家에서合 日을擇하야媒人을請하야女家에送하나니此를稱하야道日이라한다만일女家에서其擇日함이不合하다思할時는或女年이尙幼하다하거나或妝奩이未辦이라하야辭하며男家에請하야다시擇日하기를求하나니萬一男家에서此를固執하거나或은改하야至再至三하는境遇에는女家는曲從치아니할수업다\\n七、送尺寸單子\\n吉期를定하거던女家에서紅帖을用하야女의衣裳尺寸을開列하야媒人을請하야男家에送하나니此를云하야尺寸單을送한다하며男家에서는이尺寸單을見하고預히新婦의衣를製하나니此를謂하야下盒衣裳이라한다下盒時에男家에서製한衣를女家에送하나니但下盒衣는女가下盒時에着하는禮服이오其他便服은女家에서此를自備하나니라\\n八、下盒\\n婚期가不遠하거든先히日을擇하야下盒의禮를行하나니期가届하거든男家에서는準備한바首飾과衣裳、各色綵緞花果와銀封을備하야題하야曰笄盒儀라하야媒人을請하야女家에送하면女家에서此를受하고其回盒에는文房四寶와靴帽袧袿를用하나니大帽의頂은必히六品官位로한다大盖新郞으로하야금狀元及第하기를祝함이며其花果의屬은半受半囘하며男家에서는此日에비로소新郞의眞四柱를女家에送하면女家에서도新婦의四柱를書하야男家에送하는것이라此를云하야眞八字라하나니라\\n九、備妝奩\\n女家의最히重要하다할것은妝奩을準備하는一事라先히籌備에着手할者는即圓件이니(粉桶)必히粉桶을塗漆하야過年한者를佳라하며其次에 堂鞋니行 禮時 에着할배오必히父母雙全한閨女로鞋를製케하며其上에花樣을繡하되萬年靑、如意、蝠、桃子、梅花等이니皆吉語를取함이라其次에는各色繡貨를多히備하여야하나니이는過門後에尊長에게獻하며親戚에게送하며婢僕에게賞하려함이며其次에는先히人을男家에送하야 預히 姑嫜의 鞋樣을請하며糖茶(糖을杯에裝하고錫筩으로써範하야其形이尖하기塔라如하며 數는四나 或八을 爲하나니라)鞋(婦女가脛에套하는것이니俗稱踏搖兒라하나니라)으로尊長에게見할時에勢하나니라婚期가將近하거든必히有福한女眷을請하야新人의裝新을爲하며(結婚할時에所用할被褥棉襖褌를稱하야裝新이라하나니男家도亦新郞을爲하야作한다)又枕頭數對도製하나此는僅히陳列品에不過하며結婚의夕에用할枕은男家에서此를備하나니枕中에는艾葉과錫塊와鵞毛와墨의四物을雜置하나니此는愛惜和睦四音을隨하야入하는者｜라嫁妝의豐嗇은家의貧富를隨함이나普通六箱一橱를備하며此로由하야遞加한則八箱兩橱十二箱四橱二十四箱八橱等으로하며其桌倚의屬도此에傲하나니라',\n",
       " '吉林에서北京에\\n春風  李 壽 衡\\n中國의婚禮\\n(續)\\n十、發家妝\\n婚期前一二日에女家에서媒人을請하야嫁妝을領하고男家에至하나니 夫로섯此를케하며凡嫁妝各器皿은擧皆紅繩을用하야結束하고桌上에羅列하며短木欄으로써하야街市에行하나니面架前行하되唯挑馬桶이라는者｜必히長衫을着하며大帽를戴하나니此를謂하야挑子孫桶이라한다此 를挑한者는男家에서特히犒賞하나니故로必히家中의僕役이此任에當하며夫는參與키不能하다嫁妝이既히男家에至하거든女家에서送한家人히紅全帖을執하고(帖上에嫁妝名色의數目을列開하엿나니此를謂하야奩目이라한다)堂上에跪하거든新郞은衣冠을整齊하고出하하受하면家人은頭를叩하고退하나니此時에所謂扶伴房等이또한嫁妝을隨하야男家에至하야門에入한後에先히帳房에至하야司帳者를向하야稱 慶한後에는一二人이此男家에留하야嫁妝等의守護를爲하며女家에서嫁妝을送할時에一張單子에家人幾名夫幾名이라書하얏나니男家의帳房은곳人數를按하야此를犒賞한다謂하야奩犒賞이라하나니犒賞의多寡는嫁妝의豊嗇을視하야酙酌하나니司帳에老치못한者는適當히費치못하나니라嫁妝을廳事에置하야片時後에新房에安置하나니女家에서嫁妝을備하되비록有할者는盡有하나床帳二物은반다시男家에서備하는者｜니嫁妝이旣至어든新房의床帳도亦是日에舖設하나니라新床을舖設할時는반다시子孫衆多한夫婦二人으로하야금此任을當케하며婚期前一夕에未婚의兩少年을請하야此新設한床에共宿케한다此를謂하야暖床이라하며婚期前一夕에男家에서新婦를迎할綵輿를廳事에陳列하고宴을設하야親友를待하니此를謂하야煖轎飯이라한다\\n綵輿는或稱花轎니重擔의式을 爲하야鐙彩를滿結하고八人으 로써此를舁케하더라\\n十一、合\\n合日을當하야는男女兩家는甚히奔忙하며禮節도甚히瑣屑하다新郞이此日淸晨에頭를薙하나니頭를薙할時에반다시衣冠을整齊하며面前에萬年靑一盆을置하고足으로松柴二根을踐한다此는萬年發財를寓意함이오廳前에는圓爐를置하고栗을燃한다賀客이至한則新郞의父兄이나或族長이主人이되야此를接하는法이라來賓은先히主人을向하야慶을賀하나니吉時가將至어든先히接親二位를請하야女家에至하야意를道하고接親이歸하거든이에轎를發한다應備의執事를除한外□必히頭對(脚이高한明角鐙上에某府라書한者)子孫鐙(是亦明角鐙이니 衣冠을着한家人이手에提하는者라)을用하고綵輿의出入에는必히靑龍手로循한다(出門后에向左하야 行하고向左하야歸함을謂함이라)媒人은轎를押하야前에行하는法이라女家에서는綵輿가門에到하기前에新婦를請하야沐浴케하며(湯中에松子榛子茘枝龍眼落花生瓜子栗子의屬을置하니此를七子湯이라謂한다)同時에開臉케하나니(綫絞로써鬢邊과額際의髮을去함을謂함)開臉할時는新人이外를向하고坐하야先히兩個童子를請하야其前에立케하고對揖한後에退케하며開臉을畢하면新人을請하야饌을進하나니必히閨女數人으로陪席케한다和合飯을食한다함이라綵輿가門에至하거든이에新人으로하야금冠을戴케한다此를謂하야幷頭蓮冠이라한다金葉으로써兩目과脣에貼하나니此를謂하야封眼封口라한다同時에萬年靑數葉、小銅鏡一枚、果數粒을取하야紅棉으로裏하야胸前에懸한다(新郞도此를佩함)裝束을旣히竟하거든竈前神堂祖先堂에至하야拜하나니此를謂하야辭家廟라한다辭家廟를畢한後에다시家中諸人에게拜辭한後에야綵輿에登한다輿에登한時에二童子는小燭臺를手에執하고二童子는紅紙로貼한篩를執하고翼하야行한다俗에一燭一篩로써新人前에在一燭一篩로써其後에在케하나此를謂하야掌花燭篩子라한다新人이輿에在하야手에一箇紅綢로包한小瓶을捧하얏다瓶中에는金銀과米를盛한다綵輿가靑龍手로繞하야男家에至하야는直히廳事로入한다男子之於女家에大小門包催妝封纏足封等의費가有하다其數의多寡는家의豐嗇을隨함이나此等事에至하야預히媒人이兩家에徃來하야講妥하얏슴으로花轎가門에到한後에此를講論하는事는絕無하다女家에서는新人이轎에登한後에女의兄이나弟가隨徃한다隨往할時에富하면轎에乘하고貧하면步行한다그러함으로阿舅々々여轎後走狗라하는俗談이有하다謂하야此를送親이라한다送親하는者는男家에至하야男家諸人으로더부러一切欵接하는事가無하다다만結婚하는禮를監視할뿐이다',\n",
       " '吉林에서北京에\\n中國의婚禮\\n(續)\\n春風   李 壽 衡\\n十一、合  香(續)\\n男家에서는既히花轎를發한後에新郞도亦隨하야沐浴하고和合飯을食한다飯畢에新房에至하야一箇椅子를取하야床을對하야坐한다廳前에는銷金神馬를供하며案上에는巨燭을燃한다同時에預히贊禮二人을請하야(來賓中에서此를推薦함)衣冠을整齊하고上 方에立한다右에立한者는賛禮이며左에立한者는陪贊이라한다陪贊은口를開치도안는다花轎가廳前에停하거든賛禮者는『熨轎』라大呼한다然한則家人數名이 을熾한熨斗를持하고轎邊에循行한다數轉하거든賛禮者는『啓簾』이라고大呼한다少年來賓二人은共히轎前에至하야相對하야揖하고轎를啓하기前에簾을向하야다시一揖을行하고 退한다 賛禮者는『主人接寶』라呼한다然한則挽伴等이前에上하야新婦의所捧한瓶을主人에게授하며主人은謹肅히受하야案上에供한다賛禮者는請『新郞登堂』이라大呼한다然하거든新郞은三呼의聲을聞한後에新郞이出한다俗에三請新郞이라한다室中에在하든新郞은三呼聲을聞한後에出하되亦童子四人이鐙篩를執하고翼하야出한다行하야新婦의左方에立하면賛禮者는其房에在하야禮를賛한다主人이上에向하야跪拜禮를行하거든新郞이亦隨하며同時에供한바神馬를焚送하며新婦는僅히挽伴等을猗하야萬福像을作할뿐이다禮를畢하매賛禮者는『主人暫退』라呼한다然한則主人의事는畢한것이다於是에賛禮者는易位라呼한다然한則新郞은轉하야右에至하며新婦는轉하야左에至하야交拜禮를行한다此時를當하야送親者와挽伴者이必히新婦를爭曳하야先起케하며男挽夫等은亦新郞을爭曳하야先起케하나니俗에云하되婦가先起한則夫를畏한다함이라賛禮者는『揭巾圓酒』라呼한다(此後는賛禮의事도畢하얏다)然한則新郞과新婦를送하야新房에入케한다이에童子輩는鐙篩를執하고送호대新郞新婦의經過하는路에는米袋로써傳遞하야鋪放한다然한則此를踐하면서過한다此를謂하야傳代라한다僅히房에入하면忽然히床後에人이有하야落花生龍眼의屬을擲하나니此를謂하야撒喜兒果라한다더욱送親者를擊하야中하는者로得意事를爲하며惡劇을作하는者는或殼이硬한果를雜하야投則衅을肇하는者有하다新婦가房에入한後에外를向하야立한다新郞은秤桿으로써新婦의盖頭한者를挑去한다挽伴等이合盃로써二人을分飮케한다此를謂하야飮交杯라한다合盃의形이桃子와如하야擘하면兩個의盃가成한다飮畢에二人을曳하야床前에坐케한다坐할時에旁人이必히二人으로하야금衣로써서로覆케하나니壓制를寓意함이라旁으로從하야酒食을進하거든新婦는挽伴等과共히勸酬하며新郞은同輩의少年으로共히勸酬하야서도嘲謔함을不己하되吉語로써和하나니兩新人은略干飮食을甞하고곳起한다此를謂하야床前宴이라稱하며宴畢에新郞이々여退하야休息하는것으로合의大禮는終을告하얏다',\n",
       " '吉林에서北京에\\n中國의婚禮\\n(續)\\n春風  李 壽 衡\\n十二、卸  冠\\n新郞이既退어든挽伴等은新婦의頭上에서並頭蓮의花冠을卸去하며卸後에는紅篩로써盛하야牀頂에置하고다시新郞의髻를梳하나니此後는鳳冠을戴한다此一日中의大禮는비로소告成하얏다할지나以後에尙히許多禮節이有하다오직卸冠時는新婦와挽伴等이新房에在할뿐이니此時가即新婦의休息할時라小頃에多數來賓은房中에擁入하야甚히擾亂의擧動을行하야挽伴等으로하야금 應付하기難케한다그要求하는事는數端에不過하니第一은喜繩喜花를取코저함이니大盖新婦頭上에반다시紅繩과絨花를編綴하얏다가冠을卸하고妝을改한則此繩花를去하나니此紅繩絨花兩種은俗에吉利品이라稱하는者인故로爭하야得코자한다然하나物은少하고人은多함으로均供키不能하매秩序가無한亂雜을 한다等二는水果와桂花糖을取코자하나니此는皆新婦奩中에應有한物이라本來客에게供코자備함이나然하나此亦物少人多함으로初부터影도見치아니하고반다시搪塞辯論함이多하나若喧嘩에過한則挽伴等이新人의尊屬을請하야房에入하야 彈壓을示하되오즉新郞이此時에는必히避하야房에入치안나니大槪新郞이房에一入한則彼輩는此로써藉々하야房을閙케함이止치아니한다더라\\n其外에做朝、四郞、二朝、三朝、  望靜、會親、囘門、拜新親等節  次가有하나此는略하노라\\n調    病\\n脚을轉하야吉林城에서南進五百餘里에僅히開原을到하니天使乎아人爲乎아前日에苦逐한病魔가다시侵襲하매四肢가無力하고毛髮이析灑하야千斤一身을客寓에付托하야調養中인바二冊의熱河日記로日을消할뿐이다暗想컨대人은至人이라야人이며眞人이라야人이다古書에曰金石이流하고土山이焦라도至人은不介라하며疾疫이橫하고黃斧가閃이라도眞人은不病이라하니人은眞實로無病한者｜人이라하노라其不然乎아身에光이有함이家에主가有함과如하니家屋이將壞어든修치아니하는者｜엇지好主人이며身이將病이어든除치아니하는者｜엇지好光靈이라하리오이러□으로余의先祖考均齋公이百一十六歲의遐齡을享하 고仙化하엿스나平生에一次寒感도업섯스니時人이皆稀貴히여기엇다엇지稀貴타하리오人이면반다시如此한後에可하다하노라玆에先祖考의略歷을一瞥筆로記코저하노라\\n先祖考의諱는燦九오號는均齋니驪興이其貫이오哲宗甲子生이라幼少時의事蹟은未詳하나弱冠時로부터文章과道德이一時에卓越하야生平의著作한바이程朱를本하며至理名言이世道와人心에補益이不尠한지라四方의弘儒碩士｜聲을仰하고門에進하야道와禮를問하는者雲과如하얏스며故忠正公閔泳煥閣下는公을師로事하야每히國政의難議를山林閤邸間에共决하얏스며仕하기를勸하되就치아니하고公州郡油龍里에盧를結하야淸凉境을得하야濁亂한世間에性天을怡逸하니이는華頂靑松과雲中白鶴으로足히相方할배아니라',\n",
       " '◇녜도한사람◇\\n巧猾한媒婆\\n한사람이無男獨女를두고掌中寳玉가치貴히녀기든바成年이된지라媒婆를노아사위감을求하는데세가지條件을부치어말을한다其一은年齒가相適하고其二는門閥이조코其三은얼골이俊秀하여야한다하거늘한廉恥업는놈이媒婆를돈을만히주고婚姻만되도록하라하엿더니이媒婆가新婦집이와서通婚을하는데그三個條件을말하되『年齒는項羽渡江之年이요門閥은張良의집과갓슴니다』하거늘新婦의父親이깃거이여기며또뭇기를얼골은엇더해媒娑의對 答이『얼골은더군다나말슴도헐것업지요』이에婚姻을完定허고成禮日이되야新郞이드러서는데當初에말이아니라新婦의아버니가그媒婆를잡아내여야단을치며호령을한대그媒婆의말이『小女는잘못헌것이업슴니다』新婦의아버니가열이나서이년아新郞이머리가센호々늘근놈이요모양이상놈뿐아니라얼골이병신이니그게네가헌말과가트냐？媒婆가對 答하되『項羽渡江之年』이니스물이 너희면八十이아니 오닛가『門閥은張良의집과갓다허엿사오니』五世를나려오며상놈이란말이구요또『얼굴은더군다나말도헐것업다고』허엿지요新婦의父親이氣가막히어 恨歎 하기를『내가直接으로선을아니본것이잘못이지마는王尊丈사위를엇지허잔말이냐』',\n",
       " '●新郞新婦\\n去月十八日正午宣川邑內崔景植第에서桂龍玨君과崔寬玉孃의結婚式이有하얏는대新郞은平壤高等普通學校出身이오新婦는平壤女子高等普通學校出身(宣川)',\n",
       " '●新郞新婦\\n十二月二十七日上午十一時에郭基鉉君과徐相弼氏의令孃貞姙氏와淸州長老敎禮拜堂에서婚禮式을擧行하얏는대新郞은淸州農業學校出身이오新婦는木浦貞明女學校出身으로現今淸信女學校敎師이라더라(淸州)',\n",
       " '辭    令\\n海軍少佐    津田 威□朝鮮總督府御用掛를命함  海軍中佐    淸藤 德彌朝鮮總督府御用掛를 함(以上一日付)總督府檢事  奈良井多一郞同  判事   竹尾 義麿同  檢事   板野 孝一同  判事   喜頭 兵一同  同    五味 逸平同  檢事   水野 重功同  同     玉名 友彥同  判事   山口 信正同  檢事   栗山 兼吉同  判事   佐竹  龜同  同    伊藤重三郞同  檢事   柳原  茂同  判事   小出 淸一同  檢事   大沼 惟隆同  判事   三田村富彌同  同    伊藤 憲郞同  檢事   平山 正祥同  判事   川野邊四郞同  檢事   千賀 順山同  判事   富永 義通同  同    木村 四郞同  同    田尻 隣造同  檢事   小澤佐一郞同  判事   五井 節藏普通試驗委員을命함同  判事   渡邊  暢同  檢事   中村 竹藏同  同    深澤 新郞同  判事   城 敎 馬同  檢事   佐藤 春樹同  同    岡本 至德同  判事   前津 成美同  同    膳 鉦次郞同  檢事   關 口 平同  同     三井十三二同  判事   中山勝之助同  檢事   松寺 竹雄同  判事   齋藤庄三郞同  檢事   境 長三郞同  判事   伊東 淳吉同  同    竹村 昌計同  同    菊地犬掘治同  同    高木安太郞同  同    淺田 賢介同  檢事   長尾 戒三同  判事   橋 本 寬同  檢事   村 上 淸同  判事   辻 秀 春同  檢事   松村 逸樓同  判事   岡本 正夫同  檢事   窪田頴同  同    赤井 定義同  判事   津守 萬吉普通試驗委員을함(以上二日付)',\n",
       " '죽음의길(12)\\n쉥키위치原作\\n閔 牛 步 譯\\n大 海 洋(十二)\\n吳思國은 다만驚歎만할뿐이안이라 그大都會의風光을 限업시貪賞하얏다 港灣兩便의풀은언덕과 언덕우의深綠과 잘整理되여잇는廣大한庭園等을보고 그는또소리를내엿다\\n『아々 고마워라 하느님！내가市塲에서머지안이한牧塲과이都會近處의地面을엇게되고소와돗흘市塲에내디팔게되면참얼마나조흘가 이곳에는 사람도만히살겟지||나도波蘭에서는 연의農夫엿지만여긔와서는大地主노릇을 좀하여보야지|』  마칩그때에 길게뻐친港口는그모든美觀을 압헤展開하얏그나 吳思國은路傍樹가 늘어선모양을보고 또이와가치말하얏다\\n『나는官吏들에게 敬禮를깍듯이하고 말을잘하여야하겟다！그래서내차지로 森林까지낀土地 한五十石직이나 달나고말하야보겟다 그러케되면 날마다머섬들을장에보내서 材木을팔게하여야지||아々고마워라 獨逸사람들이한말도 全혀거짓말은안이로군』\\n瑪琍도亦是 그네들의것을土地에對하야서 夢想을하얏다그와同時에 무슨까닭인지 梨坪村近處에서 新婦가 新郞에게 노래하야들니는曲調를생각하얏다 ｜아마그는 宋道令이追後로米洲를오는때에 그曲調를노래할생각일것이다｜그가八字조케된때에 未久에 檢疫船의小蒸氣가와서 四五人의官吏가배에올낫다 이윽고한隻의從船이市街便으로서 오는대거긔에는 旅舘事務員 步行客主집使喚 市街구경의案內者돈밧구는사람 鐵道會社의勸誘員이러한부치들이긋득탓섯다그배가本船엽헤가다은즉 그네들은旅客의사이를 이리저리비집고돌아단이며 커다란목소리로 무엇인지를외치고단엿다吳思國과瑪琍는 이끝는듯한騷亂中에가들어서 어름々々하고엇지할줄을몰낫다 그親한水夫는 老人의돈밧구는것을 親切히보아주엇다 財產의全部는銀貨로四十八弗이되엿다 換錢을맛친때에는 배가아조市街에接近되야 人家뿐만안이라벌서『밧데리』公園안에 걸어단이는사람들까지보엿다 이윽고 大小各種의船隻을지나친뒤에 本船은마침내阜頭에達하엿다그래서 좁다란船渠안으로 밋그러저들어갓다\\n그네들의 海上旅行은끗이낫다',\n",
       " '죽음의길\\n(23)\\n쉥키위치原作\\n閔牛步譯\\n『뉴욕』(九)\\n때는 午後四時頃이며 그附近에는 生々한活動의氣分이가득하얏다 안개는임의살어지고사람에게生氣를주는夕陽의光線은 可憐한두사람에게 多情한光輝와 따뜻한맛을던젓다 水面에서는 봄긔운이떠올으고空氣는뎡말愉快한感覺을주며 四圍에는光輝잇는綠色이만어 父女로하야금眩亂을늣기게할程度엿다 그綠色의背景에는 돗대와煙筒이칠々히서잇고 各色彩旗들은 軟風에戱弄되야 갑의엽게떨엇다 緊張한돗은 空中에뜬구름과 가치 눈이眩亂하도록희게빗나며 먼港口를向하는배들은 그船脚에 거품이는㾗跡이길게끌닌다｜아々저배는梨坪村을가는것이다｜父女두사람에게 일어바린幸福과 부담나은運命과 平和를回想케하는 그梨坪村近處로가는것이다이樹木우에 안젓슬때에 瑪琍는생각하엿다 멀고먼他國의낫선사람들中에서 彷徨하는自已네를 救助하여줄大慈大悲한하늘님끠 미움을밧고外面을當하도록 重大한罪를 果然自已네는犯한일이잇는가하고 그네들에게幸福을돌려보내는與否는다만하늘님이하시기에달녓는데|\\n배는 數업시 梨坪村을向하건만은 하나도 그네들父女는실고가지는안는다 可憐한處女의 疲勞한感想은 또그故鄕의묵은집과 戀人의宋道令위로彷徨한다 宋은그를잇지안코잇슬가？瑪琍는그를記憶속에단々히삭이고잇다 元來사람이란 그몸이乘運한때에는 달은것을이저바리기쉬우나 不幸한때 孤寂한때에는나무에 감기는담장이가치 愛着하는사람으로부터떠나고자안는다 그러나宋道令은 벌서그묵은戀愛를 破棄하야바리고 달은집에仲媒를보내엿슬것이다 瑪琍와가튼 貧寒한 處女를생각한다는것은 그의붓그러워하는바일것이다||悲哀와 悔恨의花冠以外에는아모것도가진것이업고 仲媒가『死』라고불으는新郞을 다려음직한 貧窮한處女이거든！\\n瑪琍는 인제배곱흔것도感覺하지못하도록 精神이昏迷하얏다 그래서조름만압흘가리엿다그의눈은차츰々々 가리워지며머리는가슴에느러젓다 때々눈을뜨기는하나 即時또감어바렷다 瑪琍는이러한일을 꿈꾸엇다||엇던山谷을彷徨하는中에엇자엇지하다가 맛치 저歌曲에잇는『가사』와가치『다늄』河에떠러저보앗다 그때에瑪琍는分明히다음과가튼글句를생각하얏다 그글에는이러한意味가적혀잇섯다|┊總角이 놉고놉흔언덕우에서 女子의떨어진것을알어보고 다만한줄기줄을타고나려갓스나 거운々々다어갈때에 겨우한자줌不足하얏다 그래서女子는自已머리에들엿던긴당기를던저서 겨우救助되엇다||는것을歷々히記憶하얏다\\n忽然히그는 깜작놀나서精神을차렷다┊自已가아무것도가진것업시 漸々물속으로빠저가는꿈을꾸고 놀내여깬것이다\\n깨여서본즉 겻헤잇는사람은宋道令이안이요 自已父親이엇다 綠水가 맑게흘으던『다늅』河는살어지고 目前에보이는것은 돗대와煙筒이 숩풀가치들어선『뉴욕』의船渠엿다 질거운노래소리는 겻흘지나는배속으로부터들녓다\\n이제 平穩한 땃든한봄날은저물어가고 夕陽은 물과하늘을 붉게染色하기始作하엿다 海面은마치거울과가치平滑하게되며 無數한船體와帆檣은 各其그림자를明暸히물에비취여 마치水中에도 그와一般으로無數한船體와帆檣이잇는것가치보엿다 趣味잇는봄날의暮景은 모든物件을곱게보인것이다\\n輕淸한空氣는 부드럽게물결을치며全世界는맛치歡喜로써充滿된것가치보엿다｜다만이可憐한父女두사람을남기고 活動하던사람들은 차々돌어가기始作하엿다 그러나이父女는 차저갈집도 돌어갈家庭도업는것이다\\n漸々緊切하여오는饑餓의苦痛은 마치鋼鐵손으로 吳思國의『生命』의機關을寸斷하는것가치늣겻다 이불상한農夫는 陰鬱하게 고개를늘이고 從容히안저잇스나 그얼골에는엇던무서운决心이나타낫다 獰猛한野獸와가튼 面相에는 絕望的으로『死』를確認하엿다는意思가歷々히보엿다 그는뎡말보기에도무서운形容이엇다\\n그는 一言半辭도업섯다\\n밤이들어 船渠가寂寞하게된때에 吳思國은 異常한音聲으로 그딸에게말을걸엇다\\n『자아 가자 瑪琍』\\n『어듸로가요？』\\n하고 瑪琍는 조름에醉한對答을하엿다\\n『이埠頭끗헤까지가서 거긔  서자기로하자』\\n하고 그는水中에빠질가를念慮하면서 船渠를딸어埠頭끗헤까지 찬々히더듬어갓다 目的한곳에 到達한때에\\n『자아 여긔서자자』\\n하고 吳思國이말한즉 心神이極度에까지衰弱한瑪琍는 곳그자리에누어서 모긔떼가달녀드는것도相關치안코 昏困한睡眠中에빠젓다',\n",
       " '新郞家와\\n新婦家의\\n珍訟事\\n혼인을억지로하랴다가\\n두집에서모다손해배상\\n신부한사람으로두신랑집에섯싸호다가 신랑집과 신부집이모다배상을물게되엿다 강원도 회양군댱양면 하북점리류재혁(江原道淮陽郡長楊面下北占里 劉載赫)은동면순갑리김달수(同面順甲里金達洙)를상대로 이천여원의손해배상을 청구하고 이와반대로김달수는류재혁에게이백여원 손해배상을 청구하는소송을 각々 경성디방법원민사부에 뎨긔하야 뎨일심판결에는 김달수는류재혁에게 이백오십여원의 손해배상을 무러주라하고 류재혁은 김달수에계팔십여원의 배상금을 무러주라하엿는대 김달수편에서 불복하고경성복심법원에공소하엿는대류재혁편의 주장하는말은 자긔의딸영자(英子)를 강원도 양구군 수입면분야수리사는 박종원(江原道楊口郡水入面分也水里朴鍾元)의아들박필수와 약혼하야대정구년음력십이월십팔일이혼인날자 이엇는대전긔김달수는 영자를빼아서다가 그의아들김용식(金容植)과혼인하려고그의친족김양중(金養中)외삼사명과 공모 하고 혼인전날에김용식을 사모관대를 식히어나귀를 태여가지고오고 그뒤로는수십명이 일제히 몽동이를가지고 류재혁의집으로와서 영자와결혼식을 거행하려하야 신부의부친되는 류재혁을 구타함으로류재혁의 친족되는류재하(劉載河)외에여러사람이 말니엇더니역시 구타하여 부상을식히고그이튼날 박종원의 아들박필수가차리고오는 신행을 중도에서드리처서 혼인을 훼방하고또도로혀 마젓다고 댱양면순사주재소(長楊面巡査駐在所)에무고까지하엿다그래서신랑집과 신부집에서 차려노은음식은 전부못먹게되여 두집에서각각 오백원식손해가낫고 또기타치료비를 합하면 이천여원이나된다고 손해배상을 청구한것이요 김달수편의 주장은자긔의셋재아들 김용주(金容州)와류재혁의 딸 영자와 혼악이 결뎡되여 대정십년일월 이십오일이혼인날임으로 김용주의 혼행을차리어가지고자긔의큰아들김용필(金容弼)외여러사람이가치가서 성례를하자한즉 류재혁의집에서는                     불법하게성례를 거절할뿐아니라 일족이나서서 신랑이나 후행을모다구타하고 의복을찟고 여러사람의 갓망건을모다찌젓스며 심지어 당나귀까지몹시때리어신랑은다리를중상하고당나귀는 다니지를못하게 되엿스니 손해를 무러내라는것이라이것은 회양군가튼 두메구석이아니면볼수업는일이라하겟더라',\n",
       " '辭         令\\n總督府京城法學專門學校長吾孫子 勝水原高等農林學校敎授               高樹 宇一  歐米各國에出張被命        (以上三月八日)  元山郵便局長 橘川 克彥命京城郵便局長  淸津郵便局長兼淸津海事出張  所長      成田 勝虎命平壤郵便局長  平壤郵便局長  勝原 邦槌命平壤郵便局臨時在勤  新義州郵便局長              向井田善五郞命元山郵便局長  大邱郵便局長  成田 新郞命淸津郵便局長兼淸津海事出張所長  釜山郵便局監督課長                梶本 益一命大邱郵便局長  遞信局監理課兼電氣課書記                 村上 安寧命釜山郵便局監督課長  新義州郵便局遞信書記                 梅田 與作命新義州郵便局長心得           (以上六日付)',\n",
       " '●新郞新婦尹用爕氏의長男詳俊君과金連參氏의長女蕙順孃은三月七日午後二時三十分始興奉天里禮拜堂에서盛大한結婚式을擧行한다더라(平澤)',\n",
       " '●新郞新婦\\n米國에留學하야政治經濟科를卒業하고歸國한池鎔殷君은今般東京女子高等普通學校出身인禹濟京孃과四月二十八日午後三時平壤南山峴敎會堂에서結婚式擧行(平壤)',\n",
       " '新郞新婦\\n차상진(車相晋)목사의둘재아들 병텰(丙轍군과배화녀학교(培花女學校)교사안희경(安喜敬)양과의결혼식을오는 이십륙일 오후두시에승동례배당(勝洞禮拜堂)에서거행한다는대 일반지긔는 만히참석하여주기를바란다더라',\n",
       " '新郞新婦『맨도린』의 명수인한성은행원윤성로(尹星老)(二一)군과개성(開城)호스톤녀학교출신김뎡순(金貞順)(一八)양과의결혼식은팔일하오오시부터시내중앙 긔독교청년회관에서 거행되엿더라',\n",
       " '新郞新婦\\n본사 정치부댱최원순(崔元淳)씨와 동경녀자의학전문학교출신 현덕신(玄德信)양과의 결혼식은 명십륙일하오네시부터 목사 김창준(金昌俊)씨의 주례하에 시내종로중앙례배당에서 거행한다더라',\n",
       " '新郞新婦\\n성주복(成 復)군과 리은(李銀)양과의결혼식을 금칠일오후다섯시에 시내뎡동례배당에서 거행한다는대일반지긔는 만히 참예하여주기를 바란다더라',\n",
       " '해바라기\\n(1)\\n廉想涉\\n一│一\\n피로연(披露宴)이칠팔분이나어우러저 드러가서 둘재ㅅ번으로일본사람편의 축사가 끗치나랴할제누구인지『후록코｜트』째리가 밧갓트로서 드러오더니신랑(新郞)의귀에다입을대고속은속은하는사람이 잇셧다 신랑은채 다 듯지도안코 귀를 떼우며매우 난처하다는듯이 잠간멀건이안젓다가 고개를숙이며 신부의엽구리를 꾹찔으고 몃마듸중얼중얼하닛가 신부도 역시눈쌀욜잠간찌푸리는듯하더니\\n『아모려나||』라고겨우들리게대답을하얏다\\n신랑은 인제야확신이 잇는낫빗츠로대답을기다리고엽헤섯든『후로코｜트』째리를치어다보며\\n『그럼얼는분별을식히렴』하며수의를식혀보냇다\\n이것을 눈치채인사람들은 무슨일인지 궁금쭝이나서 연해신랑신부편만 바라보는사람도 잇스나 실상은그리궁금해 할만한일도 아니엇다다만피로연이 파한뒤에 시아버니에게 페백을드리자는 의론 이엇다\\n원래신랑아버니는이번혼인에대하야절대로간섭을아니하얏다\\n『내야 아니 너아라하렴 이집안에 주장할사람이 너밧게누가또잇단말이냐』하며 못맛당해서비웃는수작인지 상당히 행세도하는 장성한자식일뿐아니라 재취장가를가는 로신랑이니까 모는것을 밋고 그리하는수작인지어떠튼 끗々내『내야 아니 내야아니』하고 머리를 설레설레 내두르며 시굴구석에 가만히안젓섯다 실상말하면 덥허노코간섭을하랴고 덤비는것보다는 다행한일이지만 누가자긔를 내대지나안는가하는 꼬부장한 생각으로 넘어도야릇하게 구는데에는\\n돌이어 성이가섯다 모든준비가다되여서 내일례식을 거행할터이니 올나가자고할때에도\\n『내야올너가 무얼하니？애비를애비로알거든 어느때든지 생각날제 너희들이 차자와보면고만안이냐』하며애꾸진 둘째며누리까지도 올러올수가업게 고집을세웟다\\n그러나 밤사이에 무슨꿈을꾸고 어떠케 마음을돌렷든지 별안간오늘아츰에 아이들까지 데리고 뛰어올러온것은 의외이엇슬뿐아니라 집안식구들도 인제는마음을놋케되엇다\\n그러나인사들이 끗난뒤에\\n『그래두 궁금하든가보구려어떠튼잘되엇소』\\n하며 마누라가 이러케한마듸하니까 여전히 버레먹은배추닙가튼상을 응등그리고\\n『졂은것들이 올러오지를못해서 날처죽일듯이 여간지랄들을해야지||내야 보든안보든 상관잇소만은||』\\n하며입을실룩어리는것을보면아즉도 비위가 가라안지안은모양대톄이『내야』라는소리는손주색기까지나 보아야 고만둘는지혼인문뎨가 이러난뒤로는『내야』가유난히늘엇다\\n그는그러타하드라도무엇이엇더케잘못되엇다는지또는엇더케잘못되리라는지말도시원히하지안코 벙어리냉ㅅ가슴알틋 혼자눈쌀만 잔뜩찝흐리고 잇는것이송구 스러워서 못살일이다\\n그래서 자긔는마치 아들의집이나직혀주랴왓다는드시쓸々한집속에혼자채를잡고안저서례식에도얼신을아니하고피로연에도긔어코얼골을보이지안코말엇다\\n처음예뎡으로는 부친이 종래올러오지아느면 례식은 례식대로하고 다시날을잡아서 시골로나려가 폐백을드리든지 잔치를하든지 하는수밧게업고 다행히올러오면 아주식장에서나 피로연회에서 절이나한번하야 때ㅅ버리랴고하든차에 마츰 올러와주기때문에 한시름이젓셧고 그중에도 이말을들은신부는 머리ㅅ살압흔폐백이니무어이니하는것을 아니하게되여서 천만의외에 다행으로알앗든것이라서 일이 이러케되고보니 신부부터실쭉해 하지안을수업섯다 더구나안에서들은 조비비듯 성화가나서 먹을것도 마음을노코차저먹지들을못하고 분주히 도라다니며 뭇사람을붓들고\\n『이왕언제든지 하고야말것이니 오늘아주폐백을 듸려버리면소원도 푸러듸리고 군일도덜리지안켓느냐』고 충등여서신랑신부의 승낙까지 밧게된것이엇다',\n",
       " '◇新郞新婦盧善敬君(盧伯麟氏長男)과金仁善孃(金貞變氏二女)의結婿式을去十日豐川禮拜堂에서鄭元衡牧師司式下에擧行하엿더라(豊川)',\n",
       " '●新郞新婦\\n京城梨花幼稚園師範科卒業生李順福孃(故李元敏師牧長女)과京城延禧專門科生徒(現在學中)金得善君의結婚式은去十七日沙里院西部禮拜堂에서牧師吳應植氏主禮下에式을擧行하엿더라(沙里院)',\n",
       " '新郞新婦\\n얼본신호 관서학원영문 신학과를 졸업하고현재송도 고등보통학교 교유로잇는라추건(羅樞建)씨와평양숭의녀학교를맛친 리마리아양과 이십삼일 하오팔시에 개성북부례배당에서 화촉의 례식을거행하엿더라(개성)',\n",
       " '新郞新婦\\n고창고등 보통학교(高敞高等普通學校)교사로잇는김석홍(金錫洪)(二九)씨와평양녀자 고등보통학교를 졸업한김연봉(金硏鳳)(一八)양은이십칠일오후세시에 종로중앙 긔독교청년회관안에서 결혼식을 거행한다더라',\n",
       " '新郞新婦\\n전범식(田範植)씨의 댱남 응열(應洌)군과고 김대진(故金大振)씨의 댱녀갑순(甲順)양의 두사람은 금번결혼하게되얏는데 식뎐(式典)은 특별히청량리 영휘원(淸凉里永徽園)에서 금이십칠일오후에세시에 거행한다하며 피로연은 그날오후네사부터 청량관(淸凉舘)에서 연다는데 일반지우들은 만히참석하기를 바란다더라',\n",
       " '新郞新婦\\n밀양군(密陽郡)수봉수(朱奉壽)씨의 령윤성윤(聖潤)과고원일(高源一)씨의령양련우(璉宇)량인의결혼식은오는구월사일오후세시부터밀양댱로교회댱(長老敎堂)에서거행한다더라',\n",
       " '新郞新婦\\n금십오일하오삼시에 진남포신흥리 교회당에서강일성(康一成)군과 조경신(趙敬信)양의결혼식을거행한다더라',\n",
       " '新郞新婦강필우\\n(康弼祐)씨 의장자영택(永澤)군과박동완(朴東完)씨의 장녀한엽(漢燁)양과의 결혼식을금십팔일오전십일시에 시내정동 례배당안에서거행',\n",
       " '新郞新婦\\n김봉흠(金鳳欽)씨의 령질 락긔(洛基)군과오순형(吳舜烱)씨의 댱녀 신행(信行)양과 결혼식을 금이십륙일오후네시에 남대문 례배당에서 거행한다는대 일반지긔들은만히참예하여주기를바란다고',\n",
       " '●新郞新婦\\n鐵原郡鐵原面中里에本籍을둔趙信一君은平康地에서傳道하든바平康邑內에사는朴仁淑(開城好壽敦出身)孃과平康邑內禮拜堂에서去十九日下午一時結婚式擧行(鐵原)',\n",
       " '●洪新郞琴新婦일즉이京城中央學校와東京高等蠶絲學校를優良한成績으로卒業하고京畿道水原蠶業試驗所技手로잇는江華郡河站面新鳳里洪禮爕三男洪在根君(二六)과京城女子高等學校를卒業하고江華公立普通學校의訓導로잇는江華郡府內面官廳里琴仲基三女琴東實孃(一九)은去五日에江華蠶頭禮拜堂에서結婚式을擧行하고同日午後四時에披露宴을廣昌旅舘에서開하얏는대官民間來賓이二百餘人이엇더라\\n(江華)',\n",
       " '●新郞新婦\\n岡山金光中學을優秀한成績으로修了한韓鳳仁君(二六)과京城女子高等普通學校本科出身陳孝淳孃(二二)과의結婚式을來二十六日(月曜)上午十一時密陽城内陳盛一氏第에서擧行한다더라(密陽)',\n",
       " '鄭處女의處事\\n◇東亞日報二面記事中에 『新婦의任意結婚』 이란題目으로十九歲된閨中處女가 父母의承諾업시 任意結婚한것과 그로因하야 任意結婚한新夫婦뿐아니라新郞의親族까지 新婦家의迫害를밧엇다는일을報道한다\\n◇이事件은 觀察하기에딸어서는 매우問題가된다 閭巷의淫奔事件이 何時에는업겟느냐하면 그만되고말일이지만은이번일은 單純히淫奔이라하야더퍼치울것이 아닌것갓다\\n◇新婦의집은 兩班行世를하고 新郞의집은 門閥이 그만못하다는대 地方에서両班行世하는집閨中處女가 무슨機會에洞里靑年과 情이들엇는지 그點에對하야는 좀疑點이잇스나結婚하던때의態度로는 아조堂々하다\\n◇處女가 蹰躇하는男子를끌고가서 여러親族의集會한곳에서 夫婦가되는뜻을宣言하고손길을마조잡는것으로結婚式을삼엇다하니 이것은 저의끼리淫奔한行動을하다가 父母에게發覺되야 엇지하엿다거나가치逃走하엿다는것과는性質이달을것이다\\n◇웨？거긔에는 父母의命令을기다리지아니하엿다는以外에는 何等의缺陷이업지안은가未婚男女가 衆人의압헤서 結婚하는意思를發表하고 公々然히夫婦가되엿다는것이 무엇이罪惡이랴 習慣이라는異常한色眼鏡을벗고볼때에는 그곳에何等의缺陷이업다고할수밧게업다\\n◇더욱이 自己父母가 긔어코 달은곳으로 出嫁식히고자할때에 自己意思를 살니기爲하야는 自殺을하거나 出奔을하거나 그러치아니하면 이處女와가치 處事를할수밧게엄지아느냐 그러타고하면 自殺이나出奔보다는 그와가치하는것이 얼마나堂々하냐\\n◇ 相을알기에는 좀더仔細한調査가必要할것갓다만은 아무러턴지 時代는만히變遷되얏다 靑年男女는 그父母의專制下에서 連해뛰여나온다 學校敎育을밧은者만 그런가하얏더니이解放의精神은 어느듯鄕村의深閨까지侵入하얏다고 볼수밧게업다 그러면우리는 이躍動하는新機運을 拒絕하지말고길발오 잘만引導하여야되겟다나는鄭處女의왈패스러운處事를表面으로만 보아서는是認할수밧게업다(社稷洞人)',\n",
       " '●新郞新婦\\n일즉히仁川商業學校를優良한成績으로卒業하고現在日本法政大學經濟科에在學中인江華郡吉祥面温水里金永善氏의長男金建七(一九)君과京城女子師範學校를卒業하고現群山公立普通學校女子部에在勤中인水原郡水原面梅山里徐光承氏의長女徐愛姬(一九)孃은去二日午前八時에江華郡温水里聖安得烈聖堂에서結婚式을擧行(江華)',\n",
       " '●新郞新婦\\n昨年東京明治大學商科를卒業한裴尙奉氏와今春平壤女子高等普通學校師範科를卒業하는李賢淑孃과는去一日午前八時平壤章臺峴天主敎聖堂에서結婚式을擧行하고同日午後四時平壤長春舘에서盛大한披露宴을開催하얏다더라(平壤)',\n",
       " '●新郞新婦\\n仁川內里敎會堂牧師申洪植氏令胤申大 君과趙載貞氏長女趙基鎬孃의結婚式을來二十二日正午內里禮拜堂에서擧行한다고(仁川)',\n",
       " '●新郞新婦\\n黃海道延白郡鳳北公立普通學校訓導白台憲君과金蓮植孃과는去二十日延安觀德井禮拜堂에서洪性煥牧師司會下에結婚式을擧行(延安)',\n",
       " '●新郞新婦\\n京城延禧專門學校出身獨孤璇君과金泰明孃은二十八日平北宣川禮拜堂에서結婚式을擧行(宣川)',\n",
       " '新郞新婦\\n보성뎐문학교출신오병근(吳炳根)군과(박현정(朴賢晶)양은 금일오후다섯시종교례방당안에서 오화영(吳華英)목사의 주례로써 결혼식을거행한다더라',\n",
       " '咸興에\\n聲討大會\\n基督敎靑年同志가\\n敎會와永信校일로\\n咸興基督敎靑年同志一同은 지난三十日下午九時頃에咸興天道敎宗理院에서 聲討大會를열게되여定刻前부터 모혀드는聽衆은無慮千名에達하엿는대塲所를빌린天道敎에서는『가튼宗敎團體로서 남의宗敎에대한聲討를하는데빌리는것이좃치못하다』하는基督敎會의正式交涉이잇슴으로 빌릴수는업다하야 한동안은中止하느니 延期하느니하엿스나 結局은일업시開會하게되엿다 朝鮮日報支局長金國 氏가 단에올라開會를宣言하고『演士가聲討하는것을들으시고여러분은冷靜하게意志的批判을나리시기를바람니다』하고그다음에演士張道源氏가단에올라서아래에記錄한몃가지條目을들어聲討하엿는데\\n敎 會 事 件\\n一、平信徒는責罰하되長老의아  들은責罰하지안코默過한일\\n二、相當히責罰할敎人을西洋婦  人이責罰을中止하라함으로中  止하엿다가後에西洋婦人과사  이가조치못하게됨애責罰한일\\n三、平信徒는未成年者를成禮하  면責罰하되有力者는未成年者  를婚姻식힐때에 牧師가親히  主禮하는일\\n四、平信徒는主日에開店하면責  罰하되長老에게는責罰하지안  코默許하는일\\n五、敎會公金으로써敎會職員一  同이西洋夫人의葬禮時에喪服  을입어公金을濫用한일\\n六、新婦가不應하는婚禮에牧師  가主禮하여野合的結婚올식힌  일(但新婦는禮後에 新郞으로  부터도망하여갓슴)\\n七、長老中聖餐에參席치못할者  잇슴으로 多數敎人을無視하  고聖餐을中止하는일\\n八、敎人이治理의不公平을말하  엿스나 牧師는敎人의發言을  禁하고聽許치안은일\\n永信學校事件\\n一、理事는敎人大會의普選으로  할것인대一部特殊階級에서自  已의同階級者를選擧하는일\\n二、理事會는中荷里新昌里兩敎  會에서四人式選擧하여組織되  엿는대 各々自己黨派를擁護  하야自己派의權利伸張을目的  삼고學校를主眼으로하지안는  일\\n三、敎員招聘時自己派에屬한사  람을選用하기를目的하고彼此  에紛爭하며學校를中心으로하  지안코敎會를中心으로하는일\\n四、同校敎員의參席을許諾지안  는理事會에理事안인長老는參  席케하는일\\n五、校長은每年一次式兩敎會에  서輪囘로選擧하야 權利伸張  을圖謀하며學校를中心으로하  지안는일\\n六、理事中建築委員이建築費公  金中에서自己가自己個人으로  理事會决議업시使用하고 于  今二個年을지나도支拂하지안  이하며標도안하는일\\n七、同委員의文簿는檢査한結果  未分明할뿐아니라漏落錯亂이  甚할일(外數條)\\n이러한條目을一々히들어서 敎會治理者의內幕과不公平함을크게非難攻擊하고 理事會事件에對하야도 일즉이被敎育者로되여본일도업는사람들이 理事會員의大部分인즉엇지學校事件을處理하겟스며또한그러한理事會校長의아래에서 敎鞕을잡고잇던敎員들의不平은얼마나되엿겟느냐 하야理事會를攻擊함애聽衆에는實例를들라고하는 사람도잇섯스나 그것은人身攻擊이기때문에하지안는다하야말업시되고演士가단을내렷다 그뒤에는演壇을公開한다는司會者의宣言이잇슴애 中荷里敎會長老永信學校々監洪基鎭氏가단에올라 敎會事件다섯재 條目을들어『職員들이喪輿를메기때문에喪服을입엇다』하야辯明하려하엿스나 聽衆의떠드는소리에말을맛치지못하고다시『永信學校々長은事情이잇서々그리한다』하고다시永信學校는 普通學校에서落第한學生을入學식힌 느브리學校라하야 聽衆은또다시떠들고 『敎育하는學校에무슨사정이냐』고하야 못처럼辯明하려올러갓다가말을마치지못하고단을내려오매 聽衆가온대서靑年派와老年派가衝突되여 서로주먹이나오려하야形勢가危險하게됨으로 决議하려던것을마치지못하고閉會를宣言하엿더라\\n辯明講演開催\\n別項과가치 聲討會는맛치엿는대 一般은敎會와理事會의行動을非難하며 敎育이란무엇인지도몰으는 永信學校理事會라고하는대 辨明하려고登壇하엿던洪基鎭氏도말하엿거니와 敎會側에서는辨明講演會를열어一般의諒解를求하리라하며 萬一辨明講演會를開催하지못하는때에는 一般은敎會와理事會를非難할수밧게업다고(咸興)',\n",
       " '勞農露西亞의法的夫婦關係\\n尹石重\\n一\\n現代各國의 重要한法律政䇿의하나는 社會의一單位로써의『家』의保持이다 家의構成은우리나라에서는 封建的色彩가濃厚하여 戶主로統一되는 家族의團體이나 西洋은 夫婦를中心으로하야子女를包擁하는團體이다 이것이西洋의『패밀이』니 이것들의保持에는 다갓치 一夫一婦主義를그內容으로한다。 一夫一婦主義는 一面有產階級의畜妾制度에依하야 威脅을바드며 他面人格主義的自由結合論이 攻擊함에不拘하고現代人士多數가肯定하는制度임으로 法律도따러서 이것을保護하게되는것이다\\n그러면共產主義를國是로한 勞農露西亞에서는 이問題를如何히解决하엿는가？\\n世上에서는 勞農國의婦人國有를報道하야 共產主義에對한嫌惡觀念을 抱持케하는者가잇스나그러나 事實은이와全然反對이다 이나라에서도兩性問題進化의一階段에不過하는 一夫一婦主義를採用하엿다 그리하야婚姻의手續과夫婦의關係를 詳細히法津로規定하엿나니 玆에그것의大要를述하랴한다(本文에關한露西亞法은日本東大敎授高柳賢三氏의述한바에依함)\\n二\\n勞農露西亞의婚姻手續은이러하다\\n(一)婚姻을하랴는新郞新婦는其居住地의地方登記局에 口頭又는書面으로其希望을申立하나니 其申立에는相違업다는證明書와法律上支障이업다는宣言書를添付한다\\n(二)이申立을바든登記局에서는何某와何某의結婚이何年何月何日何時에 擧行된다는豫告를公布한다 그리하며其期限內에누그든지 法律上障害를申立할수잇스며 如此한境遇에는事件을地方裁判所에넘기여 그判决을기다린다고한다\\n(三)婚姻을擧行하는塲所는 地方登記局이나裁判所書記局內에特設한公開式塲이오 此塲所以外에서는擧行치못한다 但當事者가病으로써 式塲에出頭할수업다는醫師의診斷書가잇는時에限하야 私宅에서行할수가잇다\\n(四)右式은各其官廳官吏의面前에서行하며 是等官吏는婚姻登記簿에記載하야 當事者에게읽여들니고 그結婚이法律上으로成立됨을宣告한다\\n三\\n婚姻의實質的要件은이러하다\\n(一)男十八歲女十六歲未滿과八十歲(男女同)以上된者의結婚을禁하며 勿論囘敎徒의多妻主義를許하든舊法은업서젓다\\n(二)近親相婚의禁止範圍는 直系血族間과兄弟姊妹間에만限하엿슴으로 伯叔父와伯叔母의結婚까지라도自由라한다\\n(三)父母의同意를全然排除하고結婚은當事者의合意로만締結된다\\n四\\n婚姻의結果에對한露西亞法은夫婦平等主義를徹底히한點에서顯著하다 身分이나財產에조금도差別이업나니 從來『패밀이』의構成을爲한 夫唱妻從主義와夫가家長이라는主義는破棄되엿다\\n婚姻을하면妻는夫의姓과國籍을取得할것이라함이 從來各國의法律이엿다 그러나勞農露西亞에서는姓에關하야는『當事者는夫의姓이나妻의姓이나 또는夫婦의姓을連結한것을 今後의姓으로할것』이라하엿스며 國籍은當事者가特別히請求치안는以上 變更을生치안는다하엿다\\n去婦同居의義務는各國의法律이다갓치認定하는바이다 그러나露西亞에서는『配偶者一方의住所變更은 他方에隨從의義務를生치아니함』이라하엿다하니\\n이또한平等主義의徹底한하나이다\\n뜨는結婚後의生活費와子女의養育費에對하여도 從來各國은夫된者의負擔으로하엿던것이다그러나이나라에서는各其扶養義務를지々안코 서로가自己의腦力이나筋肉으로써生活할것이라하엿고 養育도亦是父母가各々갓흔金額을分擔한다하니 共產主義國家에서는當然을지날만한當然일것이다 그런데 언제까지든지 經濟的으로寄生生活을하야終身賣淫(？)갓흔現象에서버서나지못하고 그대로平等만을主張하야 義務업는權利만을바라는 어느나라女子에게는大히反省을要할事일줄안다\\n五\\n離婚에는다른나라와가치 協議離婚과所謂裁判離婚의두가지가잇다한다 그리하여形式으로볼때에는別로히新奇한것을發見할수가업다 前者의協議離婚이란兩方의協議即同意로써되는者이며後者即裁判離婚이란一方이그에不肯하는時에裁判官의判决을要求하는者이니 우리의所謂戶籍法이라는것과다를것이업다다만從來各國의法律은離婚原因을嚴重히規定하엿스나 露西亞에서는그原因을法으로써制定치안코 오즉裁判官의認定에맛긴것이다 그러면裁判官은 엇더한것을가지고離婚原因을삼는것인가는 아직알수업다 如何間爭者는勞農露西亞의離婚法에對하야不滿을가젓다 離婚은『패밀이』의解散을意味하는者이니從來各國에서 離婚의原因을法律로制定하야그의妨止에努力하엿슴이 이것即『패밀이』의保持에잇는것이다 그러면임의『패밀이』의構成을主眼에두지안는勞農露西亞에서『離婚은맛당히配偶中한사람의意思로써决定될것』이라는 自由離婚主義를取치아니하엿슴이 무슨理由인지모르겟다\\n六\\n私生子는『패밀이』의保持上一大支障이며 同時에一夫一婦主義의한가지缺陷일것이다 그리하야各國의法律은 一面에잇서々婚姻年齡의低下와事後結婚에依한嫡出化 即所謂凖正의方法으로써 그의發生의防止에苦心하엿스며 他面私生子는所謂婚姻關係에對한反逆人이라는父母의罪를 其子에게옴기여 모든方面으로 그를虐待하엿든것이다아아 그러나엇지하랴 私生子의發生은이를防止할수가업섯슴을！勿論私生子를嫡出子와同一한地位에둔다함은 結婚制度에對한다시업는威脅일것이다그럼으로結婚制度를肯定하는各國의法律은다갓치 私生子에게特別한地位를주지아니할수업섯든것이다 그러나私生子其自身에게야何等의罪가잇스랴 此를法律이넘어나酷遇한다함은 人道에反할뿐아니라『와이닝겔』氏의말을비르면 私生子는優秀한人種(두男女愛의極致에서되는것임으로)이라는그들로하여금 社會的으로墮落케하여不良少年少女化할 憂慮가업지못하다 이에 露西亞法은嫡出子와私生子의差別를撤廢하엿나니이것이將來에如何한結果를줄것인지 吾人의注目할事이다\\n七\\n其他에도勞農露西亞의夫婦關係에就하여는 養子制度의禁止라든지 紹介코저하는바이만흐나後日를期하고이에긋치며 모든것을理想的으로 새로히建設하엿다는 勞農露西亞의夫婦에關한法律은 오늘날까지의다른나라의그것과 五十步百步의感이不無하다는것만을말하여둔다아마一夫一婦主義下에서는 이以上더나아갈수업는것인지도모르겟다(끗)',\n",
       " '新郞新婦\\n玄光善氏의姪昌奎君과吳華英氏의長女膺善孃은今十四日午後五時市內宗橋禮拜堂에서鄭春洙牧師의主禮로結婚式을擧行한다고',\n",
       " '一評者에게\\n◇나는自由鍾欄에屢載된强制結婚과關聯한글을닑고顚末을明記하야公正한批判에資코저한다\\n◇나는某校를畢한後一年餘를嚴格한監視下에拘束되엿섯고父母는나의承諾도업시約婚하엿다나는結婚이尙早함과繼續工夫할意思를말하엿스나兩親은新郞될사람이얌전하니두말마러라\\n◇父母로서子息에게害토록할理가잇겟느냐 라고할뿐이엿다其後도屢次破婚을懇請하엿스나四柱單子를밧는等나에게는形勢가자못險惡함으로無意한婚姻에破約을暗示하는一方으로또한兒童敎育에獻身코저父母의阻止를避하야집을떠나서永川으로向하엿다\\n◇나의無斷出家로數日後兩親은나를맛나본後 某校々長에게나의保護를委托하엿슬뿐이요婚姻에對하여는一言半句의말도업섯고明春에結婚하겟다고謝罪한일은꿈에도업섯다 나는父母의永川으로오신것이子息을사랑하는一念이구나하며感謝의눈물을禁치못하엿스며婚姻은破約되엿나보다하고安心하야春季休暇에上京하엿스며또다시今般夏休에歸京하엿다\\n◇歸京하자破約된줄로밋엇든結婚禮式日이今月十六日이라하는意外의宣告를바든 나는强制結婚의 無理를 말하엿스며 病을藉하야呻吟하며如何히此苦境을脫免할가하다가買物잇슴을憑藉하고다시永川을向하야逃避하는途中 大邱에出張한永川某校女敎師와大邱某女校女敎員申某를訪問하야一日을留한翌朝에意外로母親이나려오섯다\\n◇그때나는再次結婚을拒絕하엿스나母親은 新郞母親이와서나무로라도깍가놋코 돌노라도세워노라 하며나를逃避케한敎唆者이라疑心하며大怒하니 歸한後拒絕을하는지하라하기에歸家하엿는데亦是結婚을强制하며禮式凖備를하는模樣인故로結婚前日에도鄭○○○女史에게來年에는出嫁할지언정今年에는絕對로拒絕한다하엿다\\n◇結婚은當事者의意思를尊重히하야雙方의承諾을어든然後에相約할것이며 承諾이업고强制인以上父母의말이곳當事者의意思라미들수잇슬가 無根한言辭로陰害코저하는一評者여 나는君의所行을詰責코저하지아니하며다만良心에부끄러운짓을하지말기를誠心으로忠告하는者이다\\n(當事者)',\n",
       " '◇新郞新婦\\n仁川內里禮拜堂에서는再明九月四日下午五時半에吳基善牧師主禮로現早稻田大學師範科生權寧運君과橫濱女子神學校在學中인金洛仁孃의婚禮式이잇다고(仁川)',\n",
       " '新郞新婦\\n開城高麗靑年會理事長曹龍煥氏와貞和女學校敎員金富点孃은去十八日午後八時三十分에中央禮拜堂에서結婚式을擧行(開城)',\n",
       " '質疑應答\\n一、質疑는日常生活에關係잇는事에限함\\n一、應答은總히本欄으로써發表함\\n一、質疑는葉書에限하야必히朱書로『質疑係』라明記함을함要함千\\n【問】甲어數年前에乙의長女와定婚한바成婚前에는處女의衣食을提供하기로하야以來二年間을經過한至今에成婚을하자한즉女息의年齡이十四歲이니二年後十六歲에나成禮를시킨다고新婦의親父는力說을함니다이結果로新郞될甲은身病이되야幾至死境이온데如何히하면速히成婚할수잇슬가요(但處女는成禮를希望)\\n(一問生)\\n【答】甲과處女의間에成禮는處女親父의承諾이無하야도할수잇슴니다(但婚姻届만二年後提出하시오)(辯護士金用茂氏談)',\n",
       " '◇新郞新婦\\n김옥현(金玉鉉)씨와리뎡애(李貞愛)양의결혼식을 명십팔일 하오네시에시내뎡동(貞洞)뎨일례배당에서거행한다더라',\n",
       " '新郞新婦\\n민영득(閔泳得)씨의차남정식(晶植)군과 박승직(朴承稷)씨의오녀 영라(英羅)양은명일(十月十八日)오후두시에 장곡천졍 공회당(公會堂)에서결혼식을 거행한다더라',\n",
       " '◇新郞新婦\\n연학년(延鶴年)씨와황귀경(黃貴卿)씨의결혼식을작이십칠일오후계동(桂洞)칠십오번디 연학년씨집에서 거행한다더라',\n",
       " '監理敎의\\n憲法問題\\n宣敎四十年來에\\n처음으로보는일\\n鎭南浦碑石里監理敎엡웟靑年會長洪箕疇君과同私立三崇幼稚園敎師韓明心孃의結婚式은朴璇齊牧師의主禮로지난三十一日下午二時碑石里同敎會堂에서盛大히擧行하엿는데式의順序를따라禮式을進行中主禮牧師로부터一般會衆에게前記兩人이지금結婚式을擧行함에對하야누구던지다른意見이잇거든現塲에서말할것이\\n韓炳熙君\\n意見陳述突如\\n憲法에빗취여\\n容認할수업다\\n會衆愕然失色\\n오結코後日에말하지말라함애數百名會衆中에서韓炳熙라하는同敎靑年會員이突然起立하야말하되前記兩人의結婚그것에는决코아모異意를가지지아니히엿스나本敎會堂內에서式을擧行함에對하야는新郞되는洪箕疇君이無罪한前妻를까닭업시疎簿하야其前妻가尙今守節生存하고잇스니本敎會의精神과眞理는勿論敎會憲法에빗취여到底히이式의擧行을容認키難하다함에朴主禮牧師가慌急히壇에올라이자리는禮式塲이요决코憲法을討論하는座席이아닌즉憲法에對한問題는追後私席에서討論하기로하고陳述은停止하라하엿스되韓氏는더욱憤慨하야現塲에서憲法條項을一々히朗讀하고其式이非法行爲이라고 々히糾彈함애\\n塲內無限緊張\\n塲內는限업시緊張되고會衆은愕然失色하야一時는塲內에殺氣가騰々하엿스나牧師李謙魯氏의幹旋으로式을暫時停止하고緊急秘密會議를開催하야諸職員이鳩首討議한結果本禮式이憲法上으로보아서는擧行할性質의것이아니나既爲始作한것인즉式만은繼續擧行키로하고今後事實을明確히調査하야萬若事實이異議者의陳述과符合될時는거긔에對한一切責任은朴主禮牧師가此를甘受하겟다고聲明한後繼續하야無事히式을擧行하엿다는데以上과갓흔事實은朝鮮에基督敎가宣布된지四十年來에今時初有의問題이라고(鎭南浦)',\n",
       " '新郞新婦\\n▲본사긔자박헌영(朴憲永)군과주세죽(朱世竹)양의결혼식을오는칠일에 충남례산군 신양면신양리(禮山郡新陽洞新陽里)그본낵에서 거행할터이며\\n▲본사긔자(평양지국)고영한(高永 )군과백영애(白永愛)양의결혼식을 금삼일 하오이시에평양남산현(南山峴)례배당에서거행한다고',\n",
       " '新郞新婦\\n보성 전문학교출신송갑성(宋甲成)군과정순복(鄭順福)양의결혼식은금일오전열한시반에 장곡천뎡공회당(長谷川町公會堂)에서 거행한다더라\\n▲김현철(金顯哲)군과 조득경(曹得卿)양은오는십일월칠일하오네시에 시내경운동 텬도교당에서결혼례식을 거행 한다더라',\n",
       " '新郞달여다暴行\\n의학젼문학생이\\n시내 동숭동(東崇洞)일백삼십번디의칠호 최봉렬(崔鳳烈)의집에서는 재작일오전에 딸의결혼식을 거행하엿섯는데 식이마친뒤에는 오래전부터 그집에유숙하고잇든 경성의학전문학교학생 김○걸(金○杰)이 자긔동창생칠팔인을 다리고 달녀드러서 자동차한대를 세를내여다가문밧게세우고 일면부지의 새신랑을 무리하게다려가려다가 신랑에게 거절을당하고는 도로혀그때마침 그집에왓든 신랑의친구 최모(崔某)라는사람의 머리를 사구라몽동이로 몹시따리어마참내 병원에까지다니게 만드럿다하야 매우분개 한다더라',\n",
       " '信者가본『眞假를\\n모르는婚禮式』\\n◇現世에『眞假를모르는婚禮式』이잇다하면 모든兄弟는그것은如何한意味의 新述語이냐고물으리라\\n兄弟여놀나지말아이奇怪한未曾有의『眞假모르는婚禮式』이우물주물平和鄕인 鎭南浦에서突起하엿나니 우리信者로써는깁히考慮하며 反省할必要가잇다하는것은이不祥事가 우리監理敎會內에서 盛大히擧行된연故이다\\n◇問題는이러하다 去十月三十一日에洪某와 韓某의婚禮式을當地碑 石里禮 拜堂에서 朴牧師가主禮하야 擧行하던中韓某가起立하야 이禮式은新郞의前妻가 現今生存하여잇슴으로本敎會憲法에 違反된다고異議를提出함에 主禮牧師는그러치안타는理由로壇에올나 極力主張하엿스나 韓君은 그態度가자못强硬하야彼此에 激論中李牧師의 旋으로 式塲을떠나서約二十分동안이나 會議하더니及其也에다시와서 一般參禮者의게『이式은憲法에 違反되나그러나이미始作한일이니 眞者인지 假者인지는오는年會에서决定하기로하고 眞價를모르는婚禮式이나마 繼續進行한다』고宣言한後에 남은式을맛추운事實이다\\n나는여러말노써하지안켓다다만『假眞을 모르는婚禮式』을거록한會堂에서 堂々히擧行할수잇는야고뭇는다 敎會는宣敎師나牧師의敎會가아니라 우리信徒의敎會이니 엇지數百名의信徒를압헤두고『假者인지 眞者인지 모르지만은이미始作한일이니進行한다』는소리가무슨소리냐\\n◇主禮牧師의理由를듯건댄以徃의罪는『일곱번식일흔번이라도용서하라』는聖書의 말슴을引用함이第一이엿나니 生覺건대밥을먹음에食量이잇고 罪를容恕함에程度가잇나니 憲法에違反되는『容恕』야말노 决斷코容恕치못할『容恕』이다\\n◇兄弟여우리들은『사랑하기를말과헤로만하지말고 마만行함과 眞實함으로써하기』를 祈禱할뿐이다(鎭南浦一信者)',\n",
       " '新郞新婦\\n경성 의학전문학교출신으로 동경뎨국대학 의학부에서 연구중인 김탁원(金鐸遠)군과 동경녀자의학전문학교출신으로 총독부의원에서 근무하는 길뎡희(吉貞姫)양은 오는이십일 오후네시에 댱곡천뎡공회당에서 김필수(金弼秀)씨주혼으로 결혼식을 거행한다고',\n",
       " '新郞新婦\\n명치대학 출신으로 변호사시험에우수한 성적으로입격하야 시내당주동 에서개업한 변호사 김명진(金明鎭)(二六)씨와녀자고등보통학교출신으로조선은행 발행과(朝鮮銀行發行課)에서근무하는윤뎡식(尹貞植)(二二)양은금륙일 오후두시부터장곡천뎡공회당(公會堂)에서결혼식을거행한다더라',\n",
       " '◇新郞新婦\\n公州永明高等學校敎員金雄珏君과平壤南山峴幼稚園敎員崔昇淑孃은來二十六日下午三時에京城貞洞禮拜堂에서新婚禮式을擧行한다고\\n(公州)',\n",
       " '◇新郞新婦\\n오는 二十 六日午前十一時內里禮拜堂에서 申洪植牧師의主禮로仁川私立永 化學校敎師梁 男君과李永均氏 孫女李慶玉孃의結婚式이잇슬터 이라고(仁川)',\n",
       " '◁讀者記者欄新設▷\\n◇지면을엇더한 모양으로 충실하게하는지 이는신년일일의『신년호』부터계속하야 실물로써알리려함니다 만은위선독자제씨에게 알릴필요가잇는것을몃칠동안 계속발표하려함니다\\n▲첫재는사회면(二面)에(독자와긔자)란것을새로 둔다는것인데 이것의필요와 리유는자세한 설명이업서도독자제씨가 충분히짐작하시려니와 무엇보다도『신문은독자가만든다』는것과『독자를통하야』뉴│쓰』를창조하며창조할긔회를 만든다』는신문의 비결과리론을 실행하여본다는것이외다\\n◇방식은 아래의두가지로함니다\\n一、讀者의課題로記者가記事하는것\\n二、記者의課題로讀者가記事하는것\\n물론처음일이라 독자제씨가 좀서투를듯하나 로력여하에따라서 비상한리익과특수한흥미가 잇슬것을 단뎡함니다\\n◇독자가『문뎨』내일범위는아모제한이업스나 그『뎨목』어든긔자가 여러방면으로 조사도하고 활동도하야어든재료로 쓴긔사가일반대다수의독자가 보고십허하고 알고십허하고 그리고일반뎍으로 흥미가일어날만한 그런것을지뎡하여야만됨니다\\n◇일뎡한긔한도 업슴으로 어느때든지엽서로나 봉투로나『東亞日報編輯局社會部』로분명히보내시되 상당한 것이잇스면하고 업스면 못하게되는것인즉내이고안내이는것은 순전히독자 제씨가조흔뎨목을 주시고안주시는데 잇슴니다 따러서혹은련일계재도하고 혹은격일도될터이외다\\n◇그리고긔자가 과뎨할것은 위선뎨 일회로 아래의세가지를발표함니다\\n◇第一回記者課題\\n一、百歲長壽者\\n二、十二歲新郞\\n三、열번이상살림한妓生\\n이상각뎨이 대하야주소 년령 성명 성질、언행등자신에관한일톄사항은 물론문벌 디위 재산 친족의유무와형편(특히배우자)이며일화(逸話)애사(哀史)세평(世評)까지라도 빼지안코 상세히 긔록하되 특히기생배우자의살림하든 전후의사실(례를들면가산탕 진의상태 비관자살 타락 몰락 혹은행복등일톄)을일일히 적되인신을 공격하는것은절대로 밧지안코 오직 사실그대로소개하는것이외다\\n◇뎨일회긔한은 오는일월십오일 까지본사에도착하도록 긔재된글에 대하여는상당한 사례를하며사진(寫眞)까지보낼때는특히사진갑을진뎡함',\n",
       " '◇新郞新婦\\n사회운동(社會運動)에대한 청년학구로이름이잇는 변희용(卞熙瑢)군과 일본동경녀자고등 사범학교톄조과(日本東京女子高等師範學校體操科)를졸업하고 지금일본녀자대학영문과(日本女子大學英文科)에통학하는박순텬(朴順天)양과의결혼식피로 연을이십칠일오후에 시내남대문 통식도원(食道園)에서거행하엿다더라',\n",
       " '◇昔日의◇\\n—(◇)—\\n◇六曹압◇\\n文武官員送迎하는\\n荆 中銅駝\\n◇옥관자금관자에팔자거름치든\\n◇녯날륙조압은그동안엇지변천\\n◇||光化門通의回顧談片片\\n광화문압흘 지금도 륙조압히라고하지안슴닛가광화문압 좌우편에잇는 관공서가 엇더케 변천된것을아모조록자세히가르처주시기바랍니다\\n中學洞 一讀者\\n◇||지금날마다지내다니면서도 그곳에무엇이 잇든가 생각하면 아리송 아리송하야 자세히 몰으겟는데 녜전것을 가르치라니 좀어렵 습니다 마는새로 독자와 긔자란을 설시한뒤에 이만문뎨를 어렵다고 고만 둘길이 업서서 곰곰생각도하고 로인에게 뭇기도하야 대답하야들입니다\\n◇||광화문압헤좌우쪽으로해태가잇섯지요 지금우리들은그해태가 눈에환이보이는것갓슴니다마는 장래아희들은할머니나 어머니가해태압헤갓다왓다고하면 해태압히라니어듸말슴이요할것이올시다 해태는오밤중에도적놈이 도적질하듯집어치워서지금은 볼수업게되얏습니다\\n◇||잔소리고만두구요그해태압헤서 광화문을등지고나려가자면 왼편 첫재가 의정부조방(議政府朝房)이요 그다음이의정부요그다음이사헌부(司憲府)요그다음에례빈소(禮賓所)골목이잇고 그다음이리조(吏曹)그다음이례조(禮曹)그다음이호조(戶曹)그다음에호조 뒷골이잇고길아레에한성부(漢城府)와기로소(耆老所)가잇섯고요 올흔편첫재는 삼군부(三軍府)그다음이사간원(司諫院)그다음이중추부(中樞府)그다음이병조(兵曹)또그다음이 형조(刑曹)맨끗이 공조(工曹)요중추부우에사온서(司醞署)골목이잇고 공조아레에공조뒷골이잇섯담니다\\n◇||갑오이후각부(各部)가생긴뒤에 전의정부자리는내부(內部)가되고사헌부자리는 관보과(官報課)가되고 리조자리는외부(外部)가되고 례조가학부(學部)로변하고 호조가탁지부(度支部)로변하고 한성부는처음에경무텽(警務廳)이든것이농상공부(農商工部)와 밧굼질을하고 길끗헤전에업든긔념비각(紀念碑閣)이 생겻는데그비각은지금 눈이나비를그너가기에십상조흔 자리가되얏고요왼편으로삼군부에는 시위이대(侍衛二隊)영문이들어안고 사간원은헌병대사령부(憲兵隊司令部)가되얏다가맨나종에잠간경시텽(警視廳)이란것으로변하얏고 중추부는농상공부가되얏다가경무텽과 밧구게되고병조는 군부(軍部)형조는 법부(法部)공조는 통신원(通信院)이되얏슴니다\\n◇||지금의정부조방자리는빈터가되얏고 내부자리에는경긔도텽(京畿道廳)이잇고 외부자리에는순사강습소(巡査講習所)가잇고탁지부를법학전문학교(法學專門學校)가차지하고그아레잇든농상공부와 기로소는빈터전만남어잇고요 길건너로시위이대영문에는 조선보병대(朝鮮步兵隊)가잇고경무텽이잇는데 경시텽이라고따로생겻든곳에는순사긔숙사(巡査寄宿舍)가잇고군부는조선군사령부분실(軍司令部分室)이되고법부는뎐화교환소광화문 분국(電話交換所光化門分局)이 되고통신원은톄신국(遞信局)이되얏슴니다\\n◇||한번가서보고대답하면자세히할수도잇건만 과세에밧부어가보지아니하고 생각하야적으니 미신한곳이적지안습니다혹틀린것이나업나 한번가서서좌우쪽을 모조리조사하야보시면조켓습니\\n◇||국초에 경복궁대궐을지엿슬때 뎡도뎐이라는이가궁과궁문과 모든뎐각일홈을지어바첫는데 경복궁일홈을잘지엇다고 칭찬바덧든것이 오늘은조선총독부가 되얏슴니다그려이런생각저런생각하니 감구지회가 업슬수업슴니다\\n讀者記者欄과\\n第一回記者課題\\n◇독자가뎨목을내인것으로긔자가긔사하는독자과뎨(讀者課題)와긔자가뎨목을내인것으로독자가긔사하는긔자과뎨(記者課題)의흥미잇는첫시험은임의발표한바와갓거니와 그동안에도벌서독자로부터 여러가지문뎨가들어와서 위선한가지는오늘부터시작합니다\\n◇그리고일전발표와가치뎨일회긔자과뎨를 한번더발표하노니오는십오일안으로 상세히조사해보내시기를바람니다\\n◇第一回記者課題\\n一、百歲長壽者二、十二歲新郞三、열번이상살림한妓生\\n이상각뎨에대하야주소년령 성명、성질、언행등 자신에관한일톄사항은물론、문벌 디위、재산친족 의유무와 형편(특히배우자)이며일화(逸話)애사(哀史)세평(世評)까지라도 빼지안코상세히긔록하되 특히기생배우자의살림하든전후의사실(례를들면가산탕진의상태 비관자살타락몰락혹은행복등일톄)을일일히적되인신을 공격하는것은절대로밧지안코 오직사실그대로소개하는것이외다\\n◇긔재된글에대하야는상당한사례를하며사진(寫眞)까지 보낼때는특히사진갑을진뎡함',\n",
       " '◇新郞新婦\\n동경상과대학(東京商科大學)재학중인한태익(韓泰益)군과마산의신녀학교교사리수학(李秀學)양은작년십이월삼십일에 마산신뎡 문창례배당안에서 결혼식을 거행하엿다고(마산)',\n",
       " '◇新婦新郞\\n昨年十二月二十五日午後一時에忠南洪城監理敎禮拜堂內에서泰安公立普通學校訓導朴義貞孃과本社瑞山支局記者柳寅鎬君의結婚禮式이잇섯다고',\n",
       " '◇新郞新婦\\n박필주(朴弼 )씨의 친뎨인법학전문학교재학중의건주(建)(二五)군과김두봉(金頭奉)씨의장녀동덕녀학교재학중의흥술(興述)(一九)양은재작일일 오후세시에 시내중앙례배당에서 화촉의뎐을 거행하얏다더라',\n",
       " '◇新婦新郞\\n慶南馬山金 信石孃과慶北浦項張慶喜君은馬山文昌禮拜堂內에서新婚禮式을擧行하엿다고',\n",
       " '◇新郞新婦\\n오는七日에咸南洪原天道敎堂內에서 金玉順孃과蔡奎恒君의結婚禮式을擧行한다고',\n",
       " '◇新郞新婦\\n沈相沅君과慶南熊川朱麟碩孃은去十二月三十日에新婦本宅에서結婚式을擧行하엿다고(守山)',\n",
       " '◇新郞新婦\\n宣川邑內田鶴賢君과京城協成神學生文聖福孃의結婚式을宣川郡農建敎會堂에서來十日上午十一時에擧行한다고(宣川)',\n",
       " '◇新郞新婦大邱에靑年建築設計家尹學基君과永川邑內李在吉氏四女李命 孃과의結婚禮式을오는十三日永川新婦自宅에서擧行한다고(大邱)',\n",
       " '◇新郞新婦當地崇德中學校敎師李魯翊氏와金國善의婚禮式을지난三日에當地美監理敎會內에서邊學用牧師의主禮下에盛大히擧行하엿다고(寧邊)',\n",
       " '◇新郞新婦鐵山邑內(新義州高普校生)史信郁君과同(京城貞信女學生)崔姫孃의結婚式을鐵山邑敎會堂에서本月九日午前十二時에擧行하엿다고',\n",
       " '(鐵山)\\n◇新郞新婦 全州河慶烈氏次男泰興君과李丙斗氏四女福實孃은今月十日午後三時全州南門外 拜堂內에서結婚式을擧行하엿다고(全州)',\n",
       " '處處片片\\n◇全財產을妓生에게\\n龍岡郡海雲面温井里崔基善이라는사람은數日前에自己父와叔의名으로所有田畓全部를銀行에抵當하고金五百圓을빗내여가지고鎭南浦某妓生의毋와情이드러그五百圓을다부러먹은事實이잇다고(鎭南浦)\\n◇人身賣買가如意\\n黃海道安岳邑小川里에사는白泰俊이라는者는三年前부터갓치살던自己愛妾을一百五十圓에當地某料理店에娼妓로파럿다가近日에다시古情을못니저다려다가살림을한다고(安岳)\\n◇賣笑時間一萬餘\\n仁川龍洞券番에昨年中妓生의우슴을판時間數는一萬三千二百五十六時間으로이것을한時間一圓二十五錢式으로換算하면一萬六千五百七十圓이며다시時間을打算하면一年六個月七個日八時間에相當하다는데收入이第一만키는十二月에一千八百二十七圓五十錢이오第一적기는十月에七百六十八圓七十五錢이라고(仁川)\\n◇趙氏守節始終如一\\n瑞山郡近興面尹世俊氏의妻趙氏는十八歲에出嫁한바男便尹氏가病으로죽엇스되家勢極貧하고一點의血育이업슴도不拘하고終始改節하지안코늙은舅姑를奉養하던中舅姑亦別世함에외로히針紡으로糊口하며守節하다가當年七十二歲로죽엇슴으로同里振興會에서는趙氏守節을表彰키爲하야祭物을設奠하고一同會員이吊禮를行하엿다고\\n(瑞山)\\n◇不公平한瓦電會社\\n釜山瓦電會社牧島出張所에서는需用家에對하야穩當치못한行爲가만타는데엇던집에는二三箇月이되도록料金徵收도안하며엇던집에는一箇月만未納되면곳消燈하기와또엇던집에는아모말도업시消燈하며料金을支拂하야도七日後이라야된다고暴言을하며여러가지不公平이만흠으로一般의非難聲이날로놉하가는데島民全部는이事實을드러本社에質問한다고(釜山)\\n◇結婚日에新郞이둘\\n咸南利原郡仙港全某의長女는約婚한男子는죽어도실타하고이웃집엇던總角과사랑을하여왓다는데結婚式當日에는新郞이두사람이나나타나서一塲風波를이르키엿다는바前記金孃은죽어도愛人總角과살겟다고固執한다고(利原)',\n",
       " '片想\\n｜結婚의藝術化｜\\n沈大燮\\n自由戀愛란것은 一般이아는原則일것갓다 頑迷한父母들도그들이 頑迷하다는非難을避하기爲하야 실혀하면서라도承認치안코는견댈수업슬만치一般的原則이되여버렷다\\n只今와서는 벌서自由戀愛가主張될때는아니요 自由戀愛를試驗해볼때이다 따러서自由戀愛의時代도아니요 自由離婚의時代가도라온것이다\\n自由離婚이 一般에게認定되는것갓다 自由戀愛와함께自由離婚이 一般的原則으로녀기는것갓다『루시아』의社會主義者는世界에 압장을서々自由離婚을法律의한條目에 집어너엇다一便當事者의自由意思에依하야結婚은 直時로消滅될수잇고한짝의 當事者에依하야永遠을誓約하엿든結婚이 當事者의한사람에게依하야 自由로버릴수잇게된것이다\\n結婚이 戀愛의殿堂이라는迷信이一般의 머리에박혀잇다結婚으로만戀愛의目的이 이루워지는줄로 사람마다생각하는것갓다 結婚의儀式을맛추엇슬때에 서로사랑하는 男女가처음으로戀愛의 열쇠를움켜쥔줄로사람마다 생각하는것갓다 婚約의半指와 敎會堂風琴소래를들으며 허수압이가튼牧師의祈禱가 얼마나만흔 젊은新郞新婦의가슴을 뛰게하엿슬것이랴！그瞬間이다 戀愛가사람의마음에서살어저버리기는||\\n아해들이 나븨를손으로움켜쥐이랴고하듯시 졂은男女가그의戀愛하는相對者를 結婚이란쇠사슬로 얼거매여보랴고努力한다 움켜쥐여진나븨가無慘하게도죽은 死體를아해의손바닥에놋는것과가치 사람들의夢幻的氣分속에 사랑의相對者를얼거매이랴고 생각하든瞬間에戀愛는 消滅된다\\n結婚의目的은 相對者를束縛하고專制하고자함에잇다 그러나結局은 自己束縛이되고마는것이다 한편이 한편을엇고한편이일는것이아니라 雙方을다일허버리고야마는것이다 戀愛에依하야結婚을 엇는것이아니요結婚에依하야 戀愛를일허버리는것이다\\n얼마나數만흔 젊은마음이『戀愛의무덤』에葬事지냇고 얼마나 數만흔팔々한靑春들이『結婚의무덤』속에 시들어生으로파뭇첫슬것이랴！人類는代代로이무덤에 그自身을파뭇고파뭇고잇는中이다\\n戀愛는流動이다 結婚은停滯다 戀愛는그로因하야恒常自由롭고結婚은 그로因하야恒常不自由하다\\n『에루살넴의 子女들이어 내가너희들에게 노루(獐)와들의사슴과함께 盟誓하고일느노니사랑이스스로 이러날때까지억지로불러이르키지도말며 또한깨(醒)지도말지어다』사랑은스스로이러나는것이다 그러기에그것은 制約할수업는것이다그것은불러 이르키고자하야불러이르킬수업는것과가치 또한制約하고자하야 制約할수잇는것이아니다\\n戀愛는發作的이요 結婚은打算的이다 Whosoever Iov’d,that lov’d, not first sight｜『쐬익쓰피어』의말한것과가치戀愛는最初의瞥見에依하야成立되는것이다 結婚은이에對하야檢索이다 調査는打算이다여긔에結婚의束縛性이잇는것이다存在한것을가지고生長하는것을規定하고過去의威力을 가지고未來에限업시뻣처나가는生命을制約하고客觀을가지고 主觀을壓迫하며 理智를가지고 直覺을支配하며 利害로本能을얼거매랴는곳에 結婚의必要가잇는것이다 結合하고자하는것이아니라 억지로 隔離식히랴고 하는 制度다 이것은『알띄빠세프』가한말이다\\n男女의兩性을 서로結合식힌것은結婚이아니요 戀愛다 戀愛와結婚을區別하라 前者는救할수업는病이요 後者는恒常젊고 恒常誘惑的이요 그리고끈임업시蘇生하는生命이다 結婚한사람은 恒常늙은사람이다그 들이새파랏케 졂다하드래도例를볼수업는老人이다 結婚한男女의 平凡한單調롭은 恒常恰足지못한듯한 빗을일허버린죽은듯한 얼골을보라 또그들의打算的이요 理智的이요 狡獪하고 常識的인生活을보라그들은무엇을하고자 이世上에서生活하는지알수가업다 아해를나흐려고사는것이라할는가？어린애가 하나이나고 둘이나서 그子女들의天眞한가운대그들의半生이즐겁게 끗난다한다 그러나그것은 그들自身의깃붐이아니요 子女들의깃붐이다 그들의自身은죽고 어린아해가出生한것이다 그들의生活끗이나고 子女들의生活이始作된것이다\\n그러나戀愛하는사람은그自身이어린아해다 永久한兒童이다戀愛가靑春과가치잇는것이아니요 靑春이戀愛와가치잇는것이다 그高調된빗 빗나는눈 彈力잇는거름 살어잇는頭腦 敏捿한反應 깃붐에넘치는容貌를보라 戀愛가잇는곳에 生命이잇다 빗이잇다 未來가잇다永遠이잇다 피와靈이잇다\\n戀愛에서 肉慾을 떼여노라고 내가말하는것은 勿論아니다 肉과사랑을떼여논것은 예수敎가준 罪惡이다 예수敎는그로因하야 人生을僞善으로잇끄럿다 그러나 이것이 예수敎의참精神이라고 밋을수는업스니 예수는『罪잇는女人』도 容恕하엿다 罪잇는女人이 그의발에잇맛추는것을 너그러히밧엇다 그러면『너희는女人에게부닷치지말라』한것은 예수그사람이아니요『에피고넨』이다敎會다 敎會야말로 墮落한것이다 예수는上昇하엿고 敎會는下降하엿다 敎會때문에眞實한宗敎的精神은消滅되고 그리고 예수敎그것이滅亡한것이다戀愛와 肉慾과는勿論理論上으로區別할수는잇슬것이다 그러나 그것은觀念的遊戱일뿐아니라 가장僞善的遊戱다 遊戱라고하느니보다는 人生이發明한가장어리석은僞善이다 그것을숨길수는잇다 그러나그것을無視하고 참을수는업는事實이다 人生의마음에가장아름다운것의 하나라고생각하면서 입으로만가장醜惡한行動이라고하는것이果然얼마나 큰矛盾이냐\\n戀愛는一種의芸術이다 가장純粹한芸術이다 創造의깃붐이恒常거긔에움즉이고 生命이거긔에서뛰며 靈的인것이 거긔에支配된다 그들은 詩人이요또한宗敎家다 美의創造가 그들을支配할뿐만아니고 敬虔한그무엇이 그들의마음을支配한다『쇼펜하우어』의말과가치 人生의意志는 이境過에그最高의能力에達하는것이다\\n나는結婚이戀愛의무덤이라고하엿다 그러나結婚은戀愛의무덤이아니다 現代의矛盾된制度와 習慣으로말미암은 結婚은戀愛의무덤이되고만다는말이다\\n今日의結婚은 所有의原理우에섯다 結婚하고자하는慾望은所有하고자하는慾望이다 今日의結婚이 破壞的이요 生脈이뛰는사람을『산송장』을 만들고자하는가장 어리석은 努力이다所有하고자하는瞬間에 戀愛는 死滅하야 今日의所謂結婚이라고하는것이니 戀愛의무덤이되고만것은 이까닭이다\\n戀愛의自由를말하는者는 戀愛를 그무덤에서 救해내야하겟다 即戀愛로하여금舞臺를주어야하겟다 새로운舞臺를주어야하겟다 모든戀愛論보다도모든戀愛를 음조린詩歌보다도참으로 必要한것은 戀愛를爲하야 새로운舞臺를準備하여야할것이다\\n새로운舞臺라는것은 結婚을藝術化한다는것外에 아모것도아니다 戀愛가一種의 藝術인同時에 그實現도 또한 藝術的이되지안으면안된다 藝術로서의 結婚이라고 내가말하는것이 即이것이다 藝術로서의結婚은所有의結婚과 相對한것이니 所有에代身한 創造다 停滯에代한 流動이다 物質的關係로戀愛를 制約하는代身에戀愛로 肉體를制約하는것이나性慾과戀愛를分離식히는代身에그一致다 靈과肉과의一致다\\n戀愛는다만 입뿌리로 짓거릴것이아니라 行할것이다 戀愛가잇는 곳에結合이잇고 戀愛가업는곳에分離가잇다 사랑이잇는者는 合하고사랑이 업는者는 사러진다流動의 戀愛를따러流動의結婚이잇고 創造의意志가잇는곳에 創造를식히는것이잇다 모든制約으로밧지안는者의 性的生活은맛당히 이러할것이다\\n여긔에 사람들은 끈임업시戀愛하는사람이다 여긔에사람들은 創造하랴는意思다 여긔에 사람들은 恒常宗敎家다\\n世界는 이에美化하고 人生은이에生命化하고 創造로부터創에 『로만틱』한人生의魂이 끈임업는 깃붐가운대에 生活을繼續할수잇는것이다\\n戀愛를하야 人生의心奧에貫徹하라 理智를버리고 사랑으로 利害를버리고美的으로 科學的인것을 代身하야 宗敎的인것이 끈임업시끗까지 人生으로하여곰『놉흔能力』을 發揮케할것이다(끗)\\n(室伏氏의論文을基礎로함)',\n",
       " '◇新郞新婦\\n平南江西邑內吳鎭珠君과龍岡梁福實孃과의婚禮式은지난二日午後三時에江西邑監理敎會內에서擧行하엿다고(江西)',\n",
       " '處處片片\\n◇老新郞을排斥 平南价川郡外  東面龍沼里白々敎支部長所謂  朴道通이란者는四十三歲의長  男이喪妻를하야昨年春에十七  歲의處女와結婚을한바新婦는  新郞이自己아버지보다二年以  上이된다고决코몸을許치안코  親庭으로도라가니新郞便에서  는更히二十歲의處女와定婚하  고前例를念慮하야婚姻宴前에  豫히婚姻届부터提出하엿다고\\n(德川)\\n◇房貰안내는巡査 慶南晋州警  察署巡査李某는同面上鳳里宋  仲吉氏의집狹房에貰든지이미  오래되엿스되도모지房貰를내  지안는다는데前記李巡査는同  里에잇는절문寡婦와情을通하  야가지고살림하면서웬셈인지  房貰를내지안코잇다가요사이  에이르러主人도아지못하게떠  나버렷다고(晋州)\\n◇害雀驅除獎勵 金堤郡勸農會  에서는各農塲과協力하야害雀  驅除獎勵會를組織하고徹底히  驅除를計한다는데참새한머리  에二錢式無制限하고買入하야  그것으로食料品을맨든다고\\n(金堤)\\n◇參奉을任命 前番平南儒林聯  合會에서參奉候補者로黃元萬  康昌奎、金萬鉉、洪大修、李鍾  善、宋巽爕、朴成烋、鮮于塽等  諸氏를選擧하야道當局에提出  中이든바二日에道知事로부터  各其任命의旨가下附되엿다고\\n(平壤)\\n◇專賣局員暴行 全州煙草專賣  支局員은高敞郡에出張하야自  家用煙草를取締하는데집々마  다도러다니며警官이犯人을搜  索하듯이함부루村사람을따리  는等온갓行悖를부림으로一般  郡民은이에對하야怨聲이藉々  하다고(高敞)\\n◇庫底郵便所業績 江原道庫底  港은通川郡物貨集散의中心地  가될뿐아니라關東에重要貿易  港으로庫底郵便所事務로年々  非常히增加되야伊來二三年間  은事務取扱의繁多한것이同道  郵便所中에第一位를點하얏다  고(通川)\\n◇貢獻者를表彰 密陽守山里에  서는新年을當하야守山을爲하  야貢獻이잇슬뿐아니라守山里  에서第一年長者九十老人李昌  國氏에게氏의康壽를祝福하는  同時에功勳을表하는意味로金  拾圓을贈하엿다고(守山)',\n",
       " '奇談·哀話·珍聞·逸事\\n(五)\\n◇殷粟‖北隊巡廻記者林元根‖\\n男便은鐵窓\\n안해는再嫁\\n늙은어미홀로\\n손자를다리고\\n獨立團哀話\\n◇조선 텬디를 뒤덥허 흔늘든삼일운동의녯긔억이 아즉도눈압해 감을감을한오늘을당하야 이가튼정치운동을 배경한 가지가지의애사(哀史)는간곳마다아는듯몰으는듯 속깁히숨어잇서 뜻잇는사람의한줄기눈물을 자아내고야말게된다이고을 읍내에사는 홍○긔(洪○基)(二九)라는청년은 일즉이자긔고향에서 소학교를 졸업하엿스며 그뒤를이어서는 해주간이농업학교(簡易農業學校)를맛치게되엿다 그러나가세가 넉넉지못한관계로 중학한곳을 변변히 졸업하지못한홍○긔는 자긔고향에 도라와서는 할일업시 집안 친족들의식히는대로 뜻아니한 고리대금(高利貸金)업 자의 한사람이되여가지고 그 날그날을한갓불유쾌한긔분으로 세월을보내게되엿다\\n◇그러나 하로아참에 조선사람의가삼을 뚤코드러오는그무슨사조는 마참내텬성이 예민한홍○긔의마암을 움작이게만들엇나니 그는일즉이삼일운동에참가하야 동서열중하다가다수한동지들과함께 칠년형긔의징역선고를밧고 우금경성형무소에서 신산한철창생활을계속하는중이며 그의늙은어머니김씨(金氏)(五九)는 금년열살된어린손자향남(鄕男)과 일곱살된『자근년』두아이를 다리고손꼽아이달의 출감할날을 기다리며착실한신조(信條)에 오즉여념이업슬뿐이다 아｜그의사랑하던안해의 그림자는그가한번이러한운명의 주인이되여바린이후로 어느곳으로 사라저바렷스며 옥중에서웃고울고헤매이는그의외로운 가삼속에서는일즉이이소식을알앗는지？물낫는지？그무엇을 혼자마암으로거짓꿈꾸고잇는가？\\n◇그의안해박씨(朴氏)는봄날의춘흥을못이기여 아지랑이낀봄하날에 종달새의지저귐을듯고그 후얼마되지못하야 아비업는텬재를배속에품은후에 소래업시장연(長淵)한갓으로 종적을감초어가지고 지금이야말로엇던자동차운전수와 청춘의단꿈을일우게되엿다\\n◇정조의관렴이희박하다할는지？마암이약하다 할는지？칠년이나되는 길고긴세월을참아홀로자긔남편을 기다릴수업는박씨는 마참내이가치박정하게도 그에게눈물겨운면회한번도하여주지안코 글발한자의한조각통신도업시 어린자식을떼여바리고 막을수업는사랑의발자최를따라 장연한구석에 그림자를감추고마럿다\\n◇그러나 이갓흔소식은오날까지도 홍○긔의귀속에 드러가지아니 하엿스며 주위의생활과함께 마암이단순한홍○긔는아즉도자긔안해의 따듯한사랑을밋고 때때로소식을전하야『사랑하는안해여！아모조록나를대신하야 늙은어머니를밧들고어린자식을고히길으소서』하는사랑석긴글발을 자긔고향으로보내이며 이런소식을드를때마다늙은어머니 김씨의가삼은메여지는듯이 압흐고쓰리지마는그는아모리 생각하야도자긔아달의상심(傷心)을 렴려하야욱중에잇는 그에게 자세한전말을편지로알려주기는 도저히참아못할일이엇다 그리하야오즉신조깁흔김씨는 어린손자로더부러『하나님이시여！우리아달에게행복을주소서！』하며눈물고인긔도를올릴뿐이다\\n八歲어룬\\n‖十四歲의夫人\\n◇장연군갑부전치룡씨첩의소생으로\\n◇당년여덜살먹은귀동자전석담군과\\n◇은률군긔독신자홍룡긔씨셋재딸과\\n◇작년가을결혼하야한쌍부부가되여\\n奇拔한早婚과噴飯할珍談\\n◇한동안 조혼(早婚)의 폐해가만히잇슬때에는 아홉살먹은과부와 일곱살된홀아비가잇다고뒤떠들더니 이고을에와서는여덜살된신랑(新郞)과 열네살먹은신부(新婦 를 보게되엿다은률군(殷栗郡)내에서 만석군이라는일홈을듯는 장련(長連)갑부 전치룡(全致龍)씨의첩의소생인 넷재아들 전석담(全錫淡)(八)과 역시이고을은률면남천리(殷栗面南川里)사는 홍룡긔(洪龍基)씨의 셋재딸 홍순봉(洪順鳳)(一四)과두집사이에약혼이되야 작년가을에이르러화촉의 례를일우고백년을해로하는한쌍부부가 되엿다는데그중에도 가상한일은첫날새앗씨를신랑집에서 사당(祠堂)참배를식하닛가\\n◇신부는안색을정제하야가지고『나는긔독교신자이닛가그런우상숭배는아니하겟슴니다』하고싀부모에게대하야 당돌히반역(反逆)행동을 취한것이라하며처음부터 혼인말이 잇슬때에도 신부된녀자는 신랑의나히적음을 말하고 자긔부모에게은근히 어리광 비슷하게사양을 하여보앗스나『만석군！』이라는무서운황금의세력은마츰내미련한부모의 두눈을어둡게만들고 어린순봉이는여섯해아래의 젓먹이신랑으로더부러청춘에애꾸진눈물을 뿌리게되엿다 봄동산에꼿송이가치피여오르는 홍순봉의나히가 열팔구세될때에는 철업는신랑전석담의나하는 열두살가량밧게아니될모양이니 굼주린사랑의창자는 장차엇더한폐해를출생할것인가？\\n巡廻記者消息\\n◇北隊六日信川□□着\\n◇南隊八日尙州發向聞慶',\n",
       " '處處片片\\n◇벙어리新郞을拒絕 結婚式을  擧行할當日장가들러간新郞이  『벙어리』란理由로新婦의拒絕  을當하고도라와서 임의준돈  과當日의費用을合하야一百五  十圓四十錢과名譽毀損의慰藉  料로五百圓을달라고新郞이든  密陽郡下東面龍星里朴璂鉉은  新婦李南連의親父를거러訴訟  을이르키엿다고(大邱)\\n◇幼兒溺死 黃海道載寧郡北栗  面南芝里羅錫九氏의次子應俊  (五)이와 同里金斗衡氏의長女  玉姬(五)는 지난七日午前九時  頃에두아희가洞內河川에서가  치놀다가어름구멍에빠젓는데  玉姬는不幸히죽어버렷고應俊  은겨우救하엿다고(沙里院)\\n◇面長運動의醜行綻露 新義州  에서飮食店營業을하는白世泰  라는者는 龍川郡守姜某와義  兄弟까지한일이잇슴으로面長  을어더하기가如反掌이라하고  아는사람의印章을窃取하야가  지고面長運動을하다가이것이  綻露되고마럿다는데當地人士  는前記姜氏의醜行에對하야非  難이적지안타고(宣川)\\n◇훔치敎徒훔치질 尙州普天敎  正敎部長金泳生은今年부터當  地某々를차저다니면서甲子年  車天子의登極은乙丑年에는꼭  된다고하며只今부터돈을만히  내는者는將來大官高位를줄터  이라고말하야當地某氏에게서  現今百五圓과土地五十斗落時  價三十餘圓어치를詐取하다가  發覺되여警官에게잡히엿다고(金泉)\\n◇不孝子가改過해 全州矯風會  에서去一月十九日臨時總會를  開催하고孝子烈婦를表彰하는  同時에不孝子를懲戒하엿다함   은既報하엿거니와其後白柱桓  은懲戒를밧은効果인지去陰曆  十二月末日夜에笞束을들고親  父善明에게改過하며前罪를容  恕하여달라고謝罪한結果數三  年間父子反目으로社會의非難  을바더오든白善明家는融和되  엿다고(全州)\\n◇淸州에猩紅  忠北淸州郡淸   州面에는猩紅이流行하야當   地尋常小學校生徒中에서는벌  서四五名의患者가發生되야지  난十一日부터臨時休學까지하  엿슴으로一般은매우念慮하는  中이라고(淸州)',\n",
       " '◇新郞新婦\\n平南 江西郡金信敬君과金銀洙孃의結婚式을十二日午後二時에甑山市禮拜堂內에서擧行하엿다고(江西)',\n",
       " '◇新郞新婦李邦濟君과朱賢七孃의婚禮式을지난十六日下午一時에中荷里禮拜堂에서金光票牧師의主禮下에擧行하엿다고(咸興)',\n",
       " '◇新郞新婦黃海道信川邑儆信學校敎員吳明元君과同校敎員任有悳孃의結婚式은오는二十一日上午十一時半에滌暑洞禮拜堂에서柳萬爕牧師主禮下에擧行한다고(信川)',\n",
       " '◇新郞新婦來二十三日午前六時仁川府寺町天主敎堂內에서當地靑年實業家金壽玉君과再昨年에京城進明女子高等普通學校를卒業한才媛張貞彗孃과의結婚式이잇다고(仁川)',\n",
       " '◇新郞新婦\\n리연교(李淵敎)씨의장남종근(琮根)군과 한영수(韓榮洙)씨의장녀련순(連順)양의결혼식을 작일오후다섯시에장곡천뎡(長谷川町)공회당에서거행하엿다더라',\n",
       " '◇新郞新婦\\n時代日報社平南支局長金燦鍾氏(三五)와江西郡甑山朴麟玉氏의四女朴永愛孃(二五)과의結婚式을四日午後三時에甑山敎會堂內에서盛大히擧行한다고(平壤)',\n",
       " '◇新郞新婦\\n方雨龍君(和龍縣公立國民學校長)과當地崔曾玉孃(二○)의結婚式을지난八日午後四時에盛大히擧行하엿다고\\n(英山)',\n",
       " '◇新郞新婦\\n都鎭鎬君과楊鳳子孃의結婚誓禮式은오는二十三日에順天喚仙亭에서擧行한다고(順天)',\n",
       " '◇新郞新婦\\n京義線沙里院李喜在君과平南江西郡甑山崔眞珠孃의婚禮式은來二十六日午後一時甑山禮拜堂內에서擧行한다고(沙里院)',\n",
       " '◇新郞新婦\\n平原郡靑山面崔明翊君과曾山梁恩卿孃의婚禮式은來三十日午後一時에邊鳳朝氏主禮로自宅에서擧行한다고\\n(永柔)',\n",
       " '◇新郞新婦\\n京城大學豫科事務員林成綠君과宣川保聖女學校敎員咸道學孃과의結婚式을來二十六日午前十一時에宣川邑北禮拜堂에서擧行한다고(宣川)',\n",
       " '◇新郞新婦全達鉉君과朴淑媛孃의結婚式을來二十七日安城邑西里禮拜堂에서擧行한다고(安城)',\n",
       " '◇新郞新婦昨二十五日午後一時仁川內里禮拜堂에서京城世富蘭偲醫專在學生崔在裕君과仁川池順鳳孃과의結婚式이잇섯다고(仁川)',\n",
       " '◇新郞新婦新義州北下洞大觀醫院長元大觀君과平壤女子高普校師範科卒業生崔萬實孃의結婚式을今二十八日下午二時에平壤南山峴禮拜堂에서吳基善牧師主禮로擧行한다고(平壤)',\n",
       " '◇新郞新婦京畿道開城郡(京城延喜專門商科卒業)金秉世君과責州邑出生으로多年동안敎育에從事하든車敬夏孃의結婚式은來四月四日午前十一時에黃州邑禮拜堂에서李學鳳牧師의主禮로擧行한다고(黃州)',\n",
       " '◇新郞新婦富民公普訓導趙鏞薰君과同校女訓導申益善孃은지난二十六日에東萊壽安禮拜堂에서結婚式을盛大히擧行하엿다고(釜山)',\n",
       " '◇新郞新婦平壤崇實中學校敎師金得虎君과平壤高等女學校安順德孃은去二十七日下午一時安州城内耶蘇敎中央禮拜堂에서結婚式을擧行하얏다고\\n(安州)',\n",
       " '◇新郞新婦多年間『소벳트』露西亞에遊學하던平南江西郡邑内朴昇冽君과京城梨花學堂出身同郡邑内洪壽山孃과의結婚式을四月二日正午에江西邑內禮拜堂에서盛大히擧行한다고\\n(平壤)',\n",
       " '◇新郞新婦京城普成專門學校在學中인洪坤杓君과密陽公立普通學校敎師高永伯孃의結婚式은四月三日上午十二時에密陽靑年會舘內에서擧行한다고\\n(密陽)',\n",
       " '◇新郞新婦當地靑年實業家全尙範君과日新女學校敎員呂運英孃은四月三日下午七時三十分에釜山鐵道호텔에서鄭德生牧師主禮下에華燭의典을擧行한다고(釜山)',\n",
       " '◇地方短評◇\\n◇定平 定平署에勤務하든巡査  部長金某는人民에게不法行爲  를하다가 巡査로落職되야某  地로轉勤되엿다고 다시犯하  면下人감\\n◇統營 普校女子六學年生林千  金은 當地日人富豪服部某(五十餘)에게出嫁한다는데 仲媒로副面長金某外몃々長들이고 돈만흔늙은日人新郞！어린朝鮮人新婦！돈보고出嫁식히는新婦父母！仲媒장이의몃長！釀出되는것은銅臭！\\n◇公州 本町市塲白某藥房은無產者는돈을가지고가서藥을지여달라하야도 외상藥으로疑心하고病勢가急하거나말거나 二三日式밀우어둔다고醫生이아니라醫死이든가',\n",
       " '◇新郞新婦\\n今月十六日下午一時에開城高漢承君과京城第一高等女學校在學中인金淑子孃과開城自家에서朝鮮式으로結婚禮式을擧行하엿다고(開城)',\n",
       " '◇新郞新婦全南麗水公立普通學校訓導姜大連君과同校敎員徐貴禮孃은去三日午後三時에新婦自宅에서結婚式을擧行하엿다고(麗水)\\n◇新郞新婦本社白川支局長劉在冕君과일즉京城梨花學堂高等科를卒業한平南龍岡郡吾新面月梅里李華鮮孃은去十八日新婦自宅에서結婚式을擧行하엿다고(白川)',\n",
       " '◇新郞新婦\\n平壤光成學校先生池鎔汝君과江西崔致敬氏의長女聖實孃과의結婚式을二十五日正午에江西邑禮拜堂에서擧行한다고(平壤)',\n",
       " '◇新郞新婦\\n元山培誠學校敎員黃材旺君과元山樓氏女學校敎員卓大烈孃의結婚式은二十四日下午三時에元山南村洞禮拜堂内에서擧行하엿다고(元山)',\n",
       " '◇新郞新婦\\n京城普成高等普通學校五學年在學中인李相魯君과今春에京城進明女子高等普通學校를卒業한李時蓮孃과의結婚式을廿四日午後二時에金泉靑年會舘에서擧行한다고(永同)',\n",
       " '◇新郞新婦\\n耶蘇敎監理敎仁川地方監理事金燦興氏의三男基鴻君과平壤魯文五氏의長女一男孃과의結婚式을지난二十五日正午에平壤南山峴禮拜堂에서吳基善牧師의主禮로擧行하엿다고(平壤)',\n",
       " '◇新郞新婦\\n茂山靑年會運動部委員南鍾岳君(二四)과李貞淑孃의結婚式은지난二十八日午後六時에盛大히擧行하엿다고\\n(茂山)',\n",
       " '◇新郞新婦\\n金善斗氏長男聖樂君과尹鳳瑞氏長女宗玉孃과의結婚式을去二日下午一時에平壤西門外禮拜堂에서馬布三悅牧師의主禮로擧行하엿다고\\n(平壤)',\n",
       " '◇新郞新婦\\n平北龜城朝鮮日報支局記者李允恒氏와宣川邑內邊仁淑孃은來十四日新婦自宅에서結婚式을擧行한다고(龜城)',\n",
       " '◇新郞新婦\\n黃海道信川邑私立儆信學校敎員朴弘植君과載寧邑明新學校敎員桂水晶孃의婚姻式은今月十六日下午三時에載寧邑西部禮拜堂에서林澤權牧師의主禮下에擧行한다고(信川)',\n",
       " '◇新郞新婦\\n元山 南監理敎會牧師申錫九氏의長男泰華君과市外松興里李時漸氏次妹壽德孃의結婚式을本月十二日上午十二時南村洞禮拜堂內에서擧行한다고(元山)',\n",
       " '◇新郞新婦\\n今春에京城中央高普를卒業한田鎬浚君(二二)과數年前에咸興永生女學校를卒業하고以來三湖女學校에서敎鞭을잡고잇든張崇德孃(二一)은지난四日에咸興新婦의自宅에서結婚禮式을擧行하엿다고(定平)',\n",
       " '◇新郞新婦\\n明川公立普通學校訓導崔松吉(二三)君과現在明川光東學校訓導鄭福仁(二三)孃의結婚式을五月十二日午前十時에鏡城靑年會舘에서李雲赫氏主禮로擧行하엿다고(鏡城)',\n",
       " '處處片片\\n◇나도千圓나도百圓 安城警察  署에서는演武舘을建築하기爲  하야工事費金五千圓을當地富  豪에게寄附를請한다는데他種  의共公事業에는寄附내기를원  수가치실혀하든富豪들도演武  舘짓는다는데는 誠을내어서  朴弼秉千圓、朴泳大千圓、李根  泰千圓、鄭殷薰千圓、이와가치  爭先하야寄附金을내엇다하며  또數年前에警察署長舍宅을지  을때도나도千圓나도幾百圓하  야四五千圓이단박에모혀서훌  륭한집을지엇다고(安城)\\n◇妓生에게마저 安城邑內料理  店長樂舘에는지난五日午後十  時頃에『뽀이』妓生、妓母等이  符同하야엇던靑年두사람을無  數히亂打하는殺風景을이루엇  다가지나가든巡査의號令으로  겨우鎭定되엿다는데內容을듯  건대同郡竹山里朴壽興崔翼俊  等두靑年이前記料理店에서料  理를먹고代金八十三圓을支拂  치안엇슴으로妓母黃鳳善、妓  生金瓊波、뽀이禹春根朴奉慶  等이한떼가되야그와가치亂打  한것이라고(安城)\\n◇노루가市中에橫行 지난륙일  오전구시경에큰노루한머리가  경의선 사리원동리(京義線沙  里院東里)에낫타나서시가 디  로횡행하는것을시민들이사면  으로에워싸고일대소동을하엿  는바필경은리종만(李鍾萬)이  란사람압흐로달려드는것을타  눌러잡앗다고(사리원)\\n◇面書記의無理한行爲 慶北迎  日郡兄山面書記崔祥東은四月  七日에戶稅을바드러本面上島  竹島海島四洞에 出張하야戶  稅期日은四月二十五日까지인  데即日에곳내지아니한다고모  든사람을다나오라하고五十餘  戶의門을堅封한事實이잇다는  데洞民은이로말미암아他人의  집에가서잔사람이만타하며一  般은이에對한非難이藉々하다  고(浦項)\\n◇장란감銃에마저重傷黃州郡黑面黑橋里金敎焬은黑橋尋常小學校第六學年生徒鄭鳳翼이와가치運動하는中에彈丸이들어잇는銃을가지고놀다가發銃되여前記金敎焬의눈통에마자重傷을當하야應急治療를한結果알은입섯고火藥뿐임으로生命에는아모關係업고다만눈瞳子가傷하엿다는데黃州正方醫院에入院治療中이라고(黑橋)\\n◇多幸한成婚式榮州邑內全基錫은愛女永姬를同郡崔海石에게許婚하엿든바去一日結婚日에新郞의醮行이微々하야退婚說을提起하엿스나來賓某々의勸諭로無事成婚하엿다고\\n(榮州)\\n◇파리買收慶南東萊郡에서는傳染病을豫防키爲하야每年파리(蠅)를買收하야그驅除에努力하든바今年에도本月부터蠅取紙一枚三錢一合十五錢式으로買收를開始하엿다고(東萊)\\n◇붉은잉크를疑心全南務安郡智島警察官駐在所압길兩便에太極旗세운것이發見되야所轄警察當局에서는秘密裡에서調査中이라함은既報한바어니와去五日에本社智島分局記者丁斗鉉氏를訪問하야저고리와바지를借去한後다시駐在所로召喚하야衣服에붉은잉크무든것을嫌疑로長時間을調査하엿다는데입은衣服임을不拘하고無理하게差押한것을差押物假還付請求書를提出하고衣服은無事히차저왓다고(智島)',\n",
       " '◇新郞新婦\\n北間島 大成中學校學監金秉洽氏三男演瑀君과府內塲村洞林桂華氏의長女淳吉孃과의婚禮式을지난十二日下午二時府內山祭洞天道敎堂內에서宗理師徐珉河氏主宰下에盛大히擧行하엿다고(元山)',\n",
       " '◇新郞新婦\\n邊應震君과金明善孃과의結婚式을本月十五日下午八時半에咸興中荷里禮拜堂에서金光票牧師의主禮下에擧行하엿다고(咸興)',\n",
       " '◇新郞新婦\\n去十三日下午二時當地禮拜堂에서牧師崔聖柱氏主禮로中國南京金陵大學校에在學中인金永濟君과京城梨花女子高等普通學校를卒業하고現下碧潼新明學校敎師로잇는金如珠孃과의結婚式을擧行하엿다고\\n(碧潼)',\n",
       " '◇新郞新婦\\n本報安邊分局記者黃相熙君과安邊郡培花面文峰里金栢梧의長女金寳璟孃의結婚式은來二十五日新婦宅에서擧行할터이라고(安邊)',\n",
       " '◇新郞新婦\\n金允植君과金貴蓮孃의結婚式은昨六日午後八時半에開城中央禮拜堂에서鄭春洙、林訥耐言兩氏의主婚으로盛大히擧行하엿다고',\n",
       " '◇新郞新婦\\n新郞梁在道君과新婦盧南嬌孃은七月十日午後一時에金海靑年會舘에서崔瑗 氏主禮下에꼿다운結婚式을擧行하엿는데新郞은日本大學社會科에在學中이오新婦는東京牛込高等女學校에在學中이라고\\n(金海)',\n",
       " '◇新郞新婦\\n庭球界의巨星인李弘正君(現日本專修大學商科在學)과宣川梁濬明氏令孃敬三(保聖學校出身)孃과의結婚式을明十七日宣川邑南禮拜堂에서洪承漢牧師의主禮下擧行한다고(宣川)',\n",
       " '◇新郞新婦\\n本月二十一日午前九時에金河俊君(日本東京早稻田大學을맛치고現在間島龍井市恩眞中學校敎員)金貞媛孃(東京靑山學院을卒業하고龍井市內明信女中學校의敎員)의結婚式을李成國牧師의主禮下에龍井市東山長老會禮拜堂에서盛大히擧行(間島)',\n",
       " '◇新郞新婦\\n李鍾箕君現城津公立普通學校訓導와元鳳喜孃(全南靈岩公立普通學校敎員)의結婚式을本月廿四日午後五時에城津幼稚園에서城津面長李應烈氏主禮下에盛大히擧行하엿다고\\n(城津)',\n",
       " '强制結婚의弊害를보고\\n◇사람이란언제던지사람답게살여하며 보다더그무엇을바라는것이通性이다 그러나 個體가分離된以上에는 外貌의다름을따라사람마다 그性質、理想、觀察이다른것이다 그럼으로人生生活에至重且大한 結婚이란것은 彼此圓滿한理解下에成立되지아니면아니된다 그는理解업는結婚에는 愛가업는까닭이다 元來結合의要素는 愛이니愛가업는結合을 엇지正當한結合이라하리오 다시말하면꿈에도보지못한不知初面의 强制的仲介로된 兩性의結合은 맛치別種의植物을接木함과 다름이업는것이다 이제 所謂在來의結婚制를檢討하여보자！\\n◇父兄들은自己의職責을다한다는口實로써 當事者間의意思如何는도라볼餘地도업시 自己네의마음대로 强制結婚식히는것이從來의制度이엿다 元來結婚이란것은新郞新婦 兩者間의直接關係事로 兩者의結合에對하야는 第三者인父兄의干涉은絕對로不可한다 그는各個人이그理想과觀察이 서로다른까닭이다이에萬一父母를民族主義者！舊家庭繼承者라하고 子女를社會主義者！新家庭憧憬者라고하면父母의選擇은贅言할必要도업시 民族主義舊家庭繼承者일것으로 當事者間에는氷 不相容의 敵對間일것이다\\n◇비록父母의强制에이기지못하여 屈從的結婚이되엿다하자그들이木石이아닌以上 그엇지百年偕老키를企待하랴！普通所持品에對하여도 各自의好嗜心을따라 제각금相異하거든하물며 一生을갓치할兩性問題에對하야그누가干涉하며 制裁하랴！頑固父兄이여覺醒하라子女를사랑커던！(李笑古)',\n",
       " '新郞新婦\\n박승원(朴承元)씨령식박준병(朴駿秉)(二一)군과리석환(李錫煥)씨뎡매리창순(李昌順)(二○)양은십구일오전여덜시에시내중림동(中林洞)텬주교당(天主敎堂)에서결혼식을거행한다고',\n",
       " '리프族獨立戰爭\\n(五)\\n리프族의强한理由\\n『리프』族이라는것은 西班牙領의住民이다『리프』라는名稱은『리비안』(Libian)의、訛轉이라는데 그들은摩洛哥의一般住民『모어』(Moor)人과同種이요共通한性質習慣을가지고잇다 非常히混血한 摩洛哥의土人은總稱『모어』人이라는데 本來는白人이다 歐洲에서『모어』人갓치검다고하는말이엇지만은 이는事實과틀린다 그들은 沙漠에住居하는까닭에 볫에글려서遺傳的으로 카페에 牛乳를탄것갓흔빗이나 嬰兒와都會의住民은歐人에 不可한貌色이다 그런데고들에게는結婚에對한奇習이잇나니男女가八歲만되면 結婚하는데이는早熟하는 帶地方共通의 習慣이지만은좀特異한것은 新婦를生子하기까지新郞의 生家에두엇다가 子息을나면 家庭을獨立한다는것이다 이것은婦女의放蕩을防止하는手段이라하며 그婦人들은一般으로美顏의 所有者로有名하다 그래무슨理由로『리프』族과이戰爭이 그러케困難한가？또엇지하야『리프』族이 그러케强한가？이는 興味잇는 問題이다 戰爭이이러케困難한重大原因은그地理이다 此地方은一帶의沙漠으로 그나마그中間에는톱과갓흔形體의 山脈이連亘하야士地가 嶮岨한우에夏季는焦地獄이되고冬節에는相當히치운데다가 間斷업는降雨로 泥濘沒膝하는形便이다 그天然이氣候에行習이되여버린 住民은戰爭에막도라다녀도 苦痛이아니지만은 佛蘭西나 西班牙의兵隊에게는 이러한데에서의戰爭에는 堪耐할수업다 또道路가不完全하야묵어운 大砲等은自由로 運搬할수업고또모처럼싸와익이드래도 山間에숨어버린슥 도모지손을내밀데가업다그와反對로 土民軍은발익은土地를自由自在하게 뛰여다닌다더욱히『리프』族은生來의 戰士이요 烈한回敎徙이라 極端으로『파나틕』한까닭에『알라』의일음에依하야는아모것도 두렵어하지안코 엇더한艱難이라도실혀하지안는다\\n그들은自古及今에强大한外國의侵入을受하면서 亞剌比亞人과羅馬人外에는征服을當한일이업다고 豪語한다 또한가지이國民的大勢力을支持하는 婦人이힘을度外視하여서는 아니된다그들은古昔『스팔타』婦人과갓치 頑健하고 獻身的이다男子가九○퍼센트까지戰線에 서드래도오히려또한困難을不感하는것은 이婦人이잇는힘이다 또하나『리프』族의强한까닭은 偉大한指導者를推戴한것이다그의일홈을『압델·크림』(Aqdel｜Krim)이라한다\\n그는名門의出生이요일즉相當한敎育을바든男子이다 그러나一九二一年西班牙의遠征된『메리라』의 싸홈까지는 全혀無名之士이엇다그때까지의그는 渺然한西軍의一將校로 土民을訓鍊하다가陰謀에坐하야 投獄되엿더니뒤에脫出하야『리프』獨立運動에 加擔하고 그敏捷한戰法으로작구頭角을現出하야『메리라』戰에西軍을全滅하고 英雄이된것이다 그後그는大英斷으로『리프』全土에亘하야 族長制度를改正하고軍制를 歐洲에倣하야全國民을軍隊에 編成하고 各部族(Tribe)을 數個中隊에 分하야그部族에屬否를不關하고 誰某이든지才智잇는者를 選擇하야各中隊의 指揮官에任命하엿다딸아 各部族의酋長所謂『시｜ㄱ크』(Sbeik)는 全然廢止되엿다\\n元來이族長制度는그制度잇는國家는國家로하여서의 團結上恒常큰障碍가되는것인데 이를打破한것은非常한革命이다 딸아此改革에反對하는소리는자못 激烈하엿스나 그는斷乎히그主張을貫徹하엿다 이것만으로도그가决코凡人이아닌것을알수잇다 其他그는두가지의 改革을行하엿다其一은奴隷의解放이요 二는烟草의禁止이다그烟草는 거기말로『하세수』라하야 씹기도하고피기도하야 阿片과近似한作用을하는것으로 摩洛哥全土에亘하야愛用되든것이다\\n勿論此等事業은『압델·크림』氏 一人의業續이아니요 그를輔佐하는軍務內務外務財務의 四大臣이잇서모다 智德이秀越한人物들이다또『리프』族의强한理由로 消極的의半面이잇다 即佛軍이弱한까닭이다 元體歐洲大戰의實蹟으로보아 佛兵의勇敢치안타고斷言할수는 업지만은 彼等은佛國과直接關係가업는 贅戰에犧牲되기를不願한다 그까닭에佛兵의攻擊은鈍한것이다 또한가지佛軍中에는『세네칼』土人의居半인데 彼等은全然戰鬪의意思가업는까닭이다\\n‖寫은압델·크림‖',\n",
       " '白  色\\n(十六)\\n◇光과明과白은日의三屬性이지마는 能所와主客에분명한界限을세워가지지못한 古初人은光과明에서 그러한것처럼白도그대로 日이오日이또그대로天이엇섯다。 哠、 、旳、晳、暟等字가日扁으로써皓、、的、皙、皚等白扁字와한가지白의 訓을가젓슴과 그中에서도皓가튼것은日光의義(爾雅釋詁)와、(屈原의遠遊의『歷太皓以右轉兮、前飛簾以啓路』에서처럼)天의義를가젓슴等이다 白허고日허고天허고의彼此干涉을 볼것이다阮籍詩에『朝起瀛洲野、日夕宿明光』이라한것을注에『明光丹丘也』라하엿스니(佩文韻府所引)丹丘는 楚辭에『不死之舊鄕』이라하고그注에『海外神仙地、晝夜長明』이라한理想界로三神山의一異名인즉 우리의見解에□하면丹丘即『당굴』即天界의意인것으로、이또한明光과天을類語로通用한 一證이되는것이다。 저後世의詩에『七夕天河白露明』(江總)『能添白髮明、『白鳥去邊明』(幷杜甫)、『點點白鷗明』(貢奎)等처럼白과明을連比하야씀도 실상은詞人의文藻로만이아니다。\\n◇무릇日의色으로씌우는것이赤、黃、白三種인中에赤 乃至朱紅等은 特殊한界限에만引喩되는것이오 黃은字源부터光으로主體를삼은것처럼 다만日光의色을 그리는字지마는 黃과白은光度의上에서 가장近親關係를가저 흔한境遇에同一不二의觀까지를呈하는것이오 특히白은日의色、光、明等性質을 全的으로表現하는 唯一의形容語｜니 그適切한用例를 오랜詩歌에서만히볼수잇다 日의別名을白駒라하고 晝日을白晝라하는 支那에는宋楊萬里의羲娥謠歌 가튼것이잇다『羲和夢破欲起行。 紫金畢逋啼一聲。 □天上落人世。 千村萬落鷄爭鳴。 素娥西征未歸去。 簸弄銀盤浣風露一丸玉彈東飛來。 打落桂枝雪毛兎。 誰將紅錦幕半天。 赤光絳氣貫山川。 須㬰却駕丹砂轂。 推上寒空碾蒼玉。 詩翁己行十里强。羲和早起道無雙』의 玉彈이라함은 미상불白日을얌전하게形容한말이라하겟다\\n◇印度의古聖歌를뒤지건데그日神에對한讃頌中에는『婆樓那는天空과가치 河海에나리시도다、물방울 처럼희고 새처럼세차도다』(梨俱吠陀七、八七、六)、『저曉紅은이러틋간전지런하게 平等스럽게不滅의色相으로써進行하는도다、闇黑色의妖怪를光明으로써가리우면서 희고또맑게、그몸에서光을發하면서』(同四、五一、九)『蘇利耶가그新郞에게로 시집갈때에|그수레를끄은雙牛는 白色이러니라『(同一○、八五、一○)한것과『마고반』의白淨液『아수빈의』白色馬等白에關한 形喩가작지아니함을본다。\\n◇『수르야』‖蘇利耶는印度神話에잇서서 太陽의光赫赫한具體的方面을 神格化한神이니그作用의特質로볼것은 天의眼으로下界衆生의 行動을監視함과 그光明으로써밤의暗黑을掃除하는일이다。 그는波斯의『흐바레』、希臘의『헬리오쓰』에當하는일홈이오羅馬의『솔』、乃至日本의『ソラ』를아울러서 國語의『새벽의『□』과 新年의『설에關聯하는말이니 白을意味하는『□』의類語派生語인『□』가世界를通하야『天』『日』乃至『光』으로더부러한 밋침을볼것이다。 古代로말하면 巴比倫의Shamash埃及의Osiris,Sechet北歐의Zio와近代로도 西洋에서는英語의sun, shine等、東洋으로는『아이누語』의sare(開)sesek()、shiretok(美)、shiri(日氣)等이대개 그類屬일것이다。',\n",
       " '水災同情金\\n水害罹災者救濟會\\n五十八錢原田稔、五十七錢式淸水武、吉岡利藏、五十六錢文奎欽、五十五錢中口作造、五十四錢式山本武次、矢槌○喜代五十三錢式水上大興、安部郡之助、山田藤次郞、五十二錢式佐藤壽、岡本平治、五十一錢式芹田嘉夫、東條得一、東條俊郞、田中松太郞、五十錢式岡田俊雄、中村シヅ、太田登代農、淸水淸、稻葉三郞永田末松、國安アヤ、武田サノ、遠藤惣八、坂口靜太、惣島良一、千早萬平、富田徹一、小田勇、河野一生、筒井 、金慶三、盧錫洪、早川實福江達美、洪龍潭、朴世鶴、河井則雄、小坂昇、奧田倉穗、森永賴正、李權爕、來栖康、權泰仁、高畑玖壽、串崎忠太郞鞠金南、下村光義、五十川輔次、村崎芳喜、李永珍、金賛吉、李順業、伊藤靜、木村貞子、品川キヨ、竹下フと、古賀フヱノ、吉田久枝、田代トシ、鈴木カネ、西上俊次郞、本田良基、三田番數、廣中ヨネ子、宮本繁、石川繁登、大西園、今村岩雄、深田與四次郞曹富煥、金鶴太、金漢綺、三原秋、金漢起、辻淸次、九十七圓二十四錢篠原延次郞外三百十五名\\n計三百四十四圓二十八錢也累計二十三萬七千二百二十二圓四十八錢也(以下遞信局分)十圓式成田新郞、新具肇、五圓式河合儀一、井上俊治、林泰五郞、森英太郞、大賀文喜三圓式矢倉敏二郞、伊藤行也石井雄一、尾木德槌、磯谷鍾之助、龜岡一、二圓九十三錢鈴木きく外三名、二圓三十錢式落合盛、望月光壽、二圓二十錢大江早登、二圓十六錢式渡邊龜五郞、關口義亮、二圓式山下豊記、松本晴次、大浦元治、多田到、荒川九郞次、久米重朗、加藤虎吉、佐久間松治郞、岡本嚴、下宮繁雄、副島初一、梅田與作、黑河樟三、森憲一、湯本鑒之助、關谷正、有座源二、早水榮助、松井勘治、高橋仁三郞、一圓八十四錢京增晋、一圓七十錢式三好常造、尾澤谷藏、三宅百三、一圓六十錢式堀江合平前田晴番、吉本一男、山岸直次、一圓五十錢式川口潔、金鎭穆、齋藤千代松、小田切厚道元孝助、瀧田正良、矢崎音作、原田與三郞、島岡淸次、針木已之藏、三原一郞、三宅耕一、高田初次郞、山崎德二郞、近藤正雄、田中貞亮、一圓四十錢式小堀泰一郞、川浪淳平、小川好一、一圓三十六錢式、野田豊一、得能正憲、神谷憲行、杉本一守、山崎文治、村上退之助、一圓三十錢式鈴川鼎三、肥川繁夫、上野武雄、須藤四郞、一圓二十錢式米濱鐵藏、木野智、鈴木時壽、佐佐木直司、和合重友、岡田彌四郞、中村源之助、塚田房治郞、小笠原義章、坂元義兼、落合志津男、柳原四方吉、權藤誓船、山崎淸平、中川覺式、朝倉正博、米光滋三、池田督、重松武雄、森下敷、內田役一、小南源太郞、稻垣忠次郞一圓十五錢伊藤直吉、一圓十錢式 宮幸一郞、瀨古淑雄、藤川壽吉、後藤末藏、高橋寬堀田定一、板埋忠、山田良雄、永田源吾、永井頓寬、一圓八錢大內田忠吉、一圓七錢式 酒井松次郞、松本貞次一圓式岡田雅亮、相島平一、許斐千里、',\n",
       " '時 事 一 束\\n▲新郞新婦 황해도신청(信川)출생으로 방금 경성일화생명회사사원(京城日華生命會社社員)리석주(李錫柱)(三一)군과 금년봄에 경성배화녀자 고등보통학교(京城培花女子高等普通學校)를맛친 리창순(李昌順)(二○)양과의 결혼식을 이십구일오전십일시반에 해주읍동영뎡 륙십이번디(海州邑東榮町六二)신부자택에서 거행할터이람니다\\n▲新郞新婦 함남북청군북청면동리(咸南北靑郡北靑面東里)에원적을두고 현재일본동경 조대(早大)에 재학중인 김희선(金熙善)군과 동면남리(南里)리해순(李海順)양의 결혼식과 전긔김희선군의 아우인 김희일 (金熙一)군과 동면서리(西里)공립보통학교훈도로잇는 박현숙(朴賢淑)양과의 두쌍결혼식을 십삼일오후세시 자택에서 거행하엿는데 드물은 결혼식이라하며구경하느니가만헛담니다(북청)\\n▲新郞婦新 북간도룡정촌(北間島龍井村)최명민(崔明敏)군과 인천부송림리 (仁川府松林里)리긔순(李奇順)양은 지난십삼일 오전열한시에 시내경운동텬도교당(慶雲洞天道敎堂)에서김병준(金秉濬)씨 주례로 결혼식을 거행하엿담니다',\n",
       " '紙上映畵\\n메트로꼴드윈社作\\n大喜劇\\n突貫新郎\\n全七卷\\n노 마 샤 라孃콜란드네겔氏共演\\n解說『루파트휴스』씨의원작무대극으로 전미국을풍미하든『진정용서하서요』를『휴스』씨자수로각색하야 총지휘하고알푸『꼴띄잉그』씨가 감독한것이다 주연은봉행정화(縫行情火)와치인애락(痴人哀樂)등 으로최근에큰명성을어든 미인녀우『놀마샤라』양과 치인애락『수난』(受難)테스』결혼만세(結婚萬歲)등에주연을한『콘란드네겔』씨요『레데아드레』양과『월더하이어쓰』씨등이조연하얏다梗槪『하리마로니』중위(네겔氏演)는『피립핀』에부임코자출발하게되자먼저그애인인『마조리』(샤라孃演)와결혼코자하엿스나 시간관게로뜻을일우지못하고 렬차안에서결혼을하기로하고『싼푸랜시스코』가는 침대렬차를탓다 그러나잔득미덧든목사가 뵈이지아니하고승객들은 신혼부부로대접을하며또는 감둥이렬차『뽀이』(하이아스氏演)가뛰어들어서렬차중에서한바탕 허리가부러질희극을연출한다 그이튼날하리의녯날애인『푸랜신』(아드레孃演)이우연히 가튼렬차에탓다가차저와서 자긔남편이자식을빼아스랴고하니 좀구원해달라고『하리』에게다리고잇든어린아희를맛기고 아버지라고불르게한다그것이오해의 씨가되어『하리』『마조리』『푸랜신』세사람이 삼각으로 대소동을일으킨다 그리 하다가 겨우어느 뎡거장에 일으러서목사를맛난『하리』는렬차로부터뛰어나려서 목사에게교섭을하는중 긔차는그만떠나바리엇다『하리』는 하는수업시비행긔를어더타고 그뒤를딸케되엇다 긔차가가는중간에텰도다리가불이나서 떠러지게되엇는데『하리』가그것울 보고위험을무릅쓰고 비행긔로부터뛰어나려서위긔일발에 잇는만흔사람들의목숨을구원 하얏스며『하리』와『마조리』는 비행긔덕택에시간이 느질번한것을면하고『짠푸랜시스코』에 도착해마침내결혼식을 거행하게된다\\n‖寫   眞‖\\n突貫新郞의一塲面',\n",
       " '紙上映畵\\n修羅의鬪牛\\n全八卷\\n메트로꼴드윈社特作\\n페드로띄콜빠氏레네아드레氏共演\\n解說\\n『폴그윙』씨의 원작을『톰데레스』씨가각색감독한영화로전편을모다 서반아에출장촬영한영화이다 더욱이투우장면은혈과사(血과砂)디상 몃배나긴장미가 나타난다악역으로유명한『례드로콜드빠』씨요 돌관신랑(突貫新郞)에출연한『레네아드레』양이녀역을마터출연하얏고 신진배우『마그엘그라나더』씨가주역을마터연출한것이다\\n梗槪\\n『세비라』룡긔병 대댱(龍騎兵隊長)『카라스코』는 자긔안해를빼아섯다는혐의로『빠산』후작을깁히원망하야자긔딸『페트라』는충복『쭈안』이란 사람에게부탁하고 자긔는산적의두목『빠드레로』가된다 복수의뎨일보로후작의아들『라몬』을꾀어내어역시『쭈안』의 집에다가감금을하얏는데 뜻밧게그의딸『페트라』와『라몬』은 련애하기시작하얏다『빤드레로』는 깜작놀라『페트로』를협박하야 혼약을깨처바리게한다 그리자한편으로는 그근처에사는『콘짜』라는녀자가은근히『라몬』을 사랑하다가마츰내 그를딸하서『세비라』로갓다이때후작은정부의통치자가되엇는데아들『라몬』의종적을 찻기위하야『카라스코』로하야 금산악부경찰장을식히엇는데 그가자긔에게복수심을품고잇다는말을듯고 놀라지안이치못하얏다한편『라몬』은투우사가되고『콘짜』는 춤추는녀자가되엇다 투우경기가열니는당일에하염업는 사랑갓게된것을한탄하든끗헤찰알히『라몬』을죽이고자『콘짜』는후작을꾀이어맹우가 피곤해지기전에『라몬』에게그소를 찔러죽이라는명령을나리게 한다투우사령『라몬』에게는실로죽으라는명이엇다마츰내『라몬』은 중상을당하고쓰러질때에 후작은비로소그가자긔아들인것을 알게된다그리하야원수의 아들과딸은굿센사랑의열매를맷게되어『라몬』의상처가낫자두남녀는결혼을하게된다(끗)\\n‖사진은수라의투우일장면‖',\n",
       " '結婚式當日에\\n新郞을逮捕押送\\n원산청년회사건의관게자\\n원산(元山)청년희위원검거사건은극비밀리에계속취조충인대원산서에서는동사건의 관계 련두자로동회위원한명찬(韓明燦)씨를 고향인고성(固城)서로 체포하여달나고 의뢰하엿든바 동씨는지난 십사일에 자동차로호송되야 방금류치취조중인데 동씨가고향에갓섯슴은 십사일이 그의결혼식을 거행한날이엿 슴으로 혼례식을 거행할차로 향뎨에갓섯든것이라하며 결혼식도못하고 전긔와가치 톄포되여호송되여온것이라더라(원산)',\n",
       " '◇新郞新婦◇\\n전북전주군삼례(全北全州郡參禮)뎡근(鄭根)씨의댱남인섭(仁爕)군과경성 여병현(呂炳鉉)씨의댱녀운숙(運淑)양과의결혼식을십륙일오후세시에시내뎡동뎨일례배당에서김종우(金鍾宇)목사의주례로거행하엿담니다',\n",
       " '老 總 角 의\\n新 婚 宴 에\\n新婦는避身하고||\\n新郞은激憤해서斷髮\\n신부오기기다리던연석은흐지부지\\n거즛즁매로생긴희활극\\n경남산청군삼장면대포리(山淸郡三壯面大浦里)조영칠(趙英七)(三八)은동군동면태하리(坮下里)조해룡(曹海龍)(二六)이가 아즉장가를들지안음을보고이것을긔화로 자긔의 이종매(姨從妹)가되는손귀임(孫貴任)(一四)이라는처녀를소개하여준다한후전긔조해룡에게그소개비로 현금이십오원과 벼열말을 바더먹은후손귀임의친모송씨(宋氏)에게는하등의상의도업시조해룡의집에가서지난이십이일이혼인날이라속인결과 조해룡의집에서는 그날을 결혼식겸 신행하는날이라하야 여러손님을 청하여잔채를베푸는 한편으로 가마(轎子)를동군 단성면자양리(丹城面紫陽里)한직우(韓直愚)의집으로 신부를태워오라고 보냇든바 귀임은 아모것도모르고잇다가 갑작이자긔를 다려가고저 가마가왓다는말을듯고 엇던영문을 몰라크게놀내여 몸을피하여 버렷슴으로 가마를가지고 갓든사람들은 할일업시공행이되여 도라갓다는데 이것을본신랑은 분하고남이붓끄럽다하야 상루를 잘라버린일장의희극이잇섯다지금은그신랑될번한총각은전긔조영칠에게 속은것을분하게 생각하야상당한조처를할터이라고(단성)',\n",
       " '이랑호\\n(七)\\n朝鮮歷史及\\n民俗志上의虎\\n建國初頭以來久遠朝鮮의表\\n六堂閑人\\n◇童話上의虎\\n童話(Faisty table, maseben)의中에는 虎를主人公혹 副主人公으로한 썩재미잇는것이퍽만흐니 이알에적고저하는一篇과가튼것은어느點에서『그림』의『狼과닐곱마리의염소색기』에共通되기도하거니와『그림』이나누고나의童話集中에도 석기가도로혀앗가운것이라하겟다\\n녯날에남매와더어린애한아를다린할멈이 날마다고개고개넘어장자집으로 다니면서일을해주고 수수개떡을어더다가는 기다리든어린애를먹이기로 일을삼앗다 하로는떡을어더가지고 집으로도라오다가 한고개마루를올라서니범이한마리쭈크리고 안젓섯다『할머니할머니 손에가진것이무엇이오』『수수개떡이란다』『그것을주면 아니잡아먹지』그래서떡을주고첫고개를지나갓다 또한고개를당하매 그범이압질러와서잇다가『옷을벗어주면아니잡아먹지하매 벗어주엇더니 옷을빼앗고는 다음고개에서필경사람까지잡아먹엇다 그옷을닙고할멈의집으로가서 어둔틈을타서 방으로들어갓다 남매가반겨라고나와손을잡으매손이뭉클하야 전과다를뿐아니라따뜻한말이업슴에얼만콤의심이낫다『어머니어머니 오늘은엇째떡을아니가지고오섯소』하니까『오다가 범을맛나빼앗겻다』하고 어린애를달래서끼고누엇다 조곰잇다가무엇을오드둑오드둑 먹는소리가남으로『어머니 잡숫는것이무엇이오』한즉『장자집에서어더온 콩복근이다』한다그러나동정이이상하야 가만히삷혀본즉 콩복근이란것은백제거짓말이오 어린애를그러케깸으러먹는것임을 깨다랏다그제야 큰일이난줄알고들이의론하고 뒤보겟다는핑계로밧그로나가도망하려하나 문이이미장기고 여러달래야밧겻치안심되지아니한다는핑계로말을듯지아니함으로『어머니어머니 그러면우리허리에줄을매어붓잡고계시오』하야겨오밧그로나갓다 남매가허리에매엇든줄을글러서뒤간기동에매고급히우물가에잇는홰나무로 긔어올라가서날새기를기다렷다 나갓든아이들이들어오지를아니하매 나와서여긔저긔찻다가 흰한빗헤우물에빗친그림자를보고 그속에빠진줄만녁여서 데미다보면서『이애야이애야너의들이어쩌다가 거긔가서빠젓니조리로 건지랴함박으로건지랴』하고 연방꾀엿다 남매가나무우에서 우슴을참다못하야어린편이하하소리를하얏다그제서야 나무를올려다보고몬저형더러『너는이떠케나무엘올라갓니』하니까『나무가지에 기름을발으고나막신신고올라왓소』하얏다 그대로하야수업시떠러지고는다시동생더러무러보앗다『너는어떠케올라갓니』하매 나이어림으로바른대로『독긔로 나무에자곡을내고맨발로올라왓소』하엿다그래서범이긔어오르매남매가하늘을바라보고『하느님하느님우리를어엿비보시거든성한동아줄을내려보내시고 밉게보시거든 썩은동아줄을내려보내십소서』하얏더니 하늘로로서튼튼한 오색동아줄이나려온고로그것을 붓들고올라가서산애는 달이되고계집애는해가되어서 세상의귀어운어린애들을 밤낫업시사랑의빗츠로써쪼이게 되엇는데해는계집애임으로 서광을설여서형톄를 그속에감초고달은아무나환히보게 몸을들어내기로하얏다 범도뒤조차올라가서아이들의 옴기든대로발원을하얏더니 하늘로서썩은줄이나려와서 붓들고올라가려다가떠러저 수수깡밧헤걸려서 피를랑자하게흘리고죽으니 시방수수깡에 붉은점박인것이 곳그때 그범의흘린피가 전해나려옴이다 이속에는 日月起原과 가튼神話的分子도 약간석겻지마는과연아름답고 재미잇서 藝術的童話의上乘임을나타내엇다할것이다 이런따위朝鮮民族의詩才로서 自然히流出된淸泉과 언젠지모르게滿發된佳花는 이로손꼽지못할만한多數를 그의民族文學(Volks poesie)의中에가젓다\\n◇傳奇的說話上의虎\\n어른들의이약이 곳傳奇的興味를中心으로한古談도 무론퍽만흔數量을가젓다 芝峯類說卷 二十禽蟲門獸의條에\\n丹陽郡吏、賚公牒、赴忠州、道  遇虎子三、以杖擊斃之、俄有母  虎、哮吼而至、吏倉黃上高樹  虎仰視之、若無可奈何者、去良  久、引一豹來、豹小而捷、緣木  迨逼身、吏□、自脫褌、用兩  脚、蒙其首而急擠之、豹墜地  虎以爲人、即□殺之、既而知其  豹也、繞樹大吼、仍入山去、吏  下樹、剝四死皮、乃達于方伯許  方伯以稽程將罪之、吏告之故  以其皮爲驗而焉、崔簡易作  豹說曰、豹自負其技、而使於虎  竟爲所殺、斯其自取之也夫라한것과 左溪裒談에  劉克良之母玉臺、洪相暹之婢、  誤碎玉盃、恐被罪、逃走至鳥  嶺、飢渴困憊、兩足生繭、乍  臥龍湫上岩石、息憇着眠、忽有猛虎、大號一聲、玉臺遽失魂魄、伊日克良之父劉座首、喪耦永□、役軍聚會穿壙、山上擾擾、家中寂寂、成墳之後、座首有看檢事、急急還家、則堂前土座、有二八丫鬟、即玉臺也、委臥己死、胸膈乍温、極其怪訝、急抱入 温堗、出涎納口、或揉手足、良久始有喘息、繼以粥物、調救漸生、宛然一處子也、詳告其由、盖爲猛虎所含、自鳥嶺至延安邑內、衣領少破、肌膚不傷、仍以爲座首後配、生子克良、未幾克良爲孤、母甚貧、移居松都、窮不自聊、克良稍長、負薪資生、及其成長、菀有膽略、城內甲第、素有鬼災、累年長空、克良聞之、窮尋其主、以若干價、買厥舍、而先自委宿、則夜三更、白袍□帶十二丈夫、突開窓鑰、侵于□席、克良奮起拳歐、悉皆逃竄、入于後苑竹林間、克良翌日、鑿地五丈許、銀童子十二軀出、自此家產稍饒、始學武技、登科除官諸公爭以將才薦之、將畁榮顯母謂克良曰、我本以某家婢子得罪遠逃、遇汝父生汝、汝本卑賤、猝富貴不祥、克良即尋主家、陳其情、欲上疏削科、還爲奴、洪相曰、爾非我奴、何爲此言耶、克良曰、母既言之何敢冒法登科、背主欺君乎、洪相義之、以放良文券給之、克良於壬辰年、以副元帥、防守臨津、與申硈、力戰死之라한것等은 다재미잇는話例이다 더욱後者는 湖西地方에서數百里밧게親迎하라간新郞이범에게물려가매 색시가꼬리를붓들고딸하가니 범도견대다못하야 뉘집뒷등에등에다물엇든사람을노핫는데 그집이야말로新郞집곳싀집이드란이약이와 好一對가될奇談이다 범을副主人公으로한此種說話의一例를한아적다한兩班이지진두가되니까 종추념을나섯다 종이나가서自作一村하고숨어사는곳에를이르러 못미처큰고개에서해가점을기를기다리고 안젓노라니까우뢰소리가山을리고번개불이눈을갈기면서 범한마리가압헤나타낫다 魂飛魄散을하엿다가한식경만에精神을차려보매범이그저잇기는하나꼼짝못하고 발만허위적거린다 가서본즉급히다라오다가놈이대부동두나무틈에끼여서進退가維谷이엿다 주머니에서노끈을집어내여 불알을꼭동여매고 칼로싹베여가지고도로그자리로와서안젓섯다보기에부터무시무시한 떠꺼머리총각한아가 총을들고숨이차게다라들더니만 범이어대로가는것을보앗느냐고뭇는다 천연히웨그리하느냐하매범한마리를몰다가 이목쟁이에서간바를일헛다한다\\n『응저긔저놈말이냐』하고가르치매 보고는놀라서 曲折을뭇는다『그까진놈！내압흐로지나길래사로잡아다가저나무틈에끼여노코불알을여긔이러케베어가젓다』하고범을랑네가모랏다니가저다쓰라 하매총각포수가 말을다듯지도아니하고 절만꾸벅꾸벅한다어둔뒤에들어갓더니 종추념간사람의흔히 當하는運命을딸하서 저의들끼리공론을한뒤에건넌말아무 총각을불러다가自己를업새버리기로 공론이되는모양이엇다 죽는고나하고 안젓노라니까 부시시하고門소리가나면서 下手者로들온다는놈이 앗가그총각포수이엇다 데미다보더니만질급을하고『샌님저녁잡수셧슴니까』하고 어름어름물러나갓다 밧게서는범을괴만콤도아니아는이총각이 허겁해문안만하고 나옴을보고당황하야무르매『여보 아모말말고 錢帛間잇는대로다내어실려서어서가시게 하오』하면서앗가범잡든 前後수말을다하얏다 이때문에새삼스레그이가가진거드림을다하고 贖良돈도무적빼아서 가지고와서猝富가되엇다는이약이',\n",
       " '新婦를絞殺하고\\n新郞도自殺\\n원인은질투\\n일본대판에생긴참극\\n구일오전네시에일본대판텬왕사구북일동뎡(大阪天王寺區北一東町)옥야력장(奧野力藏)의 집이칭에서그의맛아들의일(義一)(二九)이가 일전에결혼한 자긔의처매야(梅野)(二○)를손수건으로잘나매여죽이고 자긔도 목을매여죽엇는데그원인은전긔매야가혼인하기전에 중천(中川)이라는 애인이잇섯든것을 의일이가아라채리고 질투에넘치여 그와가치참극을연출한것이라더라(대판뎐보)',\n",
       " '◇新郞新婦◇\\n강릉최봉규(江陵崔鳳圭)군과전환자(金桓子)양의결혼식을지난일월이십구일오전십일시에금뎡례배당(錦町禮拜)에서리하영\\n(李夏榮)목사주례아래에거행하엿다고함니다(강릉)',\n",
       " '◇地方短評◇\\n◇沙里院 東拓社員과農監이共  謀하고移民中止하엿다는口實  下에强徵하엿든所謂恩金九十  圓은참아먹을形便이못되닛가  얼토당토안□滯納小作人의小作料로收入을삽엇다고、東拓이여섭섭하지□은먹엇든것을吐하야小作人들에게反還할수는업슬가？\\n◇咸興 去二十二日荷東里韓某  란女子는시집갈때에新郞이二  人이나되엿다고二人의新郞中  一人은舊郞이아니면假郞이엿  겟지？\\n◇光州 요새光州에서는校帽를  쓴學生들이大膽하게매회돈판  (賭博의一種)에서붓탁이를專  門으로한다고송아치못된것이  엉등이에서부터뿔이나는게닛  가',\n",
       " '七十新郞에\\n십팔세신부\\n황해도서흥군 서흥면 예운리박의식(黃海道瑞興郡瑞興面曳雲里朴義植)은당년륙십구세의 로인으로 십팔세의처녀와 혼인을하게되엿슴으로 혼인당일 에는일업는 남녀들이 구경거리라고사면에서 답지하야 인산인해를일우엇섯다는바박의식은본래빈한한집에 생장하야 삼십여세가되도록 혈혈단신으로 의지할곳도업시도라다니다가사십이지난뒤에 다소간재산에 여유가생기기시작하여 지금은 남부럽지안은생활을 하는터인데 그는지금칠십이다된것도생각지안코처녀장가를들려고 각처에 탐문하야봉산군 동선면오리정김락현(鳳山郡洞仙面金洛鉉)의딸 십팔세된처녀와 그가치성혼 한터이라한다 박의식은본실도잇고 첩도잇는몸이라하며혼인당일에는백발을 휘날니면서도 희색이만면하여지냇다하며신부는수심이만면하여 보는사람으로 동정치안는이가업섯다더라',\n",
       " '○訂正本報二千二十四號新郞新婦欄中金連根은『根明』朴春五는『今奉』鍾翊은『鍾弼』의誤植이기玆에訂正함',\n",
       " '『째보』新郞보고\\n新婦가逃走隱身\\n혼례식댱에서신랑을보고\\n째보라고신부가도주은신\\n김해군하게면좌곤(金海郡下界面佐昆)리에잇는감종범(卄宗凡)이라는시람의집에서는지난사일에 혼례식을거행하랴 할즈음에 신부가나오지안코 어데로도주하야몸을 감초와 버렷다는일로일대소동이일어나서물론이만엇다는데이제그내용을들은즉전긔감종범(卄宗凡)의외딸명선(命先)(二○)이라는처녀와동군주촌면량동(酒村面良洞)에잇는정일득(鄭一得)(二三)과 서로 혼인을하기로하고두편에서선을다보아서혼사가완전이되엿다하고신랑측에서는안심하고장가일을차려가지고가서행례를하려하엿슬때에신부측에서는돌연히신랑이『째보』라고신부가도주은신한것이라하며혼수(婚需)등은아직선신부집에의연이잇다하며신랑은사흘동안이나신부를내여노흐라고하다사할수업시자긔집으로도라갓다더라(진영)',\n",
       " '첫날\\n浪  人\\n牧師님은 聖經冊을돌치며『이두사람이||』할때아직도 處女인新婦는『||이時間이 길어지이다』하고가만히속으로부르지젓슴니다\\n그러나 新郞은\\n『옉기이놈의 時間이』하고짜증을 내엿슴니다',\n",
       " '朝鮮民族\\n更生의道\\n【二】【七】\\n生氣振作｜理想樹立\\n｜更生確信｜不斷努力\\n文學士  崔  鉉  培\\n六、早婚은當者끼리의 理解와  사랑과 意思로되지아니한故 로그家庭에龜裂이 생기기가 쉽다 勿論自由結婚한夫婦가 반드시早婚夫婦보다 情愛가 두텁게一生을잘지내는것은아  니지마는早婚夫婦에게그結婚 生活에자미가별로적고그家庭  이별로승겁은것은 一般的으 로만타고아니할수업스며 따 라서家庭에龜裂이 생기기쉽 은것이다 早婚하는社會에蓄 妾의風이盛行하는原因의 한  아는여기에잇다고아니할수업  다\\n七、父母가그子女를 早婚을시 킬적에 男女를다가튼程度로早婚시킬것가트면 그夫婦의年齡에는 差異가안생기겟는대우리朝鮮에서는 自己의아들은 十歲內外의乳兒를장가보내면서 그보는며느리의나는 시집살이를할만한即시아부지 시어머니의밥상이라도들고 新郞의옷이라도좀지을만한處女를求하기때문에 그夫婦의年齡에 적어도三四歲만흐면八九歲의差가 잇는수가만타 그런대 生理上으로볼것가트면 女子가男子보다早熟하고 또早老하는것이다女子는 四十五歲쯤이면 月經이 閉鎻되는것이 普通이지마는 男子는六十餘歲까지도生殖作用의機能이繼續한다한다 이自然의法則에逆行함이太甚한 우리朝鮮의早婚은實로不合理의極度라할것이다舊朝鮮의父母가 隱然히自己子息이 오입도하고作妾도하는것을 認定하는理由의한아는아마도 自己가넘어도不合理한早婚을 그子息에게强制한過失에對하야 多少間意識이잇섯든모양이지\\n이러케詳細히考察하면 早婚의弊가긔막힐만큼 重大한것이라고아니할수업다 여기에 좀외의소리(군소리)갓지마는 한가지부처서말하고자하는것은 冠童之別이라는것이다\\n舊朝鮮에서는 무슨셈인지어른과아이의 區別을甚히하엿다 수염이가지가벌어지드라도 돈이업서서장가를가지못하고 머리를 땃코잇는사람은총각아이(童)라하야\\n敬語를 쓰지안코 下待를하며 입에젓내가나는아이라도 그아부지가돈이잇고 無識한탓으로 일즉장가를가서상투를짜고잇스면 冠子어른(大人)이라하야 敬語를쓰며上待를한다 이제冠童之別의根本意味를 생각하여볼것가트면 冠子는成人을意味하고童子는未成人幼稚兒를意味하는것이니\\n그간에身體的딸하社會的差別이잇슬것은 當然한일이다그러나이原意는 간대업고다만장가가고 안가고상투잇고업고하는것만 區別하야그에게 社會上諸般制度에까지霄壤의差를만드는것은 얼마나不合理하며 얼마나웃업은일임니까 시골老人中에는近來에머리를깍근때문에 冠童의別을할수업슴을 慨嘆하는이를보기도하며或은머리깍근아이가커단흔어른을보고서成人待接을要하는것을 보기도한다이엇전惡弊의나은戱劇인가',\n",
       " '▲訂正\\n大正十五年十一月十四日附第二千二百二十四號第五面婚禮塲風波란記事中朴泰善이가靑年들을축이어新郞을毆打케하엿다는것은事實이아니기玆에訂正(사리원)',\n",
       " '地方論壇\\n所謂兩班諸氏에\\n价川  一記者\\n一\\n諸氏여 들으라地球의恒常自轉公轉을繼續함과갓치 時代도不絕히轉換變遷하며 人文도不斷히新陳代謝하는것을 諸氏는엇지怪異奇驚하나뇨 野蠻社會에것이 開明社會에適合치안으며 矇眛時代에것이文化時代에맛지안을것을 諸氏는認識치못하는가말이다\\n二\\n釋氏로서보면佛道가無量廣大한眞理에것일것이며 孔子로서보면 儒行이至高無上한道德에것일것은事實이다 그러나請컨대들으라 上節에도呶呶한바와如히 時代가時代임을알어야할것이아닌가 現代의文化는長足的으로進步되여 昨日을徃古視하게되지안엇는가 昨秋에道德의今秋에悖德도되며 昨日에善行의今日에惡行도되는 現下에잇서서 非開化한時代에베푸든敎訓과不文明한 社會에行하든行動을向上發展된 이時代에서固執하고잇스니 이얼마나愚昧한일인가말이다\\n三\\n諸氏여 孔訓에君子는隱惡而揚善이라하더라만은 그래도나까지는 諸氏와同胞요 갓흔族屬이며 그以上갓흔處地와環境에서呻吟하는사이라고 밋기때문에責善은 朋友之道라는格으로 幸혀萬一이라도 向上啓發됨이잇슬가하여 이에諸氏의時代에뒤떠러진 缺點멧가지를둘고저한다 그릇이비인後라야物件을담을수잇나니 그와맛찬가지로 諸氏는諸氏의속을비이게하여 이내忠告를들으라\\n四\\n첫재는斷髮問題이다諸氏兩班들中에는 머리깍근이가적으니請컨대머리를깍그라 속으로부터開明하기는 매우어려운것이니것트로부터라도 開明하기始作하라 머리를깍고 아니깍는것이開明하고 못하는데무슨關係가 잇스랴만은孔子도 從其俗從其風이라고 가르키지안엇는가孔訓을 밟아行하노라 는諸氏로엇지身體髮膚는 受之父母라는 敎訓만알고 우에말한從其俗從其風 이라는敎訓은度外視하는가 爲先衛生上으로보든지便宜한것으로 보든지머리가그얼마나 쓸데업는것인지諸氏도그理由를아지못하는 것은아니니 썩은생각을 떼버리고하루밧비 머리를깍그라 둘재는班常問題이니 諸氏는모혀안즈면반듯이 某氏는 兩班이니某哥는常漢이느니 하여때가캣캐뭇은 소리를주고 밧고하며더구나 婚姻上에는 그議論이沸騰하여 百年을同苦同樂할新郞新婦의性格如何와 知識程度와性質何如는 全然問題外로부치고그血統과來歷 門閥뿐만을探索하니이 얼마나矛盾된일인가말이다오늘부터라도 新人本位의結婚을實行할지어다 셋재는男女差別 問題이니諸氏는女性을對할때에 한奴隸를對하는觀念으로 女子를 差別할뿐만아니라 甚하면女子를 人間視치안는傾向까지잇서서 言必稱女必從夫니 女有三從之道니女有七去之惡이니하여 餘地업시女性의人權을 蹂躪하니 이엇지人間의 本然性이라하겟나뇨四肢百體와五官七覺이 꼭갓흔以上에어대 此優彼劣의地位가잇겟나뇨 女子를人間으로待遇하라百年休戚을 갓치할切實한親友로녁이라',\n",
       " '映画小說\\n︹禁無斷撮影︺\\n탈  춤\\n沈   熏原作\\n二十七\\n결혼식장\\n○식장에딸닌다른방\\n▲눈가치흰면사포를쓰고꼿다발  을안은신부와들러리\\n▲혜경、들고잇든꼿한송이를손  톱으로목아지를잘러꺽거가지  고는 화판을 한닙씩쪽쪽찌저  마루바닥에흣터놋는다\\n▲흰꼿한송이가 저절로 떨어진  다혜경은 구두바닥으로 그꼿  송이를윽개어버린다\\n○식장\\n▲한녀자가풍금을친다\\n｜결혼행진곡｜\\n▲참예한손들은긴장한다\\n▲혜경、상여를메고나가는상두  군의소리를 듯는듯 창문턱에  머리를부빈다\\n▲들러리에게부축되어이러스는  신부\\n▲목사가단압헤나와슨다\\n▲두편문이 마조열니며 신부와  신랑이마조나온다\\n▲연미복에『씰크햇』을들고점잔  이거러나오는신랑을보고놀라  는준상의처남\\n▲몸을반이나 일으키며 신랑을  뚤어질듯이주목하는란심\\n○괴상한그림자！정면들창에나  타나어린거린다\\n▲신랑、그싯껌은그림자를 바라  다보고 한거름주춤물러 스다  가아래ㅅ배에힘을주고압흐로  것는다\\n○창밧게흥렬、들창에매여달녓  다가뛰어네려 사방을 돌라보고급해서엇절줄을모른다\\n『흥렬은 화종소래인줄만알고종소리나는곳으로쫏처와보니뜻밧게준상과 혜경의 결혼식이거행됨을보고 그대로 잇슬수업섯다』\\n▲흥렬、무엇인지결심하고 례배  당문압흐로도로뛰어나간다\\n○례배당문압\\n▲신랑이타고온 자동차에 뛰어  오르며 운뎐수에게 운뎐을명  한다\\n▲운뎐수듯지안는다\\n▲흥렬、운뎐수를한주먹에 따려  눕히고운뎐을하야어대인지급  히모라간다\\n▲신부 마조나와 거진억개를겻  고스게된신랑을흘깃겻눈으로  본다 가만가만이 갓가워오는  신랑이해골의탈을쓰고앙상한  닛발을버리고 달녀드는것과  가치보인다\\n▲놀라서주춤주춤하는신부\\n▲성경을들고단압중앙에위엄잇  게슨목사\\n▲신랑신부、뎡한자리에슨다\\n▲목사 긔도를인도한다\\n▲일동、머리를숙인다\\n▲시들은 백합꼿가튼신부의얼  골 이슬을먹음은듯 눈물의흔  적이말으지안는채잇다\\n▲반쯤감은 신부의눈\\n▲여러가지로변한 일영의 환영  이 지나가기도하고 정면으로  달려들기도한다\\n▲비웃는일영｜\\n▲저주하는일영｜\\n▲달밝은밤 한강언덕 모래밧헤  서 손길을마조잡고 거닐든때  에 저와일영｜\\n▲눈감고 긔도를인도하는 목사  의입\\n『거륵하옵신 하나님께서『아  담』과『이와』를내으심가치 이  두사람이 영원한 배필이됨으  로말미암아 아버지께 영광을  돌리고||』\\n▲점점크게 뜨는 신부의눈\\n▲싀골집 늙은부모와 너어동생  이 남의집문전에서 거지꼴을  하고 엄동의불불 떨며구걸하  는꼴｜\\n▲칼로심장을 찔러 자살하는일  영｜\\n▲흘낏흘낏 겻눈질을하야 신부  를흘겨보는신랑\\n▲해골의 탈을쓴준상이가 달녀  들어목을누르는듯\\n▲신부놀래여 쓰러지려 한다들  러리들이부축을한다\\n▲신부머리를 숙인다 여러가지  환영이뒤석겨서 일시에 번개  ㅅ불과 가치머리우로 홱홱달  녀간다\\n○준상의집문전\\n▲흥렬、자동차에서 뛰어네린다\\n▲뎡원에서 공을가지고 노는준  상의딸과서너살먹은아들\\n▲흥렬、가가에가서 과자와과일  을사가지고와서어린아해들을  꼬여낸다\\n▲큰애는 안으로드려보내고 자  근애를 살살달래서 자동차안  에다실고 운뎐수를 잡어이르  켜운뎐을식힌다\\n▲성화가치 재촉하는 흥렬\\n▲자동차 움직인다\\n▲씽씽지나가는길거리\\n▲자동차압흐로닥처오는사람과  뎐차 자동차를 아슬아슬하게  피한다\\n○례배당\\n▲목사 신랑을향하야\\n『림준상 이신부가병이들든지  구차하든지 세상을 떠나는날  까지 보호하고 길이사랑하겟  나뇨？』\\n▲신랑 고개를숙이며\\n『녜그리하오리다』\\n▲목사 신부를 향하야\\n『리혜경 이신랑이병이들든지  가난하든지 영원히 섬기겟나  뇨？』\\n▲신부 입살을앙물고 대답이업  다\\n▲일어서서 주먹을쥐고 무어라  고두덜거리는 준상의 처남\\n▲눈치를채고 그겻헤가잇다가  붓들어안치는김동석\\n▲잔뜩 흥분이되야 금새악이라  도한마듸질을녀고별르는란심\\n▲영문도 모르고 또꺼들녀올나  와어리둥절하고 안젓다가 점  점불안한눈치가보이는 혜경  의부친\\n○큰길로 최대속력을내여 풍우  가치몰아오는 흥렬이가 탄자  동차는거의거의례배당까지다  다럿다\\n新郞||朱仁圭\\n新婦||金靜孃',\n",
       " '映画小說\\n︺禁無斷撮影︹\\n탈   춤\\n沈   熏原作\\n二十八\\n혼결식장\\n○식장\\n결혼식은순서를밟어 정숙히  진행되는듯하나 식장안의 공  긔는점점험악해간다。\\n▲목사、성례문(聖禮文)에쓰인  대로 례식순서를 치루어나가  다가 응성깁흔목소리를 반쯤  떨며 참예온 여러손님들을  향하야、\\n『||지금이 두사람이혼인함  으로 부부가되고저함에 대하  야정당치안은 리유가 잇는것  을누구든지 알거든 이당장에  서 말슴하시요。 그러치 안으  면 이후에는 영원히말하지못  함니다』\\n▲목사、불안스러히 좌우를둘  러본다。\\n▲일동、잠시목거운침묵。\\n▲준상의처남、벌떡이러스며  『정당치못한리유가잇소！』\\n▲일동、고개가준상의처남에게  로쏠닌다。\\n▲김동석、쪼처와서떠들시말리  고 붓들어안친다。\\n▲준상의처남、무가내로말을듯  지안코 김동석의손을뿌리 치  고 일어서서 신랑을가르치며\\n『저이는멀정한 우리매부｜ㄴ  데장가를또드는법도잇서요？\\n▲목사、엄숙한태도를 지으며\\n『신랑은월전에 리혼햇스니까  죄되지안소』\\n▲준상의처남、압으로달녀들녀  고하며\\n『아니요。 거짓말이요。 우리  누님은 알지도못하는데||』\\n▲처남을 흘겨보는준상、김동  석에게 눈짓을한다。\\n▲김농석、준상의처남을 억지  로 꼭두잡이를식혀 밧갓으로  끌고나간다。\\n▲준상의처남、껄녀나가며\\n『난 다알어요 저매부가우리  아버지에게 삼백석직이 논을  떼여주고||저 목사헌테(가  르치며)오백원짜리돈표를해  주고||』(먼젓번에 수형이  라고한것은 예금수형의오식)\\n▲김동석、문밧그로 내여쫏고  들어와\\n『밋친아해임니다 여러분조용  하십시요』\\n▲신랑、목사에게또 눈짓을한  다。\\n▲목사、긔어들어가는목소리로\\n『여러분、정숙하십시요 계속  해서례식을 거행하겟슴니다』\\n▲란심、몹시흥분하야이러슨다。\\n▲김동석、붓들어안치려하나녀  자라 손을대지못한다。\\n○문밧\\n▲자동차에 뛰여네려쫏겨나온  준상의처남에게서 전후이약  기를듯는흥렬。\\n○식장\\n▲란심、악이밧처서 째여진목  소리로 폭백을하듯이\\n『여봐요、목사님！밋치지 안  은사람의 말을밋으시겟소。  이애는 저신랑의자식임니다。  오십원||어린애하나갑이단  돈오십원이야요！』\\n▲겻눈으로 흘겨보며 엇절줄모  르는신랑。\\n▲목사、꾸짓듯이\\n『증거할수업는말슴이오ㅇ물러  가시오！신성한례식장을 문  란 케하는무리들은||』\\n▲란심、어린애를내밀며 발악  하듯\\n『여보신랑、이어린애나 데려  가고나서 장가랑은멧백번이  든지들어요！』\\n▲란심、넘어흥분하야그자리에  쓸어지려한다。\\n▲김농석、란심이를엽방으로껄  어드려간다。\\n▲신랑、목사에게 또눈짓을한  다。\\n▲목사、맛텃든순백금바지를신  랑에게준다。\\n▲신부、앗가부터제정신을일코  몸을 들러리에게 간신히기대  고섯다。\\n▲신랑、신부의무명지에반지를  끼여주려한다。\\n｜반지와신부의손가락｜\\n▲반지를밧는 신부의손가락은  아모 감각이업는것갓다。\\n○신부와신랑이슨마진짝들창｜\\n▲막 반지를 끼여주려 할때  싯검언 괴상스러운 그림자  가례배당정면들창에어른거리  다가 별안간 류리창이활짝  열니며 어린애를안은흥렬이  가 한손을들고벽력가치고함  을친다。\\n▲흥렬의등뒤로부터오후의햇발  이침침하든식장안을쏘다지듯  흘러들어온다。\\n▲엇전세음인지를 몰으고무서  워서불불떠는혜경의아버지。\\n▲『애고머니』소리를질으고털석  주저안는녀편네들。\\n▲흥렬、단우에서선듯뛰여네려  성난맹수와가치 신랑을노려  보며 침착히한거름한거름 신  랑의압흐로닥어온다。\\n▲신랑、얼이빠저서 등신 모양  으로 눈을멀거니뜨고 흥렬을  마조바라본다。\\n▲흥렬、신랑의 압헤 갓가히가  서어린애를네려놋는다。\\n▲준상의아들、아장아장 걸어서  신랑의압흐로와서들고슨씰크  해트를이상스러운듯이만저보  다가엉석하듯\\n『아부지이｜』\\n▲신랑은어린애를네려다보니틀님업는제자식이다。 눈을피하다가불을뿜어내는듯한눈으로자긔를핍박하는칼날가튼흥렬의시선과마조치자최면에걸렷다가별안간놀라깨나는듯이\\n『어｜ㄱ』\\n하고외마듸소리를질르고는소매로 얼골을가리고 비슬비슬뒤ㅅ거름질을친다。\\n▲목사、성단한모통이에가 돌아  서서혼자무어라고중얼중얼하  며긔도를올니다가형세가대단  험악함을보고슬슬뒤ㅅ꽁문이를뺀다。\\n▲흥렬、다라나는목사의 궁둥이  에다가손까락 다섯을펴대며、\\n『오백원！』\\n하고물건을경매하듯소리를질  른다。\\n▲신부、그소리에놀라 악몽을깬  듯눈을번쩍떳다가다시정신을  차리지못하고허공으로손을내  젓다가긔절하야쓸어지려한다\\n▲흥렬、달녀들어 왼팔로신부의  상톄를선뜻안고바른손손까락  셋을꼽아들면서이구퉁이저구  퉁이로몰녀다니는여러손들을  향하야\\n『벼삼백석！』\\n하고외친다。\\n新郞||朱仁圭新婦||金靜淑興烈||羅雲奎',\n",
       " '白頭山覲叅(八二)\\n崔  南  善\\n百神萬聖의護奉\\n天池의活動은여전히 쉬움이업섯다 몃世界가그동안에도생겨낫다가업서진다 어느토막에서는『山上變貌』의 耶蘇를 보앗다어느토막에서는『靈山會上』의釋迦를보앗다 어느토막에서는下山하는『싸라투스트타』를보고어느토막에서는 入窟하는『마호메드』를 보앗다 그가장홀란스러운光明에 싸힌토막에서는盤古氏、黃帝氏、太上老君廣成子、東王公、西王母、老子孔子와 大自在天、帝釋天、婆樓耶、蘇利耶、阿關佛、阿彌陀佛、大日如來와『라아』『오시리쓰』『누트』『호루쓰』와『아누』『이수달』『솨마슈』『말둑』과『아후라마쓰다』『보후마나』『미트라』『마니』와『야베』『바알세붑『울』『모세』와『모록』、『가비리』、『솨민』、『쉐메슈』等을 右翼으로하고『오그미오쓰』、『그랜노쓰』、『베레노쓰』、『따누』와『오듼』、『둘』、『직프리이드』、『발둘』과『베른』、『쓰아라신』、『벌그나쓰』、『세미낭카쓰』와『쎄우쓰』、『아볼로』、『아테나』、『띄메테르』와『주피터』『자누쓰』、『베스타』、『솔』等을左翼으로하고 其他一切의主宰神光明神과밋그使徒들을前衛後陪로하신 三神一體의大壇君의王會하시는光景이나타난다\\n엇더케虔肅한그光景이며엇떠케恭順한그相貌들인가 혹은叩頭하고 혹은合掌하며혹은무릅을꿀고 혹은팔을처들어 다가치『主는당신뿐이십니다』하는至誠을表하얏다 우뢰가튼 소리가때로그네의사이에서나온다。 大地는十二種으로震動하고 하눌에는萬種의香華가너울을지엇다\\n天上에서 人間으로  질□오신 우리壇君  榮光의 山頂에서  苦項뿐의 世上으로    다시또 나려가려하시네    그아니면    그안가면    헤매는무리 엇찌할가    길모르는 저의들이절로오기 바라올가손잡아 못걸으면업어라도 더라려해  이제또 나려가노라  내아니면  내안가면  헤매는무리 어찌할가\\n『세레』가튼暗黑의神과『아다도』가튼暴風雨의神과『사단』과가튼邪惡의神들은 금시에업드려벌벌떨고 十方으로부터각각한太陽이구을러들어와서 눈가튼皇祖의옷에 金剛石가튼반짝어림을난박는다\\n저의들이 부림바다트라신길 텃나이다왼나라 모든백성님의압헤 끝어들일  그때가 이제되엇나이다  안부르면  안불리면  헤매는무리 어찌할가촛불로도 횃불로도쫏다못한 저어두움해들고 몸소가서말끔하게 헤처버릴  그때가 이제되엿나니라  안나서면  안내세면  헤매는무리 어찌할가\\n群仙의朝會하는빗、衆巫의服侍하는빗、褚馬武、慧超『딴테』、『뻔얀』等巡禮者의떼、玉賓高、許蘭雪、『호메로쓰』、『솔로몬』等讃揚者의떼로부터여러民族의마음을通하야表現된一切의傳說的英雄、모든詩人의붓끗흐로서나온 一切의小說的人格까지 開天의壇君을爲하야 춤한번노래한가락으로라도 제精誠을表白하지안는것이업다。 『왕굴장군』이고『콩지팟지』고 孫悟空이고 宋江이고『아더』王이고『파우쓰트』博士고 이때까지想像의產物로만녁엿든 모든詩詞와밋그主人公이 그속에다實在常住함을볼때에는 驚奇의情이더욱電動한다。 거긔三島十洲도잇고 玄圃紫府도잇고『에던』、『아틀란치쓰』도잇고 妙喜城安養國도잇고『헤시오도쓰』의黃金時代도잇고『토마쓰모아』의無何有鄕』도잇고 洪吉童의『제도섬)도잇고許生員의無人島도잇스되이無量無數의佛國神郞理想世界가 실상壇君世界의 一塵一刹임에는 정신이다만얼떠해짐을깨달을뿐이며 또이모든것이문득 옴처서한덩어리를일우는곳에 궁금하든桓國이 눈압헤나타나고 다시過去의桓國이문득그價値를將來로轉換할때에 聖衆에圍繞된『南胡鮮』이그으리으리한배포를내노흘때에는 일홈업는춤이저절로덩실나온다。\\n어허이제와서야 朝鮮人의富者임을알앗다 이러한聖財는아모에게도업는바이다 朝鮮人의强者임을알앗다 이러한大理想은다른모든殘弱한무리들의맨들고또지녀갈바가아니다 이詩外의詩와 史外의史와學外의學을가진朝鮮人은진실로진실로 智的의大人이다。 그런데 이것이꼿츠로치면 봉오리대로잇서서어떠케 탐스럽게 퓌일것인지모름과 사람으로치면處女대로잇서서 어떠케잘난新郞과어떠케굉장한婚筵을베풀는지모를것이특히우리의 큰幸福이오機會이다。 그가이미이러하거니 이미이러하신그이시니 百神萬聖의一齊讃嘆과常行供養이 决코나한때의幻覺일리업다 보일때안보일때가잇고 보는이못보는이야잇슬법하야도 宇宙의榮光이홀로壇君의것임에는 언제어대서고다름이업슬것이다 大宇宙의久遠常恒한壇君護奉을슬몃이흘긋이데미다보기조흔곳이시방이天池일따름이다。 어허깁흔이感銘이어 어떠케남더러말하야볼고。',\n",
       " '◇地方短評◇\\n◇新院\\n峨洋里日人某의개(犬)가죽은뒤에 別別異常한말이도라다니더니 그개를埋葬한後에 초하루보름으로祭祀를지내는까닭에 또야릇한風說이도라다닌다고 설마？\\n◇丹城\\n禮拜堂에는結婚式一件이잇섯는데新郞이국단지갓흔상투에道袍까지입엇더라고그래도自己딴은最新式結婚式을한셈이엇겟다｜\\n◇醴泉\\n某面長에게對하야非行投書가핑핑도라다닌다는알만한面長은미리조심할일！',\n",
       " '市 內 上 映\\n戀愛劇\\n梗槪\\n戀의荒野\\n七卷\\n퍼스트나 소낼映畵코리크리피스孃主演  두과부아주머니에게길니운『관따』는 직책에충실한『떼비트』와 결혼언약을하얏다결혼식을 다가기전에『떼비트』는『아푸리가』의 개척대댱으로아푸리따에향하얏다 하로잇틀지내는동안 데비트는직무에서무열중하야『란타』에게 편지한장도못하얏다 그리하는동안에『풀란』사람이『란타』를 사랑하게되자『란타』는 약혼한사람이너무나 소식이업는중에『폴』이사랑하는까닭으로 마음이그에끌리여 마츰내 결혼을하얏다『폴』은『란타』를 다리고『카나타』에갓다『폴』은『카나타』에도착하자 마음이방탕해저서 도적단에투족하고『란타』는 도라보지아니하얏다『란타』는 하는수업시 고향에 도라오자『떼비트』는 아푸리가로부터 도라왓다 란타와마츰내결혼을하고부부는남해제도에 감옥제도시찰임명을띄우고 출장하얏다 어느날밤 폭풍우중에파옥사건이돌발하자 남편의신변을념려하야 차저나왓든란타는 삼림중에서 길을일코방황할지음에죄수의옷을입은 폴에게구원을바덧다 그러나남편에게의심을사게되엿섯스나『폴』의 변명으로사실이표명되여 부부에사이는더욱따뜻해지고 인명구조의공으로『폴』은 감형을밧게되엿다\\n各常設舘正初프로\\n◇團成社◇  二月二日부터\\n一、유니바살社映畵大喜劇 海上將軍 七卷후드킵손主演\\n二、피피씨映畵活劇 鐵路의鮮血七卷하리게리氏主演\\n三、連鎻劇深紅의光線 四卷\\n◇朝鮮劇塲◇ 二月二日부터\\n一、퍼스트나쇼낼映畵戀愛劇 戀의荒野 七卷코린크리피스孃 主演\\n一、퍼스트나쇼낼社映畵正喜劇 親切한老人 七卷  쪼지시도니氏 主演外파社喜劇 二卷\\n◇優美舘◇  二月二日부터\\n一、에프알오映畵  大活劇 轟鐵蹄 八卷        톰믹스氏 主演\\n二、퍼스트나쇼낼映畵  喜活劇 混線新郞 八卷  시토니촤푸리氏 主演\\n三、윌리암폭스映畵  大活劇 名譽選手 七卷\\n◇光武臺◇ 二月二日부터\\n一、春香演義一、舞童隊一、□渡一、短歌一、申錦紅獨唱\\n晝間씨름大會',\n",
       " '□내고장의風俗習慣□\\n投稿隨意)但葉書(·薄謝進呈\\n『기보엿房新』\\n◇新郞新婦房을엿보는風俗은어듸든지잇겟지만은내고장에는넘어도甚한일이만슴니다\\n◇新郞新婦를新房에다너흔뒤면老人 靑年男子 女子할것업시아는사람이면모다 창구녕을뚤코듸려다봄니다\\n◇그러케드려다보는것은關係업겟지만은심한사람은작댁이를창구녕으로 듸려밀고衾枕을떠들어보며 雜談을함니다\\n◇그러면新郞이모다冷水나혹은고초가루가튼것을準備하엿다가듸려다보는 구넝을向하야내뿌려서 求景軍을쪼침니다\\n◇그러나이러케하는것이한두번이아니기까닭에新郞은막다막다못하면 痛哭하는新郞도잇슴니다\\n◇처음이風俗이생기기는新婦의不品行으로新郞을 害한事가種種잇서서그것을防禦하기爲함이라하겟지만은이러케甚하야지면이것은新郞을爲하야防禦하야주는것이아니라愉快한그날을防害하는것이아닌가함니다\\n(義州李鍾範)',\n",
       " '내고장의風俗習慣\\n投稿隨意(但葉書)·薄謝進呈\\n新郎달우기\\n◇한사람이 장가를들면 그의동모되는사람들이 달어먹는風俗이잇슴니다\\n◇여러동모들이 모혀서新郞即刻捉來하라는命令을發하야 잡아다놋코상(床)우에청수한그롯과 빨내줄、박망이를 準備하야놋코는장개드는데 매우수고러우니 이것을먹으라고 强請을함니다\\n◇그러나빨내줄이나박망이야 먹는수가잇슴잇가 座長이라는사람이 안저서아니먹는다고 호령을함니다\\n◇이러케탈을잡어가지고는남의집處女를훔첫갓다고들보에다가 달어매고박망이로 발바당을몸시때립니다\\n◇그래서 첫날밤에지낸것이며新婦집家庭狀况等을 細細히뭇는데이상스러운변을써서別別것을다뭇기까닭에좀듯기에猥褻한점도잇슴니다\\n◇新郞은매에못니기어잘못하엿다하면 그대로赦할수업스니 飮食을注文하라함니다 그러면新郞집에서는술이며안주며힘껏차려서잘대접을함니다\\n◇이것이新郞달우는風俗임니다',\n",
       " '伊川에눈沙汰\\n兄弟가壓死\\n아우의신혼길에형이후행으로신부집으로가다눈사태에죽어\\n장가가던新郞의慘禍\\n함경남도문천군 운림면 감미리(咸南文川郡雲林面甘味里)김태주(金泰珠)의댱남 김달범(金達範)(二二)과김달범의동생 김달운(金達雲)(一九)이는지난십일일오전일곱시경에 강원도 이천군방장면린원리달읍동(江原進伊川郡方丈面麟原里達邑洞)에서눈사태에치어 무참히 죽엇다는데전긔김달운이가김화(金化)로장가를들게되야 집을떠나 친형김달범이가 후행으로따라가다 그와갓치형뎨가 참혹히 죽은것이라더라(이천)',\n",
       " '□내고장의風俗習慣□\\n投稿隨意)但葉書(·薄謝進\\n재)灰(벼락…通川\\n◇結婚式을하는날에는여러가지作亂도만치만은우리고장에는이러한것이잇슴니다\\n◇新郞이新婦의집을들어갈沿道에는만흔兒孩들이新聞紙가튼조희쪼각에다가재(灰)를싸가지고잇다가新郞이新婦의집갓가히오면新郞을目標로잿봉지로總突擊을함니다\\n◇그러면조후옷에威風이늠늠하게馬上에올너안젓든新郞은그만재투성이가되고맘니다\\n◇그러면新郞은엇더케든지이것을모면하라고애를쓰지만원래多數한兒孩들의하는일이라혼자야가어내는장사가잇슴닛가？\\n◇나희가지긋한사람은그럿치도안케만은나희나어리고한新郞은말에서떠러지는수가만슴니다\\n◇그래서傷處도내고하는데이러한作亂을하는것은한번이러케재벼락을마저야첫아들을낫코복을만히밧는다는것임니다(通川金奭鎬)',\n",
       " '文藝漫談\\n(一)\\n四月創作月評\\n廉  想  涉\\n月評의必要를 說道한일도잇고하야 今年一月、二月兩朔의月評을써보앗거니와 實際에하야본즉 文壇의中心과 遠隔하야잇는탓으로 雜誌와原稿의遞送에時日이만히걸리고 其他窘塞스러운受苦가만하서 三月號에對하야는 그만두엇섯다그러나四月號分부터는 다시本紙에쓰기로되엇다 日刋紙이니만큼雜誌에서와가치 編輯上拘碍가彼此에덜리겟는고로 筆者만좀奮發하면 今後로얼마ㅅ동안은繼續될줄안다\\n×\\n그러나이런일이란 남보기에는손쉬운것가타야도 꾸준히繼續하야가기가어려운일이다쓰기보다도읽기가귀치안코힘이들기때문이다朱君도二月創作評에서(本紙所載)그런말을하얏거니와그리興나는일은못된다 朱君이新年號創作界에서『貧困』의陳列塲을단녀나오느라고지긋지긋하고도單調無雙한光景의記憶을업새버릴수업다고한것과가치事實나도一月二月두번에厭症도아니낫든것은아니다 그러기에只今創作은『알콜』을生으로먹여준다고까지한것이엿다 듯기에조흔소리를하랴도쉽지안커든이루귀에거슬릴소리만하는수도업고그러타고어느때까지제멋대로아무려나하게내버려두어라｜고斷念할수도업고보니까自然참다참다못하여서는 입뾰죽한소리로期於히나오고야마는것이다눈에뻔적띄이는것｜精神이소스라칠만한것┊|그런것을食傷한사람이 口味붓틀것이나物色하듯이차즈면서作品을對하건만은이거나저거나끗끗내쯤증이나고눈살을 한번도펴본때가듬으럿다가튼作家의한사람으로 이러한소리를하면더욱히다른作家들의귀에거슬릴것이오(또그러키때문에어지간히미움도 밧는것이지만은)事實 엇던作品을보고서는몹시後悔할때가잇다 그런作品을보느라고 時間을버리고애를쓰는自己가앗가워섯다 何如間이러한것도 月評者로하여금못처럼뽐내든誠意를 줄게하는한原因이요따라서 評壇이活潑하야지지못하는所以일것이다\\n×\\n理解한다는것도 理解될만한內容과價値가잇서야말이다 그뿐아니라쌀을찟타가말고그대로시루에쏘다서설익혀놋코떡이니먹으라고성화를바치는作品이만치나안은가십다 먹엇다가는아모리고초장에보리밥먹고 논도랑에서낫잠자는 농군의배ㅅ속일지라도 食傷하겟거던그래도讀者의理解가不足하다고 怨罔하고自己배ㅅ속세음으로만은한목가는作家라고하는분도 업지는안홀것이다 何如間全體로우리는小說이나詩나 그作法부터工夫하여야하겟고 創作에必需되는諸般修養과體驗과 思索을다시하야가지고 튼튼히발감개를하고새로히出發을하여야하겟다고나는늘생각한다이러한말은내가第二者에게對하야要求하는것이라고하면 或은先輩然한다고誤解할분도업지안켓지만은彼此에다가치 그러케하지안코는우리文壇이一段의飛躍을試驗할수업겟다는말이다文壇外의 사람들이 비웃는말에 文壇이란엇더케된 곳이기에『사랑하는님이시여！』하고 所謂詩한줄만쓰면 벌서 作詩大家가되고小說이랍시고 몃줄끄적어려서活字로 印刷만되면 小說大家가되느냐｜고 할제一便으로는그들의 侮蔑과揶揄가甚한것을責할지라도 오히려우리는自省하야낫을붉힐만한 良心을가저야할것이다 우리社會의어느方面이나 제법進路를올곳게잡고頭緖를차린데가 몃곳이나되는지 바이疑問이거니와더욱히文壇이라는데는 尤甚한混沌中에서彷徨하지안는가십다\\n×\\n生命의發露될길이라든지 所謂自我實現의길이 넘어나杜塞되고抑壓된現代의朝鮮靑年이文藝其他藝術의길을取하는것은當然한일이요또一部人과가치 憂할바도아니지만은 그것이正當한發展을보이기前에 지름길로들어서서 虛榮의奴隸가된다는것은그個人으로서나 社會全體로서나또는藝苑의將來를爲하야서나 可憂할現象이라고아니할수업다 사람에게는名譽慾과野心이必要한境遇도잇다 될수잇스면사람의一切의行爲가 다만眞善美를追求하는 一層高尙한動機나 本能으로始終하느니만갓지못하지만은 何如間에潑潑한野心과名譽慾이 正當히만發揮되면 그것은그사람의事業을激勵鞭韃하는點으로보아서 매우必要한것이라고볼수잇다 그러나그것이빗나가서 虛榮의奴隸가된다면 또그만치禍根거리가되는것도업슬것이다 只今朝鮮사람은 實로이禍根을 누구나한아름식 품에안고잇다 失望 退嬰 隱遁이아니면 虛名에渴急이들린것이 只今의朝鮮사람이 아닌가한다 열사람이모힌곳에서 아홉사람이 한사람의姓名을記憶하야주면 곳名譽요 이世上에서는 成功이라고 생각하는모양이다 그結果는다만 自己의姓名三字가活字化하야 新聞雜誌에나타나는것만이唯一한所願이되고 마는듯십다 大端히卑劣한말갓고淺薄한所見갓흐나 事實은事實이다所謂社會人이그리重大한일도아닌旅行을하는때에 新聞의人事消息欄에紹介가되면 自己地方에가서는 參奉帖紙以上으로行勢거리가되고 結婚하는靑年男女가卑陋하게도 新聞記者에게左請右囑하야 新郞新婦의寫眞廣告를無料로 내이랴고하는等心事는 所謂文壇에서한層더露骨化하지나안핫는가？甚하야서는그所謂文藝品이 新聞雜誌에紹介된다는것이 그所謂戀愛라는醜行의媒介가되는事實을볼때 생각잇고知覺난사람이면야文壇이라는데에 겻눈이나거듧떠보랴！말이좀醜하지만은文學的努力의効果가『뚜쟁』이밧게아니된다면야 그文壇은영골부터墮落이아니고 무엇이냐？대관절自己일홈이活字化한다고얼만한名譽냐？\\n×\\n임이生命의發露할길이四塞하고一世에榮達할希望을일코서文壇을唯一한避難處(語弊가잇는말이지만)혹은 慰安自適할곳으로알고 들어오는지다음에야여기에서까지關門을베풀고 出入의自由를 許諾지못할것은아니로되 文壇이라는것이 圍碁俱樂部나 王勃이를 불러올려안처노코 才弄이나보랴는 藤王閣이아닌지다음에야 그따위遊戱的分子까지 收容할수는업는것이다 더구나 잣단賣名이나하고 철업시墮落한계집아이들의艶書張이 바드랴거나 父母덕에어더먹은밥이나 삭이랴고 消遣삼아 몰려드는高等遊民의 활터(弓塲)나 노리터는絕對로아니다 文藝를 釣名의具로 아는者 文藝를野合의景品券으로생각하는者 文壇을戱樂의修羅塲化하랴는者｜이따위들은 文壇의浮浪者들이다大掃除를하여야할것이다 文壇으로하야곰 어느때든지 누구에게든지 自由롭고 生新하고活氣잇고 正直하고純潔한氛圍氣에 싸이게하기爲하야그러한無知覺沒廉義하고野卑輕薄한不良分子를驅逐하고大淸潔大廓淸을하자는것이다 아말을다시뒤집어表面으로｜積極的으로말하면 彼此에제各其가 末節을버리고大本에就하자함이요各自의品位를갓구고 또한그向上을圖謀하자함이며 藝術的精進을爲하야 서로一段高尙한着眼點에注目하자함이요 좀더理想에心血을 끄리는文人답고어른다운벗들이되자는말이다',\n",
       " '文藝『萬引』\\n廉  想  涉\\n(二)\\n仔細한事情은나는몰은다또그그리追求하고자하는 惡意도내게는업다 다만이러한事實을나는이東京에서들어서 안다엇더한處女가 約婚은하야노코婚費는업고 綾羅紬衣는입고십고하니까 市內各商店에서婚姻諸具一襲을 金半指金時計까지『萬引』하얏다가法學士夫人은一塲春夢이되엇다고하는 事實이다文壇이라는것은 新郞이든가？天分의不足은 貧窮이든가？約婚은執筆發表의 自由이엇든가？婚需흥정은 有島武郞全集에서하얏든가？虛榮心은活字에잇섯든가？그러나 有島武郞自身을市井의綢緞貝金商 主人으로생각하얏드면 有島武郞은地下에서 울것이다有島武郞은公正히보아서 人格者이엇기때문에自 한것이라고본다 普通情死라할지라도 그一面을나는認定한다 有婦女와의變愛라는事實그自體는 非人格不道德할지라도 그原因과結果만에서는나는그러케본다 나는有島武郞의人格非人格을 論하자는것이아 니기로 長提를避하거니와有島武郞이만한 人格이잇드라도그러한짓은아니할게아니냐？有島가非人格者라고하면 더구나말못될일이 아니냐？이러한분이朝鮮文壇을 질머지고선다면文人廢業同盟이라도할일이다文壇이고 무에고요사이의日本의弱小銀行가치 門닷고 다｜지버치우자 文壇이똑똑한新郞이거든 그러한손버릇고약한新婦와는 破約할일이다 손버릇이 先天不足으로생긴것이거던少年感化院으로 보내두는것도조흘일이다 남이뭇지도안는데아는체하고 팔을것고나서는사람도 어리석은사람이거니와알지도못하고 안다고壯談하는것은 더어리석은짓이다 이번境遇로보면 또그와도달으다萬一그러한問題로하야 論戰이잇섯다든지하면 남의것이라도꾸어다가박을지몰으나 그러한問題를發表하여야할 切迫한處理를當하지도안앗슬것이다 그런것을自請하야 剽窃하는것은아모리죽은사람｜더욱히外國사람의것이라할지라도 넘어만만히본탓이다 혼자보기가앗갑거던飜譯하야紹介할일이다 虛榮은生活의破壞者다\\n내말은매양가시를품은듯하야스스로삼가는바이거니와 이경우에는 누구나하얌즉한말을내가 自己의 不利를알며도 迫不得己하야한것이다 歲前에이분의글을 某紙에서보고도 日本語로飜譯치안흐면 理解되지못할句節을 散見하엿거니와이번에도亦是自己의 意見을陳述한것이 마참有島武郞의論文과符合된것이라면 내말은取消한다 또事實相違가判明되면어느때든지 그筆者에게謝過키를躊躇치안는다',\n",
       " '黃金에눈어둔애비\\n판딸데리고潜跡\\n돈에욕이나삼백원에딸팔앗다또다시팔려고데러고도밍하여\\n逐鷄望籬의늙고젊은두新郞\\n경북 의성군안평면긔도동(慶北義城郡安平面箕道洞)이백사십번디 오석충(吳錫忠)(三七)의집에서는 지난십팔일에 그의맛딸봉선(鳳仙)(一八)의 결혼식이잇섯는바 엇전세음인지결혼한지사홀만에 돌연그자최를감추엇다는 자미잇는사실이 생기엿다\\n이사실의 내막은 엇더한가？그의부친 오석충은 지금으로부터 십여년전에 집을떠나남북만주각디로 표랑하여다니다가 작년가을에야 비로소집을차자들어왓다 그러나별로히가진것도업서 어린자식을길너가며 가진고초를다｜격거가면서겨우지내다가 필경은또다시엇쩔수업시 남북만주로들어가얼마간도라다니다가 지난겨울에또집을차자오게되엿다\\n두번재집을들어왓슬때에는 쓸나야쓸것은업고하야 그는물욕에극도로량심이마비되여서 필경은 금년십팔세인자긔의맛딸봉선이를팔기로작뎡하엿다 맛츰최근에와서 호라비된동면괴산동(同面槐山洞)김병두(金炳斗)(五二)라는사람에게뜻을두게되야 김병두의실뎨와그의사촌두사람의 소개로돈삼백원을밧기로하고 오석충은즉시자긔의딸봉선을 위협하야네가만약금번이일에 아비의말을듯지안으면 너는나의자식이아니며또한나는이군색한살림과 나와너의어머니와 너의형뎨를다버리고지금까지 도라다니든 남북만주로 또다시가겟다하고 꾀이엿다\\n이말을들은 봉선은원래성질이순량하고 또한부모에대한효성이지극하야 그아버지를다시는보지못한다는말에 자긔일신은엇더한희생을당하더라도 자긔아버지만 멀리안갓스면하고승락을하엿다 그리하야쌍방은완전한약혼을하고 최초부터유일한조건이던 돈삼백원중위선현금이백사십원을바든 오석충은무슨생각이낫든지 처자에게도말한마듸업시 그만충남 태뎐으로도망울하여버렷다\\n신부의모친은 이디경을당하야엇절줄모르다가 얼마전부터자긔딸봉선이와 함께그전부터혼인말이잇든 원적을경북안동군풍남면하회동(安東郡豊南面河冋洞)에두고 경북의성군 신평면덕봉동(慶北義城郡新平面德峯洞)에잇는 류이조(柳二祚)(二五)라는청년에게로허흔댱(許婚狀)을보내는동시에 전긔전후사정일을다 통기하야아모행장도말고 그대로빨니와서일시라도속히결혼식만 이루라고하엿다\\n오래동안이혼인 되기를고대고대하든혼인이 천만의외에허락이낫슴으로신랑은 신부의모가식히는대로 아모행장도 차리지안코곳신부의집으로가서유영수의주레하에 즉시행례를일우엇다즉그날이지난 십팔일이엿는데 이때삼백원에약혼을한김병두편에서는 이말을듯고일변놀나면서 그의중매자들이곳신부의집에가서 그내력을뭇고여하간이미 결혼한것에는할수업거니와 이혼인에 대한책임자인신부의부친이 올때까지는신랑은신부방에 들어갈수업다고말하며 그날밤이새도록신부방밧갓전후를 숙식하엿다이때신랑은자긔의 힘으로는엇지할수업서 밧그로실며시 빠저나가밤이새도록 사십리길을걸어자긔집에가서전후 사실을말하고자긔형과또다시곳 신부의집으로도라와 또한김병두는두아우를급히 대뎐으로보내여신부의부친오석충을 다려왓다이날이즉그지난 이십일일인신부의자최가업서진것도 이날밤이엿다\\n그런데 그날오석충이가 집으로들어와서신랑류이조의 빰을치며이놈아｜네가 무엇하려내짐을왓스며또한 누구의승락을엇어서내딸에게장가 왓느냐하며그즉석에서 이미결혼식까지이룬혼인을파혼 식히며혼약증(婚約證)까지 뜨더업새버렷다신랑유이조는 할수업서또다시자긔집으로 곳쫏차가서자긔형외에밋수명의 장정을다리고신부집으로와서오석층을 무수히두다렷다 일이결국이러케되니오석충도역시 엇지할길이업섯든지그날밤에그딸 봉선을 또한위협과꾀임으로 이미찔넛든쪽을도로풀어 다시 처녀로만들어압흘세우고 또한 자긔의아들 철주(一五)를 다리고남몰으는틈을 타서 돌연히간곳이업서젓다\\n이러고보니 이미결혼식까지이룬류이조나 또한삼백원에약혼하엿든김병두 두신랑은모다가닭쪼친개가 울치어다보는격이고다만이들은 신부의외삼촌되는김형달(金烱達)이가 그이튼날즉시 오석충이가먼첨갓든충남태전으로 신부를자즈러갓다하나 아즉엇지되엿는지알수업스며 흑세인은의심하기를오석충은 딸과아들을데리고오래동안 표랑하고다니든남북만주로나또가지아니하엿나 한다무엇보담도 순결하고철몰으는어린봉선은무지한 그아비의끄으는대로만 딸어갓스니그의운명이장차엇지나될가||(의성)',\n",
       " '老新郞少新婦\\n댱인환씨결혼\\n수월전에미국(米國)서귀국한댱인 환(張仁煥)(五○)씨와평양정의녀자고등보통학교(平壤正義女子高等普通學校)에재학중인 윤치복(尹致福)양과의결혼식을 작십일하오세시에 부내남산현(南山峴)례배당에서 오긔선(吳基善)목사의 주례하에거행하엿다더라(평양)',\n",
       " '死子女結婚\\n부모의애닯은미신\\n경남김해군김해면북내동(金海郡金海面北內洞)류모(劉某)의댱남류수남(劉壽男‖假名)(二○)은지금부터두달전에신병으로죽어버렷는데 이것을 불상히녁인그부모는 죽은자식의 소원이라도풀어준다하야동군동면회현리(會峴里)에사는박모(朴某)의댱녀박순이(朴順伊‖假名)(二○)가한달전에병으로죽은것을알고그부친되는 박모에게 중매쟁이를여러번보내여당신의죽은딸과나의죽은아들과 서로 결혼을식히자하야두집에서는청혼허혼(請婚許婚)이오고가고한후 각각례물(禮物)을갓추어산사람의혼례식과똑가치지난구일정오남산공동묘디(南山共同墓地)서죽은신랑신부(新郞新婦)의화상(畵 )으로혼례식을굉장하게거행하엿다는데당일은다수한구경군으로말미암아그부근은대혼잡을일우엇섯다하며 더욱 우수운것은전긔류모의집에서죽은자식을장가들이기위하야 죽은 규수(閏秀)를만히구하엿스나궁합(宮合)이맛지아니하야여러곳을퇴한일까지잇섯다더라(김해)',\n",
       " '朝鮮舞踊振興論(七)\\n金   東   煥\\n그다음野生的이라함은 原始的素朴한動作을意味하는것이니녯날창이나살촉을뿌리는 시늉을하거나 狩獵戰爭等거이粗暴한 跳舞、廻舞等을하야 放奔한그舞法에 도라가자는것이니衣裳갓튼것도입은채로 손도흙무든대로 野人의形姿가되야演舞에參加할것으로 그『스텝』即步法가튼것도 從來의室內的人工的인것을無視하고서 單純한一進一退式이나 또는沈靜에서곳狂亂으로飛躍할수잇게그런動作을나타내는것이다 이것을或野蠻化요 原始化한다하야藝術의墮落이라고 非難할뿐이잇슬는지모르지만 都會의뿔조아를背景으로한今日의雅舞를 非難하느니만치 우리新舞踊의根據는村落과原始人的動作에두지아니치못할것이다\\n이러한見地로 過去의舞踊에서는 豊年舞나種植舞가튼것은改善하야 益益振興식킬것이며또劒舞가튼것도 尙武的志氣를養하는點으로 조흔것이라取擇할것이며 그밧게武藝를加味한것들은 될수잇는대로復興식킬것이니 우리는舞踊을通하야平和的武裝을하고잇서야할때문이다\\n그래서이러케群衆的野生的의舞踊을 아래의方法으로全民衆에게振興식키자\\n一、端午秋夕의두名節과 初中末의三伏날을全國的舞踊日로定하고 모든사람들이다가치춤추자\\n歐米의復活祭日가치 카니발祭日가치 前記特殊한慶賀日에우리들도 民衆總出演으로춤추며즐기자 벌서地方地方마다脚戱會나弓射會가튼것이잇슴으로舞踊을加함은 極히容易한일일줄안다\\n(七)\\n二、先驅者의受難當時 또는社會的意義를가진 學校、靑年會等團體의 特種日에紀念舞踊을하자\\n即小作爭議가튼때에 犧牲된指導者가잇다면 村民을擧하아그慰勞舞踊을함으로써 一面示威性質을가지는同時에 先導者의功勞를尊重하는 觀念을養할것이며 또그밧게偉大한科學者가난다면 그의住宅압헤서廻舞하야 科學의尊重을깨닷게할지며其他靑年會와 學校의紀念日가흔때에 擧村的演舞를함으로써 集團意識을鼓吹할것이다\\n三、農村이면豊年舞 漁村이면豊漁舞갓흔從來의不定期의舞踊은다조흔것이라 機會잇는대로盛行하되다만비안오면비오라고 病疫이돌면그를막어달나고하는宗敎味의舞踊等은極力防止할것이다\\n四、婚禮 回甲 出生時等에新郞新婦를中心으로賀禮하는舞踊을하자\\n갓흔地域에잇서서利害를同一히하는住民들은이리하야同志意識을갓게하며 또이러한機會로相互의反目 軋轢 嫉視等敵對觀念을一掃할것이다\\n以上은地方地方의特殊形便에따라加除할것이다\\n大體浩翰한舞踊의原理나方法을이小論으로企할바아니며 또이方面의常識조차가추지못한내가畏濫히試할바안임으로다만안타가운생각에 朝鮮舞踊의寢室을叩門하엿슴에不過하다\\n그러나舞踊이라는것이地理的限界를버서나全朝鮮的으로얼마든지普遍化할수잇는利點과 諺文도모르는無產無識의大衆들까지鑑賞할수잇는點이널니 民衆的藝術이될수잇는것이라 더구나그것이社會的意義를通하야볼때에그氣象을振作식킴에無二의要具라 舞踊을今日에크게振興식켜야할信念을가지고말하는바이다\\n實로우리들은지금크게춤출때를當하엿다 어제까지는絕望狀態에빠저한갓歷史的回顧와追憶만으로是事하엿지만은이제는民族的어느光明을向하야 邁進하는마당이라 마치平靜한바다에希望의물결이치고말나드럿든샘물에 물이다시나드시우리의言動은跳躍之秋를當하엿다 어서이跳躍하는言動에藝術的表現을주자 그는노래로！춤으로！\\n끗흐로 外國을보면舞踊에對한著書가山積되여잇고舞踊學校와講習所가얼마나만흔지모르는데우리에게는너무업다 어서입과글로써全民衆에게舞踊 을鼓吹식키자 後機에다시外國民衆舞踊을紹介하는同時에좀더徹底한意見을發表하고저爲先이에끈친다(끗)',\n",
       " '新興民衆과文과劔\\n(二)\\n金東煥\\n一、『새로운改宗』\\n로서아의 유명한테로리스트로혁명사업에 만히분주하든『셀게이、스텝냑크』라는 作家가지은四幕戱曲이다 몬저간단히作者의人格을소개 하건대 그는스무살때에벌서 帝政에叛心을품고서砲兵士官을 내어 던진후비밀결사『쟈이코후스키｜』라는단제에가입하야 맹렬히국가의××운동에애쓰다가 일이중도에발각되자만흔同志가 톄포되야追放流刑、投獄、死刑、毒殺등가진벌을밧는속에 요행몸을불난서에피하야그곳에서 게속일하다가다시이태리를것처 론돈에이르러그곳에서 불상한黑人勞働者를모아노코 敎育에從事하는중하로는 우연히긔차에치어不意의死를遂하엿스니 氏의葬式은바로 倫敦停車塲압廣塲에서擧行되엿는바 멀니本國로서아는물론 이택리、아메리카、독일、영국등각지로부터 로동단톄의대표자와 각국로동자수십만이모인속에 인｜터내슌날노래와비장한연설과 통곡으로장사는처참하게 맛치엇다한다\\n이戱曲은客死한 이불우한혁명가의力作으로 思想上、感情上、크나큰暴風雨를 이르켜노코야마는것이다 梗槪는 케｜도라는 露西亞豪農의집안에태어난 純한處女가잇섯다 아버지되는『무｜리노후』의 政治上意見이란것은 農民은어대까지던지울안에도야지를집어너트시 엄중한法律이나 貧窮속에집어너허 監視치안으면안된다 이리함에는 貴族과富豪의 權力을國家가줄수잇는데까지주어야한다 그러면 혁명가튼것도 저절로防止된다함이며 또그어머니『무｜리노와』는 한개에千圓씩이나하는 花瓶을 수십개차려논 방안에서 孔雀가치 몸치레만하면서 소작인의妻女들을虐使하는데서 快味를늣기는上流階級貴婦人이다\\n◇第一幕이되면 그아버지는딸더러『아렉산더｜볼코후』라는伯爵의堂侄과 結婚하라고强迫한다그까닭은 저는黃金의山에올너안저 萬乘天子에지지안는豪華를피우지만 功名慾을채우지못하엿다 그럼으로伯爵집안과사둔을정하야 貴族社會에出入하고십다는 虛榮心때문이다그러나딸『케｜드』는伯爵門閥도百萬長者도다실타세상에는한숫깔밥에우는사람이얼마나되는지모르니그사람들을구하는데에이목숨을바치겟다고 拒絕한다\\n그때『노｜로후』라는 同志되는靑年이뛰여들어와『××委員으로부터 親愛하는 로서아平民에게』라고題한秘密印刷物을가저다준다 조곰잇다가 新郞이될『볼코후』가드러오는데 그는일즉 정부의간첩이되야 엇든비밀결사에탈을쓰고드러가同志를팔아버린 卑劣漢이다 드러오면서 門閥을내어세우면서盛히케｜트를후리려한다 때마츰 總理大臣에任命된伯父『멘치로후』伯爵이드러와 約婚을祝賀한다 그리며 깃분김에國歌를합창하다가마츰音符속에까두엇든악가인쇄물이발견되자그는이러한반역자는 테포하여버린다하면서怒氣騰騰하며나간다\\n◇第二幕‖그로부터約二年後어느번개몹시치는날저넉에憔悴하야 零落된것가튼케｜드의父母는 창까에안저 失神한사람처럼울며자긔딸케｜드가自殺한다고遺書를써노코나간지二年이되도록 海邊에서帽子는겨우發見하엿스나 屍體는아직찻지못하엿는데아마고기들에게다뜻겻겟지송장이나차젓스면 무덤이나아니만들어주랴그리고 그우에꼿이라도 아니꼬자주랴고 歎息하고잇다 그럴지음에 소낙비에저진웬젊은女子가 드러와빨내나 바느질이나 긁닑어들이기나무어든지할터이니 下女로써달나고哀乞한다 어미는일업스니나가라고떼민다 그때그녀자는 푹박아썻든帽子를벗는다그는죽은줄알앗든딸케｜드다\\n어미는네가魂이되여왓느냐 귀신이되여왓느냐고목에매여달려운다 케｜드는그동안同志를따라 엇던궁벽한海岸隱家에가서밤낫出版物을印刷하면서 □䇿하다가 그만어제밤에경찰의손에들키어몸만逃亡하야 아버지집을 이러케차저왓다하며『어머니！어머니！나를이집에감추어주세요 못하겟다면 못하겟다고말슴하세요 죽더래도곳나같터이니』한다 아버지는皇帝에忠直하기로十字架에맹세까지한터이나 極力保護하여주기를約束한다 사실兩親은딸이죽은뒤도세상榮華를다버리고서눈물로지내오든터이엇다',\n",
       " '七歲少兒折脚\\n결혼식자동차에\\n지난이십팔일 오후한시경에 황해도겸이포 욱정륙십륙번디(黃海道兼二浦旭町六六番地)에사는최진곤(崔鎭崑)의둘재아들최룡택(崔龍澤)이란일곱살된아이는자긔집에서 한집건너 리원배(李元培)씨집압헤서자동차에치어무참이도 오른편다리가 불어젓다는데 전긔자동차는 황주읍(黃州邑)자동차로 당일잇는결혼식에신부(新婦)를실고 신랑(新郞)집을 향하고가랴고 뒤ㅅ걸음질을할때 전긔최룡택 이란아이가 자동차뒤에 매여달렷다가잘못하여 떨어저서 그와가티다리가불어저서혼수상태가되엇는것을시내삼의원(森醫院)의사의응급수당을 바더생명에는 관계가업스나 일개월이상의 치료를요하겟다더라(겸이포)',\n",
       " '傳說의朝鮮\\n【五十九】\\n鯉魚가鯉姬의片紙를\\n高公子에게傳해\\n(二)\\n李文의잔채가高公子의\\n┊의잔채로변하이야기\\n朝天想懷(寄)\\n고공자는 말을몰아 서편으로향해갓슴니다 그때리희는 가는호남아인고공자가보이지아니하도록바라보앗슴니다얼마후에고공자는자긔집에돌아와부친께이일을엿주으니대대로(大對盧)가크게노(怒)햇슴니다 고구려뎨일명문고씨의아들로서야슬라주려관하는사람의집으로장가를들음은큰수치(羞恥)라고고공자｜아버지의명령이엄함으로리희의일을다시입에내지못하엿슴니다이이듬해에 서울에서말타기와활소기시험(試驗)을보게되엿슴니다고공자시험을보아급뎨를하게되엿슴니다 그리하야래객(來客(參尉)이되엿슴니다그후부터년년히 승차하야대모달(大模達)이되엿슴니다이때 나희겨우이십살이엿슴니다 위풍소년무관(威風少年武官)의영광(榮光)이과연엇더하엿겟슴니까머리에는금꼿꼬진전립(戰笠)을쓰고몸에는 은비눌달린홍전(紅氈)군복을입고 왼손에는활을쥐고올은손에는칼을쥐고은안백마(銀鞍白馬)로큰길에달아가니 보는사람마다 딸을둔사람이면 누구나다｜사위를 삼고십허 하엿다이에상부연국상(上部淵國相)도사위를삼으려하고 하부을주부(下部乙主簿)도 사위를삼으랴하야평양이십일만오백팔호에딸가진사람은 다고공자의얼골만처다보게되엿슴니다그러나고공자는리희생각뿐이엿슴니다\\n이때아슬라주성내어서방(阿瑟羅州魚書房)집에서는 잔채를하게되엿슴니다이잔채는엇던잔채냐하면 곳리희의새서방장가오는잔채이엿슴니다당초에어서방이고공자를보낸뒤에아모소식이업슴으로 매우궁금히지내게되엿슴니다 이제나소식이잇을가저제나소식이잇슬가하야도 도모지 소식이업는지라 어서방이사년(四年)을기다리다못하야하로는리희를불너다른곳으로싀집을 가기를권하엿슴니다이말을들은 리희는거절하엿슴니다그러나이때아슬라성주(城主)의아들리문(李文)이나희스무살이오재산(財產)이부요(富饒)하고인물(人物)이준수(俊秀)하엿슴니다리문이어서방에게혼인을청(請)하니어서방이 반가히허락하고리희에게권하엿슴니다리희가아모리거절하나어서방이듯지아니하고 이에혼인날을뎡하엿슴니다리희｜아모리생각해도할수업슴애 뒤ㅅ문밧련못(蓮)역에가서리어(鯉魚)를불넛슴니다그런데이리어는 엇던리어냐하면리희의집뒤에련못이잇고이련못에리어한마리가 잇섯슴니다리희가｜이전부터매일삼시로리어에게밥을주어길우엇슴니다이때리희｜리어를붙으니리어가나왓담니다리희｜리어를보고하는말이(너는나의맘을 알리라네가이제이편지(片紙)를우리님께전하여다고)하엿슴니다리어입을벌리고편지를늠큼삼키드람니다평양고공자(平壤高公子)집에서이날아츰에 녀하인(女下人)이생선울사려고 저자에나가서 리어(鯉魚)한머리를사왓슴니다리어를찍어배를갈으니 어허！무슨편지한장이잇드람니다이편지것봉에(고공자(高公子)보시요)하엿섯슴니다 녀하인이 곳사랑에나와 고공자께편지를 올리며리어(鯉魚)배속에서나온일을말하엿슴니다 고공자 이때편지를보니하엿스되(서방님가신뒤에소식이오래업슴으로부친께서다른사람에게 혼인을뎡하고 닷세후에는그사람이장가를오게되엿사오니 하로밧비 서방님오시기를기다리나이다』\\n魚鯉姫\\n분명히 리희가 한편지이엿슴니다 고공자｜편지를가지고 대대로(大對盧)께들어가이사실을엿주엇슴니다 대대로가놀내며 밧비아슬라주에가라햇슴니다 고공자｜곳천리마(千里馬)를타고밤낫몰아 아슬라주에 갓슴니다아슬라주에들어가어서방집을차자가니 이날은 곳어서방집새사위잔채하는날이라 신랑(新郞)리문이 바야흐로 말께나리랴할때이엿슴니다 이때에 고공자몬저말께나려도라갓슴니다이때어서방은크게놀낫다고함니다\\n어허！리문(李文)의잔채가 고공자(高公子)의 잔채로되엿담니다(끗)',\n",
       " '媤父도死亡\\n新郞도重態\\n아즉다섯명은생명위독\\n【榮州中毒事件益擴大】\\n두보한경북영주(榮州)군중독사건은 그후또신랑(新郞)인 동군이산면신천리(同郡伊山面新川里)강석초(姜錫初)의 친부의사망을비롯하야 사망자는 더생기어 지난십이일까지는 실로삼십오명의 만흔수에 달하얏스며더욱생명위독한사람이다섯명이라는바 당일의주인공인 신부도조곰알앗고 신랑은 가볍지안흔중태라는데 그원인은 아즉도한갓수지꺽기가 되어잇는터로 이에대하야목하분석시험에골돌하는경븍경찰부위생과서(西)기수는『아즉적확한결과를 엇지못하야언명할수업스나「삭카린」중독이아닌것만은 틀림업스며 그러면짠고기 음식의중독과 혹은어떠한질투에서의독약을너흔것이아니냐는 말들이잇지마는 아모래도독약설에는 거리가 멀어보이고소고기 등속의 중독이어떨가생각되는바가 업지 안흐나하여간불소한 사망자를 내기는늣게안데다가 딸하서 의료긔관이불충분함으로 응급치료가 늣게된우에 환자대부분이 평소섭양이불충실한 생활정도로의 나즌계급사람이만하 의외에 만흔사망자를 내게된것이라』말하며시험결과는불일간판명되리라더라\\n(대구)',\n",
       " '新婚旅行끄테窘迫\\n新妻를賣却코저\\n◇新郞은鐵窓身勢\\n호긔조케신혼려행을하든차에\\n돈떨어지자안해를팔아먹고저\\n호긔조케신혼려행(新婚旅行)을다니다가 돈이떨어저 궁핍하게되매 결혼한지얼마되지안흔 안해를창기(娼妓)로팔아먹으려다가 경찰에붓들린자가잇다 일뎡한주소가업시떠돌아다니든장봉준(張鳳俊)(三五)이란자는작년십이월경에 평북녕변(寧邊)읍내에서오십넘은홍병긔(洪炳起)란로인이 무남독녀로 애지중지하는딸춘영(春榮)을출가시키고저사위를구하는중이라는소식을듯고 즉시홍씨를 차저보고 자긔는 남선디방에사는 청년부호라고속이고 백방으로꾀이어 마츰내 그의딸춘영에게 금년일월경에장가를든후 얼마전에 신혼려행을떠나 평양까지와서는 려비가떨어저부내 태양려관(太陽旅舘)에밥갑백여원을지고 하로가티졸리기가실혀서안해를창기로팔아가지고 어대로 달아나고저주선하는눈치를그의안해가알고즉시 그의아버지되는 홍병긔에게 편지를하얏슴으로 깜작놀랜홍병긔는 즉시토디를 팔아밥갑을주선하야가지고오월이일평양에도착하야 즉시 밥갑을물어주고 딸을다리고돌아가랴한즉 장봉준은아모리팔아먹고저하얏슬지라도 나의안해인즉 맘대로다려갈권리가업다고완강히대항함으로할수업시평양경찰서에고발하야 장봉준은 평양서에인치취됴중이라더라(평양)',\n",
       " '歌覽遊鮮朝\\n(6)\\n崔南善\\n三五、대초로싀집가는 靑山의색시      담베로장가드는 鎭安의머슴      秋風嶺치달아서 三道峯까지      德裕山來龍에는 洞府도만타\\n三六、于勒仙어대갓나 彈琴臺뷔고      申砬의설운敗績 達川이운다      玉筍峯서린구름 龜潭잠긴달      江을껴內四郡이 勝地의連環\\n三七、春三月子規樓를 참아오르랴      莊陵에지는눈물 漢江이작다      昭陽江팔낄안은 貊國江原道     牛頭山푸른빗체 싸인자春川\\n三八、泰封의城두덕이 鐵路에끈킨      鐵原에三釜淵의 奇勝이잇고      劒拂浪洗浦거처 楸哥嶺까지      平康의高原味도 □다른배포\\n三九、斷髮嶺저넘어에 淨光이돈다      玉芙蓉一萬二千 이름이金剛      萬瀑洞琉璃홈에 구느니구슬      九龍淵水晶방아 찟느니울에\\n四○、三日浦絕代佳人 新郞이누구      에둘른三十六峯 저마다낸듯      海山亭將帥로다 軍卒이얼마      眼前의海金剛떼 뉘아니 그리\\n四一、造化의잔재조를 叢石에보고      世界의넓은뜻을 滄海에아니      人生의奇觀壯觀 이에 그칠듯      낫나치關東八景 치저서무삼\\n四二、江陵은濊國故都 볼것도하타      구타여鏡浦臺만 일컨하리오雄博에秀麗兼한 五臺山만도域內에짝이드믈 名勝處어늘',\n",
       " '六十歲新郞新婦\\n結婚마테財產爭訴\\n륙십세된늙은홀아비과부가결혼녯날양자를걸어재산소송을뎨긔\\n婚姻披露兼回甲宴\\n경남밀양군밀양면내일동(密陽郡密陽面內一洞)에사는 강윤길(姜潤吉)오십구세된남자와동군동면동리에사는윤삼절(尹三切)륙십일세된 늙은녀자간에는 결혼식을하고지난달중엔신부윤삼절부인의회갑연까지지내혼인신고조차마치고당당한정식부부가되엇는데 그부부된 원인을들으면두사람은모다홀아비과부로윤삼절은약이만원가치의재산이잇스나 본시정식남편도업고 또아들딸이도모지업는까닭에그친뎡족하윤정수(尹正守)를다섯살때부터다려다가길럿스나자긔의아들이아님으로항상자식업는자긔팔자를 한탄하다가 금번에강씨와혼인을할때에강윤길씨의넷재아들강강아지(姜江芽之)(二○)를제자식을삼기로하고그와가티혼인을한것인데 혼인신고를하고보니 윤삼절의집은 전긔윤정수가호주가되어그재산전부를차지하게되고 늙은신부부는 재사한푼도차지를못하게되매부부는전긔윤정수를상대로고소를뎨긔코저준비중이라는데일반은세상에희귀한일도만타하야한이야기꺼리가되엇다더라(밀양)',\n",
       " '端午놀이\\n◇利原 利原商務會主催와利原市民會와 朝鮮日報利原支局後援으로 來陰五月五日(端午)佳節을利用하야 邑內市塲에서脚戱大會를 開催한다는데賞品으로는年長에는 農牛一頭式이라하며年少에는 廣木一疋外其他副賞이 多數하다는데一般人士의 多數來參하기를바란다더라(利原)\\n鶴南公普運動會 城津郡鶴南公立普通學校에서는 鶴南校友會主催로來陰五月六日에 龍臺公設運動塲에서 學生大運動會를開催한다는바 該校에서는準備에奔走中이라더라(端川)\\n◇孟山 平南孟山郡北倉市에서는 來端午佳節을利用하야市民主催와 中外本報兩分局後援下에 陰五月七日八日兩日間脚戱大會를開催한다는데 四海勇士는多數參加함을바라며 雨天이면順延할터이라는데 賞品은如左하다더라(北倉)\\n一等現金四十圓二等廣木一疋  玉廣木一疋其他五等까지\\n◇田倉 平北昌城郡田倉面新坪洞에잇는 私立昌同學校의主催와市民의後援으로 來端午佳節을利用하야 昌同學校運動塲에서 脚戱大會를開催할다는바同校와市民들은 至今부터奔走中이라는데 미리부터盛况을豫期한다하며 賞品은如左하다더라(昌城)\\n一等大牛一頭二等中牛一頭三等廣木一疋等外도賞品多數\\n◇谷山 黃海道谷山郡邑內市民有志의主催와 本報谷山支局의後援으로 例年과가티端陽佳節을利用하야 脚戱大會를開하고當日을 意味잇게보내려는데 賞品은例年보다特別히授與하기로한바賞品等級은 如左하다더라(谷山)\\n一等黃牛一頭二等黃牛一頭三等黃牛一頭四等陽布一疋五等  白木一疋六等洋傘一柄七等雨  傘一柄\\n◇郭山 平北郭山市에서는例年에依하야 來陰五月五日부터向三日間脚戱運動會를 開催한다는바 賞品은農牛其他農具며農民에게 有要한것等이라하며方今諸般凖備에 奔走中이라더라(郭山)\\n◇中和 中和邑朝鮮人飮食店組合主催와一般有志의後援下에來二十二、三兩日間中和邑市塲에서 脚戱大會를開催하리라는데벌서부터 準備에着手하야 例年에比하야 新記錄을視리라는데 賞品은大人一等에大牛一頭二等中牛一頭 新郞一等日本木一疋二等文布一疋 兒童一等庭球靴一双 二等雨傘一柄外各種의附屬賞品을 進呈한다더라(中和)\\n◇博川 平北博川邑內市民一同은依年과가티 오는陰五月五日端陽佳節을利用하야 五六七三日間을두고脚戱大會를 한다는데 同大會幹部柳盛鐸李昌熙朴始鎭外數氏는 義捐募集과大會準備에奔走한다하며 벌서募集된金額이五百圓에 達하얏다하며 例年보다大大的으로擧行하리라하며 大盛况을豫期하는同時에 斯界力士와勇將은만히來參함을바란다는데 賞品은左記와갓다더라(博川)\\n一等大牛一頭及綿籏一件二等  中牛一頭及綿籏一件三等小牛  一頭及綿籏一件四等廣木一疋  其他\\n◇沙里院 黃海道沙里院에서는 年例에依하야 陰五月端午節인五日부터向三日間 沙里院景岩山下運動塲에서 全朝鮮脚戱大會를開催한다는데 賞品은例年과가티 大牛一頭、中牛一頭、小牛一頭 其他賞品이山積하다는바 各道各郡의力士들은 만히參加하기를바란다더라(沙里院)\\n◇寧邊 平北寧邊郡寧邊靑年會와商務組合聯合主催로 端午佳節인 來陰五月五、六、七三日間에 寧邊公普校運動塲에서脚戱大會를開催한다는데 賞品은如左하더라(寧邊)\\n▲壯年‖一等百圓價牛一頭、  二等大牛一頭、三等牛一頭\\n▲少年‖一等五十圓價牛一頭 外二三等\\n◇遮湖 遮湖靑年會에서는來陰五月六日 同地運動塲에서端午놀이脚戱大會를 開催한다는데 賞品은年長者一等農牛一頭라하며 其他年中年少에도元賞副賞이多數하다는데 一般人士의 多數來觀을希望한다더라\\n(遮湖)\\n◇順安 京義線順安市民의主催와 本報順安分局後援으로例年과가티 端午佳節을利用하야脚戱大會를來二十二日(陰五月五日)부터向三日間을順安西川邊에서 開催하려고方今地方人士들은紛忙中이라더라\\n◇江陵 江陵의年中行事中에도가장重要하다고 할만한端陽運動會도 今年에는旱災로말미암아 到底히開催키不能하다고一般은推測하야오든바 이미時日도 臨迫하얏스며年年이해오든것을 唯獨히今年만아니할수업다하야 지난六月五日午後六時부터 本町東鮮釀酒所二層에서各代表四十餘名이모여 協議한結果 例年과가티盛大히擧行하기로 决定되엇는데竸技種目과 割日은다음과갓고其他各色餘興도잇스며 活勇이잇는靑年選手는 多數參加를바란다더라(江陵)\\n一、少年蹴球 六月二十日\\n二、自轉車竸走同二十一日\\n三、靑年蹴球 同二十二日\\n四、陸上竸技及脚戱同廿三日\\n五、庭球     同二十四日',\n",
       " '横說竪說\\n政友會가婦選案을、提出하려는運動이黨內部에잇다하니까民政黨에서도、婦人參政權을討議、\\n당신을爲하야는、무엇이든지드리겟습니다、색시는하나에新郞은둘、政界의三角戀愛劇이方今求景꺼리\\n가튼同盟休校에對하야、어떤學校는、記事를禁止、어떤學校는放任하는、近來總督府의言論取締\\n奇怪千萬！官私立의、區別인가고、어떤險口家의放言、當局의對答을듯고십다',\n",
       " '横說竪說\\n新郞달아먹는것은朝鮮各地共通의風習이라하야、달지안해주어도、돌이어섭접하다할지경이나\\n그때문에弊害도적지안타하면此所謂過者莫如不及\\n民政黨에서는所謂不戰條約의用語問題를가지고田中內閣攻擊의大騷動을닐으키엇다\\n騷動할만한材料가山積한데何必이런問題를가지고떠드는心理는、當者가아니고는모를일',\n",
       " '雑 信\\n鎭山惠\\n◇市內趙某란者는本妻의돈百圓을훔처가지고妾의집에가서따뜻한꿈을꾸다가本妻에게發覺되어돈내라고騷動을침으로趙某는本妻를집어鴨綠江에던젓드니허염처서살아낫다고\\n◇市內某家에서는따님約婚에問卜하야新郞을고른다지그問卜보다女子當身이新郞을고를일이지\\n天朝\\n◇去二十二日 新左面公職者月例會를開催한데曰民風振興、精神敎化를시킨다고그方䇿如何！',\n",
       " '處女를끌어다가\\n新郞업시結婚式\\n신랑은일본두고처녀만끌어다\\n강제로머리언치고결혼식을해\\n◇結局은破約爭訟\\n십구일오후에 부산디방법원민사부법뎡(釜山地方法院民事部法廷)에서는리(李)재판장 심리하에원고측변호사김동현(金東炫)피고측별호사리한규(李漢奎)량씨의 렬석으로한가지자미잇는재판사건이 잇섯다이제됴사한바를 소개하건대그재판사건의 소장(訴狀)리유는다만금전(金錢)의 반환청구이나그러케간단한 사실이아니라문뎨의원인은 지난사월에 원고인 동래군사하면감천리(東萊郡沙下面甘川里)에본적을둔김소조(金小祚)와 동군사상면감뎐리(同郡沙上面甘田里)에 본적을둔피고 강원덕(姜元德)의딸양순(楊順)(二○)이와 약혼을소외(訴外)장차두(張致斗)(六二)의 중매로써 매젓다는데신랑과신부된 두사람의사이에는물론서로알지못할뿐 아니라쌍방의부모들도 혼인할 당사자의얼굴이 어떠케생겻는지그들의심성(心性)이 어떠한지서로전연몰른터이고 다만중매인의전하는말만 신용하고 그러케약혼을하게 되엇다\\n그들의결혼식 거행할날을금년음력사월십이일로 작뎡하고원고인총각편으로부터 피고인처녀의편에 대하야결혼식비용으로서돈륙십일원까지 보내주엇다는데 결혼식을 거행할긔일이박도하매 신랑편으로부터통지가오기를총각은 방금일본동경(東京)에서 모회사에 근무하고잇는중임으로 돌연히귀향하지못할사정이 잇스니 오월십륙일까지 연긔를하야달라하얏다한다 그런데처녀의집에서는결혼식을 거행할 만반의 준비를하고 잇든터이나 신랑측의사정을생각하야 그러케연긔를승락하고 두번재뎡한결혼날이닥치기만고대하고 잇섯든바오월십륙일이 당도하매 신랑편에서또다시 총각이아즉돌아오지아니하얏슨즉 다시더연긔하야달라고하얏스나 처녀의부모들은 두번이나 뎡한날자를리행하지안흠이 대단히의심스러울뿐아니라 두번이나준비한비용이불소한즉 더기다릴수는업다하고힐난한뒤에 필경파혼하자고강경히주장하얏다한다\\n그러케된뒤 몃칠이 못되어총각편으로 부터 총각김소조의실형(實兄)김량문(金良文)이가처녀의 집에가서자긔의모친이자동차에서 떨어저부상하야사경(死境)에 이르럿슨즉 잠 간가서 대면만하야 달라고무리강청하야다리고 가서는 총각의 사촌형수가 처녀에게달려들어머리를 풀리고니어총각의어머니와 기타근친(近親)들에게억제로 절을시키고 사흘동안이나 재워두엇다가 총각잇는 동경으로 가자고강권함으로 처녀는도뎌히결혼식을거행치안코서는 비녀를찌르고판부지타처로 갈수업다하고자긔의실가로 돌아가머리를따코돌우처녀가 되어잇는터인데일이이러케까지 복잡하게되매총각편에서는 그러면약혼을파약하겟다고 결혼식비용으로먼저주엇든돈륙십일원의반환 청구소송을일으키게된것이라는데 피고인처녀측에서는그 돈륙십일원은량차(兩次)의결혼식 준비비용으로써 버렷슨즉돌려줄수업다고주장하는중인데 이재판사건의 판결이어떠케나릴는지일반은매우 흥미를가지고보는중이라한다【부산】',\n",
       " '花燭式塲에警官突現\\n禮服입은新郞을拘禁\\n아버지와어머니사이가조치못한까닭으로\\n어머니의맘대로어든신랑을식장에서훔처\\n◇雲峯某富豪家의怪事件\\n◇\\n전븍남원군운봉읍내(全北南原郡雲峯邑內)모부호‖는남원군속(南原郡屬)으로 근무하는라뎡진(李廷珍)(二八)씨를유인죄(誘人罪)로남원경찰서(南原警察署)에고소(告訴)하야취됴를 마치고 일건서류와아울러지난이십팔일에 전주디방법원 검사국(全州地方法院檢事局)으로넘겨지금 예심에서 심리중이라는데이제그자세한원인을듯건대모부호는 전븍일류의 재산가로아들은업고딸만형뎨가 잇섯다\\n◇\\n큰딸은부친(父親)되는 모부호가간섭하야 결혼하얏스나그모친되는김씨(金氏)는 항상마음에부뎍당하야 사이가조치못햇든바 둘재딸이당혼시긔가됨으로모부호의부인김씨는 둘재딸은모든방면에유감이업는 사위(婿)를구하야결혼한다는 생각으로 김씨는본적을전븍순창읍내(全北淳昌邑內)에두고 현남원군청의 군속으로 근무하는리뎡진이와 들재딸과결혼하자는동의를 수삼차요구하얏스나불응하고현남원군수(南原郡守)의아들과결혼하기로함으로 김씨는최후로통신을발하고 응답하라하얏다\\n◇\\n그러나 하등의회답이업슴으로김씨는친뎡인태인김혜곤(泰仁金惠坤)씨의집에가서혼인할준비절차를설비하야가지고 경성으로가며 남원으로 통신하야신랑될 리뎡진씨를경성으로오라고함으로 리뎡진씨도역시결혼할준비를하야가지고 경성으로향하얏는데 김씨와리뎡진씨는 경성뎡거장에서맛나 약속한후에 지난달이십오일오후네시에 경성공회당(京城公會堂)에서 성대한결혼식을거행하게되엇든바 모부호는리뎡진씨와본처김씨를 유인죄로남원경찰서에고소하고 동서에서는그즉시에 경성종로서로조회하야종로서에서는 결혼식거행하는중례복한대로 그를남원경찰서로압송하얏든사건이라한다\\n本妻는곳離婚\\n딸은재가거절\\n별항보도한바와가티 전긔모부호와 본처김씨와는 금슬이조치못하야 첩만알고본처와는거의 리혼하나다름업시지내든바딸을승인도업시결혼식을 거행하얏다는리유로 긔회를리용하야 리혼소송을뎨출하고 결혼식을거행한딸김정애(金貞愛)(假名)(一七)를남원군수의아들과결혼하기로하는데 딸김정애는결코리뎡진과 결혼식을 하얏스니다른곳에로는시집을 가지아니하겟다하며 만일에강제로결혼을한다면 독약이라도먹고죽을지언정두번 결혼식은아니하겟다고 거절하얏는데 모부호는수치를당하기는 어차피일반이라하며두번이라도 결혼식함을주 장한다더라\\n郡守는報吿\\n休職을命令\\n남원군수는 자긔아들과김정애와결혼하게되엇슴으로 이사건에는관계가잇는데 삼월이되면휴직하라는귀정이잇슴에도 불구하고단일개월이못되어 전븍도당국으로보고하야 지난이십륙일부로리뎡진에 휴직을명령하얏다는데일반은군수의 행동이심하다하야 불평이자자하다더라【전주】',\n",
       " '丈人이棍棒들고\\n新郞을亂打放逐\\n순사가와서간섭한결과\\n新婦는헌옷입고媤家行次\\n지난오일함남신흥(新興)읍내에서는 신랑이 말을타고신부의집에 장가들러왓다가 그장인에게곤봉으로매를마저 쫏겨간후순사가말하야 신부가 가마도타지안코 헌옷을입은채로혼자 울며신랑의집으로 걸어가서 수천사람을 웃긴 진긔한사실이잇섯는는 이제그자세한 사정을알아보면 신랑은 신흥군 서고천면 료중리 이백팔십구번디 송은호(新興郡西古川面蓼中里宋銀 )(二二)라는사람으로서 지금으로부터 십년전에 동군동고천면흥경리 최상현(東古川面興京里崔相鉉)의딸 최새ㅅ별(崔新星)(一七)과약혼하야노코벌서그동안두차례나 장가를들고저 하얏스나 신부의집에서는 딸의나히가어리다는리유로 그때마다 거절하얏는바 문뎨가일어난 지난오일에도 신부의집과 하등상의가업시 말을타고 가마를가지고신부를더리러왓슴으로 장인이그가티곤봉을가지고쪼처보내엇다는데 그때에그곳 경찰서순사가나와서 그장인을 꾸짓고신부를보내라고 명령하야 신부의집에서도 부득이보내엇는데 웬일인지신부는울며 가마도 타지안코례복도입지안코헌옷을입은채로울며 혼차서 시가로간것이라더라【신흥】',\n",
       " '生活改善條件\\n東萊生活改善會决議\\n東萊生活改善會에서는지난九日午後一時當地耆英堂에서總會를열고調査委員會에서調査研究하든時弊中尤甚하고가장至急히矯正을要할第一回議决案을左와如히决定하고會員은勿論着着實行할것이며널리社會에宣傳하기로하얏다더라\\n一、會員은既裁衣服以外에는  綢緞屬의衣服을新裁着用치아  니하며家族中隆老를除한以外는亦此主義를漸次實行할事二、男子衣服中衫及 衣等上衣에는一切結纓을廢止하고單鈕로써代用할事三、衣服은居喪中又는夏服을除한外에는一切染色着用을實行할事四、初終時吊問客에게酒肴의進供例를廢止할事五、會員及其家族의初終時賻儀는喪家의用에 하도록可及的金錢으로써할事六會員及其家族의發靷時에는可及的多數護從케하되一定한塲所에서永訣式을行하고葬地까지護從은此를廢止할事七、出喪時路奠은此를廢止할事八、靈柩 運行時薤歌를 廢止할事九、會員은그親成의大小祥以外에는 一切慰問치 아니할事十、納幣時從客에게는適當한酒肴는供하되所謂大床의陳設과及其食物을輸送하는例는此를廢止할事十一、奠雁及于歸日에新郞新婦上客及其侍班에게大床陣設과及其兩家間此를交換하는例는絕對廢止할事十二、于歸時衣服類의禮單進例는可及的廢止할事十三、婚禮時請牒을受한以外에는躬徃賀問치아니하며物品을贈送코저할時는可及的期日前에此를送致하고當日金錢의文問換受例는廢止할事',\n",
       " '雑信\\n金堤\\n◇旱害의今年에도賭博은各面마다盛行한다고賭博의害를닙는者는어찌하랴노？\\n◇白鷗面金某의집에서는婚日에新郞이들어오자新婦는어대로走字를햇다는데그理由는新郞이常놈이라婚姻을못하겟다는까닭이라고約婚을애當初말일이지！\\n◇金堤郡의今年旱災는靑蝦孔德兩面이尤甚한데날은추어오고먹을것은업슴으로男負女戴하고流離의길을떠나는者가日增한다고、아！悽慘한現狀이어！\\n漢川\\n◇지난八日漢川面事務所에서는面會計員이納稅바든金額中에서一金十圓을紛失하얏는데嫌疑者로는그때에稅金을바치러갓든良民두사람이라고｜果然眞犯은那邊에在한고？\\n高敞\\n◇高敞郡邑內에는歲未臨迫關係인지큰商店金庫만떨어가는『스리』가頻煩하는판이라는데警察에서는一件의端緖도尙令未得이라니思想取締에魂을빼인貌樣\\n甲山\\n◇甲山郵便所配達이怠慢하야郵便到着後二三時間을지내고配達한다는바南北에서오는郵便物을一時에配達하는習慣이기어떤때에는南來自動車가故障이나되면結局正午到着北來郵便物을夕陽에하게되는바通信怠配의不平이甲山市民에게藉藉하다고',\n",
       " '것는가어늘\\n(7)\\n文化向上의反映\\n男女結婚年齡\\n어린신랑신부는줄어들어\\n화촉동방에도로신랑차지\\n早婚逐年减少\\n생존경쟁이날로심해가며 생활이날로군핍하야감에딸하 결혼년령도늘어간다 태평시설에는아버지어머니덕에 평안히들어누어서도 장가들고 자식을길를수잇섯스나 요새가티세상이맑어진때에는 생활에 쪼들리어혼자먹고지내기도 어려운터에안해와자식까지도 거늘일수가업스며 또한인습이차차해이하야지어 부모를위하야 어린신랑에 장성한 며느리를더려오는법도 업서지기시자하야 일반으로 결혼년령이 느저가며 녀자들도교육을밧는녀자는경제독립에 눈이뜨고자활의길을개척하게되어 일반의 경향이만혼의길을 밟어들어가게되는중이다\\n卄歲未滿夫婦\\n不過二割八分\\n이젠 통계상에 나타난숫자를근거로 그변화의추세를보면대정팔년에는 법뎡년령결혼총수십사만칠천이백구십사조중 남자십칠세이상이십세까지와 녀자 십오세이상 이십세미만이사만구천삼백구십륙조로 총수의산할사분이든것이 소화이년통계에는 결혹총수십륙만칠천사백구조중에 전긔년령의결혼수가사만 륙천삼백팔십사 조로전례의 이화팔분으로줄엇다\\n어린新郞대신\\n어린新婦增加\\n대정팔년에는 뎨이위이든이십세이상이십오세미만의 남자와동년긔의녀자의 결혼이일만삼천팔백사십삼조로 전톄의구분삼리이든것이 소화이년에는부쩍줄어 전례의뎨사위에떨어지고 뎨이위는 이십세이상이십오세미만과 십오세이상 이십세미만의 녀자의결혼이이만칠천일백구십일조로 총수의일할륙부으로 자긔보다젊은녀자를택하게되는경향을 보이고잇다\\n老年新郞新婦\\n九百組로激增\\n이십오세이상 삼십세미만의남자 걸혼은 대정팔년에는 이만 일천 구백구십팔조로 일할오분이든것이 일할륙분으로되어 약간의변화를 보여주며만오십세 이상남자의 결혼은대정팔년에는 일천 륙백칠십팔조이든것이 팔백구십 구조로감소하얏더라',\n",
       " '나폴레옹과理髮師\\n(五)\\n(喜劇全一幕)\\n無  涯  譯\\n理髮師(근심스러운듯이)무슨  말인가요？\\n나폴레옹 당신도아듯이 그는  東洋을 매우조하한답니다\\n그豪壯한것과 儀式이｜그것이 그의劇的感覺을 울렷든것이지오 자｜그런데 그가아조훌륭한 東洋式葬式을計劃하야노핫답니다 그의王位繼承者는佛蘭西사람五千名을 모아노흐라고 命令을하는데 그五千名은 모든장사꾼과 모든職業｜말하자면技手들 장사꾼들 辯護士醫員 理髮師들을 代表치안흐면 안된다고합니다 모든村落은 各히 理髮師其他로써 제목슬내노하야할터인데그사람들은 東洋風俗을딸하서 그의侍從으로 함께殉葬을하게될것입니다『나는 佛蘭西와佛蘭西ㅅ사람을사랑한다！그러니까 죽어도 生前과마챤가지로 그사람들과가티잇서야한다』고 이러케부르짓는답니다\\n理髮師 저런惡鬼가트니！어  대서 그따위생각이낫드람！  푸！(대단히흥분되어)아\\n그저지금여긔잇기만한다면｜  나폴레옹『아름다운 佛蘭西나  라』의試鍊에대하야 興奮되  는서슬에 까딱하면 사람傷  하겟구려\\n理髮師(자랑하는듯이)걱정  맙시오 걱정맙시오 이래봐  도『디종』에서는 뎨일가는  理髮師랍니다(매우 心으로)  그러고 그나그뿐인가요 面  刀질이革命과 무슨상관이잇  겟습니까 그야別物이지오\\n하나는理想이오 하나는實際니까요 알아들으시겟습니까\\n나폴레옹 나폴레옹이 손님으  로오기전에야그러치오 오기  만오면 그때야말로 理想과  實際가一致하겟습니다그려\\n(나폴레옹과 理髮師 웃는다  理髮師는나폴레옹의얼굴에비  누칠을하자 그는突然히손을  멈추고 職業服에서詩를찻는  다\\n理髮師 革命詩傑作한篇을 읽  어들일까요\\n나폴레옹 이미始作한技術이나  어서마처주오 비누가얼굴에  말라붓는구려\\n理髮師(그의말은 들은체만체  하고 함부로몸짓을하면서詩  를읇는다 나폴레옹은 빙긋  웃으며의자에 편히눕는다나  폴레옹의얼굴에 다시비누칠  올한뒤에 이번에는面刀질을  시작한다)\\n한데그葬式준비에理髮師도包含하얏는가요？分明히 매村落마다 적어도한사람씩을불러가는가요？\\n나폴레옹 암으렴요 그가분명  히理髮師를말하든것을 내가  記憶하는데요 어떤때는醫師  나辯護士를이저버리는수도잇  습듸다마는 理髮師는꼭말한  답니다\\n理髮師 아 그를面刀질하는사  람이알기만알앗스면！내가  만일그의理髮師만된다면｜  아 그가 우리理髮所의손님  이된다면 단박에내가 葬式  을擧行하게되겟구면！\\n나폴레옹 理髮師가 나폴레옹  을 어떠케한단말이오？\\n理髮師(깜짝놀란모양이다 그  는面刀를몹시갈아가지고 나  폴레옹의턱을 좀쳐들어 머  리를뒤로제치고 목을들어나  게한뒤에 나폴레옹의목에面  刀칼등을대인다)이봅쇼 그  저이러케한번이면｜(칼등  을 나폴레옹의목으로 썩건  너지른다)나폴레옹도마즈막  이오 暴君도 마즈막이오\\n理髮쟁이가 곳佛蘭西의救主가될것입니다\\n나폴레옹 事實그러쿤요 運命  의 突變스러운작난으로 王  들과皇帝들이 失敗한것을理髮師가 成功할것입니다\\n(나폴레옹은 머리를뒤로제치  고 눈을감는다 理髮師는  面刀질을마치면서 革命家에  마추어서 휘파람을분다)\\n理髮師(나폴레옹의얼굴을 어  루만지며)아！아조말숙히차  림을차린젊은新郞가튼데요｜  (나폴레옹의귀에대고 속살거  리며웃는다 나폴레옹은 거  긔에마추어서 빙긋이 웃는  다)우리 죠세핀은 내가말  끔히面刀질한것을 조하한답  니다 面刀질을안흐면 실타  겟지오 깔꿍깔꿍하다나요\\n虛榮스러운계집들가트니 글세 계집들이란 이상치안하요？\\n나폴레옹(깜깍놀라되뇌인다)  죠세핀｜죠세핀\\n理髮師 녜 우리안해의이름이  야요 아까들어오실때 보시  지안핫습니까？\\n나폴레옹 조서핀이｜당신의  안해라구요？\\n理髮師 녜틀림업지오 내말은  못들으시나보구려 틀림업시  내안해지오',\n",
       " '情 막힌春閨의苦憫\\n쓸어진一朶花\\n애인그리고딴남자와결혼실혀\\n봄바람에덧업시쓸어진꼿송이\\n◇嚴格한家庭의悲劇\\n한양의봄빗이 자못무르녹은 지난십오일 오후여덜시경에 시내경운동사십칠번디 남궁(南宮)씨의집에서는 인간에도 가장아릿다운꼿한포기가떨어지고말앗다 그는 남궁만(南宮萬‖假名)이라고하는 방년이십이세의 꼿다운녀성으로 일즉 문벌잇는가뎡에서잘아나 엄격한 교훈을밧는동시에 지난 대정십사년 시내동덕녀학교를 졸업하고중앙보육학교를거처 덕수유치원(德壽幼稚園)에보모로근무하든중 청춘의불길은 마츰내이성(異性)을꿈꾸게되엇다 어찌어찌하다가 시내모은행원 리모(李某)라는청년을알게되어이래일년동안이나 사랑의 실마리가오고가고하든중 그들은 마츰내약혼까지하고 멀지안하 닥처올사랑의보금자리를그리고잇섯다그러나 호사다마로 그것을안남궁씨의가뎡에서는절대로이것을허하지안는동시에 녀자의출입까지 엄밀하게 감시하게되엇다그뿐이랴 그의부모는 장차다른신랑(新郞)을구하야가지고 출가를시키려고 하얏스니 텬디를두고맹서한 그들의 사랑인지라비록부모의 명령이리 할지라도어찌그구든맹서를 저버릴수잇스랴날개가도치지아니하얏스니날라갈수도업고 겨테 하소연할사람조차 업스니 어찌애인에게 통신인들하랴 홍규(紅閨)깁흔곳에서 공연히울렁거리는 봄날의 가슴을 부등켜안고 고민과한탄으로지낸지도벌서오래다고한다\\n그리다가 지난십오일 두어자유서를써노코별안간이세상을버리게되엇스니 그리고그리든 그의사랑의보금자리는 영원히 구천의알에로감추고말것이다 이제동가를방문하매 그의부친 남궁씨는 비창한어됴로『자살은아닐줄압니다만 세상에서는 그러케도추측하겟지요』하며 다른말은피하더라(사진은남궁양)',\n",
       " '横說竪說\\n英國의 新有權者廿歲로 卅歲까지의靑春女子、그向背에依하야 今番總選擧의 勝負가决한다고 各黨은 제各其誘引䇿에苦心하는모양\\n保守黨이『投票權을준것이내니내게投票하라』고 老人다운소리를하면\\n勞働黨이就職保障結婚促進等의好條件을잔뜩提議\\n自由黨老將로이드쪼지君自身出馬하야시골새아씨의손등을입마추기에땀이벌벌\\n어쩐지饌物만흔勞働黨이가장有力한新郞候補갓다마는、젊은女子의맘이라 어떠케變할는지아나',\n",
       " '一女를兩處에許婚\\n新郞이處女爭奪\\n이리저리끌려다니는신부\\n全州郡參禮에喜悲劇\\n【삼례】 전븍전주군삼례면어뎐리 全北全州郡參禮面於田里)서상덕(徐相德)은 전무한작년한재에 여디업는재해를맛나 먹고닙을것이업서류리걸식코저하나당혼(當婚)한딸자식이잇는관계로 그도저도못하고 잇는중에더구나 금년춘궁을맛나 최후의사선에 올라절뎡에달하게된 까닭에 딸의혼처를광구하든바 동면삼례리장봉춘(張鳳春)과말이잇서 약혼한후 지난이일에결혼식을거행하기로결뎡하고서씨의처리성녀 (李姓女‖假名)는 동리최길록(崔吉錄)씨의소개로자긔딸서순애(徐順愛)(一五)(假名)를삼례리민오동(閔五童)과약혼하야지난이일에결혼식을거행하기로한후 민오동으로부터 현금십원과다소의 례물을 바덧스나서씨와 리씨는 서로약혼한줄몰랏섯다는데 지난일일에 비롯오리씨는자긔남편이딸의약혼한줄을알고 즉시 민씨에게통지하얏든바 민씨는 이급보를듯고신부집에쪼차가서신부를붓들어다가삼례리모씨의집에두엇다가그이튼날오전네시에민씨의집으로더려갓섯다는데 서상덕과상약한장봉춘은 아무런줄 몰르고예뎡한날인지난이일에결혼식을거행코자 준비를하야가지고 온□신부될처녀서순애는전긔민씨가더려갓다는 말을듯고 삼례주재소에 탄원하야 해결을짓고그날오후네시경에 정당한결혼식을장씨와거행하얏섯다는데민씨는분함을참지못하야신부의부모에게쪼차가서귀결코저하얏스나서씨내외는도망하얏다더라',\n",
       " '横  說  竪  說\\n◇\\n蔣、閻、張三人이 西山에모혀軍隊編遣과 內政外交의統一을協議한다고\\n◇\\n녯날에桃源에 劉、關、張三人이 겨레틀하더니 今日의三人도有終의美를엇도록\\n◇\\n不景氣內閣을맛고도 日本人民이조하하는것은 맛는新郞이有情함보다 입때섬기든舊郞이無情하얏기때문이겟지\\n◇\\n放縱한男便을當하면 얌전한男便을 얌전한男便을當하면放縱한男便을求하랴함이 人間의本能인가봐！',\n",
       " '世界無類한\\n合法的方式\\n위리야라시紙가評論한\\n露國의結婚法과家族制度\\n露西亞의結婚法과家族制度에도『뽈세비키즘』의精神으로부터立法된一種獨特한것이잇다이에對하야『프라그|체코·슬로바키아首府|』發行『워리야·라시』誌가評한것結婚에關한『쏘베트』의法律은\\n『뽈세비키』가政權을掌握한直後에公布되어舊來의寺院結婚은그以後結婚當事者間의私事로되어革命前에는法律로나 宗敎로나慣習으로나一切認定치안햇든自由結婚이唯一의合法的結婚方式으로된것이다\\n親屬及結婚에關한『쏘베트』의最初의法令은一九一七年에發表되엇다即同年十二月離婚에關한法令、그翌月公民結婚、出生兒及戶籍에關한法令、一八年十月國籍、結婚、親族、後見에關한法令이發表되어二十五、六年에는다시新法令이나와今日의結婚及親族關係는二十七年一月一日부터實施된結婚、親族及後見에關한新法令에據한것이다\\n『쏘베트』의結婚及家族關係에對하야『쏘베트』의立法精神의如何한가를說明하면現今公民結婚은『카소린』敎國例컨대西班牙希臘敎의勃牙利『유고·슬리비아』等을除한外 西歐諸國에 行하든바『쏘베트』의結婚及親族法에至하야서는西歐民主主義國의하는方法의거의全部를집어너흔우에다시新機軸을加味한것으로二七年의新結婚法을보면\\n一、戶籍係에結婚届出을한者\\n一、届出을하지안흔者라도事   實上夫婦關係를持續한者\\n一、一七年十二月二十日以前   에敵軍의占領地域에서宗敎  的儀式에依하야結婚한者라  할지라도\\n이것을夫婦라認한다고規定하얏다그러나事實上戶籍係에届出한結婚證明書의外는寺院의結婚證明書等은何等의價値를認치안는다\\n現行法에서는届出의形式은新郞新婦가그居住地의戶籍係에届書를提出하기로되엇는바그곳에는아이의有無、相互間相對의健康狀態를熟知하는가하는따위일도記述하게되어잇서結婚係로부터『兩人의申立에相違가잇슬때는刑法上의制裁를受할수잇는』旨를注意하야特別한帳簿에登錄하야證明書를읽어들린後兩人은別冊에署名하고係員이이에確認을與하고手續은끗나기로되엇다\\n그런中夫婦相互關係에對하야서도『쏘베트』의法令은자못奇拔한바잇서革命前의露西亞法律에는\\n一、夫에對하야는妻의愛를要 求할수잇는代身扶養의義務 를負케하고\\n一、妻에對하야는夫를家長으 로서敬愛하고이에服從하야 一家의主婦로서忠實할것을 要求\\n하얏슴으로共同生活의意義도分明하고夫의移住의境遇에는妻는이에從할것을定하얏섯다\\n그런데『쏘베트』의法律로는結婚法第九條에\\n『夫婦는各各職業、勤務를自由로選擇할수잇슴夫婦中누구든지居住地를變更할境遇一方에對하야移住를强制할수업슴이라하얏고其他』\\n一、一家의經濟는兩人의協議  에依함\\n一、結婚前의財產은本人의所 有로함\\n一、結婚後의財產은共通의것  으로함\\n一、一方이失業한境遇他方에 扶養을要求할權利가잇는것  으로함\\n一、勞働能力을失한境遇는離 婚後라도他方을扶養할義務  가有함\\n等이란權利義務에關한規定이許多히設置되엇다\\n又第二十五條에는子息과兩親과의關係에對하야『이들의相互的權利는血族關係에 依하야生함』이라하얏슴으로正式結婚을하지안흔者라도實子인以上亦是正式結婚者間에生한子息同樣으로權利義務가잇슴으로이點은他『뿔쪼아』諸國의親子關係와는幾分傾向이다르다兩親의權利도子息이成年으로되게까지인가未成年者라도虐待를加하면親權을停止바들수잇다\\n다음家族關係가分明히表現된것은第十八條의規定으로이곳에는『雙方合議의우에 夫婦關係를停止할수잇슴』이라하얏다離婚은書面又는口頭로써簡單히手續이된다勿論離婚의境遇에흔히問題되는것은子息의일인바이것은夫婦어느편이子息을바다扶養할지兩者가이것을解决하야그것을登錄하면그것으로翌日부터他人으로되는셈이다또第百四十條에는夫婦의一方으로부터離婚의届出이잇슬때는他一方에그複寫를送達하야그대로複寫를届出人에게發送하게되엇다\\n『쏘베트』法律家의見解에依하면家族關係나夫婦關係나그것은權利義務가存續하는동안만의일로一朝法律上의手續을終하야關係가斷하면全혀他人이되고從하야何等拘束되는일은업다한다 그러나手續을마치고形式上他人이되엇드래도無料社會養育機關의設備는實際는有名無實하야그곳이許多한實際問題上의缺陷이現出함을『쏘베트』의法律家도今日로는亦是人間의感情個性을無視할수업슴이痛切히感하는듯하다',\n",
       " '雅三\\n俗四\\n◇不許酒吏入山門！  米國은禁酒國이니의심스러운곳은빼지안코搜索해보는것이當然한일이지마는最近에六名의檢査官이『롯산젤스』의『카토릐』敎尼僧院에闖入하야술을搜索하얏든바元來술이잇슬까닭이업는尼寺이니그만失敗하고말앗는데넘우얼토당토안흔搜索을하얏다는理由로前記六名은全部 職을當햇다고\\n◇嶄新奇拔한結婚式\\n佛國의夏期遊樂地로有名한『안티｜ㅂ』市에는奇拔한結婚式이잇섯다\\n新婦는米國『칸사쓰·씨티｜』의『힐다·폰·헬리히』라는美人、新郞은『콘스탄티노｜플』의『모｜리쓰·샤론·베이』라는土耳其人、立會人은『안티｜ㅂ』市長으로式은海水浴塲에서擧行되엇는데新郞新婦立會人까지물이뚝뚝떨어지는海水浴服을입고列席、式이畢하자新婚夫婦는그대로海中에뛰어들어헴을첫다고\\n◇四千年前玩具發見\\n『몬테네그로』와『유고술라비아』國境에잇는』네메트보리』에서地下를파다가四千年前의 玩具工塲이나타낫다는데 그속에서나온玩具中에는놉히가 겨우一吋밧게안되는 土瓶과木製人形도잇섯다하며 그후에 그近處에잇는兒童의무덤을파보앗더니 똑가튼玩具가四千年前의 그임자와함께發見되엇다고',\n",
       " '父子가各各\\n兩處에許婚\\n신랑이고소\\n【고원】함남고원군군내면현흥리정관철(郡內面峴興里鄭觀喆)의둘재아들병모(炳模)는자긔의녀식순녀(順女)(一七)를지난음삼월하순경에덕원군성븍면사흘천리(德源郡城北面沙屹川里)이십구번디리홍림(李弘林)씨넷재아들창엽(昌燁)에게혼인을승락해주고 혼수오십여원을 바닷다는데그후로 부자간에 각기행동을취하야전긔병모의아버지되는정관철(鄭觀喆)은자긔의아들이결혼을승락해주엇슴에도불구하고그후에또다시 손녀를 다른곳에허혼하얏다는바먼저결혼하고혼약금까지바친신랑측(新郞側)에서는 넘우도 어이가업서전긔관철(觀喆)을차저가서판단을짓고저한즉 정씨는 랭정한태도로써절대모른다하얏슴으로 그에분개한신랑측에서는 지난이십오일에정관철을걸어당디군내면소할주재소에고소를 뎨긔하얏다더라',\n",
       " '將來社會의\\n戀愛及結婚觀\\n(下)\\n콜론타이女史\\n現代의實業家와專門家들은情感的生活에서 超越하얏다 時間이貴하다 戀愛生活에  中하리만큼한 時間을 갓지못하얏다 現代의男性은 單純히自己네의 家庭에 女子가必要한때문에 結婚하는것이다 前日과가티 戀愛至上的觀念이라든지 또는모든 情感을 녹일듯한温雅的態度는 踪跡을 감초앗다 그리하야 現代의男性은戀愛에잇서서도 理智的이다\\n이가티 理智的態度를取하게되는것은 結婚生活의不和、離婚及失戀에서 由來됨이 만타아즉도 舊制度의支配下에잇는多數한女子는 모든情感을 所有하야 戀愛는 萬事의主이다結婚은心과靈의合體라고 信奉한다 그러나 이가튼 女子라고할지라도 自己와結婚하는男子의 戀愛에對한態度가皮相的이며 딸하서自己에對하야도理智를갓지못하얏스나嬌態가잇는女子로取扱함을感知하고 그의懸愛가虛僞이엇슴과 自己네의戀合이 失敗라는것을 늣기게된다\\n그럼으로 저歐洲大戰後現代新女性은 戀愛錯覺의重壓에서離脫하랴고勞力한다 그럼으로假使戀愛에 中하야 失戀의悲運에 부드친다하드라도 將來의幸福에 吊鍾도울리지안흘뿐아니라 自己의生命과도 밧구지안는다 自己의悲運을征服하며 努力하며 活動한다 獨立的生計를樹立하야 스스로慰安을 獲得한다 그리하야 보담適當한男性을求한다 이리하야勇敢스럽게되며 理智의所有者가된다 이러한女子가即新女性이다 將來의女性은이리될것이다 新女性은戀愛와情感을評價하며『로맨스』에서超脫할것이다\\n戀愛、情感、『로맨스』는 過去와現在에잇서서보담더滋味롭게될것이다 將來의女性은보담더心廣體胖하게될것이다 보담더 生活問題와拮抗하게될것이다 全部를 들어바치지안는戀愛라할지라도 보담意味잇는戀愛를新女性은할것이다\\n×\\n現代의女性이經濟的으로獨立되어간다는事實을 男性은體得하여야할것이다 在來와가티男子는女子를 사지못할것이다\\n單純한結婚式을通하야 女子의戀情를 獲得하지 못할것이다華麗한衣服과 壯麗한家屋이라든지 時時의娛樂的趣味를가티난홈으로그네를어찌하지못할것이다 眞實한繼續的愛情만이그네를滿足케할것이다 貴한物件을일을까怯하는心性만이新女子을滿足하게할것이다그리하야結婚의基準이前의그것에比하야보담合理的이될것이다 在來의結婚生活의破綻은恒時男子의獨斷的信念即自己네의妻는 언제든지自己네의妻라는것과 그네의妻는그네를背叛하지못한다는觀念에서起因된바가만타\\n舊女性은自己네의全部를戀愛라는데 投資하고말엇다그러나男子는흔히吝嗇的態度를取한다男子는女子의愛情全部를獨占하랴하면서 그네는女子에게그러하지안는다 未來의世上은不然할것이다 萬一男子로女子의愛情을獲得하랴면 現在보다도自己네의結合에보담더道德的價値를가저야할것이다即感謝와同情의態度를보담切實히늣겨야될것이다\\n×\\n戀愛와結婚은 同一한條件下의契約이될것이다 主從的關係도아닐것이다 資本主義制度下에支配及被支配的關係下에도成立되지못할것이다\\n如斯한變遷의過程에立한것은그所謂『풀랩퍼』다『풀랩퍼』는純然히男子에게 依賴生活을하는舊女性과獨立的인新女性의於間에處하얏다그네도그야말로不勞階級(Golp Digger)이라할것이다何如한勞働도하지안코男子에게서取得하는것으로生活한다그리하야그네는 新女性의戀愛觀을가젓다戀愛와生命을 一視同仁의態度로 對하지안는點에서그러하다 그네는情感的이아니다그네는情도업스며『쉑스피어』가그린『쭐리엣』의感激性도所有하지안핫다 現代와가티生活苦가甚한世上에 戀愛라는것은너무나享樂的이라할것이다그럼으로 努力과活動을目標로生活을 보담意味잇게解釋하는것이 將來社會의新女性의態度라할것이다(K·W·P譯)\\n새삼스러히 그는녜前學校서배혼修身書와 聖賢들의處世에對한訓誡를 원망해보앗스나때는이미느젓습니다 그리하야그는힘업는걸음을옴기며 어이업는듯이 혼사『世上이末世니까그런가 나는조금도부끄럽은것이업다』고중얼거리는것이그런대로의自慰엿습니다\\n두內外\\n거의絕望에가깝든 그들의宿願이成就되어 洞房華燭날도바로눈압헤가깝엇습니다 그러나되랴는꼿봉오리를 돌개바람이몰고가는格으로 己未年萬歲는新郞新婦를 그만監獄으로보내고말앗습니다\\n이리하야 아름답은希望과만흔事爲는 또다시그들의압길에서잠자코 그들의祝福된새活動을기다리지아니할수가 업섯습니다 그러나世上일이란期待하는바에 저바리게되는것이열이면아홉은되는것이외다 물어도알길업는 감옥살이四年을마치고늙은新婦가 두번다시 이地上의 다스한日光을바라보게되엇슬때에는 벌서 文字대로의한個生理學標本에 지내지아니하얏슬뿐아니라 게다가 고칠수업는病까지 들엇스니 산송장이라도 이에서 더하지아니하얏슬것이외다\\n世上은나날이變하야 갓쓰고『구두』신은사람이鍾路한복파으로 自動車를 달리는한편에는 標本洋裝으로 洋服店頭에걸어노흘만한 하이카라淑女는집신에 갓바처쓴 시골老人과함께 自動車를타고 붕붕소리를내며 지내갑니다 그러고今時까지氣運잇게달아나든電車는갑작이停車가되어 음직달삭하지못하고 각금그대로 徃生하을고맙니다\\n그러는동안 한해가못되어新郞은몸이즉어감옥門을나왓습니다\\n共同墓地는 至今두무덤이가즈런이잇서서 봄에는돗는풀가을에는마른입사귀가 바람에나붓길뿐입니다  (續出)',\n",
       " '雅三俗四\\n◇飛行機上의結婚式 最近米國『루｜즈벨트』飛行塲에서 擧行된 結婚式이야말로近代式의典型(？)이라고 할만하다 新婦『마｜죠리｜』(一八)孃과 新郞『도날드』君의 結婚式을數千呎上空의飛行機內에서 九人의賓客의面前에서 正式으로擧行하고 式後新夫婦와들러리들은모다飛行機에서뛰어나와 落下傘으로 흐느적흐느적地上에落下하얏다고\\n◇싼티·크로｜쓰溺水『싼타·크로｜쓰』가 飛行機로『카｜피｜』公園에온다는 廣告가大大的으로 거리거리에부텃다이소문을듯고 公園에모여든少年少女는無慮數千名이엇다 기다리고잇는동안에 정말한臺의飛行機가나타나 少年少女의歡呼裡에飛行機의날개에 기어나온것은 아모리보아도틀림업는『싼타·크로｜쓰』엿다 落下傘을척펴들고 群衆의한가온대로니려오다가 세게부는바람에불려 마침增水中인『사스케한나』河의中流에풍덩실빠젓다 數千의少年少女들의 섭섭한소리가예저긔서나는가온대 물에저즌『싼타·크로｜쓰』는기어나왓다고\\n◇智利선死刑을廢止 智利國의新刑法은 死刑과終身刑을廢止하고 懲役二十年을極刑으로하얏다 그러고 罰金을納付할수업는사람도 拘禁하는일이업시 다만刑務所付屬工塲에서勞役을하면 그만이라고(산챠고發)',\n",
       " '『씽클레어』의小說\\n『石油』를讀함\\n(三)\\n◇┊米國文明의觧剖┊◇\\n朱耀翰\\n우리는 小說의骨子를좀더詳細히적으면서 거긔나타난解剖刀의 魔力을살펴보자\\n우리의 가장눈끌리는 要點은政治의背後에움즉이는 黃金力의魔手와個人으로서는 거긔서逃避할수업는 大資本組織이란것이다\\n그러나小說의進展을손쉽게알기위하야 먼저『로쓰』와밋그아들石油王子『바니』君의性的生活부터보자\\n表面上、法律上、宗敎上、社會上의一夫一婦制를固執하는米國社會에잇서 그것이一種의假面에不過하다는것을『씽클레어』는餘地업시暴露시켯다\\n먼저石油王『로쓰』氏의家庭을보자 그의家庭은自己母親과누이와딸하나아들하나의五名의家族으로되엇다『로쓰』의夫人即『바니』君의母親은『로쓰』氏와離婚하야따로산다『로쓰』氏는每月生活費를支出하고『바니』君은六個月만에한번식 어머니를訪問하는義務가잇다 어머니는『바니』를매우사랑햇스나 父親은그사랑이『바니』를利用해서 生活費를더만히뽑아내랴는計劃인것을 小兒의머리에집어너키에애쓴다\\n또『로쓰』氏와同事인『로스코』는 修道院이라命名한 別莊을짓고 거긔서活動寫眞俳優를情婦로두엇다\\n『勿論四名의子息도잇고 市의自宅에는 夫人도잇다』그러나『로스코』는『夫人二名을 서로맛날機會가업도록하는方法』을잘알고잇는것이엇다\\n『로쓰』의獨女요『바니』의누님이되는『버틔』라는女子의生活은또다른한면을代表한다 그는上流社會에 발을들여노켓다는것을 唯一의目的으로 上流階級의靑年과 婚處를求하기爲하야交際를한다 그래서同生인『바니』가下流階級男女와(勞働者勞働運動者等과)交際하는것을대단히忌避한다『버틔』는鋼鐵王의遺子인『찰리·노만』이란靑年과戀愛하야 結婚을不可避하게만들기위하야 어린애까지배엇스나中途에서실증이낫다\\n그는隣接한小都市에가서 墮胎手術을한뒤에 몰래同生을電話로불러갓다 女子의說明은이러하다\\n『찰리하고는 한참동안 烈하게戀愛를햇서、그래서結婚할줄알앗는데 그래도찰리가다른女子하고도작고交際를하길래 어린애가생기면 不得己結婚을하겟지하고 그대로 實行한것이야』\\n『누님도！그게무슨짓이람』\\n『얼굴을찡기지안하도조와。 수천수만女子가다그러케하는법이니까、그것이女子의對䇿이야그러나 찰리란놈은 卑劣한者야 아이뱃다고햇드니 아조고약스런소리를하겟지 그래서地獄갈놈이라고욕해주엇지 그리고醫師의이름을알아가지고이病院에入院햇서 手術料가千圓이야 아버지가물어주겟지 損害는單千圓인걸』\\n手術의名稱은듯기조케盲膓炎手術이다『바니』의追窮에女子는눈물이글성글성해서哀願을한다『바니』는\\n『그만둡시다 누님 한데 참엄청난일을하섯구만요』\\n『過히 놀랠것업서 醫師의말은들으니까米國에서一年間에이런手術이百萬番이나잇다는데計算해보니까 十三秒에한번식이야 참더러운世上이지 자인제다른이야기해요응』\\n한이女子는마츰내外交官과結婚하야憧憬하든巴里生活을하게되엇다 이百萬長者의딸과外交官과의結婚式은全칼리포니아州的事件이되고新聞紙는『新郞家의門閥과 로쓰氏의大財產을여러가지로大書特書햇다 그러나新婦의아버지가馬車夫로부터出世햇다는것이나某市에서前에維貨商을햇다는것은한줄도쓰지안헛다』',\n",
       " '詩人金笠의面影\\n(二)\\n李  應  洙\\n二、平民詩人、人\\n生詩人으로서\\n의金笠\\n漢詩人들은 입을열면말한다詩는情과景을읇되그想은高尙하고雅淡하여야한다고 그들은거의가高踏的이고超然的이여서所謂超弩級的頭腦를所有한大衆인체하고聖者인체하야 人間의가장自然的인感情의一部를虛飾的으로抹殺하랴한다 그들이萬若이金笠의詩를評한다면 大槪가『金笠은非人格者다』或은『金笠은野卑한詩家다』或은金笠은『훳트맨』이바든非難과가티 豚蓄이數學을(藝術이아님)모르는거와마찬가지로 藝術을모른다』고하얏슬것이다 그러나이詩想의高尙雅淡한詩人의典型的人物이라할王緋는陶潜이의心中에意馬心猿이全혀업섯다고누가保證하며그들의生活에敢이白日下에暴露치못할杜翁의懺悔錄의要素가업섯다고누가斷言할것인가 참된藝術家는虛僞와假面을실혀하고眞實과率直을사랑한다 眞實한藝術家그리고生命에充實한藝術家는藝術的良心이란허울에避亂을가기爲하야 情緒의表現에吝嗇하는法이업고詩心의創作代를割引하지안는다 金笠이드四書를읽고 詩經書經易經麟經等의聖人의敎示를읽엇다 그러나그는决코 이러한難硬한古典에 屬하지안코自己自身의思想과才操를餘地업시發現식혓다 그의詩에서우리는古典的難句를發見할수업다 그의詩想에서우리는聖者然하는假面을發見할수업다그는다만人生에充實하얏고生命에充實하얏슬다름이다\\n新郞 毛長內濶하니旣過他人이라\\n新婦 後園黃栗無蜂坼        溪邊靑草不雨長\\n이노래는휫트맨의 I sing thebody electric(詩)란 노래와近似한노래인一便生理學上에서말하는 處女膜에對한科學的知識을가르켜주는好例이다 이說話는흔이鄕間에流行하는說話인데한靑衿의書生이自己다니는書堂의訓長의가르키는대로結婚式첫날밤에 新婦와同寢하다가局部가廣濶하고處女膜이업는것을보고그의貞操를疑心하야毛長內濶하니旣過他人이라고新婦에게물은즉新婦는溪邊의靑草는비가안와도 잘자라고 後園의黃栗은벌이쏘지아니하야도 自然히버러진다고對答하야 處女膜의自然消去를알려주엇다는 좀露骨的인猥談이나 事實生理學上으로處女가十七八歲까지는處女膜이잇스되其以後에는自然히열어질수잇다하얏는데 아마그러한實例를詩代한것인듯십다 이것이金笠의作이라면讀者는이金笠의너무露肯的한데驚愕할른지도모른다 그러나그에게는이밧게얼마든지그와近似한노래가잇다그는徹頭徹尾人生을노래하얏다東洋詩人의千遍一律式吟風吟月格自然을노래하얏다는것보다차라리人生을노래하얏다는것이그를評하는데보다 眞을어든評일것이다 그의詩風은古今에獨步이다 어느漢詩人에게서도차즐수업는 獨壇塲을가젓다 漢詩人가운대에서 十人의自然詩人워｜즈워｜드를차즐수잇스나한사람의 人生詩人뿌라우닝을찻기는至難의事이다 朝鮮의金笠은朝鮮의人生詩人뿌라우닝이다乞人의詩人인金笠을人生의詩人이라한것은决코理에버서난命名이아닐줄안다',\n",
       " '三月文藝時評\\n(四)\\n『飜弄』鄭寅哲(大潮)\\n鄭   蘆   風\\n美人이오 또한肉感的인朴召史의딸점순이는性的好奇心｜一種의虛榮心으로가득한結婚觀을가젓섯다 그리하야 비단옷금비녀 금반지 이러한것으로서結婚의가장滋味스럽고幸福스런象徵이라 녀겻든것이다 仲媒어미가왓다갓다하드니만 婚約이成立되고 금비녀와금반지는예장물픔中에『追送品』으로한자리를차지하얏기때문에 新郞될洪某는매우 점순이의好感을사고말엇다 이리하야洪某가每日들락날락하는동안에 어느듯점순이와는 한방안에서 밤을새우게까지되고 結局豫期하얏든그行動까지 別難업시즘기고말엇든것이다 그리다가 제欲望을滿足시킬대로滿足시키고난洪哥는 平壤단녀온다는一種의『口實』을最後로남기고서 踪跡을감추워버렷다 딸하서금반지와금비녀도 永遠히점순이의것이되지못하고『飜弄』만當하고말엇다는것이 이作品의이야기줄이다 처음부터끗까지 平平淡雅한客觀的描寫로 一貫하얏다 作者의意圖가 어대에잇는지疑心스러울만티 千遍一律的描寫 洪哥의行動을 미워하는것도아니요 그러냐하면점순이의行動을 글르게取扱하는것도아니다 平平한情緖가 事實에쏠처記述되어갈뿐 우리는决코所與된 客觀的現實을取扱함에잇서 小主觀으로서의 歪面을 힘쓰라는것이 아니지만은우리의確乎한觀點에서서 所與된匙材를組織하지안하서는아니된다고한다 그럼으로일부러興味的粉飾을 힘쓸必要는 毋論업는것이지만 우리의階級的觀點에서서하는 그題材의藝術的組織에잇서서는 無產階級的民族意識으로서의 가장彈力的表現｜大膽한階級的主觀의呌喚이 업서서는아니된다 그러컨만이作品에는 個人主義的觀點에서서점순이라는肉感的女性의生物的本能｜性格에다가 描寫的中心을두엇슬뿐으로 階級的觀點에는近處에도이르지못하얏고模糊하나마 社會的觀點을□치안는 社會的正義의立塲에도 다다르지를못하얏다 이리하야 리알이쯤의系統으로서보드라도 小市民的 리알이즘조라 하프트만 또스도이엡스키의流派以前 프로밸 모빳산流의뿌르죠아리알이즘에보담近似性을가젓다할수잇다 우리는蹂躪된個性의尊嚴을 부르짓는대 가장効果的인 性格的描寫뿐에 머믈르지를말고한거름더들어가서漠然하나마社會的正義에呼訴하는作品을 보담낫게보는것은事實이지만 그에서도한거럼더들어가서 階級的觀點에서하는明瞭한意識의燃燒를그리하야우리民衆에게能動할수잇는情感的組織體로서歷史的重要性을차지할수잇슴으로말미암아大衆的條件을가출수잇는作品을要求하야마지안는다 그럼으로딸하서우리는單純한飜弄的事實의記述的描寫에끄치고 隱然裡에主人公『점순』이의性格에다가그被弄的原因을돌린이作品을失敗의作이라고宣言할수밧게업다그러고이와가티皮相的描寫에墮落하고말은原因은 作者가取扱하게된事實을 階級的觀點에서서 正當히認識할수가업섯슴으로 드듸어正當한藝術的組織을實踐할수가업섯든것이다 要컨대作者의意識은 問題하기가어려울만티素朴하고 또한個人主義的이다 훨신이方面에努力하지안하서는아니될것이다 新進作家는渴望하는偉大한未來를展開될수밧게업는現在속에서 가장굿세게組織하는技術者이어야할것이다 더욱精進하기만付托해둔다',\n",
       " '二郞에一娘\\n約婚한元新郞이\\n毆打當코被逐\\n약혼한누이를다른대보내고저\\n신부올아비가신랑울구타축출\\n被害者는吿訴準備\\n【영동】영동군 양강면만계리(永同郡楊江面晚溪里)성모( 某)의장남용원(涌源)(一九)과 동군 심천면 길현리(深川面吉峴里)리모(李某)의장녀옥순(一九)은 지금으로부터 얼마전에약혼을하야노코 멀지안해 결혼식을하려하든중 옥순의 올아비가이웃동리에사는 모의꼬임을 바다가지고 약혼까지 하야논제누이를 다른대로 출가시키려함으로이긔미를 안옥순의 부모는지난사일에 장차 사돈이 될성모의집으로 그와가튼 사정을통긔하얏든바 옥순의남편딀 성용원(成涌源)은 자긔의 친척사오인을더리고 즉시옥순의 집으로달려가서 옥순을더려오랴한즉 옥순의부모는 사세가당연하니 더려가라고하얏스나 옥순의올아비가너는 가난한늠이니 나의누이를줄수가업다하며 이웃동리에서 옥순을 빼아스려는 자와협력하야가지고동리ㅅ사람과작당하야 전긔성용원을 함부로구타 추방을하얏다는데 약혼까지하야노코 그와가튼경우를당한성씨편에서는 압흐로 사태여하를보아서 고소를 제긔할터이라한다',\n",
       " '出 版 日 報\\n十二日圖書課納本\\n朝鮮文\\n▲鐵筆九月號林仁植▲탈춤盧益亨▲구세론馬布三悅▲朗讀文(第三次)吳璧▲離新郞金東縉▲中鮮民報第七號張百忍▲南平文氏派譜卷一、二、三、四、文鎭憲\\n日本文\\n▲滿鮮情報九月號島田仙助▲カリタゴ九月號松村正助▲朝鮮財務第八卷九號津田宗太郞▲交通と自動車第一卷九號胡山澄▲心之友第七卷九號大浦貫道▲朝鮮之水產第七十八號樫谷政鶴▲調査彙報第二號松本源作▲同民七十二號植松通太郞▲京城物價タイムス第四卷九號尾崎勝三郞▲中等敎育國文讀本卷一前田卯三郞▲天德鑛泉使用心得森重吉▲最新ポケツト鮮語會話岡原七郞',\n",
       " '自動車突現\\n結婚式塲에서\\n新郞을奪取\\n부모의 명령으로 리혼하고다시 장가들랴다가 봉변\\n活動寫眞가튼實話\\n【부산】 결혼당일에 장개간신랑(新郞)을 탈취(奪取) 당하고혼례식을 거행치못하게된 진긔한사건이잇다 부산부 초량정(釜山府草梁町)김모(金某)의외아들로서 현재경성 모고등보통학교(某高等普通學校)三년급에재학중인선남(善男‖假名)(二○)은 량산군 옥고개(梁山郡玉峴)리모(李某)의딸옥희(玉姬‖假名)(一七)와얼마전에 약혼(約婚)을하고지난二十일에결혼식을거행하려고전긔리모의집에장가를가서 미구에 곳식을거행하려고방금준비를 하고잇는중에 천만뜻밧게 신랑김선남의 본처이라하면서 심순애(沈順愛‖假名)(一九)란 미인한명이 자동차를타고 신부의집에달려가서 일장야료를 이르킨뒤에신랑을 탈취해가버렷슴으로 전긔 리모의집에서는 창졸히꿈가튼일을 당하게되어 경사(慶事)날이라 하야왼집안에 희색이 가득하든것이갑작히 침울한분위긔(氛圍氣) 에싸여저버리고 말엇다는데 그내용을듯건댄 전긔김선남은 재작년十一월十七일에 그의 부모가정해주는 부산초량정 심순애와서로결혼하야 최근까지 의조케살어왓는데 얼마전에 그의부모들이 강제적으로 전긔심순애와는리혼을 하라하고 다시리옥희와결혼을시키려고량산읍내까지장개를 갓든것이 드듸어 심순애에게 탐지되어 목적을달하지못하고 일장의 희비극(喜悲劇)만 연출한것이라한다',\n",
       " '新刋紹介\\n紹介를願하는冊子는東亞日報社調査部로보내주시오\\n▲別乾坤十一月號조선은어데로가나諸氏、米價暴落으로因한朝鮮農村經濟의凋落、歐洲聯盟은現實이될가開城行進曲諸氏스위트호｜口李光 氏家庭訪問記、乙支文德墓參拜記、新郞候補者展覽會外其他京城府慶雲洞八十八番地開闢社發行振替京城八一○六番定價五十錢\\n▲三千里十一月號、巴里講話會議에갓다가、全世界에鐵血男兒와偉業諸氏、海牙密使事件眞相、朝鮮近代三大財閥總解部諸氏、男便在獄中妻의貞操問題諸氏外其他京城府仁寺洞十九番地三千里社發行振替京城四、二八四番地定價二十錢\\n▲モ｜タ｜十一月號東京市赤坂  區溜池町三二 極東書院發行  振替東京三二九○八番定價五  十錢\\n▲調査月報十月號朝鮮總府發行  賣捌所京城府蓬萊町三丁目朝  鮮印刷株式會社振替京城四○  番定價三十錢',\n",
       " '四十歲新郞에\\n十五歲新婦\\n긔가막힌신부\\n첫날밤에逃走\\n【헤산】지난十二일에 함남갑산군헤산진(惠山鎭)에서는 나히겨우 열다섯에나는 어린신부(新婦)김쌍가매(金雙加梅)와원적을 함남안변(安邊)에두고 외몸으로서림시헤산에거주한나히만흔신랑 김천만(金千萬)(三九)이와 결혼식(結婚式)을 행하엿는데 그날밤에 처음신랑을마즐철몰르는 신부는 신랑이방에드러오자 소변보러가는듯이 나갓든것이 어대로 도망하고나타나지안하서 하룻동안 큰소동을이르켯는데 금시쪽젓든 머리를다시풀어 편발(編髮)하고 처녀의몸으로 피해다닌다는데 그러케나히의차가잇게 결혼된내용을들으면 전긔김쌍가매는 얼마전에 그부친이 세상을떠난후 그의당삼촌이 전긔김천만에게 혼금三백원을밧고 불적당한 허혼을한까닭으로 이런비극이 생긴것이라한다',\n",
       " '横說竪說\\n『備荒貯蓄組合』。 이름은 조타마는 差押과 執行울 치루고야 貯蓄할거리가 남어야지！\\n小作料 先金制를 馬山信託이創案。 不 의 功績이라、木杯準備는 어듸서하나？\\n普校用 朝鮮語讀本、모처름『改良種』도 日本文 直譯。 產地가 總督府라、하는수 업겟지！\\n朝鮮의 實事情을 敎材로 取한다니、『第X課 督促狀과差押』도 잇슬가 몰라||？\\n十五歲 新婦가 結婚初夜에逃走。 新郞이 四十歲라、媤父로 알앗든가？',\n",
       " '朝鮮人口의\\n自然增加問題\\n(三)\\n李  冕  珪\\n녯적에지켜오든 性的道德 이넘어도그리齷齪스럽지말며또而今의淫風俗이넘우도 自由奔放치말어서 서로좀반투엇스면어떨가한다 이는箇中에도 甚한바를一言한것이며人口問題를論하다가 風紀問題를慨嘆하는筆路의脫線된感이업지아니하나 어쨋든回顧하면 李朝는國初以來半千年間儒門의 所謂『閨範內則』이라는 齷齪스러운 制度와桎梏下에속절업는一生을 오즉눈물과怨恨으로 自盡하야버리고만靑春寡婦가 몃十乃至몃百이나될지？그數는몰을것이다女子로他門에出嫁하야 單數朔間이라도夫婦同居라도해보다不幸이寡婦가된것이야 오히려어쩌랴｜個中에는特히早婚의弊習으로 十三四歲때에成婚만하고多年親家에눌러잇는中에寡婦가되면媤家에는가보도못하고또한男便이란者와는地下에가만난다해도彼此面形도자세이몰을만하되 오히려靑春紅顏을守節寡婦로써終身할밧게는업섯고 또더욱이는成婚은姑捨하고 所謂四柱와納綵만바덧드래도 薄福스러운 그處女의一生은靑孀으로｜春風秋雨限平生을울리고｜말리며｜썩혀죽엇슴이야말로 이제말만하야 도몸설미나고넘우나齷齪스럽고도지긋지긋하던因襲道德이엇든것이다 佛蘭西사람의天主敎會에는 一生을敬虔한宗敎的信仰에다바치는 修女院이잇다는말은들엇지마는 그러나新郞家로부터보낸納綵까지바덧다는 그것으로因하야 속절업시 一生을處女寡婦대로맛첫다는것이야말로 이제와서생각코보면 그무슨齷齪스러운因襲道德이냐｜傳說에憑하면 麗末杜門洞七十二賢中에서 特히當時塗 에든 萬民을救할使命을帶하고出廬한尨村黃喜政丞이 李朝國初에倫紀를革淸코자 依例이改嫁하는弊習을國法으로써禁止하고 退朝하든날그의慈堂이我子의손을잡으며한말은이러하얏다고한다\\n即(이얘야？千秋數업는靑孀들에게積惡을시켜도분수가잇지｜네가改嫁法을 막엇다는게웬말이냐？그러할진만當代에너는子息을두지못하리라｜이제와서야 母子한가지로 늙어가는터이니 무슨허물될바잇겟느냐果是이제말이다마는 너는襁褓적이오 내二十餘歲에너의아버지가下世하시매 어찌도氣막히고설던지｜매양설음이복바칠때면 後庭배나무에가기대서울엇더니 어쩐일인지？그큰배나무가 空然이시납으로말러죽더라)고｜果然이다！宜當이그러할일이다世間에는 언제던지荒唐하고迷信에갓가운 野談傳說이마흔것이지마는 그러나이것即黃尨村의母堂이그러하섯다는것만은 비록그것이無根한虛譚이라할지라도 넘우나眞正한事實談가티생각치안흘수가업다！얼마나끔즉스럽고？또虛僞업는實情의自白이냐？\\n千金我子에게對하야 그의母堂이 自己의입으로써 네가當代에子息을두지못하리라는말슴！이얼마나 머리끄티쭈뼛할 말슴이냐마는 그러나 그래그랫든지？어쨋든 그後年 의黃尨村先生은母堂의말슴이 言讖도 된것가티血孫을 두지못하고도라갓다 그리하야 이때부터가始初로 伊來五百年間烈女는 不更二夫라는金條鐵則下에서 썩히며｜죽인靑孀이 무릇그數얼마나 될지모른다 넘어도齷齪스럽고甚햇든것이다\\n그러나而今에와서는 이것저것이 모다蒼古한古談이 되고말엇다 그러면또現代가티 亂倫悖常이된世上이라고 그저寡婦면모다 또依例히改嫁한다는 것은决코아니다｜좀드믈기는할망정오늘이라고 貞烈이 氷雪가튼守節烈女가 한사람도 업슬것은아니다｜비록不幸히그男便이已作故人이되어 서로生存的 結合은거기에終結을告하얏다할지라도泉臺九原에 그男便이 그리운들참아어찌 禽獸가티 二心을가저깨끗한내몸을 더럽힐수가잇스랴？꼿다운貞心으로써 一片苦節을 굿게지킬婦女가잇거든 어대까지든지 그리하며｜또한 그러한烈女가 만히나서 이러틋倫紀에對해서는 禽獸가되어가려는 末世上에巍巍한 儀表가되며森嚴한 紀綱이되라 그러면이야말로 이天地와가튼 無窮한美德으로써 東西古今을 莫論하고우리人類社會가存在하는날까지는 누구나敬仰치아니치못할 貞烈夫人이오｜果然名實이相副하게도 그의이름은永遠히烈女일것이다',\n",
       " '朝 鮮 小 說 史\\n(23)\\n金  台  俊\\n明代小說의輸入(續)\\n×\\n明末에盛히流行하야벌서續金瓶梅의結末에引用된太上感應篇이輸入됨도이때일것이다 許筠의西遊記跋에批評한衍義도 모다『明』의中華까지에된것인바隋唐衍義(一名隋唐志傳)도羅貫中의作으로서淸初에褚人穫의改定을지낸것이요 그中에서特히隋焬帝의淫蕩한塲面만을采出한것을艶史라고하며唐太宗의傳記만을摘輯한것을唐太宗傳이라고한다兩漢演義(東西漢演義)는 漢書를 唐書演義는(一名說唐)는唐書를 敷衍하야白話로쓴것이다그中에도西漢演義는가장愛讀되어일즉楚漢歌를불으며 鴻門宴을排演하야 三尺童子도『八年風塵楚覇王』이라는俗談은『돈이諸葛亮』이라는俗諺과가티 몰으는사람이업다 그一部分씩을摘出하야『楚覇王實記』『强子房傳』『秦始皇傳』聾巖老人의拔選한『帷幄龜鑑』等가튼것이飜譯되엇다 이와類作인東周列國志도甚히讀書子에게愛讀되엇고 孫龐演義、開闢演義、西湖佳話、好逑傳、平妖傳等과가티 明代의軟派物이끈칠새업시흘러들어民間에傳寫되어沈滯한李朝中葉의文運에一段의活氣를주엇스며나아기文藝勃興의直接誘因을일넛다\\n文藝의平民化와爛熟期(一)\\n丙子亂後의文藝\\n壬亂의創痍가 恢復되기도前에 五十年을지내지못하야 다시丙子의胡亂을 마지하얏스니前者는南方으로부터 後者는北方으로부터온것이며 前者는朝鮮과日本 後者는朝鮮과淸朝의두民族의싸움이어서 두번이나連次로失利한朝鮮사람의 心魂이스러저가는 火爐불과도가티暗黑한冷灰가그것이엇다 그러나 그後日本은元祿時代、淸朝는康熙時代、朝鮮에는肅宗의御宇에相値하야 三國泰平이오래繼續하야 인제는모다文弱에서武勇、殘滅에서新生、絕望에서希望의光明을求하야 나아가려하는것이엇다 그리하야 丙亂後의朝鮮人士는  排淸心이더욱深刻하야가지고 그反面에明國과의恩義를 切實히回顧케하야明神宗、毅宗兩帝를祭祀하는萬東廟를設立함에이르며서로 忠義를勸勉하며 義俠을鼓吹하얏나니當時의中國小說로\\n『薛仁貴傳』의翻譯 (薛傳에蓋蘇文軍談이可觀)\\n『俠客傳』(史記)의流行이뿐아니라 九死에서一生을엇고저하는敗北者의心理는 美女傳보다將帥傳、浮華輕薄보다質朴剛健의風을 崇尙케된것이니當時의軍談으로는 丙子錄、丙子湖南倡義錄、南漢日記、江都日記가 歡迎되엇스며『三敎指歸』와가름은 朝鮮이나흔一介의白袍小將이乃終에는 南蠻北虜를完全히征最한다는 說話이니그氣象과雄略이讀書를 驚倒시키는바잇스며 蘇大成傳、郭海龍傳、王將軍傳、張國鎭傳、趙雄傳等覇將의傳記가盛行하는同時에 國人의欽慕를一身에 모흔名將、林慶業傳(一云林將軍傳)이 또한一時를風靡하엿다\\n朴氏夫人傳의文學的價値\\n梗槪｜漢陽安國坊、李時白(海東名臣錄、燃黎室記述)의안해朴氏는 金剛山朴處士의愛娘이엇다 얼굴이薄色임으로渾家가嘲弄을하고 新郞도함께居리아니함으로 北方에避禍堂을짓고 혼자憂愁한歲月을 보내더니 元來 學術이通徹하고 智謀가 深遠한 朴氏는 하로밤에媤父(李貴)의 朝服을짓고 三百金으로 三萬金짜리의 龍馬를사며 大夜을占하야 碧玉硯滴을郞君께들여 科擧에 壯元及第시키고 郞君『時白』은 平安監司가되어갈세 朴氏도 허물을버서서一夜에美人이되어 서로 琴瑟이和樂하얏다 胡王은 조선에神人『朴氏』과林慶業잇슴을무서워서一等女剌客을 보내어 美人計로죽이려고 하얏스나 明見萬里하는 朴忠烈夫人은道術로써 刺客을退却시켯다 그후 無道한胡兵이漢城에 侵入하니 神人이道術로賊將을죽이매 龍骨大怒하야避禍堂을 엄습하다가 失脚하야크게놀래엇다 南漢山에敗한 仁祖는大君과밋 모든夫人을 質로보내고 林慶業이淸兵의 回路를扼하야 憤포리를하고 李時白은丞相이되어 丞相夫婦는 一世의榮華를다하얏다',\n",
       " '横說竪說\\n『窮則通』이라興農組 設置로火田民에 一條의活路。\\n災地의 新興에 金脈으로 活氣。 울리고 웃기고 氣막힐造化。\\n新郞이 無識타고 婚日에 新婦가 逃亡。 原來 無識한 結婚。\\n勞働立法 懇談會에 資主側은出席을 拒絕。 理由는不聞可知。',\n",
       " '法 律 顧 問\\n【問】昨年十一月頃에甲女와乙男이 婚姻豫約을 하고(許婚書와請簡書는 男女가가젓는데)十五日이됨에 新郞이 某氏의實子가아닌것이 判明됨에甲女의父母는姑舍하고新婦인甲女가絕對的으로反對하며實子가 아닌자에게는 시집을못가□□□하오□如何히 處理하여□□□□□□□그 □□□□□서는 許婚書를條件으로 問題를삼으며 擇日記까지 郵送한일이잇슴니다 昨年度數次 內容證明으로 婚姻을 解除한다고通知한것도 不顧하고 끗까지 싸우랴고하오나 甲女側에서는 絕對不應이오니 法律上에저촉이되면 如何이되겟는지仔細히가르처주옵소서\\n(通川一금금生)\\n【答】婚姻은强制로함을不得하고且女子는乙男에게對하야婚姻□□□□□□□□□□□□□\\n(辯護士金用茂)\\n【問】二十八歲된女子올시다이로부터 十年前에男便을어더 同居하던中 우연히 男便과싸우고나온지가 近一個月이나 되엿슴니다 只今다시 男便에게로들어가니까男便의말이언제는살수업다고 자긔맘대로 나가더니 웨들어오느냐고 내쪼츠니 엇지하면조흘가요 離婚은하기실코 訴訟하면 될가요그러치아니하면各居을하고生活費을請求하면請求할수잇슬가요女兒까지잇슴니다\\n(淸点木子)\\n同居請求의 訴訟을 提起하거□□□□하고 生活費를請求하거나 어느것도 可합니다(辯護士金用茂)',\n",
       " '地方雑信\\n洗浦\\n◇新郞一人에 新婦가二人이란超모던式이야기\\n◇新婦의寸數를알고보니 兄弟間이고 原因을알고보니 큰딸이악가워서 적은딸을 대신보낸까닭\\n◇딸가진側도 약은꾀지만新郞側은 더약아서 大擧하야큰딸마저더려왓다나\\n◇가짜新婦의 處置方法이 今後의注目處이나 어쨋든 興味百퍼센트의 一千九百三十一年式結婚政䇿이로군',\n",
       " '어린이\\n조선\\n(22)\\n新郞俞拓基\\n李  殷  相 述\\n李  象  範 畵\\n숙종(肅宗)이십구년(西紀一七○三)유척긔(俞拓基)의 나이열셋에 낫을때의 일이엇다\\n호를 한죽당(寒竹堂)이라 하는 판서(判書)신임(申銋)이라는이의 손녀와 약혼하고 장차장가들려하엿을때에 처녀의어머니인 신판서의 과부며누리는한 늙은 게집하인을 불러\\n『너는 지금곳 신랑의 집으로가서 그집안살림의 가멸(富)하고 가난한것이며 신랑될도령님의 잘나고 못난것을 알아오너라』\\n하고 일러 보내엇스니 그것은 처음부터 그혼사를 신판서가 서둘러한것이오 또 신랑의얼굴이니 집안살림이니는 한번도 그과부며누리에게 말해주지않앗기 때문이엇다。\\n늙은 게집하인은 명령을받아유척긔의 집으로 가서 그자세한것을 알아가지고 돌아왓다。\\n『아이그 어쩌면 그럽니까원 집이라고 단두칸뿐인데그거나마 뒷벽은 문허저서풍우를 막을수가 없을뿐아니라주방 앞에는 이끼가돋앗고 솥(鼎)안에는 거미줄이첫서요』하는 늙은 게집하인은 제라사 장한것이나 보고옷듯이 손짓을 해가며 다시말한다。\\n『그리고 어쩌면 신랑이라고그렇습니까 눈은 크기가광주리만하고 머리는 쑥대밭같이얽혀서 바로보고 뒤로보아도하낯도 쓸게없든데요||더구나 우리집아가씨가 그런집으로 가서 손소절구질을하고바느질을 하여야 할테니저일을 어떻게해요』\\n이말을 듯는 처녀의어머니는금시로 간담이 다떨어저가슴을치며 눈이둥글해 젓으나그날인즉 랍채(納綵)하는날이라 어찌할길이 없엇다。\\n그리자 잔치ㅅ날이되니 그날에는 더욱 그마음이 뮈어지는듯하엿다。\\n그러나 이미 다정한일을 어찌할수가없어 눈물을 먹음고그날을 지나는데 과연신랑을보니 그게집하인의말과 틀림이없이 입과눈이 큰것이 못나기짝이없엇다。\\n그리하여 사흘이지낫다 아츰에 신랑을 그보집으로 보내엇더니 그날저녁때에 신랑은 다시 처가로 돌우오는지라 신판서는 놀란얼굴로 신랑에게 무럿다。\\n『웨다시 돌우오느냐』\\n신랑은 조곰도 주저하지않고『집에 돌아갓자 저녁밥이 잇어야지오。 그래 말(馬)과하인들이 돌아오기로 같이왓지오』\\n하고 대답한다。 신판서는 빙그레 웃으며 신랑을 그대로 머물어잇게하엿다。\\n그리하여 유신랑은 날마다처가에잇으며 낮이나 밤이나 신부를 붙들고 잇음으로 신판서는 그손녀의 약하여질것을 저허하여 유신랑을 불러\\n『그린데 너는어 찌하여 밤낮없이 안방에서만 노느냐。오늘밤부터는 사랑으로와서나와함께 자는것이 좋겟다』하고 말하엿다。\\n그날밤 유신량은 쓴입맛을다셔가며 어른의명령이라 할수없이 사랑으로나와 신판서와함께 자게되엇다 그러나유신랑은 신부의결을 생각하고 한잠도 못일우며 곁에자는 신판서로인이 몹살스럽게도 미웟다\\n유신랑은 팔을들어 신판서의가슴우에 언젓다 신판서는 가슴이 무거워 문득깨엇다\\n『얘야 이거 무슨짓이냐 무엄하게！』\\n유신랑은 그꾸지람에 막깬듯이 대답한다\\n『녜 몸부림하며 자는버릇이  잇어 그렇습니다』\\n그리다 또한참 자다가는 또다시 발을들어 신판서의 다리를 찬다 신판서는 또다시 놀라깨어\\n『이런 버르쟁이가 어데잇단  말이냐 응？』\\n하고 꾸짖는다 그러나 또 족금 잇다가는 손으로 치고 발로차며 밤새도록 신판서를 못자게한다\\n신판서도 할수없이 유신랑을안방으로 드러가 자게하엿다\\n유신랑이 자리를끌어안고 안방으로 드러가 방문을여니 신부와 같이자고잇든 여러녀자들은 고함을 지르며 놀라일어나모두 밖으로 뛰처나간다\\n유신랑은 큰목소리로『유서방댁만 남겨두고다나가시오』하엿다。\\n그는 이와같이 가난한집에서자라나 헌누더기와 겨밥을먹고컷을지언정 그마음만은 씩씩하고 배ㅅ심이잇어 자긔의가난하고불행한티를 나타내지 않앗으며 네오내오 일반이라는든든한신념(信念)을가젓든것이니 과연뒷날영조(英祖)때에는 령의정(領議政)이란 큰벼실까지지난것이다。\\n(寄聞叢話)',\n",
       " '新 刊 紹 介\\n▲三千里二月號 朝鮮運動은協  同平對立平諸氏、最近의比律賓形勢、貞操破毁女性의再婚論諸氏、永興灣굴과二千住民新郞新婦의新婚共同日記、外其他京城府仁寺洞十九番地三千里社發行振替京城四二八四番定價二十錢',\n",
       " '早婚을反對하고\\n新行日新郞逃走\\n『아비나이 七十이라고』강권햇스나\\n종래 듯지 안코 어대로 인지 도망\\n金海郡長有의一幕\\n【장유】지난二월九일 경남김해군장유면률하리 강준강(金海郡長有面栗下里 姜俊康)씨댁에서는 장가온신랑이 피하야버렷슴으로 일대 소동을 일으켯다\\n그자세한 내용을들은즉 동군가락면덕도븍정리 윤조명(駕洛面德島北亭里 尹曹明)(六四)씨의차자인 윤규환(尹圭煥)(一七)은 현재보통학교 재학중으로서지금결혼시긔가 아님을 그아버지에게 한사하고말하얏스나 그아버지되는 윤씨는 내나히七十에갓가운데 어찌 하로가밧부지안흐냐고 긔어히 고집함으로결국아버지 명령에못견듸어 전긔강준강씨의차녀 강분이(姜粉伊‖假名)(一七)에게 지난二월八일에 륙례(六禮)를가추워 화촉의一야룰지낸 익일인 九일새벽六시경에 그와가티어대로인지피하야□□슴으로 신부집에서는八방으로수사중이라한다',\n",
       " '醮禮廳에서\\n新郞逐出騷動\\n부모승락업시 장가온다고\\n慶南宜寧에喜活劇\\n【의녕】지난四일의녕동동(宜寧東洞)에서는 장가온 신랑을혼례도하기전에 바로 축출한일이 잇섯다\\n그자세한 원인을 듯건대 동동(同洞)김모(金某)는 자긔딸영선(榮善‖假名)(一八)을 일본경도(京都)잇는 최모(崔某)와오는 二十四일에 결혼하기로하고 혼비까지 백원을바닷다\\n그런데 전긔 영선은 어떤 사람의 감언리설에 홀리엇는지종조모와 상의하고 부모도 모르게 동군 룡덕면(同郡龍德面)오모(吳某)와 그날에 결혼하기로하고 제반준비를 다하얏스나부친되는 김모는 절대반대하야오든중 혼례장에 들어 설랴는신랑을 그와가티 축출한것이라한다',\n",
       " '韓末秘史\\n最後六十年遺事\\n(八)\\n東 亞 浪 人\\n【佛有金錢이라도 亦入死  囚□ 吳弘烈은 金炳國의 最親愛하는 門人이라 性格이 温良하고 至極히 仁善하야 사람마다 부처님이라 부르다가 畢竟吳佛이라는 綽號를 엇게되엇다 癸亥年 咸鏡監營 鑄錢時에金은 吳佛로하야금 鑄錢監官을시기고 監司李裕元에게 付托하얏다 監司는 金의付托을 因하야 特別厚待하더라 吳佛이 監司를 볼때마다 監司는 吳가미처 問安어떱시오 하기도前에반드시 먼저잘잔나뭇고 吳는한번도 먼저問安을 엿주어 보지못하얏다 癸亥年에 國恤頒布하는公文이 咸營에이르니 李裕元은公文을보고 即時 頒布치아니하고 中軍에게 吩咐하야 吳弘烈을 嚴囚하고 物故後報來하라하엿다 中軍은 그 緣故를 아지못하고 吳佛을 捉來하야 그 무슨緣故를 무른대 答曰 匹夫가 無罪하나 懷璧이 爲罪라하니 吳弘烈은 平生에 一人도 睚眦之怨이 업는지라 死罪가 豈有하리오 다만 身邊에 八萬兩의 金錢이 잇는故로 罪가 되엇스니 金錢이 업서지면 罪가 딸하서 업서 질가 하노라 하고言笑가 自苦하더라 中軍은 監司를 보고 吳가 五萬兩 밧치임을 말하니 李는 當日에 五萬兩을 밧고 翌日에 自外放送하고 然後에 國恤을 頒布하고 이돈 八萬兩과 다른돈 二萬兩을合하야 十萬兩을 大院君께 보내니 이것이 有力한 資本이되어 甲子에 咸營에서 大拜하야上京하얏다한다\\n【張풀무、李독기、尹장작】判書 尹正求는 金炳驥의外從이라 土豪武斷을 姿行하야富民을 잡아다가 장작으로 따리고 財物을 뻬아스니 世人이尹장작이라 綽號하더라 一日은또 一富民의 財物을 빼스랴고下人이 富民을 잡으러간즉 參判李容殷집 下人이 먼저 와서잡앗는지라 두매(鷹)가 한꿩을닷투는것 가티 兩家下人이 一塲格鬪하다가 結局은 尹家下人이 李家下人까지 잡아갓더니尹은 李家下人까지 장작신세를지여보냇다 他日에 李는 尹家下人을 잡아 독기우에 무릅꿀니는 刑罰을 하며 曰 너의댁大監은 장작을 잘쓴다하나 나는장작을 패는 독긔를 가젓노라하얏다 其後 李의 下人은 承旨張世容에게 잡혀갓더니 張은李家下人다려日 너의令監은 독긔를잘부린다하나 나는 독긔를녹이는 풀무를 가젓노라하야 武斷의 氣熖을 서로자랑하얏다宰列에잇는人物의 擧動이 大槪이와갓다고 世人의 우숨거리가되엇섯다\\n拂□花影動이라】義城縣令趙端鎬는 妾을다리고 赴任하고 그養子趙漢昇과 縣令의後妻는집을 직히고잇게되엇다 趙와隔墻하야 尹永求의집이 잇스니趙家内厠은 尹家의內廁과 한겹담을격하야 맛부터잇섯다 一日은尹이 內厠에갓다가 墻內의花影을 驀然見하고 魂飛在九霄雲外하얏다 一日은早朝에 趙漢昇이 그繼母房에가서 房門을열고본즉 隣家專丈이其母를 緊抱하고 錦衾繡枕에 雲雨夢이 未醒이라 漢昇은 넘우도 어이업서措處方法을 생각하나 掩寡할事勢도되지못하고自己로부터聲張하기도不可한지라婢子를불러命日 날이 느젓스니 마｜님께 起寢을 告하여라 婢子는 房에 들어가 보고 소래를 질러가로되에그 망측해라 이게 웬일이야뒷댁나리가 엇재서 여긔서 지무시나 이때 婢子들과 上下家眷은 다｜內堂下에 모엿는지라尹永求와 淫婦는 沈香亭上에漁陽鼙鼓를 드른것가티 놀라 이러낫다 尹은 얼굴을 가리고 쥐와 가티 도망하얏다\\n【謫中其願】그後 趙家(趙漢昇의兄)에서 上疏하야 朝家處分으로 淫男淫婦를 並高山郡에 定配보냇다 此淫婦는 原來高山에서 生長한 女子로 친정이 高山이니 新婦가 覲親가는貌樣인가 그新婦와 가티가는사람 尹永求는 再行가는 新郞이아닌가 時人이 評하야 曰 謫居라 하는것은 本來 志願하는者가 업겟지만은 이와가티 禽獸情慾이 熾盛할 時는 다만 그會合을 志願心祝하고 其他는 萬事를 顧念치아니하리니 가티한곳에 귀양가는것은 이두男女의志願에 適中한 무엇보다의 幸福이겟다는 戱言이다',\n",
       " '出版日報\\n二月二十四日納本朝鮮文\\n▲救世新聞第三號朴駿爕▲義勇宣敎報三月號倫常▲朗讀文三月號同人▲聯盟會報第二一號吳璧▲麻雀競技法韓慶錫▲이소프童話集朴裕玉▲여호레나드傳同人▲漁龍傳宋敬煥▲新郞新婦尹用爕\\n日本女\\n▲金剛警友第二號三橋孝一郎▲P K ニ ユ｜ス第九號別所義博▲道第四號山下良右衛門▲朝鮮のメ｜トル第三九號岡崎茂樹▲黎明第四號古德倉政▲鮮滿公認旅行案內三月號加藤金太郞▲經濟及統計第六四號河野可澄\\n二月二十五日納本\\n朝鮮文\\n▲奬產第二號鄭世權▲동덕第三號白南奎▲人道更甦號金殷東▲金海金氏世譜金聖天▲新郞新婦尹用爕\\n日本文\\n▲柳庭第一六號江田秀郞▲使徒第七七號米本重大郞▲ぃのり第號和田山年男▲全州商工會月報第一三號三浦隅吉▲京城興信所報第七○一號月下部景勝▲朝鮮間接國稅犯則者處分令講座安田慶淳▲生活狀態調查(其三)江陵郡朝鮮總督府▲經濟及統計第六五號河野可澄▲出版界第一號辻政次▲二十五年一睡の感氣賀澤愛之助\\n二月廿六日納本  朝鮮文\\n▲朝鮮二月號朝鮮總督府文書課長▲神學指南三月號郭安連▲濟生月報二月號金濟鉉▲朝鮮佛敎禪敎兩宗宗報第十一號權相老▲朝鮮聖公會報三月號梁在恩▲사랑하는그들金振玉\\n日本文\\n▲人事法規追錄第二八號大谷仁兵衛▲江原道水產會報二月號粕谷春之助▲神奈賀良の日本第一八號杉野淸造▲柳苑第七號服□重利▲金陵金融組合月報第四十號杉山產藏▲會報第二號初谷秀雄▲京畿道警察報第二百十二號附錄資源ニ關スル標準用語第一號▲鮮滿菓子新報第一二一號萩原忠吉▲經濟及統計第六六號河野可澄▲電氣府營問題に關し府氏各位に告ぐ玉置省二▲電氣問題ニ當面シテ府民諸君ノ批判ヲ仰□□村榮三郞▲入學試驗算術 模範備書韓慶錫',\n",
       " '約婚後事業未成\\n五十年만에結婚\\n미국의 진긔한 결혼이야기\\n七十老人의新郞新婦\\n◇||조선에서 들어보기어려운혼인이야기의두가지진담。미국『뉴욕』전보에의하면 서력一八八○년에 약혼한 신랑신부가 자그만치 五十一년을지난오늘에이르러 결혼을행하얏다는 진담이잇다。\\n이 혼약으로부터 결혼까지반  세긔를 허비한당자는『월터｜  다부로』씨와『주리아、스티마  스』양이다。\\n◇||신랑은 이미 七十六세신부는 꼿다운나히를 훨신지나 금년에六十九세로 늙은처녀와 총각이다。\\n◇||어째서 이러케 결혼이느젓는가『주리아』양은 부녀게의 드믄분투가로서 혼약은하얏스나 그녀자는자긔가목적한 석판기술(石版技術)을완성하기까지는 단연코결혼하지안키로 결심하얏고 또『다부로』군도 이것을승락하얏다。\\n◇||그리하야 금년에 이르러 그녀자사업은충분히완성되고 한편으로신랑되는『다부로』군의경영하는『아트킨스、앤드、다부로』상회도융성하게되엇슴으로 이만큼에서 사업을 근코결혼생활을하기로상의되어 백두(白頭)의 신랑신부는 서로손목을마조잡고 결혼등긔소를방문하얏다한다。\\n◇||혼례의 의식은 신부의아우집에서 성대히 거행하고이 진긔한신랑신부는 바로 구라파에 밀월려행의길에 올르기로되엇다한다。\\n空中結婚式\\n일본서처음\\n◇||또 한가지 이야기。 일본비행게의 처음으로 비행결혼식이 지난十二일에 립천(立川)비행장의 상공에서 동경일대의 봄ㅅ빗을 눈알에 구버보며 거행되엇다。\\n◇||신랑은 동경의 암긔량평(岩崎良平)군、신부는 천구구자(川口久子)양、량인은 주례자와 두집의친척과 함께공수회사(空輸會社)비행긔를타고 지난十二일오후 二시에리륙하야 동경의 상공을 한바퀴돌고명치신궁부근에서 三三九九도의잔을들고 식을마친후비행장에착륙하야 격납고안에결혼식피로연을 크게베프럿다한다。',\n",
       " '横說竪說\\n朝鮮人 當選은 十二名內外라고 京城戰况은 敗勢가 歷然。 已知數來前。\\n耕農方節에 作權을 移動。移動目的엔 適宜한時期。\\n한 新婦에 두 新郞！數爻가적어서 解决이 容易。\\n拓務省 廢止件은『論』에서『案』으로。 當初부터 不吉한이름。',\n",
       " '한新婦에두新郞！\\n新婦裁可로醮禮\\n한산애는 나홀밤의 약혼자요\\n한산애는 이틀밤의 약혼자라\\n【넌센스百%結婚珍景】\\n【군산】한신부(新婦)에두신랑(新郞)이 달려들어 서로먼저혼례식(婚禮式)을 거행하려한『넌센스』백퍼센트의진긔한사실‖군산부개복동(群山府開福洞)一五○번지에 사는장모(張某)의 의딸(義女)조○○(趙○○)(一八)은지난달三十일동리에사는허모○(許某)(二○)와 혼례식을거행하려할지음에 돌연 김모(金某)(二三)란청년이 나타나 조처녀는자긔와약혼까지하얏슨즉다른 사람과는 결혼을못한다하야일장파가일어낫다\\n초례청(醮禮廳)아페머리를수그리고서잇던 신부는그말을 듯고 넌짓이 고개를들어 당신과약혼한것은 사실이나 그것은이틀밤을지냇슴에지나지안핫스되허모와는나흘밤이나가티지냇슨즉그와 결혼식을 거행하겟다하고전긔김모를 물러서게한후 마츰내원만하게초례를마치엇다한다\\n전긔김모의 돌현(突現)에 놀래인 일반구경꾼들은 또한신부의말에 더욱 놀래어군산일대의이야기꺼리가되엇다한다',\n",
       " '結婚式當日에\\n新婦踪跡冥然\\n◇애인이따로잇섯다\\n新郞은警察에吿訴\\n【라남】지난五일 인간일생에가장 행복된 화촉의연을 매즐결혼식날 아츰 일즉 돌연히신부가 종적을 감추어 그의가정에서는 대경실색하야 소연되어잇는 당장에 신랑은 영문도 몰으고 신부를 마즈려왓슴으로근처에는 우슴꺼리를 일우엇다그자세한바를들으면 함븍경성군오촌면봉남동(鏡城郡梧村面鳳南洞)에사는 방덕준(方德俊)一년전에 라람생구정(羅南生駒町)에사는 리병칠(李炳七)에게돈一백원을주고 자긔三남삼돌(三突)(二○)이와병칠(炳七)의三녀 금옥(今玉)(一七)이를매혼게약하고전긔한바와가티결혼식을거행하는당일 신부는 남모르게종적을 감추운 사실이다 탐문한바에 의하면 금옥은 十八세의 김(金)모라는 청년과 벌서부터 남몰으게 사랑을 주고 바다 그네의 가슴에는 아페오는행복을 꿈꾸고 백년가약까지매젓든관게가 이번사건을 연출한원인이라한다분개한 신랑은즉일로 경찰서에 고소하엿다',\n",
       " '地方雑信\\n羅南\\n◇지난五日 結婚當日便所에 간다고 나간 新婦가 그림자까지 감추워 첫날밤에 단꿈을꾸든新郞은 뒤통시만치게돼\\n◇그리된 新郞도 가삼은아프겟지만 賣婚에 팔리지안켓다는個性에눈뜬 女性들은 時代兒인걸\\n星州\\n◇經濟恐慌에우는市民을爲하야 消費節約을하라고 朝鮮人興行團의興行 脚戱會等을 絕對禁止한警察이 日本人曲馬團興行은 許可하얏다고！\\n◇市民을爲하든 程度도 이만이면 알만한일',\n",
       " '地方雑信\\n金浦\\n◇金浦의 一年間酒類煙草消費高가一金二十三萬圓也！\\n◇날로生活의破滅을催促하는金浦郡民의 寒心한일\\n裡里\\n◇軍營設置問題로 全州裡里가 暗鬪의形勢를呈하는터인데 兩方이모도다 自信이잇는듯 樂觀을한다니 新□하나에 新郞이 둘이나되는세음인가？\\n◇그런데 日昨極秘裡에 兒玉參謀長이 來裡하야 地方에서提供한다는豫定地第一、二、三號地까지 精察하고 全州로暗行하야多住公園에서 市內를 瞥한後金堤를것처 全南方面으로 向하□다고\\n◇全州거나 裡里거나 우리게는 何等關心할바아니나 그所聞에 地價가 좀 高騰해젓다고 그것도 十萬坪이나所要面積에 豫定地가 亦是日本人所有가 殆半이라니 이러나 저러나 그들 장사뿐이아니겟나？',\n",
       " '孟山의新理想村\\n三里를紹介함\\n虛禮廢止코 費組設置\\n副業發達、讀書會組織\\n孟山支局 安 處 守\\n三里란 이곳은 그地理로보아서 平南孟山의 交通이 자못 不便한 一百餘戶의 農家가 모혀사는 一個의 山間僻村이다 郡所在地가 村路로 東쪽三十里박기요 面所在地即 寧德孟三郡의要衝地라는 北倉市가 村路로南쪽十五里를 나아가 다시 新作路로 또한十五里박기다\\n그런데 同里의 西北間에는京城의北岳山 비슷한 名⽈金剛山이란 峻險한 山岳이 둘려잇고 村中 한복판에는 한줄기의川流가 不息한다 이大川의 左右邊으로 櫛比하게 大小의 農家가 連接해 잇는데 東西兩面에도 疊疊한 山岳이 鐵甕城처럼 들려잇고 南으로 一線의 大路가通해잇다\\n이러케 人家가만코 또골이깁허 洞民의見聞이 적엇스니만큼前日에는 有名한 賭博村일뿐이엇섯다 交通이不便하고 敎育이普及못된데따라 그리 奇怪치안흔일이다 그러나 그當時에도同里의 副業만은 關□치고도가장 發達되어 잇섯다 品質이極히 良好한 亢羅와 麻布를 每年四五百疋을 生產하얏섯다 그와同時에 里民의 養蠶 도 매우 相當하얏섯다\\n그러나 民度가 極히 어둡고雜技□□烈햇든만큼 他洞人으로부□□□모저모로 低劣한 待遇를 바든것이 事實이엇다\\n그러하나 時代가 날로 進步變遷됨에 따라 同里靑年吳京學孔文九、吉泰鳳等 諸氏의 첫活動으로 昨年六月頃에는 七八人의 少數農民을모아 農民社를組織하얏다 그것이 不過二三個月만에 七十餘名社員의 一大機關이되어 不斷한訓鍊과 多大한新事業으로 前日의 賭博村이 一躍今日의 理想村으로 化해버린것이다 그리하야 全郡八十四個里中에서 모든方面으로 가장압서고 밝어진 大模範의農鄕이되엇다\\n이제 同里의 모든狀况을大略이나마 記錄하야 讀者諸氏의參考의材로 供하려한다\\n第一着으로\\n虛禮들廢止\\n昨秋第一着으로 거의 全洞一致로 冠婚喪祭禮에 잇서서온갓虛禮를 廢止하고 消費를節約하자는 物議가생겨 婚禮에對하야新郞新婦의 衣服감은 斷然 外來品을 嚴禁하고 質素한 國產品을 代用할것 婚宴에는 酒果를 廢止할것等과 喪祭禮에 對하야는 喪服廢止 卒哭祭及새벽祭廢止等을 决議하고 虛禮廢止消費節約에 對한 規約을成文으로 制定하고 지금까지 嚴正히實行하야온다\\n費組를設置\\n代書와禁酒\\n消費組合亦是 昨秋에 組織되엇다 日用品即 布木、石油等을共同購入又는 斡旋하야 行政代書가튼것은 一人의指定者가 無料로 提供하고 禁酒를 實行하되 거긔에는 監察委員이 잇서犯則者를 監視하게되어 組合으로서 飮酒를 하는境遇에는違約金을 徵收하야 敎養費에補充한다\\n農民讀書會\\n新聞購讀會\\n讀書會에서는 會員이 밤마다한塲所에 모혀 時代常識을 배움은 勿論 여러가지書籍과 新聞 雜誌를 購入輪讀하며 雄辯作文練習을 때때로하야 社會意識을너허주기에 힘썻다\\n그리고 新聞만은 新聞購讀會를 組織하고 會員의共同作業으로經費를 어더 新聞代로支出케한다 이러케 敎養에도 아울러大注力한다\\n農民學院의\\n設立을期成\\n百餘의 學齡兒童은學校가 먼距離인 面所在地에잇는 關係上通學하기에 만흔不便이 잇다하야 今秋에는 一個所의 農民學院을 設立하고 그少年들과 成年農民을 敎養코저 그準備에奔走하고잇다 이일만 實現된다면敎養事業에 보다큰 便宜와收穫이 잇슬것이다\\n陰曆名節利用\\n生活改善宣傳\\n農民들이 쉬는때 설날、端午가튼날을 利用하야生活改善、迷信打破宣傳을 한다 今年陰曆설날에도 歲拜를 廢止하고 生活改善宣傅을 하얏고또는 年年히하야오든 洞里굿을 今春에는一次의 迷信打破宣傳으로 勇敢히廢止하얏다 宣傳은 半成功이라는觀念이 그들農民의 한낫 信條가 되엇고『今日의 適者는生活改善잘하는者다』이것이 그들農民의 一大標語이다\\n春紗와春布가\\n今年에만千疋\\n古來로 有名한 同里의紡織業은 近年에와서 加一層極盛、發達되엇다 原料의 價格上또는手工의 多寡關係로 近年에는從來의 亢羅生產을 그만두고 主로春紗와 春布를生產한다 그리하야兩種共히 今年에만 千疋에 達하얏다 春紗란 蠶絲날에 苧絲씨로 짜는것으로 夏節衣服감으로 普通 京苧나 韓山苧以上 으로良好하다 그러나近年外來品의輸入激增때문에 그價額이 三年前에 比해서 約五割强이暴落되엇다 그販路는 關西北地方이오三南等地에는 아직크지못 하다그러하지만 婦女들의唯一한 所業이 그것이라年年히 多量의生產을 不怠한다 熟素와洋服감生產者도 間或잇섯스나 現在에는一人도업다\\n이박게도 가지가지의 조흔事業이 數多하나 後機를 約하고아직이만끗친다(끗)',\n",
       " '十五歲新婦에\\n두新郞이納幣\\n함남문천에 희활극을 연출\\n式塲에서 一大格鬪\\n【천내리】 함남 문천군명효면무우실리(文川郡明孝面無憂室里)에사는 청상과부김(金)모의집에서는 이즈음 十五세 나어린신부에게 근三十이나되는 로신랑두사람이 동일동시에 납페타가 쌍방이충돌되어 일대격투를연출한 진긔한사실이 잇섯다\\n이제 그전말을듯건대 전긔김모에게는 十五세되는 녀식이잇섯는데 생게가막연함으로 동군귀산면당븍리(龜山面塘北里)에사는방동련(方東連)을 솔서로더려다가 며칠동안 일까지시켯는데 그의싀형되는자가 자긔의의견도뭇지안코 그리하얏다하야 전긔방모를 부인하고 동면귀종리(歸宗里)에사는 리후봉(李後鳳)에게허하얏다\\n이에랑패한 방씨는 급급히성례할준비로 납페코저한즉 리모도 이긔회를노치지말자고 동일동시에 납페하다가 일대격투가일어나 다소부상자까지 잇섯다는바 일반은 그의귀결을자못궁금히여긴다',\n",
       " '新案婚禮式\\n아울러 新舊禮式의 檢察\\n【二】   高    永    煥\\n果然！그러타 結婚이라는것은 人間의 社會에서 最重最大한 事件인만큼 그禮式에 잇서서도 어떠한 民族이든지 반드시 그各自의 固有한 生活樣式에 適應하도록 獨特한것이 잇서야할것임은 至今 다시 屢言할것도 업는것이다 적어도 歷史를가진 民族으로서는 더욱히그러하다고 생각된다 理論이그러함도 不拘하고 半萬年의긴歷史를가진 朝鮮民族으로서아직까지 何等의 獨特한 結婚禮式도 업시 오직言語、風俗、習慣이 全然다른 漢族의그것만을無條件的으로｜或은 無批判的으로｜模倣해서 數百年間何等의變更도 하지안코 그대로施行하는것이라든지 或은또 얼토당토안흔 歐米人의그것을 盲目的으로 採用한다는것은 所謂『東方禮儀之國』으로 自處하든우리朝鮮의 莫甚한 羞恥이며아울러 一大遺憾되는 일이라고아니할수가 업는것이다 그러므로 筆者는 寡聞淺見임도 不拘하고 從來 우리의採用하든 婚禮式에 對하야 좀考察하여 보는同時에 아울러 愚見을 陳述하야 보려고한다\\n그러면 첫재 結婚式을 擧行할때에 新郞新婦의 입는 衣服부터 좀冷靜하게 생각하야보자從來 우리社會에서 數百年間仍用하든 禮服을 보면 新郞은道袍、紗帽、冠帶에 木靴를 신으며 新婦는 족도리 랑자에 龍簪찔르고 元衫을 입은後 다홍마른신을 신고나서면 그威儀나風彩에 多少間 莊嚴하고도 崇高한맛이 잇서보인다 그러나 이것은 『崇禎紀元後||』云云의文句를 부끄러운줄도 모르고所謂『皇紀』로 使用하며 草笠을쓰고 太絲鞋신든 時代에나 崇拜바들 禮服이오 적어도 帽子를쓰며 洋襪을신는 今日에 이르러서는 그러한 禮服이 그存在의 意義를 喪失하지 안흘수업게 되엇다\\n그리고 또挽近十數年來에 宏壯히 流行하는 所謂 新式婚禮式에서 흔이보는바와가티 新郞의『씰크·해트』와 『후로코트』에新婦의 面紗布는 惡舊尙新하는好奇心만가지고 皮相的으로 觀察하면 아주 그럴듯한것도것다그러나 좀더冷靜히 생각하야보면 亦是 어울리지안는다 웨 그러냐하면 첫재男女老少 할것업시 一般的으로 平素에洋服生活을못하는 우리로서『썰크·해트』에『후로코트』라는 禮服은 元來부터 可當치도안흐며 또는百步를 사양하야 그것이世界最良의禮服이라는 假定下에서 婚姻禮服으로 採用할것가트면 新郞新婦가 다가티洋裝을하여야 그대로 苟且하게라도 좀어울릴는지모르겟는데 新郞만 洋裝을하고新婦는 그대로朝鮮옷에 面紗布한가지만 뒤집어쓴것을보면 무슨『퉈이』結婚式갓기도하야 아모리 好意로보아도 어울리지안코 서투르게만 보인다',\n",
       " '新案婚禮式\\n아울러 新舊禮式의 檢察\\n【三】\\n高  永  煥\\n그뿐만아니라 結婚式이라는것은 사람으로서 두번經驗하기어려운 最初最大의 意味深長한禮式인만큼｜勿論 어떠한 境遇에는 數三次 結婚하게되는男女가 全然업는것도아니나 그것은 一種의 變態的例外이다｜그衣服까지도 全部새것을 使用할必要가 잇슴에對하야는 누구던지 敢히異議를揷入할 勇氣가나지못할것이다 그런데 所謂新式(洋式)의婚禮服은 舊式의 模範禮服과 마찬가지로 여간財產家가 아니고는 到底히새로지어서 使用할수가업는것이 一般的事實이다그러면一生中에한번박게업는 禮式에 남의헌것을 借用한다는것은 아모리 胸襟이濶達한 男女라도 좀꺼림찍은한생각이 업슬수업슬것이다 그나마도 萬一 各自의親한 友人의것을 借用하게된다면 多少間낫겟지마는 貰를주고 어더온것으로말하면 그禮服이 사람죽은대를몃번이나 다녀왓는지 或은바로한時間前쯤해서 어느 葬儀式에입고갓다 온것인지도 모를것이다\\n예前『慕華』의 奴隸的思想대신에 近來에는『模洋』의 拜外的傾向이 風靡하게되어 洋人의 것이라면 아모것이나 조타고 盲信하리만큼 西洋風에痲醉 되어서 모처럼 採用하는 所謂『禮服』도 실상은 이처럼 不快感을 늣기게한다。 또는『씰크·해트』와『푸로코트』의故鄕인 西洋에서는 如干큰富者나 高官大爵者라도 거의 그것을 使用하지않고 낫에式을擧行하게되면『모닝코트』、밤이면燕尾服을입으며 一般의 民衆은通常服과 常用帽子를 그대로使用하고 面紗布도 쓰지안는다고한다。 그뿐만아니라 事實에 잇어서 精神上快感을 주지못하는현禮服임도 不拘하고 그費用으로말하면 여간 高騰하지안타。『씰크·해트』와『푸로코트』의 한번借用貰가 七、八圓씩이나 되는터인즉 所謂『들러리』라는 新郞隨從者가 三人만 선다고하면禮服의 借用貰만해도 小不下三十圓이다。 그러면 걱정없이는三旬九食도 변변히 할수없게된苟且한 살림에 구태여 二三十圓씩 내버리고 헌것을 借用할必要는 조금도 發見되지 안는것같다。\\n그리고또新婦의面紗布 bridalvail에對하야洋人들은 spiritualize(靈化)하기爲한까닭이라고하나 그것은 뒤에맨든 一種의口實에 不過한것이요 事實에잇서서는 土耳其의 婦人覆面法에서 由來한것이分明한 事實인것갓흔데 그것은 마치中國의婦人纏足法이 그들의 自由活動을禁止하려는思想에서 由來한것과 꼭마찬가지로 征服婚姻或은掠奪婚姻Mariage by Capture時代에婦人의얼굴을 다른男子가 보게되면不意에掠奪될까憂慮하는 나머지에 平素부터婦人의覆面을 强要한것인즉 그와가튼由來를 가진面紗布를 只今에도 쓴다는것은좀더생각하여볼 問題이다(堺利彥著『男女爭鬪史』參照)。\\n(우리朝鮮婦人이 十數年前까지『장옷』이나『치마』를쓰고다니든것도 그와가튼 理由下에서생긴 一種의 婦人覆面法이며 또現今釜山等地나 黃、平兩道의 婦人들이머리에 힌수건을 동여매고 다니는것도亦是婦人覆面制의 좀進化된形態에 不過한것이고 日本人의結婚式에 女子는반드시『와다보｜시』棉帽子)라는 힌수건을머리에 동여매는데 最初에는겨우눈만 내여노코 머리와얼굴全體를 싸매든것이 漸次로變하여서 現今에는 그것이수건과가티 된것이라고 한즉亦是同一한理由下에서 나온婦人覆面法의 遺物이라고 생각할수 잇는것이다)\\n如斯히 생각하여보면 無條件的으로 無批評的으로 最良最美하게생각하고 近來에 만히採用하는 洋式禮服도 民衆的婚用으로는漢式의紗帽冠帶와마찬가지로그實質이 깨끗하지 못한點으로든지또는 經濟上으로 보아서 到底히 不適當함은 더屢言할 價値도 업는바이 아닌가？',\n",
       " '新案婚禮式\\n아울러 新舊禮式의 檢察\\n【四】高  永  煥\\n그러면 貧富貴賤을 勿論하고民衆的으로 모도 採用할수잇는깨끗한 婚姻禮服은 果然 어떠케하여야 조흘ㅅ가？우리는이問題를 解决하기前에 먼저우리의衣服에 對하야 잠깐좀생각하야보자！\\n우리朝鮮옷은 自他가 共認하는바와 가티 겨울에는 더웁고여름에는 시원하야 대단히 조키는 조타 그러나 무슨事務를볼때에든지 또는 勞働을 할때에 매우 不便한點이 만흠으로不可不 좀더簡便하게 改良하지안흘수가 업스며 또는 白衣로말하드래도 經濟上 廢止하지안흘수 업는것이다 事實上 近來에『白衣廢止、色衣着用』이라는소리가 四方에서 漸次 노파가느니만큼 白衣가 느저도 幾十年內에 自然히 그影子를 가춤게 될것임은 明若觀火한 事實이다｜｜실상 針母두고 가진살림을 하는 富裕者가 아니고는 白衣를 입고시퍼도 입지못하는것이 確然한 事實이 아닌가？｜｜그리고또 現今 우리가衣服을 버롯하야 日常 使用하는 物品은 甚至於 一般農軍까지도 洋襪에 고무신을 신느니만큼 在來의것이 업스며 딸하서 우리의 손으로 맨들든것은日縮月减하게 되어가는 途中에잇지 아니한가？勿論 이것은 第十八世紀의 產業革命以來手 工業이 機械工業에게 慘敗當하는 通則이며 小資本이大資本과 到底히 競爭할수업는 資本主義의 原理이다。 이대로만 간다면 不遠한將來에 우리의것이라고는 그標本도 차저보기가 어렵게되지 않으리라고누가敢히 保證할수 잇슬가？\\n그러나 우리는『白衣人』이라는말이 잇느니만큼 白衣와는因緣이 기프므로 어떠한 方法으로든지 이白衣의 標本을 永久히 保存할義務가 잇다고 생각한다 그럼으로 筆者는 우리의 婚姻禮服을 우리와 떼려야뗄수가업시 因緣이기픈 白衣로써 定하는것이 가장 適當하다고 생각한다。 좀더 具體的으로 말하면 新郞新婦가 다가티 純白衣로 입되 新郞의 周衣도 白木(무명)、新婦의치마도 白木으로하고 周衣의안을明紬나 紬亢羅等屬으로 넛는것이라던지 新婦의 저고리나 속옷을 그와가튼 紬屬으로 하는것과 가튼것에 對하야는 各自의任意에 맷긴다고 하드래도적어도 新郞의周衣며 新婦의치마와 新郞新嫁의 보선감만은반드시 白木으로 一定하야써 子孫萬代에 傳하여 주는것이 白衣人의 本色을 永久히 尊重하는 道理라고 생각한다\\n그러므로 新郞新婦의 衣服은周衣와 치마以外에 바지、저고리、속옷까지라도 全部 白色의朝鮮것으로 지어입고 신발도힌 마른신이나 힌메투리로 한다 이러케 할것가트면 아모리赤貧者라도 所謂 結婚하는 男女로서 그만한衣服(禮服)을 새로 한벌식 지어입지 못할사람은 决코 업슬것이다 勿論 이에對하야 或者는 如次한 反對를할는지도 모른다｜｜即 所謂『禮服』으로서는 너무 單純하고도 沒趣味하지 안은가？그리고 또 衣服의 全部를 朝鮮固有의 것으로만 쓰자면 物品이 너무制限되며 또는 未久에 廢止或은 變改될것을 그러케 쓰기로들면 그것은 禮服制定이 아니라 廢物標本의 保存䇿에 不過하지 안으냐고 할는지도 모를것이다 只今 그와가튼 疑問이 잇스리라는 假定下에서 좀冷靜히 考察하여보자！\\n元來 禮服이라는것은 一般的으로 神聖(？)하게 쓰는데에그存在의 意義가 잇는것이요决코 그品質의美麗나 趣味의有無로 因하야 그禮服의 價値가高下되는것도 아니며 또는 舊式의 喪服처럼 怪常하게 複雜하여야만 禮服다운것은 아니다그리고 또 純朝鮮產으로만 하드래도 內衣만은 各個人의 趣味와 節期를 딸아서 얼마던지잘꾸밀수가 잇다 例하면 羅州細木、平壤水木、鐵原明紬、韓山細苧、安州亢羅||等、等은决코 外國의 綢緞에 내리지안는다 그리고 또 朝鮮의 衣服制度와 白衣가 장차 改廢될運命에 잇는것은 决코 그것이 根本的으로 낫버서 그리되는것이아니라 그것이 조키는 대단히조흐나 다만 經濟가 좀덜되는까닭이다 그러므로 우리가 平素에 白衣를 입지는 안트래도무슨方法으로든지 반드시 그制度의 標本만은 千秋萬代에까지傳하여 줄義務와 意義가 잇다고 나는 생각한다',\n",
       " '新案婚禮式\\n아울러 新舊禮式의 檢察\\n【六】高   永   煥\\n그러면 所謂新式이라는『敎會式』으로할까？或은 畵虎不成에 反類狗子인 所謂『社會式』으로할까？亦是 前者나 後者나 다가티 우리에게 愉快感을 주지못한다 그러면 어째서그러한가？\\n첫재 敎會式으로 말하면 新郞新婦가 自意대로 獨立的行動을 하지못하고 마치 舊式의醮禮廳에 선 新郞新婦가 笏記든사람의『新郞東向立 新婦出新婦四拜 新郞再拜||』云云等의 號令을딸하서 그대로 動作하는것과 마찬가지로 新式의 結婚式塲에서도 新郞新婦는 亦是 所謂主禮者의 命令대로 人形처럼 機械行動을 하는것이라든지 또는 새삼스럽게『××이 新婦와 함께살되 病들든지 平安하든지(자식을나튼지 못나튼지)사랑하고慰安하며 貴重히녀기고 保護하야 이新婦만 안해로삼아終身토록 떠나지안켓느냐』고물어서 新郞의『예 그리하오리다』라는 對答을밧고 또 新婦에게對하야서도 그와가티하는것□□가튼것은│特히新婦에게는 男便에게『順從』하라고 命令한다│决코 마음에 맛지안는다 萬一 純全한舊式婚姻과가티『人間의재미』를본다는 무서운 口實下에서 口尙乳臭한 十二、三歲의 男女를그父母의 마음대로 상투를짜코 草笠을씨우며 머리를 쪽지고 노랑저고리와 다홍치마를입혀서 人形的夫婦를 맨드러노코 하로밧비 子息나키를 바라는 强制結婚이라면 너희들이 서로永久히 사랑하겟느냐고 무러볼必要가 잇슬는지도모를것이다 그러나 近來에는早婚의惡風이 漸次 减少되어가고 比較的 自由結婚의例가增加되므로 禮拜堂에서 結婚式을 擧行하는 男女치고는 勿論 서로 사랑하기때문에 結婚하는것이오 조금도 愛情이 업는것을 억지로 强制結婚 당하는例는 거의 업슬것이다 적어도 그들이 서로約婚하야 結婚하기 까지에는 月夜林下에서단둘이 散步도하며 相互의理想과 彼此의性格을 어느程度까지 서로披攊할 機會가 全然업지도 아니하얏스리만큼 自然히 그들의사이에는 사랑의실마리가 서로 오고가고 하얏슬것이다 그런데 結婚式塲에서 새삼스럽게 사랑하겟느냐고 무러보는것은 아모리 形式的言辭라고 할지라도 좀 슴거운酬酌인것가트며 더욱히『||누구든지 이 두사람의夫婦됨에 正當치안는 理由가잇는것을 알거든 이제곳나와서 말할것이오 그러치안흐며永永히 잠잠할지니라』는等의 何等의權威도 업는緘口命令에 일으러서는 實로 苦笑를禁할수가업는바이다 누구든지 病風喪心者가 아닌以上남의婚禮式塲에서 正當不正當을容啄할까？勿論 그新婦新郞中에 萬一離婚者가잇다고하면그이에게 離婚當한사람은 그婚姻을 不正當하게생각할것이며 또는 新郞新婦中의 어떠한사람을 혼자 외짝사랑하든者(男子或은女子)가 잇섯다고하면 그失戀者는 그婚姻에 對하야 祝福하지안흘는지도모를것이다\\n萬一 來賓中에 白沙(鳌城府院君)나 漢陰가튼 豪傑작란군이잇서서 작란으로『正當치안타고 생각하오』하면 어떠케할터인가？사랑으로 매즈려는그들의夫婦生活을 積極的으로禁止할터이며 또는그리할만한무슨權能은 가지고잇는가？勿論그러케 하는것이敎會結婚式의定規라고 하지마는 萬一新郞이나 新婦의 人格을밋기어려올것가트면 미리愼重하게그들의品行調査를하야 憂慮될만한不美의點이 조금만 잇드라도애초부터 그結婚式의主禮者되기를 斷然拒絕하는것이훨신더正當한일이지 남의神聖하고도깃븐婚禮式塲에서 그와가티危殆하고(듯기에도)不快한 말을하는것은 所謂『規定』대로만『禮』를하려는것이 도리어 큰『失禮』가되지안는가？事實上永久히變치안는│또는 變改할수업는│ 、善、美라는것이업는것과 마찬가지로 所謂禮式이나 習慣도時代의趨移함을딸하서 그時代의思潮에適應하도록 變改하지안흘수업는것이다',\n",
       " '新案婚禮式\\n아울러 新舊禮式의 檢察\\n【七】\\n高永煥\\n그뿐만아니라 萬一 新郞과新婦가 가티 同一宗敎의 信者이면 그대로라도 無妨하다고할는지 모르겟지마는 흔히는本是 宗敎反對者 即  烈한無神論者가 新婦의請에 끌리어서마지못하야 敎堂에서 結婚式을 擧行하게 되는일이 가끔잇다。 筆者도 이러한例를 目睹한일이 决코한두번에 그치지안는다 이것은 一時의 形式을 밟기爲하야 平素에 所謂阿片장이의 巢窟과같이 실어하는敎堂안에 들어가서 自己의良心을속이는 新郞自身도 極히 不徹底한 行動이며또는 하느님의뜻을 바더서 凡百事를行한다는 牧師나 神父로 말하드래도 어떤『헤터릐』(異敎徒)이라는것 보다도 아조 激烈한無神論者의 結婚式에 主禮하여 준다는것은 매우穩當치 안은것갓다。\\n以上에서 略述한것도 所謂敎會式을 一般民衆의 結婚에適用하기 어려운 큰缺點中의한가지로 되는것이다。\\n그런데 事實上 □□우리는虛心坦懷하야 冷靜하게 反省하여 보지안으면안될 外人의高見이 여긔 하나잇다。 ｜우리가 何等의 特別한 理由나必要도 업시 오직 西洋ㅅ것은모도 우리의것보다 낫다는 妄想下에서 經費를 만이드려가면서 西洋의것만 模倣하며 採用하는데 對하야는 西洋人의學者도 公正하게 警告하는바이다 例하면 延專敎授『피숴』博士는 그의學位論文인『民主主義와 朝鮮內의 基督敎的 敎育』이라는 著書(英文)中에 朝鮮안에잇는 敎會學校에서 朝鮮固有의文化와 習慣을 重要하게 녀기지안코 空然히西洋의文化만 輸入시키려고 努力하는것이 錯誤인것을 指摘하면서 如次히 正論하엿다。\\n『무엇이던지 西洋ㅅ것은 優  秀하다고 假定하는것 이라든지 또는 實際社會의 必要와 利益을 本位로 하지안코 다만 西洋의것이 優秀하다는 妄斷下에서 西洋人生活의 여러가지特徵을 無條件的으로 採用하는것은 反對할일이다 西洋의新制度를敎會學校에서 紹介하는것 中에는充分한 識見으로써(朝鮮의)全般狀態를 觀察하여보면 正當하다고 是認할수업는 것도더러잇다』(上揭書第一二八頁參照)\\n고 主張하고서 그一例로 學校의 寄宿舍의設備와가튼것도卒業後 實生活과는 아주 因緣이먼 西洋式으로 하는것이 不適當하다는것을 氏의 該博한知識으로써 一一히對照하야 適評하고 男女學生들에게 洋服을 입히는것까지言及하야 朝鮮의衣服과□□한後 萬一 洋服이 더低廉하고便利할것 같으면 無妨하다고하겟스나\\n『그러나 그와같이 모든것을  西洋式으로 變改시키는것은  敎師와 學生으로 하여금 西  洋의 모든것이 朝鮮在來의것  보다 다낫기때문에 모든것을  西洋式으로 改良한다고 誤  解케할憂慮가 항상潜在하여잇다』(同書第一二九頁參照)고 明論하엿다。\\n그리고 또『파숴』博士는 그筆鋒을 婚禮式으로向하야말하되『朝鮮在來의것이｜『파숴』敎授는 從來의婚姻禮服이 純全한 朝鮮固有의것인줄로 理解하는 모양이다(筆者)｜그禮服의 美的意味로 보든지 또는 其他여러가지의 點으로보아서 훌륭한것임도 不拘하고基督敎人들이 結婚하게 될때에는 新郞의禮服、新婦의 面紗布로부터 新婦의드는꼿 甚至於 반지든아이와꼿든女子까지純全한米國式을採用한다』(同書第一二九、及一三○頁參照)고慨歎하고 그말을 繼續하야다음과가티 徹底한斷案을 내리엿다。\\n｜This of course is a”Chri-stian Wedding,”while thatsolemnized according to theancient Korean ceremonies to”heathen wedding. ”\\nIt would seem necessary toremind onrselves than theChristian Bibil makes nomention of any morriage ce-remouies,and that our cere-monyes is an ethnic growth,Some of the elements ofwhich may be as pagan intheir origin as the Koreanceremony,｜James EarnetsFisher,Ph.D.,”Denocracyand Mission Education inKorea”,p-130.｜\\n『피숴』敎授의 徹底한 主張에對하야 特別히 一種의 敬意를表하는 意味下에서 原文그대로引用하얏스나 그意味를 번역하면 이러하다。\\n『이것(米國式｜譯者)은 勿  論『基督敎式』이요 朝鮮의 舊  式은『異敎徒式』이라고 하겟지마는、(基督敎의)聖經에는婚禮式에 對하야 何等의記錄한바이 없는데、米國式은 民族的으로 生長한것인즉 그起源에 잇서서는 우리(米國)의禮式도朝鮮의 舊式과 마찬가지로 亦是 異端的이엇슬것이다』。\\n라는 意味의말인즉、米國人 宣敎師의 말로서는 얼마나 大膽하고도 徹底한 正諭인가？',\n",
       " '新案婚禮式\\n【八】\\n아울러 新舊禮式의 檢察\\n高  永  煥\\n그러고또以上에서 引用한 數節에 對하야 一種의 結論格으로『피숴』敎授는 이러케말하얏다\\n『吾人이 力說하고저 하는것은 即이것이다 朝鮮사람은朝鮮사람이기때문에 딸하서 朝鮮人固有의生活과 道德的기픈關係가 잇다는것이다 그럼으로 모든境遇에잇서서 朝鮮의社會狀態를 眼中에 두지안코 朝鮮사람으로하야금 西洋의衣服、言語、生活樣式을 採用하게하려고 할것가트면 朝鮮의固有한 文化에對하야 各個人이 當然히지킬 道德的關係를 多少間破壞하게 될것이다』\\n라고 賢明하게 批評하얏다 그런데『피숴』博士는 朝鮮에잇는多數宣敎師들中에서는 보기드문 新進思想家라고할수잇느니만큼 그의論法이 公正하고 徹底하야 讀者를 能히 感動시킬만한點이 만히 잇다는것을 여긔에부처서 一言하야둔다\\n그러면 西洋人까지도 嘲笑하는 西洋의婚禮服을 우리는 무슨必要와 까닭으로 그러케 업는勇氣와 不足한財力을다하야採用하려고하는가？三間斗屋의 貫□□□도 마음노코 하지못하며 이리저리로 쫏기여다니게되는 우리白衣人의經濟生活에 可當치안케 二三層高樓大厦의 洋人生活을 본뜨려는것은 그게무슨妄想인가？\\n그다음에 所謂 社會式이라는非宗敎式으로 말하드래도 쑥스럽기 짝이업다 所謂 主禮者가 新郞新婦를 압헤 세워노코朗讀하는것 所謂『告天文『이라는것｜은 그무슨 쑥스러운작란인가？勿論 우리는 무엇이든지 自他의것을 比較하야 남의것이라도 可히 模倣할만한것이면 模倣하며 모든것을 取長去短하여야 하겟지마는 模倣도 可欺以方으로하여야할것이다 그러케 告天文이라는것을 朗讀할터이면 차라리敎會式 그대로 하는것이『시거든떫지나말나』는 嘲笑나 免할수잇지 안흘가？어떤 頭腦明晳(？)한先覺者가 그런鸚鵡的模倣을考案하야냇는지는 구타여알려고 애쓸必要도업는바이나 이것은 要컨대 基督敎人이日曜日에 說敎하며 禮拜보고讃頌歌를 부르므로 佛敎의 僧侶도 그것을模倣해서 所謂『日曜說法』을勵行하며『南無阿彌陀佛』대신에 唱歌를 부르는것과가튼 似而非的模倣에不過한것인즉 더屢言을 허비하야 論評한말한 價値도업는것이다\\n如斯히 冷靜하게 論評하야본즉 從來에採用하든新舊의婚姻禮式이 다適當치못한것은不誣의事實이다 勿論좀더徹底하게생각하야본다면 누구든지男女가서로사랑하야 同居하게되면그것이훌륭한 夫婦生活이어늘(거기에)弊스럽게 무슨式이라는것을 한다는것부터가 用의形式的虛禮라고 할수잇겟지마는｜더욱이 거의無批判的으로 社會狀態가날로激變하야가는 即所謂『安寧秩序』를 紊亂케한다는法網에만 걸리지안는限에서는 凡百事를各個人의任意로 自由(？)行動하게되는近來의 우리社會에서 釋王寺、三防、仁川等地에서 避暑結婚、林間結婚、或은水上結婚等等前古未聞의 尖端的結婚式(？)이各今 世人의耳目을놀라게하는터인즉 아프로는 飛行機上에서하는 空中結婚가튼것이 또新發明되지안흘는지도 至今알수업는바이지마는｜해도 無妨한形式을밟지안코 구태여社會의習慣을率先해서 廢止할必要까지는아즉업슴으로 어떤一定한形式을거처서 自己네의夫婦生活을 世上에公布한다고할지라도 從來의婚姻禮式은 新舊式을莫論하고 모다너무形式的이며 非人格的이다',\n",
       " '新 案 婚 禮 式\\n아울러 新舊禮式의 檢察\\n【九】\\n高   永   煥\\n그러면 우리는 所謂 結婚式이라는것을 어떠케 하겟는가？그것을 全然 廢止하겟는가？或은 從來의그대로 放任하여 주겟는가？一般大衆이 그것을 全然 廢止하지안코 各人各樣으로 어떠한 式으로든지반드시 形式을 밟게되는以上우리의生活에 좀더適當한式을定하여둘 必要가잇다고 생각한다 그럼으로 筆者는 識見이淺薄한 腦漿을 얼마동안 짜보앗스나 別로 新奇한 妙案이나오지안는다 그러나 如次히하는것이 가장適當할것 갓다고 생각한다 即｜\\n新郞新婦가 結婚式塲에 들어올때에는 各其同姓의 同年輩되는 二三人의隨從者와 가티 各各다른길로 들어가서 一定한塲所｜都會地의 公會堂가튼데면 그壇上、萬一 公會堂과 가튼것이 업는 시골村일것가트면『텐트』(遮日)미테 一定한塲所｜에이르러 新郞新婦가 서로對面하고 서게되면그式塲의 案內者中 한사람이一般의 來賓席을 向하야 某氏와某氏와의 結婚式이 잇겟다는 意味를 公布한다 그리하면男女의來賓들은 歡迎하는 意味로 拍手한後 新郞  或은 新婦自身이 一般의 來賓席을 向하야 自己네의 結婚하게되는것을 簡單히 宣言하고 新郞新婦가 굿게握手하며 반지를 서로交換한後 男女來賓들의 祝福하는 拍手가 끗남을 기다려서 그壇下로 내려오면 來賓들은 新郞新婦들과 祝福의 握手를 한後에 新郞新婦도 그來賓과 한자리에 가티안는다\\n그런데 누구든지 婚姻禮式을 談論하게되면 반드시 頭痛ㅅ거리가 되는것은 잔치(饗宴)는 어떠케하며 또來賓은어떠케하느냐？는 問題일것이다元來 儒敎의思想으로 말하면『養生非大、送死爲大』라는 偏見으로 冠、婚、喪、祭의四禮中에서 喪禮를 가장 잘하여야한다고 主張하는 모양이나 實際에 잇어서는 婚禮가 第一盛大하게된다 또는 事實上 그러케하여야할것이다 그러나從來의習慣에 依하면 너무過度하게한다 萬一 어떤사람의집에 婚大事가잇게되면 그 親戚故舊의 全家族이 여러날前부터와서 누어먹는것은 勿論이려니와 婚日과 밋 그翌日에所謂손님으로 온 男女들도 그新婚한夫婦를 祝福하는意味로 온다는것보다도自己네의 주린창자를좀蘇復시키려는目的으로 온取食客的行動을함에 不過한늣김이업지안타따라서 어떤집에서婚大事를한번치르고 나게되면마치무슨큰亂離 한판격근것과가티精神을收拾하기가 困難한程度이며좀甚하게말하면 어떤强盜團의不意襲擊을 當한뒤와도가튼늣김이 업지안타所謂잔치를그러케過度히하고 何等의財政的困難을늣기지 안을만큼經濟上의餘裕가잇는 形便이라도 그러케하는것은 决코穩當치못한일이어늘 하믈며家族만의糊口之計에도不足한 田沓까지放賣하여서라도 그러케남의하는대로는하여야 남의嘲笑를 하며 또는自身도滿足하게된다그러므로中產階級以下의 사람들은現今의狀態로말하면 朝鮮全戶數의 九十九『퍼센트』가량이赤手空拳만가진 純無產者이다｜子女를 몃만嫁娶시키게되면 依例히傾家破產하게되며또는一般社會에서도 萬一어떤사람이 婚喪間의大事로因하야家產이 蕩敗되는것은一種의『不可抗力的』當然之事로 認定하게된다\\n本是『禮』라는것은『稱家之有無』하야各自의形便에相當하도로誠力것하는것이 떳떳한道理어늘 구태여 그러케傾家敗產할지경까지할必要야 무엇잇는가？더욱히人間社會에서 가장상서로운｜한個의 家庭을새로創設하는 出發點이되는｜婚禮大事로因하야(도리혀己徃잇든)家產이 致敗하게된다면 이것은그根本的目的에 크게矛盾되는것인즉 그러한 過度的『非禮』는一日이라도 速히改良하지 안을수업는弊風이라고생각한다',\n",
       " '世况따라婚姻도增减\\n애기新郞依然多數\\n◇二十歲未滿 結婚이最多\\n세월 조치못하야 결혼도 줄어든다\\n年齡으로본朝鮮婚姻\\n작년중에 매저진 혼인이 조선인 十九만七천五백六十三건일본인 一천六백八十三건、외국인 三十五건으로 도합十九만九천二백八十一건이다\\n이에대하야 제작한 총독부통게에의하면 흥미잇는연구재료가만타\\n즉 十九만九천二백八十一건이라는 결혼을날로처보면하로에평균 五백四十六건이 록수원앙의 단꿈을 매즌세음이요결혼건수를 그전년과비교하면五천十六건의 증가이나 인구천명에 대한 보합은 九、八四로○、二一건의 감소이다\\n혼인이 다소가 해에딸하 갓지안흐나 과거十년간의 증감을보면 인구천명에대하야\\n大正十年八、九六 十一年一  一、○五▲十二年一四、四九  ▲十三年八、六三▲十四年九  ○六▲昭和元年八、八三▲二  年九、一五▲三年一○、○七  ▲四年一○、○五▲五年八、  八四\\n이다이와가티해마다 다소의증감이잇는 원인은 역시 재게의관게로 세윌이 조흘때는 혼인도만코 그러치못한 해에는적어진다\\n결혼률의 다과는 또한 지방에딸하 현격한 차이가 잇스니최고는 강원도의 천명에대한一一、八건이오 최저는 경남의五、七건으로 그차이가六、一건이나된다 결혼률은 대개 관동관븍관서가 놉고 령남 호남지방이낫다\\n결혼년령은 남자는 만二十세미만이 가장만허 총수의 三할八부이오 그다음이 二十세이상 二十五세미만으로 三할二부、二十五세이상 三十세미만은 一할七분이다 일본사람의 결혼년열은 二十五세이상三十세미만이 가장만허 총수의 四할四분인것을 보아 조선인의조혼이 분명히나타난다\\n조선인의 조혼렬은 상당히식엇스나 아즉도 농촌엔 적다고 할수업스니 법정최저년령인남자十七세미만이 총수의六분六리 녀자는 최저년령 十五세미만이 五부四리나 된다 그럼으로 본부독살과 리혼사건이아즉도 성문제로말미암은만흔것이다 그러나평균년령은남자二十三세로부터 二十六세녀자二十세로부터 二十三세로재래의인습이차차 개선되어 간다',\n",
       " '新案婚禮式\\n아울러 新舊禮式의 檢察\\n【十】\\n高    永    煥\\n그리고또 多少簡便하게 한다는 所謂新式의 披露宴이라는것도 亦是마찬가지다 別로먹을것도업시 적어도 一人分一圓以上乃至數三圓가량이 드는터인즉結局은 去弊가生弊에 不過한셈이다 그뿐만아니라 元來料理店의飮食이라는것은 如何한 山海珍羞라도 맛이업는것은 理由모를事實이나 더욱히 婚姻披露宴에서 먹는다식어빠진 국수라는것은 實로烹斧之湯의感이 업지안은中 그나마도 다먹기前에그宴會의 主人이되는 新郞新婦가휙나가버리게되면 一種의 取食客的待遇를 밧는것과가티 不快한 늣김을 禁할수업스며｜그런데 只今까지 絕對多數의例에依하면 來賓이方今 飮食먹는中에 新郞新婚가 먼저나가는것이一種의慣習처럼되엿다｜그박게또한가지 맛당치못한것은 바로數分前에 神聖하게 結婚式을擧行한 新郞新婦가 드러잇는바로이웃방에서 蕩子淫女輩의 함부로짓거리는 怪談悖說이 亂雜하게 들리는것이다이것도 多大한費用을 드려가지고 營業的料理店에서 所謂披露宴을 할必要가絕對的으로업는理由의한가지로되는것이다\\n그러나 結婚이라는것은『二姓之合이요□□之源』의人間大事인만큼 □□間에 입을딱싯고맨입으로 지번다는것은 너무섭섭한일임으로 簡單하게라도 무엇을먹기는 좀먹어야 하겟는데그러한儀式에 가장適當한것은 朝鮮의 藥食이라고 생각된다 洋菓子가튼것도 조촐하기는하나 그것은 費用이너무만히 걸릴뿐만아니라 己徃衣服과禮式을 白衣族의맛이잇도록 獨特하게 하는以上구태여남의것을 쓰려고 애쓸必要는 업는것갓다 普通『藥食』이라고 하면『시요셈베이』나『추잉껌』만치도여기지안는 換父易祖的 外品崇拜狂도 잇슬는지알수업스나 우리藥食도잣(栢子)、胡桃、밤、대초等等의과일을알맛게너어서 잘法製하여 노흐면决코 西洋의『비스케트』나『카스텔라』부스럭이와는 到底히比較할바도 아니려니와所謂『웨딍｜케이크』이라고하야 特別히新婦自身이 執刀分配하여주는 西洋式의『婚禮菓子』보다도그風致와 美味가훨신더 나을것이다맛이조코 風彩잇는點으로 그처럼훌륭함도 不拘하고 그價格으로말하면 如干低廉하지안타。 停車塲에서 파는것과 가튼『변도』그릇｜勿論이것도 白衣人의木工이 넉넉히 맨들수잇는것이다｜에 너허서 一人分에二十錢內外이면 아주 훌륭하게될것이다(萬一 이것을營業하는料理店에 맛기지않고 家庭에서짓는다고하면 一人分에 十五錢가량으로도 豊且足하게 되리라고생각한다)\\n이제는 말이 다시뒤로退步하여야하겟다 即新郞新婦가 壇上으로부터 내려와서 男女의來賓들과 한자리에안게되면 미리準備하야두엇든 藥食『변도』한個式을 各個人의아페 分配한後에시케나、麥차、或은 화채와가튼것을 마시여가며 新郞新婦와가티 그藥食을 먹는同時에男女來賓中에서 有志者가 自發的으로 이러나서 祝福하는意味의祝辭와 或은 新郞新婦에게 將來參考가 될만한말｜例하면 新郞或은 新婦의性格은 平素에어떠하며 무엇을조하하며 또는무엇을 실혀한다는等、等의말｜을簡單하게 約五分間式 될수잇는대로는 여러사람이하며 新郞新婦側에서도 自己네의 戀愛하든『로맨쓰』와가튼것을 털어노코 이야기하게되면 雙方이서로적지안흔參考가 되는同時에 從來와가티 親友의結婚式에 參席하기爲하야 數百里 或은數千里를왓다가 何等의 온보람도업시다만 다식어빠진 국수한그릇어더먹으려고 왓든 取食客과가티無意味하게돌아가지안코雙方이서로愉快하게談笑和樂하는中에眞實한友誼를披瀝하게될것이다',\n",
       " '新案婚禮式\\n아울러 新舊禮式의 檢察\\n【十一】\\n高   永   煥\\n그리고 또 그新郞新婦에게는다시업슬 그깃분날을永遠히 記念하기 爲하야 來賓一同과가티記念寫眞을 박이는 同時에｜或은 그와가티안저서 藥食을먹으며 談笑하는光景을 그대로박이여도 조흘것이다｜미리 白紙記念帖(或은文藝帖)가튼것을準備하여 두엇다가 그날의婚禮式에 參席한來賓들로하여금 各其長技대로 詩人이면祝婚의詩、畵家이면 所長의그림、能書客이면 뜻잇는文句、허다못하면自己의姓名三字만이라도 반드시 그記念帖에 記入케한다 이런것이極히 些少한것가트나 그新婚夫婦에게 對하야는 永遠한記念物이될것이며 또는 그婚禮式에갓는友人을 自身으로 말하드래도밧븐時間에 모처럼 參席하엿든보람이 여러가지로 잇게될것이다。\\n다시말하면 이와가티하야 主客 即新婚夫婦와 男女의來賓이三四時間 한자리에서 서로胸襟을열고 愉快히 談笑하다가 헤여지게되면 그新婚夫婦 自身들도 事實上 結婚禮式을 한氣分이 잇을것이며 또는 友人의 結婚式에 參席하얏든 男女들도貴重한時間을 허비하고갓든 愉快感을 늣기게될것이다 勿論그러케 三四時間을 지낸뒤에 그式塲을떠난 新郞新婦가 新婚旅行의길과 가튼것을 떠나고안떠나는것은 各自의經濟狀態와 事情의如何를 딸하서 任意로할것인즉 그것까지 여기서容啄할必要는 업는것갓다。\\n以上에서 陳述한 婚姻禮式에對하야 어떤사람은 如次한疑問을할는지도 모를것이다 即그와가티 特定한主禮者가업시 新郞新婦가 自發的으로하는것과또는 그式을 끗낸뒤에男女의來賓들과가티 한자리에안저서 三四時間씩 愉快하게 談笑한다는것은新式敎育을 만히밧고 훨신長成한 男女가트면 그러케大膽히알는지 모르지마는 시골農村에파무처잇는 舊式의男女 더욱히어린男女들이야 어떠케 부끄러움을 참고 敢히그러케 할수잇느냐고 할는지도 모를것이다。그러나 이것은 何等의 價値업는 一種의 憂에 不過한것이다從來와가티 父母의任意로 十二三歲밧게 아니되는 어린子女를强制結婚 시킨다고하면 多少間그런念慮가잇을는지도모르겟지마는 現今 우리가 如何한方法과 手段을 써서라도 從來와가튼 早婚의惡習을 永久히 根絕시키지 안흐면 안될것임은 新舊式의 人士가 共通的으로 是認하는바이며 또는 事實에 잇어서도 早婚의弊風은 漸次로减退되어가는 現象인즉 꼭古禮그대로『男三十而娶、女二十而嫁』는 實行을 못하드래도 世上이 날로 文明하게됨을 딸하서新式敎育을 밧고 안바든것은別問題로 두고)經濟問題 其他여러가지의 關係로 因하야 自然히 男女가 다二十歲는 넘어서 結婚을하게 되어간다。\\n그러면新舊式의敎育有無를勿論하고 二十歲가 넘은男女로서남이 다하는것을 公衆의아페서發言할勇氣가 업다고하면 그런男女는 아직結婚할만한 資格이업는者들이다',\n",
       " '新案婚禮式\\n아울러新舊禮式의 檢察\\n【十二】 高  永  煥\\n元來『부끄럼』이라는것은다른사람이 안는것이나 또는社會가法律的으로나 或은無言中에 禁止하는것을 自己혼자만 하게되면 所謂『良心』上苛責으로 因하야 부끄러운 생각이不知中에自己의가슴을 눌으며 딸하서골이 확근그림을 깨닷게 되는것이지마는 婚姻禮式과 가튼것으로 말하면 先天的으로變態的心理를가진 特種의 獨身主義가 아닌以上에는 누구든지다한번씩은 當하는것이며 또는一生에한번박게 업는것인데 二三十歲나된 男女가 그만한것을부끄러워서 못한다면 事實上기러한男女는 不遠한將來에 남의父母로 될만한素質이 缺乏된一種의『病身』이라고 아니할수 업슬것이다 그럼으로 이우에서筆者가 假定한바와가튼 念慮는事實上 無用의  憂이다\\n그러면 以上에서陳述한바 即時禮式에 關한 愚見을(重複의嫌이잇슴도 不拘하고)全部總括하야 그要領만 다시簡記하야보자。\\n一、禮服\\n이미 말한바와가티 新郞新婦의 衣服은 안박글勿論하고 全部 朝鮮의 힌옷감으로 하되 特히 新郞의衣와 보선、新婦의치마와 보선만은 반드시 힌무명(白木)으로 하고 신발도 힌마른신이나 힌메투리를 신는다\\n二、禮式\\n淸潔하게 잘掃除한後 壇上에松、竹、梅와가튼 花盆이나 몃個노코 質素하게 꾸민 式塲에 新郞과 新婦가 各其 同性의 同年輩되는 二三人씩의 隨從者와가티(한 五六尺의 새이를 띄워서)各其다른길로 드러와서｜｜萬一 風琴과가튼 洋樂器가잇스면 新郞新婦가 式塲에 드러올때에 서로 步調를 마추게 하기爲하야 西洋의 婚禮行進曲가튼것을 치는것도無妨할것이다 그러나 萬一 그런樂器가업슬것가트면 업는것을 구태여 애써서求할必要까지는 업슨즉 시골農村에서는 音樂업시하여도 조흘것이다｜｜一定한 壇上에 이르러서 男女의 隨從者들은 兩便으로 갈러서고 壇上의中央에新郞新婦만 相對하고서게되면 亦是 힌朝鮮옷을입은 案內者한사람이 그壇上의 한便에 잇다가이러서서 一般의 來賓席을向하야\\n『이제로부터 ××氏와××孃과의 結婚禮式이잇겟습니다』라고 公布한後 뒤로 물러서는同時에 男女의來賓들은 뜨거운拍手를한다 그拍手가 끗남을딸하서 新郞이 來賓席을 向하야잡간 揖한後에\\n『우리 두사람은어떠한機會로  서 알게되어 ××동안을 交際하야본結果 相互의 心性에同感되는點이 잇스며 彼此의理想에 共鳴되는곳이 잇슴을發見하게 된까닭으로 이제로부터 永久히 共同生活을 하야보겟다는 구든盟誓을 只今여러분의 아페서 하게되는것을 우리두사람의 一生에 가장긴븐일인줄로 생각합니다』라는 意味의말을 깃븐 얼굴로써 宣言하고서 新郞과 新婦가굿게 握手하고 반지(純金或은純銀)를 서로 交換하면｜｜事實에 잇어서 반지交換과 가튼것은 그만두어도 조흘것이다｜男女의 來賓들은 또一齊히 祝福의拍手를 한다 그때에 新郞과新婦는 나란히 서서 그壇下로 내려오면 來賓들은 順次로新郞新婦와(祝福하는意味의)握手를 한後에 그新郞과 新婦는男女의 來賓들과가티 한자리에안는다\\n(그런데 이式에서 新郞新婦의 隨從者와 案內者들은 왼便 가슴우에 紫色花를 꼬즈며 新郞과 新婦의 親戚들은粉紅花를 꼿고 新郞과 新婦만은 眞紅花를 꼿는다 西洋人은“Wedding｜favour”라는『婚姻의表』로 普通 白色薔薇花나 或은 白色『리본』을 꼿지마는 우리는 特別히붉은꼿을 꼿기로 하자)',\n",
       " '新案婚禮式\\n아울러 新舊禮式의 檢察\\n【十三】高  永  煥\\n三、來賓과餐宴  이와가티 主客이 한자리에안진後에는 미리準備하야 두엇든 藥食『변도』와 시케｜萬一여름이면 화채｜나 或은 麥차를 各個人의아페 分配하야新郞과 新婦도 來賓들과가티먹는同時에 한사람의 案內者가祝電 或은祝文을 읽고나서면男女의 來賓들中에서 有志者들이 自發的으로 이러서서 順次로 約五分間씩 祝婚辭나 或은 參考談을 하며 新婚夫婦側에서도 自己네의 戀愛하든『로맨쓰』를 처음 맛나게되든 動機로부터 結婚하게된 그날까지의 略歷을 簡單하게 말하되 决코形式的으로 하지말고胸襟을 확쏘다서 말한다 그리고또미리 準備하엿든 記念帖(文藝帖或은書畵帖)에男女의 來賓들은 한사람도 빼지말고 各其所長대로 그림이나 簡單한祝婚辭나 祝婚詩나 或은單純한姓名三字만이라도 各其自筆 로써記入하야 그新婚夫婦의 永久的記念物이 되게한다 그리고 또그禮式에 參席하얏든 全員이新郞과 新婦를 中央에 그隨從하든男女들은 그겨테 세우고記念寫眞을 박인後에 各其헤여진다\\n(勿論 寫眞은 主客이가티飮食먹으면서 和樂하게 談笑하는 光景을 그대로박여도조흘것이며 또는 新郞新婦와밋當日에 隨從하든 男女들만이따로또 寫眞을 박이는것은各自의 任意임으로 그것에對하야는 여긔서더말할 必要가업는것갓다)\\n四、請帖(結婚通知書)  請帖 或은 結婚通知書는어떠케하느냐？하면 그것은 新郞이나 新婦의□□□보다도 親한友人의名義로써 하되 從來의것과가티 어려운 純漢文을 쓰지말고 簡單하게다음과가티 하엿스면 조흘줄로 생각한다\\n上記한바와가튼 請帖을 한二三日前期해서 到達되도록 郵送하는것이 조흘것이다\\n◇\\n以上에서 論述한 愚見은 얼는생각하여 보면 마치 빗조흔개살구모양으로 이름조코 無意味한『新案』이라고 評할는지도알수업스나 좀冷靜히 熟考하여보면 决코 難行의 抽象的空論은 아니라고 말하고십다 웨그러냐하면 이것은 便利한 都市에서나 窮僻한 村落에서나를莫論하고 別로 窘塞할것이 업스며 또는 過大한費用도 내지안코 淸雅하며 爽快한맛이 잇게 實際로 可히 實行할수가 잇스리라고 確信하는 까닭이다\\n一九二九年六月二十七日        京城府立圖書舘에서\\n敬白\\n今月××日×午×時××(塲所名)에서  ×××  △△△\\n兩氏의結婚禮式이 잇겟사오니 될수잇으시면 當日參席하여주시기를 切望하나이다\\n年 月 日某謹啓×××氏同 夫人座下',\n",
       " '密林속에 숨은\\n九山模範村\\n(上)\\n興風會를組織하야活動\\n沙里院支局李根\\n到處를勿論하고 刻一刻으로疲弊하야 거의沒落의途程을발는우리農村中에도 아즉脈이끗치지안코 動作을하야다시 生氣를振作하랴는 한農村이잇스니 그는世人이指稱하야模範農村이라한다 그리하야이消息을探聞한記者나는 그部落의事業과例規를 一般農村에紹介하야多少의模範이라도 남겨주고저한다\\n그런故로그部落인 鳳山郡龜淵面九山里를 親히踏査하고直接느낀바와 그部落의事業大槪를다음과가티紹介한다\\n×\\n먼저그部落의位置를말하면京義線淸溪驛에下車하야 그엽흘끼고흐르는 淸溪川을건너면山上頂까지 密林으로몸을가라운九山을背景하고 그九山미트로人家八九十戶가 드문 드문보기조케벌려잇는곳이 模範部落인九山里라한다\\n그곳은本來가閑寂하든農村이든바 京義線鐵道가敷設된以後로 그附近에잇는淸溪驛前酒幕이漸次發展을하게됨을달하 酒店이繁昌하고 遊衣遊食者가늘어감에誘惑되어 農業에는怠慢하고 飮酒雜技가盛行하고奢侈로일삼아 農村經濟力은말할수업시 衰退貧弱하야저서 그들은 모도가債務속에서 呻吟만하든農村이든바인데 數年前부터 그곳李錫烈、張錫祿兩氏가時勢趨移에覺悟한바잇서 때마츰興風會를組織하고 數年間을專心으로 文盲退治、色衣奬勵禁酒煙、產業改良等에만흔힘을드리며 해마다發展함을딸하一般으로는 各種細胞團體를組織하야 彼此에손을잡고 今日까지 一般里民의生活全體를指導하야 前보다安定을엇게되엇스니 이제그와가티模範部落이되기까지 그들이努力하고 活動한一班을들고저한다\\n×\\n經濟의破滅을當하고 生活苦에 눈을뜨지못하든 그部落을運轉하고 指導機關이 되어잇는 興風會의事業中 美風멧가지를紹介하면 酒色雜技는勿論迷信打破、遊怠奢侈를嚴戒하고冠婚喪祭當時에는 酒草를全廢하고興風會員들이 自進出動하야喪輿와新婦와 新郞의轎軍을메인다하며 扶助는金錢이나現物로하고 主人側에서는飮食準備를하되 餠은一斗五升以內肉類는十斤으로 限定하야 前과가트면 最少限度로 數十圓까지드리든 冠婚喪祭儀式이엿스나 至今은 不可數圓金으로人間大事를 無難히擧行한다는것이唯一한자랑거리가 되어잇다\\n×\\n그러고그部落에서는 옛날부터 婦女들이養蠶을副業으로하야오든中 大正十四年十一月中에養蠶組合을 組織하고共同桑園四百八十三坪을 設置하야桑田栽培에힘쓰는葉의日을定하야그날은 組合員이總出動하야그里內의 桑田마다共同作業을하며用品、生產品共同購入共同販賣等을 斡旋하고 때를따라品評會도 開催한다는데이제그里內의養蠶戶數를 보면今年春蠶戶數三十戶、秋蠶戶數三十戶에서春秋蠶生產高가 四十七石二斗가량이며 그를時價로換算하면 八百四十九圓六十錢에達하는收入이된다',\n",
       " '新婦업는結婚式\\n結婚五日前新郞차저\\n『成年된뒤結婚하자』通吿\\n新婦는곳潜跡\\n【진흥】五일후이면 신랑(新郞)을마질 나어린아씨가 과감하게도 신랑자의집을 차저서\\n『우리들의 약혼을 부정함은  아니로되 아직나히어린즉 좀  더 성년(成年)이된후에 성례(成禮)합시다』\\n라는 말만을남기고 一시는그자최까지를 감추엇든 그야말로첨단적녀경(尖端的女性)이잇다\\n그주인공은 영흥군억긔면 룡호리(永興郡億岐面龍湖里)의정모(鄭某)의딸 정게화(鄭桂花)(假名)로서 지난十二일인 그의신랑을 마즐성례일을 압두고서 지난七일에 자긔의남편이될동면구만리 함모(九灣里 咸某)의아들인 함춘식(咸春植)(一五)(假名)을 차저서 인습(因習)에저즌 조혼(早婚)의불가를 력설하고서 좀더성년이된후에 성례하야 사랑의보금자리를 정하자는말만을남기고 그자최까지 감추엇슴으로 혼인날 얼마남기지안흔 량편에서는 이사실을알고자최를감춘 신부를 수색하는등실로 당황망조하야 그선후책을강구하든바 여하간 성례할밧게업다하야 신부업는 결혼식을거행하얏다고한다\\n이것이야말로 전고에업는 새로운 첨담적진긔한 사실인만큼모히는곳마다 이야기 거리가되여잇다고한다',\n",
       " '朝鮮女俗小考\\n(一)\\n金 秉 坤\\n우리는 부질업시 徃世의偉風울過奬하야 어린學生에게優越感을注入함으로써 能事를삼고저하는바아니로되 따라서 또턱업시自我의文化的價値를깍가어린弟妹에게 一種卑屈性을길우어줄까닭도업다 대개自尊이나 自卑가民族的自我의正禮를發見함에는 마챤가지로障碍가되는것인즉무엇이나 事實을事實그대로記錄하여야 할것임을우리는기피늣기는者이다 賤他自大로世界에 唯一한저漢人들이『君子國』(淮南子東方有君子國』)(古今注『君子國地方千里多木槿花』)이라善人(東方朔神異經)이라 大人(山海經大荒東經、大荒北經、海外東經)國이라한것도朝鮮이오 性急한魯仲連가튼이는 맨발로덤비려하든곳도朝鮮이다 남에게이러한美名을엇고 欽慕를바든理由│한두가지가아니겟지마는 世界가아직大朴을 하지못한 그時代에우리는 벌서男女의分別이嚴格하야外人의史書에까지 男女有別、婦女貞信不淫이다 함으로써人俗風을알것이다\\n夫  餘\\n夫餘는婦人이妒하면죽이고더욱妒를미워하야 이미죽은屍體를山上에두엇다가 腐爛한後에라야 本家에서차저가게되는까닭에 이以上에더한羞恥와罪惡이업는줄로 알더라\\n東沃沮\\n東沃沮에는 嫁娶法에女子가十歲에至하면 미리約婚을하고新郞의집에서 더려다두엇다가長成한後에 成禮를行하더라\\n(魏略)\\n挹 婁\\n挹婁婦人은 시집갈年齡에達하면 男子가머리에羽毛를꼬저주는데 自已의머리에羽毛를꼬저주는男子가 마음에滿足하면和平한빗을보여주나니 이러한後에라야 비로소婚姻을하게되더라(晋書)\\n高句麗\\n高句麗風俗에 女子가시집을갈때에 幣帛을밧지아니하나니만일밧는者잇스면 부끄러워함을마지못하더라(唐書)\\n百 濟\\n百濟婦人의 貞操는 生命으로도 밧구려아니하엿는데 그刑法에 까지도『婦女犯奸 沒入夫家爲婢』 (北史)라 하야婦女외貞操를國家에서도 끔직하게여겻더라\\n新 羅新羅婦人의禮俗은辰韓과相似하야 男子를對하지아니함으로써 禮를삼으니라(梁書)\\n婚姻俗\\n高句麗의婚姻은男女가서로깃버한然後에 다시父母의承諾을要한다함은 北史에잇는말이어니와 親迎의法制를行하지아니하고 男子가女子의집으로들어가는風俗이잇스니 시방우리말에『丈家든다』하는것은 실상高句麗의遺俗이다 句麗에서는婚約이되면 新婦의집後園에草間別室을짓고 新夫婦가 그別室에서同居하다가 生產을한後에라야 다시男子의집으로 들어가는것이定俗이라그럼으로 시방우리風俗에男子의宅號를 항상妻家所在洞名(即楊洞으로丈家를들엇스면『洞書房님』이라든지『楊洞生員님』이라든지하는것가틈이다)으로써불으는것도 다高句麗遺俗이다\\n新羅에서는  女子를婚姻할때에 新婚하는當日저녁에新婦가먼저舅姑를拜謁하고 다음에新郞에게拜하더라(隋書)\\n婚姻에잇서서도 時代마다그習俗이 서로不同하지마는 結局婦女가 男子의집으로들어가는것만은 古今이一般이다 비록高句麗에서 男子가女子의집으로 들어가는風俗이잇섯스나그 것도 生產後애는 마츰내家即新郞의집으로 들어가게되니 혹대릴사위라하는 特別한例外를除하고는 언제든지婦女가 男子의집으로들어가는것이定則이엇다',\n",
       " '結婚式前日에\\n新婦行方不明\\n집이 가난하야三十까지 못든장가머슴사러 모은돈으로 겨우약혼코\\n新郞은落膽코痛哭\\n【전주】전븍임실군(任實郡)하복면 장령리 리정선(李正善(三○)은 가세가 곤난함에딸하三十이 되도록 장가를 들지못하고 나무집고용사리를하야 돈백이나 저축하야 결혼식을 거행코저 혼처를 광구하든바 전주읍서정(全州邑曙町)소삼선(蘇三善)씨의 집에 몸을의탁한 박성화(朴聖和)의 장녀 옥진(玉振)(一六)과 약혼하고 지난 五일에 신랑집으로 더려다가 동六일에 결혼식을 거행하기로 단단약속한후 신랑은 결혼함에사미를부치고 식장과 음식모든순비를 하며 단꿈을 꾸게되엇는데 신부인 옥진이는 혼인 전날인 지난五일오전四시경에 그농리 十二세된 처녀를 더리고행방불명이되엇다는데 신랑 리청선은 결혼식을 거행코저 신부를 더리러 가 본즉 처녀가행방불명이되엇슴으로 이에 락담하야 대성통곡을하며 사방으로자저다녓스나 결국 종적을 알지못하얏다한다',\n",
       " '結婚十七日만에\\n新郞이結項自殺\\n피살의 혐의가 잇다하야\\n◇檢事가出動檢屍\\n【신막】지난十六일 해주지방법원서흥지청(海州地方法院瑞興支廳)패원검사(貝原檢事)는의사김찬두(金瓚斗)씨와 조서긔(趙書記)를대동하고 자동차로신게군마서면 신촌리(新溪郡麻西面新村里)에 출장하야어떤소년의시체를 해부검시하고 도라간일이잇다\\n이제그내용을조사한바에의하면 전긔주소에 거주하는 윤택순(尹宅淳)의장남 윤용모(尹容模)(一六)는 지난十일오전五시경에 자긔집행랑들보에 목을매고죽엇는데 해부한 결과피살에혐의가 능후할뿐아니라 장개든지十七일만에 일임으로 그의처손공부(孫公富)(一六)의배후에 흑막이나 잇지안흔가하고 공부의국부까지 검사하여보앗스나 처녀막이완전함으로 사건은점점미궁으로드러간다는데 그진전이주목된다한다',\n",
       " '新郞新婦를招待\\n客이宴會를排設\\n신랑다라먹는것은 구식\\n主客顚倒의尖端式\\n【평양】一九三一년도 저무는이때 평양에서一九三一식(式)새로운 첨단결혼이엇섯다\\n주인공은 조선로총 평양련맹(朝鮮勞總平壤聯盟)전 집행위원장(前執行委員行)김유창(金裕昌)씨 신부는 장룡순(張龍淳)양\\n이들은 얼마전결혼하야『스웟홈』을맨들엇는데 一체 결혼식을전페하얏다\\n이에 그의 동지 지우등 각방인사七十여명이 廿六일김씨의결혼축하식을 백선행긔념관에서 성대히개최하고 식 을필한다음 신랑신부뿐아니라 래빈一동까지 전부 함께 긔념촬영을하얏다\\n그다음 부외료정(料亭)봉황각(鳳凰閣)에 신랑신부를초대하야 성연을베플고\\n『우리가 두분의 결혼을 축하하는남어지 축의를 표코자오시라 하엿더니『신혼초』에다망사심을 불구하시고 와주서서 고맙습니다』식으로연회가잇섯다\\n잡가가면 매달녀야하고 심하야는 들너리까지 다라먹는일은 명년부터는 단연 구식에속하게되엇다',\n",
       " '花燭盛典擧行日에\\n本妻突現惹閙\\n안해두고 또장가들다가\\n◇新郞은毆打放逐\\n【김해】지난二十九일에 경남김해군 김해읍불암리(金海邑佛岩里)에서 장가온신랑(斯郞)이 처남될사람에게 매를맛고쫏겨간사실이잇다\\n신랑은 동군대저면 대지리(大渚面大池里)화전농장에서근무하는 리동백(李東伯)(二五)(假名)으로써三년전에 동면도도리(桃島里)박춘광(朴春光)박성녀(朴姓女)(二二)에게 장가를 들엇는데 서로뜻이상합지못하야 얼마전에치되는 박씨들 자긔집에다가 돌려보내노코 전긔불암리김자선(金子先)손녀김모(一八)에게 총각이라속이고 장가를들게되엇는데 처박씨는 이를알고도잠잠코잇다가 잔채날 혼례식장에달려들어 일대풍파를 일으키어 아모영문도몰르는 처녀의집에서는 이제야 본처가잇는줄알고 처녀의집안사람들은 달려들어 장가온리동백을 따려서돌려보냇다한다',\n",
       " '新郞을걸어\\n誘引罪吿訴\\n사랑의가정을 일우고자질혼한지 얼마되지아니하여서 이질혼에대하야 절대로반대를하든진긔(珍奇)의아버지박씨는그만사위되는리정진(李廷珍)을류인죄(誘引罪)로고소하얏슴으로정진은 뜻밧게경찰의 손에걸리어남원서(南原署)에서엄중한취조를밧고 필경유인죄로 전주지방법원검사국(全州地方法院檢事局)으로넘어가서 얼마동안취조를밧고무죄방면이되엇섯다한다',\n",
       " '新郞이문둥이라고\\n式마치자逐出\\n신랑은 작당하야 결혼강요\\n仲媒結婚의 喜活劇\\n【가야】중매인의 말만듯고결혼하게된 첫날 의외에도 신랑이 문둥병임을알고 단연 결혼을 거절하야 린근동리에 이아기꺼리를남긴 일이잇다\\n경남함안군 가야면 염사리김희호(咸安郡伽倻面苒沙里金熙 )의차녀 봉선(鳳善)(一九)이와농군 산인면송정리조홍규(山仁面松汀里趙洪奎)의차자무경(無景)(二五)과의결혼식을 지난三일오전十一시경에 김희호 집에서거행케되엿든바 호례식을 마치고난신부로부터 신랑이문둥병자이니 결혼할주업스며 부모의강제결혼을 절대거절한다하며 친적을시켜 신랑을쫏게되엇다 뿐만아니라 중매자인 동군가야면가야리(伽倻面伽倻里)리봉화(李奉化)를물러 문둥병신을 속이고 중매하얏다고 야단을처서도망까지하게한일이잇섯다\\n그날밤十시경에 쫏겨간 신랑이 동리사람남녀四十여명과 작당하야 각기곤봉등을들고 신부집을습격하야 혼인을 강요하얏스나 절대 거절을당하고 말앗다하며 일방으로함안군공의 여영환(余永煥)씨의진찰을바덧스며 신랑은신부집에 드러누어흔인을하지안흐면 갈수업스며 의사의공정한 진찰이 잇기까지는갈수업다하며 신부는 문둥병인과성한사람이 살수가업스니 빨리가라고 성화하얏다는데 일반은물론이오 린근동리사람은 누구나다신부의 쾌활한일을 보고녀장부라고 한이아기거리가 되엇다한다',\n",
       " '成禮前媤家가서\\n新郞回心을苦待\\n신랑이 약혼반대한다고\\n平南德川에넌센쓰劇\\n【녕원】덕천군덕천면 청룡리(德川郡德川面靑龍里)오모의장녀오○○(二九)은 지난二일에 호례식도 거행치안은 자기시가(媤家)인 평남녕원군 녕원면무곡리 김병희(寧遠郡寧遠面文谷里金秉禧)씨집에 처녀의몸으로백여리나되는대를 홋몸으로 가서 납페도 그만두고 례식도거행할것업시 가정에 종사하겟다하며 녕원군온화면(寧遠郡温和面)에 려행중에 잇는 신랑될김철기(金哲泝)의 도라오기를 기다리고잇다한다\\n이제 그내용을 조사한바에 의하면 작년음十월경에 김병희가자기아들 김철기를 평고보재학중(平高普在學中)에 두고 전기오씨에게 정혼을시켜 례식거행택일까지하엿든바 김철기는 동긔휴학중에자유결혼을주장하고그녀자를 직접보기건에는 질코성례치안켓다하고 부모의 허랑하에 녀자를 차저가 맛나본호자긔마음에는 맛지안는다하고퇴혼을한후 개학긔가되자 다시평고보에 나갓다가 지난三월에졸업을한후 집에 도라온 기회를 타서 전기김철기를 맛나보려 왓다는데 려행중에잇는 김철기가 도라오면 희극이연출될는지 비극이 엄출될는지 매우수목된다고한다',\n",
       " '結婚첫날밤\\n新郞이發狂\\n忠南廣川에서\\n【홍성】결혼일 찻날밤에 신랑이 돌연발광하야 방망이를두르며 닥치는대로 때려부시는등신부까지때려 혼수상태에 빠진일이 생기엇다\\n이는 충남홍성군 광천면옹암리(忠南定城郡廣川面瓮岩里)강배식(姜培植)씨의 장남 강묘득(姜妙得)(一八)이라는데 지난十八일에 동군동면 상정리(湘井里)방모(方某)의장녀(一七)와 혼례식을마치고 화촉동방에 호접의꿈을 꾸던바 그날밤十一시경에 돌연히 신랑방에서 一대소동이 일어나며 신랑은방망이를두르며 닥치는대로 때려부시며양복쟁이를 때려부신다고 발광을하얏다한다',\n",
       " '結婚未久에\\n新郞疑問死\\n외출한채 시체되어 도라와\\n警察은大搜索開始\\n【의성】경븍의성군 안평면도옥동못(義城郡安平面都玉洞池)에 타살의 소년시체가 지난一일에 떠서잇는것을 발견하얏다\\n피살자는 동동도옥바우(都玉岩)(一九)인데 얼마전에 장가든신랑으로 동四월三十일에 집을나가서 종일도라오지 안흠으로왼집안이 소동하고 차진결과전긔와가티 발견이되엇다\\n급보를섭한 의성경찰서는 다수의 경관이 현장에달려가서방금 수사중이며 사건은더욱긴장한긔분이보인다',\n",
       " '新郞殺害는\\n妻祖母所爲\\n손녀딸을 딴데 팔려는 술책\\n義城殺人事件後聞\\n【의성】긔보‖경븍의성군 안평면 도옥동(義城郡安平面都玉洞)옥도석의 둘재아들 태암(玉道錫二男泰岩)(一六)의 피살사건은신랑인만큼의문이중첩하든바가해자는 의외로 처서조모인동면신안동 김형규의첩 오분이(新安洞金衡圭妾吳粉伊)(五八)의범행으로 판명되엇다\\n김형규의 손녀 김갑선(金甲先)(一八)이가 옥태암에게재작년十월경에시집가서사는것을서조모되는오분이가 김갑선을 조흔데로 다시시집보내준다고 꾀엇스나 둣지안흠으로 오분이는가진수단을 다쓰다가 태암을강가에서 만나게한후 목을매여 강물에 밀어던저즉이엇다한다\\n이급보를접한 의성경찰에서는 정사법주임(鄭司法主任)이하 다수의수사대가 동五월一일밤에 당지에출동하야 극력수사중에 새신랑인만큼 세론이구구하다가의외로 오분이가 어대로가고 업는것에 단서를 어덧다한다\\n지난四일 오전二시경에 안동군 남선면 원림동(安東郡 南先面院林洞)김모의집에잠복하야잇는것을 의성서원들이가서 체포하야다가 취조하얏스나 전연부인하다가 필경 전긔사실을자백하얏다한다',\n",
       " '新郞집에가서\\n賣買結婚反對\\n금수가티 팔려갈수 업다고\\n明川一少女의哀話\\n【길주】지난二十一일 저녁에길주경찰서에는 꼿가티 피려는절믄처녀가 금수가티팔리는 시집은 절대로 갈수업스니 법으로 제재하야달라는 애소를하는눈물겨운 사실이 잇섯다\\n그는함븍명천군상가면연덕동(咸北明川郡上加面延德洞)천응봉(千應峯)의딸옥란(玉蘭)(一七)인데 아버지가 안병으로 오래고생을하다가 지난九월에 철업는가족들을남기고 이세상을 떠나고 말엇다\\n그가 세상을떠나 먹을획책이업섯슬뿐아니라 四년이란 긴세월에 온갓약을쓰노라고 걸머진약갑이 수백원에달하얏섯다 채권자의 독촉은 날로심하게되엇섯다 그의처 허(許)씨는온갓획책을 생각하다못하야 자긔의둘재딸 옥란(玉蘭)이를 지난□월에 길주군장백면도화동(吉州郡長白面桃花洞)림영화(林永和)(二三)에게 금五十원에 팔게되어그결혼식을 二十四일에 거행케되엇든바 전긔옥란은 닥처오는결혼식을 사흘압두고 지난二十一일 신랑되는 림영화(林永和)의집에가서 금수아닌이상에 팔려서 다닐수가업스니 나는절때로 이집에 시집올수업스니 잔치를 차리지말라고 대담하고도놀라운 선언을하고 그길로경찰에 호소한것이라는바 마츰그날은 장날이라 만히모힌군중속에서이러한 희비극이 연출하얏다한다',\n",
       " '說竪說橫\\n▲東京豫選에一、二着을 獨占한 우리의權、金兩君、世界의올림픽에 健脚의 第一步。▼文弱에지질린 朝鮮、그래도 歷史가 잇든지라、世界를向하야 이로부터 웨처붙일。▼一金五十圓에 팔린處女、婚宴三日을 앞두고 新郞집에가서『打倒賣買結婚』。▼여북하면팔앗스랴 마는 여북하면 反對하랴？\\n求乞도 集團的으로、뚜드러진現代風景！',\n",
       " '日本偵察機를\\n敗兵團이砲擊\\n爆彈으로結婚披露宴喜悲劇\\n急迫한遼西의情勢\\n【錦州十一日發電通】遼西의事態急迫에鑑하야 日本飛行機는昨朝偵察中 上溝附近에서 集結한 敗兵團 으로부터 盛히發砲하얏슴으로 日本飛行機도 應戰하야 爆彈을 投下하얏스나 右敗兵團은 附近部落에서 美人을拉去하야 結婚을强要하고 愛國以下附近의 馬賊頭目等을 招待하야 盛大한披露宴을 베풀고잇듯것으로 死傷數百名을 出하고新郞、新婦는 艱辛히 隣家에避하야 生命을扶持한 貌樣이다',\n",
       " '盛大한結婚式塲에\\n棍棒든本妻出現\\n본처를본가로보내고그새에\\n新郞新婦끌고警察에\\n【전주】 지난十九일 오후一시경에 전븍전주읍고사정(全州邑高砂町)六백七十번지신금례(申今禮)(假名)는 전주군봉동면구만리(鳳東面九萬里) 리병구(李秉求)(三○)와一생을게약하는 결혼식을 거행하는차제에 어떠한녀자가 곤봉을들고출현하야 활비극을 연출하는바람에 결혼식상은 수라장이되엇다는데 이제그자세한 내용을듯건대 전긔리병구는 본처가잇슴도 불구하고중매쟁이를 리용하야 본처가업다고 감언리설로 신금례와가티결혼식을하고저 본처를 친정인조촌면(助村面)으로돌려보내고결혼식은 비밀리에하다가 이를안본처가 달려드러 신부와신랑과 중매쟁이를끝고 전주경찰서(全州署)에가서 하소연을하얏다한다\\n그런데 동서에서는 본처를버리지말고 동거하라고하여 돌려보내엇다고한다',\n",
       " '新郞차저婚期延期코\\n婚日에新婦逃亡\\n◇신랑은 경찰에 수색원\\n廿歲前엔시집못가는會\\n【흥원】지난□□일 함남홍원(咸南洪原)에는 결혼식날 신부가 도망한 사살이 발생하얏다\\n홍원읍남산동(洪原邑南山洞)리주식(李柱植)(假名)의 三남리호덕(李 德)(一七)이 희현면방중리(希賢面芳中里)김홍도(金弘道)의장녀김강순(金姜順)(一七)과 약혼하고 혼인날을 지난十三일로정 하엿다 한다\\n그런데 하로는 신부될김강순이 신랑될 리호덕을 방문하고우리익나이가아직어리니한三년지나서 결혼하자고 교섭하엿스나 거절을당하고 도라갓다한다\\n그후 신랑집에서는 모든준비를 다하여가지고 혼인날인 지난十三일에 장가들러신부 집에간즉 신부는 도망가고 업슴으로 할수업시 그곳주재소에 수색원을 제출하엿다한다 수색원을바든 그곳주재소에서는 조사하여본결과 스무살먹기전 에는절대로 시집가지못한다는 회가그동리에 잇는것을 탐지하고서그회의 주모자되는 리길남(李吉男)외 二인의녀자를 검속하고 신부의거처에대하야 방금엄중한 취조를하고 잇다한다',\n",
       " '돈업는사람딸못준다고\\n結婚式日에新婦빼돌려\\n新郞은헛婚行만하여\\n돈업스면總角으로늙을世上\\n【신원】지난十四일 재녕군신원면 화석리(載寧郡新院面花石里)림창남(林昌男)씨의 장남규대(奎大)(二○)는 약혼하여 두엇든동군상성면수원리 리찬게(上聖面水源里李燦啓)의딸리성녀(李姓女)(一八)에게 로장가를들녀갓다가 장가를못들고 그냥도라왓다는데 그내용을 드른바에의하면 그들은삼년전에 자긔부모들의상의로 약호을하여두엇섯는데 지난가을에이르러 신랑측에서 성례를 재촉하엿든바신부측에서든 임의약혼은하여두고도 어떤곳의 황금의유혹을바덧든지 너무가난하여 볼것이업스나까 딸을내여 줄수업다는의사를 표시하엿다한다 그래신랑측에서는 즉일 당지재녕경찰서상성주재소 (載寧警察署上聖駐在所)에 설유청원을하엿든바당시경찰관의 설유로 지난十四일에 성례를 거행하여주겟노라고 시말서를썻다한다 신랑측에서는 그十四일을고대하여 모든준비를다해가지고신부집에갓섯스나 돈업는사람에게 딸을줄수업다고 신부의부모는 신부를꾀여 어듸로인지 종적을감초게하엿슴으로 당지주재소에 수색원만제출하고 그만쓸쓸히 도라온것이라한다',\n",
       " '婚日을압두고\\n新郞이轢死\\n두개골 분쇄된 불운의 사람\\n平壤自動車에犧牲\\n【평양】二十一일 평천리(平川里)철교부근에서 자동차와자전거의 충돌로 一명의륵사자를내엇다한다\\n가해자는 부내안전(安全)탁시 피해자는 부내산수정(山手町)김순창(金淳昌)(二三)으로서자동차는 동일오후 六시三十분경 병긔제조소를 향하야질주하든중 횡으로마조 자전거로질주하든김순창과 충돌 김순창은자동자 박휘에 짓눌려 두개골이분쇄즉사하얏다\\n가해자운전수리금섭(李金爕)(二□)은평양서에류치되엇는데어느편에 실책이잇섯는가함은 금후취조와연구에달렷다고한다\\n피해자 김순창은 二주일후결혼식을거행하려든 예정 이엇슴으로그가족이더욱 애통한다고한다',\n",
       " '新郞新婦가\\n警察署서會見\\n후취라고 말성이 생겨서\\n◇宛然한 結婚式塲\\n【예산】예산군 예산리(禮山郡禮山里)김상근(金相根)의 장자김옥산(金玉山)(二二)과 동군 동리 변인기(邊仁基)의 딸 정숙(貞淑)(一七)은 두달전에 약혼을하고四월六일에 예식을 거행한다고결정하야 모든준비를 하고 신부집에 사람을 보내엇든바 신부는 실랑이 재취임으로 결혼하지않겟다고 주창하엿는데 실랑측에서는 분개하야 즉시경찰서에고소를 제기한바 경찰서에서는직시 실랑과 신부기타 가족을불러서 화해를 시킨다고하야 예식장에서 만날 실랑 신부가 경찰서에서 만낫다고 구경군이 모여들어 완연이 혼례식장을 일우엇다고 한다。',\n",
       " '地方雜信\\n沙里院\\n◇無男獨女格인 沙里院邑電에서는 사위맞을생각도 않는데 西電에서는 請婚次 十一日에 또來沙云云\\n◇新郞인 西電이 來沙한댓자婚費不足을 奈何',\n",
       " '運動界動靜\\n▲黃乙秀君(올림픽拳鬪選手)은  職業拳鬪選手로 米國에 건너가  活躍하고잇는 徐廷權君의 姉氏  廷愛(二二)孃과 二十三日 午前  十時 順天邑 新婦의 집에서 結  婚式을 擧行한다고 한다。\\n◇寫眞은 新郞과新婦\\n▲河西아나운서歡迎會 京城 運動  記者 俱樂部發起로 今二十一日  午後 八時 蓬萊閣에서',\n",
       " '新郞十一歲、媤母虐待\\n二十一歲新婦自殺\\n영천 월곡동 못가운데 시체로\\n旱婚이낳은慘劇의實例\\n【대구】四일 영천군 지곡면 월곡동(知谷面月谷洞)부근 못가운데묘령미인의 시체가 떠잇는것을지나든사람이 발견하고 소할주재소에알리어소원이급행검시취조한결과 동면용게동(同面龍溪洞)六백二十번지이기출(李琪出)(二一)인것이판명 되엇다 한다。\\n기출은 지난二월 김암룡(金岩龍)이란 금년十一세되는 남편에게시집가서 살어오는 가운데어린남편은 이아기상대도 못되는반면에는 시어미의학대가 심하여마침내세상을 비관한끝에 투신자살한것이라한다。',\n",
       " '新郞新婦실은自働車墜落\\n六名이全部重輕傷\\n長淵郡邑後里의慘事\\n【장연】신랑신부를태우고 혼행하는 자동차가 다리에서 떠러저서 일행六명이 모다 중경상을당한 불상사가 잇엇다。\\n지난 二十一일오후 七시경에장연군 장연면 읍내리(長淵郡長淵面邑內里)이성호(李成 )는황제(黃第)七三三호 자동차에 장연면 선정리 신랑현원호(玄元)(二三)와 송화군 조령리(松禾郡鳥嶺里)김숙녀(金淑女)(一九)외 네사람을 실고 신랑댁으로 도라오든중 제동기(製動機)에 고장이 이러나 높이 十척가량이나되는 읍후리(邑後里)다리에서 떠러저 승객여섯사람이 모다 자동차와 함께개천으으로 들어가는동시에 중경상을 당하엿으며 그중에 후행으로가든김엿수(金汝洙)(五七)씨는자동차알에 치여잇는것을 동리사람들과 전기직공들의 구조로 겨우 끄러내엇는데 의사박헌식(朴憲植)씨의 말을 듣건대 매우많이상한모양이지만은 생명에는 별로관게가 없을모양이라 한다。',\n",
       " '納釆받어\\n襚衣지어\\n新郞의名譽毀損吿訴로\\n約婚處女自殺\\n【新郞病身이라고拒婚한까닭】\\n鳳山敬天에劇的事實\\n【사리원】황해도 봉산군 영천면 경천리(鳳山郡 靈泉面 敬天里)二백四十四번지 이필호(李弼好)(二○)라는 처녀는 약혼한 남편이 병신이란 문제로 결혼도 하기전에 고소사건이 발생된것을 비관하여오든중 지난 二十七일에그처녀는 자기형이사는 사리원북리(沙里院北里)노득룡(盧得龍)집에와서 그날밤에 양재물을먹고 자살하엿다 한다。 그 사건의 내용을 탐문하건대 그 처녀는금년 八월중에 사리원 구천리(沙里院駒泉里)안모(安某)(二三)란남자와 약혼을하고 남채까지 받앗든바 신부집에서 신랑이 음부가 병신이라고 결혼을 거절하는까닭에 신랑측에서는 분개하야직시 도립사리원의원(道立沙里院醫院)에서 검진을 받은 진단서를첨부하야 이필호와 그의 모친을상대로 명예훼손의 고소를 사리원경찰서에 제기한것인데 그 처녀는 자기의 장래를 비관하고 그와같이 음독자살을 한것이라 한다。',\n",
       " '未熟한性的關係？\\n◇結婚三日만에新郞을絞殺\\n十五歲新婦의殘忍한行動\\n【김천】호적상으로는 十二세밖에 아니되는 금년十五세의 어린신부가 결혼한지 三일만에 신랑을 죽인 참극이 지난 六일 김천군감천면 양천동(金泉郡 甘川面陽川洞)에서 발생하엿다 자세한 말을 듣건대 피살된 신랑은동리이상순(李相淳)의 장남진룡(鎭龍)(一八)이오 가해자는 진룡의 처 이순덕(李順德(一五)으로 전기 두사람은 三일전에 결혼하야연연한 정을 잇지못할때엿마는원체 전기 신혼부부는 아직나이어린터이라 부모의 명령에 복종하야 마음에 없는 결혼은하엿으나 신랑신부의 애정을 몰랏든지결혼한지 三일만에 만뢰가 잠든지난 六일오전二시경에 十五세된이 소부는 대담하게도 곤히 자는그 남편을 목을졸르고 음부를 댕겨서 현장에서 즉사케 하엿다 한다。 이급보를 접한 김천경찰서에서는 서원이 급거출동하야 범인을 인치하고 살해된 시체를 도립 김천의원에 운반하야 김천지청검사의입회하에 시체를 해부검사하고 범인을 심리중이라는데가해자도전신에 여러곳의 상처가잇는것을보아 전날밤에 신랑신부가 싸움을하고 그원한으로 그와같이 한듯도하나 일방신분는 아즉미숙한승적관게로 그리하지 않엇는가하고도 추측된다한다。',\n",
       " '新婦에게絞殺當한\\n新郞屍體再解剖\\n나이 어린까닭에 이러한 범죄\\n金泉本夫絞殺事件後聞\\n【김천】경북 김천군 감천면양천동(金泉郡甘川面陽川洞)이진롱(李鎭龍)( 一八 )의 처 이순덕(李順德)( 一五 )이가 그의남편을 교살한사건은 본보에 기보한바어니와피살된 시체는 도립김천의원에서해부하야 그결과를 김천지청 검사로부터 대구지방법원 검사국으로 보고하엿든바 해부의 결과에상위된점이 잇엇든지 대구부립의원해부과 전임 광뢰(廣瀨)의학박사를 출장시켜서 매장한 시체를발굴하야 재해부를 하엿는데 해성의 결과는 극비밀에 부치나 듣는바에 의하면 목을 졸르고 음부를 댕겨서 죽인것이 확실한 모양이라하며 범행의 원인은 가해자가 나이어릴뿐아니라 남편을 죽이고 극도로 흥분된우에 그 시부모에게 무수히 구타를 당하야 정신에 이상까지 생긴듯하야 취조경관의 뭇는말에 대담이 확실치못하야 요령을 알수없으나 그가정의 환경을 조사한 결과에 의하면 가해자가 시집갈때에 의복등속을 약소하게 가져갓다는 이유로 시모와 반목이 생겨서 시모에게 미음을 받고 겸하야 부부의애정이 없는고로 남편이보기실케되어 그와같은 무서운 범죄를 한모양이라 한다。',\n",
       " '早婚의弊害\\n놀낼만한少女\\n犯罪者의頻發\\n一\\n早婚의 弊害에 對하야는 이미本欄에서도 屢次 論評한바 잇을뿐만 아니라 또 우리 父老들도이 早婚의 個人的 및 社會的 害毒이 적지않은것을 漸次 께닷게된 結果로 最近 數三年來로는 早婚의 弊風이 顯著하게 减少되는傾向이 보이드니 무슨 理由와 어떠한 原因으로인지 昨年 부터는다시 早婚의 惡習이 盛行하게 되어 昨年一年間 法定 婚姻年齡에達치못한 男女 卽十七歲 未滿된男子와 十五歲 未滿된 女子의 結婚數가 總督府의 調査한것만 치드라도 三萬一千餘에 達한다고하는데 그 反面으로 女子의 犯罪件數 卽本夫殺害 或은 殺害未遂等의 犯罪件數도 昨今年來로 놀낼만하게 激增하야 最近에 이르러서는 所謂 本夫殺害 事件이 어느날의 新聞紙上 에든지 一、二件씩 記載되지 안는 일이 거의 없는 形便이니 이 얼마나 寒心할社會狀態이랴。 더욱히 日前 金泉에서 發生된 事件으로서 겨우十五歲된 少女가 所謂 結婚한지三日만에 十八歲된 新郞을 그熟眠하는 틈을 타서 絞殺한것과같은것은 참으로 이 朝鮮이 아니고는 꿈에 이야기로도 드러보기어려운 戰慄할 社會慘劇이다。\\n二\\n近來 朝鮮에서 頻發하게 되는本夫殺害의 事件은 所謂 夫婦間의 性格이 根本的으로 相異한것또는 一時的 意見衝突에 原因한것도 全然 없는것은 决코 아니겟지마는 그中에서도 가장 많은것은 大槪 女子는 이미 年齡上 으로나 身體上으로나 完全히 成熟하엿음도 不拘하고 男子는 年齡上 및 身體上으로 女子보다 훨신어리기 때문에 自然生長的 性的不滿으로 因하야 不知中 큰罪惡을 犯行하게 되는 모양인데 이번金泉事件은 그와 反對로 女子가너무 어리기 때문에 性行爲에 對한 一種의 恐怖로 因하야 그와같이 殘忍한 罪惡을 犯하게 된것이라고 한다。 어린 子女의 父母된이 로서 空然한 虛榮心으로 그子女의 婚姻을 대중없이 일즉히만 하려고 허덕이는 이들은 이러한 社會慘劇의 頻發함을 어떠케觀察하며 또는 무슨 핑게로써 子女의早婚을 辯護하려고 하는가。\\n三\\n二姓之合 으로 百福의 根源이되게 一家를 創設하려는 婚姻의結果가 도리혀 毛骨이 竦然할 慘劇을 演出시키어 天眞爛漫한 少年少女로 하여금 人間의 最大罪惡을 犯行케하야 個人的 으로는다시 건지기 어럽게 亡身敗家를하게 맨들며 社會的으로는 상서롭지못한 慘劇과 적지않은 損失을 當하게하니 이것이 果然 얼마나 矛盾된 愚行인가。 假使 早婚으로 因하야 그와같은 最惡의 悲慘事나 或은 離婚과같은 不祥事가 全然 發生치않고 百年和樂의좋은 結果를 나타내게 된가고 하드라도 大凡 婚姻은 一家를 創設하려는 人間의 가장 重大事인 만큼 그當事者인 男女가 年齡上 身體上으로 圓滿히 成長한이 로서相互의 性格에對한 長短點도 充分히 理解한뒤 에야 비로소 可히相議할 餘地가 잇는것임은 너무나 平凡한 常識的 理論임도 不拘하고 朝鮮의 父老들은 抑何心思로 自己네 子女의 將來不幸을 分明히 바라보면서 그 愛之重之 하는 子女를 不幸의 구렁으로 끌어 드리려고 애를 쓰는지 그理由를 了解하기가 매우 困難하다。그러나 우리는 그들의 區區한辯明을 드러볼 必要도 없으며 또는 구태여 드르려고 願치도 안는다。 그리고 다만 간절히 바라는바는 우리 父老들이 近來에 早婚으로 因하야 頻發하게 되는 여러가지의 社會的慘劇을 决코 泛然히 보지말고 直接 여러분 子女의 將來에對한 殷鑑으로 삼아 이早婚의 惡習에對한 낡은 觀念을一日이라도 速히 根絕 하라는것뿐이다。',\n",
       " '改正民刑法\\n草案檢討\\n婚姻制度\\n||屈出主義의弊害\\n【十】【一】\\n第四婚姻制度(一)\\n屆出主義의弊害\\n金正實\\n現行民法은 婚姻은 此를 戶籍吏에게 屈出하므로 効力을 生한다 規定하야 所謂屈出主義를 採用하고잇다。 그러나 이規定이 一般婚姻의 性質에 맞지않을뿐아니라 數千年傳來의 慣習에 相合치않으므로 民法이 施行된지 三十餘年을 나려오는동안에 民法이要求하는 婚姻을한것은 하나도 發見못하게되고 今後로도 亦是다름이없을것이다。 勿論規定自體는理論的일지 모른다。 卽 婚姻할때에新郞과新婦가 戶籍係에 出頭하야婚姻하는뜻을 屈出하거나 或은署名한申吿書를提出하는 風俗이一般에 行해지게되면 弊害라든지改正의 必要가 없어질것이다。 그러나 事實은 이와 相反되어 普通으로는 爲先婚姻式을 擧行하야夫婦關係를 맺은後 數個月或은數年을 지난後에 屆出을 하거나 또는全然屆出이없이 지나는것도 一二가 아님을 본다。 이現象은 所謂無識下層階級에만 잇는것이 아니고 學者나 法律家라도 다그런 것이다。 그러므로 法律그自體를 抽象的으로 硏究해볼때에는 理想的일지모르나 그것이 國民에게 遵守되지않고 同民生活과 全然相背되는故로 惡法이 된것이다。 이것이 事實上 現行婚姻法이許多한弊害를生하는 참原因인同時에 改正을 正當化하는데에理由도 되는것이다。\\n民法의 規定과 國民의實際生活가가 不一致하기때문에 生하는弊害는 무엇무엇인가。\\n一、內緣의 夫婦가 增加하는것이다。 完全히 婚姻式을 擧行하야當事者는 勿論 第三者나 世上이다그리알고 또 道德觀으로보아도正當한 夫婦일 사이가 다맛 屆出이라는 形式을 밟지않엇다는것으로 內緣夫婦로 取扱된다。 그數가幾十萬幾百萬이겟는가。 現在夫婦中 百이면百이 內緣關係를 맺은後에 屆出을해서 法律婚으로 되는것이라는말이 决코 過言이 아닐것이다。\\n二、다음은 私生子가 增加하는것이다。 男子의私的關係에서生하는 子女를 私生子도 取扱되는일은 或不得己한일이라하지마는 婚姻式을 擧行하야 道德이나 慣習上 正當한 夫婦로認定되는者들의 사이에 生하는 子女을 私生子로 取扱되게되는것은 法律이 잘못되엇기에 生하는 弊害가 아니랄수 없다勿論 私生子가 內緣失婦를 屆出하면 准正으로 嫡子가 되기는하나 한번은 私生子가 되는 것이다萬一에 擧式同居後 男女中 一便이 變心하야 屆出을 拒絕할때에는 兩者間에 生한 아이는 永久히私生者가 되고만다。 父母의 不注意라기보담도 法律이 國民의 婚姻觀에 適合못되는 關係로 罪없는 아이가 平生私生子로 取扱되게되니 이우에 더한弊害가 또 잇으랴。\\n三、相對者에게\\n平生토록씻지못할 損害를끼치는 일이많다。 아무리 떳떳하게 婚姻은하고 式은 치로누구나正當한夫婦로 믿고잇음에도 不拘하고 屆出이없는以上 婚姻이 成立되지않는것으로 看做하게되는故로 男女一便이 無道하게도 屆出을 拒絕하는때에는 相對者는一平生回復할수없는 損害를 입게된다。 判例는 婚姻豫約不履行者라해서 金錢損害賠償을 치르게는하엿지마는 事實上損害의 十分之一도 賠償못되고 또金錢으로 回復못되는것도 잇을것이다。\\n以上의 不幸에우는者 天下에얼마나 많을것인가 國民一般的으로正當한婚姻이라 믿은擧式이 法律上 婚姻으로 認定되지않는데에그原因이 잇음은 누구나 알게될것이다。 그러면改正法案은이에 對하야어떠한 態度를 取햇든가 그러고朝鮮의婚姻은 무엇으로 成立되든가？\\n改正案의事實婚主義\\n形式婚인 屆出主義에 弊害을感한改正案은 其要綱第十二婚姻成立의條項下에『婚姻은 慣習上 認定된儀式을 擧行하므로 成立되는것으로하야 其成立證明의方法을法律에定할것』이란 規定이잇다。\\n古來로 婚姻은 四大禮의하나로가장 鄭重하게 擧行되어나려와過度한費用으로 弊端을 生하기는햇으나 貧富間에 어떠한形式으로던지 儀式을 擧行한것이엇다。\\n朝鮮에잇어서는 古來로 이制度가 그대로 法規가 되어서事實婚姻以外에特定한法律婚이 잇지않엇고 그事實의有無를 登錄하는데 不過한公簿에記載가잇어 아무런不便을 느낄것이없엇던바 大正十二年七月一日부터實 施된朝鮮民事令에依하야 屆出婚으로 된것이다。 民事令第十一條第二項에『婚姻은 이를府尹又는面長에게 屆出하므로 其効力을 生함』이라는 規定에依하야 千年의慣例이엇던事實婚은形式婚으로 變更되게强要되어 아무리 完全한禮式을 해치럿다도 法律은곰조도 効力을 認定하지고않서나려오기十餘年을지난오늘에改正案이 事實婚을 認定하게되니 朝鮮의慣習을 再次法制化하는듯한感을 가지게하는바이다。 그러나改正案에對한 二三의疑 問되는點을 들어보려한다。\\n첫재婚姻儀式의不統一을如何히할것인가가 問題라할것이다。\\n『慣習上認定된儀式』은 무엇을말함인가 現行朝鮮의 代表的禮式이라할만한것은 朝鮮古來의式이그하나、宗敎式이 둘재요、所謂名士를 主禮者로삼은新式 이세가지를 들수가잇겟다。 이三種外에또 地方에따라서와 境遇를隨하야形形色色으로 다를것이고 또前記三種의儀式도 各各相異한것이나要컨대 兩人의成婚을 爲한 儀式을 擧行하는것만은 그骨子를 成하는것이다。 그러므로 其時代其地方에서 一般이 婚姻儀式으로認定하는形式을 좇아 擧行하엿으면 足할것이다。\\n何必古來의舊慣만 직히고새롭운形式을否認할아무理由도없으리라 생각된다。 그러나 同條도項(三)에는『第一項에依하지않은境遇에는 婚姻은 屆出에因하야成立하는것으로 할것』이라 規定하야 慣習에依한 儀式을擧行치않은 婚姻은 屆出로서 成立된다 하엿으니 말하자면 婚姻締結方法이울이 잇는셈으로 되는同時에 他面 法律婚을 認定하야 併立시커는것이 되는바이다。\\n둘재로는 家籍關係를 如何히할것인가가 念頭에 떠오른다。 現行法에는 屆出로 婚姻이 成立되는同時에 送籍이된다。 妻는 男便의家籍에들어가는同時에 實家의 家籍을 떠나게되어 夫婦同家의 原則이實行되나慣習에依한儀式에因하야 婚姻이成立된다면 婚姻은成立되어도 送籍의 手續을마추지못하야夫婦家를달리하게되는것이다',\n",
       " '早婚과迷信의問題\\n法律的解决이必要\\n一\\n朝鮮에는 아직도 早婚의 弊가많다。 祖父母가 죽기前『손주며누리』보기를 願한다고、또는 늙은父母가 還進甲을 앞두고『외 며누리』또는『망내며누리』보기를 願한다고 十五六乃至十三四歲의 철없는 어린 아이를 장가 보내는일이 只今도 그리 貴한 일이 아니다。 新郞이 이같이 나어리면新婦도 또한 그年輩라야 될것이지만 祖父母나 老父母가 다 며누리『귀염』을 땡겨 보기 爲한 것이 그 結婚의 目的 이므로 그『귀염』을 바처 드리기 爲하야 들어오는 며누리는 大槪 新郞보다三、四歲 乃至 四、五、六歲以上의 年上者인 것이 普通이다。 따라서 新婦는 新郞을 男便같이 생각지 않는 境遇가 많으며 十七、八、九期의 女子는 가장 感情에불리기 쉬운故로 現實의 不滿엔너머나 煩惱하기 쉽고 外部의 誘拐엔 너머나 沈惑되기 쉬운것이어서 때로는 무서운 犯罪를 覺悟하면서도 그 不合理한 結婚生活을 破棄、逃脫하랴하는것이니 그極端의例를 들자면 昨紙에 報道된 本夫及媤家族五人 毒殺事件과 같은 것이다。\\n二\\n『本夫毒殺犯』、이는 朝鮮에 獨特한 女性犯罪로서 朝鮮의 女性殺人犯罪의 約八十퍼센트를 占한犯罪니 이 얼마나 끔직한 일인가。 勿論 本夫毒殺犯中에는 早婚以外의 原因으로 出發된 幾個의例外도 잇을것이나 그 大部分은早婚에서 基因된것인바 이것으로보아도 早婚의 惡習을 打破하여야 할것은 贅言을 不要할 배다。\\n이같은 極端의 犯罪까지는 論外에 붙인다 할지라도 이 早婚으로 말미암아 夫婦不和 乃至家庭不和가 얼마나 많이 생겻을 것이며 蓄妾의 惡習과 兒孫의 餘禍가얼마나 助成되엇을 것인가。 少年少女에게 禁煙酒法案을 實施하는것도 勿論 必要한일이지마는 早婚禁止法案을 制定、實施하여야할것은 그보다도 더욱 緊急을 要하는 일이라 할것이다。\\n三\\n이 早婚의 惡習과 거의 併行되는 弊風이 또하나 잇으니 이것은累次 우리가 爛舌한바지만 許多한 良家의 後門을 뚜다리는 巫卜群의 存在와 그것을 盲信하는迷信觀念 그것이다。 當局에서는그동안 崇神人組合等을 取締하야巫卜群을 多少戰慄케 한일은 잇엇지만 最近 또다시 그正體가 暴露된 市內嘉會洞의 所謂『孔子님堂』이란것은 北村의 數많은 어리석은 婦女들의 大會堂이 되어잇다고 한다。\\n虐誕無稽한 巫女의 脆術을 믿어 運命을 善導하고 身數를 好轉시킨다는것을 바란다는者 먼저無知함을 憐憫치 않을수 없거니와 그 같은 迷信을 助長하고 欺瞞을 爲業하는 者를 그냥두고 본다는것도 决코 잇을수 없는일이겟다。\\n四\\n서울이라고 하면 朝鮮에서는가장 文化가 열린곳일지나 그 한복판에 오히려 그같은 迷信의 巢堀이 소슬大門집속에 儼然히 잇는 것을보면 文化의 뒤 떠러진地方에서야 더 말할것이 잇을것인가。 그러한 存在는 적어도 서울에서는 그림자를 감추어야 할것이니 于先 서울로부터 迷信堀廓淸의 模範을 보일 必要가 잇지않을가。 歷史를 짓는 人間으로서宿命論을 믿으며 努力으로 開拓할 幸運을 鬼神에게 바라는 이터문이 없는 생각！이야 말로 科學智識의 注入으로 斷然淸算하여야 될일이겟거니와 科學智識의注入이란 一旦一食의 일이 아니며 그로 말미암아 그들의 오랫동안 젖어온 迷信觀念을 完全打破시키기에도 不短한時日이 要求될것인즉 于先 그같은 觀念을 助成시키는 巫卜의 一切機關을없애버리는것이 當面의 課題다。 緩漫無統制한 矯風機關에一任하는 從來의 態度를 버리고 적어도 以上의두가지만은 法律的으로 問題의解决을 促進할 必要가 잇는줄 안다',\n",
       " '花燭盛典初婚夜에\\n新郞의去處가杳然\\n慘殺？一個月經過에端緖도못얻어\\n密陽郡下에稀有의怪事\\n【밀양】기보지난二월八일에처음으로 장가간밀양군 하남면백산리(密陽郡下南面栢山里)이종해(李鍾海)씨의四남 이광우(李光雨)(二六)은그파서리(巴西里)김차준(金且俊)씨三녀두리(斗理)(一七)와결혼하던 첫날밤에 신랑이우연히 문을열고 나간뒤에 우금한달이되도록 두집에서 아모리차젓으나 도모지종적이없엇으며 그소식을근일에야 들은밀양경찰서 에서도수일전에 실지조사를하고 四방으로 수색하엿으나 역시종적을찾지못하엿다 일반은 양주나무장사는죽은시체나 잇으나 첫날밤에나간신랑은 어디로 갓을까하고수수꺼끼같은 기괴한일이라고하야 밀양지방에서는 한이야기거리가 되어잇다고한다。',\n",
       " '男子專門卒業生‖\\n懇親會當日의印象\\n【二】||各人各色인 그들의 感想！\\n먼저 司會者徐恒錫氏로부터 感想談에對한 注意點과時間은 五分間이라는것을 通吿하고 이어演士諸君이 卒業學校의『가나다』順으로 登壇하야 感想을 말하게되엇다。\\n먼저 高商의 金鏞千君이 登壇하야 크도 적도 아니한 알맞은音聲으로\\n【上畧】朝鮮사람은 義憤이 퍽으나 적다。 나는 學窓生活할때\\n이것을 切實히 느꼇다。(中畧)하고 下壇하고 다음은 普專 尹基鳳君이 沈着하고 玲瓏한 눈맵씨로 登壇하야 또한 沈着、叮嚀한語調로\\n【上畧】우리는 무엇보다도 이時代 이環境 이생활을 徹底하게 理解하여야하겟다(中畧)이것을 徹底하게 理解하는同時에 一致團結하고 相互扶助하고協同精神을 培養하야 實社會의一員으로써 굳세게 싸워나가야될것이라고 생각한다(下畧)하고 下壇하니 그다음은 普專의李根榮君이 씩씩한 態度로 登壇하야 그리고極히 沈着한語聲으로\\n(上畧)여러해 근고하야 卒業狀을 손에 들고나서니 슬픔과 기쁨이 交差하야 그어찌할바를모르겟다(中畧)\\n우리는 政治的으로나 經濟的으로나 朝鮮社會의事情이 이를充分히 發揮하도록 되지못하엿으므로 그것은 어쩔수없다고하더래도 朝鮮의 文盲은 七十퍼센트나된다 이것을 退治할責任은 確實히 우리에게 잇다고생각한다(下畧)\\n하고 下壇하니 佛專 李台雨君이씩씩하고 緊張한 얼굴 極히 우렁찬 목소리로\\n하고下壇하니 藥專李容熙君이 活潑하게 登壇하야 그리고沈着히\\n(上畧)우리는 絕對로 굳센 意志를가질必要가잇다(下畧)그것은마치 獨逸의 宰相『비스맑』이『우리의 모든일은 鐵이오 血이아니면 안된다』든 精神과같이 우리도 鐵이오 血이 아니면안된다。(中畧)우리는 무엇이든지 굳센精神으로 對하지아니하면아니된다(下畧)\\n하고下壇하매 延專 李康宷君이愉快한 얼굴과 感慨한表情으로\\n(上畧)普校나 中學을 마칠때는先生과 同窓을떠나는것이 슬퍼서 눈물을 흘리기를 마지아니하엿으나 지금은 □리□ 눈물이말른다(中畧)\\n角帽를 벗는다고하여도 朝鮮의社會的環境은 너무나 切迫되어잇어 눈물이 마른다(中畧)\\n아까 崔麟先生께서는 우리들을아름다운색씨로比喩해말슴하섯으나 나는 우리들을 新郞이라고 생각하고 이社會를 女子라고 생각한다。\\n女子하나를 건사 못하는사람은이社會를 건질수없는 것이다。\\n(中畧)하고 下壇하매 醫專 蘇奎星君이登壇하야\\n우리에게는 三感이 잇다。 그것은 시원한것이 한 느낌이오 그다음 섭섭한것이 한느낌이오또기쁨이 한 느낌이다。(下畧)\\n라고 極히 簡單하게마치고 내려가니 世專 徐炯南君 씩씩한表情과 빛나는눈초리로 우렁차게\\n(上畧)옛날에 어느곳에 捕盜使令이 중을 잡아가지고 가다가하루밤 자게되엇다(中畧)그이튼날깨보니 捕盜使令은 머리가박박 깎이어잇고 長衫이 입히어저잇다。\\n捕盜使令은 말하기를『중은이곳에잇는데 나는 어디갓는가？』하고 소리첫다한다。 이와같이 우리는 實로 여러해 동안을工夫하엿으나 나라는것을 잊어버린것이다。\\n내가 처음으로 上京할때에 老士、鬪士가 되고저하던 그마음이 어디가고 醫師라는 職業을갖게되엇는가(下畧)\\n하고 率直히 그의感想을 털어내놓고 下壇하니 帝大鄭槿陽君이어여쁜 색시와같은 極히安靜한 態度로 약간웃으며\\n(上畧)우리는 우리社會에 對하야 갚을것이 많다。(中畧)電車도 割引으로하고 汽車도割引으로하고 甚至於 劇塲에까지라도 割引을 해서갓다。 우리는이러케 寬大하게받은 恩惠를이날에 갚기를 맹서치아니하여서는 아니되겟다。(下畧)\\n다음에는 齒專의 尹恩植君이登壇하야\\n三四年의 學窓生活을 마치고이제 實社會로 나가면서 느껴지는바는 하나둘이 아니지마는要컨데 나의 修得한바로써 最善을 다하야 社會에 奉仕하려하는바이다(下畧)\\n하고 끝으로 協神의 朴世光君이登壇하야 未來의 傳道人으로서의修練된 姿勢와 流暢한 語調로써나는 宗敎方面으로 나가서 이社會의 役軍으로서의 任務를다하겟다\\n하야 그抱負의 高尙하고 遠大함을 말하고 下壇한뒤에 一人의 自由登壇者가잇고 茶果로써 第一部를 끝내고 곧 第二部로 들어갓다\\n이懇親會는 미리부터 屢次報道한바와같이 順序를 三部로나눠第一部에서는 以上과같은 일을하고 第二部에서는 各校推薦特技를하고 第三部에서는 共同餘興을하기로 한것이다。 그러므로 이會合은 이제로부터 기쁨과興味의속으로 들어가게 되는것이다。\\n(繼續)',\n",
       " '新房에서逃走한新郞\\n二十日만에歸家\\n신부가 맘에 맞지않는다고\\n媒介結婚의餘弊\\n【밀양】기보 수수꺼끼같은 이약이 꺼리가 되어잇든 경남밀양군하남면에서 결혼당야새벽에 간곳없든신랑은 二十여일만에 발견되엇다。\\n지난二월八일에 밀양군하남면백산리(密陽郡下南面栢山里)이종해(李鍾海)四남광우(光雨)(二六)가동면파서리(巴西)김또준(金且俊)三여 두리(斗理)(一七)에게 장가간그날밤에 간곳이없어서 두집과경찰서까지 수사에 분주하든중 천만뜻밖에종적이 묘연하던신랑 이광우(李光雨)는 지난五일에 김해(金海)방면에나타나서 집으로돌아오게되엇다。  그원인을듣건데부모의말만듣고 장가를 가서보니한평생동모될신부가 마음에 들지아니하야 새벽에 그집을떠나 그와같이 종적을 감추엇든것이라는데 보기싫은신부는 신랑이없는것도 불구하고 신혼예식三일만에신랑의집으로 가서잇다는데 그두사람의장래가 또한의문이라한다。',\n",
       " '結婚式無期延期\\n式塲에本妻突現하자\\n新郞新婦逃走\\n본처두고 또 결혼타가 이런봉변\\n昨日 堅志洞에 넌센스一幕\\n서울 장안한복 판에서 만반의준비를 다하여놓고 친지백여명을 모아가지고 결혼식을성대히거행하려다가종말에본처에게발각되어 결혼식장에 뛰어드는바람에 식을 이루지 못하고 신랑신부는 코가 남작하여 가지고 어디로인지 도망하여 버린 한넌센스가 발생되엇다。\\n十三일 오후二시三十분경에 시내 견지동(堅志洞)八十번지 시천교(侍天敎)회당에서 현재 모관청토목과에 근무중인 전수남(全壽男‖假名)(二八)과 시내 모극장에서 입장권을 팔고 잇는 유봉히(劉鳳姬‖假名)(二十)두사람이모씨주레하에 결혼식을 거행하려고 정각시간을 기대리고 잇든중돌연 어떠한 여자한명이 나타나가지고 남자十여명을 끌고 결혼식장으로 침입하야 식장을 때려부스는 외에 일장 연설을하는 바람에 식장은 수라장으로 화하엿고 시천교안은 일대 혼잡을 이루엇다한다。\\n그여자는 전기 전수남의 본처김(金)모로 수년전에 전수남과결혼하야 시내모처에서 방금 생활을하고 잇음에도 불구하고 또다시 결혼을한다하야 그와같이 야료를 첫다는데 이바람에 신랑신부는 식장에 들어 오지도 못하고그를 피하야 어디로인지 도망을하면서 금일 결혼식은 무기연기라는 간판을 써붙이어 놓앗다 한다。\\n백여명의 친지들은 그대로 각각 헤여젓다하며 본처 김모와 김모의 집에서 끌려온 남자 十여명은 오후 四시경까지 결혼식장을직히고잇다가 식을이루지 못할것알고 돌아갓다한다。',\n",
       " '昌慶苑食口近况\\n알품고앉은丹頂鶴\\n新郞 맞는 麝香鹿\\n딸기르는 獅子와 得男할河馬\\n賞春客기두루는 珍禽異獸\\n◇봄은 또다시돌아왓다。 창경원(昌慶苑)의 상춘객이 작일만으로도 七천여명이 입장하엿다。\\n오늘의 일요에는 과연 상춘액이 설마나 몰여 올것인가。□□의봄을 질길곳은 이러니저러니 하여도 창경원 한곳이잇는것이 자랑이 아닐수없다。\\n이제 창경원에 오는손님을마지하는 여러 어엿뿐새와 웅건한 즘생의 변동을 이야기해 보기로하자。\\n◇그런데 최근에는 이곳에자미 스로운 이야기가 잇으니잔년七월『라이언』(獅子)이아들、딸、三남매를 나엇섯는데아들들은 불상하게 죽고 이제八개월이되는『사자아가씨』가그의 올아범이 죽은줄도 몰으고 천진란만히 물에 쇠사슬을걸고 원정에게 끌려 다니는것이다。\\n그래서 크는줄 몰으게 벌서큰개만하야 오는 四월에는 엄마 아빠사□□게로 다시 가리라 한다。\\n◇그다음 멀숙하고 쑥수러운듯한 하마(河馬)도 새달그믐께는 또 산고가 잇을 모양이라한다。\\n그러케되면 얼마전에 난 하마색끼와 지금것과 합하야 두머리의 어린하마가 물속에서헤염질칠것이다。\\n어쩐지 한마리의 하마색끼는동무없는 어린아가와같이 쓸쓸이도 혼자서 물속으로 물우으로 오르나리는 것이다。\\n◇또 어질고 점잖고 다리길기로 유명한 학(鶴)도 알을 나어 四월그믐게 안기여 三十三일만에 까면 학의 색끼가 두마리가 될 모양이다。\\n학의 색끼가 아장 아장 거러다니는것을 볼날은 오는 六월경이나 되어야 한다는데 학의색끼치는 일은퍽으나 자미스러운 일로 한달이오 또 사흘이되어야만 완전한 색끼가 된다는것이다。\\n◇그다음 처녀자잇는 사향사슴(麝香鹿)은 혼자 쓸쓸하게도 목책속에서 이리왓다 저리왓다 하고 잇다。\\n그러나 이 사향사슴도 오는四월에는 어진남편을 마지해올모양이다。\\n그것은 경의선(京義線)게정(鷄井)에잇는 이왕직 삼림보호구(李王職森林保護區)에서 지난겨을 사향사슴을 잡엇는바자미잇게도 숫사슴이엇다 한다。\\n그래서 이 숫사슴은 이 암사슴잇는 목책속에 동서(同棲)할모양이다。\\n◇다복한 창경원의 어엿쁘고새로운즘생이 이봄에 이외에도많이 오리라하니 서울의 상춘객을 위하야 저윽이 유쾌한 하루의 노름노리가 되기에 맛당하리라고□□ 사람들은 떠들고 잇는□□다。',\n",
       " '納幣物사가지고오다가\\n鴨江에溺死한新郞\\n신부의 비탄은 참아 볼수없어\\n結婚三日앞두고慘劇\\n【신의주】결혼을 앞두고 결혼에 쓸 물건을 사가지고 돌아오든길에 물에 빠지어 죽엄과결혼한청년이잇다｜\\n지난二十九일 오후一시경 의주군 위화면북하동(義州郡威化面北下洞)김성삼(金成三)(二三)은 결혼을 사흘 앞두고 납페물건을 사가지고 배로서 집에 돌아가든 도중 실족하야 압록강(鴨綠江)에빠지어 죽어다는데 이말을 듣고 달려온 신부｜｜신의주부외 마전동(麻田洞)나봉삼(羅鳳三)(一九)이신랑의 시체를 않고 우는 광경은목불인견이엇다고 한다。',\n",
       " '橫說竪說\\n▼標高는 仁旺山이오 工費는 五百萬圓이라고 于先 大綱이 决定되어▼京城府의 水道 計劃은案頭의 筆端에서 부터 氣勢가 大振。▼勸馬聲 높은 곳에잘란 新郞이 드믈다는 俗談과 같이▼先聲이 높은 일에 結果의 盡善이쉽지 않거니와▼氣勢의 大振이반듯이 實際 事業의 大成을 意味치 아니하는 것임은 百萬圓 工費로 버러지 貯水池를 만들어 놓앗든 京城府 故事도 이를 實證。▼해마다 膨脹하는 京城府로서、더구나 隣近 邑面을 編入하야 六十萬 大都를 꿈꾸는 京城府로서、飮水 供給에 體面을 잃어서야 漢江이 落淚할일▼貯水는 어찌하고 配水는 어찌하고、水壓은 어떻고 落差는 어떻고 等等의 技術問題는 學士 博士가 自量하려니와▼제발 흙물이 없도록、버러지 없도록、工事 團束에 一段의注意가 必要。\\n文化住宅에、文化饅頭에、文化衣걸이||。 當世의 流行語에 愛嬌가 잇을지어다、文化使節이 米洲로 歐洲로。\\n白人種 보다도 五倍나 增產 된다고 伊國의 무氏、黃禍論 再唱。質 보다도 數가 무서운가？',\n",
       " '新郞이三人\\n結婚式亂場\\n한딸을 세사람에게 팔은아비\\n金化에생긴奇怪事\\n【화천】지난二十일 금화군 임남면 수동리(金化郡任南面 水洞里)신봉섭(申鳳爕)의딸 여옥(與玉)(一九)과 동면 과호리(科湖里)주조업하는 모와 결혼식을 거행하는 식장에 다시 신랑 二명이들어와 혼례식을하고저 신부를끌어내려하므로 신부는 창문을뚫고 산중으로 도망을하는것을신랑도 이뒤를찾어다니든 히극이연출되엇다는데 내용은 신부의부모가 전기三인에게 돈을받고모두 허혼을하엿음이라한다。',\n",
       " '나치스의九標語\\n【伯林發聯合郵信】伯林全市의 到處、그리고모든新聞紙에는 最近다음과같은 나치스의標語가 揭載되엇다。\\n一、모든사람에게\\n우선 무엇이든지 일을잡으라、그러면너의 職業이스스로 찾어지리라。\\n二、靑年에게\\n장기를들고 들에나기일하라。\\n三、獨逸的少女에게\\n飮食맨들줄을알고 방쓸줄을알면곧좋은新郞이 오리라\\n四、勞働者에게\\n왼갖일을 놓지지말고 잡으라、그것이 國民의 피어날길이다\\n五、職業婦人에게\\n아무리좋은 사모소라도 네게즐거움을 주지는않는다。 네게정말옳은곳은 家庭이다。\\n六、工塲主에게\\n不平을말하는者는 靈魂을썩힌다。樂天家는크라리온의 소리와같이朗快하다。\\n七、主婦에게\\n너의時間을 너의男便에게 바치라。 될수잇으면 下人을두라。\\n八、農夫에게\\n나라가 艱苦하면 艱苦할수록 더욱더욱애써밭갈라。\\n九、官吏에게\\n繁文縟禮의 官僚主義는 現代에不必要하다。\\n萬人아 지금이야말로 寸時라도일하라。',\n",
       " '사랑엔 國境이 없다\\n思想에 共鳴된 國際 結婚\\n勞働服에집세기신은新郞\\n金髮新婦의華燭典\\n만일에 미스터 김이 나를 배척한다면\\n나는 조선을 위하야 한평생을 바친다\\n領事의勸吿로劇的結婚延期\\n부외신촌 연히전문학교『콘』교수사택에는 十일오후四시 국제사랑의 아름답운 화촉의 전을구경하려고\\n서양인\\n조선인 남자 여자가구름같이모엿섯다。\\n『나는 이미 미스터 김(金)의  것이다。 만일에 미스터김이 나  를 배척한다면 나는 조선을 위  하야 평생을 바치겟노라』\\n하는 비장한 결심과 포부를 가슴에 굳게 삭이고 수륙 수만리 태평양바다를 건너 조선의 산천을밟은 미국여성『데비스』양과 일즉미국에 六개년의 유학생활에서뜻잇는 사랑을 맞낫으나 표연히조선에 돌아와 세상은 모두 화려한 취흥에 춤추고잇는데 홀로\\n농촌에\\n돌아가 은평면(恩平面)백련동백련사(白蓮寺)절앞에 초가 오막사리를 손수짓고 감자밭을 파면서 농민들과같이 기거동락하며무식한 무산아동들에게 글을가르치고잇는 김주환(金柱桓)씨와의사이에 열려질 국제결혼의 극적장면이 열리게 되엇섯다。\\n『언더우드』박사의 추천 소개를가지고 조선에 왓으나 조선보담혼인법제를 달리한 아메리카\\n색씨가\\n되고보매미국령사관을거처 동경정부의 승인장을 가지고서 비로소 혼인이 성립되는것이라는 영사의 권고에따라 모엿던사람들은손을들이 두남녀의 행복을 빌고헤여젓다。 두사이에 맺어질 화혼의 성전은 수속이 끝나 즉시로일우워 질것으로 돋는이 보는이손꼽아 기두리고잇다 한다。\\n『글세 무씨 배추씨를 뿌려야  할텐데｜』\\n하고 노동복에\\n집섹이\\n를 신은 신랑이나 농촌부인의보통복색을차린 색씨가 두분다 둘러섯던 이의맘에 깊은 감명을 주고도남앗다。 그들의 장래가 조선의 땅우에 얼마나큰 발자욱을 남길것인가？\\n故國、父母作別코\\n大洋건너愛人찾어\\n영원한 조선의 흙이 되려고\\n飮食과 한글을 배워\\n『인정과 풍속 습관등이 다르  니 조선에나와서살수 없으리다  조선에오려는생각을 중지 하기  를 바라오』\\n하는 편지를 재삼 받고 미국에잇을때에는 조선의\\n사정을\\n자세히듣고서도가난과문명에뒤진조선을 찾아 사랑의 동이줄을향도로 노도를 격고 오기까지 그의조선에 대한생각은 어떠햇던가。\\n뉴욕대학 에서 김씨와 맞나 뜻과 사상의 공통된것을발견한 데비스 금발 여성은 언제나 길동무김씨를 따라 조선에 와서 고락을가치할 결심을 하엿고 그것을 여러번 말햇섯다。 그러나\\n미국과\\n조선사이에물질문명으로의 차이를 생각한 주환씨는 늘 그생각을고만 두기를 권하고하엿섯으나한번결심한 그생각은 조곰도 움지길수 없엇다한다。 김씨가 백련동에 농사를 짓기 시작한소식을 듣고서도 여러번 조선에 나오려는 생각을 하여서 최근에이르어서는 그들의 부모와 사랑하는일가친척을작별하면서 영원히 조선땅의 흙으로 화하기 까지 조선사람이되겟소하고서 떠낫다한다。떠나기전 두달동안에 그는 뉴욕에서 조선여자유학생과가치 자취를 하면서 조선\\n음식과\\n요리만드는법과 그것을 먹는것을 연습하고 의복짓는것과 예의범절을 배호는 한편 조선한글을열심으로 학습하야 지금은 말은모르나 자유로 쓰게되엇고 한문글도 익혀 주소성명은 넉넉히 자필로 쓰게되엇다한다。 그가 부산에 도착하기는 四일전으로 그를마중나간 김주환씨는 역시 노동복에 신은 집색이와 十전자리 맥고모자를 쓰고 조선땅에 첫발을드려노흔 부두에서 감격의 굳은악수를 교환하엿다。\\n나흘전\\n에 조선에나오게되기는 오날 十일이 그의 애인 김씨의 생일에해당하므로 간략하나마 뜻깊은이날에 그들의 백년가약을 맺으려고 햇던것이라고 한다。\\n神聖한結婚\\n國境이問題될수없다\\n延專 副校長 俞億兼氏談\\n이결혼에 대하야 연히전문학교유억겸(兪億兼)씨의 의견은 다음과같다。\\n국경을초월한 진정한 사랑이오신성한 사랑이라고 나는생각합니다。\\n혹 이 순결한 사랑에대하야 국경이 방해될 조건이 되리라고 생각지 안습니다。\\n남자되는이도 상당한학식과 고상한리상의 귀농운동자이오 녀자도 상당한 신학교출신이오 MA학위까지 얻엇고 또 상당한 중학교 교무주임이엇습니다。 양편의년녕으로 보아서도 三十이상의 자기비판을 가진 건실한 청년남녀입니다 어떠한 약간의 방해가 잇다하더라도 이는 훌융한 결혼이오 순결을 세상에서 보기드문 결혼인줄암니다。\\n幻想튼山川\\n明妙無比해\\n데비쓰孃 談\\n남들의 권고나 부모들의 만류도 모르는체하고 지위도 명예도헌신작같이 버리고서 국경을넘고민족을 초월하야 이산천을찾어온데비스양은 十일 오후 남대문안『쿠마베』호텔로찾아 조선 대한소감을물엇다。 신문반의 사진렌스에 들고서는 쾌활한어조로『조선을 처음봅니다마는 늘 그리고 꿈속에 그리던만큼 상상은 늘햇읍니다마는 풍광과 산천이 명미하고 사람들의 의복과 잘조화되는것 같습니다。 장차 어떠한포부를 실현시킬생각이냐고요 그것은 아직 말슴드릴수없읍니다。 미스터 김을 사랑하는것은 물론입니다』\\n하고 얼굴을 붉혓으나 점잔은 태도와 온후한 얼굴이 그로하여금조선사람의 맘속에 깊은 애착심을 가지게하엿다。',\n",
       " '儀禮凖則全文\\n‖十日附總督府發表‖\\n今般總督府에서 作成한 儀禮準則은 十日附로 發表되엇는데그全文은如左하다\\n婚  禮\\n一、婚姻年齡  男二十歲 女十七歲以上으로함\\n二、約婚  四柱(新郞新婦의姓名及生年日  時를쓴것)를交換함\\n三、涓吉  新婦家에서婚禮의日을 卜하야  新郞家에通知함\\n四、納幣  幣는靑紅二端으로함  主婚者(祖、父其他의尊屬親)는  別紙文例에準하야 納幣文을作  成하야 幣와한가지函에納하여  가지고 使者로하야금新婦家에  보내게함\\n新婦家에서는 使者를門前에서  마저應接室에案內함 使者函을  卓上에置하고拜禮함  主人은答禮하고 開封함  主人別紙文例에凖하야 回答文  을作成하야 使者에게授함  使者는이것을바더 新郞家에歸  함\\n新郞家에서는 使者를門前에서  마저 應接室에案內함\\n使者回答文을卓上에 置하고拜  禮함\\n主人答禮後開封함\\n五、醮禮\\n(一)塲所\\n가、新婦家\\n나、神社\\n다、寺院又는敎會堂\\n(二)儀式\\n가、新婦家에서 擧行하는데는左에依함\\n新郞은當日出發前盛裝(朝鮮服은周衣以上 和服紋附以上洋服은모｜닝以上)을하며 父母의座前에進하야 敎誨를밧고 雁夫를先頭로하야 親迎(新婦家에行하는것)의途에就함\\n新郞을男系尊屬親中一人이隨行함\\n定刻에新婦家에到着함\\n接待者門前에서此를迎接함\\n新郞은接待者의先導로控室에入하야休憇함\\n이동안에室의中央에交拜席을設하고卓上에酒果及合□杯를置함\\n新郞은接待者의先導로奠雁을行하고交拜席에就하야西로向하야立함\\n新婦는 當日出發前盛裝(朝鮮服은 襦、裳以上、和服은 裾模樣紋附以上、洋服은 웨 당드레스以上)\\n을하고 壽姆의 先導로 交拜席에 就하야 東으로 向하야 立함\\n近親者序立함\\n新婦再拜함\\n新郞再拜함\\n壽姆酒를 合 杯에 注하야 新  郞新婦間에 三回交換케함\\n新郞은 接待者의 先導로 新婦  의 兩親其他의 尊屬親에게 拜  禮하고 別室에서 休憇함\\n新婦는 이동안에 兩親의 座前  에 進하야 拜禮하고 敎訓을바  듬\\n新婦는 新郞의 先導로 于歸(新  郞家가는것)의 途에就함\\n新婦의 尊屬親中 一人이 隨行  할것\\n新婦의 兩親 及 其他의 親族은  門外에서 餞送함\\n定刻에 新郞家에 到着함\\n接待者 門前에서 迎接함\\n新婦는 接待者의 先導로 控室  에 入하야 休憇함\\n新婦는 接待者의 先導로正廳에  入하야 舅姑의 座前에 進하야  『見舅姑禮』를行함\\n壽姆質을舅姑에獻함\\n新婦는 拜禮後舅姑로부터 敎訓  을바듬\\n新婦는 接待者의先導로 正廳을  退出함\\n新婦는 接待者의先導로 新郞의  各尊屬親(舅姑를除함)의座前에  進하야『見尊長禮』를行함\\n新婦拜禮함\\n尊屬親答禮함(叔父母以上은坐  하야目禮하고 他의者는 拜禮로  써答함)\\n나、神社 寺院또는敎會堂에서  擧行하는때는 各各 그所定의式  에依함\\n五、祝宴\\n儀式終了後新郞의家庭에서禮賓  으로서 婚禮에參列한 近親者만  을招待하야 簡單한祝宴을 開催  함\\n喪  儀\\n一、臨終\\n病이 危篤에陷한때는 近親者侍  側內外를 安靜히하고 隕命을하  면 死者의身體及 手足等을 整  齊하야 辟戾함이 없도록함\\n二、喪主\\n長男(長男이없는때는 長孫이  此에 當함)\\n三、護喪(葬儀委員)\\n親族知舊中經驗이잇는 者가 此  에當함\\n四、訃吿\\n護喪者의 名義로써 親戚知舊에  게通知함\\n五、襲及歛\\n死亡한 翌日喪主及 近親者若干  人(男喪의境遇는喪主及男子、女  喪의 境遇는 主婦及女子)이□  內에서 死者의病衣를 除去하고  衾를 覆하고香湯으로써 尸體를  洗拭하고(浴巾을使用함)□衣  (幅巾『女는掩)充耳 幎目 握  手 衣袴 周衣『女는裳』襪)를着  케함\\n次에歛衾으로써 尸體를裏하고  棺에納하야 棺內의空에는 生  前에着用을充塡함\\n座、六靈\\n幃前에 靈座를設하고 紙榜또는  寫眞을揭함\\n喪主以下靈前에서奠禮(供物은  酒、果、脯로함)를行함\\n七、銘旌\\n絹、紬또는綿布를쓰고 杜은竹  또는 木으로써만드러 靈座의右  에立함 書式은左와如함\\n某官某之柩\\n八、喪服及喪章  喪主以下 喪에服할親族은 襲歛  終了의日로부터 喪服또는 喪章  을着用함\\n喪服은父、母、夫、妻、子(長  男)에잇어서는 相互間喪期中此  를着用함\\n喪章은 前記의者에잇어서는 服  期第一期中 其他의喪에 服할親  族에잇어서는 喪期及服期 第一  期中 此를附함\\n喪服及喪章은 左의制式에依함\\n(一)喪服\\n布(麻、木)素周衣(女는衣、裳同  頭巾(女는皀色唐只、黑角簪)\\n(二)喪章\\n가、朝鮮服 縱約一寸橫約二寸    五分의 蝶形結의 黑布를左胸    에附함\\n나、和服 同\\n다、洋服 幅約三寸의 黑布를左  腕에纏함\\n九、葬日\\n葬式은 特殊한事情이없는限 五  日以內에行함\\n十、永訣\\n發靷前永訣을行함\\n永訣은特殊한事情이없는限 喪  家에서行함\\n十一、發靷\\n發靷의時刻은早朝로함\\n靈柩는舊式의喪에依하는때는  呼唱을廢하고靜肅을守함\\n但自動車를使用함도無妨함\\n十二、穿壙及灰隔\\n靈柩到着前壙을鑿하고三物(石  灰、細沙、黃土)로써 灰隔을作  함\\n十三、下棺及成墳\\n靈柩墓地에到着하면銘旌의枉을  除去하야 柩의上에置하고 棺을  壙中에埋安하고 精土로써 墳墓  를造成하고 此에莎草를 植付함\\n十四、慰安祭\\n成墳後墓前에서行함\\n十五、虞祭\\n返虞後靈前에서行함(但一回에  限함)\\n十六、上食\\n喪期中은朝夕上食을供함\\n十七、朔望展拜\\n服期第一期中은每月一日 十五  日喪主以下家族은靈前에展拜함\\n十八、小祥及大祥祭\\n喪主는服期第一期滿了의日에小  祥祭를지내어靈座를撤하고第二  期滿了의日에는大祥祭를行함\\n十九、吊慰\\n吊慰者는喪家에到着하야哀悼의  意를表함(哭을廢함)\\n또生前에親交가잇는者는靈前에  拜禮함\\n二十、喪期及服期\\n喪期中은至哀至痛의意를가지고  特殊한事情이없는限業務를廢함  服期中은華飾農樂을謹愼함  喪期及服期의期間은左記에依함\\n記\\n從來의喪期   改正期間\\n喪期    服期\\n第一期 第二期\\n三年 十四日 一年期年 十 日百 日同九月 七 日 五十日同七月 七 日 五十日同五月 五 日 三十日同三月 五 日 三十日同\\n從來의期間으로부터服期第一期로日數를控除한殘期\\n從來의喪期는別表와如함\\n喪期及服期는死亡의日로부터起算함(未完)',\n",
       " '紗帽官帶十雙鴛鴦\\n一堂에서華燭盛典\\n순조선식으로 비용은三十원\\n江西珍結婚行進曲\\n【기양】한지방의 신랑신부 二十명 즉열자리의 결혼식을한날한시한곳에서 한목사님의 주례로거행한진기한 사실이잇다 이것은그지방에서 결혼례식비를 절약하기위해서 규모잇게 지낸사실인데사실은 강서군잉차면고장동(江西郡芿次面高昌洞)에서 지난二十三일오후二시에 十조(十組)연합결혼식을 거행하야 정각전부터각지에서모혀든 관중은 실로립추의여지가없어 三천을넘엇다는바 시간이되자 주레목사변봉조(邊鳳朝)씨가등단하고 숭전음악대(崇專音樂隊)의장엄한주악리에 사무관대를하고 순조선식으로 차린열쌍의신랑신부가 입장하야 식은진행되여내빈제씨의축사 축전피로등이 잇은후 매조에서 절약한 혼비三十원식을합한것으로 내빈에게 一대축연을열고도 불소한금액이 남엇다는바 그잔액은 전부동리유리사업에 충당키로 되엇다한다。\\n新郞 龍岡郡瑞和面自福里\\n新婦 江西郡芿次面 三里\\n大同郡南串面碧只島里\\n江西郡芿次面 三里\\n龍江郡池雲面眞池洞\\n江西郡芿次面 三里\\n大同郡古平面 車里\\n江西郡芿次面 三里\\n大同郡龍山面大接里\\n江西郡芿次面 三里\\n朴永엽二男    朴順福君\\n金仁賛三女    金正默孃\\n李應善長男   李鳳瑞君\\n楊貞河三男   楊誠淑孃\\n徐化淳三男   徐聖燁君\\n金日魯長男   金允實孃\\n崔明涉長男   崔秉牧君\\n金養魯二女    金永福孃\\n康元哲長男    康雲澤君\\n金弼魯二女    金得善孃\\n江西郡芿次面  三里\\n大同郡龍山面 下里\\n江西郡芿次面 三里\\n大同郡龍山面 下里\\n江西郡芿次面  三里\\n大同郡古平面金泉里\\n江西郡芿次面 三里\\n大同郡龍山面 下里\\n江西郡芿次面三里\\n大同郡大同江面斗團里\\n朴鳳翰三男    朴東玉君\\n康夏煜長女   康賢淑孃\\n金命均長男   金鎔克君\\n康斗煜二女    康三德孃\\n李養穆長女   李烱植君\\n朴基孝妹弟    朴基正孃\\n金秀樟長男    金能錫君\\n崔能三長女   崔信主孃\\n李夏正長男   李健益君\\n金舜基妹弟   金淑烈孃\\n九面에九班組織\\n參加組員七百名\\n이번사건 검거에 눈을크게뜨게\\n한것은 실로 그들의 운동방법이교묘한데 잇는 것이거니와 지도분자들은 심산유곡에 사람들의 춤입이없는 은밀한곳을택하야 굴을파기도하고 금광을파다버린 페광등을 이용하야 때와 경우를따라 임기응변으로 본부를 이곳저곳으로자유로 옴기게하엿으며 十二개암굴에는 낫(鎌)곤봉등를 비치하야 만일의 경우를 방지하게 되엇다 한다。\\n제一차정평농조의 검거선풍을고묘히 벗어난 이재필한태련(韓泰連)전정현(全正鉉)등 농조간부들은 소화六년一월이래의\\n대검거사건으로 정평군내의 모든사회운동이 침체상태에 잇엇으므로 이쇠퇴한 기운을 완화하고저 지하운동으로의 농민조합재건을 도모하고저 七년六월에정평군귀림면 내동리(歸林面內洞里)한승렴(韓承濂)의 방에 비밀히회합하야 정평농조재건위원회를 조직하야 정평군一원을 남부(南部)중부(中部)북부(北部)등三부로구분하야\\n▲南部韓承濂▲中部李載弼▲北  部全正鉉\\n이상과같이 각각자기구역의 책임을맡어가지고 은밀한가운데 적극적으로 적화운동을 전개하야정편군서 九개면중  府內面、長源面、歸林面、文山  面、廣德面등五개면에 지부(支部)조직을 완성하고  朱伊面 春栖面 宣德面 高山  面등四개면에는 지부조직이거의 완성되어가는 도중에검거된것으로 이상 五개지부에는각기반을두어  府內支部｜六班  長源支部｜五班  歸林支部｜四班  文山支部｜六班廣德支部｜四班등二十五개반을 조직하야 七백여조합원을 획득하고 그들에게 좌익사상을 고취하야 농민적화의실제적훈연을 하는一방  府內支部｜三班  長源支部｜二班  廣德支部｜六班  歸林支部｜三班등十四개반을 조직코저 준비중에잇엇으며 각반에는  靑年部 少年部 婦人部 救援部  組織部 爭議部 宣傳部 敎養部등八부를두어 활동하든것이라 한다。',\n",
       " '夫婦新行中\\n新郞이被逮\\n신부만신랑집으로 돌아가\\n木浦에이러난事件\\n【목포】무안군 비금면 수대리(務安郡飛禽面水大里)에 거주하는 박준동(朴俊同)(三二)은 목포부연동(木浦府 蓮洞)김게월(金桂月)(假名)(二○)과 결혼을하고 자기의 거주지 비금으로 가려고 지난달 二十八일 오후三시경 발동선(發動船)을 타려다가 신랑은목포서(木浦署)、신부는 신랑집으로 간일이 잇엇다는바 신랑 박준동)은 지난달 二十四일 동리김장정상점(金壯定商店)의 주문서(注文書)와 인장(印章)을 위조하여 목포부 복산정 윤상천상점(木浦府 福山町 尹相賤商店)에서五十三원가격의 포목을 사기판매한 사실이 판명되어 그와같이 신방행을 유치장행으로 방향을 밖우엇다한다。',\n",
       " '新郞탄自動車\\n汽動車와衝突\\n승객 七명이 중경상 입어\\n淸州初有의交通事故\\n【청주】신랑태운자동차와 기동차가 충돌되어 二명의중상과五명의 경상자를내인 교통사고가발생되엇다。 지난十八일 오후八시三十분 청주영정 철로『후미끼리』에서 청주읍(淸州邑)보은자동차부(報恩自動車部)소유자동차 충북제三七호가 신부집 이경일(李敬一)씨집에서 신랑을다르랴든손님八명을태운 전기자동차운전수 정수암(鄭壽岩)(二十)은운전하야화성관(華盛舘)요리집을 향하든도중영정(榮町)『후미끼리』에서 때마침 조치원에서 청주를향하고질주중의 조철기동차와충돌되어 전기자동차는 길까에전복되어 승객중二명이 二주일을요할 타박상을받고 다행으로 신랑과운전수만은별관게없다는데 전기중상자 二명은도립의원에 입원치료중 이라고한다。',\n",
       " '結婚詐欺에\\n新郞만헛물\\n【신의주】 一백원의 선페금을바치고 결혼날 신부맞으려신부의집을가매 꿩구어먹은 자리로 신부는커녕 신부의 가족조차 없엇다는『넌센스』一막。\\n부내 미륵동(彌勒洞)김용근(金用根)(二五)은이게신(李繼信)의 알선으로 동동이태식(李泰植)의 딸이소저(李小姐‖假名)와약혼하야선페금 一백원을주고 결혼의 단꿈을그리고 잇다가 七일결혼날사모를 쓰고 말방울소리도 요란하게 이태식방에갓으나 이태식이잇던집에는 전혀알수없는 딴사람이잇을뿐으로 신부는 물론 신부가족도없어 그때에야 결혼사기에걸린것을알고 신의주경찰서에 신고하엿다。 동서에서는목하사건을조사중이라한다。',\n",
       " '新郞달아迭蕩遊興타\\n春宵、鐵窓에새우잠\\n이런惡習을 徹底히 團束코저\\n警察도嚴重處罰方針\\n남의결혼식에 신랑을 다러먹는다하야 무리로 신랑을 요리집에모라너코 만흔돈을 소비시키는악습이 종종잇는데 二十九일에도시내 안국동(安國洞)적봉사진관(赤峯寫眞舘)주인 김팔용(金八龍)의 결혼식에 여러무리가 시내공평동(公平洞)태서관(太西舘)에서 기생 이화(李花)임춘심(林春心)곽영선(郭英仙)전록주(全綠珠)등을 불러 질탕히 유흥하고이를 신랑에게물리려다가 뜻대로되지아니하야 태서관에서는 종로서에 고발하엿으므로 전부 종로서에 무전취식으로 인치되엇다。\\n종로서에서는 이러한 악습관은금후없도록 철저히 단속하기위하야 엄중처벌하리라는데 검거된사람들은 다음과같고 도주한四명도더욱엄중히 처벌하리라고 한다。\\n▲淸雲洞一○七朴明源(三三)▲西  大門町二丁目七二朴源轍(三十)▲  寬勳洞一四二崔秉 (二五)▲壽松  洞一三六李旻熙(三十)外四名逃走',\n",
       " '結婚前日에\\n情郞과逃走\\n연산에바람마진 처녀의행실\\n新郞집은一大騷動\\n【연산】지난 二十九일에 논산군 연산면연산리(論山郡連山面連山里)강신용(康信用)의 누의 강봉례(康奉禮)(一八)와동군양촌면신양리(陽村面新良里)권만석(權萬石)(二六)은 철석같은 백년가약을매진이래 지난二十九일이 결혼식이므로 신부의집으로 장가를간즉전기 강봉례는 동리에사는 정부이함응(李咸應)(二四)과 二十八일밤에 어느곳으로 출가하엿다는바신부가에서는 一대센세이슌을 연출하엿다고한다。',\n",
       " '說竪說横\\n▼新郞 姜君과新婦崔孃의 이 거륵한 생각을 보소▼婚禮費用을 주리고 아끼더니 마침내 四百圓을 培英學院에 寄付。▼장가들고 시집감을 누가 人生의큰기뿜이 아니라하리요마는▼그기뿜을 社會와같이 노는사람이 그 몇몃이드냐。 ▼豪奢한 치장과 盛大한잔치로 家族 知友들과는 기뿜을노늘줄 알되▼그뉘 그기뿜을 이社會와 노는者 잇드냐。 ▼四百圓이 만허서 기뿜이 아니라 單四分錢이라도 먼저 그 거륵한생각과 고마운 마암에 고개가숙어지지 안흘수 없다。 ▼培英學院은 어려운 子女들의 學院。▼하필 이學院에 그돈을 마껴야되겟다고 생각한 그두사람의아람다운 聰明！▼사랑과 幸福의 神이 잇거든 이두사람머리우에 그 사랑과 幸福을 이슬비같이 늘 뿌려 주소서。\\n○\\n『스포츠』의 季節이 왓소|『이겨도 正道로、저도 正道로』를再記憶할 季節이 왓소。',\n",
       " '山 谷 의 手 帖\\n(一)\\n江原蓮에서\\n金     時     昌\\n어머님。\\n放學뒤에도 讀書에나 熱中하야그곳近海岸에 남어잇을랴고 혼자속다짐을 단단히하고 잇엇지만마즈막試驗이 끝나자 한時間後에는 어느새에 벌서革鞄를끼고 停車塲에 나타난 나엿습니다。\\n선둥거리며 行李를 꾸민다。 땀을 내돋기며 뻐스를 따러간다 時間도 넉넉한데 出札口로 小荷物取扱所로 空然히 서둘며다닌다|||等。 나는 그다음瞬間 車에오른뒤에는 얼마나 이것을 혼자웃고 나의『性急』을 미웁게 생각하엿든지모릅니다。\\n하나 역시 나는 關釜連絡船의混濁한 雰圍氣속에 떠서 총기일흔 눈을 괴로이 떳다감엇다 하면서는 이러케 觀念하엿습니다。\\n『나라에돌아감에 우리는無論理다』。\\n그리고 무엇보다도 내옆에 웅쿠리고 끙끙呻吟하든 折骨되엿다는 팔을메인 朝鮮人勞働者가 아픈팔을 부등켜안고\\n『한절반은 왓능기오？』하고 또다시 물을때는、더욱더切實히 나는 歸國哲學의 眞理를 確信하는것이엇읍니다。 그는 金海故鄕에서 出奔渡東三個月만에 八幡鐵工塲서 팔을꺾고 親戚들까지離散하엿으리라는 故鄕에 도라가는것입니다。 그는 두번세번 끈끈하게 배의 入港時刻까지묻습니다  어머님。\\n前日 누이동생의 片紙에依하면病患을얻어 苦痛하신다드니 日間은 어떳읍니까。\\n나는 새벽에 釜山을 떠난 特急車가 낮에 京城에다헛을때 下車할것인가 안할것인가를 决斷하기에 한참을 苦慮하엿읍니다。 그냥 내달려 故鄕까지 갈가하는 誘惑과 어머님께 速히 뵈읍고 싶은생각도 만히잇엇지만 그러기에는나는 너무도 勇氣와 豪膽을 갖지못하엿읍니다。 내마음의 煩悶과괴로움을 장사지냄에 그淸楚와素樸을 感受케하는곳 오직 江原道가 엇다고 하엿습니다。 그곳에는親愛하는 家兄이 또 귀여운 어린족하애들이 나를 반길것이며 사랑하는 동모 R도 잇어 내 옴을理解하여 줄것입니다。\\n나를 가르키고 나를 꾸짖고 나를 붓도둡는 故國의 山谷땅에 찾어싸다니며 自然에서 동모와 사랑과 偉大한 敎師을 찾어 웃고울고 하소할때 그割然한 心象이필시 나를 모든 괴로움에서 건저주리라｜。\\n어머님。\\n드디어 江原道에 왓습니다。 달이 바뀌여서나 그곳에 가고저 하매 하로 한時를 손꼽아 기다리실어머님앞에 빨리 못나서게 되옴이 罪스럽사외다。\\n이제 이山谷의 手帖에서 멫가지 拔萃簡記하여 어머님의 寂寞하심을 慰勞코저 하오니 나의 본것、들은것 等、사랑하는 누이동생아 母親께 읽어드려라。\\n1、自動車\\n自動車는 한낱의 試驗管이다。그것은 그곳의文化性 地方色 또는 生活基準等을 담는다。 누구나 京春街路를 탄사람이면 乘客에日本人과 갓쓴사람이 만코 行路가 險峻한것을 본다。 동모R은運轉手君의 帽子를 指摘하야 서울보다 春川은 五年이 떨어젓다하엿다。\\n아직 눈녹지안은 大嶺을 오르고 山峽을 뚜루고 或은 발밑數百尺아래에 漢江의 上流를 굽어보며 달음질칠때 소름이 끼처 喊呼失色하든乘客들은 어지간히 疲勞를 느낀뒤에 이同乘客들의 樣姿를 두루살피고 또다시 隱然驚愕할수도 잇는것이다。 都市에서 길러난 初行者에게는 더욱 그럴것이다。\\n여기서 나는 春川으로부터 麟蹄에들어가는 乘合自動車의 손님을 斷面圖속에 집어너으랴한다。\\n조악돌같은길을 車는 뭇척痙攣을 일으키며 내닫는다。 앞줄에앉어서 여태껏 金鑛이약이로 재절거리든 日本人들의 間投詞가沈沒하자 이번은 꽁초를 피어문 어떤酌婦의 코ㅅ노래가 까스내음새와 품겨뜬다。 이 따금씩 運轉手君과 淫蕩한 弄言을주고 받으면서 삐악삐악 하는소래로 江原道의 野趣를 돕는 도라지打鈴을 或은 멫十年前의 古色蒼然한 日本流行歌들을 노상天然스렵게 부른다。 『草津節』을 귀에흘리면서 나는턱없이도 쉬니츨러의『소경의제로니모』가 이런길가에서나 노래를 팔엇을가고 생각하며웃엇다。\\n그러나 이女子의 등뒤에서 눈쌀을 지프리고 앉은 道學者然한老人도 나는 默殺할수는 없다。그는 서리앉은 머리우에 갓을 올려놓고 수염을 馬占山式으로 갈러부첫다 얼럭얼럭 물감이 고루못든 회색 휘주근한 겹주의를 입고(필시色衣裝勵의 餘紋이리라)긴長竹을 물엇다 내가 조심스럽게 때때로 물음이 잇을적엔 맥없이도 그威嚴끼는 문허지고 다만過去의 苦楚가 새겨잰 顏色이 가비엽게 莞爾하며\\n『암 죄다火田이지유 會社山이지유』한다。 昭陽江을 새에 끼고 兩側으로 屏風처럼 욱여든 높은山에는 손벽만한 밭들이 層대를 지어감아케 올라가잇엇다。\\n車가 內坪里까지 달음질첫을때색다른 乘客셋을 우리는 맞이 하엿다。 새로올라탄 새옷입은 두中年사내와 年少한女子(十六歲나되엇을까)하나는 잔채에 가는 모양이엇다。 큰 보퉁이를 실려안준다느니 달라느니 爭論을 할때『잔치를 못하면 어떡하오』하고 哀願하는것을 보아도。 넉자가웃이 겨우될까한것이 머리를 기름 발러쪽찌고 눈섭을 짓고 더덕분을 바르고 조심스러히 병아리처럼 수구리고잇다。 은행색 덧저고리를입고 치마는 다홍。나는 그옆에부축하듯이 늘어붙은 검은 투박한 얼골 둘을 번갈아보며 어느것이 後行이고 어느것이 新郞인가고 疑訝하엿다。 그러나 自動車가 三十分假量더달리자 突然 車가 停車되므로 窓밖앝을두리번거려보니 그곳은 山비탈의 路傍의어떤倭少한 破屋앞이엿다。 新婦맞이하는 집모양으로 울바주안에는 女人네들이 대여섯모여앉어서서성거리고 어린애들이 뫼밀적떡(지짐)같은것을쥐고 뛰여나온다。新婦은 헝겁을 끄내여눈물을씻으며끌려나리엿다。 이때나는앞윈도｜끄래스를 通하야 車앞두서너間쯤떠러진곳에 나의 豫想과는 엉뚱하게도 틀리는 새新郞이 기웃거리고잇는것을 發見하엿다。 十三四되여보이는 樵童으로 보래빛관복에 싸여 왕갓을쓰고 남빛토시를 끼엇다。\\n그의얼굴은 면구스러운듯 하면서도 목을 느려엿보고잇다。 配偶者의姿態가저윽이궁금된모양이다\\n車는 먼지만 끼얹고 또달어낫다。 벌서楊口郡이라한다。',\n",
       " '横說竪說\\n▼慶事도 만흘시고、하루ㅅ동안에同體된 異身이 二千도 三百雙。 ▼破鏡이 늘어가는 이고장 일이 아니라팟쇼의 本鄕인 南歐의 伊太利 消息。 ▼한雙 結婚에 政府의 奬勵金이 一百五十圓、新婚旅行엔 船車賃 割引 等等。 ▼新郞 新婦를爲하야 國家의 優遇方法이 요모조모로 盡善盡美한지라、꿩먹고알먹는 이런 好事에 靑春이 뛸수 박게。 ▼國政方面에 잇어서靑春을 뛰게하고、또 다시 人情世界에 잇어서 靑春을 뛰게하는뭇氏의 솜씨、써 대야머리 宰相도 제法 風情이랄가？▼이라면너무나 格에 틀린 溫柔味、獨裁의 權化로 鐵血이 엉킨 무쇠 首相이 그럴理 없어서 愚는 按컨대、▼次代의 國民을 大量으로大量으로 生產할 機械의 編作奬勵에 不過한 功利的 策畧而己矣、情이란 當치도 안흔일。 ▼當컨 當치 안컨、그것은 好事家의 思索에 一任하려니와▼人口의 幾何級數的 增殖을 念慮하야减產政策이 云云되는 當代의 一方에서 猪突的 增殖主義로 나가는 이나라、▼享樂의 極을 求하야 避姙이 盛行되는 當世의 風潮中에서 生殖을 爲主한 結合의高調！진실로 世上은 알숭달숭\\n亞洲의 新大藥庫는 新疆이라고 어디서 放送。 導火線 準備는어디서 하노？',\n",
       " '歌詞(其四)徐恒錫 譯\\n젊은女僧\\n크라이그헤르\\n나무끝에 暴風雨 아우성친다서까래는 우직우직 집채는 흔들흔들우뢰는 우루룩 번개는 번쩍밤은 어둡다 밤은 어둡다무덤과같이\\n언제나 언제나 내가슴도 여태껏 설레엇엇다。生活은 暴風雨같이 소란햇고손발은 집채같이 떨렷고사랑은 번개같이 불탓고가슴은 어두엇다 가슴은 어두엇다무덤과같이\\n거칠고 强한 暴風雨야이제는 설레려건 설레거라가슴에는 平和가슴에는 安靜情炎의 試驗에서 淨化된 新婦는永遠의 사랑을 믿으며新郞을 기다린다\\n救主여 내그리는눈으로 기다리나니오라 하눌의 新郞이여新婦를불러그魂을 塵世의 責過에서救하라들으라 塔에서 鍾소리 기쁘게 울린다저달큼한 소리 나를 힘잇게끌어永遠의 高處로 인도한다할렐루야 할렐루야\\n創 世\\n하나님의말슴이\\n『따으로 풀과 씨맺는 菜蔬와 씨잇는 各種果木을그우에 내라』하시니그대로되다(創世記 第一章第 十一節)平原은 새맑은 草綠빛으로 눈을즐겁게하고꽃은 고운단장으로 아담한 맵씨를도두고풀은향기를 풍기고傷處엔 회복이 싹트네\\n가지는 金빛열매의 무게로 휘늘어지고숲은펼처서 서늘한 日傘이되고험한山峯은 密林이 덮엇네\\n어디로\\n시내물 졸졸대며 바위틈 나와서저기저 골잭이로 고웁게 흐르네내장차 어찌될지 그누구라 알고막대하나 내앞길 인도할 뿐이네\\n시내를 따라걸으며 끝없이 가노라니시내도 더욱맑게 더곱게 흘러가네시내가 내길인가 오 시내야 어대 어대로 가노졸졸 흐르는소리 내맘 醉케하네\\n졸졸졸 그소리를 무엇에 비기료춤추는 님프들의 노래로 들을까동무야 노래하렴아 작히나 조흐냐저봐라 물레방아 돌아를 가누나',\n",
       " '詩\\n入港||||金勇豪\\n잠들은 湖水같은 고발트빛 하늘끝||面刀의 白刄같은 날카로운 水平線||\\n◇    ◇\\n바다의放浪兒·汽船은 지금 水平線을 헤치며 들어옵니다！그는 마치 踏布를밟는 新郞의 걸음같이 嚴肅한 步調로船舶의聖母·埠頭의、두팔버린 품속을 向해 조용히 들어옵니다！\\n◇    ◇\\n海洋의마돈나·갈맥이떼는힌나래를 펼치여 바다우에 춤을추고、海洋의快男兒·구비치는 물결은 힌잇발을 내여노코 노래합니다！港口의스테｜지에는 이처럼 그를 맞는 歡迎의熱意가 끌는 가마물 같이 沸騰하고 잇소이다！\\n◇     ◇\\n汽船은 防波堤끝에와 큼직한 커｜부를 그리드니구성진목소리로 放浪의 고달픔을 呼訴합니다！아하｜그동안저속에담긴 마음들 얼마나 우울하엿으리까！저속에 담긴 그네들 얼마나 괴로웟으리까！지금은 저들의 시들엇든 마음들도 기뿜에 가슴이뛰놀고잇으리다！\\n◇       ◇\\n汽船은 埠頭앞으로 점점 닥아옵니다！埠頭는 汽船앞으로 점점 닥아갑니다！\\n◇       ◇\\n甲板과埠頭사이에는 팔닥이는 마음들의 緊張된視線이테｜프같이 엉키엇습니다！甲板과埠頭에는 팔닥이는 마음들이 决勝三秒前의緊張에 싸엿습니다！\\n淸津港에서！',\n",
       " '華燭盛典披露宴에\\n本妻가出現惹閙\\n〃나를어찌하고또결혼하느냐！〃\\n修羅場化한平壤東一舘\\n【평양】지난十六일 오후五시반경부터 부내 경재리 요리점 동一관에는 장별리(將別里)백번지김기봉(金岐鳳)(二四)과 신부 황해도 신천읍(信川邑)황금순(黃金順)‖(가명)(一九)양인의 결혼피로연이 성대히 벌려잇섯는바 동六시十분경에 돌연히 젊은여자한사람이 나타나서 다시 결혼을 하랴거든 내 어린것을 내어달라 하며눈물로써 호소 애원하야 연회장은 수라장이 되고 경재리파출소순사 二명이 현장에 출동하는등一시는 대혼잡을 이루엇다하는바그여자는 부내 암정(岩町)十五번지의一호 노몽옥(盧夢玉)(一九)으로 김기봉과는 작년十월十七일에견혼하야 금년六월十五일에 창남(昌南)이라부르는 남자아이를 나키까지 하엿음에도 도라보지안코이제 다시 다른 여자와 결혼함에분을 이기지못한 남어지 사랑스러운 아이 창남이라도 내어 달라고 그같이 통곡하며 호소하엿다한다。 김은 원래 신의주(新義州)사람으로 현재에는 부내 본도변호사(本島辯護土)사무소의 서긔로잇는바 十八세에 제一차로 결혼하야 현재 그의집에서 기루는 현자(賢子)(五)를 나흔본처를 버리고 이번이 두번재의결혼햇소이라 한다。\\n新郞金岐鳳談\\n법률적으로전으로 전부 처리헷으니 문제는 다해결되엇다고 봅니다。 증서를 써서 그여자에게서 도장까지 얻엇슴니다。\\n살기실흔 이유는 간단히 말하자면 여자 결혼전에 행실이 부정한 것과 가정살림에 부적당한 것입니다 운운。\\n本妻盧夢玉談\\n결혼한지 한달이 못되어 학대하기 시작하고애까지 배인몸을 쪼차내어 친정에서 애를 나엇습니다。 그래서다시 살자고 몇번이나 애원하엿으나 도모지 듣지안코 지난 八월十二일경에 자기집 으로 오라해서갓더니 종이에 무어라 써가지고도장만 치라해서 지장을 찍어 주엇드니 그만 그 종이를 빼다지에느코서는 또한 아이를 뺏들고 이제는 너와는 과게가 없으니 애를두고 가라\\n해서 집으로 할수없이 돌아왓습니다。\\n학교를 도모지 보통학교三학년다니다 말엇기때문에 한문으론내둘러쓴것은 잘 몰읍니다。 일을그러케 꾸미어 만들어노코 이제는 이혼을 햇다고 떠듭니다 고소라도 하고 싶지만은 집에는 늙은부모가 단 두분 게실뿐이니 어떠케누가 그런걸알어서 하겟습니까。 운운\\n(사진은 결혼당시의 김기봉  과 노몽옥)',\n",
       " '沒書\\n聞慶 下里尹某라는 十九歲處女는約婚한 男子와 結婚을 안켓다고 버티어新郞側은 損害賠償을 請求。\\n●\\n咸興 長津水電은 十五日에通水式을 擧行하엿는데 關西地方道送電은 十一月初旬頃이라고。\\n●\\n淸津 精神病者 李某(二七)는美人만 보면 暴行을 하려한것이 凡十數次인데 지난 十八日에도 浦項洞 朴某의 집에 越墻侵入한것을 洞里사람들이 겨우逐出\\n●\\n扶安 봄以來 旱魃로尙今 물饑饉。\\n●\\n南旨 靈南水利工事塲에는傳票僞造團이 發覺되어 七名을檢擧。\\n●\\n群山 師團對抗演習關係로全州專賣局煙草買上高는 벌서二十八萬圓',\n",
       " '儀禮의簡便化\\n一\\n吾人의 生活이 日常的으로 거이 같은일을 反覆하다가 어느特別한 일에 當하여서는 거기맞는節次와 準備를 따로 要하게 되나니 儀式도 이리하야 생긴것이다。이社會의 繼承하는 傳統과 그사람의 歸依하는 宗敎를 따라 現在가지가지의 儀式이 行하여짐을보거니와 이는 다 元來 이社會의實情과 그宗敎의 敎理로부터 演繹 또는 歸納되어 自然히 或은人爲로 생긴 儀式들이다。 儀式이란것이 形成 또는 制定되면 多數人이 이에 依據하게되고 따라서차차慣習化한다。 그當初에 잇어서는 理에 맞는 樣式임이 勿論이지마는 차차 世代를 지나 慣習化함에 따라 그形骸만이 傳承됨에이르러서는 百弊또한 俱生하는것도 우리가 보아왓고 또 現在도보는바이다。\\n二\\n吾人이 가진儀式中에서 最大最重한것으로 冠婚喪祭가 잇다。오래 儒敎를 信奉한 우리는 今日도 오히려 婚姻과喪祭에 잇어서 흔히 儒敎的儀式을 遵行하고잇다。 儒敎的儀式도 그制定의 本初에잇어서는 人情과 事情에一毫의 어그러짐이없는 普遍的 樣式으로 意圖된것일것이나 今日에와서는 世上이 달러진지라 生活이또한 옛과같지아니하야 그대로遵用할수없이 되어젓다。 그러타고다른 敎理에 依據한 方式들은어떠냐하면 그또한 이社會 이時代에는 그대로 들어 맞지아니하야一言으로써 蔽하면 모다 繁文褥禮에 가깝다。 이리하야 그것들이모다 단지 儀式을 爲한 儀式이어서 生活에서 遊離하기 甚하다。오늘날같이 우리의 生活이 急템포를 要하고 또 넉넉지도 못한實情에 잇어서는 모든 儀式의 簡便化가 生活의 合理化를 爲하야要請되는 일의 하나이다。\\n三\\n儀式簡便化의 最近의 조흔實例로는 昨報 江西郡의 聯合結婚과같은것을 들수가 잇겟다。 이것은數雙의 新郞新婦가 同日同處에서結婚式을 擧行하고 거기對한 費用과 事務를 分擔한것으로서 이劃一的行事가 各雙에게 十二分滿足을 주지 못하는수는 잇드라도 確實히 簡便、節約等 長處는 認定하지 안흘수없으며 더구나 이번이 第二回로서 第一回의 成績이 不良하지안헛음에 鑑한 再擧인즉 이런일은 다른곳에서도 본받을만한 것이라하겟다。吾人은 이方式을 全的으로 支持함은 아니로되 그意圖에 잇어서는 吾人이 이에말하는바 儀式의簡便化에 適應한것임을 認하는바이다。 이와같이 儀式의 簡便化를힘써간다면 따라서 從來 資力에지나치는 設備로써 賓客을 廣請하는 通弊도 차차 匡正될것이오月前에 吾人의 耳目을 놀래인 平北의 飮食中毒事件과 같은것도未然에 防止할수 잇을것이다。\\n四\\n儀式의 簡便化에 따르는實利를擧示하려면 한두가지에만 그치지아니한다。 物資와 時間과 勞力의無用한 消耗를 防止할수 잇을뿐만 아니라 한걸음 더 나아가서는이를 積極的으로 轉用함에 잇어서 얻을바가 더욱 클것이다。 이미 그轉用을 爲하야 民間 有志들의 發起로 圖書出版等文化事業의擴充을 提示한 일까지 잇지안흔가。 儀式을 簡便히하야 費用을節約함으로써 貧者는 더욱貧함에떨어짐을 어느程度까지 避할수잇겟고 富者는 그富를 더욱 빛나게할수도잇을것이다。 要컨대 儀式을 爲한 儀式에 떨어지지말고 언제나 自己의 力量과 生活에 卽한것이 되도록 해야하겟다。 이는한사람이 實行하면 한사람이 利할일이오 全民族이 實行하면 全民族이 利할일이다。',\n",
       " '横說竪說\\n▼樂浪의 古地로일홈이 높은 江西땅에도 高昌洞 耶蘇敎會堂 에서는十二雙 鴛鴦이 聯合 結婚式을 擧行▼聯合 結婚式 이라는것이 벌서 朝鮮에서는 珍奇하거니와 去年 此時에 十一雙의 聯合結婚이 祝福된同地에서 또 다시 第二回로 擧行되엇다는것이 더욱 世人을 驚喜케 하는데▼元來 結婚이라는것은 一男 一女가 永生의 共同生活을 目的으로한 結合이니 만치 두男女가 서로 理解하고 信愛하므로써 實質的 同捿生活을營爲한다면▼結婚式은 하지 안어도 조코구태여 式을 한다면冷水一盃로 相互의 結合을 宣言만하면 그만이겟지마는▲사람이란元來 形式을 조화하는것이요 儀禮를 차리는것이 또한 사람이기때문에▼結婚하는 男女 兩人間의 問題보다 그들의 家庭과社會에 對한 夫婦成立의 宣言的表示가 必要하고▼그表示가 人生一生에 오직一度만 잇을수 잇는일인同時에 百福之源이 되고 二姓之合이라 해서▼사람 사람은어떠케 하면 이날을 가장 意義잇게 하고 좀 더 盛大히 할것을苦心하는 모양▼그러나 오늘이땅은 時가 一種 過渡期요 禮序 또한 紊亂되엇으며 婚費도亦是 넉넉지 못하야 그表現儀式이 區區하되▼或은 家庭 或은 敎會 或은 寺院 或은 公會舘에서 結婚儀式이라는것 보다도新舊亂舞의 假裝行列을 行進하는 感이 不無한터인데▼이제 江西에서紗帽 冠帶한 新郞과 족도리 元衫 입은 新婦가 弱少한 經費로 써 盛大한 現代的共同 結婚式을 擧行하니▼이『그룹 매리지』가經濟的이면서 典雅한 點에 잇어서 天下의 新郞 新婦될男女에推奬하고 싶소。\\n○\\n靑葉町에 覆面 强盜、鍾路 네거리에 正面 强盜、어째 世上이어수선하오！',\n",
       " '當選漫文\\n쥐와人生\\n【完】\\n晩  醒  生\\n▽쥐의病害△\\n쥐는 또페스트(괴질)出血黃疽鼠毒症等의 무서운疾病을 傳播해서莫大한人命을 빼앗습니다。\\n▽쥐의効用△\\n쥐는이와같이 우리人生에잇어서 有害無益한動物이나 近來는科學의進步를따라서 쥐의 一種을動物學、生物學、醫學等의實驗上에利用해서 不少한 効果를얻고잇습니다。 果然하는方法에 依해서는天下에 無用之物이 없는것입니다\\n▽쥐의驅除法△\\n이제힘안드리고 쥐를 驅除하는秘方을 하나 가르처드리겟습니다數年前에 西洋서 어떤有名한科學者가 東京에왓을때에 일본의著名한科學者들이모여서 그에게 쥐를없이할方針을 問議해보앗드니 그는言下에『고양이를길르시오』하고卽答햇다합니다。 나도 역시 이말로다가 여러분께 秘方으로전하고싶습니다。\\n△쥐의說話▽\\n쥐를 主人公으로한 說話는여러가지잇으나、너무장황하니 그중에 第一有名한것 두어가지만 들고、그만두겟습디다。\\n(가)옛날에 어떤쥐가 無男獨女외딸을 宇宙第一의 배필을골라주랴고 新郞選擇을하엿드랍니다。맨처음 太陽이 눈에띠엇습니다。묻러나 太陽은 밤이면 어둠에파무친다、그것이欠點이다。 그러면달을줄가 달은 구름에가리운다。구름은어떨가、구름은 바람에 휩쓸린다。 바람을줄가 바람은 壁한테막힌다。 壁을줄가 壁은 쥐한테못견딘다。 예라 쥐가 역시第一이로구나하고 結局 쥐를주엇다는寓意를가진 天然童話。\\n(나)또하나는｜여러분도 아실듯하지만｜쥐의一種인 다람쥐의寓話。 수ㅅ다람쥐란놈은 어찌나 엉큼하고 내흉스러운놈인지、가을철이되어서 三冬지낼 糧食을물어드리기에 바뿐시긔가되면 몰몬宗의 信徒□□□로 一夫多妻를實行해서 미□□에쁘나 닥치는대로 녀편네를얻어드려다가 밤에도토리에 五糓雜糓을 흠씬물어드 려서 싸허노케한 다음에는 그 계집을모조리 다내쫓고꼭 눈멀은계집하나만을 남겨놋는답니다。 그래서 저는 달큼한밤만먹고 눈먼계집은 쓰디쓴 도토리만 앵긴답니다。\\n이세상에도 이 숫다람쥐모양으로 慾心만코 음흉한 男性이며 雇主며 重役이며 社長이 얼마나 만습니까。 近來에 더구나 가련한것은 몇푼안되는 돈을 미끼로삼는숫다람쥐같은 흉계에 떠러저 아까운 경력에 똥칠을하고、有望한前途를망처버리는 암다람쥐類의、所謂紳士淑女名士의허다분한일입니다。     (끝)',\n",
       " '横說竪說\\n▼오늘이立春、明日은 上元、二十四氣中의第一日이오三元中의 第一節이라이제야겨우春光到來의 始初、▼立春하니 大吉이요 建陽하니 多慶이라고 家家門戶에는 立春써 부치기가바뿌고▼五糓飯과九色菜에藥食을 進需하고 觀燈、踏橋、擲柶의 모임이버러지니 이땅의 봄도 一段明朗！▼雨水驚蟄도 不遠하엿으니 漢江의 結氷도 北岳의 積雪도 渙然解消될것이오▼淸明寒食이 또 그다음이니 百花競艷의 春園이 벌서 眼前에展開된듯 ▼그러치！아모리 不遇에蟄伏한 우리라도 그어찌 春意春思가없으랴？ 三冬의 窮陰이 가고 九十의 和陽이오는데▼안방속에서 끼고안즌 火爐를 차버리고 이봄을 마지하자！▼보라！六十一歲의 新婦와 七十八歲의新郞이 華燭의 盛典을 擧行하지안는가？▼男女老幼할것없이모두 다가티 오는봄을 마지가자！어찌 봄의 歡喜를 憂鬱에서만呻吟하랴？▼온世界가 봄이라고떠들고 온人類가 봄마지를 準備하지안는가。▼西疇에는 벌서 有事하고 學窓에는 入學卒業戰이開始되지안엇는가？▼入學戰으로 就職戰으로 生活戰으로 乃至生存鬪爭에로 春車를 모라라▼우리를 維持하고 發展시켜 完全에로 向하기 爲하야|써。 이에비로소 人生의 驅歐가잇고 陽春의歡喜가잇으리니。\\n取締嚴重으로 玄海灘渡船者激减、渡航을 防止할진댄 渡來는왜안막노？',\n",
       " '早婚의弊害\\n屯浦 一記者\\n地 方 論 壇\\n男婚女嫁는 어느나라를 勿論하고 男女間 成年이 되면 人倫之始요 萬福之源이라 하야 嫁娶함은智者를 不得하고 判斷할배나 特히 我半島의 婚姻制度를 觀察컨대 男女間 成婚與否를 勿論하고頑固老衰한 祖父兄들은 自己生前에 孫婦나 子婦를 보겟다는 口實로 强制的이나 又는 專制的結婚으로 因하야 及其也에 東飛白鷺西飛燕格으로 別離 空房하야 許多苦楚를 當하는者 幾千人이뇨？實로 痛嘆不己하는 바이다 이것이 누구의 罪이며 原因이 那邊에在한가 筆者는 반드시 農村의愚蠢한 父兄들의 罪이요 早婚의原因이라 思料한다 將來 我朝鮮의嫁娶함을 보건대 太半數는 新婦의 年齡이 十八、九歲이면 新郞의 年齡은 十二、三歲에 不過하거나 又는 此와 正反對로 新郞의 年齡이 十八、九歲이면 新婦의年齡은 十二、三歲에 不過하는結婚을 從從目睹하는배라 如斯히不均等한 男女間의 結婚이 어찌將來의幸福을 求하며平和를 얻으랴！結局은 性의犯罪도이에서 生하는일이 許多하지안흔가 소리만들어도 戰慄할 本夫毒殺、家庭不和로飮毒、夫婦不和로離婚、諸般犯罪의原因이 全혀 早婚、又는强制的이나 專制的結婚의 生產品이라 斷定하여도 過言이 아닐가 한다 그런즉 婚期에達한 子女를 둔父兄들은 一日이라도 速히 反省하야 早婚、强制、專制的弊를 打破함과 同時에 子女들의 意思를尊重이 여겨주며 그人格을無視마러야한다。 特히 普通學校라도 마친子女를둔 父兄들은 더욱이 愼重處决할것이오 其意思에 따러서結婚케할것이다 그러타고 子女들의 人格과 意思를 尊重視한다는지나친 생각으로 婚事의 永永不干涉하는것도 안된다 다만監督만은 充分히 하여야한다。 그런즉早婚의 弊도 從此없어질것이오如斯한 犯罪率도 漸次없어질것이다 이에따라서 前途有望한 子女로 하여금 圓滿한 家庭도 創造시킬수 잇고 또한 子女의 一平生幸福도 이에 存在함을 理解하여야한다。 아｜半島江山의 頑固한 父兄들이어 하로바삐 覺悟하야貴且重한 子女들의 有望한將來를 그르치지안토록 猛省하기를促하여마지안는바이다',\n",
       " '新郞後行이窃盜\\n신부아버지돈백七十원을\\n훔처서주색에탕진이발각\\n坡州警察넌선쓰犯人\\n【문산】신부의 후행으로 신랑집에 따라가서 현금一백七十여원을 절취하여 주색에 탕진하고 영오에 몸이된 사나이가잇다。\\n파주 주내 봉암리(坡州 州內烽岩里)고삼손(高三孫)(三一)으로 장산리(長山里)김석포(金錫甫)의장녀 점숙(点淑假名)(一八)과 율곡리(栗谷里)에아는이모(李某)와 결혼을하고 지난음一월十三일에 전기 이모시가에 후행으로 따라가서는 점숙의 시아버지 당년 六十四세의 노인이현금 一백七十八원을가젖음을 엿보다가 절취하여가지고며 후행으로의 후한대접을받고 집에도라와 경성、개성등지로다니와 주색에 탕진하엿다는데이를 파주서원이 탐지하고 지난廿八일에 체포되어 취조를 받고잇다한다。',\n",
       " '地 方 論 壇\\n納幣와惡習\\n兼二浦  一記者\\n吾人은 冠婚虛禮廢止를 絕叫하야온지 이미年久하다。 그러나 아직 京鄕을莫論하고 所謂 納幣(예장보내는것)라는 名目下에 딸가진 父母로서 사위를求할때에 예장 받을것을 先决問題로삼고 사위될사람의 生活程度에 지나치는無理한 要求를하는 父母가 許多한것은 自他를勿論하고 不誣할現狀이다。\\n古今東西를 不問하고 이〃納幣〃라느習慣이 아조없는바는 아니지만 그것은 財產程度에 比例하야 若干의納幣를하되 男子가貧困하면 女子가責任을지고 女子側이 貧困한境遇이는 男子側에서그責任을 지게되는것이 事實인듯하다。\\n그러나 現今우리朝鮮의 딸가진父母들은 新郞新婦間에 意志가相通하야 妥協的見地에서 適合한物質을 請求하는것이 아니고 物慾的卑陋한 精神下에서 過多한物質을 强請하는傾向이 만흔것은 實로 痛嘆할바이다。\\n이제 그 一例를擧하면 黃州郡×面에 居住하는 金某는 金指環衣類 家具等屬을 納送하라는言約下에 十八歲되는 自己딸을 崔某라는 靑年에게 許婚하엿엇는데 新郞될 靑年이 約婚한지一個月이 지나도록 約婚當時에 言約한金指環을 보내주지못하엿음로 新婦側에서는 靑天霹靂같은約婚取消命令을 나리엇다 不意의悲報를받은 崔某라는靑年은 二三日內로 相違없이 보내겟다고하엿으나 드디어 破婚의宣吿를 받고말엇다는 事實이잇다。\\n俗談에 念佛에는뜻이없고 齋밥에만 精神이 쏠린다는 것과같이 이런 人物들에게 限하야서는自己사위나 男便을맞이 한다는것보다 金指環한個를 貪내여 허위적거리는것이 아니고 무엇이랴？누구를勿論하고 一生에 한번밖에지내지아니하는 그慶事에 可及的他人에게 뒤떠러지지안게 잘하여주겟다는 心理는 잇겟지마는 自己身分에 지나치는 虛勢를 裝飾할랴는것은 너무나 愚昧한慾望이라고 아니할수 없다 □□□은物質로 一生의 享樂을누릴바 못되거든 구태여 借金까지하야 納幣를할必要가那邊에在한가？이것은 다만 純眞한子女에게 虛榮的心理만助長케하여줄 뿐이다。\\n敢히 바라노니 딸두신 여려父母여！愚昧한 物慾的 野心을버리고反省하라！그러치안흐도우리朝鮮靑年男女는 身分에 넘치는奢侈와 虛勢를 조아하는까닭에經濟的破滅을 나날이當하고 잇지안는가！세루치마한벌하는것보다 무명옷 여러가지가 나을것이고 農村색씨에 限하야서는金반지 사주는 돈으로 農牛와 연장을꾸며주는것이 理想的이라고 할것이다。',\n",
       " '監禁됏든新郞新婦\\n慰藉料請求訴訟\\n◇||명예훼손이되엇다하야\\n平壤法院의話題\\n【평양】아버지의 취해쓴 돈五원으로 말미암아 一생에 한번잇는 아름다운 대사 혼례(婚禮)길도중에서 돌연 불법감금을 당한기보한바의 성장(盛裝)신부 그뒤에 어찌하엿을가｜독자와함께 궁금히여기고 잇는바 신부 최덕순(崔德順)(一九)‖가명‖의 남편、그후에 부내 서성리(西城里)에사랑의 보금자리를 잡은 김대규(金大奎 (二一)는 폭행자 덕천읍북리(德川邑北里)김제선(金濟善)과그의장모 조화숙(趙和淑)두사람을상대로 수일전 평양지방법원에손해배상급 위자료 二천三백여원의청구소송을 제기하엿다 한다。\\n기보한바와같이 소송제기의 이유는 신랑 김대규가 지난 二월十九일 개천(价川)그의 아버지집에서 결혼식을 거행하고저 덕천(德川)서 성장(盛裝)한 신부 최덕순을데리고 오는도중 덕천읍에 이르러 점심을 먹으려고 잠간 길을멈추자 신부아버지의 五원차금이말성되어 전기두사람의 폭행으로신부는 일시 감금을 당하는등 이날 성대히 준비하엿든 잔체가전부 허사가 되어 그손해가 막심할뿐 아니라 일생을통하여 정신상 타격이 만흔것으로 당연 위자료를 요구할것이라는 것이다。\\n피고 김제선은 그뒤 불법감금죄로 피소되어 지난 四일 덕천지청에서 다행히 무죄판결을받엇으나 조화순은 三개월의징역처분을 받은일까지 잇어사건의 진전은 한층더 일반의주목을 끄을고잇다。',\n",
       " '拓殖會社人事의\\n異動은五月下旬\\n今井田總監歸任談\\n政務妥協과 令孃結婚次로 滯東中인 今井田政務總監은 歸途、尾道、岡山間의 車中에서 赴東途上의 宇垣總督에要務報吿를 마치고十四日午後三時十分 京城驛着 臨時急行으로 新郞國鹽硏二郞氏、新婦和子氏를 데리고 歸任하엿는데 車中에서 如左히말하엿다\\n明年度實行豫算及 追加豫算은 大體順序대로 决定하엿으나目下 第二追加豫算으로 鐵道、港灣에關한 事業이 中央과折衝中인데 林財務、吉田鐵道兩局長과 榛葉土木課長이 努力中이므로 이것이解决되면 總督府의今年度事業은 全部决定되고 議會를 기다게만 된셈이다 朝鮮滿洲拓殖에 對하여는 基本問題가 모두 解决되엇으므로 此等人事問題에 進出할 터이나 먼저 順序로 株의 配定이 决定되지안흐면 어떠케 될는지 알수가없다 아마 議會開會中에 豫算의 審議와 併行하야 新會社의 人事詮衡이進行될것이다 따라서 官界의 異動은 五月下旬又는 六月上旬頃에는 行하게될것이다 勇退者는 別로 생각하고 잇지안타 經濟產業調査會設置의 準備는 大體 各局에서 基礎案을 作成하리라고 생각하므로 第二次의 妥協會를開하야 總督府全體의 原案을 决定하려고 생각하고잇다 最近朝鮮內에 敎育熱이 勃興한것은可喜할일이나 이것을 如何히 指導하여같까 重大한 問題이므로調査會라도 設置하야 愼重히指導方針을 决定하게 될것이다\\n總督은 東京에 一週間乃至 十  日 滯在하고 二十四、五日歸任  할터이므로 自己는 可及的 速  히二十八日頃에나 渡東하야 議  會에 出席하기前에 總督府關係  事項을 落着지으려고 생각한다',\n",
       " '百年芳盟을\\n鮮血로서誓約\\n그로百%의結婚式\\n【뿌타베스트發同盟】馬를죽여그것을 그대로 노흔 祭壇앞에서新郞新婦의 팔을잘러 나오는피를서로칠한다는 그로味滿點의 結婚式을 뿌타베스트의 異敎徒들이擧行하엿다\\n이異風의 結婚地은 朝鮮과같이一雙式擧行하는것과는 달러서 數雙의新郞新婦를 가치해서 式을擧行한다 그우에 式塲은 戶外로 푸른하눌아레 設置된 戰神하데우의祭壇앞에서 擧行되는데 祭壇에는死馬의臟物이 노이고 神官은儼然하게 그것을들어 夫婦의將來運命을 占친다 이것이끝나면 第一珍奇한『血의誓』에 옮겨간다 五、六雙의어엽뿐夫婦는各其팔을베여流出하는 夫婦의血을 서로칠하야二人의愛에依한 結合을 表徵한다는 끝까지 피냄새나는것이다。 부타베스트市民의好奇心은이의그로結婚式에 끌리워 當日 求景群이殺到하엿섯다고한다',\n",
       " '典型的나치스婚禮\\n〃하일、하틀러〃가最終誓詞\\n伯林의 알렉크산다！뿔랏츠廣塲敎師會舘에서 三月末頃 아주奇異한 나치스結婚式이 擧行되엇다。 新郞은 空擊隊制服으로몸을싼靑年인데 相對方의 新婦도『獨逸女子靑年團員』으로 褐色上衣에 黑色치마의 簡單한服裝을하엿다。\\n黑의禮服과 씰크햇트를 無視하고 女子一生의 가장 아름다운禮服도 돌보지안흔 차림차림은아무리 보아도 街頭에 示威運動을하려나가는粉裝과같엇다。\\n치스의 黨章兼獨逸國章인 鈍十字(卍)를 받들어 祭主는敎會의牧師란 이름뿐이고 最近反基督的獨逸國民敎會의 敎主데인타博士엿다。\\n모인者들은 모다 나치스黨員에그賛成者인 親戚知友인데 式塲의 雰圍氣는 到底히 아｜멘의讃美歌合唱은 許諾치안코 그러타고 나치스의黨歌도아닌데 明朗히 불러진것은正面祭셥에는 十享。架도없고 나계잎．鞠迪幽氏 敎녘刹作윅 ㄱ勵똬·ㄴ讚美歌엿다。\\n式의進行을따라 結婚의宣誓가오매 牧師는 먼저 新郞에게向하야 판박은듯이 뭇는다。\\n『同胞여！君은이婦人과 古代겔만의 慣習에좇아 結婚生活을할意思를 誓約하는가』\\n벼락같이 新郞은 兵士가 上官에게對하듯이 큰소리로 答하기를\\n『야、하일、히틀러｜』\\n다음에 牧師는 新婦에게向하야\\n『당신은 良妻로써 祖國을 爲하야 싸우는 男便을援助할 意思를盟誓할수잇는가』더욱두볼이 빩아저야할 新婦는 氣着을하고\\n『야！하일、히틀러｜』단 두마디『네｜』와『히틀러萬歲！』로써終結된이두사람은神에게誓約치안코히틀러大總統에盟誓한셈이다。\\n(漫畵는新郞新婦)',\n",
       " '應接室\\n設問은三日間\\n應答은每日繼續\\n每週火·木·土曜\\n抄程規室接應\\n一、一人一次設問에一件主義는絕對로嚴守함。\\n一、內容은 實益과興味를 中心한 人事百般에    亘하나 案頭卽答이 可能한 範圈에限함。\\n一、奇問 妙問 戱問 笑問等等、一切로 無妨하나    興趣와 亂雜、諧謔과작란의 限界를嚴守함。\\n一、問이나 答이나 內容은 普遍、筆致는簡潔、    形式은 短句短文主義를 爲主함。\\n一、純全한 私營爲에 關한것、個人에關한것、    一地域에 局限되는것 等等은 一切로 沒書不    答함。\\n一、用紙는 葉書、送處는 應接室、設問者名稱에    府、郡、島等、地名의明記를要함。\\n一、應答은 每日繼續을 原則으로하나 設問은每    週火木土三日間만 利用하기로함。\\n▼讀者 朝鮮人의 當面問題中의  하나인 文盲退治에 늘腐心하야  이에 一年餘의歲月을 보냇읍니  다。 그러나 들어난 成績이없어  中斷코자하고 農村文庫를 小規  模로 營爲해볼가 합니다。 여기  대한 조흔 參考書를？\\n(江華樵夫)\\n▽記者 조흔 생각입니다。 이에  對한 參考書로서는 李在郁『農  村圖書舘의經營法』(京城堅志洞  漢城圖書會社發行、五十錢)을  보시는것이 조흘듯합니다。\\n(調査部)\\n▼讀者 結婚禮式에 新郞新婦 右  左便區別을 下敎하시압。\\n(咸興一讀者)\\n▽記者 男左女右。(學藝部)\\n▼讀者 應接子는 京城사람이라  서울形便을 잘알터이니 鍾路네  거리라는것은 어느거리 어느거  리 네거림니까？(陽德尹學潤)\\n▽記者 서울胎生은 아니나 鍾路  네거리는 잘압니다。 어느거리  어느거리가 아니라 十字街 그  것을 가르킴입니다。 東으로 東  大門쪽가는길、西로 西大門쪽、  南으로 南大門쪽、北으로 安國  洞쪽。 (忙中閑)\\n▼讀者 國際偵探者는 如何한資  格？何人의辭令狀을 받습니까  ？(大田 B生)\\n▽記者 國際偵探이란것은 뜻이  文字와 같은것이므로 辭令을받  는다면 이나라에서도 받고 저  나라에서도 받겟지요。 이나라  의것을 저나라에、저나라의것  을 이나라에 알려 몇나라의 機  密費를 타먹는者이므로 그런者  에게 걸리면 勿論 損임니다。 至  今까지는 猶太人가운데 만헛다  는데 적어도 四五種外國語에  鍊達하여야 될것은 勿論임니  다。 (調査部)\\n▼讀者 저는 將來聲樂家를 希望  하는데 목소리조하지는 藥名方  法을가르켜주시오(平原K生)\\n▽記者 聲樂家는 藥으로 맨들어  지지는안습니다。 相當한 先生  에게나아가 發聲法부터 잘배우  십시오(學藝部)\\n▼讀者 朝鮮의 모든重大한일을  開拓할만한 勇氣도없고 知能도  없으니 차라리 이重大한 事業  을 朝鮮의 第二世에 依託하고  黃泉의 길로 가려고하오。 應接  子의 意見은？ (咸悅SJB)\\n▽記者 語弊가 잇을지 모르겟습  니다 마는 朝鮮사람의 最大 缺  點의 하나는『남을 믿고、남을  依賴하고 남의 힘을 빌고||』  하는 心法이라고 應接者는 생  각합니다。 祖上의 陰德을 믿고  바라고、父母의 그늘만 바래고  앙탈하는 心法으로 오늘에이  르럿습니다。 이제 貴下는 다  시 子孫에게 미루고、바래고、  믿고、依賴하려고 하시니 이꼴  저꼴이 똑 같습니다。 朝鮮사람  이 모두다 이같은 心法으로 이  世上에 處한다 할진대 噫라！  黃河는 何時 淸고？\\n(忙中忙)\\n▼讀者 各道醫生試驗을 昭和十  二年度以後에는廢止한다하니眞  否를 詳細히 下敎하여주시요\\n(山淸S生)\\n▽記者 廢止하지안습니다\\n(社會部)\\n▼讀者 專賣特許 新案特許를區  別하여주세요(南大門通B生\\n▽記者 알기쉽게말하자면 專賣  特許는 現在技術水準以上뛰어  난創明을保護하고 新案特許는  現在技術水準範圍內에서 考案  한意匠을保護하는것입니다。\\n(調査部)\\n▼讀者 닭이當時에 울고가마귀  가울면 悲事가잇고 까치가울면  손님이오고 거미가 天井에서땅  에내리면 역시손님이온다니이  의眞理가如何오(洪川邑海波)\\n▽記者 닭이 우는理致를 應接子  도 모르겟고 당장 評考할길도  없읍니다마는 어느册에서보니  새날기운이 닦의 聲帶를 刺戟  하는 所以라 합니다。 說明이신  통할것 없지요。 기회 보아서科  學者에게 물어보겟읍니다。 그  러고 가마귀 以下의 設問은  어린때 듣던말입니다 마는 可  信할 말이 못될것 같습니다。  날이 흐리려면 제비가 낫게뜨  고 개미가 법석거리고 等等은  다 科學的 根據가 잇는것입니  다 마는||。    (忙中閑)\\n▼讀者 徐相天氏著『現代體力增  進法』을 販賣하는 書店과 書店  의振替番號를 가르처주십시오。\\n(咸陽金哲中)\\n▽記者 京城堅志洞三二 漢城圖  書會社發行이외다。 (定價一圓)\\n(調査部)\\n●附言 獨學者의 利便을 爲하야  圖書에 限해서는 그發行所、或  은 總販賣所와 定價를 알려들  이기로햇읍니다。 (忙中閑)\\n▼讀者 저는若干의訥言을矯正하  려고 늘 練習中입니다。 그러나  長時間談話에는 間或 더듬게됩  니다。××試驗보려고 하는데  어떠할까요？訥言者라고 落第  시킬까요？(新昌志望生)\\n▽記者 訥言의 程度를따라 다를  것이니 一律로 대답할수없읍니  다。 (學藝部)\\n▼讀者 朝鮮吏讀全部를 記錄하  야잇는書册을 下敎하야 주시요  例하면 爲那를 □로 爲古를 □  로 等等。 (谷城仁洞閑士)\\n▽記者 語錄解(寫本)라는 册에  附記로 若干의 吏讀를 적은것  은 應接子도 가지고잇습니다마  는 吏讀全部를 記錄한 册이 잇  음을 아직 못들엇습니다。 아시  는분 가르켜주시기를 應接子도  바랍니다。 이것긍 딴말이외다  마는、貴下가 例擧한 □、□는  吏讀가 아닙니다。 吏讀의 畧字  라면 몰라도||。 (忙中閑)\\n▼讀者 昨年普文試驗에 合格하  엿는데 試驗成績을알랴고 學務  局文書課로 三錢切手同封하야  依賴를하엿더니 一個月이 지내  도 回答이없으니 어떠케하여야  알수가잇습니까(醴泉憂鬱生)\\n▽記者 文書課는 官房이오 學務  局所屬이아니외다。 그리고 그  러한것은 人事課所屬이니 總督  府人事課로 照會하시지요。(社  會部)\\n▼讀者 韓末志士 金玉均先生의  從者 和田君의 그後來歷？\\n(長淵 杜涉)\\n▽記者 듣지못햇읍니다。 아시는  분 알려주십시오。 (忙中閑)\\n▼讀者 京城第一高普에서는 一  學年募集에 京城의 有力者及地  方富豪家子弟들만을 選拔하엿  다니 事實일가요(咸陽欲知生)\\n▽記者 學校에 무러보니 그럴理  가 잇느냐고 펄쩍뜁니다。 그럴  수밖에。 묻는이나 應接子나 學  校對答以外에 더 알길이 없소  이다。 (社會部)\\n▼讀者 龍山鐵道講習所入學試驗  各道에서친다는대 참말입니까  ？科目을 가르켜주시요\\n(平壤受驗生)\\n▽記者 洗浦希望도 同一問。 各  道에서는 보지안습니다。 期日  은 每年 春期入學時期인데 鐵  道學校는 없어젓고 電信科、機  械科만 남어잇습니다。\\n□□□ 伊에紛爭이 始作되려할  때世論은 그것을벌기로 第二次  의世界大戰이勃發하리라하더니  伊에戰爭이 終局이되여도 世界  는잠잠하니 何故耶？\\n(全州大公生)\\n▽記者 이것은 老兄의 速斷이외  다。 世界는 决코잠잠 하지안습  니다。 英國內의 內部的勢力相  爭으로(卽對伊强硬論者인 現外  相이든一派와 緩和論者인 現藏  相쳄벌렌一派間의抵抗으로)곧  英伊戰爭은 나지안는 모양이나  事實인즉 世界戰爭의 禍根은伊  에問題뿐아니라 東西到處에 無  數히 潜伏하고 잇읍니다。\\n(政治部)\\n▼讀者 나리(巡査나리)라는語句  의意味와 由來와用例를 알고싶  읍니다。 (永興欲知生)\\n▽記者 예전부터『나리』『영감』  『대감』等의用語가잇어 나려왓  는데 이것은所謂『벼슬아치』들  에게限하야 불으는 職啣代名  이외다 요새官等으로보면 卽나  리는判任級、영감은奏任級、대  감은勅任及親任級에씀니다 巡  査나리라는말도 여기에 準한것  이겟지오(社會部)\\n▼讀者 當年二十四歲의男子普校  五學年부터 入學될學校가 잇음  니까？   (順天愛讀者)\\n▽記者 京城鍾路中央基督敎靑年  夜學部의 初等科가 四年制로서  그四學年이 普通學校 부터의程  度라 꼭알마즐 것입니다(社會  部)\\n▼讀者 普通學校를 卒業한 二十  三歲의 職業靑年입니다。 市內  夜學으로는 何處何校가 잇는지  요？(芳山町崔生)\\n▽記者 京城 太平通 二丁目三六  四 京城中等公民學校의 中等夜  學이 잇는데 여기도 每年四月  이라야 入學할수 잇다고합니다  나이는 關係치 안는다고합니다  (社會部)\\n▼讀者 滿洲移民을 만히식힌다  는데 移民이되랴면 手續方法及  申請所를 가르처 주시오(平康  極貧生)\\n▽記者 別다른 手續이없고 各道  各郡에서 募集하는 것이니그募  集時期를 기다려 面所나郡廳에  말슴하시오(社會部)\\n▼讀者 特許맡는方法을가르처주  시요 어떠한것은 特許맡고어떠  한것은 못맡읍니까？特許는 어  디서 맡읍니까？ 미천없이硏究  하고저 하옵는데 어떠케하면조  흡니까？(珍島一讀者)\\n▽記者 京城에잇는發明學會(公  平町)같은데委托(發明品은三十  圓、實用新案登錄은二十五圓意  匠登錄은十五圓)하야所要의圖  書를添付하야 東京特許局에提  出하면됩니다。 飮食物又는嗜好  物、醫藥또는調合物其外化學方  法에 依한製造物質、秩序나風  俗을壞亂、衛生에有害한것以外  에는 모다發明하야 特許를맡을  수잇읍니다。 미천없는사람을爲  한硏究機關은 遺憾이나마 朝鮮  에는 아직없읍니다(社會部)\\n▼讀者 나는東京서받은自動車運  轉手 許證을 가지고 잇는데朝  鮮서許를 맡으려고합니다。 受  驗參考書와 問題集 其他書籍의  販賣店名住所定價를下敎하여주  시요(淸津玄斗黃)\\n▽記者 당신은東京서맡은 許  證을 가지고 잇으니 朝鮮서  는 運轉許試驗의 一部｜卽  實地運轉試驗과 口頭試問에 通  過되면 그만입니다。 口頭 試驗  參考로는따로 이러타할 書籍이  없으니 赤坂正喜著 最新自動車  試驗問答精解(大阪市西區靱中  通一丁目九 藤谷崇文舘發行 定  價一圓五十錢)나 한번 보시구  려。  (社會部)\\n▼讀者 初學者이면서 短期日에  工夫하야 醫生試驗을 치려고하  는데 適當한書籍의 發賣所及書  籍名並價格을下敎하시오\\n▽記者 試驗資格이 三年以上醫  生에게서 工夫를하엿다는 醫生  의證明書를 添付하여야 되는것  이니 醫書等은 指導하는醫生을  定하시고 그분과 議論하시는것  이良策일줄압니다。 (社會部)\\n▼讀者 昨年度부터 改正된 正租  檢査規則全文과 今春에 改正된  朝鮮小作調停令全文을볼랴면어  떤册을 바야 되겟는지요。 (市  內一讀者)\\n▽記者 正租檢査改正規則은東亞  日報十年八月七日、朝鮮小作調  停令은京城西小門町三八司法協  會發行『朝鮮小作調停法令集』、  同改正全文은東亞日報十一年二  月十一日을보시요(調査部)\\n▼讀者 高普四學年終了者도 專  檢을 볼수잇습니까？그試驗課  目을 좀물어보아 주시오？。\\n(新義州新讀者)\\n▽記者  一問一答主義에 依하야  하나만 對答키로 합니다。 高普  四年修了者로도 볼수잇습니다。  試驗科目과 時期其他는 學務局  으로 二錢切手를 封入하야 물  어보시오。 (社會部)\\n▼讀者 當年二十五歲의 靑年、普  通學校二學年程度、京城서 小  生에게 적당한 學校는 없는지  오 最低學費로 苦學을 하고저  합니다。 (淳昌無學者)\\n▽記者 나이만흔이에게는 四個  年동안、六個年普通校卒學程業  度를 夜學으로 가르키는 鍾路  中央基督敎靑年會가 잇습니다。  苦學이란 어렵습니다。\\n(社會部)\\n▼讀者『아리랑』映畵前編中永姬  의 配役은 金蓮實孃인가요 申  一仙양인가요(泰安朴韓生)\\n▽記者 申一仙양입니다。\\n(學藝部)\\n▼讀者 初步로 丁抹體操를 배호  랴하옵는대 京城에 實習하는곳  이잇읍니까？自習할만한書册은  ？(公平町P生)\\n▽記者 서울서는 西大門外 金華  山早起體操團이 每日아침에 行  하며또册子로는 各書店에서 發  賣하는金保榮氏著의〃保健體操  法〃이잇읍니다。 (運動部)\\n▼讀者 사량하는사람이 꿈에보  이면兩人이愛情이淺薄하여지고  또 손수건을 서로交換하여도愛  情이淺薄하여진다는말이잇으니  이事實을 꼭믿을잇을수가요？\\n(市內草綠生)\\n▽記者 그러한 꿈을 꾸서서 걱  정되십니까？꿈때문에 사이가  버그러질 리치는 절대로 없을  줄로 믿습니다。 (忙中閑)\\n▼讀者 中等學校卒業者로서 普  通學校訓道試驗을 볼터인데 時  期及塲所 其他 此에 對하야 細  細한 條件을 下敎하여 주시오  (定平I·K·S)\\n▽記者 訓道試驗中에는 一、二、  三等三種이 잇는데 三種試驗은  各道에서 一、二種은 總督府에  서 各各 施行하는데 時期는 大  槪秋期와 冬期입니다。 詳細한  것은 道學務課와 總督府學務局  으로 알어보시오。 (社會部)\\n▼讀者 운동하는『귀캉』말인데  요 四○封度 或은 五○封度짜  리價格은 얼마나 되는지요。  (高敞KYK)\\n▽記者 球杆도 球杆나름이라、자  세한것을 들어서 京城鍾路中央  基督敎靑年會 鐵工部로 照會하  십쇼 자세히 알려드릴것입니  다。 (運動部)\\n▼讀者 나는 只今獨學中입니다。  滿中二學年까지 단여서 滿語도  畧通됨니다。 앞으로 大商業家  가 되려면 日本內地로 가서 더  工夫함이 조흘지 滿洲에서 더  工夫함이 조흘지요？(奉天一  讀者)\\n▽記者 이왕이면 滿洲서 더공부  해보시지요。 (社會部)\\n▼讀者 봐이올린을 夜學코저하  오니 敎授所가잇으면 가르켜주  시압。 (京城  一讀者)\\n▽記者 京城府嘉會町二○八 코  리아音樂硏究所에 問議하십시  오。 (學藝部)',\n",
       " '十歲新郞과\\n十四歲新郞\\n【베오구라｜드發同盟】 아이샤·라밋치라는 十四歲의少女는 아브드·률벳치라는 老人과 結婚하야사람들을 놀래게하엿는데 二人의結婚生活은 률벳치가 友人의妻와戀愛를하엿으므로 破綻되고 말엇다。 男便테레빗치는 友人과 妻를交換할려고햇지만 아이샤가 듣지안흠으로 마츰내 追出하여버렷다의지할곳없는 아이샤는 流浪의길을떠낫으나 먹을수도없어서 悲慘한 身勢로 무짖치의洞里까지왓다그村에서 아푸듀라·사레바셋치라는十歲의 男子애를만낫는데 男子애는 아이샤를 自己집으로 다리고갓다。 아이샤는 男子애의 집에서 生活을始作햇는데 二人은뜻밖에도 서로 戀愛를하게되엇다、아이시는 사레밧치의 兩親의마음에들어 드디여 二人은 結婚하고 新婚旅行을떠낫다 新郞은 겨우十歲新婦는 十四歲라는 珍無類의夫婦가成立되여 이런것은 아마世界에서 처음일것이라고하야 유｜고스러비야國의話題로되어잇다。',\n",
       " '新郎新婦에饍物로\\n히總統의著書\\n費用은府郡面負擔\\n【伯林發同盟】마인·컴프』라고하면 힛틀러｜總統自身이 獨逸國家社會主義의 興隆을쓴것으로서말하자면 나치스의聖典에 該當하는書籍인데 今番獨逸에서 結婚한新郞新婦에 게는結婚登記所의官吏로부터 饍物로이『마인·컴프』를한券式贈呈키로 되엇다 費用은 全部 府郡邑面所의負擔、四月二十日 힛틀러｜總統의 誕生日을 期하야 內務省에서 全國의府郡邑面所에 對하야 이런것을 實施케하엿다고한다。 또 全國의 이날에는 官公吏로부터 總統에게羊皮紙九百六十五枚에 手寫한『마인·컴프』超豪華版一册을贈呈하엿다。',\n",
       " '沒書\\n浦項 迎日郡烏川面 金某의딸 자영(一九)은 興海面 崔某의 孫聖道(一九)와 去二十六日 結婚式을하고 初夜에 新郞이벙어리라고 逐出。\\n廣惠院 萬升、大所、三成等三面의 漢文詩士四十餘名이 廣惠院에會合、大詩會를 開催。\\n仁川 新花水里 金昌建(三一)은 洗濯을맡은 洋服百餘點典當잡혀 酒色에 消費코 被檢。\\n釜山 慶南道內 全敎職員들은 相互扶助機關으로 互助會를結成코저 準備中。\\n光州 府에서는 戶別稅等級査定을하고저 法二十七日 府會를 召集。',\n",
       " '重婚防止新案\\n結婚에指紋交換\\n◇政府에建議까지\\n【뉴오린發同盟】重婚을 防止하기爲하야 新郞新婦의指紋을 받으라고 主張하는 사람이나타낫다。 그는 加奈陀의 토마스·카스티로氏로 最近政府에 建議하야 曰 新婚夫婦로 結婚式을擧行할때 結婚證明書에 各自指紋을찍도록하고싶다。 그러케하면 虛僞의口實下에 男女가 離婚치안코 다른男女와 結婚하는것을 防止할수잇다。 云云',\n",
       " '新婚家에送需式을廢하자\\n新安州  一記者\\n地方論壇\\n人類의 生活程度가 나날이 進步됨을 따라서 慶哀兩席에 人海를 이룰것과 그會席上 人人所好의 食物이 잇어야할것도 當然한同時에 또各各 그實力에따라서不足을 避하려고 애쓸것도 亦是事實일것이다。 그러나 衛生上關係되는 點이라던지 또는 各自生活程度如何에 따라서는 아모리 우리先人들로부터 相傳된 遺風이라할지라도 廢止를 斷行하지아니치못할것도 잇을것이다。\\n그런데 우리가 恒常 行하는바婚禮式에 對하야는 親迎式이禮文에 固定되어 잇을뿐아니라 全朝鮮的으로 通用되는 正禮임에도不拘하고 우리西道에서는 馬頭納幣式을 쓰기때문에 新婦家에서먼저設宴하게 되므로 飮食準備가없는新郞家에 음식을보내게되는데 그것을 禮需라 또는『박끼』라고도通稱한다。 그런데 그박끼를 받은집에서는 洞里에老少를 다請하야二盃의酒와 二個의餠(或菓子)으로均一한規律下에서 接待하게된다그러므로 박끼술 석잔먹는장수가없다는 이야기까지 생겨잇다。 그런데그먹을것도 없는것을 두고他人을請하는 主人이나 그것을먹으려고 가는客이나 가 다 局外人으로서 본다면 그幼稚한 程度를 批判爼上에 올녀놋치 아니할수없는有害无益의弊風이고 또는 그박끼를 宴前日新婚家에 보내기爲하야親迎式을 하는때보다는 一日이나더 일으게 飮食準備를 하게된다그러므로 豚肉等飮食物이매양腐敗하게되어 푸트마인中毒이 생기어多數한 死亡者를내는 慘變을보게되며 또大小祥 제사時에던지、埋葬時 來客들을 回謝하기爲하야그飮食準備가 또他地方보다는 一日間이 더 早速하게된다。\\n이두가지의 特異한 風俗으로因하야 飮食中毒이란 怪變이 우리西道에 特產物처럼 되어잇는것은新聞紙上 報道로 잘判明되는 事實인데 그中에서도 平北이 좀 더甚하다는것은 年來에 平北에서는親迎式을 準行하는 사람들이 만키때문이다。\\n經濟上으로나 衛生關係로나 어느方面으로 보던지 그두가지의弊風은 速히 집어던지지 아니하면 안될것이라고 筆者는생각한다。 그러고 昨年度 平北警察部에서 宴會時에 豚肉使用을禁止하는命令을發한바도 잇거니와 그豚肉使用의禁止보다는 도리어 박끼禁止가그飮食中毒의 慘禍를 防禦하는 拔本塞源의 捷徑이 되리라고하겟다。 그러나\\n그박끼 廢止與否에 對하야는確固된 慣習과 또는 兩婚家의 意見相違로 因하야 社會的으로는 速廢하기 不可能할것이사실인즉 衛生保健의 主旨下에서 爲政當局으로부터 어떠한 規則을 制定하야가지고 嚴禁하여야될것을 생각한다。',\n",
       " '有妻娶妻하려는新郞\\n本妻에게被擊逃亡\\n◇결혼한지 볼과 六개월 만에\\n水原에생긴喜活劇\\n【수원】결혼한지 불과 六개월만에 딴여자와 결혼하려다가 본처에게 발견되어 도망한 흔신랑이엇섯다。 그는 수원읍 산루리(水原邑 山樓里)김태경(金泰敬)(二一)으로서 작년읍十一월 二十八일 동읍 신풍리(新豊里)손모(孫某)의장녀 손소히(孫小姬)(假名)(一九)와 결혼하야 매우 사랑스러웁게 지내어오든중 양가의 불합으로 시비가되어 전기 손소히를친가로 돌아보내어 버린후 전기김태경은 다시 딴여자와 결혼을뜻하고 지난 十一일 용인군 구성면(龍仁郡 駒城面)이모(李某)의딸 이순예(李順禮)(假名)(一九)와결혼식을 거행할지음에 전기본처손소히집안에서 알고 현장에 달려와 식장을 전부파궤하며 무수한 폭행을 가하므로 전기 김태경은 할수없이 도망하야 소관경찰서로 피신하야 겨우 위급한 경위를 면한후 다시 결혼식을 비밀리에 거행하려다가 또 본처의 습격을 당하야 결국 목적을 달하지못하고 그대로 와해되엇다고 한다。',\n",
       " '應 接 室\\n別＋答\\n設問의發表가 必要치아니한 對答을一括하야 이 欄을 두엇읍니다。 可及的沒書를 避하자는 정성의一端입니다。\\n○長城欲知知。 一件主義의理由를  累言、詳言햇읍니다。 一件主義  가 아니고는 여러가지로處理가  困難한 까닭입니다。 이것은 絕  對로 絕對로 嚴守할 作定입니  다。\\n○定州靴商。 東京그곳警察署에說  諭願을 提出하십시오。\\n○槐山一讀者。 决心如何에 달렷  겟지만 대체는 어려운일입니다\\n○安城苦待生。 會話란 작구 말해  버릇해야됩니다。\\n○慶州願聞生。 京城 朝鮮印刷株  式會社로問議해보시오。\\n○海州王中王。 痛憤할 노릇입니  다마는 참고 견디는수밖에 없  읍니다。\\n○龍井一讀者。 先天的痼疾로된것  이면、遺傳性이 없으리라고 斷  定하기 어려울 것입니다。\\n○大邱李居士。 龍門機云云以下는  再讀해도 모르겟습니다。\\n○興南孫嘉鉉。 事情은 딱하나 이  欄은 問答을 爲主합니다。\\n○大阪欲知生。 生食에 對한 知識  이 없어서 모르겟읍니다。\\n○樓上町陳中煥。 당신의 推測에  一任합니다。\\n○金德新興生。  그러켓읍니다。\\n○市內李廣鉉。 庚戍以後의 府尹  이름 대답하기도 실코、또아니  하는規程\\n○大邱愛犬家、井邑로골쇠。 龍山  軍司令部로照會해보십시오。\\n○舒川欲知生。 一般論이아님으로  구文句의 出處를 明記하지안코  는 대답하기 困難합니다。\\n○文川蔡讀。 一般的으로 물엄즉  한 조흔 設問이나、結婚式이니  新郞이니等 물은態度가 죽도아  니고 밥도아니기에 짐짓 沒書  해봅니다。\\n○平澤李浪雲。 우선 現在 在學中  인高普의學課를 忠實히 공부하  도록하십시오。 今後의 映畵俳  優는 적어도 高普쯤은 卒業해  야할것이니까요。\\n○咸州一問女。 언제訪問할지모릅  니다。 東京市蒲田區新宿町鶴龜  아파트로。\\n○杏村町H生。 一件主義로沒書。\\n○忠北淸安畓畓生。 이런 무름이  너무만흐나 대답하는 사람亦是  畓畓하외다。 選拔하는데는 個  人標準인데 이中에 한사람만이  뽑힌모양입니다。\\n○上徃十里町一讀者。 京城府唐人  町에 잇읍니다。',\n",
       " '大統領選擧用\\n寸劇의一例\\n【뉴욕發同盟】\\n結婚許可證交付所의所員 그런데君은 國債는 어떠케할모양인가新郞이되고싶은男子 國債가 내게 무슨關係가 잇읍니까所員 君은 지금結婚할려고한다、米國의一家의 主人으로서 君은一千十七弗二十六仙의 國債의分配를 負擔할義務가 잇게되는것이다 그런데 그額은每日增加하여간다 그래도 結婚하고싶으냐\\n新郞이되고싶은男子 그、그、그것을나、나、나는어떠케하면조흘까？여보、마리어떠케할까？新婦候補 참！야단이구먼요｜結婚하기前에 그借金을 먼저處理하지안흐면、結婚을할수없지안허요\\n이것은 今番大統領選擧에 共和黨이考案해내인 루스벨트 大統領의公債濫發政策攻擊의 라디오劇。이런種類의 寸劇을 몇十篇으로製造하야 컬럼비아 에누·비｜·시｜의 二大放送局에서 連日方式을달리하야 民衆黨攻擊을 할려고한다고한다。',\n",
       " '應 接 室\\n應接室規程抄\\n一、一人一次設問에一件主義는絕對로嚴守합。\\n一、內容은 實益과興味를 中心한 人事百般에  亘하나 案頭卽答이 可能한 範圈에限함。\\n一、奇問 妙問 戯問 笑問等等、一切로 無妨하나    興趣와 亂雜、諧謔과작란의 限界를嚴守함。\\n一、問이나 答이나 內容은 普遍、筆致는簡潔、    形式은 短句短文主義를 爲主함。\\n一、純全한 私營爲에 關한것、個人에關한것、    一地域에 局限되는것 等等은 一切로 沒書不    答함。\\n一、用紙는 葉書、送處는 應接室、設問者名稱우    에 府、郡、島等、地名의明를함。\\n一、應答은 每日繼續을 原則으로하나 設問發送  은每週火木土三日間만 利用하기로。\\n▼讀者 甞聞朴氏之祖朴赫居世昔  氏之祖昔脫解 金氏之祖金閼智  然則李氏鄭氏柳氏之祖誰也？\\n(湖南一讀者)\\n▽記者 新羅以前、辰韓六部라고  傳하는 이름은 閼川楊山村、突  山高墟村、觜山珍支村、茂山大  樹村、金山加利村、明治山高耶  村이라고 합니다。 그런데 儒  理王 九年春에 六部의 村名을  곳치는同時에 賜姓을 하엿으니  楊山村은 及梁部 姓은李、高蘆  村은 沙梁部 姓은崔、珍支村은  本彼部 姓은鄭、大樹村은 漸梁  部 姓은孫、加利村은 漢祇部  姓은裴、高耶村은 習比部 姓은  薛、이것이 이른바 新羅 六大  姓의 始初입니다。 여게 對해서  는 討論할 點이 만습니다 마는  이欄으로는 不能입니다。(忙中  閑)\\n▼讀者 中國三民主義者 孫文은  何時代사람이며 何省人？그後  連유者가 누구누구인지？\\n( 三川심심生)\\n▽記者 淸나라ㅅ때 사람。 穆宗  同治四年(西紀一八六五年)生。  廣東省 香山縣人。 連유者란 意  味가 모호합니다마는 革命運動  에 從事하든同志들 말임니까？  黃興、汪兆銘、胡漢民、等等等\\n(忙中閑)\\n▼讀者 此生에서 天子못된 車경  석이 죽어 저生에가선 무엇이  되엇나요？   (延日亞罡)\\n▽記者〃屍に鞭を打つな〃(屍  體에 채ㅅ질을 하지말라)라는  일본俗語가 잇읍니다。 이미 世  上을 떠난 죽엄에 對하야 너무  빈정거릴것이 없을가 합니다。\\n(忙中閑)\\n▼讀者 梅堂崔景熙氏의筆帖 한  卷을 所持하고잇는바 어느때어  느곳사람이며 世評이 어떠한지  요？(市內紅斗開)\\n▽記者 筆苑에 들지안헛으니 그  리대단한사람이 아닌듯 합니  다。    (忙中閑)\\n▼讀者 咸豊元寳當百이라는 葉  錢一枚를 得하엿사온대 幾年前  ？(滿浦鎭洗劍生)\\n▽記者 咸豊이란것이 淸國年號  이니까 淸國돈。 지금으로 부터  約 八十年 남짓。 時價는 不知\\n(忙中閑)\\n▼讀者 져는 二十四歲 나는靑年  인데 至令自動車運轉手를 하려  고하는데 親척들은 巡査를하라  고합니다。 어느길로나갈가요？\\n(平南明星)\\n▽記者 運轉手로 나가라고 勸하  고싶습니다。(忙中閑)\\n▼讀者 高麗器採取時 朝鮮通寳  라고한 葉錢을 發見한바 至今  으로부터 幾年何時代品이며 買  受處와 價格은？\\n(裡里 欲知小生)\\n▽記者 海東通寳、東國通寳等과  같이 高麗時代의 華錢일듯 합  니다。 肅宗 以前에도 鐵錢을  쓴 記錄이 잇지마는 朝鮮通寳  는 肅宗以後의 鑄錢일듯 합니  다。 肅宗을 標準한다면 지금으  로부터 約 八百三十年前。 買受  處 價格等屬은 모르겟소。\\n(忙中閑)\\n▼讀者 鮮滿、日鮮、全鮮、南鮮  等 하필 왜 鮮字로서 우리朝鮮  을 代表합니까？鮮人、鮮人이  라는 소리가어디 듣기좃소？\\n(市內에치오피아)\\n▽記者 地名을 省畧해쓰는 境遇  에 上部를 떼거나 下部를 떼거  나 그것은 方便대로 할것이지  마는 朝鮮을 鮮이라고하는데는  理由를 不拘하고 何如間不快한  것이 事實입니다。 그래서 우리  는 全鮮을 全朝鮮、南鮮을 南  道等等 可及的달리쓰기로 합니  다。       (忙中閑)\\n▼讀者 諸葛亮의 戰術인 八陳圖  法을敎示하여주시옵소서。 에치  오피아傳敎하고자하나이다。  特請입니다。   (茂山一讀者)\\n▽記者 에치오피아는 벌서 亡햇  는데 成服後藥方文式이 되어서  그만 돌가 햇으나 特請이라니  請이나 듣지요。 八陣法이란 古  代小說等을 보더라도 種類가  여러가지인 모양입니다 마는  諸葛亮의 八陣法은 이러하다고  傳합니다。 洞當、中黃、龍騰、  鳥翔、連衡、握奇、虎翼、折衝。  玉樓夢에 나오는 魚鱗陣이니、  長蛇陣이니、方圓陣이니、偃月  陣이니 하는것도 이 八陣中의  어느變形인지도 모르겟읍니다。  그런데 讀者가 듣고 싶은 諸葛  의 八陣圖란 想必、陸遜이가  魂나든 三國誌의 八門陣같습니  다。 八門은 休、生、傷、杜、  景、死、驚、開 等인데 이 陣  形을 모르고 함부로 들어서다  가는 風雨가 大作하고 飛沙走  石하고、神將鬼卒이 若是若是  한다는等等變化莫測이랍니다。  三國誌에는 돌(石)로 벌려 노  앗다고 햇섯지요？이法이 꼭  神効할것 같으면 에치오피아는  姑捨하고 世界에救해질 國家와  民族이 만흐련 마는||。\\n(忙中閑)\\n▼讀者 우리朝鮮사람들은下人이  서방님、아씨님、되련님等等하  는대 子婦도 그와같이해야하니  下人과맛찬가진가요？\\n(市內一讀者)\\n▽記者 用語는같더라도意味는다  르겟지요。 하나從來우리네家庭  에서 子婦의 地位가至極히하잘  것없이 되어온것이 事實입니다  媤宅은 개(犬)도 상전이란말까  지잇으니까요。(忙中閑)\\n▼讀者 警察拘留處分의 時効는  幾個月인지요？(黃海一片葉舟)\\n▽記者 拘留科料及 沒收等에 對  한時効는 一年만 經過한다면其  執行의免除를 받을수잇음니다。  그리고 拘留期間은 滿二個月以  內이므로 이期間內의 拘留에對  하야는 一年間의時効로 免除됩  니다。(社會部)\\n▼讀者 都市와鄕村에 人口密度  가顯異한故로土地利用의道가過  不及한感이多有한바 全朝鮮的  으로山間及廣野에 均等分布하  야居住케하면 產業開發上有益  한効果가特有할뜻하오니 貴意  見이如何(鐵原欲均生)\\n▽記者 意見은 그럴듯 합니다마  는그러케 만들어주는 政治와經  濟와|等等이 없으니 딱하지안  켓읍니까？(忙中閑)\\n▼讀者 本月十七日 夕刋四面 本  欄朝鮮의 意義는 조선 (조흔好  의意、선은 外貌의意、新郞 선  본다는것이其例)을 後世에 漢  字로 朝鮮이라取音하여섯다는  것이 가장正論인듯 합니다。\\n(長淵아는체生)\\n▽記者 꽤 애쓰신 解釋입니다。  마는 應接子는 承服하고 싶지  를 아니 합니다。(忙中閑)\\n▼讀者 先祖께祭를들일際에斷髮  生으로서도 冠을써왓는대 生의  意向으론 脫帽도 無關하온듯하  오니 應先生의明見은 如何？\\n(谷山改革生)\\n▽記者 儀式인바에는 式을 가추  어야 할것입니다。 特種儀式의  차림차림은 原來常時와는 다른  것이니까 斷髮에 冠도無妨할것  입니다。 禮服正裝이 없어진 우  리의일이라 常時着用의 衣冠으  로도 어쩔수없는 일이겟읍니다  洋式은 대체로 脫帽가禮지마는  우리의 風俗은 衣冠을 整齊하  는것이 禮니까 어쨋든脫帽는非  禮외다。 〃禮｜與其奢也｜론寧  儉〃이란意味의脫帽라면또問題  는다르겟읍니다마는|。\\n(忙中閑)\\n▼讀者 巡査合格의 速成法을 仔  細히 가르켜주시오。\\n(平壤  一讀生)\\n▽記者 모르겟소이다！달리 希  望하는 職業은 없으신가요？\\n(忙中閑)\\n▼讀者 現代靑年中 일본말을混  用치안으면 意思發表를 自由롭  게못하는대 이를退治할 妙策이  없을까요？(東萊欲知生)\\n▽記者 반듯이 그사람의 罪가아  닐것입니다。 普通學校에서부터  굳어진 혀(舌)라、하는수 없는  일입니다。 妙策이야 잇지만。  원악서리맞은 혀끝이라、早冷凍  傷에 自由로 놀릴수 없소이다  그려！(忙中閑)\\n▼讀者 去十四日 貴報에 依하니  失職同胞를 爲하야 新京滿洲煙  草會社에서 職工을 募集한다하  오니 이것은 在滿同胞만 採用  합니까？全鮮同胞도 採用합니  까？(高城 李生)\\n▽記者 詳細는 新京에잇는 滿洲  煙草株式會社로 問議하시기 바  라나이다。(社會部)\\n▼讀者 朝鮮서 醫專을 卒業하고  一層醫學硏磨의 目的으로 獨逸  留學하랴면 苦學같은 方法으로  目的達成可能與否를 下敎하십  시오(新恩醫學生)\\n▽記者 獨逸가서 苦學하기는 不  可能합니다。(學藝部)\\n▼讀者 저는 普校를 卒業한當年  十七歲의少年입니다。 現在旅舘  뽀이生活을하고 잇습니다。 저  의所願은 劇團俳優인데 어떠케  하면 그所願을 達成할수가잇을  까요。(延安願俳優生)\\n▽記者 俳優가 되려면 劇團에들  어가는길밖에 없습니다。 所願  하는 劇團에 直接물어보십시오  그러나 아마 안되기가 쉬울것  이니 그대로마음을 진정시켜가  지고 主人의일을 잘보아드리는  것이 조흘까 합니다。\\n(學藝部)\\n▼讀者 普通學校를 卒業한 十八  歲少年이온데 聲樂에 만힌趣味  를가지고 一年前부터 發聲을  硏究中이온데 將次 레코｜드歌  手가 될수잇을까요？그리고  聲樂에對한 硏究書를 下敎하십  시오。(南面 一讀者)\\n▽記者 素質과 努力에따라서 레  코｜드歌手는 될수잇을 것입니  다。 어느 音樂專門家에게 가서  鑑定을 받으십시오。 硏究書도  그이에게 물어보십시오。\\n(學藝部)\\n▼讀者 空氣中酸素를 取하랴면  어떤方式이조흐며 어떤 機械가  조읍닛까？(靈岩一讀者)\\n▽記者 空氣中의 酸素를 取하랴  면液體空氣를 分溜합니다 卽酸  素의沸點은 零下二一九度 窒素  의沸點은 零下二一○度 이므로  이沸點의差를利用하야따로따로  分離하는것입니다。 여기에는린  데式其他分溜裝置가 잇다합니  다。 但分溜의方式으로 얻어낸  酸素는 純粹치는 못합니다。\\n(三餘人)\\n▼讀者 去五月十五日에 京城府  廳雇員試驗을 보앗는데 府廳으  로直接問議하여도 合格不合格  間에對答을하야주지안흐니 何  日에 發表하며 不合格者에게通  하는지요。(一應試者)\\n▽記者 數日前에 合格者에 限하  야通知를하엿답니다。 그리고不  合格者에게는 一切通知를 하지  안는方針이랍니다。(社會部)\\n▼讀者 日食에對하야自古로하는  말이 오량개가해를 먹는것이라  고하니 오량개가아니라 월왕  (月王)개라는 意味같고 개가아  니라 게라는意味같은데 게라  는말은 父母게尊長게라는 게字  인듯解釋若何？(沃溝로상나무)\\n▽記者 아주 아주 신통치못한解  釋으로생각합니다。(忙中閑)\\n▼讀者 우리동리에는 유독히 파  리가 만하서 여간고통이아닙니  다。 파리를 박멸시키는 비결이  없습니까？(馬山一讃者)\\n▽記者 파리는 不潔한데서 잘  생깁니다。 그러니까 便所나塵  芥箱 其他를 깨끗하게만하면  저절로없어집니다。(忙中閑)',\n",
       " '信\\n楊口 東面에서는去廿六日面主催로大岩山龍浦에서 祈雨祭를擧行。\\n●\\n利原 衛生組合幹部와 警察署及 面衛生係員과 一般이協力하야 撒水車設置。\\n●\\n安東 七月三日부터四日間白高山少年提琴家가 南地□에出演한다고。\\n●\\n博川 天主敎信者金某의長女는찾아온 新郞을同敎信者가아니라고逃亡。',\n",
       " '應 接 室\\n▼讀者 三綱五倫中 五倫은 아나  三綱은 무엇무엇？\\n(金堤꼭알고저生)\\n▽記者 夫爲婦綱、父爲子綱、君  爲臣綱。\\n(月岩山人)\\n▼讀者 行政上의 救濟手段으로  朝鮮에도 日本內地와 同一한訴  願 又는行政訴訟을할수 잇으며  兩者의 事項圈圍及 手續은 日  本內地와 如何하며 兩者가다할  수없다면 何由로？\\n(蔚珍南無名)\\n▽記者 朝鮮에는 아직 行政訴訟  法과 訴願法이 施行되지 안습  니다。 따라서 行政上의 不法不  當處分을 呼訴救濟하는 制度는  全然없읍니다。 그理由는 當局  의 辯明에依하면 朝鮮은 아직  〃時期尙早〃라는 것입니다。 어  째서 時期尙早인지 또어느때까  지가 適切한 時期인지는 都是  疑間입니다。 何如間 이 두가지  制度는 朝鮮에도 速이實施하여  야만할것입니다。 (經濟部)\\n▼讀者 朝鮮自來의 祭禮法은 누  구의所作이며 어느때부터 생기  엿나뇨？ (咸興一偶人)\\n▽記者 朝鮮의 祭禮法은 中國의  祭法을 應用한것인즉 箕子朝鮮  때부터 잇는듯하나 그創作한人  名은 出處가 없읍니다。\\n(月岩山人)\\n▼讀者 世界의 七大國의 首都及  政體는 무엇인지 잘가르켜주시  요。 (鐵山金一雄)\\n▽記者 英、米、獨、佛、日、蘇  伊를 말슴하는 것이겟습니다。  英、日은 君主國이요 獨、佛、  米、蘇는 民主國이라 하겟으며  倫敦(英)、華盛頓(米)、巴里  (佛)、東京、莫斯科(蘇)、伯林  (獨)、羅馬(伊)가 그首都요。\\n(調査部)\\n▼讀者 京城市內에 書店이 몇곳  이나되는지요 그住所와 書店名  을알으켜줍시요。 (康津讀者)\\n▽記者 京城市內 書籍商組合은  日本內地人側은 京城本町大阪  屋號書店에、朝鮮人側은 京城  鍾路博文書舘에 잇으니 그리로  알아보시요。 (調査部)\\n▼讀者 地方都市의 電話番號簿  를 求하려하옵는데 어데서 販  賣하오며 價格은 얼마나되는지  요。 (市內一商業生)\\n▽記者 長距離電話단집은 그냥  노나주지만 一般에게는 팔지안  는것이 原則이랍니다。 그러나  京城郵便局(電話本局二二番)에  서 팔기도 한답니다。 (調査部)\\n▼讀者 『참그리스도』『벌거벗은  나사렛에수』『골고다희의생의예  수』｜그의精神을 復興시키지아  니하면 現狀의 朝鮮基督敎의存  在는 宗敎自體의存在가 不可能  할뿐아니라 存在하면 存在할수  록 朝鮮社會에 害毒만준다고하  니 참그리스도、벌거벗은 나사  랫예수、골고다의회생의예수의  正□는 어떠한것이며 그의참된  精神이란 무엇입니까？\\n(西氷庫學堂生)\\n▽記者 그리스도의 참된 精神을  한마디로 말한다면『愛』『義』  『奉仕』,『犧牲』에 잇다고 할것  입니다。 이 참된 그리스도의精  神이 없는 基督敎야말로 잇으  나 마나한것이요 조은 看板걸  고 나뿐行動이 잇을때에는 오  히려 害毒이 잇을것이니 이런  意味에서 하는말이 아닐까요。\\n(學藝部)\\n▼讀者 一個月間海水浴費를 準  備하엿읍니다。 朝鮮에 第一가  는 浴塲이 어디인가요。\\n(群山梁夏圭)\\n▽記者 群山가까운 忠南廣川海  水浴塲도 좃습니다。 施設로는  元山松濤園이 第一이지요。\\n(社會部)\\n▼讀者 糖醋肉製法을簡單히記錄  하야주십시오(市內一新女性)\\n▽記者 二件中一件만鄭順媛氏의  糖醋肉맨드는法을紹介합니다。  牛肉을기리一寸넓이五分가량으  로썰어서술(술한술)과간장을고  기에다처서잠간노핫다가고기半  斤에鷄卵한개를깨트려섞어가지  고갈분가루를되게풀어서무친것  을 끌른기름에 지저내놉니다。  그다음에 파를기름기름하게 썰  고 닌진은 얄팍얄팍하게 썰어  끌른물에 살작 디처노코 木耳  머섯은 더운물에너헛다가 잘붓  거든 씻어노코 이상재료가 준  비되거든 남비에기름을 좀끄리  다가 파、닌진、木茸를너코볶  다가물을좀치고 간장、초、설  탕으로간을마처논담에 갈분가  루를 물에풀어 끌른데다부어가  며 국자로저면서 끌커든지저  논고기를 너허서 잘섞어 접  시에담아놉니다。 (學藝部)\\n▼讀者 最近世界大戰이 西紀何  年何月에 發生하엿섯습니까？  거기에 參加하엿든 各國名은？\\n(莞島欲知生)\\n▽記者 世界大戰은 一九一四年  六月廿八日에 爆發되엇습니다。  그二參戰國으로는\\n同盟軍側 獨逸、墺、洪國、露  國、土耳其、뿔가리아國 等等  聯合軍側 英國、佛國、伊太利  (처음에는 同盟軍側이다가 나  종에 聯合軍側으로 加擔)、루마  니아、中國、日本、米國 等等\\n(政治部)\\n▼讀音 朝鮮文學講義錄이잇습니  까。 中等程度의 朝鮮語의 知識  을 얻으려면 무슨 書籍 雜誌가  잇습니까。 (南川文學崇仰者)\\n▽記者 朝鮮文學講義錄이란것은  없습니다。 朝鮮語에 知識을 가  지시고저하면 『중등조선말본』  (崔鉉培著 京城堅志町漢城圖書  會社發行)과 한글雜誌『한글』  (京城花洞町一二九 朝鮮語學會  發行)을 보시는것이 조켓지요。\\n(調査部)\\n▼讀者 孫文의 三民主義는 어떤  것입니까？ 그리고 氏는 中國  에서 무슨運動에 努力하엿나요  ？ (咸興無知生)\\n▽記者 三民主義는 民族主義、  民權主義、民生主義。 그리고  孫文은 中國革命運動(滅滿興漢  을 目的하고 또 君主制를 顚覆  하고 共和制를 實現하려는)에  從事하엿습니다。 (政治部)\\n▼讀者 生은 今年 二十四歲온대  十一年前에 結婚햇습니다。 이  땅에서는 痛痕하여도 할수없는  일이라하고 그냥生涯의 愛의感  情을 犧牲할려고햇드니 結婚直  後부터 子宮病으로因하야 誠心  誠意껏 治療하여주엇으나 効果  는없고 產兒不能이라고 醫師가  말합니다。 사랑이없는 이生活  로서 前途를犧牲하랍니까？ 또  는 사랑하는戀人하고 再結婚하  랍니까？。 (府內求福生)\\n▽記者 大經大法으로 말하자면  이미結婚한以上 設使안해가 產  兒不能이라할지라도 될수만 잇  으면 가치사는것이 올치오。 그  러나 問題가 살수없다는데 잇고보니 事情인즉 딱합니다。 이런것은 當事者끼리 充分히 相議하야 彼此에 다便하도록 處理하는것이 조켓지오。\\n(天外天)\\n▼讀者 朝鮮料理法을 初步로부  터 알기쉽게 쓴册이잇습니까？\\n▽記者 方信榮 『朝鮮料理製法』  (京城堅志町漢城圖書會社發行)  을사보시요。 (調査部)\\n▼讀者 結婚式에 新郞新婦는 男  左女右로 선다하섯으니 新郞의  右便에 新婦를세움니까？ 主禮  者보기에 新郞은左 新婦는右로  세움니까？式塲行進退塲時와撮  影時同乘自動車時의 左右는？\\n(洪原左石不知生)\\n▽記者 主禮를 向하야 섯을때에  는 新婦가 新郞의右便에 서고  退塲、撮影、乘車時에는新婦가  新郞의左便(學藝部)\\n▼早稻田中學講義를 獨習하면 甲  種乙種의 專門學校에 入할수잇습니다(載寧李相助)\\n▽記者 그講義錄에는 반드시特  典이 記入되엇을것이니 그것보  시면 잘아실것이요(調査部)\\n▼讀者 野水參差落漲痕、疎林韻  倒出霜根、扁舟一棹歸何處、家  住江南黃葉村의書意와作者를下  敎하야주십시요(坡州一讀者)\\n▽記者蘇東坡의 詩입니다。 解釋까  지는 지리합니다 東坡集을보십  시오(月岩山人)',\n",
       " '約婚拒絕한다고\\n만나면毆打\\n榮州에孟浪한新郞감\\n【豊基】지난十일 오후다섯시경 경북 풍기시(豊基市)에는 그날이 마침 장날이라 만흔 사람이모힌중 한모통이에서 갑작이싸홈이 버러저 필경 경관의 출동까지보게되어 일대 수라장을 이루웟다는바 이제 그 자세한 내막을탐문한바에 의하면 따린 사람은풍기면 두산동(斗山洞)이남이(李南伊)(二一)권영문(權英文)(二三)두사람이요 맞은 사람은 예천군상리면 고항동(醴泉郡上里面古項洞)안운석(安雲碩)(二二)으로 서로재하나를 격하야 사는 화전민(火田民)들로서 월여전에 이남이의아버지되는 이기영(李起榮)과 안운석의 아버지 안양길(安陽吉)두사람이 서로맛나 술을 마시며 이의 둘재들 돌이(乭伊)(一八)와 안의딸 차영(釵英)(一七)과의 결혼을말로서만 상약하엿든바 약十五일전에 다시 맛나매 안씨로부터 혼인을 거절하엿다는데 이에 분개한 전기 이기남은 웨 이유없이파혼을 하느냐고 질책하며 안양길을 구타하여 아직 부상한채로 자리에서 이러나지 못하엿다는바지난 三일 장에서 서로 맛나젊은사람들끼리 말다틈을 하든 남어지 전기 두사람이 달려들어안운석을 난타하야 혼수상태에빠저 자못 위독하다는데 이남이 권영문 두사람은 곧 소관 주재소에소환하여 취조를한 남어지 밤九시 일건서류와함께 영주경찰서로송치하엿다한다。',\n",
       " '人生은\\n九十九歲부터\\n百歲는結婚適齡아니다\\n【올드·포지發】『人間도 百歲가되면結婚하기는 좀지나친年齡이라』는것은\\n南北戰爭의 勇士잘스쟈네트氏가 昨年九十八歲의 高齡에서傚然喝破한것이지만 氏는그後一年間自說을 實踐躬行한後 요지음정말結婚하게되엿다。 相對는 今年五十四歲의 寡婦에라•부란슈마닝夫人이요 新郞인 자네트氏는九十九歲인데는 놀라지 안흘수없다 氏는今番新婦를 마지하기爲하야 스위트홈裝飾에 忙殺하고잇다는데 이老人은 이로서三次이라니老人의 健康도 미루어말바이다',\n",
       " '强制結婚에反旗！\\n直接、新郞찾어서\\n本意없는約婚解消\\n뒷불행보다 낫다고 담판후\\n洪原에膽大한處女\\n【洪原】정혼한十七세처녀가부모끼리맺어준마음에없는결혼은성립할수없다하야신랑의집에 직접찾어가『당신과는 장래가치 살수없다』고 이혼을 선언한강제혼인의실극一막이발생하엿다함남홍원군홍원면하남리(洪原郡洪原面河南里)김학순(金學順)(四三)은 자기맛딸 어복(於福)(一七)의 동의를 든지안코 작년 정월十七일에 혼전(婚錢)四十원을 받고동면 동흥리(東興里)석용천(石龍天)(五三)의 장남태국(泰國)(一九)에게 시집을 보내기로 정혼하엿는데 어복은 마음에없는 강제혼인에 이때까지 반기를들고 왓으나 납페(納幣)를 받을날도 임박하야옴에 최후의 용기를 내어 지난 十七일 전기 어복은 직접신랑집에 찾어가서 그와같이 약혼해소를 선고하엿는데 이에 신랑측에서는 대경하야 그래도 혼인성립을 시키려고 애를썻으나 처녀의 극력반대로 하로종일 언쟁으로 구경꾼이 인산인해를 이룬가운데 홍원서원이 겨우 진압시킨후 결국약혼은 해소되엇다는데\\n신랑측에서는 격분하야손해배상청구소송을 제기하리라는데홍원읍내의 한화제거리가되어잇다한다。',\n",
       " '名映畵鑑賞會\\n本報讀者優待\\n六月十二、十三兩日府民舘\\n映畵同好會에서 端午節을 卜하야六月十二、十三兩日 府民舘에서每日午後一時부터 三回續映 으로名映畵鑑賞會를 開催한다 함은旣報한바와 같거니와 特히 本報讀者는 優待하야 本紙에너흔優待券을떼어가지고 가는이에게는 普通四十錢、學生三十錢을 各十錢割引하기로 되엇다。\\n이名映畵鑑賞會에서 上映될 映畵는 요세프·로벤스키監督、얄미라·베랑코｜바主演의 첵코슬로바키아映畵『흘러간첫사랑』(なかれ)과 成瀨已男監督의P·C·L映畵『소문난處女』(噂の娘)인데그이야기의 內容을 紹介하면 다음과같다。\\n흘러간첫사랑\\n첵코의辟村에서 이러난일이다이마을은 近代文化의惠澤도 그리힘닙지못하고 肥沃한土地도 안이여서 村人은 貧寒하엿섯다。\\n이村落兒童은 맨발로 단이는것이 普通이여서 구두를 신을수 잇는것이 한希望이엿섯다。\\n『파울』은 집이裕餘하여서 구두를 신고잇스나 그애가 小學校에서 가장 새이조케지내는 女子『페피｜』는 구두를 가지지못하엿섯다。『파울』은 氣質이 조흔애여서村民들도 이少年을 퍽으나 사랑하엿다。『파울』은『페피｜』에게한커레구두를 사주고자웟다。\\n『파울』이 어느날밤에 꿈을 꾸노라니까 自己와『페피｜』가 王과女王의衣服을 입고 宮殿에 잇는데 女王이 아름다운衣服□에 맨발로 아프게 서잇섯다。 잠이 깨여서『피울』은 고기를 낚어서 그것을판돈으로 구두를 사기로 决心하엿다。『피울』이 낚은고기는커서 끄집어내지못하고 도리혀끌여서 下流로 흘러갓섯으나少年은必死의힘을 다하야 고기를 끄집어내여가지고 그판돈으로『페피｜』의 구두를삿섯다。\\n『파울』의집과 그村에서는『파울』의 身上을 念慮하고 잇는中에『파울』이『펜피』의 구두를 가지고온것을 보고 다 기뻐하엿다。特別이 기뻐한것은 말할것도없이『펜피』엿섯다。\\n소문난處女\\n健吉은 큰 酒店의 主人인데 일즉 喪妻하고『葉』이라는 妾에게『오뎅』집을 열게하엿다。 이집에는  江과 紀美子라는 異腹姊妹가 잇엇다。 그런데 紀美子는 自己가『葉』의딸인것을 알지못하고自由스럽게 자랏섯다。 祖父啓作은 옛일을 잊지못하고 料理店에나 다니는것이엇다。 이러한 집인지라 江은 이러한 環境에서 버서나고저하엿섯다。 이런것을 생각한 健吉은 江을 可憐히 여기여서 울게되엇다。 江은 父親、『葉』、紀美子三人만을 生活시키고자 뜻에없는 結婚을 願하엿다。父親은 이마음을 돌리려고 애를썻지마는 効果가 없엇다。 新郞감新太郞이란 사람과 맞선을 보앗는데 新太郞의 母親은 江을 메누리로 삼고저 하엿으나 新太郞은 現代的인 紀美子에게 더 만흔野心이 잇엇다。 그런 結果 新太郞과 紀美子는 서로 密會하게까지 되엇다。 어느날 江은 뻐쓰에서 紀美子가 新太郞과 사이조케 다니는것을 보고 깜작 놀랏엇다。 그날밤 江은 紀美子의 입에서 新太郞의 本心을 듯고 울엇섯다。 江은 그러케된것이슬픈것이 아니라紀美子가 무슨일에나 反抗的으로 自己에게 대드는것이 서러웟다。 紀美子의 誕生日에 健吉은 紀美子가 新太郞과 密會한것을 듯고는 성을내여『葉』이 어머니라는것을알려주웟다。 紀美子는 모든것을바리고 나가려고 하엿다。 그때에일보는애는 刑事가 健吉을 찾어온것을 알리엿다。 술에다 물을탓다는 까닭이다。 끌여가는 健吉을 보고는 다눈물을 흘렷다。 그러나 그앞에 理髮店에서는 主人과손님이 演劇이나 보는것처럼 輕快한口調로 酒店의뒤는 菜蔬가개나될는지 하고 말하는것이엿다。',\n",
       " '六十老總角딸氏\\n新婚後에更少年\\n【파發電】首相을三次나한佛國政界의長老 앙드레·딸라디에氏는獨身主義者로 有名한데 最近 무슨생각이 낫던지 永年의主義를斷然放棄、쇼몬·수르·타론느市에서 주리아·라르장톤이라는老處女와 華燭의典을 擧行하엿다 新郞딸라디에氏는 六十歲인데 新妻를얻어서 아주젊어진 意氣라고한다',\n",
       " '픽포｜드의옛사랑의집\\n『픽페아』는五十萬弗에팔어\\n사랑이 바꾸이자 집도새롭게\\n하리웃드映畵界의『호와이트·하우스』라고하는 그豪華로운것으로이름잇는『픽페아』邸가 今番팔리게되엇다。 이大邸宅은 그 이름과같이 메리｜·픽포｜드와 따크라스·페아빵크가 一九二○年 結婚한 當時 돈드는것은 念頭에도 두지안코 삐바리｜丘上에 지흔것인데 픽포｜드가 페아빵크와 離別하고 去七月廿六日『젊은戀人』뿌티·로재｜스와 結婚하게 되어서끝끝내 팔릴運命에 이르게되엇다픽포｜드는 하와이方面의 蜜月旅行에서 도라오는대로 이『픽페아』邸를떠나서 새로운사랑의 집으로옮길豫定인데 賣價는 實로 五十萬弗의 巨額이라고한다。 (爲眞은픽포｜드와 새新郞 로재스)',\n",
       " '그와女敎員\\n中   民    村    生\\n개울물  출넝 출넝나무닢  하늘 하늘우는듯  웃는듯밝은달이  동산위로떠올른다||\\n×\\n에헤야 가을이야서늘한    가을이야조타！  이가을잘노러라  이가을||\\n마침내 그女子는 이노래를 다듣기前에 흐늑흐늑 늑기며 우럿다。\\n그때 그는 깜짝놀내서 女子의등허리에 손을집고 흔들엇다。\\n『여보 웬일이요 별안간 웨우러요？응？||』\\n『가만두어요||실컨 울게 내버려두어요||』\\n웬일인지 그女子는 이러케 對答하며 如前히 운다。\\n그는 웬셈을 몰라서 어리둥절하엿다。 혹여 自己에게 무슨잘못이 잇지안흔가？\\n그에게 무슨 誤解가 없지안흔가 싶어서 그는 慇懃히 애를 태우며 무러보앗으나 그女子는\\n一切 댓구가 없섯다。 그저 울기만한다。\\n그러케 한식경을 우는데 이따금 출넝이는 냇물도 그의 울음소리에 목맷처 흐르는것같다。\\n실컷 울고난 그女子는 별안간방끗우스며 그를 처다보더니\\n『내가 웨 운지 아서요？』\\n한다。 얻제 우럿드냐 싶다。\\n『당신속을 내가 알수잇소』\\n『너무 조아서||』\\n『조아서 울다니？『\\n아모려도 모를소리를한다。\\n『너무 조으면 슯흔법인줄 모르서요？||당신은 아직 도련님이야！』\\n비로소 그女子의 말하는 意味를아러챈 그는 그女子를 응개지도록 껴안엇다 女子는 幸福을늑길때 우는것이 自然스럽다면 男子는 그런때에잡어먹고 싶은것이 自然이라는것처럼｜。\\n◇\\n그뒤로 그들의 關係를 學校에서도 알게되엇다。 學父兄들도 두사람의 關係를 그리變怪로 알지는 안헛다。\\n도리혀 그 들의 色다른 關係를好感으로 對할수 잇엇다。\\n그것은 그들 두사람이 모두 아직 總角과 處女라는 點에서 조금도 不純한 情事가 아니라는것을合法的으로 認定할수잇기 때문이엇다。\\n아주 內外間이 되어가지고、夫婦生活을 하면서、彼此에 敎韃을잡게되면 더욱 조치안흐냐 싶어서｜그들의 秘密한 關係가 外部에 發露되기前에、同情의 몇사람은 그두사람을 불러안치고 結婚하기를 勸吿하엿다。\\n勿論 두사람은 그런事實을 否認하지도 안코、彼此의 結婚을反對할 意思도 없엇다。\\n그러나 여러가지 事情으로｜여직 親族의 許諾도 못밧고、結婚費用도  旋이 못되기때문에、그들은 當塲結婚할수는 없다고그代身 爲先 心約으로굿게 盟誓하엿다。\\n그들의 婚約을 學生들도 조타하엿다。 머리가 큰、아이들은 一種의 好奇心으로 그러하엿고 철모르는 아이들도 新郞閣氏 노름하듯 저의또래끼리는 그러케 하는것이 조흘상십게 생각됨이엇다\\n그들은 그뒤에 제各其 父母에게서도 承諾을 받엇다。\\n하긴 女子의 便에서는 처음에反對하엿으나 그女子가 强硬한態度를 보이기때문에 父兄도 本人의 意思에 맥길수박게없엇다。\\n그래 그들은 定式으로 約婚을하고나서 그해안으로 結婚式을擧行하기로 準備를進行하고 잇엇다。\\n그리고 하루 바삐 結婚式 날이닥처오기를 慇懃히 苦待하고 잇엇다。\\n그런데 어찌 뜻하엿으랴？\\n그는 結婚式을 바로 一週日을남겨두고 무슨일로 身體의 拘束을 받게 되엇다。 그는 서울로 호송되엇다。',\n",
       " '婚姻日字앞두고\\n行方不明된處女\\n新郞은婚需하려간새\\n【獒樹】혼인날을 앞에 닷새두고서 밤에 도망간 바람든 처녀가오수(獒樹)에잇다。\\n지난十월五일밤에 전북오수(全北獒樹)장터 속칭 강영감(姜令監)의 큰딸 순복(順福)(一六)(가명)은 오수에 잇는 진홍선(晋洪善)(二五)과 얼마전에 약혼해노코당자사이에도 서로 원만히 역여오는十월十一일로 혼일날을 정해노코 신랑진씨는 지난十월四일에전주(全州)로 혼수(婚需)하러 갓다가 六일에 돌아와보니 장래 자기안해는 도망하고 없으므로 양가(兩家)는 랑패로 역여 주재소에 수색원을 제출하엿다는바 평소 처녀의 행동과 태를보아 남편될 진씨에게 불만을 가진것이 아니라 아마도 누구의 꾀임에 빠지지아니하엿는가 한다고한다。',\n",
       " '申 村의知鑑\\n歷代名賢이다 知人하는藻鑑이 잇엇는데 申象村欽과 및그子弟인 東陽尉 翊聖은다有名한 어른이다。 어느때象村의따님이 잇어 사윗감을求하는데 象村은 趙生員의孫子啓遠에게 뜻을두고 東陽尉는 當代名門인 延安李氏中의 少年에뜻을두어 父子의意見이 다各各달럿다。 그집안食口는 勿論다象村의 意見에 不賛成하겟은즉지금같으면 아들의말이 세워젓겟지마는 그때만하여도 尊屬親의權利가 宏壯하야 父命을尊重히 안이녀길수없음으로 東陽尉도할수없이 들날리는 延李少年을그만두고 南山골趙生員의 孫子와 定합을조찻더니 趙新郞역시 가난방이로 富者妻家를 만나매 덮어노고 데릴사위처럼妻家집한채를 차지하고 주는밥과옷만 얻어먹으며 입고 하는노릇은 아이만 귀역꾸역만드러내는 까닭으로 申家奴婢들이 上典의 百年손님을 돼지趙生員이라 指目하엿은즉 그집만의賤待는 더할것도없엇다。\\n그런데 그때定婚하려든 延李少年은 早達하야 文章과功名이當代를덮더니 不幸히 나히五十이못되어 作故하엿고 趙公은늦게 進士와科擧를하야 벼슬이正卿에이르고 壽는七、八十을살엇고 아들은 五兄弟를두엇는데長子는 晉錫이니 進士와文科를하고 筆法에精通하든 □隱先生이오 次子는 龜錫이니 文科로監司까지지냇고 三子는 禧錫이니 蔭으로 僉知中樞府事를지냇고 四子는 師錫이니 文科로 右議政이되엇고 五子는 嘉錫이니文科로 堂上이되엇으며 그孫子와曾孫이 繁盛하고 또다貴顯하엿은즉 象村申公의 知鑑은 果然놀랍다 안할수없다。 만일에이러케 뚜러지게안다면 지금인들 누가 反對하리오마는 設或미리아는藻鑑이 잇다하드래도自由結婚을 主張하는이때에 目前의榮華를 버리고 낫살먹은父兄의생각이 저보다 낫다고하야 좇을는지？\\n(雲林)',\n",
       " '소매치기結婚\\n式中에逮捕\\n世界的으로 有名한 國際소매치기의『女王』채｜나·홀소｜프(二十六才)는今般 소매치기界의 無冠의 帝王이라고말듣는 헬맨·카쓰와結婚하게되엇다。 去 九月二十八日夜 파리의 어떤이상한 카페｜에서 結婚式를 擧行하엿다는것이다。 式塲의 테｜불을 둘러싸고歐洲各地에서 參集한『同業』代表二十四人이 기뻐하든最中 突然히『움직이지 마러』라고 소리가나니까 一同은顏色을變하고 소리가난도어를돌아다본즉 그곳에는 그네들의가장실혀하는 소매치기 刑事가十四人의 警官를다리고서 잇어다는것이다 祝宴座席은 忽然修羅塲으로變하여서 발서 準備하고잇든 新婦는 三重으로 입고잇엇는데곧 그中우에 新婦衣裳을버서뻐리고變裝으로 逃走하려다가 끝끝내逮捕되어 結局新郞新婦를 包含하여男女十二人이 逮捕되어 幕을다첫다는것이다',\n",
       " '마｜사레이離婚의眞相\\n사랑도쉽고갈리기도容易\\n다른곳이드라면幸福일걸\\n柊林戀愛의悲哀\\n빙·클오스비｜와『와이킥기｜의結婚』에共演한以來갑작이 人氣를 얻게된 말괄량이女優 마｜사·레이가結婚한 지단三個月만에 離婚하여버렷다。우리에게는 喜劇을實現한 虛榮結婚의 破鏡과도같이 생각되는데 그裏面에는필림의都市 柊林이아니면 보지못할 哀話가 잠기어잇다는것이다。 그 눈물진 로맨쓰를 들어보면이러타。\\n英帝戴冠式의 休暇에 사랑하는그와 百年佳約을맺인 마｜사·레이는 世界一의 幸福한 女性이엇다。 그것이 三個月後 卽九月二日에 그女子의辯護士는 離婚을提訴하게되엇다。 이에對한 사람들의質問에應하야 그女子는『아무것도 묻지말어주세요||아므것도나는 몰라요 알고잇는것은 벌서지나간 옛일이라는것 뿐이에요』두뺨을 눈물에 적씬 世界一의不幸女가 되고말엇다\\n新郞은 메이캡師로 有名한 우에 스트모어의 末弟 파데이로서當年 二十歲、마｜사도역시 二十歲、그러나 마｜사는 衣裳室에서呱呱의소리를 지른以來 온갓藝界의쓰림을 맛보아온 二十歲이고新郞은 막學校를나온 社會의쓰림이라고는 아무것도 모르는 柊林人으로 兄의덕으로 無難히就職을한 간난애와같은 二十歲이다 그러나 마｜사는 純情의所有者이다파｜데이와 사랑을 속삭이게된以來로는 그는 結婚을、家庭을、그리고 사랑스런어린애를 慾求하엿다 뭣보다도 安住할 집이갖고시펏고 幸福한 定庭生活을 性急히渴仰하엿다\\n마｜사도 파데이도 幸福에醒한것은 暫間동안으로 休暇가 끝나자人氣가絕頂에이른 마｜사는 撮影과實演 라디오와팬의 應待 記者들의 인터｜뷰等等으로 눈코도뜰새가 없고 때로 紐育에가면은그리운파데이와 長距離電話로 속삭이며 파데이도 또한때로는 旅客機를타고 마｜사를 만나러간일까지도 잇엇다 그래도 夫婦두사람만의時間은 全혀 없엇다고해도過言이아니엇다。\\n그와같이 잠간동안 맛나는것도 마｜사의生活때문에 좁아진어느날\\n『그러면 난 도라가겟어요』하고파티｜는 혼저적막하게 도라가는때 마｜사는『저도곧 가겟어오』이같이 대답은 하엿으나 그대로 시카고에 몸을 감추게되엇섯다。 그러나 자기외면에 공동생활을 여간생각하는것이아니엿다。 초조한파티｜는 늘 데리려오지만 마｜사는 結局難婚하기를 决定하엿다。 마｜사의 울면서하는말을 들으면『만약 우리가 다른곳에서 맛나드라면 어떠케幸福되엇슬는지몰르는데 柊林에서는 아무래도그런수가없어요』\\n그네들의 戀愛의苦衷도 結婚의悲哀도 넉넉히 짐작할수가잇다。\\n(寫眞은 마｜사·레이)',\n",
       " '鄕園見聞錄||❶\\n첫겨울의感懷！\\n◇|宋  志  泳\\n가을도 벌서 다가나보다｜｜\\n霜風에 우수수 잎 지는소리 漸次 드믈어가고 寥廓寒空에 울어예는 雁群만이 有時乎 客子枕頭에시럽시鄕愁를자어내게할뿐이다\\n이미 百卉 凋殘한뒤엿만 오히려 馥郁한 香薰을 풍기어 晩秋의情趣를 북돋아주든 籬下의 數叢甘菊、그마저 줄기쫓아 시들어간다。 마을앞 우물길에 무배추 광주리를 이고나오는 女人들의 발자최가\\n奔走한것 을보아 김장準備에 바쁜 첫겨을 風景임에 틀림없다。 인제 그러케 奔忙튼 農村도저윽이 가쁜숨을 걷울철이되엇다\\n앞마을 彈實이、등넘어 쇠돌이시집장가 가는것도 이때이다。 바람결에 멀리 들려오는 방망이소리 叮嚀코 뉘집處子 新郞맞이 上納옷 다듬는것이리라。\\n온여름내 풀잎을 말리어 태우든金僉知 담배통에 제법 長壽煙부스럭이가 담겨잇는것을 보아어끄제장날 벼ㅅ섬이나톡톡히 저내인 貌樣이다。\\n그러케도 閑散하든 酒幕거리玉仙네집이 요사이는 每日같이밤을 새워가며 노래가락 靑春歌가 흘러나온다。 昨年겨을 寳貝란년 때문에 뒷마을\\n꺽쇠란놈 이 노라나드니만올겨울엔 또 몇사람의 젊은 오입장이를 이마을에 남겨노코 갈것인고||\\n어쩌튼 조흐나 궂으나 只今이農村에잇어선 一年中 가장 閑暇롭고 즐거운때임이 틀림없다。\\n萍蓬浪跡이 鄕園에 蟄居한지가於焉三載、올해까지 세번재 가을을 이마을에서 맞고 보내엇다 오로지 孤獨과 靜寂에서 空虛한 思索을 되풀이하며 그날 그날의 生을 延長시킨것이 지나온生活의全部이엇거니뭬一知半解인들잇어工程에 資한다 할것이랴만 그러나虛浪한 가운데서도 觸目寓感이때로 時節을따라 戀할때 저윽이 머리속에 아로삭여지는것도 노상없는바는아니다。\\n첫번가을 을 보낼땐 아직도 마음에 어리엇고 두번 째겨울을 맞이할땐 淆雜한 感想이 어느程度까지 沈潜하엿엇으며 이제세번째 겨울을 맞어서는 完全히 農村의 自然과 더부러 世紀의 潮流를 벗어나 醇化하여젓고 農村의文物과함께純 朴하엿음을 스스로느끼어 向日의 過大誇張하든 모든 抱負와 理想과 希望이 죄 淺薄한 虛詐에 담겨진 妄想이엇음을 認識하게쯤되엇다。\\n무룻 草木은 黃落으로써 마즈막이다。 그러나 잎이 떠러지는자리엔 어느새인지 봄을 기다리는망아리가 胚胎되어잇다。 悲夫□逆旅一生을 허덕이는 渺少한이몸들 다같이 닥어올 落葉의 季節에남겨노흘 萌芽는 무엇들인고？\\n그래도 무어 꿈적어려본다고營營逐逐하는게 都是마음에드는것이 아니매 손에잡힐리없다。 農村에잇어선 아무래도耕牧이 至當한業인상싶다。 日復一日의 疲困한 心身을 休息할길이없어 어수선한 이불속 꿈자리만을 뒤지는 그처럼 憂鬱한心境은 아니지만 팔다리걷어부치고호미차고 낫을들고 나서야만 格에어울릴 處地에서 억지로 자리에 몬지를털며 손끝에흙을 안무치려니 그心思 便할道理가없다。\\n外人의 짓거림이야 무 라하건農村에서 태어나 農村에서컷고오늘까지도 農村의雨露를 마시고잇는 몸이매 이農村은 길이 나의둘도없는 搖籃이다。\\n이러함에 도 不拘하고 철없는마음이 農村을 마다하야 부즐없이 떠돌아단이든 지나간날의行跡이 새삼스레 뉘우처지기 끝이없다。\\n그러나 생각할스록 이것은너무나 서러운 心思다｜｜。 數三年前만하여도 우리의 先知者 志士들은 무슨 마음이엇든지 이農村을念頭에두어 입으로、붓으로 歸農運動을 부르지젓엇것만 오늘와서는 다들 功成身退를 하신모양인지 그러치안흐면 自暮途窮에 倒行逆施를 한겐지 끔적 아무 消息이없다。 그것도 그럴것이리라□然 識者然하야\\n先知者로 自處하는 그네들도 事實農村의實情에는 어두운분들이엇다。 말로만 敎導하는것이百番을 算한를 單한번의 實踐으로써 範을 示함만같으랴。 그러므로 그네들은 農村으로 돌아가라고만하엿지 農村으로 돌아오라고하는말은 없엇다。\\n農村도 閑隙이어니와 때、正히밤도 깊을대로 깊은지라 三尺案頭에 長夜를 새우며 보고 듣고느낀그대로 붓을달리어 우리 農村의 面貌를 보살펴보기로하다。',\n",
       " '稀貴한結婚式\\n新郞도 쬰슨氏\\n新婦도 쬰슨孃\\n들러리도 쬰슨諸氏\\n新婦는 포｜린·쫀스孃이요 新郞은 마그나스·프레데리크·쫀슨氏엿는데 二人은 去十月九日위니 페그市의 루텔敎會에서 B·B·쫀슨牧師의앞에서 三世의 약속을매젓다고한다。 이날 式塲에 列席한사람들을 들것같으면 新婦의들러리가 쫀이스·쫀슨孃과 엘리노아·쫀슨孃、新郞側의들러리가 쫀·쫀슨氏、그리고 參列者의 案內役까지가 하톨트·쫀슨氏에 엘마｜·쫀슨氏라고한다 牧師의嚴肅한 祝福이끝나자 올강의伴奏로 讃歌『完全한사랑이여』를 불럿는데 그亦아아！린컨·쫀슨夫人이 아니엿든가 또한가지 因緣이잇는것은 이嘉日은 新婦의兩親W·G··쫀슨夫妻가 結婚五十一週年 記念日이란것이다。',\n",
       " '世界名畵裏面의逸話\\n⓭\\n『룻소｜』篇(3)\\n失戀의遺品『夢』\\n金周經\\n그의戀愛와作品『夢』\\n모든사람들은 結婚生活로써 그의一生目的의 殆半以上 或은 全部를 充當한다。 그러나 룻소｜의結婚生活은 마치 都市人이公休日散步에花園을지나가는것과같이經過하엿다。 그는 일즉이『폴｜랜드』婦人『야드윙가』(Yadwivyha)와結婚하엿고 그가죽은後再娶한夫人도 일즉 別世하엿다。\\n그는 主로 그의夫人이經營하든單只紙墨小賣에 不過하든 小文具店을整理하고 市外貧村의 稅方生活이 始作되면서부터는 完全히獨身으로 一生을보냇다。\\n畵家로서 女福을 타지못한이로는『방·□호』와『안리｜·룻소｜』를치지안흘수없다。\\n그는 自己와知己가 된女子와는全部 結婚하고싶엇다。 그래서 求婚膳物로 여러女子에게 그림을보냇다。 그러나 그그림들은 모조리排斥을받고 大槪 그女子의下人의집에가 걸려잇엇다。 그는 六十四歲나 되엇을때도 五十四歲된某寡婦를 사랑하고그와 結婚하기를熱烈히請하엿다。\\n그러나 이要求에 不應하엿을뿐아니라 일즉이 룻소｜와같이 稅關同僚로잇던 그의父親의 反對도甚하엿다。 大體로 이求婚의 失敗原因은 두어가지理由가 잇엇다。첫재는 爲先新郞의爲人이 每事에똑똑지못하야 사람축에 가지못할뿐外라 그림도 그릴줄모르는 虛名의 畵家라는것이고 둘재는 룻소｜는일즉히 犯罪한 일이잇는前科者라는 것이엇다。 옛적부터 畵家로서 法에犯觸된일이 더러 잇엇으나 그는모다 그의 周圍人들이그를 利用할려는 策網에 걸렷던것이요 惡行으로 刑을받은 일은없다 룻소｜도亦是 그러한 詐欺抹에 걸렷던일이 잇기는하다。\\n大槪룻소｜가 五十三歲되엿던一八八八年頃이다。 어떤 詐欺師가룻소｜의『愚昧？』를 利用하야一躍富豪가 될수잇다는 策謀로써法律上禁止된 그림을 룻소｜에게그려간 일이잇다。 그러나 룻소｜로서는 그런種類의 그림이不法行爲인줄은 全然몰럿던것이다。 그로因하야 一時룻소｜는 意外의審問을 받게되엿으나 法廷에서도그것이 룻소｜의 故意가 아님이 明白케되어 곧放免하엿다。 大槪이때는 룻소｜의藝術을 理解하는層이 생기기 始作한때이엿다『루동』『코키오』等은 特히룻소｜의 藝術을먼저 理解하고『훌륭한 클라식크의 技術까지에도 到達하엿다』고 하엿다。\\n그러므로이때에룻소｜가無罪放 됨을 기뻐하야『파푸로·피카소』의 發起로써 여러畵家들은 룻소｜의放을 祝賀하는 宴會를열고 數만은祝詩、祝文、祝辭가잇엇다。\\n이꿈같은事實이 룻소｜의 最後的 希望이던 結婚을防害하엿다。그러나 룻소｜는 相對側의 反對가 잇음에도 不顧하고 一年前부터 結婚을爲하야 貯蓄하여온 五千푸랑(約二百圓)의 寳石을 그女子에게 선사하고 더욱猛烈한書信으로써 嘆願하엿다。 이때문에보낸편지는 여러通이 잇거니와 그中에는 遺產相續證도 잇엇다。\\n遺產讓與證(全文)\\n『나는 오｜그스트와 初婚한寡婦 유지에니｜·레오니｜孃에게 나의 最上의 愛情과 永遠의感謝를 表明하기 爲하야 나의死後遺留한 家具와 作品全部를讓與합니다。 同時에 畵商人及其他人으로 나의 作品을 所有한者로서 轉賣로써 생기는 利益의 二割을 回收하는 權利도附屬包含함。 나의 사랑하는 레오니｜는 그收入의 半額을 베나｜루의 妻인 나의딸 지리아·룻소｜에게 割讓함을 承認할줄믿습니다。 巴里 一九○九年日안리｜·룻소｜』\\n『레오니｜』와의 結婚을 爲하야룻소｜는 逝去直前까지도 熱烈하엿다。 그러나 그는 룻소｜만이갖은 熱情이엇다。 레오니｜는 어느때 룻소｜의 結婚要求에 對하야룻소｜를 쫓는 一時的 方法으로『당신마음대로하라』고 하엿다。\\n언제든지 남을 疑心할줄모르는룻소｜는 레오니｜의 對答을 眞心의 承諾으로 믿엇다。 그리하야 도라와서 一切의 禮式準備畢한後 自動車를타고 新婦를뫼시러갓섯다 이때에 꿈도꾸지안코잇던『新婦』레오니｜는 너무도 놀내態는度로 冷情히『果然미친사람이로구려||정 이럴테면 寳石을도루갖어가구려！』하고 들러가버렷다。\\n룻소｜自身이 어이가 없다는것보담도 同伴하엿든 親舊｜들너리들이 더 어이가없엇다。 그러나 룻소｜의愛情은 갈사록强烈하엿다 그後에도 룻소｜는 이結婚을 决코斷念하지 안헛다『그때는暫時 레오니｜가 잘못생각햇거나무슨 딴故障이 잇엇을것이라고』하엿다。\\n그리하야 룻소｜는 逝去一週日前까지도 眞實로 레오니｜를思慕하고 最後의 懇吿한嘆願의 長文편지를 보냇다。\\n정성을다한 이편지 書頭에는三色의『不忘草』를 그리고 그꽃우에는『당신에게 나의마음全部를 올림』이라고記錄하엿다。 그러나 맛당히 恩惠를 받어야할 사람일사록 大槪그것을 받지못하고 가는것이다。 이至極한歎願의글도다｜所用이없엇다。\\n레오니｜의 何等의反響이 없는채로그後一週日이지나 룻소｜는永遠히 世上을떠나고 말엇다 地上에 남어잇는 어느누구가 그의죽엄을眞實로 앞어하는이가 잇엇으랴。 萬一잇다 하면 그는오직그의最愛하던벗(友)｜그의『그림』이잇엇을뿐이다\\n然이나『레오니｜』의 이러한 冷待는 룻소｜에게 高貴한傑作『夢』을내게하엿다『夢』은 卽룻소｜가레오니｜에게 冷酷한 虐待를받어오던 一九○九年에 製作된 것으로서 레오니｜의 冷待를받는 一面 옛적(死去한)夫人『야드윙가』를 생각하고 그린것이다。\\n룻소｜는 이그림을 그릴때에그가過去에 南洋에서본 地上天國｜處女林을 全畵面에 담어노코 그中央에 붉은 쏘｜퐈｜를노코夫人을 그우에 全裸像으로 고이뫼시엿다 그앞에는 各色花草가 어우러저 얼골을 이女人에게로 向하고잇고 無窮한生의 含蓄을을 갖은 樹木사이에는 天使와같은 童子의 피이소리에 마추어 鳥類와즘생까지도 다만 이女人의 榮光을 讃訟하고 잇으며 永遠의象徵『日光』은 그背後에 빛나고 잇다  이그림은 룻소｜의夫人像인 同時에 룻소｜自身의 肖像이라고도할수잇다 그는 永遠한平和와 永遠의生存과 또絕對의歡喜와 그리고 絕對의純潔을 絕對로要望하는敬愛하는『룻소｜』의全貌를 이한幅으로도 넉넉히읽을수잇기 때문이다。\\n그러나 이러한 모든要望은 다｜꿈이다。 人間으로나서는 實現할수없는 다만藝術만으로만 可能할수잇는 꿈의世界다 오직꿈일뿐이다。 룻소｜의거의 最後的傑作인 이그림은 룻소｜의 全理想의具顯인 代表的傑作이라 할수잇다누가이그림을보고 그의至極한 사랑과 至極한정성에 感動되지안흘리가 잇으랴。 그는 오히려 美의極致를 지나처 人生의거러간뒤터의 애닯고 또空虛한 無限의悲哀를 吾人에게 솟어주는것이 아니냐\\n『夢』은 永遠히 빛나고잇다。 그러나『夢』의 絕實한 要望을두고룻소｜는 어떠케갓는가\\n(寫眞은룻소｜作『夢』)',\n",
       " '市川春代結婚\\n【東京電話同盟】東京發聲스타｜市川春代(二五)孃은 婚約中이든바 웨스탄토｜키｜技師相良兼一氏와 二十一日午後一時 飯田町大神宮에서 重宗東京發聲社長의媒酌으로華燭의典을 擧하엿다。 新郞은 京都帝國大學出身의 工學士이다。',\n",
       " '쥬—타르포르\\n農閑期農村의點描\\n農閑期는婚禮節\\n(三) 李     雲     谷\\n農村의겨을은 무슨婚禮式 만하는 時節인것같이 이洞里 저洞里에서 거의每日같이 누구는 아들장가를보내고 누구는 사위마지를하고 누구는며누리를 다려오고또누구네는 딸시집을 보내고｜。이러케 婚禮式의 沙汰가 이러난다。\\n아즉農村에서는 이런 慶事로운일을 치르는때는 꼭擇日을해가지고하는데 조흔날이라면 依例히洞里마다 이런잔차집이 생긴다。 이런날은 넓은新作路에 나어린新郎들이 추어서 오들오들 떨면서 말을타고 처량한말방울 소리를내며장가를 가는거라든가 나어린색씨가교자를타고 울면서 시집을가는거라든지 떡바리、붉은衣籠 바리等等이 꼬리를물고 왓다갓다 해서一見農村의 氣分이 泰平盛世와같은 風景을 자아내여준다。 그러나그뒤에는 早婚의 惡風이라든지高利빗을얻어婚禮費用으로쓴다는等의 憂鬱相을 또한보혀주고잇다。\\n卽 아직早婚의習慣이 그대로남어잇어서\\n『아이고、어서孫子를 보게하고며누리손의 밥을 한번얻어먹게해라？』\\n『그저曾孫子를보고 죽으면 한이없겟다、얘야、벌서 네나이 열다섯이아니냐、男子十五歲면 大丈夫라고햇는데！』\\n『원、게집애가 열여섯이되도록시집을 못가면 남이 숭을보것다어서 시집을가야지！』\\n하고 야단법석이어서十四、五歲의少年少女들이실타고발버둥질을 하는을 억지로結婚을시켜준다。 그우에 이랴아들딸의 婚禮式을하여주느라고 農糧을全部털어바치든가。\\n또는 高利빗까지얻어치르고는生活이一層困窮해저서 허덕이곤한다。\\n그것은 어느집에서라도 婚禮式宴이잇는날은 그洞里는 마치名節氣分이나리만치 온洞里가 들석하게서두러대인다。 男女老少를莫論하고 그잔치(宴)집으로 우르르모여 든다。 모여들어서는 떠들어대며 술과떡、밥等모든飮食을 막우먹어준다。 이러케 그잔치집에가서二、三日을부처서 먹고살어가는 風俗때문이다。\\n그러니 自然히 그잔치를하는집은 큰變이다。 온洞里사람의 주린창자를 채여줄려니一年동안 피땀흘려지은 農事의收穫을全部다 털어너고도 모자라서 다시 빗을 얻어다 까지할때가 만흔形便이다。 그러므로 우에서말한술、賭博과아울러 이婚禮式宴을한번 치르고나면 大部分의 農民들은 더욱 빗을걸머지고는 못살게되는수가 만타。\\n事實 이것은 우리農村의 窮乏한現狀으로보면 너무나 過한負擔이며 無理한 善風이다。 그래서最近爲政者들도 이風習을없이할려고 努力하고 農村自體內에서도先覺者들이 率先해서 이費用을節約하자는 運動을 일으켯으나 別로 効果를보지못한다고한다。 그들의 頑固한 頭腦에 깊이백인風習인데다가 또한 제아모리 어렵게살어가는 小作農일지라도 이런一生에 몇번못當해보는 慶事에 남보다 잘못해서 洞里사람한테 욕을먹게되면 안된다는 自負心때문에大部分은 힘에넘치는것을 壯하듯\\n이 벌려노코는 後에 혼이난다고한다。\\n그反面에 農村의婚禮式에는 都會에서는 볼수없는 한가지滋味잇는 風習이 잇다。\\n新郞이 장가를오면 所謂 큰상이라고해서 各種飮食을 木盃에담아 큰料理床을 차려서는 新郞앞에 가저다놋는다。｜이床을 書堂아이들이와서 빼앗어가는 風習이 아직農村에는 그대로남어잇다아직 어느農村에나\\n漢文書堂이 大槪 잇고또 그洞里에 書堂이없으면 他洞里에서 오는수도잇다。 左右間 장가오는집에는 依例히 이書堂아이들이 떼를지어가지고온다。 그것은 卽 글句를(勿論漢文이다)지어가지고 新郞과問答하는것이다。 元來이것은 單子라는것을 써가지고 新郞의 글工夫를 試驗해보는 意味에서 始作된風習이 只今까지 남어잇는것이다。 假令例를들면\\n『馬上安來否乎』\\n하고 書堂側에서 먼츰人事單子글句를 들리면 新郞은 곳\\n『無搖臨門知荷諸君之念』\\n하고 그答을 써야한다。 그러고는 書堂側에서는\\n短刀直入的으로『자네앞의놓인큰상을 우리에게주면좋겟다！』는意味의 單子를 들인다。 그러면 新郞側에서는 못주겟다는 意味의句로 그答을해가면서 버티는法이다。 一例로\\n『河內河東之風』\\n하고單子가들어가면 新郞은 곳\\n『我非梁惠王』\\n하고 答句을하는等의 問答이',\n",
       " '漢詩募集\\n賞梅\\n押『陽』韻中\\n限 陽一月三十日\\n四五次乃至數十次 왓다 갓다한다。 그러다가 어떤 新郞은 골에못이겨서 큰床을 빼앗기는때도잇고 또어떤新郞은 乃終것 벗티는때도잇다。 그런때면 잔치집에서 書堂側을\\n待遇하야다른飮食床을만드어서줄때가만타。\\n그런데 여기에 우수운이야기가또하나잇다。 요즘 新郞들은 漢文工夫를 못한사람이 만허서 이런農村에 장가를와서 이러게書堂아이들들한테 純漢文句의 單子를받으면 그答을할수가없어서 쩔쩔매다가 배운것이 日本말이라 할수없이『分リマセソ』이라든지、『バカヤロウ』『ヤラソヨ』라고 써는 書堂아이들과 洞里求景群들을웃기는수가 만타고한다。 이것도우수운時代的 產物일것이다。',\n",
       " '鐵血宰相의愛孃\\n華燭典을擧行\\n【로｜마發同盟郵信】무쏘리｜니首相의 次女 로｜사孃은 今番파시스트靑年中의 俊秀지오반니·티오다리｜니君과 婚約이되어 一月廿九日 로｜마의 썬·요세프寺에서 華燭의典을 擧行하얏다 新婦側의 附添人은嚴父 무쏘리｜니首相以下 로｜사孃의姉 엣자孃의夫君 치아노外相 新郞側의 附添人은 파시스트黨 書記長 스타라｜제氏以下 룻소將軍이라는 豪華版으로 參列者는 그럴듯한 伊太利各界의 精粹를 集中한바이엇다。',\n",
       " '童話動物園\\n살려준여덟자라\\n◇||尹    星    湖\\n사람이 이세상에살아가자면 나쁜짓도하고 남에게 어굴한일도하게되지만 이왕이면 천년만년을살지못할인생이니 될수잇는대로 착한일을하고 남에게 은헤스러운일을하는것이좃읍니다。\\n우리사람들끼리는 물론이어니와 아모것도 모르는 김생들까지에게도 조흔일을해야만 그사람이 낭중에잘되고 조흔복을받는법이랍니다。\\n벌서 四百여년이나되는 옛날일이외다。\\n경주이씨(慶州李氏)에 현감(縣監)베슬을한이공린(李公麟)이란이가 서울사는 박팽년(朴彭年)의집으로장가틀 들러왓드랍니다。\\n박팽년이란어른은 단종대왕(端宗大王)때에 충청감사(忠淸監司)까지 지나고 나중에 충신(忠臣)으로까지 이름이난만치 훌륭하고도 집안이 넉넉하엿으므로 이날딸을시십보내는 잔치도아조굉장하게 차리엇읍니다。\\n혼인식이 시작되어 수만은사람들이 부러워하는 가운대 장엄하게 초레(醮禮)가끝나고 그날밤이되어 신랑(新郞)과신부(新婦)는촞불이휘황하게밝켜진동방(洞房)으로들엇읍니다。\\n밤이 깊어 이웃집사람은 모다 제집으로 돌아갓고 집안 식구들은이구석 저구석에서 떠러저 잠이곤히드니 집안은 그제야 종용하야 신부방에서도 잠을자게되엇읍니다。 자리에누은신랑이막눈을뭍이고 잠을 청하려하는 순간에 어떤노인 하나가 오더니 절을하며〃서방님、저의자식 八형제가당장 이댁에 잡혀와 죽을지경에 들어잇아오니 서방님께서칙은히 여기사 강물속으로 노와주시여 뜨거운 죽엄을 면케하옵소서〃\\n애걸을 하겟지요。 그형상이 비록꿈이엿으되 보기에 참으로 칙은햇드람니다。\\n○||○\\n이런꿈에서 깨여난 신랑 이공린、속으로 이상스럽다고 생각은하엿으나〃꿈이란 본래 허황한것이야、八형제는 다무엇이며 살려달라는소리는 다무엇인가〃하고그대로 잠을자려고 다시 눈을 붙이엿읍니다。\\n그랫더니 눈을감자마자 또다시그늙은이가 나타나 애걸을하겟지요、이러기를 무릇세번이나 하다가、마침내 신랑은 너무도 괴상하야 일어나서 곁에누어잇는 신부를 흔들어깨여 일으켜 가지고\\n〃여보 나는 이리이리한 꿈을꾸엇는데 혹시 집안에 물생선같은것이나 잇지안소？〃하고 무르니 신부가 얼른\\n〃네、저 누가 내일아침에 국  을 끌여 서방님을 대접하라고  자라 여듧마리를 선사로보냇는  데 아침에 솥에다가 삶으려고  지금 부억물동이속에 너허두엇  답니다。 』하고 대답을하드랍니  다。\\n마음세가 퍽이나 착한신랑、이말을 듣고 마음에 칙은히 생각하야 신부를보고\\n〃여보 우리 그자라를 물에다  노하줍시다。 자랏국 아니먹어  죽겟소？어찌 산김생을끌여  죽인단말이요〃하고 신부와함께 부엌으로 내려가서 물동이를맛들어가지고 그앞한강(漢江)으로나가서 여덟마리 자라를 물속깊이 노하주엇읍니다。 그리고 곧신방으로들어와 잠이드니 또한꿈에 그늙은이가와서\\n〃서방님 고맙습니다 그은헤로  아들八형제를 점지 하올터이니  그리아시옵시요〃\\n하고 무수히 치하를하며 절을하고가드랍니다。\\n그후에 과연 이신랑신부 둘사이에는 끌날같은 아들 八형제가태어낫는데 자라를 살려주고 얻은 아들이라하야 모조리 물에사는김생 자라니 거복이니 용이니하는 글자를 골라별(鼈)、구(龜)、오(鼇)、( )、黿(▲)、강(□)、곤(鯤)、용(龍)이라고 이름을지엇답니다。 이분 八형제가모다 높은 베슬과 부귀한생활을햇는데 이것이 자라의덕이라하야세상에서는 팔별자손(八子孫)이라고한답니다。 (끝)',\n",
       " '少年野談\\n-9-\\n박도령        너    사\\n朴童과御史 下\\n아저씨\\n박어사는 밥상을 물려내노코곧 김좌수네집 하인뒤를 따라서서 웃마을 좌수네집 대문깐으로들어섯읍니다。\\n〃그래 잡아왓느냐？어서 이리로끄러드려라〃하고 마루대청우에 높이앉인 김좌수는 돌아오는하인의 얼굴을보자 호기조케 소리를 질르겟지요。\\n이꼴을본 박어사、하도 우스워서 손으로 입을틀어막고 입안으로 깔깔 웃섯읍니다。\\n그러나 한편으로 생각하니 그좌수의 하는꼴이 하도 꿧심하야한거름으로 신발을신은채 마루우로 뛰여올라가 좌수곁에 앉어서담뱃대로 좌수의 턱밑에 삿대질을하며\\n〃그래、내족하 아이로말하면양반의 자손으로서 문벌(門閥)의 빛나는것이 그대보다도훨신나흐외다 가난한것이 한가지 부족한탓 인데 그대에게통혼을 하엿으니 실커던거저조 흔말로 실타고하 지무슨 대천의원수라고 매일같이잡아다가 매를 때 리고 욕을보이는가？그대는 이골의 좌수라하야 그까짓조고마한 권력을믿고 그같이하니 가난한사람이 어찌혼인을 해볼수잇나？〃\\n이같이 박어사가 조리밝게말을하니 이말을듣던 김좌수는 하도어이가없는자 박어사에게는 검다쓰다한마디 대꾸가없이 어사를데리고 온하인의이름을 불러세우고〃이놈아 글세널더러 박도령놈을 잡아오랫지 누가이런미친거지같은 작자를 데리고 오랫느냐？너같이 상전(上典)을 욕을보이는 놈은 거저둘수가없으니너부터 볼기를 때려야갯다〃하고소리를 고래고래 질르며 딴하인들을 불러서 그하인을잡아내리게하더랍니다。 이때 이광경을본 박어사는 그대로 잇다가는 죄없는 그하인이 매를 맞을것같고또한 자기도 잘못어리대다가는그고약한 좌수에게 욕을 당할가싶어서 넌짓이 좌수의 옆구리를꾹 찔러서 자기 소맷속에 들어잇는 마패(馬牌)를 보엿습니다。\\n||○||\\n여러분 마패라고하는것은 임금님께서 특별히 내주신 어사의 특명장(特命狀)입니다。 이것이야말로 여간무서운것이 아니엇답니다。\\n||○||\\n그러니 이무서운것을 본 김좌수의꼴은 어찌되엇겟습니까？지금까지도 자기가 제일이라하고호령만하고 앉엇던 김좌수、이마패를 보고 그만 당장에 얼굴빛이흙빛이되며 맨버선바닥으로 마당으로 뛰어 네려가서 어사앞을 향하야 엎디여가지고\\n〃어사또님！소인이 죽을때라잘못햇습니다。 이번만 살려주시면 그런 은헤는 없겟읍니다\\n〃하고두손을 한데모아가지고싹싹빌엇읍니다。\\n어사|〃오｜그래、그러면 너네딸과 우리조카박도령과 혼인을시키겟느냐？〃\\n좌수|〃네｜어느말슴이라고 거슬리겟읍니까 결혼을 시킵지오〃\\n어사|〃내가 책력을보니 글피가대단히 조흔날이니 그럼 그날로 혼인잔치를하자、내가 그날신랑(新郞)을 데리고 올것이매네집에서 잔치준비를 전부하여라〃\\n이같이 박어사는 김좌수에게전후다짐을 다받은뒤에 곧 그 집을나와서 박도령집으로 돌아가 박도령모자에게 그런 혼인하게되엇다는 기쁜소식을 전한뒤에 글피아침에 찾아오마는 약속을하고곧 그고을 원(倅)이잇는 동헌으로 찾어갓읍니다。\\n박어사는 이고을원을 찾아보고이런 얘기를 주고받고 하엿읍니다。\\n〃여보 본관(本官)、이고을 아모동리에 내 먼족 족하아이가사는데 그동리웃마을 김좌수딸과 혼인을하게되어 글피가잔칫날인데 본관이 내낯을보아 좀도와주워야겟소〃\\n〃아이구 별말슴 다하시는구려！그런경사스러운일에 어찌도읍지아니하릿가？염려맙시요힘끋하오리다〃\\n이고을원 또한기뻐서 잔치에쏠모든기구와 귀한음식같은것 까지라도 모두관청의돈을들여서 잘장만하야 좌수네집으로 보내주고차일(遮日)(요새로 말하면〃텐트〃)같은것도 잇는대로 죄다좌수네집으로 보내어 잔치전날부터좌수네집근처에 쭉물러치게 하엿습니다。 그리고 이근처고을 원들에게 모두혼인잔치에 출석하라는청섭장(請牒狀)을보내서 이날잔치에는 꼭들 오라고 청하엿읍니다。\\n×     ×\\n이러는동안에 사흘이지나 잔칫날이당도햇읍니다。\\n박어사님은 박도령에게 관청에서 내온관복(冠服)을 입혀가치고 말을태여앞을세운뒤에 자기또한 훌륭하게 위염을 채려가지고 뒤를쓴뒤、이골원님、또근처골에서 온원들을 죽따르게하고신부의집으로 향하야 갓읍니다。\\n이때 이동리 사람들은 이굉장한꽝경을보고 모두 이런 소리를주고 받고하엿읍니다。\\n『하｜사람의팔자란 이상도하지박도령이 이러케 굉장스럽게하고 장가를 갈줄이야 누가 꿈이나 괫을가？』\\n『흥、그나그뿐인가？김좌수딸은、제가 열번죽엇다 깨나면이런훌륭한 잔치를 받아보리라생각햇겟나？저것좀봐 모두원님들이야 원님！아｜이집잔치가아마 우리마을에서는 전무후무하겟네！』\\n이러케온동리가 입에침이 마르도록칭찬을하고 감탄을하는중에 이한쌍의 신랑신부의결혼식은 엄숙하게거행이되고 곧 뒤를이어 어사또님을 비롯한 각읍원들을 대접하는 잔치가 벌어젓읍니다。 음식을 한참치룬뒤에 어사님은신랑과 이집주인 김좌수를 불러냇읍니다。\\n〃김좌수｜마음에 어떳소 내족하아이가 당신의 사위로는꼭적당하지요？〃 〃네｜황송합니다。 소인으로는 오늘같이생광스러운날이 또 없을것같습니다〃〃그러치 그래 그런데사람이란 먹고살아야하는 법인데내조카는 지금부터는 당신의사위이니 당신의재산에서 먹고살아갈것을 나누워 주는것이어떠하오〃하고 어사님은 슬그머니김좌수의 귀를울려 보앗읍니다\\n〃네｜다시 더일을말슴입닛가？그저 소인이 가진 재산의절반은 나누워주겟읍니다〃하고 첫말에 좌수가 쾌락을하엿읍니다。 그리하야박어사는곧조이와붓을 가저오라하야 김좌수가재산절반을 박도령에게 준다는문서를쓰게하고 그문서끝에 박어사를비롯하야 이골원과 다른골원들로하야금 모다 일음을쓰고 도장을 찍게하엿읍니다。 요새로 말하면 증여증서(贈與證書)를써준세임이지요。\\n그리하야 이날이 저물고 밤이들때까지 김좌수집에서는 풍악소리와함께 사람들이 기쁘게 술먹고 떠들고 노래하는소리가 끈히지 안앗습니다。\\n여러분、남의 일이지만 퍽기쁘고 고맙지요。 지내가는 거지에게한술의밥일망정 인정잇게 주웟든탓으로 박도령은 이같은 복을받앗읍니다。 우리도 남을 사랑하고불상하고 배고파애쓰는 사람을도와줍시다。 그러면 당장 눈앞에복이나타나지는 아니하되 오랜동안에 반듯이 이값어치의 복이돌아올것이외다。||(끝)',\n",
       " '結婚式場가든新郞\\n旅舘휩쓴窃盜犯\\n虛行한新婦와招客\\n작년겨울이래 부내 一류여관에는유숙중의 손님지갑만을 전문으로절취해가는 대담한 범인이잇어부내각서에서 범인을 엄탐중 진범인이 본정서에 잡혀취조를 받고잇는데 범인은절취한 금픔을미□□□ 기생견습하는 처녀를 안해로 마지하야찬란한 세간사리와가구등을 작만하야 화려한 결혼식을거행하려는것이당일경찰에체포되어 신방(新房)의 단꿈대신유치장신를지고잇는일이잇다。\\n一정한 주소가없는 두직박춘화(朴春和)(一九)는작년겨을부터부내각一류여관으로출입하며손님찾이려오는체 또는 행상인체 꾸미고방속에걸려잇는 웃조고리 속에서현금든지갑을 끄집어내기 시작한것이 부내 모一류여관에서 四百여원을 위시하야 전후十수건에판명된 피해액만도 一千五百여원에 달한다는데\\n그는 금년봄부터 부내인사정(仁寺町)二四八의二호 기생견습 손정자(孫貞子)(一八)와 친하게되어 절취한 금액은 정자에게 전부 소비하다시피 하엿다한다。\\n그리던중 두사람사이에는 장래를 굳게 약속하게 되어 드디어 작二十八일 오전 여자자택에서 결혼식을 거행하기로되어一千二百여원을 드려 장농、의거리、양복장、축음기등 一체의 가구를 작만하는 동시에 동네부인 十여명을 불러 잔치음식을 작만하고 잇는것을 본정서 최병국(崔秉國)형사가 습격하야 체포하여왓는데 그는 금년三월경 전기 정자 머리 언치는데도 四百여원을 썻다는바신랑일흔 신부와 잔치에 불려온 손님들은 어이할바를 몰랏다한다。',\n",
       " '結婚式場가든新郞\\n旅舘휩쓴窃盜犯\\n虛行한新婦와招客\\n작년겨울이래 부내 一류여관에는유숙중의 손님지갑만을 전문으로절취해가는 대담한 범인이잇어부내각서에서 범인을 엄탐중 진범인이 본정서에 잡혀취조를 받고잇는데 범인은절취한 금픔을미천으로 기생견습하는 처녀를 안해로 마지하야찬란한 세간사리와가구등을 작만하야 화려한 결혼식을거행하려는것이당일경찰에체포되어 신방(新房)의 단꿈대신유치장신세를지고잇는일이잇다。\\n一정한 주소가없는 무직박춘화(朴春和)(一九)는작년겨을부터부내각一류여관으로출입하며손님찾이려오는체 또는 행상인체 꾸미고방속에걸려잇는 웃조고리 속에서현금든지갑을 끄집어내기 시작한것이 부내 모一류여관에서 四百여원을 위시하야 전후十수건에판명된 피해액만도 一千五百여원에 달한다는데\\n그는 금년봄부터 부내인사정  (仁寺町)二四八의二호 기생견  습 손정자(孫貞子)(一)와 친하  게되어 절취한 금액은 정자에게 전부 소비하다시피 하엿다한다。\\n그리던중 두사람사이에는 장래를 굳게 약속하게 되어 드디어 작二十八일 오전 여자자택에서 결혼식을 거행하기로되어一千二百여원을 드려 장농、의거리、양복장、축음기등 一체의 가구를 작만하는 동시에 동네부인 十여명을 불러 잔치음식을 작만하고 잇는것을 본정서 최병국(崔秉國)형사가 습격하야 체포하여왓는데 그는 금년三월경 전기 정자 머리 언치는데도 四百여원을 썻다는바신랑일흔 신부와 잔치에 불려온 손님들은 어이할바를 몰랏다한다。',\n",
       " '結婚式에온老新郞\\n新婦없어헛물켜\\n대전부에화제거리\\n【大田】 혼례식에 처녀를 맞이하려왓다가 처녀가 도망하야헛물만켜고돌아간 사나이｜경성부관철정(貫鐵町)에 거주하는 김삼몰(金三乭(三)(假名)이라는 사람은대전부 춘일정(春日町)二정목三번지 신각근(申珏根)(假名)의 의녀(義女)박옥히(朴玉姬)라는十七세된 처녀를 첩으로 맞이하기위하야 자기부모와)일절굳은약속을맞고는 지난 四일에는 일절혼구를 작만하여갖고 신부를맞이하러왓다한다 그러나 박옥히는죽을지언정 돈을바라고 늙은남자와는 도저히 결혼하야 그나마 남의첩사리로는들어가기실타하야혼인날의안날인 三일저녁에 도망질을처서이런줄을 모르고 왓던김三돌이라는자는 박옥히부모와 백방으로협력하야 찾어봣으나 찾을길이없음으로 할수없이 헛물만키고돌아갓다는 넌센스극 한토막을연줄하엿다는데 부근일대에는 이로인하야 일대회제가 되어잇다한다。',\n",
       " '結婚式에온老新郞\\n新婦없어헛물켜\\n대전부에화제거리\\n【大田】혼례식에 처녀를 맞이하러왓다가 처녀가 도망하야헛물만켜고돌아간 사나이｜경성부관철정(貫鐵町)에 거주하는 김삼돌(金三乭(三□)(假名)이라는 사람은대전부 춘일정(春日町)二정목三번지 신각근(申珏根)(假名)의 의녀(義女)박옥히(朴玉姬)라는十七세된 처녀를 첩으로 맞이하기위하야 자기부모와)일설굳은약속을맞고는 지난 四일에는 일절혼구를 작만하여갖고 신부를맞이하러왓다한다 그러나 박옥히는죽을지언정 돈을바라고 늙은남자와는 도저히 결혼하야 그나마 남의첩사리로는들어가기실타하야혼인날의안날인 三일저녁에 도망질을처서이런줄을 모르고 왓던김三돌이라는자는 박옥히부모와 백방으로협력하야 찾어봣으나 찾을길이없음으로 할수없이 헛물만키고돌아갓다는 넌센스극 한토막을연줄하엿다는데 부근일대에는 이로인하야 일대화제가 되어잇다한다。',\n",
       " '物價高와家庭經濟\\n(2)\\n사변이발생되자\\n물자통제한까닭\\n(上)\\n다아는것같은관념을버리고\\n실제적인상식을길릅시다\\n全弘鎭\\n그러면 첫재로 물자통제(物資統制)다시말하면전쟁에 필요잇는것과 민간(民間)에서 그다지필요치안흔것또는 급하게 쓰지안허도 참을수잇고 참어야하는것또는외국(外國)에서사들이지안허도조흔것 꼭사디리지안흐면안되는것등을 구별해서 현재잇는물자(物資)를 규모잇게쓰자는게획(計劃)또는\\n차\\n림차림이 어떠케되엇느냐하는것이 궁금하게될것임니다 그러나여기에서는 대개가 가정생활과의인연을 깊게하고 싶은만큼두세가지의 전레를 드러서말해보고자합니다。 여러분들중에는귀여운따님특히과년한 따님을 두신분이 잇으실줄 압니다。 만일여러분의 따님이 혼인(婚姻)을하게되엿을때에 금비녀나 금가락지를 해주시랴고 은방에가신다면 마음은 사실마음이래도금비녀나 금가락지는 없음니다혹시 신랑(新郞)집에서야 꼭해주려니한다든가 약혼반지(約婚)는 금반지가오려니 생각하시고게시다면 그야말로 시국(時局)이어떠케 도라가는출도 모르신다고남에게 우슴거리밖에는 안되는것임니다。 웨 그러냐하면(金)은 벌서 사용금지(使用禁止)가되엇기 때문임니다。 은방에서 금(金)이잇어도 만들랴만들수 없는것임니다。 금이 없다니할수잇느냐 돈이 더들드래도백금으로나 하자고하여도 이것도 역시 안됨니다 웨 이러한금(金)백금(白金)을 쓰지 못하게하느냐하면 금(金)은 우리가쓰는 지전(紙錢)의 바탕이되는것입니다。 금(金)을 믿고 지전을\\n내\\n노핫기때문에 우리는겨우 인쇠기(印刷機)에서 빛갈만고를게해서 얼마든지 박여내는것이라도 조금도 의심없이쓰는것입니다。 금(金)을 뒤에 두지안코만드러냇다하면 그돈은값이없는것이 되는것입니다。 이것은 극히아시기쉽게만 설명한것임니다마는금(金)에대해서사용을제한(制限)즉 나라에서정해준것이외에는 쓰지말라는 본뜻은 여기에 잇는것은 아님 니다금(金)은 다른나라에서 물건을사올때는 우리가쓰는 지전같은것으로는 살수가없읍니다 반다시 나라와나라사이에는 서로서로 금(金)을가지고 매매하게되는것임니다。 그러기때문에 만일부족한 물건이 잇어서 앞으로 얼마든지 사올수잇는힘을항상만드러 두자하면 소중한금을 사치스러운곳에써서는 안될것 입니다。 전국(全國)에잇는금이 모두 나라로모여서 어느때 어떠한경우라도 곧외국에 주문할때에는 쓰게하도록하는것이 비상시국민의 도덕도 되는것입니다 다시말슴한다면 이금이란것도 전장하는데에총알이되고 대포가되고 기관총이되는것은 아닙니다마는 그러한것을 외국에서 사드릴수잇는힘이되기때문에\\n여\\n기에 九금이상의 금은 쓰지 말자는 명령이 나오게된 것입니다 그런대 만일 여러분이다시 혼수(婚需)흥정을 나가섯다가 광목(廣木)을 사시랴고하섯다면 이제는 인조견(人造絹)이 섞인 즉『스테풀파이버』란것을 섞거서 짜내인 광목을 만지시게 될것입니다。 순전히 솜으로 맨든것이 없고 모두『스·파』라는것을 석거서 짠것뿐일것입니다。 품질은 물론전보다는 못합니다마는 광목을쓸바에는 할수없어 사지안니치못하실것입니다。 웨 질기고 튼튼하고 몇十번식빠러도 달치도안흐며 몇千번이나 다드머도해지지안는것이 없고 약한 인조실을 석거노앗느냐하는것이 궁금해 지실것임니다。 그것은 다른까닭이 아님니다。 쉽게말하자면 이같은 광목을 짯는실은솜 즉면화(棉花)에서 실을뽑아가지고 짯케되는데 원래우리나라에서는 면회를외국에서 만히사드렷고、외국에서 해마다여러가지물건을 사오는중에서도이면화가 으뜸되는것입니다。',\n",
       " '新年創作評\\n❸\\n不振하는新人創作壇\\n｜作品보다도 理論이 앞섯다｜\\n金    珖    燮\\n『屏風에 그린닭이』桂鎔默作\\n桂鎔默氏도 이미 短篇을 몇個發表한 모양이나 나로서는 不幸히 이것이 처음인데 이作品도 鑑賞하며 읽을만큼 시언칠못하다。\\n作者의 意圖로보아서는 無智하고 邪意만흔 시어머니구박밑에서아들을 나치못한 설음에다가 어려서 장가를들어 코를 씻어주며자라게한男便까지 딴女子에게 빼앗기고 그래도 아이를나어서 男便의마음을 돌릴랴고 시집올때 큰선물같이 가지고온바늘통을팔어가지고 굿하러 간다。 그것이 서방질햇다는 罪名이되어쫓겨나다싶이 집을 떠나 나갓다가『병풍에 그린닭이 홰를 치고 우는한이 잇더라도 나는 그집을 못떠나야한다』하고 돌아왓으니 끝까지 읽으면서도 題目의뜻을 알지못하다가 이句에서 떼어온것이라고 생각하매 繪畵的情趣와 言語的알레고리가 잇기는하나 意를믿지못한 感이나며 이 테｜마에 鄕土味를 加할랴고 굿하는光景에다가 다시 그굿하는세리프까지 썻으니 길기만하고 이일저일 뒤따르는 어느일이나事實은 될지몰라도 文學으로되어지지안헛으며作者는 自己作品은 橫成보다 文章이 조타고 어느座談會에서 말햇으나 가령 文章이 조타고하더라도 短篇小說은亦是 短篇小說이되어야 할것이아닌가。\\n더군다나 文章에 잇어서도 이小說이 말하랴는內容이 이미 農村이가진 한個家庭의 詩에 가까운것일진대그散文속에 좀더 구수한 藝術味가잇어야 할것이엇고萬一 그랫다면 이作者는 現代文明속에서 베를짜는 農村家庭의포에지｜를發見하고 그것을그려보랴는 意圖에失敗되지 안흘것이다。\\n『봄과新作路』\\n崔 明 翊作\\n이小說도 短篇小說인데 大體요새 新人들이쓰는 短篇들은 웨 이러케도 길게쓰는지 모른다 이러타면 事件의簡易化와 枚數의制限이短篇小說作法上 잇엇으면조켓다。 于先읽고난뒤에 테｜마가 도모지 쉽게整頓되지안는다。 短篇이 너무 複雜多端한탓같으니 이것은보고 들은것、或은 想像된것을 事實대로그리랴는데서오는 弱點이 아닐까읽고난뒤結局은 農村을끼고 트럭이 달어다니는 우물뚝에서 일어나는 愛慾의 悲劇인데 처음에는매우 滋味스런小說이 될것을 確實히 期待하엿으나\\n한마을에서 똑같이 자란『유  감』이와『금녀』가 똑같은 한  마을로시집을가되유감의新郞은나이가 만코、금녀의新郞은나이가 어려서 여기서똑같이자라난 두女性에게 일어나는生理的또는 心理的 變化와差異가 아름답고、유모어 하게째여질줄알엇더니그러칠 안코 금녀는 우물뚝에서 트럭運轉手에게誘惑되어 어린新郞이 자는房을 나와 밤새끗貞操를 빼앗기고 서리맞은풀닢같이 돌아가서 곧어떤病에걸렷으니 그病에걸려죽기 前그집송아지는 西洋서 왓다는아가시아를 먹고 죽고、다음  날금녀도 그만죽엇다。\\n송아지의 주겁으로 都會에誘惑되는 시골女性의 運命과 同時에 都會에 犧牲되는 農村의運命을 暗示함인지는 몰라도 이短篇에서그것이 그러케 길게 插話될必要도 없는것이요 더욱 처음 봄과愛慾을 나타내기爲하야 고양이 소리를 節制없이 써노코 금녀가죽는날 藥끌른 소리와함게 또 그고양이소리가 들리게하는것은 하롯밤의 잘못으로 슬프게도 못된病에 걸려죽는 금녀의愛慾이 未盡하엿음을을 表象하려는 感傷이엇는가。\\n이 新作路를 끼고도는愛慾相에는 實相인즉 性을아는男便과 性모르는男便에게서 오는性格的對照가될것인데 作者는 어떠한 現實的價値를 꾀하야 農村現實의 生活相을끄집어너흐랴는데서 이小說은 매친데가없이 窮狀에 빠지고말앗다。\\n作者로서는 여기에不服이 잇서야하겟지만 읽은나로서는 말할理由가잇으면 그만이다。\\n『四年間』權明秀作\\n될수잇는대로新人의作品에接하고싶어分外로이作品하나더읽엇으니이小說에잇어서『四年間』이라는時間的制約이 題目될만한무슨 意義가잇는지는몰라도 何如턴 이小說은主題가 統一되엇고 그主題를爲한情熱이보엿고 그情熱을爲한筆致가매우健實하엿다。\\n四年동안 故鄕을 떠낫다가돌  아오니 故鄕은 華麗하게變하  엿는데 돌아온自己는 華麗하  기는커녕。 不幸한대로 남엇  으나 옛友情만은 變치안흐리  라하고 찾어간 友情까지 變  하엿고 親한동무가 안해까  지 빼앗엇으니 憤怒에 타서  그곳을 찾어가나 어두운밤  結局 뺨까지 얻어 맞는다。\\n이러케 끝맺히는 이小說에서나는 作者가 主人公으로 하여금不義를 깨트리지못하게하고屈服되게하는것에 無骨함을느끼면서도 作者의現實에對하는 態度가『世上이 이러코惡이 이러케 專橫한다』함을 無抵抗한 消極의面을 빌어 말하려는데 잇지안흔가 한다。 그러나 文學을 읽은뒤에 남는世界를 願한다면 나는 안해를 빼앗어 잘사는 한個의 家庭에對하야 鬱憤한마음끝에오는 불타는듯한 安定으로 돌아서서 새로운 世界에 그러치안흐면 거츠른世界에나마 다시발을 옮겨내어노케 함이 文學으로의 結末이 안니엇을까한다。\\n그러나 이小說에서는 안해를빼앗긴事實보다 동무를通하야 世上이 안해까지 빼앗고도 泰然하다하는 世態의無常을 그리려는데本意圖가 잇는것같아서 小說이 亦是 短編으로 길어진것같다。',\n",
       " '『颱風』의辯\\n『颱風』이란映畵에『颱風은 文明의 一切를 破壞할수잇다』란臺詞가 잇다。그러치만 그것은 暫時的인것에 不過하지안흘가 한다。 그러한 颱風속에사람은 婚禮式에 들어가는 新郞처럼 平靜과 沈着으로써 戰鬪하여야 할것이다。 生活과 藝術이란 이러한 敎訓에 支配되어서 朝鮮의 慣習속에 여러가지 變化를가저올것이고 그變化가 또한 우리들에게 슬픈 第二天性을 發見시켜주는限이잇드래도|。\\n人間의 執拗한 힘의偉大함은  破滅에서라도 다시 不死鳥와같  이 되일어나 새로 建設하는데  잇다고 본다。 颱風이 지나가면  하늘은 맑고 땅은따뜻하다！\\n(金正革)',\n",
       " '六十歲의老新郞\\n十五歲處女와結婚\\n【獒樹】예순살할아버지 새서방에 열다섯살 손녀같은 나이의 새약시가 오는二월七일 화촉에성전을 거행한다는소식。 이듣기조흔소식을 소개하건대 전북임실군오수(全北任實郡獒樹)에 거주하는 고모(五八)라는 홀로사는 할아버지와 임실군三게면(任實郡三溪面)에거주하는 모성녀(牟姓女)의딸 모처녀(牟處女)(一五)라는 새약시와 백년가약의해로를 약속코혼인날을 기다리고잇는 신랑신부한쌍이 잇어 이야기조회하는 오수에심심푸리가 되여잇으니 과연이것이 누구의 죄인지 알수없으나 그들의 결혼생활이 행복이 잇을른지 알수없는수수꺽기가되여잇다고한다。',\n",
       " '六十歲의老新郞\\n十五歲處女와結婚\\n【獒樹】예순살할아버지 새서방에 열다섯살 손녀같은 나이의 새약시가 오는二월七일 화촉에성전을 거행한다는소식。 이듣기조흔소식을 소개하건대 전북임실군오수(全北任實郡獒樹)에 거주하는 고모(五八)라는 홀로사는 할아버지와 임실군三게면(任實郡三溪面)에거주하는 모성녀(牟姓女)의딸 모처녀(牟處女)(一五)라는 새약시와 백년가약의해로를 약속코혼인날을 기다리고잇는 신랑신부한쌍이 잇어 이야기조화하는 오수에심심푸리가 되여잇으니 과연이것이 누구의 죄인지 알수없으나 그들의 결혼생활이 행복이 잇을른지 알수없는수수꺽기가되여잇다고한다。',\n",
       " '大學生새新郞감\\n알고보니鐵窓을집삼는誘拐魔\\n奸計는꺾이고또牢獄에\\n【大邱】형무소에서 서로알게된자들이 출옥한후에 서로만나서만주갈 여비를 작만할양으로지방처녀를 유괴하려다가 일은미수로근치고 징역만톡톡이 살게된사건\\n일정한주소가없는 사기전과二범 김상영(金尙永)(二七)은 작년十二월九일 형무소를 나온후 지방으로 돌아다니면서 모잡화행상을하다가 금년一월十二일 대구부내에서 전에 형무소에서 복역중서로 알게된 이정상(李井上)이란자를만나 만주로 건너갈것을 약속하고 그여비를 작만할도리를생각해냇다는것이 장가드는척해서 처녀를 손에너흔후 작부로팔자는것으로 一치되어 이정상이를대학졸업한 부호의 아들로꾸미고김상영은 그익일 지면이잇는 고령읍내(高靈邑内)김모한테가서 이러 이러한신랑을 소개한다고 발라맞훠가지고는 대구부내로 선보러오게까지 일을진행시켯으나 될법한판에 경찰의탐지한바되어 이정상은어데로인지 도주해버리고 김상영은 유괴미수죄로서 지난十七일대구지방법원에서 공판이 개정되어입회검사로부터 징역一년반의 구형이 잇엇다고한다。',\n",
       " '大學生새新郞감\\n알고보니鐵窓을집삼는誘拐魔\\n奸計는꺾이고또牢獄에\\n【大邱】형무소에서 서로알게된자들이 출옥한후에 서로만나서만주갈 여비를 작만할양으로지방처녀를 유괴하려다가 일은미수로근치고 징역만톡톡이 살게된사건\\n일정한주소가없는 사기전과二범 김상영(金尙永)(二七)은 작년十二월九일 형무소를 나온후 지방으로 돌아다니면서 모잡화행상을하다가 금년一월十二일 대구부내에서 전에 형무소에서 복역중서로 알게된 이정상(李井上)이란자를만나 만주로 건너갈것을 약속하고 그여비를 작만할도리를생각해냇다는것이 장가드는척해서 처녀를 손에너흔후 작부로팔자는것으로 一치되어 이정상이를대학졸업한 부호의 아들로꾸미고김상영은 그익일 지면이잇는 고령읍내(高靈邑內)김모한테가서 이러 이러한신랑을 소개한다고 발라맞훠가지고는 대구부내로 선보러오게까지 일을진행시켯으나 될법한판에 경찰의탐지한바되어 이정상은어데로인지 도주해버리고 김상영은 유괴미수죄로서 지난十七일대구지방법원에서 공판이 개정되어입회검사로부터 징역一년반의 구형이 잇엇다고한다。',\n",
       " '新婦없는結婚式場\\n昨日曜日、郊外永導寺에서\\n未完成結婚行進曲\\n꽃망울이 활작피려고 춘풍에약동하는 가절을택하야 결혼식을거행하려는 칠라 신부(新婦)편에서 피신을하여 신랑(新郞)은 정신을 일케되엇다。\\n작九일오전十시경 시외 영도사(永導寺)에서 결혼식을 거행키로만반준비를한 신랑측 부내 광희정(光熙町)二정목二一○번지 청년서화(書畵)연구가 김태수(金泰洙)군(二六)‖가명‖은 예복을 갖후고 오전九시부터 영도사에서신부오기를 고대하엿으나 신부측신당정(新堂町)一四八번지 성순애(成順愛)양(二二)‖가명‖은석양이 휠신지내도록 오지안허 사람을 보내어 알어본결과 신부는어디로 피신을하고말아 결혼식은중지되고말엇다。\\n이두분은 약四개월전에 약혼을  하엿으나 오로지 부모의 명령  으로하엿던것이고 신부의 승락  없이결혼날자를 정하야 반대의  기세를 보엿다는것이다。',\n",
       " '新婦없는結婚式場\\n昨日曜日、郊外永導寺에서\\n未完成結婚行進曲\\n꽃망울이 활작피려고 춘풍에약동하는 가절을택하야 결혼식을거행하려는 칠라 신부(新婦)편에서 피신을하여 신랑(新郞)은 정신을 일케되엇다。\\n작九일오전十시경 시외 영도사(永導寺)에서 결혼식을 거행키로만반준비를한 신랑측 부내 광희정(光熙町)二정목二一○번지 청년서화(書畵)연구가 김태수(金泰洙)군(二六)‖가명‖ 예복을 갖후고 오전九시부터 영도사에서신부오기를 고대하엿으나 신부측신당정(新堂町)一四八번지 성순애(成順愛)양(二二)‖가명‖은석양이 휠신지내도록 오지안허 사람을 보내어 알어본결과 신부는어\\n디로 피신을하고말아 결혼식은중지되고말엇다。\\n이두분은 약四개월전에 약혼을  하엿으나 오로지 부모의 명령  으로하엿던것이고 신부의 승락  없이결혼날자를 정하야 반대의  기세를 보엿다는것이다。',\n",
       " '鴛鴦夢에짙어가는\\n柊林의봄消息\\n스타｜들續續家族部隊에編加\\n스피｜드結婚에\\n에디｜記錄作成\\n날세가 제법 따뜻｜아니따거워지더니 柊林에서 오는 消息은 봄답다。 여기저기서 로만스가傳해지고 結婚行進曲이 흘러나온다。\\n그첫話題에 올러온 사람은 亦是 메트로社의 歌手스타｜넬슨·에디｜일것이다。 相對는 시드니｜·프랭클린監督의 前夫人으로이結婚은 스피｜드를 자랑하는 米國에서도 最스피｜드의 記錄을낸珍結婚이엇다고한다。 이런點에서는 여간해서는 놀라지안는 柊林껄들도 이번의 에디｜結婚에는듣는사람만다\\n『어쩌｜면｜』\\n넬슨·에디｜는 結婚後·各地로노래旅行을 떠나리라고하는데 勿論新婚夫人도 同伴名實共히 密月旅行이되리라고。\\n夫婦는一心體\\n資格도같아야\\n아니다·루피노와 루이스·체이워｜드노 結婚을햇다。 그들의로만스는 벌서二年前부터 盛히同僚들의 입에서 全世界팬들에게 放送되어온터다。\\n그런데 여기에 滋味잇는 揷話가잇다。 卽헤이워｜드는 벌서부터 結婚할意思가熱烈(！)햇지만루피｜孃을비롯한 그들의 兩便親舊들이『적어도 新郞은 新婦와同格의 資格(俳優로서의)을 가추기前에는|』하는것이 條件이되어헤이워｜드君一心不亂精進을꾀하여드디어新郞免許證(？)을 받은세음이라고。\\n再婚男便과\\n再婚夫人\\n例의『春調』로서 盛히 이름이 날려진 헤디｜·키슬러｜도 이번에結婚을햇다。 相對는 푸로듀｜서인 진·마｜케이·헤디｜는 일즉이 歐洲의軍需工業者이던 릿트·핸들氏의 夫人이엇고『진』은 또일직이 쬬｜지·빼네트의 夫君이엇고보니 피장 파장\\n템풀、薇薔品評\\n會委員으로被選\\n世紀의 人氣者인 템풀도結婚을한것은 아니다。 그러니 讀者는놀랄必要가 없을것이다。 템풀은이번 第十一回 아카데미｜賞授與式當夜 미마우스의 아저씨 띠즈니｜에게템플이 지금까지에 獲得한 아카데미｜賞牌를 贈呈햇다。\\n이와는 反對로 이번은 템풀薔薇品評會의 委員으로 選拔되어委員證를 받엇다 한다。',\n",
       " '新郞다뤄먹고\\n無錢取食으로留置塲에\\n부내 사간정(司諫町)一二四 번지 광산업 김석준(金錫俊)(三三)서린정(瑞麟町)七○번지 광산업 박효한(朴孝漢)(四□)양명은 방금 종로서(鍾路署)에서 유치코 엄중취조중인데 유치장신세를 짖게된경노는 이러타고한다。\\n十七일 부내 서린정七○번지최윤재(崔允在)결혼식이 잇은후 신랑 최를 서린정 요리점동명관으로 데리고가서 자그만치 二百十二원 二전의 간조를내이도록 유흥하고 요리대금은한푼도내지안허 무전취식으로검거된것이다。',\n",
       " '醮禮廳에서절한번失手\\n장가갓다쫓긴新郞\\n竹山郡下의『넌센스』\\n【竹山】신랑신부 서로마주서서 청사홍사로 인연을맺고 백년해로를한다는 게약의결혼식이 끝난후 절 한번실수로 결혼식을취소당하고 쫓겨난 나이어린 신랑이잇다。 그는 안성군 일죽면 주천리(安城郡一竹面洋川里)이모(李某)의장자(一六)로 동군 삼죽면덕산리(三竹面德山里)김모(金某)의 삼녀(一九))와 월여전에 약혼을하고 지난十三일 신부가로 혼행(婚行)하야 동일十一시경에 결혼식을 끝마치고 결혼잔치가 벌어젓는데 김씨가 친족들 십여명들에게 신랑이 정신없이 절을하다가 기질이약한 어린신랑이그만실수하여 넘어젓다는데 김씨가에서는 이를 병신이라는 부당한이유로 결혼을 거절하야 결혼식장은 일대수라장으로 변하엿으며 신랑은그만 쫓겨나고말엇다는데 탐문한바에의하면 전기신랑이월여전에 자전거에서 중상을입어 병중으로 지내엿다는데아직것원기가 회복되지 못하엿으므로 그와같이 실수하엿다 하며쌍방이 강경한 태도를취하므로앞으로 여하히해결될른지 一반의화제꺼리가 되여잇다고한다。',\n",
       " '보니新郞은문둥이라\\n果敢！新婦가破婚\\n不幸을벗어난晋州邑〃貴粉이〃\\n【晋州】늦게장가갓다가 신부(新婦)에게소박을당코 속인죄라하는 수없이 결혼비용만 찾고파혼하엿다는 사실이잇다。 그내용을탐문하여본즉 본집을진주읍장재리(晋州邑長在里)에두고 일본내지대판(大阪)에서 포목상(布木商)을 경영하는 노모(盧某)(三二)가 동읍앵정(櫻町)에잇는 안귀분(安貴粉)(一七)이와 결혼식을 지난九일 신부자택에서 거행하게되어예식을 행하려할지음 구경군이신랑이 문등(癩病患者)이라고 숙은 거리엇으므로 그말을 들은신부는 곧염치불구하고 처다보더니 나는 시집못가겟다고 파혼을 선언하엿다 그러고보니 문제는 참으로 맹낭하게되여 양편칙에서는 의사를불러 진찰을하여보앗으나 사실이 사실인만큼거즛말할수없고 멀리 도망하여가버렷으므로 혼례식장은 뒤벅신거리엇다 신랑칙에서는 창피도창피려니와 분하기짝이없어 당지경찰에애원하엿으나 역시신부는 절대불응함으로하는수없이 결혼비용일체를 신부칙에서 변상하고 파혼하도록 쌍방을 타협시켯다고한다。',\n",
       " '보니新郞은문둥이라\\n果敢！新婦가破婚\\n不幸을벗어난晋州邑〃貴粉이〃\\n【晋州】늦게장가갓다가 신부(新婦)에게소박을당코 속인죄라하는 수없이 결혼비용만 찾고파혼하엿다는 사실이잇다。 그내용을탐문하여본즉 본집을진주읍장재리(晋州邑長在里)에두고 일본내지대판(大阪)에서 포목상(布木商)을 경영하는 노모(盧某)(三二)가 동읍앵정(櫻町)에잇는 안귀분(安貴粉)(一七)이와 결혼식을 지난九일 신부자택에서 거행하게되어예식을 행하려할지음 구경군이신랑이 문등(癩病患者)이라고 숙은 거리엇으므로 그말을 들은신부는 곧염치불구하고 처다보더니 나는 시집못가겟다고 파혼을 선언하엿다 그러고보니 문제는 참으로 맹낭하게되여 양편칙에서는 의사를불러 진찰을하여보앗으나 사실이 사실인만큼거즛말할수없고 멀리 도망하여가버렷으므로 혼례식장은 뒤벅신거리엇다 신랑칙에서는 창피도창피려니와 분하기짝이없어 당지경찰에애원하엿으나 역시신부는 절대불응함으로하는수없이 결혼비용일체를 신부칙에서 변상하고 파혼하도록 쌍방을 타협시켯다고한다。',\n",
       " '十九世紀의樂聖인\\n하이든의머리와胴\\n百餘年만에合葬하게되어\\n一八○九年五月卅一日○、마리아힐파슈트랏세에서 樂聖요셈、하이든이 逝去한지 今年은꼭百卅年째가 되는데 이機會오래동안 離散해잇든 故人 의에頭蓋骨과胴骨이 한塲所에 모히게된다는기뿐이야기가잇다。 이頭蓋骨은 하이든의 死後卽時二人의 骨相學者가墓盜人을 買收해서 暗夜몰래 훔처낸것인데 그後이리저리 도라다니다가 最後에『뷔樂友會』의所有로 된채今日에 이르럿다。\\n近年 그所有權에對하야『하이든클럽』과의사이에 紛爭이이러나裁判沙汰까자 된일이잇어 可惜一世의樂聖하이든의 靈도 安全히쉴사이가없엇다。 一方胴骨은先祖代代有名한 音樂家와의 交涉이 깊고音樂에對한 조흔理解者인 洪牙利의 에스텔하｜지伯이 하이든의 英靈에獻納하고저故人이 一七六六年부터 一七七八年까지 고요한 生活을한回顧깊은 거리아이젠슈타트에 建立한 베르그·키르키에 安葬되어잇다。\\n今번 뷘樂友會는 오래동안取햇든 頑强한態度를 버리고 故人의 頭蓋骨를 前記의寺院에併納하기로 同意한고로 하이든의머리와 胴은 百數十年만에 겨우 한곳에 모히게되엇다 뷔樂友會의 今番措置는 樂聖의靈에對하야 音樂愛好者의 當然取할態度라해서 各方面으로부터 好感을 받게되엇다 元來同會가이頭蓋骨을 손에너흔때는 元所持者로부터絕對뷘以外塲所에내가지말것』이라는 條件이잇엇기때문이라 하고 同會가 從來固執해온立塲도 一應理解할수잇다고생각된다。 아이젠슈타트 市의 所屬인 부르겐란드地方이파리平和會議의 結果洪牙利에서오스트리아로 割讓되엇고 오수트리아가 最近또獨逸과 合併되어大獨逸民族國家를 形成하게된今日『뷘以外에『내가서는안된다』는條件은民族國家의立塲으로는 벌서意味가 없어진고로뷘樂友會도드디어今番과같이决意를하게된 것이라한다。\\n◎메리·삑포드\\n映畵會社設立\\n일즉이無聲映畵時代에『米國의 戀人』으로 映畵界에君臨하엿든메라·삑포드孃은 今年四十七歲의 올드미스면서 옛날稱訟받든 艶姿 아직도 衰하지안코 저번에 音樂指揮者 파리·로쟈스氏와 結婚 손에손을 잡고 歐洲各國을 두번째의 新婚旅行中이 엇엇는데 最近六個月에亘하는 旅行을 마치고뉴욕에歸着하엿다 삑포드는 점점더元氣왕성하야 映畵製作者로서 다시런던에가서 依然映畵를위해盡瘁한뜻을 發表하엿다 삑포드孃의 歸來談\\n『나는 다시 런던에도라가 삑포드映畵會社를 製作하기로 되엇어요、將來는 런던에서 映畵製作에 專念하기로 하지마는 우선 第一回作品으로『蝙蝠』을製作하기로 决定하엿습니다。』\\n가을銀幕登塲의\\n미국映畵陣容\\n가을 씨슨의 銀幕界登塲의 아  메리가 映畵 大作에는 그陣  容이如左하다\\n△파라마운트社『舞姬자자』『세  뇨리타』『乙女의曲』『眞人間』  『당신과나』의改名『쩡그르의戀  愛』『내가만일王者가된다면』『텍  사스人』\\n△메토로『海國魂』『少年의거리』  『타｜산의追放』\\n△RKO『캐야플리』『빅토리아女  王』\\n△유나이트『適齡期』『푸랑켄슈타  인二世』『裏街六人組』『靑春問  答』『新郞徃來』『젠타域의포로』  『맘의靑春』『代身된花形』『춤추  는로만스』\\n△와나『黑蘭의女子』『婚約리레』  『더러운얼골의天使』\\n△폭스『스에스』『世紀의樂園』『爆  雷艦隊』『農園의寵兒』\\n△콜럼비아『뿌라운의G멘』『大學  의名物』『反逆兒』『熱砂大陸橫斷  『魔電波』『魔炎島滅亡記』\\n가을철에 들어서면 바라고 기다리던 洋畵를 마음것 觀賞케될것이다。',\n",
       " '『데드·엔드』의原作者\\n맛지·에반즈와結婚\\n【욕(메인洲)發同盟郵信】最近日本에서도 好評을 博한 映畵『데드·엔느』의 原作者시드니·킹스레氏가 最近程M·C·M專屬스타로서『印度의寵兒』『헬삐로』等의 作品에서 一時크게이름을 떨친 맛지·에반즈孃과 結婚.욕의敎會에서 盛大한 華燭의典을 擧行하엿다 이만즈孃은 今年卅一歲少幼六歲에 映畵에 떼뷰 아해役으로 好評을博하고 자래서는 M·G·M專屬 스타로서 名聲을얻엇으나 最近은 專혀 스테지로 轉向하고잇다。 新郞 킹스레｜氏는 當年卅三歲、두말할것도없이 戱曲『白衣의사람들』로 퓨리터賞을 受領한 劇作家로 또最近에는 그『데드·엔드』의 上映權 十六萬五千弗로 世上을 놀내게한사람인데 兩人은모두 初婚이라고한다。',\n",
       " '放送프로\\n十月九日(月)\\n第二放送\\n▼正午 神宮奉讃蹴球試合實况\\n▼一、一五 講演(裡里)  金炳洙\\n▼一、一五 講演(釜山)  『歐洲戰爭과우리의經濟』  金大得\\n▼二、三○ 咸興 秋季競馬實况  (國語)(咸興)｜咸興競馬塲으로  부터中繼｜\\n▼六、○○ 幼年童話(京城)『가을이오면』全尙鎭\\n▼六、○○ 童謠(平壤)章台峴幼稚園兒童獨唱 鄭恩福伴奏 金道實\\n▼六、○○ 만돌린合奏(咸興)咸興만돌린앙상블\\n▼六、三○ 週間情報\\n▼七、三○ 講演『平凡과天才』  每日新報 柳光烈\\n▼八、○○ 新作才談  〃새新婦옛新郞〃｜李達作  金元  崔英善\\n▼八、二○ 唱劇調  一、短歌公道難 二、唱劇說春  香傳中御使出道하는데林玉乭 鼓手林鍾\\n▼八、五○ 新民謠  一、베틀歌 二、金剛山打鈴  三、긴아리 四、사발歌 五、  노들江邊 六、靑春歌  權□蘭 細笛李忠善\\n▼九、一五 時調 一、平時調二、辭說時調李承煥 短崔壽\\n▼九、三○ 時局展望\\n▼一○、一○ 初步國語講座(一  七)      宋今璇\\n第一放送\\n▲六、○○(大)이야기▲六、二五(東)講演▲七、三○講演(咸興)▲七、四○(大)講演▲八、○○(東)라디오小說▲八、四○(東)詩吟▲八、五○(鳥)府縣巡廻(十三)鳥取縣篇▲九、二八(東)十分間演藝十月十日(火)\\n第二放送\\n▼午後○、○五 獨唱(레코｜드)\\n▼一、一五 家庭時間 非常時生活設計(一)『代用織物이야기』           朴璋烈\\n▼六、○○ 라디오旅行〃에지  프트와아라비아〃鄭寅爕\\n▼六、三○ 講演『藥草採取이야기』京城藥學專門 沈鶴鎭\\n▼七、三○ 講演『重大時局에際하야 傷痍軍人의 所信을述함』  (譯)陸軍中中將 蒲穆\\n▼八、○○(東)管絃樂 交響詩洪牙利、리스트作曲             日本放送管樂樂團  指揮 만프렛트그루릿토\\n▼八、三○ 西道歌謠 一、寧邊 歌 二、楚漢歌三、山念佛 四、 開城難逢歌 五、방아타령            張一朶紅、全光泰\\n▼八、三○ 西道歌謠(平壤)一、  놀양 二、사거리三、中巨里 四、징발림 五、開城難逢歌 六、簡紙 打鈴 崔明仙、李鼎烈\\n▼九、○○ 라디오小說〃舞臺  의神秘〃｜朴文瑞作韓銀珍\\n▼九、三○ 뉴｜스解說\\n▼一○、一○ 中等國語講座(四  八)      金鳳姬\\n第一放送\\n▲午前六、三○(東)基礎英語講座(十三)▲七、○一(東)아침修養▲九、四五(東)幼兒時間▲一○、二○(東)家庭燃料講座(一)▲一一、○○(各局)小學生時間(尋二)▲午後○、○五(東)新日本音樂▲一、一○(大)社會見學▲二、○○(大)小學生時間『尋六』▲三、○○(城)婦人時間 榮養料理講座(一)  ▲六、○○物語(京城)▲六、○○童謠(釜山)▲六、○○하와이안키타와색소폰獨奏(平壤)▲六、○○ 피아노와獨唱(淸津)▲六、○○吹奏樂(咸興)▲六、○○吹奏樂레코드(裡里)▲六、二五(城)趣味講演(淸津入中)▲六、二五趣味講演(釜山)▲六、二五講演(平壤)▲六、二五趣味講演(咸興)▲六、二五講演(裡里)▲七三○講演(咸興)▲七、四○(東)講演歐洲動亂과米國態度▲八、○○(東)管絃樂▲八、三○(名)特輯講演▲九、○○(東)浪花節〃愛馬進〃▲九、二八(東)十分間演藝',\n",
       " '早婚과新郎\\n어떤집에서 어린아들을 장가를 들엿더니 애가 限死코 新婦房에들어가잠을자지안커늘父母가子息(新郞)을 앉히고 타일르것다\\n母|〃얘야 그래서야 쓰느냐 오  늘밤부터는 제발네색시房에 좀  들어가 잠을자려무나〃\\n父|〃그럼 그래선 못쓰는法이야  어서 아모말말고 들어가 자거  라〃\\n子|〃난실혀요 아버지나 들어가자구료〃',\n",
       " '結婚을 싸고도는迷信\\n㊀\\n結婚날新婦衣裳은\\n黃綠色은조챤타\\n結婚式날延期하는건不吉兆\\n고양이보면好緣！\\n結婚｜｜그것은 男子에게나女子에게나 間에 希望의돗대를달고 人生의 航路를 出發하는重要하港口가아니되면 안된다그러므로 東洋에서나 西洋에서나 이港口를싸고 不知其數의迷信的奇習이行해지고잇다。 어느것이나 無意味笑止千萬의것이아닌것이 없다。 特히 未婚令孃들에게는 航行하는데의 羅針盤이될터이고 또는벌서 한家庭을가진 主婦들에게는 過去를 回想시키는 昔日譚이 되겟기이에 멀리 西洋사람들의 結婚奇習몇가지를 紹介한다。\\n不吉한金曜日\\n基督敎를 信奉하는 사람들은누구나 金曜日을 厄日이라고끄린다。 그것은 耶蘇께서 十字架에 피를흘린 그날이엿으므로結婚은 말할것도없고 이날에는새로운일은 무엇이고 하지안는것이다。\\n幸福의前兆\\n新婦가 結婚式當日에 고양이의 소리를들으면 그야말로참으로 그女子의結婚生活은 幸福하리라는것이입니다。 그리고 이만은 좀못하다고하지만 新婦가平日에 全然본일이없는 고양이를 본것만으로도琴瑟이 조화진다는것입니다。\\n不幸의前兆\\n確定한 結婚式日을 延期하는것은勿論 조꼬만 생각한다고해도 感服못할일이어니와 이것은아조將來에 不吉을가저올兆朕이라고합니다 그러므로 차라리不得己延期할 程度라하면 미리댕겨서 擧行하는便이 조타고합니다。\\n結婚의衣裳\\n新婦여！만일 당신이幸福스런結婚을 希望하시거던 이것만은 式塲에갈때에 잊지마시요第一끄리는것이黃色과綠色과의式服입니다。\\n그것은 어째그럴가？아마嫉妬를 意味하는것이겟지 俚諺에도『綠色은無貞操』라 햇으니그리고 浮氣에흘르기쉬운 衣裳은結婚式塲에禁物이외다그다음幸福을찾는新婦네들、애야당신네自手로〃예장옷〃은짓지마시요그것은 가엾게도 당신네結婚生活히 悲慘하게된다는 까닭입니다 結婚式에쓸 飮食(菓子)같은것도 몸소調理하면 안된답니다 이와反對로〃아｜참〃훌륭하고만〃하고〃예장옷〃을펠처볼때에 단한마리의의 거미래도그속에들어잇으면이야말로참으로 그의結婚生活은 無限한幸福을 가저온다는것이외다。\\n面鏡은忌避\\n盛裝을한 新婦가 式塲으로나가려할때에 말하자면 모든準備를다하고잇는新婦가 새삼스럽게 面鏡앞에슨다는것은 不吉하다고합니다。 이것은 아마 칠칠치못한 新婦가 掌匣을잊엇느니수건을 잊엇느니하야 式塲을向하다가 되다시 面鏡앞으로 돌아슬것을 警戒하는것이 겟지요\\n途中의吉凶\\n式塲에 나갈때외다。 中途에까마귀를 만나는것은 아조커다란不吉이랍니다。 만일 풀으를날라가는 까마귀그림자가 新郞新婦의 머리우에 떨어지면 悲哀와苦惱가 두사람將來를 막는다고 합니다。\\n〃太陽에 祝福받은 新婦는幸福하다〃는俚諺도 잇거니와式當日이 快晴한것은 來頭의結婚生活이 明 하리라는 證左입니다。\\n다시 途中에서 電報를받으면두사람身上에 큰災難이 잇다하고 또 式塲갈때나 돌아올때에喪輿를보면 그것은 救助할 道理가 없다는 것이외다。 女子喪輿면 新婦에게、男子喪輿면新郞에게、모두 短命夭折한다는〃방자〃랍니다。 ||(續)',\n",
       " '結婚을 싸고도는 迷信\\n㊁\\n사랑을中斷시키는\\n金剛石斑指는禁物\\n結婚式前에는 껴보지 마서요\\n斑指\\n新婦여 或여생각이 잘못들엇드라도 結婚式에〃金剛石斑指〃일랑끼지마시요 왜그런고하니 斑指는 愛의標的인데 金剛石같이반짝어리는것이 새에끼여잇어서는 모처럼 맺어질려는 사랑을中斷시킬念慮가잇다는것이외다 그러므로金剛石斑指는 禁物 그리고結婚斑指는 結婚式그瞬間에 끼여야지式擧行前에끼면 不幸이온다고 합니다 式塲에臨하야新郞이 新婦의손가락에 斑指를끼여줄적에 가장愼重한 態度로몸을갖지안흐면 안된다고 합니다\\n만일 손을떨어서 이사랑의象徵인斑指를 땅에떠러트리게되거든 숫제 이結婚式은 그만집어치어는것이當然 더구나 結婚斑指를 紛失한다든지하는것은 말할것도없는일。\\n無名指\\n왜 結婚斑指를 無名指에끼나？그起源을 찾으면 아조옛날옛적일埃及의 生理學얘기를하게됩니다그것은 이런것이외다。 心臟을 發源한 動脈中에 가장微妙한 一支脈이 이無名指末端까지 뻗첫다는것이외다〃한이손가락에 觸抵하면 心臟의鼓動을 感覺할수잇으므로 醫師는 病者의疲勞를 이로써判斷하고 魂의重任과 罪惡까지도考索할수잇다〃고 옛날 生理는이려케말하고 잇답니다。 卽 無名指에서 執脉을 하는것입니다。 嬰兒가出產하야 最初로 움지기는것이이손가락이고 死人이 最後에움지기는손가락이 亦是 이손가락、體溫의最後까지 保溫하는것도 이손가락이라합니다。 참으로 이손가락이야말로 愛情을傳하고 友情을傳하는것이라고 人類의 祖先은믿어왓던것입니다。\\n長壽\\n祭壇에 꿀어앉을때도 어느쪽이든지 먼저꿀어앉는便이 일즉 죽는다하야 忌嫌합니다。 그러므로 될수만잇으면〃하낫、둘、셋〃하는마치 軍隊號令부르듯 番號를마추워 新郞新婦가 一時에跪拜한다합니다。\\n歸途\\n式이끝난다음 新婦가 式塲을나오려고할때에、반드시 右脚부터내디더야합니다。 그다음 누구보다도먼저 新婦는 新郞에게 말을걸어야할것。 만일新婦以外의 사람이 말을붙이게되면 新郞의마음이 딴데로 옮길念慮가잇다는것이외다。\\n그다음式이끝나고 控室로들어갈때에入時와出時와에 다른門을使用하면新婦의生涯는 不幸으로終局한다합니다。〃貞婦는大門둘을쓰지안는다〃는말도잇지요。\\n(續)',\n",
       " '新婦여！式日에는\\n눈물흘리지 마시요\\n一生을 눈물로 보낼가 두려워\\n喪輿를 만나거든 되돌아가라\\n헌구두의雨\\n新郞新婦가 式塲을 나올때와、또는 華麗한옷을입고 新婚旅行을떠날때는 雨雹이나 퍼붓듯이 헌구쓰와 헌〃슬리퍼〃를뒤를 쫓아가며 던진답니다。 그것도 不足해서 馬車뒤에 붙잡아매는 習慣까지잇습니다。 눈에서 눈물이 나리만치 기뿔新婦의어머니까지도 精神없이되야 헌구쓰를던지는 것을보면 아마도 이것은 이날부터는新郞新婦가 父母의膝下를 떠나獨立生活의新路를 나간다는 意味일것입니다。\\n米와麥結婚式塲에立會햇던여러사람이新郞新婦가 退塲할때에 쌀과보리를 이두사람 얼굴에뿌리는것은幸福되라는象徵에서食糧에不自由가없어 卽生活에困苦가 없으라는意味일것이외다 그것이 只今은一變해서 꽃이나또는 아름다운 各色의紙片을 뿌리어 新郞新婦의머리를向하야 던지지안습니까？마치두사람을 한데얽어매여 노틋이\\n新婦衣의핀\\n新婦의〃들러리〃에는 흔이는未婚處女가 쓰이여지는데 式이끝나고 新婦의옷을 베낄때에는〃들러리〃는 如干한操心을 하지안흐면 안된다는것입니다 그것은新婦옷에 백힌핀을 잘못해서 한개라도남기고 뽀아노치못하면 新婦의 前途에서는 不幸의悲哀가雲霧같이 싸인다는것입니다 餘殃은이뿐아니라 이〃들러리〃에게도 미치어 오는復活祭까지에는 그기뽐의 結婚이 되지못한다는 무서운일이 잇다는것입니다그러나 한가지자미잇는것은 未婚處女들이 이新婦옷에서 떠러진〃핀〃을주으면 그해가다가기前에 기쁨의緣談이잇다하야〃핀〃을 뽑을때에는 시집갈나이가된處女들은 앞을다투워〃핀〃줍기내기를한답니다。\\n新婚旅行\\n人生의 一生中에 新婚旅行처럼꿈속같고 幻術같이 그저 기쁘고愉快爽한것은 없을것이외다 그첫걸음｜단두사람이 어깨를 나란히하야 自動車를몰아 停車塲으로달려갈때 만일不吉하게도 喪輿를만나거든 그대로 한번집에돌아왓다가 다시나가시요 汽車時間쯤못대는것은 問題도아니되고 一生涯를暗黑한悲哀에서 보내게 된다는큰무서움이 잇다하니 어찌疎忽히여기겟소？\\n新家庭\\n結婚한 두사람이 새로운人生의길을밟아나가는 第一步｜卽 새로운家庭으로 들어설때에 新郞은 新婦를껴안고 大門턱을 넘어야만한답니다。 그래야 모던咀呪와 온갖 災厄으로부터 救援받는다고〃로｜마〃사람들은 믿어온답니다。 그리고 어떤地方에서는 新婦가 新家庭을 들어갈때에는 헌겁으로 얼굴을싸매고들어간다하니 이것은아마 惡鬼를 끄려그리는게겟지요 만일이때에 新婦머리를 넘겨던진 菓子가 무엇에부디처서 부서지면 그야말로 幸運의 前兆랍니다。\\n幸運의蹄\\n이것은 新郞便｜만일式當日에新郞이 禮服호주머니에 小型의馬蹄를 훔처너허가지고 式塲에나가면前途가幸福스럽다고하지만新婦들이여｜아모리기쁘고또아모리어머니사랑이 떠러지기 어렵드래도 式日에는 눈물을랑제발흘리지마시요 당신의一生은 눈물로보낸다니 그아니 몸서리가납니까？\\n船中의婚式\\n우리네야 설마 船中에서 牧師를앞세우고 結婚式을할理야 없겟지만 南米나 大洋洲로移民을가는歐洲人의 彼氏와彼女는 지루船室속에서 不意에맺어진 戀情이마침내 彼岸을채못가 希望峯의燈臺밑에서 月下氷人에게 이끌리여기뽐의花燭典을일운다는얘기가잇답니다 그러나 西洋에는〃물고기아닌以上、結婚式만은 陸上에하라〃는 俗諺도잇스므로 船中에戀花가 피엇더라도 結婚式만은 上陸한다음에 擧行하라고 한답니다\\n結婚促進法\\n結婚當日에 新郞이나 新婦에게어깨를 마조대면 婚期의總角、處女는 不遠에 結婚이된다해서 婚式當日에는 두사람을에워싸고 이또래들이 雲霧같이 모히여 마치愛犬이 主人에게 덤비듯이 어떠케들 야단인지 婚式의 衣裳은 이발길 저발길에 채여 더러워지고찌저저서 기쁨의날이아니라 그야말로 逢辱의 날이랍니다。\\n어밖에新婦의손으로쓴〃치｜쓰〃한쪼각만얻으면 一生이 幸福하다하야 未婚處女들은 어찌하면얻을까하고 그야말로血眼으로 덤빈다하니 이어찌우습지안습니까？\\n(끌)',\n",
       " '不正택시番號알리라\\n結婚式場가는新郎에게徃復料金받어\\n每日같은吿發에鍾路署憤慨\\n작六일석양 합동(合同)택시의〃부당요금〃을 어떠케하면조켓느냐는 호소의 고발이 종로서(鍾路署)보안게에 또 들어왓다\\n고발의 주인공은 부내 통인정  (通仁町)一번지김택진(金澤鎭)바로 수일전 자택에서 광화문(光化門)택시｜차부의 차한대를 불러타고 도청앞까지오니고새에 요금의 메터｜는 七十전을 가르치고 부민관까지 九十전을 감족같이 내엇는데 운  전수의답변에의하면차부에서출  발할때부터료금메터｜를 돌려  노코 가라는명령이잇어 그랫다  는것이나마침 결혼식에가는 신  랑(新郞)이라 시비를 가리지  안코 요구의 요금을 지불하엿  다는것이다。\\n그러나 서로서는 차대의 번호조차 분명치못하므로 부당의 사실을알면서도 적당히 처치못하고잇고 이런신고가 매일 二、三건식에달하야 심히분개할뿐 아니라회사측에 엄중경고를 발할터이라한다。 이에대하야 종로서 보안게에서는\\n鍾路署保安係談 합동택시｜로되면서부터 어쩐일인지부당요금의 청구등이 빈번하고또는공차(空車)로 돌아다니면서 손님을 거절한다는호소가매일같이 전화혹은 즉접와서말하야 참으로 처치에 곤난하다。\\n이런 부당한 일을당하는 부민은 자동차의 번호를 잘기입하야 고발하엿으면 조켓다 운운。',\n",
       " '不正택시番號알리라\\n結婚式場가는新郎에게徃復料金받어\\n每日같은吿發에鍾路署憤慨\\n작六일석양 합동(合同)택시의〃부당요금〃을 어떠케하면조켓느냐는 호소의 고발이 종로서(鍾路署)보안게에 또 들어왓다  고발의 주인공은 부내 통인정  (通仁町)一번지김택진(金澤鎭)바로 수일전 자택에서 광화문(光化門)택시｜차부의 차한대를 불러타고 도청앞까지오니고새에 요금의 메터｜는 七十전을 가르치고 부민관까지 九十전을 감족같이 내엇는데 운  전수의답변에의하면차부에서출  발할때부터료금메터｜를 돌려  노코 가라는명령이잇어 그랫다  는것이나마침 결혼식에가는 신  랑(新郞)이라 시비를 가리지  안코 요구의 요금을 지불하엿  다는것이다。\\n그러나 서로서는 차대의 번호조차 분명치못하므로 부당의 사실을알면서도 적당히 처치못하고잇고 이런신고가 매일 二、三건식에달하야 심히분개할뿐 아니라회사측에 엄중경고를 발할터이라한다。 이에대하야 종로서 보안게에서는\\n鍾路署保安係談 합동택  시｜로되면서부터 어쩐일인지  부당요금의 청구등이 빈번하고  또는공차(空車)로 돌아다니  면서 손님을 거절한다는호소가  매일같이 전화혹은 즉접와서  말하야 참으로 처치에 곤난하  다。\\n이런 부당한 일을당하는 부  민은 자동차의 번호를 잘기입  하야 고발하엿으면 조켓다 운  운。',\n",
       " '画映와劇演\\n▲明治座(三十日부터三日間)松  竹京都『維新樓』大船作品『안  해와戰爭』\\n▲若草劇塲(二十九日부터)東寳  東京『빗과그림과』유니버살作  品『新郞徃來』\\n▲黃金座(二十九日부터二日間)  日活京都『隱密人生記』(三十  一日부터一週間(日活京都『海  援隊』)\\n▲京城劇塲(廿六日부터五日間)  新興東京『母戀千鳥』\\n▲東洋劇塲(二十九日부터)靑春  座最終週間 特別短期大公演 宋  影作 남펀도라오는날 南宮春作  홈스윝홈',\n",
       " '映畵와演劇\\n▲明治座(二日부터四日까지)  『타｜산의猛襲』\\n▲若草劇塲 (二十九日부터)東寳  東京『빗과그림과』유니버살作  品『新郞徃來』\\n▲黃金座 (三十一日부터一週間)  日活京都『海援隊』『魔嶋카리  비안』\\n▲京城劇塲 (一日부터五日間)  新興東京『젊은안해의꿈』新興  京都『笠森오셍』\\n▲東洋劇塲 (二十九日부터)靑春  座最終週間 特別短期大公演 宋  影作 남편도라오는날 南宮春作  홈스윝홈',\n",
       " '映画와演劇\\n▲明治座 (二日부터四日까지)  『타｜산의猛襲』\\n▲若草劇塲(二十九日부터)東寳  東京『빗과그림자』유니버살作  品『新郞徃來』\\n▲黃金座(三十一日부터一週間)  日活京都『海援隊』『魔嶋카리  비안』\\n▲京城劇塲(一日부터五日間)  新興東京『젊은안해의꿈』新興  京都『笠森오셍』\\n△東洋劇塲(三日밤부터)劇團豪  華船歸京公演 宋影作『美人街』  三幕四塲',\n",
       " '婚禮翌日에\\n新郞踪跡渺然\\n【金堤】김제군 김제읍검산리(金堤郡金堤邑釼山里)안응삼(安應三)(四五)의집에서는 지난五일에 그의三녀 순이(順伊)(二十)와 동군 용지면 부교리(龍池面父敎里)김순선(金順善)(一九)‖이상전부가명‖과 아름다운결혼예식이 잇는다음 그날저녁에는 신랑과 신부가 신방에들어 아모험결도없이잘자고일어나그이튼날인 六일오전九시경에 어찌된까닭인지 자기집으로 돌아가겟다하고 신부의집을 나와바린 신랑은 자기처남이 가지못하게함도구지 듣지아니하고 어데로인지 몸을 피하야바리고 없으므로 어찌된영문을 아지못하는 신부집에서\\n는 시각을지체치 아니하고 신랑집으로 사람을 보내여보앗으나신랑은 돌아오지 아니하엿다 하므로 또다시 여러사람을시켜 신랑이 갈듯한곳을 사방으로 차저보앗으나 지난七일까지도 그종적을알지못하고 잇다는데 신부집에서는 정신을 차리지못하고우울에싸여잇으며 신부는 식음을전페하수수격기같은 신랑을생각하며 골치를알코잇다는데 부근일대의 한화제로되어잇다한다',\n",
       " '婚禮翌日에\\n新郞踪跡渺然\\n【金堤】김제군 김제읍검산리(金堤郡金堤邑釼山里)안응삼(安應三)(四五)의집에서는 지난五일에 그의三녀 순이(順伊)(二十)와 동군 용지면 부교리(龍池面父敎里)김순선(金順善)(一九)‖이상전부가명‖과 아름다운결혼예식이 잇는다음 그날저녁에는 신랑과 신부가 신방에들어 아모험결도없이잘자고일어나그이튼날인 六일오전九시경에 어찌된까닭인지 자기집으로 돌아가겟다하고 신부의집을 나와바린 신랑은 자기처남이 가지못하게함도구지 듣지아니하고 어데로인지 몸을 피하야바리고 없으므로 어찌된영문을 아지못하는 신부집에서는 시각을지체치 아니하고 신랑집으로 사람을 보내여보앗으나신랑은 돌아오지 아니하엿다 하므로 또다시 여러사람을시켜 신랑이 갈듯한곳을 사방으로 차저보앗으나 지난七일까지도 그종적을알지못하고 잇다는데 신부집에서는 정신을 차리지못하고우울에싸여잇으며 신부는 식음을전페하수수격기같은 신랑을생각하며 골치를알코잇다는데 부근일대의 한화제로되어잇다한다',\n",
       " '○토○｜○키○音○樂○論○\\n❶\\n◇音◇樂◇과◇映◇畵◇의◇交◇涉◇\\n金    水    鄕\\n◇토｜키｜에잇어서  의音樂◇\\n저有名한十九世紀의 英國의文藝批評家 월터｜·페｜터｜의『모든藝術은 音樂的狀態를 憧憬하야마지안는다』는말은 演劇에서보담 詩歌에서보담、토｜키｜에 잇어서 더욱至當한말이라고생각된다\\n映畵라는 二十世紀에生誕된藝術이 싸이렌트時로부터‖그發生初期부터 音樂과는 親近한사이로 토｜키｜에 이르러서는 한층더密接한關係를 가지게되엇다 싸이렌트에서 單純한 에펙트(効果)로써 스크린밖에서 所謂無聲映畵伴奏로써 使用되던音樂이 토｜키에 이르러 直接으로登塲하야토｜키｜藝術을 構成하는 重要한엑레멘트로 進出하게되엇다 토｜키｜에서 聽覺的現象인 音像은視覺的인 影像과함께 高度의地位를찾이하며、同格의 엘레멘트로써極盡히 待接을 받게된다。\\n한때、토｜키｜藝術草創期에토｜키｜作家들은 토｜키｜藝術에서 視覺的要素와 더부러 그內容을 形成하는音樂을 正當하게 뫼시지못하고、마치데리고온 子息처럼 푸待接하엿고、함부로 取扱하려 하엿엇다우리는 어떤家庭에서 철없는繼父가 그안해가 다리고온子息을푸待接하고 虐待하므로 因하야그家庭이 恒常不安과 不幸에싸여完美한平和를 꿈꾸지 못한다는事實은 新聞이 每日같이報吿하고잇다 이같이 토｜키｜의 家庭에서가장中軸的人物인『音樂』을無視하고 무슨 데리고온子息처럼 푸待接하고 함부로 取扱하엿다가는이家庭에서 完美한平和로 생각되는『藝術』을찾어볼수없을뿐더러聽覺的要素와 視覺的要素로 構成되는 토｜키｜그自體의存在조차도 가지지못하는 常識을 여기區區히說明할 必要가없다 이러한待遇法은 토｜키｜作家들의 特有한個性이나趣味나 嗜好性에서 오는것이아니라 그들의 토｜키｜藝術에關한 充分한 知識의 缺如로認識不足으로 그우에 音樂에關하여 無識한데 歸因된다고 생각된다。\\n토｜키｜藝術에잇어서 音樂을待遇하라는뜻은『音樂』과『映畵』를 바꾸어노랴는 말이아니다토｜키｜發達過程에잇어서 토｜키｜라는 藝術이 聽覺的現象을視象的現象과 同一한高度의地位에모시게되는事實을知覺하게됨을알고한때、토｜키｜作家들이一種의好奇心에서 音樂에멋없이醉하야 音樂을濫用、亂用한 時代가잇어섯다 婚姻잔체에 멀리서온新郞대반이 貴重하다고、新郞 대반을 主禮者뫼시고、新郞 新婦자리에 뫼신다면 그야말고喜劇일것이다 아모리新郞대반이 멀리서 오고 貴重한손님 이라치드래도 結局은新郞대반자리에 뫼야할것이다 토｜키藝術에音樂이重하다는 事實을 갑작이認識하고音樂을 映畵우에 뫼서서는안된다。 토｜키｜藝術에잇어서音樂이 重要한엘레멘트로되어 잇다하나보담더視覺的인 藝術로 看做하는 映畵藝術에서 視覺的인것을물러앉게하고 그자리에 聽衆的인것을높이모서서는 안된다 이러한禮儀는映畵藝術의 悲劇이요｜토｜키｜藝術의 喜劇일것이다\\n映畵가입(口)을가지게되고말하는 才操를배웟다고 映畵그自體가質的으로 變貌되고 몬타｜쥬가根本的으로變形되지안는다 싸이렌트가 音樂을더부러飛躍하여｜토｜키｜라는 새로운 映畵樣式이生誕되엇다하나그것이時間的인藝術임에限해서는 그形成原理로써의 몬타｜쥬의重要性은 如前히 그存在價値를發揮하는儼然한事實을잊어서는안된다 크레쇼브、프돞으킨、에젠슈틴의손으로 作成된 싸이렌트時代의 映畵文法인 몬타｜츄論은根本的으로 흔들리지안는다。 다못從來에 視覺的인 時間的藝術이視覺과 聽覺으로더부러 高次的인時間的藝術로 形成된데 不過하다。',\n",
       " '新郞新婦가溺死\\n忠州郡老隱面에서\\n【長湖院】百년가약을 굳게맹세하고 화촉동방에서 즐거운꿈을맺으랴던 신랑신부가 결혼당일에밀려드는 탁류에휩쓸리여 가련하게도 고만익사하고말은 사실이잇다지난九일경 충주군노은면 황석봉(黃錫鳳)(二七)은 청주읍이모의딸과 인생일생에 가장 기꺼운축배(祝盃)를들어 앞날에 이상적 부부가되기를 약속하고 사랑의 전당을차저 손을 마조잡고 노은면으로오던중 그들에 앞길을가로막고 도도히 밀여오는개천을건너오다 억센탁류와 싸호지못하고 아까웁게도 영원이오지못할불귀의객이 되고말엇다 한다。']"
      ]
     },
     "execution_count": 60,
     "metadata": {},
     "output_type": "execute_result"
    }
   ],
   "source": [
    "[item for item in paragraph_list if '新郞' in item]"
   ]
  },
  {
   "cell_type": "code",
   "execution_count": null,
   "metadata": {},
   "outputs": [
    {
     "name": "stdout",
     "output_type": "stream",
     "text": [
      "['新', '##郞', '되/V', 'ᆯ/E', '사람', '「', '그러/V', '어/E', '타/V', '면/E', '그', '寫眞', '을/J', '좀', '보이/V', '어/E', '주/V', '세요/E', '.']\n"
     ]
    }
   ],
   "source": [
    "print([tokenizer.id2vocab[i] for i in tokenizer.encode('新郞될 사람 「그러타면 그 寫眞을 좀 보여 주세요.')])"
   ]
  }
 ],
 "metadata": {
  "colab": {
   "authorship_tag": "ABX9TyM7R1Qlv0w+dP881fM9OVxS",
   "include_colab_link": true,
   "provenance": []
  },
  "kernelspec": {
   "display_name": "python311",
   "language": "python",
   "name": "python3"
  },
  "language_info": {
   "codemirror_mode": {
    "name": "ipython",
    "version": 3
   },
   "file_extension": ".py",
   "mimetype": "text/x-python",
   "name": "python",
   "nbconvert_exporter": "python",
   "pygments_lexer": "ipython3",
   "version": "3.11.9"
  }
 },
 "nbformat": 4,
 "nbformat_minor": 0
}
